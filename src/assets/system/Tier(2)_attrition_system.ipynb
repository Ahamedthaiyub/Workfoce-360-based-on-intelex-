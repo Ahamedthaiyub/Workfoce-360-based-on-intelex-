{
 "cells": [
  {
   "cell_type": "markdown",
   "metadata": {
    "colab_type": "text",
    "id": "view-in-github",
    "tags": []
   },
   "source": [
    "<a href=\"https://colab.research.google.com/github/Ahamedthaiyub/Workfoce360/blob/main/Tier(2)_attrition_system.ipynb\" target=\"_parent\"><img src=\"https://colab.research.google.com/assets/colab-badge.svg\" alt=\"Open In Colab\"/></a>"
   ]
  },
  {
   "cell_type": "markdown",
   "metadata": {
    "id": "B0KdeFD2l1ml"
   },
   "source": [
    "## ***Importing and instaling requirements***"
   ]
  },
  {
   "cell_type": "code",
   "execution_count": 1,
   "metadata": {
    "colab": {
     "base_uri": "https://localhost:8080/"
    },
    "id": "tw6MA6Icjg7P",
    "outputId": "75b8f95b-3f08-4640-c078-f8e5d47ec442"
   },
   "outputs": [
    {
     "name": "stdout",
     "output_type": "stream",
     "text": [
      "Defaulting to user installation because normal site-packages is not writeable\n",
      "Requirement already satisfied: google in /home/u191324/.local/lib/python3.9/site-packages (3.0.0)\n",
      "Requirement already satisfied: beautifulsoup4 in /home/u191324/.local/lib/python3.9/site-packages (from google) (4.12.2)\n",
      "Requirement already satisfied: soupsieve>1.2 in /home/u191324/.local/lib/python3.9/site-packages (from beautifulsoup4->google) (2.4.1)\n",
      "Note: you may need to restart the kernel to use updated packages.\n"
     ]
    }
   ],
   "source": [
    "pip install google"
   ]
  },
  {
   "cell_type": "code",
   "execution_count": 2,
   "metadata": {},
   "outputs": [
    {
     "name": "stdout",
     "output_type": "stream",
     "text": [
      "Defaulting to user installation because normal site-packages is not writeable\n",
      "Requirement already satisfied: keras in /home/u191324/.local/lib/python3.9/site-packages (2.12.0)\n",
      "Note: you may need to restart the kernel to use updated packages.\n"
     ]
    }
   ],
   "source": [
    "pip install keras"
   ]
  },
  {
   "cell_type": "code",
   "execution_count": 3,
   "metadata": {},
   "outputs": [],
   "source": [
    "# from google.colab import drive\n",
    "# drive.mount('/content/drive')\n"
   ]
  },
  {
   "cell_type": "code",
   "execution_count": 4,
   "metadata": {
    "colab": {
     "base_uri": "https://localhost:8080/"
    },
    "id": "P16dTn8lfTmI",
    "outputId": "bd5d2156-6ed2-495a-8657-79d824ea35e0"
   },
   "outputs": [
    {
     "name": "stdout",
     "output_type": "stream",
     "text": [
      "Defaulting to user installation because normal site-packages is not writeable\n",
      "Requirement already satisfied: scikit-learn-intelex in /home/u191324/.local/lib/python3.9/site-packages (2023.1.1)\n",
      "Requirement already satisfied: daal4py==2023.1.1 in /home/u191324/.local/lib/python3.9/site-packages (from scikit-learn-intelex) (2023.1.1)\n",
      "Requirement already satisfied: scikit-learn>=0.22 in /glob/development-tools/versions/oneapi/2023.0.1/oneapi/intelpython/python3.9/lib/python3.9/site-packages (from scikit-learn-intelex) (1.1.1)\n",
      "Requirement already satisfied: daal==2023.1.1 in /home/u191324/.local/lib/python3.9/site-packages (from daal4py==2023.1.1->scikit-learn-intelex) (2023.1.1)\n",
      "Requirement already satisfied: numpy>=1.19 in /glob/development-tools/versions/oneapi/2023.0.1/oneapi/intelpython/python3.9/lib/python3.9/site-packages (from daal4py==2023.1.1->scikit-learn-intelex) (1.22.3)\n",
      "Requirement already satisfied: tbb==2021.* in /home/u191324/.local/lib/python3.9/site-packages (from daal==2023.1.1->daal4py==2023.1.1->scikit-learn-intelex) (2021.9.0)\n",
      "Requirement already satisfied: joblib>=1.0.0 in /home/u191324/.local/lib/python3.9/site-packages (from scikit-learn>=0.22->scikit-learn-intelex) (1.2.0)\n",
      "Requirement already satisfied: threadpoolctl>=2.0.0 in /glob/development-tools/versions/oneapi/2023.0.1/oneapi/intelpython/python3.9/lib/python3.9/site-packages (from scikit-learn>=0.22->scikit-learn-intelex) (2.2.0)\n",
      "Requirement already satisfied: scipy>=1.3.2 in /glob/development-tools/versions/oneapi/2023.0.1/oneapi/intelpython/python3.9/lib/python3.9/site-packages (from scikit-learn>=0.22->scikit-learn-intelex) (1.7.3)\n",
      "Note: you may need to restart the kernel to use updated packages.\n"
     ]
    }
   ],
   "source": [
    "pip install scikit-learn-intelex"
   ]
  },
  {
   "cell_type": "code",
   "execution_count": 5,
   "metadata": {
    "colab": {
     "base_uri": "https://localhost:8080/"
    },
    "id": "DkZqmRV6Ec31",
    "outputId": "1623b28a-c927-48b0-af66-154ac7e3373f"
   },
   "outputs": [
    {
     "name": "stdout",
     "output_type": "stream",
     "text": [
      "Defaulting to user installation because normal site-packages is not writeable\n",
      "Requirement already satisfied: scikit-learn-intelex in /home/u191324/.local/lib/python3.9/site-packages (2023.1.1)\n",
      "Requirement already satisfied: daal4py==2023.1.1 in /home/u191324/.local/lib/python3.9/site-packages (from scikit-learn-intelex) (2023.1.1)\n",
      "Requirement already satisfied: scikit-learn>=0.22 in /glob/development-tools/versions/oneapi/2023.0.1/oneapi/intelpython/python3.9/lib/python3.9/site-packages (from scikit-learn-intelex) (1.1.1)\n",
      "Requirement already satisfied: numpy>=1.19 in /glob/development-tools/versions/oneapi/2023.0.1/oneapi/intelpython/python3.9/lib/python3.9/site-packages (from daal4py==2023.1.1->scikit-learn-intelex) (1.22.3)\n",
      "Requirement already satisfied: daal==2023.1.1 in /home/u191324/.local/lib/python3.9/site-packages (from daal4py==2023.1.1->scikit-learn-intelex) (2023.1.1)\n",
      "Requirement already satisfied: tbb==2021.* in /home/u191324/.local/lib/python3.9/site-packages (from daal==2023.1.1->daal4py==2023.1.1->scikit-learn-intelex) (2021.9.0)\n",
      "Requirement already satisfied: scipy>=1.3.2 in /glob/development-tools/versions/oneapi/2023.0.1/oneapi/intelpython/python3.9/lib/python3.9/site-packages (from scikit-learn>=0.22->scikit-learn-intelex) (1.7.3)\n",
      "Requirement already satisfied: joblib>=1.0.0 in /home/u191324/.local/lib/python3.9/site-packages (from scikit-learn>=0.22->scikit-learn-intelex) (1.2.0)\n",
      "Requirement already satisfied: threadpoolctl>=2.0.0 in /glob/development-tools/versions/oneapi/2023.0.1/oneapi/intelpython/python3.9/lib/python3.9/site-packages (from scikit-learn>=0.22->scikit-learn-intelex) (2.2.0)\n",
      "Note: you may need to restart the kernel to use updated packages.\n"
     ]
    }
   ],
   "source": [
    "pip install scikit-learn-intelex"
   ]
  },
  {
   "cell_type": "code",
   "execution_count": 6,
   "metadata": {
    "id": "Lj3sit2qkX21"
   },
   "outputs": [],
   "source": [
    "##importing libraries\n",
    "import pandas as pd\n",
    "import numpy as np\n"
   ]
  },
  {
   "cell_type": "code",
   "execution_count": 7,
   "metadata": {},
   "outputs": [
    {
     "name": "stdout",
     "output_type": "stream",
     "text": [
      "Defaulting to user installation because normal site-packages is not writeable\n",
      "Requirement already satisfied: seaborn in /home/u191324/.local/lib/python3.9/site-packages (0.12.2)\n",
      "Requirement already satisfied: pandas>=0.25 in /glob/development-tools/versions/oneapi/2023.0.1/oneapi/intelpython/python3.9/lib/python3.9/site-packages (from seaborn) (1.5.1)\n",
      "Requirement already satisfied: numpy!=1.24.0,>=1.17 in /glob/development-tools/versions/oneapi/2023.0.1/oneapi/intelpython/python3.9/lib/python3.9/site-packages (from seaborn) (1.22.3)\n",
      "Requirement already satisfied: matplotlib!=3.6.1,>=3.1 in /glob/development-tools/versions/oneapi/2023.0.1/oneapi/intelpython/python3.9/lib/python3.9/site-packages (from seaborn) (3.6.3)\n",
      "Requirement already satisfied: cycler>=0.10 in /glob/development-tools/versions/oneapi/2023.0.1/oneapi/intelpython/python3.9/lib/python3.9/site-packages (from matplotlib!=3.6.1,>=3.1->seaborn) (0.11.0)\n",
      "Requirement already satisfied: pillow>=6.2.0 in /glob/development-tools/versions/oneapi/2023.0.1/oneapi/intelpython/python3.9/lib/python3.9/site-packages (from matplotlib!=3.6.1,>=3.1->seaborn) (9.4.0)\n",
      "Requirement already satisfied: fonttools>=4.22.0 in /glob/development-tools/versions/oneapi/2023.0.1/oneapi/intelpython/python3.9/lib/python3.9/site-packages (from matplotlib!=3.6.1,>=3.1->seaborn) (4.38.0)\n",
      "Requirement already satisfied: python-dateutil>=2.7 in /glob/development-tools/versions/oneapi/2023.0.1/oneapi/intelpython/python3.9/lib/python3.9/site-packages (from matplotlib!=3.6.1,>=3.1->seaborn) (2.8.2)\n",
      "Requirement already satisfied: contourpy>=1.0.1 in /glob/development-tools/versions/oneapi/2023.0.1/oneapi/intelpython/python3.9/lib/python3.9/site-packages (from matplotlib!=3.6.1,>=3.1->seaborn) (1.0.7)\n",
      "Requirement already satisfied: kiwisolver>=1.0.1 in /glob/development-tools/versions/oneapi/2023.0.1/oneapi/intelpython/python3.9/lib/python3.9/site-packages (from matplotlib!=3.6.1,>=3.1->seaborn) (1.4.2)\n",
      "Requirement already satisfied: pyparsing>=2.2.1 in /glob/development-tools/versions/oneapi/2023.0.1/oneapi/intelpython/python3.9/lib/python3.9/site-packages (from matplotlib!=3.6.1,>=3.1->seaborn) (3.0.9)\n",
      "Requirement already satisfied: packaging>=20.0 in /glob/development-tools/versions/oneapi/2023.0.1/oneapi/intelpython/python3.9/lib/python3.9/site-packages (from matplotlib!=3.6.1,>=3.1->seaborn) (21.3)\n",
      "Requirement already satisfied: pytz>=2020.1 in /glob/development-tools/versions/oneapi/2023.0.1/oneapi/intelpython/python3.9/lib/python3.9/site-packages (from pandas>=0.25->seaborn) (2022.1)\n",
      "Requirement already satisfied: six>=1.5 in /glob/development-tools/versions/oneapi/2023.0.1/oneapi/intelpython/python3.9/lib/python3.9/site-packages (from python-dateutil>=2.7->matplotlib!=3.6.1,>=3.1->seaborn) (1.16.0)\n",
      "Note: you may need to restart the kernel to use updated packages.\n"
     ]
    }
   ],
   "source": [
    "pip install seaborn"
   ]
  },
  {
   "cell_type": "code",
   "execution_count": 8,
   "metadata": {
    "colab": {
     "base_uri": "https://localhost:8080/"
    },
    "id": "9OVn4AaMZgyT",
    "outputId": "e6a6f1f8-91bb-43f0-9f65-6117d2128aef"
   },
   "outputs": [
    {
     "name": "stderr",
     "output_type": "stream",
     "text": [
      "Intel(R) Extension for Scikit-learn* enabled (https://github.com/intel/scikit-learn-intelex)\n"
     ]
    }
   ],
   "source": [
    "from sklearnex import patch_sklearn\n",
    "patch_sklearn()\n",
    "import pandas as pd\n",
    "import time\n",
    "\n",
    "from sklearn.model_selection import train_test_split\n",
    "import numpy as np\n",
    "from sklearn.naive_bayes import MultinomialNB\n",
    "from sklearn.metrics import classification_report\n",
    "from matplotlib import pyplot as plt\n",
    "import seaborn as sn\n",
    "from sklearn.metrics import confusion_matrix\n",
    "from sklearn.ensemble import RandomForestClassifier\n",
    "from sklearn import neural_network \n",
    "from sklearn import tree\n",
    "from sklearn.feature_extraction.text import TfidfVectorizer\n",
    "from imblearn.over_sampling import SMOTE"
   ]
  },
  {
   "cell_type": "code",
   "execution_count": 9,
   "metadata": {},
   "outputs": [
    {
     "name": "stdout",
     "output_type": "stream",
     "text": [
      "Defaulting to user installation because normal site-packages is not writeable\n",
      "Requirement already satisfied: imbalanced-learn in /home/u191324/.local/lib/python3.9/site-packages (0.10.1)\n",
      "Requirement already satisfied: threadpoolctl>=2.0.0 in /glob/development-tools/versions/oneapi/2023.0.1/oneapi/intelpython/python3.9/lib/python3.9/site-packages (from imbalanced-learn) (2.2.0)\n",
      "Requirement already satisfied: joblib>=1.1.1 in /home/u191324/.local/lib/python3.9/site-packages (from imbalanced-learn) (1.2.0)\n",
      "Requirement already satisfied: scikit-learn>=1.0.2 in /glob/development-tools/versions/oneapi/2023.0.1/oneapi/intelpython/python3.9/lib/python3.9/site-packages (from imbalanced-learn) (1.1.1)\n",
      "Requirement already satisfied: numpy>=1.17.3 in /glob/development-tools/versions/oneapi/2023.0.1/oneapi/intelpython/python3.9/lib/python3.9/site-packages (from imbalanced-learn) (1.22.3)\n",
      "Requirement already satisfied: scipy>=1.3.2 in /glob/development-tools/versions/oneapi/2023.0.1/oneapi/intelpython/python3.9/lib/python3.9/site-packages (from imbalanced-learn) (1.7.3)\n"
     ]
    }
   ],
   "source": [
    "! pip install -U imbalanced-learn\n",
    "\n",
    "# !pip install imblearn\n",
    "# pip install -c glemaitre imbalanced-learn\n",
    "# pip install imblearn==0.0"
   ]
  },
  {
   "cell_type": "code",
   "execution_count": null,
   "metadata": {},
   "outputs": [],
   "source": []
  },
  {
   "cell_type": "code",
   "execution_count": 10,
   "metadata": {},
   "outputs": [
    {
     "name": "stdout",
     "output_type": "stream",
     "text": [
      "Defaulting to user installation because normal site-packages is not writeable\n",
      "Requirement already satisfied: imblearn in /home/u191324/.local/lib/python3.9/site-packages (0.0)\n",
      "Requirement already satisfied: imbalanced-learn in /home/u191324/.local/lib/python3.9/site-packages (from imblearn) (0.10.1)\n",
      "Requirement already satisfied: scikit-learn>=1.0.2 in /glob/development-tools/versions/oneapi/2023.0.1/oneapi/intelpython/python3.9/lib/python3.9/site-packages (from imbalanced-learn->imblearn) (1.1.1)\n",
      "Requirement already satisfied: joblib>=1.1.1 in /home/u191324/.local/lib/python3.9/site-packages (from imbalanced-learn->imblearn) (1.2.0)\n",
      "Requirement already satisfied: scipy>=1.3.2 in /glob/development-tools/versions/oneapi/2023.0.1/oneapi/intelpython/python3.9/lib/python3.9/site-packages (from imbalanced-learn->imblearn) (1.7.3)\n",
      "Requirement already satisfied: threadpoolctl>=2.0.0 in /glob/development-tools/versions/oneapi/2023.0.1/oneapi/intelpython/python3.9/lib/python3.9/site-packages (from imbalanced-learn->imblearn) (2.2.0)\n",
      "Requirement already satisfied: numpy>=1.17.3 in /glob/development-tools/versions/oneapi/2023.0.1/oneapi/intelpython/python3.9/lib/python3.9/site-packages (from imbalanced-learn->imblearn) (1.22.3)\n"
     ]
    }
   ],
   "source": [
    "\n",
    "!pip install imblearn"
   ]
  },
  {
   "cell_type": "code",
   "execution_count": 11,
   "metadata": {},
   "outputs": [
    {
     "name": "stdout",
     "output_type": "stream",
     "text": [
      "Defaulting to user installation because normal site-packages is not writeable\n",
      "Requirement already satisfied: imblearn in /home/u191324/.local/lib/python3.9/site-packages (0.0)\n",
      "Requirement already satisfied: imbalanced-learn in /home/u191324/.local/lib/python3.9/site-packages (from imblearn) (0.10.1)\n",
      "Requirement already satisfied: scikit-learn>=1.0.2 in /glob/development-tools/versions/oneapi/2023.0.1/oneapi/intelpython/python3.9/lib/python3.9/site-packages (from imbalanced-learn->imblearn) (1.1.1)\n",
      "Requirement already satisfied: numpy>=1.17.3 in /glob/development-tools/versions/oneapi/2023.0.1/oneapi/intelpython/python3.9/lib/python3.9/site-packages (from imbalanced-learn->imblearn) (1.22.3)\n",
      "Requirement already satisfied: scipy>=1.3.2 in /glob/development-tools/versions/oneapi/2023.0.1/oneapi/intelpython/python3.9/lib/python3.9/site-packages (from imbalanced-learn->imblearn) (1.7.3)\n",
      "Requirement already satisfied: threadpoolctl>=2.0.0 in /glob/development-tools/versions/oneapi/2023.0.1/oneapi/intelpython/python3.9/lib/python3.9/site-packages (from imbalanced-learn->imblearn) (2.2.0)\n",
      "Requirement already satisfied: joblib>=1.1.1 in /home/u191324/.local/lib/python3.9/site-packages (from imbalanced-learn->imblearn) (1.2.0)\n",
      "Note: you may need to restart the kernel to use updated packages.\n"
     ]
    }
   ],
   "source": [
    "pip install imblearn"
   ]
  },
  {
   "cell_type": "code",
   "execution_count": 12,
   "metadata": {},
   "outputs": [
    {
     "name": "stdout",
     "output_type": "stream",
     "text": [
      "Defaulting to user installation because normal site-packages is not writeable\n",
      "Requirement already satisfied: seaborn in /home/u191324/.local/lib/python3.9/site-packages (0.12.2)\n",
      "Requirement already satisfied: pandas>=0.25 in /glob/development-tools/versions/oneapi/2023.0.1/oneapi/intelpython/python3.9/lib/python3.9/site-packages (from seaborn) (1.5.1)\n",
      "Requirement already satisfied: matplotlib!=3.6.1,>=3.1 in /glob/development-tools/versions/oneapi/2023.0.1/oneapi/intelpython/python3.9/lib/python3.9/site-packages (from seaborn) (3.6.3)\n",
      "Requirement already satisfied: numpy!=1.24.0,>=1.17 in /glob/development-tools/versions/oneapi/2023.0.1/oneapi/intelpython/python3.9/lib/python3.9/site-packages (from seaborn) (1.22.3)\n",
      "Requirement already satisfied: kiwisolver>=1.0.1 in /glob/development-tools/versions/oneapi/2023.0.1/oneapi/intelpython/python3.9/lib/python3.9/site-packages (from matplotlib!=3.6.1,>=3.1->seaborn) (1.4.2)\n",
      "Requirement already satisfied: python-dateutil>=2.7 in /glob/development-tools/versions/oneapi/2023.0.1/oneapi/intelpython/python3.9/lib/python3.9/site-packages (from matplotlib!=3.6.1,>=3.1->seaborn) (2.8.2)\n",
      "Requirement already satisfied: packaging>=20.0 in /glob/development-tools/versions/oneapi/2023.0.1/oneapi/intelpython/python3.9/lib/python3.9/site-packages (from matplotlib!=3.6.1,>=3.1->seaborn) (21.3)\n",
      "Requirement already satisfied: contourpy>=1.0.1 in /glob/development-tools/versions/oneapi/2023.0.1/oneapi/intelpython/python3.9/lib/python3.9/site-packages (from matplotlib!=3.6.1,>=3.1->seaborn) (1.0.7)\n",
      "Requirement already satisfied: cycler>=0.10 in /glob/development-tools/versions/oneapi/2023.0.1/oneapi/intelpython/python3.9/lib/python3.9/site-packages (from matplotlib!=3.6.1,>=3.1->seaborn) (0.11.0)\n",
      "Requirement already satisfied: fonttools>=4.22.0 in /glob/development-tools/versions/oneapi/2023.0.1/oneapi/intelpython/python3.9/lib/python3.9/site-packages (from matplotlib!=3.6.1,>=3.1->seaborn) (4.38.0)\n",
      "Requirement already satisfied: pyparsing>=2.2.1 in /glob/development-tools/versions/oneapi/2023.0.1/oneapi/intelpython/python3.9/lib/python3.9/site-packages (from matplotlib!=3.6.1,>=3.1->seaborn) (3.0.9)\n",
      "Requirement already satisfied: pillow>=6.2.0 in /glob/development-tools/versions/oneapi/2023.0.1/oneapi/intelpython/python3.9/lib/python3.9/site-packages (from matplotlib!=3.6.1,>=3.1->seaborn) (9.4.0)\n",
      "Requirement already satisfied: pytz>=2020.1 in /glob/development-tools/versions/oneapi/2023.0.1/oneapi/intelpython/python3.9/lib/python3.9/site-packages (from pandas>=0.25->seaborn) (2022.1)\n",
      "Requirement already satisfied: six>=1.5 in /glob/development-tools/versions/oneapi/2023.0.1/oneapi/intelpython/python3.9/lib/python3.9/site-packages (from python-dateutil>=2.7->matplotlib!=3.6.1,>=3.1->seaborn) (1.16.0)\n",
      "Note: you may need to restart the kernel to use updated packages.\n"
     ]
    }
   ],
   "source": [
    "pip install seaborn"
   ]
  },
  {
   "cell_type": "code",
   "execution_count": 13,
   "metadata": {
    "colab": {
     "base_uri": "https://localhost:8080/"
    },
    "id": "J0v2SVD-fn_O",
    "outputId": "52fefa7b-a4b3-48cb-ab56-fdd8c02c1c8c"
   },
   "outputs": [
    {
     "name": "stderr",
     "output_type": "stream",
     "text": [
      "Intel(R) Extension for Scikit-learn* enabled (https://github.com/intel/scikit-learn-intelex)\n"
     ]
    }
   ],
   "source": [
    "#importing Machine larning libraries\n",
    "from sklearn import preprocessing\n",
    "from sklearnex import patch_sklearn\n",
    "patch_sklearn()\n",
    "\n",
    "from sklearn.impute import SimpleImputer\n",
    "\n",
    "from sklearn.compose import ColumnTransformer\n",
    "\n",
    "from sklearn.preprocessing import StandardScaler\n",
    "from sklearn.preprocessing import OneHotEncoder\n",
    "from sklearn.model_selection import train_test_split\n",
    "from sklearn.pipeline import Pipeline\n",
    "from sklearn.model_selection import GridSearchCV, cross_val_score, StratifiedKFold\n",
    "\n",
    "from sklearn.tree import DecisionTreeClassifier\n",
    "from sklearn.ensemble import RandomForestClassifier\n",
    "from sklearn.svm import SVC\n",
    "from sklearn.linear_model import LogisticRegression\n",
    "\n",
    "from sklearn.ensemble import GradientBoostingClassifier\n",
    "from sklearn.ensemble import AdaBoostClassifier\n",
    "from sklearn.metrics import confusion_matrix\n",
    "\n",
    "import matplotlib.pyplot as plt\n",
    "import seaborn as sns\n",
    "from imblearn.over_sampling import SMOTE\n",
    "from sklearn.metrics import accuracy_score, recall_score, precision_score, f1_score\n",
    "\n",
    "\n",
    "import warnings\n",
    "warnings.filterwarnings('ignore')"
   ]
  },
  {
   "cell_type": "code",
   "execution_count": 14,
   "metadata": {},
   "outputs": [
    {
     "data": {
      "text/plain": [
       "'/home/u191324/inteloneapi hackathon/Untitled Folder/wokforce 360'"
      ]
     },
     "execution_count": 14,
     "metadata": {},
     "output_type": "execute_result"
    }
   ],
   "source": [
    "import os\n",
    "os.getcwd()"
   ]
  },
  {
   "cell_type": "markdown",
   "metadata": {
    "id": "4C5Y5LcxkLeF"
   },
   "source": [
    "## **PROBLEM STATEMENT(tier 2)**\n",
    "Employee attrition is a significant issue for companies, resulting in substantial costs for hiring, retraining, productivity, and work loss for each employee who leaves. To address this, a model needs to be built to predict whether an employee is likely to quit in the near future."
   ]
  },
  {
   "cell_type": "markdown",
   "metadata": {
    "id": "jNTjPjPQkXLx"
   },
   "source": [
    "# Reading the data sets & knowing about each attribute."
   ]
  },
  {
   "cell_type": "code",
   "execution_count": 15,
   "metadata": {
    "id": "pjMLIKAyk1K9"
   },
   "outputs": [],
   "source": [
    "##reading train_data \n",
    "#Reading train_data \n",
    "train_attrition = pd.read_csv(\"/home/u191324/inteloneapi hackathon/Untitled Folder/wokforce 360/train_attrition.csv\")\n",
    "train_work = pd.read_csv(\"/home/u191324/inteloneapi hackathon/Untitled Folder/wokforce 360/train_work.csv\")\n"
   ]
  },
  {
   "cell_type": "code",
   "execution_count": 16,
   "metadata": {
    "id": "awmBvIAFlH_g"
   },
   "outputs": [],
   "source": [
    "#Reading the employee_data\n",
    "emp_data = pd.read_csv(\"/home/u191324/inteloneapi hackathon/Untitled Folder/wokforce 360/employee_data.csv\")"
   ]
  },
  {
   "cell_type": "code",
   "execution_count": 17,
   "metadata": {
    "id": "t3nG5C0GmEK6"
   },
   "outputs": [],
   "source": [
    "#Reading the test data \n",
    "test_attrition = pd.read_csv(\"/home/u191324/inteloneapi hackathon/Untitled Folder/wokforce 360/test_attrition.csv\")\n",
    "test_work = pd.read_csv(\"/home/u191324/inteloneapi hackathon/Untitled Folder/wokforce 360/test_work.csv\")"
   ]
  },
  {
   "cell_type": "markdown",
   "metadata": {
    "id": "d2a5PPUVmbx_"
   },
   "source": [
    "##viewing train_work\n"
   ]
  },
  {
   "cell_type": "code",
   "execution_count": 18,
   "metadata": {
    "colab": {
     "base_uri": "https://localhost:8080/",
     "height": 206
    },
    "id": "YVmvc4O3p35k",
    "outputId": "52ff18fa-c5e3-4f91-eda1-1a880eb832ce"
   },
   "outputs": [
    {
     "data": {
      "text/html": [
       "<div>\n",
       "<style scoped>\n",
       "    .dataframe tbody tr th:only-of-type {\n",
       "        vertical-align: middle;\n",
       "    }\n",
       "\n",
       "    .dataframe tbody tr th {\n",
       "        vertical-align: top;\n",
       "    }\n",
       "\n",
       "    .dataframe thead th {\n",
       "        text-align: right;\n",
       "    }\n",
       "</style>\n",
       "<table border=\"1\" class=\"dataframe\">\n",
       "  <thead>\n",
       "    <tr style=\"text-align: right;\">\n",
       "      <th></th>\n",
       "      <th>EmployeeID</th>\n",
       "      <th>TotalWorkingHours</th>\n",
       "      <th>Billable_Hours</th>\n",
       "      <th>Hours_off_Duty</th>\n",
       "      <th>Touring_Hours</th>\n",
       "      <th>NoOfProjects</th>\n",
       "      <th>ActualTimeSpent</th>\n",
       "    </tr>\n",
       "  </thead>\n",
       "  <tbody>\n",
       "    <tr>\n",
       "      <th>0</th>\n",
       "      <td>emp-1</td>\n",
       "      <td>184.0</td>\n",
       "      <td>144.0</td>\n",
       "      <td>40.0</td>\n",
       "      <td>144.0</td>\n",
       "      <td>3</td>\n",
       "      <td>77</td>\n",
       "    </tr>\n",
       "    <tr>\n",
       "      <th>1</th>\n",
       "      <td>emp-1</td>\n",
       "      <td>176.0</td>\n",
       "      <td>136.0</td>\n",
       "      <td>40.0</td>\n",
       "      <td>136.0</td>\n",
       "      <td>2</td>\n",
       "      <td>98</td>\n",
       "    </tr>\n",
       "    <tr>\n",
       "      <th>2</th>\n",
       "      <td>emp-1</td>\n",
       "      <td>200.0</td>\n",
       "      <td>120.0</td>\n",
       "      <td>72.0</td>\n",
       "      <td>120.0</td>\n",
       "      <td>1</td>\n",
       "      <td>14</td>\n",
       "    </tr>\n",
       "    <tr>\n",
       "      <th>3</th>\n",
       "      <td>emp-1</td>\n",
       "      <td>160.0</td>\n",
       "      <td>144.0</td>\n",
       "      <td>8.0</td>\n",
       "      <td>144.0</td>\n",
       "      <td>3</td>\n",
       "      <td>147</td>\n",
       "    </tr>\n",
       "    <tr>\n",
       "      <th>4</th>\n",
       "      <td>emp-1</td>\n",
       "      <td>171.0</td>\n",
       "      <td>135.0</td>\n",
       "      <td>0.0</td>\n",
       "      <td>135.0</td>\n",
       "      <td>1</td>\n",
       "      <td>42</td>\n",
       "    </tr>\n",
       "  </tbody>\n",
       "</table>\n",
       "</div>"
      ],
      "text/plain": [
       "  EmployeeID  TotalWorkingHours  Billable_Hours  Hours_off_Duty  \\\n",
       "0      emp-1              184.0           144.0            40.0   \n",
       "1      emp-1              176.0           136.0            40.0   \n",
       "2      emp-1              200.0           120.0            72.0   \n",
       "3      emp-1              160.0           144.0             8.0   \n",
       "4      emp-1              171.0           135.0             0.0   \n",
       "\n",
       "   Touring_Hours  NoOfProjects  ActualTimeSpent  \n",
       "0          144.0             3               77  \n",
       "1          136.0             2               98  \n",
       "2          120.0             1               14  \n",
       "3          144.0             3              147  \n",
       "4          135.0             1               42  "
      ]
     },
     "execution_count": 18,
     "metadata": {},
     "output_type": "execute_result"
    }
   ],
   "source": [
    "train_work.head()"
   ]
  },
  {
   "cell_type": "markdown",
   "metadata": {
    "id": "_1cnI6-RmHlB"
   },
   "source": [
    "## viewing of all datasets\n",
    "\n"
   ]
  },
  {
   "cell_type": "code",
   "execution_count": 19,
   "metadata": {
    "colab": {
     "base_uri": "https://localhost:8080/",
     "height": 206
    },
    "id": "CYum9nbkmLRE",
    "outputId": "a0a03224-9001-40c2-82da-35bdaa570991"
   },
   "outputs": [
    {
     "data": {
      "text/html": [
       "<div>\n",
       "<style scoped>\n",
       "    .dataframe tbody tr th:only-of-type {\n",
       "        vertical-align: middle;\n",
       "    }\n",
       "\n",
       "    .dataframe tbody tr th {\n",
       "        vertical-align: top;\n",
       "    }\n",
       "\n",
       "    .dataframe thead th {\n",
       "        text-align: right;\n",
       "    }\n",
       "</style>\n",
       "<table border=\"1\" class=\"dataframe\">\n",
       "  <thead>\n",
       "    <tr style=\"text-align: right;\">\n",
       "      <th></th>\n",
       "      <th>EmployeeID</th>\n",
       "      <th>Left_Company</th>\n",
       "    </tr>\n",
       "  </thead>\n",
       "  <tbody>\n",
       "    <tr>\n",
       "      <th>0</th>\n",
       "      <td>emp-1</td>\n",
       "      <td>0</td>\n",
       "    </tr>\n",
       "    <tr>\n",
       "      <th>1</th>\n",
       "      <td>emp-10</td>\n",
       "      <td>1</td>\n",
       "    </tr>\n",
       "    <tr>\n",
       "      <th>2</th>\n",
       "      <td>emp-100</td>\n",
       "      <td>0</td>\n",
       "    </tr>\n",
       "    <tr>\n",
       "      <th>3</th>\n",
       "      <td>emp-101</td>\n",
       "      <td>0</td>\n",
       "    </tr>\n",
       "    <tr>\n",
       "      <th>4</th>\n",
       "      <td>emp-102</td>\n",
       "      <td>0</td>\n",
       "    </tr>\n",
       "  </tbody>\n",
       "</table>\n",
       "</div>"
      ],
      "text/plain": [
       "  EmployeeID  Left_Company\n",
       "0      emp-1             0\n",
       "1     emp-10             1\n",
       "2    emp-100             0\n",
       "3    emp-101             0\n",
       "4    emp-102             0"
      ]
     },
     "execution_count": 19,
     "metadata": {},
     "output_type": "execute_result"
    }
   ],
   "source": [
    "##viewing train attrition\n",
    "train_attrition.head()"
   ]
  },
  {
   "cell_type": "code",
   "execution_count": 20,
   "metadata": {
    "colab": {
     "base_uri": "https://localhost:8080/",
     "height": 206
    },
    "id": "TA9JZao4msFM",
    "outputId": "ee5c712f-964d-4dd3-fc73-1543e58b17eb"
   },
   "outputs": [
    {
     "data": {
      "text/html": [
       "<div>\n",
       "<style scoped>\n",
       "    .dataframe tbody tr th:only-of-type {\n",
       "        vertical-align: middle;\n",
       "    }\n",
       "\n",
       "    .dataframe tbody tr th {\n",
       "        vertical-align: top;\n",
       "    }\n",
       "\n",
       "    .dataframe thead th {\n",
       "        text-align: right;\n",
       "    }\n",
       "</style>\n",
       "<table border=\"1\" class=\"dataframe\">\n",
       "  <thead>\n",
       "    <tr style=\"text-align: right;\">\n",
       "      <th></th>\n",
       "      <th>EmployeeID</th>\n",
       "      <th>Job_History</th>\n",
       "      <th>Joining_Date</th>\n",
       "      <th>Designation</th>\n",
       "      <th>Sex</th>\n",
       "    </tr>\n",
       "  </thead>\n",
       "  <tbody>\n",
       "    <tr>\n",
       "      <th>0</th>\n",
       "      <td>emp-10</td>\n",
       "      <td>Worked at Company - 816 , Company - 724 , Comp...</td>\n",
       "      <td>2006_02</td>\n",
       "      <td>VP</td>\n",
       "      <td>0</td>\n",
       "    </tr>\n",
       "    <tr>\n",
       "      <th>1</th>\n",
       "      <td>emp-108</td>\n",
       "      <td>Worked at Company - 205 , Company - 373 , Comp...</td>\n",
       "      <td>2012_01</td>\n",
       "      <td>VP</td>\n",
       "      <td>1</td>\n",
       "    </tr>\n",
       "    <tr>\n",
       "      <th>2</th>\n",
       "      <td>emp-115</td>\n",
       "      <td>Worked at Company - 690 , Company - 280 , Comp...</td>\n",
       "      <td>2012_02</td>\n",
       "      <td>Senior</td>\n",
       "      <td>1</td>\n",
       "    </tr>\n",
       "    <tr>\n",
       "      <th>3</th>\n",
       "      <td>emp-121</td>\n",
       "      <td>Worked at Company - 684 , Company - 159 , Comp...</td>\n",
       "      <td>2012_03</td>\n",
       "      <td>VP</td>\n",
       "      <td>1</td>\n",
       "    </tr>\n",
       "    <tr>\n",
       "      <th>4</th>\n",
       "      <td>emp-138</td>\n",
       "      <td>Worked at Company - 443 , Company - 121 , Comp...</td>\n",
       "      <td>2012_05</td>\n",
       "      <td>Senior</td>\n",
       "      <td>1</td>\n",
       "    </tr>\n",
       "  </tbody>\n",
       "</table>\n",
       "</div>"
      ],
      "text/plain": [
       "  EmployeeID                                        Job_History Joining_Date  \\\n",
       "0     emp-10  Worked at Company - 816 , Company - 724 , Comp...      2006_02   \n",
       "1    emp-108  Worked at Company - 205 , Company - 373 , Comp...      2012_01   \n",
       "2    emp-115  Worked at Company - 690 , Company - 280 , Comp...      2012_02   \n",
       "3    emp-121  Worked at Company - 684 , Company - 159 , Comp...      2012_03   \n",
       "4    emp-138  Worked at Company - 443 , Company - 121 , Comp...      2012_05   \n",
       "\n",
       "  Designation  Sex  \n",
       "0          VP    0  \n",
       "1          VP    1  \n",
       "2      Senior    1  \n",
       "3          VP    1  \n",
       "4      Senior    1  "
      ]
     },
     "execution_count": 20,
     "metadata": {},
     "output_type": "execute_result"
    }
   ],
   "source": [
    "# viewing  emp_data\n",
    "emp_data.head()"
   ]
  },
  {
   "cell_type": "code",
   "execution_count": 21,
   "metadata": {
    "colab": {
     "base_uri": "https://localhost:8080/"
    },
    "id": "DbpS3RGdnH-e",
    "outputId": "48faec4d-8bbd-4b8d-b5f9-b905416c3888"
   },
   "outputs": [
    {
     "name": "stdout",
     "output_type": "stream",
     "text": [
      "The train_attrition has 245 rows & 2 columns.\n",
      "The train_work has 3983 rows & 7 columns.\n"
     ]
    }
   ],
   "source": [
    "##dimensions \n",
    "\n",
    "print(\"The train_attrition has {} rows & {} columns.\" .format(train_attrition.shape[0], train_attrition.shape[1]))\n",
    "print(\"The train_work has {} rows & {} columns.\" .format(train_work.shape[0], train_work.shape[1]))\n"
   ]
  },
  {
   "cell_type": "code",
   "execution_count": 22,
   "metadata": {
    "colab": {
     "base_uri": "https://localhost:8080/"
    },
    "id": "Tgt2jjN_oxee",
    "outputId": "62bb8f66-8232-410e-825b-ab17fb030d21"
   },
   "outputs": [
    {
     "name": "stdout",
     "output_type": "stream",
     "text": [
      "The employee data has 296 rows & 5 columns.\n"
     ]
    }
   ],
   "source": [
    "print(\"The employee data has {} rows & {} columns.\" .format(emp_data.shape[0], emp_data.shape[1]))"
   ]
  },
  {
   "cell_type": "code",
   "execution_count": 23,
   "metadata": {
    "colab": {
     "base_uri": "https://localhost:8080/",
     "height": 206
    },
    "id": "IXOAFdw1qSov",
    "outputId": "a1dc4a20-a7d5-42bc-9373-6cbce256efbe"
   },
   "outputs": [
    {
     "data": {
      "text/html": [
       "<div>\n",
       "<style scoped>\n",
       "    .dataframe tbody tr th:only-of-type {\n",
       "        vertical-align: middle;\n",
       "    }\n",
       "\n",
       "    .dataframe tbody tr th {\n",
       "        vertical-align: top;\n",
       "    }\n",
       "\n",
       "    .dataframe thead th {\n",
       "        text-align: right;\n",
       "    }\n",
       "</style>\n",
       "<table border=\"1\" class=\"dataframe\">\n",
       "  <thead>\n",
       "    <tr style=\"text-align: right;\">\n",
       "      <th></th>\n",
       "      <th>EmployeeID</th>\n",
       "      <th>TotalWorkingHours</th>\n",
       "      <th>Billable_Hours</th>\n",
       "      <th>Hours_off_Duty</th>\n",
       "      <th>Touring_Hours</th>\n",
       "      <th>NoOfProjects</th>\n",
       "      <th>ActualTimeSpent</th>\n",
       "    </tr>\n",
       "  </thead>\n",
       "  <tbody>\n",
       "    <tr>\n",
       "      <th>0</th>\n",
       "      <td>emp-1</td>\n",
       "      <td>184.0</td>\n",
       "      <td>144.0</td>\n",
       "      <td>40.0</td>\n",
       "      <td>144.0</td>\n",
       "      <td>3</td>\n",
       "      <td>77</td>\n",
       "    </tr>\n",
       "    <tr>\n",
       "      <th>1</th>\n",
       "      <td>emp-1</td>\n",
       "      <td>176.0</td>\n",
       "      <td>136.0</td>\n",
       "      <td>40.0</td>\n",
       "      <td>136.0</td>\n",
       "      <td>2</td>\n",
       "      <td>98</td>\n",
       "    </tr>\n",
       "    <tr>\n",
       "      <th>2</th>\n",
       "      <td>emp-1</td>\n",
       "      <td>200.0</td>\n",
       "      <td>120.0</td>\n",
       "      <td>72.0</td>\n",
       "      <td>120.0</td>\n",
       "      <td>1</td>\n",
       "      <td>14</td>\n",
       "    </tr>\n",
       "    <tr>\n",
       "      <th>3</th>\n",
       "      <td>emp-1</td>\n",
       "      <td>160.0</td>\n",
       "      <td>144.0</td>\n",
       "      <td>8.0</td>\n",
       "      <td>144.0</td>\n",
       "      <td>3</td>\n",
       "      <td>147</td>\n",
       "    </tr>\n",
       "    <tr>\n",
       "      <th>4</th>\n",
       "      <td>emp-1</td>\n",
       "      <td>171.0</td>\n",
       "      <td>135.0</td>\n",
       "      <td>0.0</td>\n",
       "      <td>135.0</td>\n",
       "      <td>1</td>\n",
       "      <td>42</td>\n",
       "    </tr>\n",
       "  </tbody>\n",
       "</table>\n",
       "</div>"
      ],
      "text/plain": [
       "  EmployeeID  TotalWorkingHours  Billable_Hours  Hours_off_Duty  \\\n",
       "0      emp-1              184.0           144.0            40.0   \n",
       "1      emp-1              176.0           136.0            40.0   \n",
       "2      emp-1              200.0           120.0            72.0   \n",
       "3      emp-1              160.0           144.0             8.0   \n",
       "4      emp-1              171.0           135.0             0.0   \n",
       "\n",
       "   Touring_Hours  NoOfProjects  ActualTimeSpent  \n",
       "0          144.0             3               77  \n",
       "1          136.0             2               98  \n",
       "2          120.0             1               14  \n",
       "3          144.0             3              147  \n",
       "4          135.0             1               42  "
      ]
     },
     "execution_count": 23,
     "metadata": {},
     "output_type": "execute_result"
    }
   ],
   "source": [
    "train_work.head() "
   ]
  },
  {
   "cell_type": "code",
   "execution_count": 24,
   "metadata": {
    "colab": {
     "base_uri": "https://localhost:8080/",
     "height": 206
    },
    "id": "rwtCRdbEqU33",
    "outputId": "550ba2a1-555e-44d4-e581-1d51a9026723"
   },
   "outputs": [
    {
     "data": {
      "text/html": [
       "<div>\n",
       "<style scoped>\n",
       "    .dataframe tbody tr th:only-of-type {\n",
       "        vertical-align: middle;\n",
       "    }\n",
       "\n",
       "    .dataframe tbody tr th {\n",
       "        vertical-align: top;\n",
       "    }\n",
       "\n",
       "    .dataframe thead th {\n",
       "        text-align: right;\n",
       "    }\n",
       "</style>\n",
       "<table border=\"1\" class=\"dataframe\">\n",
       "  <thead>\n",
       "    <tr style=\"text-align: right;\">\n",
       "      <th></th>\n",
       "      <th>EmployeeID</th>\n",
       "      <th>Left_Company</th>\n",
       "    </tr>\n",
       "  </thead>\n",
       "  <tbody>\n",
       "    <tr>\n",
       "      <th>0</th>\n",
       "      <td>emp-1</td>\n",
       "      <td>0</td>\n",
       "    </tr>\n",
       "    <tr>\n",
       "      <th>1</th>\n",
       "      <td>emp-10</td>\n",
       "      <td>1</td>\n",
       "    </tr>\n",
       "    <tr>\n",
       "      <th>2</th>\n",
       "      <td>emp-100</td>\n",
       "      <td>0</td>\n",
       "    </tr>\n",
       "    <tr>\n",
       "      <th>3</th>\n",
       "      <td>emp-101</td>\n",
       "      <td>0</td>\n",
       "    </tr>\n",
       "    <tr>\n",
       "      <th>4</th>\n",
       "      <td>emp-102</td>\n",
       "      <td>0</td>\n",
       "    </tr>\n",
       "  </tbody>\n",
       "</table>\n",
       "</div>"
      ],
      "text/plain": [
       "  EmployeeID  Left_Company\n",
       "0      emp-1             0\n",
       "1     emp-10             1\n",
       "2    emp-100             0\n",
       "3    emp-101             0\n",
       "4    emp-102             0"
      ]
     },
     "execution_count": 24,
     "metadata": {},
     "output_type": "execute_result"
    }
   ],
   "source": [
    "\n",
    "train_attrition.head() "
   ]
  },
  {
   "cell_type": "code",
   "execution_count": 25,
   "metadata": {
    "id": "nxfMRfFWqrCu"
   },
   "outputs": [],
   "source": [
    "train_emp_data = pd.merge(train_attrition, emp_data, how='left', on='EmployeeID')"
   ]
  },
  {
   "cell_type": "code",
   "execution_count": 26,
   "metadata": {
    "colab": {
     "base_uri": "https://localhost:8080/"
    },
    "id": "AzLygOeOq3kk",
    "outputId": "d6d6d5b2-ef5b-46ae-c647-9db939b68711"
   },
   "outputs": [
    {
     "data": {
      "text/plain": [
       "(245, 6)"
      ]
     },
     "execution_count": 26,
     "metadata": {},
     "output_type": "execute_result"
    }
   ],
   "source": [
    "train_emp_data.shape"
   ]
  },
  {
   "cell_type": "code",
   "execution_count": 27,
   "metadata": {
    "colab": {
     "base_uri": "https://localhost:8080/",
     "height": 206
    },
    "id": "7TehuKQ6q-ua",
    "outputId": "cd07f1b3-b4c7-4ce0-b992-de0be8f28b1f"
   },
   "outputs": [
    {
     "data": {
      "text/html": [
       "<div>\n",
       "<style scoped>\n",
       "    .dataframe tbody tr th:only-of-type {\n",
       "        vertical-align: middle;\n",
       "    }\n",
       "\n",
       "    .dataframe tbody tr th {\n",
       "        vertical-align: top;\n",
       "    }\n",
       "\n",
       "    .dataframe thead th {\n",
       "        text-align: right;\n",
       "    }\n",
       "</style>\n",
       "<table border=\"1\" class=\"dataframe\">\n",
       "  <thead>\n",
       "    <tr style=\"text-align: right;\">\n",
       "      <th></th>\n",
       "      <th>EmployeeID</th>\n",
       "      <th>Left_Company</th>\n",
       "      <th>Job_History</th>\n",
       "      <th>Joining_Date</th>\n",
       "      <th>Designation</th>\n",
       "      <th>Sex</th>\n",
       "    </tr>\n",
       "  </thead>\n",
       "  <tbody>\n",
       "    <tr>\n",
       "      <th>0</th>\n",
       "      <td>emp-1</td>\n",
       "      <td>0</td>\n",
       "      <td>Worked at Company - 639 , Company - 212 , Comp...</td>\n",
       "      <td>2011_01</td>\n",
       "      <td>MD</td>\n",
       "      <td>1</td>\n",
       "    </tr>\n",
       "    <tr>\n",
       "      <th>1</th>\n",
       "      <td>emp-10</td>\n",
       "      <td>1</td>\n",
       "      <td>Worked at Company - 816 , Company - 724 , Comp...</td>\n",
       "      <td>2006_02</td>\n",
       "      <td>VP</td>\n",
       "      <td>0</td>\n",
       "    </tr>\n",
       "    <tr>\n",
       "      <th>2</th>\n",
       "      <td>emp-100</td>\n",
       "      <td>0</td>\n",
       "      <td>Worked at Company - 562 , Company - 319</td>\n",
       "      <td>2011_12</td>\n",
       "      <td>Senior</td>\n",
       "      <td>1</td>\n",
       "    </tr>\n",
       "    <tr>\n",
       "      <th>3</th>\n",
       "      <td>emp-101</td>\n",
       "      <td>0</td>\n",
       "      <td>Worked at Company - 212 , Company - 668 , Comp...</td>\n",
       "      <td>2012_01</td>\n",
       "      <td>Senior</td>\n",
       "      <td>1</td>\n",
       "    </tr>\n",
       "    <tr>\n",
       "      <th>4</th>\n",
       "      <td>emp-102</td>\n",
       "      <td>0</td>\n",
       "      <td>Worked at Company - 234</td>\n",
       "      <td>2011_12</td>\n",
       "      <td>Senior</td>\n",
       "      <td>1</td>\n",
       "    </tr>\n",
       "  </tbody>\n",
       "</table>\n",
       "</div>"
      ],
      "text/plain": [
       "  EmployeeID  Left_Company                                        Job_History  \\\n",
       "0      emp-1             0  Worked at Company - 639 , Company - 212 , Comp...   \n",
       "1     emp-10             1  Worked at Company - 816 , Company - 724 , Comp...   \n",
       "2    emp-100             0            Worked at Company - 562 , Company - 319   \n",
       "3    emp-101             0  Worked at Company - 212 , Company - 668 , Comp...   \n",
       "4    emp-102             0                            Worked at Company - 234   \n",
       "\n",
       "  Joining_Date Designation  Sex  \n",
       "0      2011_01          MD    1  \n",
       "1      2006_02          VP    0  \n",
       "2      2011_12      Senior    1  \n",
       "3      2012_01      Senior    1  \n",
       "4      2011_12      Senior    1  "
      ]
     },
     "execution_count": 27,
     "metadata": {},
     "output_type": "execute_result"
    }
   ],
   "source": [
    "train_emp_data.head()"
   ]
  },
  {
   "cell_type": "code",
   "execution_count": 28,
   "metadata": {
    "id": "JBbfhJmOrBLz"
   },
   "outputs": [],
   "source": [
    "train_final = pd.merge(train_emp_data, train_work, on='EmployeeID', how='left')"
   ]
  },
  {
   "cell_type": "code",
   "execution_count": 29,
   "metadata": {
    "colab": {
     "base_uri": "https://localhost:8080/"
    },
    "id": "rL2oB8hfrEWp",
    "outputId": "505b7a84-7d9f-470c-aaf3-85bfe5b9aceb"
   },
   "outputs": [
    {
     "data": {
      "text/plain": [
       "(3983, 12)"
      ]
     },
     "execution_count": 29,
     "metadata": {},
     "output_type": "execute_result"
    }
   ],
   "source": [
    "train_final.shape"
   ]
  },
  {
   "cell_type": "code",
   "execution_count": 30,
   "metadata": {
    "colab": {
     "base_uri": "https://localhost:8080/"
    },
    "id": "feqGNkGfrJAf",
    "outputId": "71730fcb-153d-4d72-bd2b-110b37a40e2d"
   },
   "outputs": [
    {
     "name": "stdout",
     "output_type": "stream",
     "text": [
      "The train_attrition has 245 rows & 2 columns.\n",
      "The train_work has 3983 rows & 7 columns.\n"
     ]
    }
   ],
   "source": [
    "\n",
    "\n",
    "print(\"The train_attrition has {} rows & {} columns.\" .format(train_attrition.shape[0], train_attrition.shape[1]))\n",
    "print(\"The train_work has {} rows & {} columns.\" .format(train_work.shape[0], train_work.shape[1]))\n"
   ]
  },
  {
   "cell_type": "code",
   "execution_count": 31,
   "metadata": {
    "colab": {
     "base_uri": "https://localhost:8080/",
     "height": 950
    },
    "id": "uz_JFVAGrHZS",
    "outputId": "d1b083ee-d3ad-4696-ac1e-3450e70c7cfe"
   },
   "outputs": [
    {
     "data": {
      "text/html": [
       "<div>\n",
       "<style scoped>\n",
       "    .dataframe tbody tr th:only-of-type {\n",
       "        vertical-align: middle;\n",
       "    }\n",
       "\n",
       "    .dataframe tbody tr th {\n",
       "        vertical-align: top;\n",
       "    }\n",
       "\n",
       "    .dataframe thead th {\n",
       "        text-align: right;\n",
       "    }\n",
       "</style>\n",
       "<table border=\"1\" class=\"dataframe\">\n",
       "  <thead>\n",
       "    <tr style=\"text-align: right;\">\n",
       "      <th></th>\n",
       "      <th>Left_Company</th>\n",
       "      <th>Job_History</th>\n",
       "      <th>Joining_Date</th>\n",
       "      <th>Designation</th>\n",
       "      <th>Sex</th>\n",
       "      <th>TotalWorkingHours</th>\n",
       "      <th>Billable_Hours</th>\n",
       "      <th>Hours_off_Duty</th>\n",
       "      <th>Touring_Hours</th>\n",
       "      <th>NoOfProjects</th>\n",
       "      <th>ActualTimeSpent</th>\n",
       "    </tr>\n",
       "    <tr>\n",
       "      <th>EmployeeID</th>\n",
       "      <th></th>\n",
       "      <th></th>\n",
       "      <th></th>\n",
       "      <th></th>\n",
       "      <th></th>\n",
       "      <th></th>\n",
       "      <th></th>\n",
       "      <th></th>\n",
       "      <th></th>\n",
       "      <th></th>\n",
       "      <th></th>\n",
       "    </tr>\n",
       "  </thead>\n",
       "  <tbody>\n",
       "    <tr>\n",
       "      <th>emp-1</th>\n",
       "      <td>0</td>\n",
       "      <td>Worked at Company - 639 , Company - 212 , Comp...</td>\n",
       "      <td>2011_01</td>\n",
       "      <td>MD</td>\n",
       "      <td>1</td>\n",
       "      <td>205.0</td>\n",
       "      <td>189.0</td>\n",
       "      <td>72.0</td>\n",
       "      <td>189.0</td>\n",
       "      <td>3</td>\n",
       "      <td>231</td>\n",
       "    </tr>\n",
       "    <tr>\n",
       "      <th>emp-10</th>\n",
       "      <td>1</td>\n",
       "      <td>Worked at Company - 816 , Company - 724 , Comp...</td>\n",
       "      <td>2006_02</td>\n",
       "      <td>VP</td>\n",
       "      <td>0</td>\n",
       "      <td>241.0</td>\n",
       "      <td>233.0</td>\n",
       "      <td>120.0</td>\n",
       "      <td>186.0</td>\n",
       "      <td>2</td>\n",
       "      <td>147</td>\n",
       "    </tr>\n",
       "    <tr>\n",
       "      <th>emp-100</th>\n",
       "      <td>0</td>\n",
       "      <td>Worked at Company - 562 , Company - 319</td>\n",
       "      <td>2011_12</td>\n",
       "      <td>Senior</td>\n",
       "      <td>1</td>\n",
       "      <td>278.0</td>\n",
       "      <td>264.0</td>\n",
       "      <td>40.0</td>\n",
       "      <td>264.0</td>\n",
       "      <td>3</td>\n",
       "      <td>308</td>\n",
       "    </tr>\n",
       "    <tr>\n",
       "      <th>emp-101</th>\n",
       "      <td>0</td>\n",
       "      <td>Worked at Company - 212 , Company - 668 , Comp...</td>\n",
       "      <td>2012_01</td>\n",
       "      <td>Senior</td>\n",
       "      <td>1</td>\n",
       "      <td>345.5</td>\n",
       "      <td>233.5</td>\n",
       "      <td>64.0</td>\n",
       "      <td>0.0</td>\n",
       "      <td>2</td>\n",
       "      <td>217</td>\n",
       "    </tr>\n",
       "    <tr>\n",
       "      <th>emp-102</th>\n",
       "      <td>0</td>\n",
       "      <td>Worked at Company - 234</td>\n",
       "      <td>2011_12</td>\n",
       "      <td>Senior</td>\n",
       "      <td>1</td>\n",
       "      <td>270.0</td>\n",
       "      <td>249.0</td>\n",
       "      <td>88.0</td>\n",
       "      <td>213.0</td>\n",
       "      <td>2</td>\n",
       "      <td>231</td>\n",
       "    </tr>\n",
       "    <tr>\n",
       "      <th>...</th>\n",
       "      <td>...</td>\n",
       "      <td>...</td>\n",
       "      <td>...</td>\n",
       "      <td>...</td>\n",
       "      <td>...</td>\n",
       "      <td>...</td>\n",
       "      <td>...</td>\n",
       "      <td>...</td>\n",
       "      <td>...</td>\n",
       "      <td>...</td>\n",
       "      <td>...</td>\n",
       "    </tr>\n",
       "    <tr>\n",
       "      <th>emp-94</th>\n",
       "      <td>0</td>\n",
       "      <td>Worked at Company - 71 , Company - 324 , Compa...</td>\n",
       "      <td>2011_09</td>\n",
       "      <td>Senior</td>\n",
       "      <td>0</td>\n",
       "      <td>246.0</td>\n",
       "      <td>198.0</td>\n",
       "      <td>80.0</td>\n",
       "      <td>198.0</td>\n",
       "      <td>2</td>\n",
       "      <td>105</td>\n",
       "    </tr>\n",
       "    <tr>\n",
       "      <th>emp-96</th>\n",
       "      <td>0</td>\n",
       "      <td>Worked at Company - 27 , Company - 159</td>\n",
       "      <td>2011_10</td>\n",
       "      <td>Senior</td>\n",
       "      <td>1</td>\n",
       "      <td>254.5</td>\n",
       "      <td>246.5</td>\n",
       "      <td>88.0</td>\n",
       "      <td>239.0</td>\n",
       "      <td>3</td>\n",
       "      <td>238</td>\n",
       "    </tr>\n",
       "    <tr>\n",
       "      <th>emp-97</th>\n",
       "      <td>1</td>\n",
       "      <td>Worked at Company - 789 , Company - 785 , Comp...</td>\n",
       "      <td>2011_10</td>\n",
       "      <td>Junior</td>\n",
       "      <td>0</td>\n",
       "      <td>200.0</td>\n",
       "      <td>176.0</td>\n",
       "      <td>96.0</td>\n",
       "      <td>176.0</td>\n",
       "      <td>2</td>\n",
       "      <td>126</td>\n",
       "    </tr>\n",
       "    <tr>\n",
       "      <th>emp-98</th>\n",
       "      <td>0</td>\n",
       "      <td>Worked at Company - 817 , Company - 404 , Comp...</td>\n",
       "      <td>2011_11</td>\n",
       "      <td>Senior</td>\n",
       "      <td>1</td>\n",
       "      <td>244.0</td>\n",
       "      <td>220.0</td>\n",
       "      <td>80.0</td>\n",
       "      <td>35.0</td>\n",
       "      <td>4</td>\n",
       "      <td>385</td>\n",
       "    </tr>\n",
       "    <tr>\n",
       "      <th>emp-99</th>\n",
       "      <td>0</td>\n",
       "      <td>Worked at Company - 204 , Company - 171 , Comp...</td>\n",
       "      <td>2011_11</td>\n",
       "      <td>Senior</td>\n",
       "      <td>1</td>\n",
       "      <td>244.0</td>\n",
       "      <td>242.0</td>\n",
       "      <td>56.0</td>\n",
       "      <td>73.5</td>\n",
       "      <td>2</td>\n",
       "      <td>238</td>\n",
       "    </tr>\n",
       "  </tbody>\n",
       "</table>\n",
       "<p>245 rows × 11 columns</p>\n",
       "</div>"
      ],
      "text/plain": [
       "            Left_Company                                        Job_History  \\\n",
       "EmployeeID                                                                    \n",
       "emp-1                  0  Worked at Company - 639 , Company - 212 , Comp...   \n",
       "emp-10                 1  Worked at Company - 816 , Company - 724 , Comp...   \n",
       "emp-100                0            Worked at Company - 562 , Company - 319   \n",
       "emp-101                0  Worked at Company - 212 , Company - 668 , Comp...   \n",
       "emp-102                0                            Worked at Company - 234   \n",
       "...                  ...                                                ...   \n",
       "emp-94                 0  Worked at Company - 71 , Company - 324 , Compa...   \n",
       "emp-96                 0             Worked at Company - 27 , Company - 159   \n",
       "emp-97                 1  Worked at Company - 789 , Company - 785 , Comp...   \n",
       "emp-98                 0  Worked at Company - 817 , Company - 404 , Comp...   \n",
       "emp-99                 0  Worked at Company - 204 , Company - 171 , Comp...   \n",
       "\n",
       "           Joining_Date Designation  Sex  TotalWorkingHours  Billable_Hours  \\\n",
       "EmployeeID                                                                    \n",
       "emp-1           2011_01          MD    1              205.0           189.0   \n",
       "emp-10          2006_02          VP    0              241.0           233.0   \n",
       "emp-100         2011_12      Senior    1              278.0           264.0   \n",
       "emp-101         2012_01      Senior    1              345.5           233.5   \n",
       "emp-102         2011_12      Senior    1              270.0           249.0   \n",
       "...                 ...         ...  ...                ...             ...   \n",
       "emp-94          2011_09      Senior    0              246.0           198.0   \n",
       "emp-96          2011_10      Senior    1              254.5           246.5   \n",
       "emp-97          2011_10      Junior    0              200.0           176.0   \n",
       "emp-98          2011_11      Senior    1              244.0           220.0   \n",
       "emp-99          2011_11      Senior    1              244.0           242.0   \n",
       "\n",
       "            Hours_off_Duty  Touring_Hours  NoOfProjects  ActualTimeSpent  \n",
       "EmployeeID                                                                \n",
       "emp-1                 72.0          189.0             3              231  \n",
       "emp-10               120.0          186.0             2              147  \n",
       "emp-100               40.0          264.0             3              308  \n",
       "emp-101               64.0            0.0             2              217  \n",
       "emp-102               88.0          213.0             2              231  \n",
       "...                    ...            ...           ...              ...  \n",
       "emp-94                80.0          198.0             2              105  \n",
       "emp-96                88.0          239.0             3              238  \n",
       "emp-97                96.0          176.0             2              126  \n",
       "emp-98                80.0           35.0             4              385  \n",
       "emp-99                56.0           73.5             2              238  \n",
       "\n",
       "[245 rows x 11 columns]"
      ]
     },
     "execution_count": 31,
     "metadata": {},
     "output_type": "execute_result"
    }
   ],
   "source": [
    "\n",
    "train = train_final.groupby('EmployeeID').agg('max')\n",
    "train"
   ]
  },
  {
   "cell_type": "code",
   "execution_count": 32,
   "metadata": {
    "colab": {
     "base_uri": "https://localhost:8080/"
    },
    "id": "hMsWCgkDB5bU",
    "outputId": "5f2578c3-e651-407e-a805-e38600a2c0fc"
   },
   "outputs": [
    {
     "data": {
      "text/plain": [
       "Left_Company         0\n",
       "Job_History          0\n",
       "Joining_Date         0\n",
       "Designation          0\n",
       "Sex                  0\n",
       "TotalWorkingHours    0\n",
       "Billable_Hours       0\n",
       "Hours_off_Duty       0\n",
       "Touring_Hours        0\n",
       "NoOfProjects         0\n",
       "ActualTimeSpent      0\n",
       "dtype: int64"
      ]
     },
     "execution_count": 32,
     "metadata": {},
     "output_type": "execute_result"
    }
   ],
   "source": [
    "train.isnull().sum()"
   ]
  },
  {
   "cell_type": "code",
   "execution_count": 33,
   "metadata": {
    "colab": {
     "base_uri": "https://localhost:8080/",
     "height": 510
    },
    "id": "bveCin9yrF6g",
    "outputId": "38f1b9a3-13b6-4c90-d906-a9d5a70dba39"
   },
   "outputs": [
    {
     "data": {
      "text/html": [
       "<div>\n",
       "<style scoped>\n",
       "    .dataframe tbody tr th:only-of-type {\n",
       "        vertical-align: middle;\n",
       "    }\n",
       "\n",
       "    .dataframe tbody tr th {\n",
       "        vertical-align: top;\n",
       "    }\n",
       "\n",
       "    .dataframe thead th {\n",
       "        text-align: right;\n",
       "    }\n",
       "</style>\n",
       "<table border=\"1\" class=\"dataframe\">\n",
       "  <thead>\n",
       "    <tr style=\"text-align: right;\">\n",
       "      <th></th>\n",
       "      <th>EmployeeID</th>\n",
       "      <th>Left_Company</th>\n",
       "      <th>Job_History</th>\n",
       "      <th>Joining_Date</th>\n",
       "      <th>Designation</th>\n",
       "      <th>Sex</th>\n",
       "      <th>TotalWorkingHours</th>\n",
       "      <th>Billable_Hours</th>\n",
       "      <th>Hours_off_Duty</th>\n",
       "      <th>Touring_Hours</th>\n",
       "      <th>NoOfProjects</th>\n",
       "      <th>ActualTimeSpent</th>\n",
       "    </tr>\n",
       "  </thead>\n",
       "  <tbody>\n",
       "    <tr>\n",
       "      <th>0</th>\n",
       "      <td>emp-1</td>\n",
       "      <td>0</td>\n",
       "      <td>Worked at Company - 639 , Company - 212 , Comp...</td>\n",
       "      <td>2011_01</td>\n",
       "      <td>MD</td>\n",
       "      <td>1</td>\n",
       "      <td>184.0</td>\n",
       "      <td>144.0</td>\n",
       "      <td>40.0</td>\n",
       "      <td>144.0</td>\n",
       "      <td>3</td>\n",
       "      <td>77</td>\n",
       "    </tr>\n",
       "    <tr>\n",
       "      <th>1</th>\n",
       "      <td>emp-1</td>\n",
       "      <td>0</td>\n",
       "      <td>Worked at Company - 639 , Company - 212 , Comp...</td>\n",
       "      <td>2011_01</td>\n",
       "      <td>MD</td>\n",
       "      <td>1</td>\n",
       "      <td>176.0</td>\n",
       "      <td>136.0</td>\n",
       "      <td>40.0</td>\n",
       "      <td>136.0</td>\n",
       "      <td>2</td>\n",
       "      <td>98</td>\n",
       "    </tr>\n",
       "    <tr>\n",
       "      <th>2</th>\n",
       "      <td>emp-1</td>\n",
       "      <td>0</td>\n",
       "      <td>Worked at Company - 639 , Company - 212 , Comp...</td>\n",
       "      <td>2011_01</td>\n",
       "      <td>MD</td>\n",
       "      <td>1</td>\n",
       "      <td>200.0</td>\n",
       "      <td>120.0</td>\n",
       "      <td>72.0</td>\n",
       "      <td>120.0</td>\n",
       "      <td>1</td>\n",
       "      <td>14</td>\n",
       "    </tr>\n",
       "    <tr>\n",
       "      <th>3</th>\n",
       "      <td>emp-1</td>\n",
       "      <td>0</td>\n",
       "      <td>Worked at Company - 639 , Company - 212 , Comp...</td>\n",
       "      <td>2011_01</td>\n",
       "      <td>MD</td>\n",
       "      <td>1</td>\n",
       "      <td>160.0</td>\n",
       "      <td>144.0</td>\n",
       "      <td>8.0</td>\n",
       "      <td>144.0</td>\n",
       "      <td>3</td>\n",
       "      <td>147</td>\n",
       "    </tr>\n",
       "    <tr>\n",
       "      <th>4</th>\n",
       "      <td>emp-1</td>\n",
       "      <td>0</td>\n",
       "      <td>Worked at Company - 639 , Company - 212 , Comp...</td>\n",
       "      <td>2011_01</td>\n",
       "      <td>MD</td>\n",
       "      <td>1</td>\n",
       "      <td>171.0</td>\n",
       "      <td>135.0</td>\n",
       "      <td>0.0</td>\n",
       "      <td>135.0</td>\n",
       "      <td>1</td>\n",
       "      <td>42</td>\n",
       "    </tr>\n",
       "  </tbody>\n",
       "</table>\n",
       "</div>"
      ],
      "text/plain": [
       "  EmployeeID  Left_Company                                        Job_History  \\\n",
       "0      emp-1             0  Worked at Company - 639 , Company - 212 , Comp...   \n",
       "1      emp-1             0  Worked at Company - 639 , Company - 212 , Comp...   \n",
       "2      emp-1             0  Worked at Company - 639 , Company - 212 , Comp...   \n",
       "3      emp-1             0  Worked at Company - 639 , Company - 212 , Comp...   \n",
       "4      emp-1             0  Worked at Company - 639 , Company - 212 , Comp...   \n",
       "\n",
       "  Joining_Date Designation  Sex  TotalWorkingHours  Billable_Hours  \\\n",
       "0      2011_01          MD    1              184.0           144.0   \n",
       "1      2011_01          MD    1              176.0           136.0   \n",
       "2      2011_01          MD    1              200.0           120.0   \n",
       "3      2011_01          MD    1              160.0           144.0   \n",
       "4      2011_01          MD    1              171.0           135.0   \n",
       "\n",
       "   Hours_off_Duty  Touring_Hours  NoOfProjects  ActualTimeSpent  \n",
       "0            40.0          144.0             3               77  \n",
       "1            40.0          136.0             2               98  \n",
       "2            72.0          120.0             1               14  \n",
       "3             8.0          144.0             3              147  \n",
       "4             0.0          135.0             1               42  "
      ]
     },
     "execution_count": 33,
     "metadata": {},
     "output_type": "execute_result"
    }
   ],
   "source": [
    "train_final.head()"
   ]
  },
  {
   "cell_type": "code",
   "execution_count": 34,
   "metadata": {
    "colab": {
     "base_uri": "https://localhost:8080/",
     "height": 206
    },
    "id": "deGGss1HrUod",
    "outputId": "ff9bd62c-c887-4227-fdeb-24bcc5e52c5a"
   },
   "outputs": [
    {
     "data": {
      "text/html": [
       "<div>\n",
       "<style scoped>\n",
       "    .dataframe tbody tr th:only-of-type {\n",
       "        vertical-align: middle;\n",
       "    }\n",
       "\n",
       "    .dataframe tbody tr th {\n",
       "        vertical-align: top;\n",
       "    }\n",
       "\n",
       "    .dataframe thead th {\n",
       "        text-align: right;\n",
       "    }\n",
       "</style>\n",
       "<table border=\"1\" class=\"dataframe\">\n",
       "  <thead>\n",
       "    <tr style=\"text-align: right;\">\n",
       "      <th></th>\n",
       "      <th>EmployeeID</th>\n",
       "      <th>Job_History</th>\n",
       "      <th>Joining_Date</th>\n",
       "      <th>Designation</th>\n",
       "      <th>Sex</th>\n",
       "    </tr>\n",
       "  </thead>\n",
       "  <tbody>\n",
       "    <tr>\n",
       "      <th>0</th>\n",
       "      <td>emp-10</td>\n",
       "      <td>Worked at Company - 816 , Company - 724 , Comp...</td>\n",
       "      <td>2006_02</td>\n",
       "      <td>VP</td>\n",
       "      <td>0</td>\n",
       "    </tr>\n",
       "    <tr>\n",
       "      <th>1</th>\n",
       "      <td>emp-108</td>\n",
       "      <td>Worked at Company - 205 , Company - 373 , Comp...</td>\n",
       "      <td>2012_01</td>\n",
       "      <td>VP</td>\n",
       "      <td>1</td>\n",
       "    </tr>\n",
       "    <tr>\n",
       "      <th>2</th>\n",
       "      <td>emp-115</td>\n",
       "      <td>Worked at Company - 690 , Company - 280 , Comp...</td>\n",
       "      <td>2012_02</td>\n",
       "      <td>Senior</td>\n",
       "      <td>1</td>\n",
       "    </tr>\n",
       "    <tr>\n",
       "      <th>3</th>\n",
       "      <td>emp-121</td>\n",
       "      <td>Worked at Company - 684 , Company - 159 , Comp...</td>\n",
       "      <td>2012_03</td>\n",
       "      <td>VP</td>\n",
       "      <td>1</td>\n",
       "    </tr>\n",
       "    <tr>\n",
       "      <th>4</th>\n",
       "      <td>emp-138</td>\n",
       "      <td>Worked at Company - 443 , Company - 121 , Comp...</td>\n",
       "      <td>2012_05</td>\n",
       "      <td>Senior</td>\n",
       "      <td>1</td>\n",
       "    </tr>\n",
       "  </tbody>\n",
       "</table>\n",
       "</div>"
      ],
      "text/plain": [
       "  EmployeeID                                        Job_History Joining_Date  \\\n",
       "0     emp-10  Worked at Company - 816 , Company - 724 , Comp...      2006_02   \n",
       "1    emp-108  Worked at Company - 205 , Company - 373 , Comp...      2012_01   \n",
       "2    emp-115  Worked at Company - 690 , Company - 280 , Comp...      2012_02   \n",
       "3    emp-121  Worked at Company - 684 , Company - 159 , Comp...      2012_03   \n",
       "4    emp-138  Worked at Company - 443 , Company - 121 , Comp...      2012_05   \n",
       "\n",
       "  Designation  Sex  \n",
       "0          VP    0  \n",
       "1          VP    1  \n",
       "2      Senior    1  \n",
       "3          VP    1  \n",
       "4      Senior    1  "
      ]
     },
     "execution_count": 34,
     "metadata": {},
     "output_type": "execute_result"
    }
   ],
   "source": [
    "\n",
    "emp_data.head()"
   ]
  },
  {
   "cell_type": "code",
   "execution_count": 35,
   "metadata": {
    "colab": {
     "base_uri": "https://localhost:8080/"
    },
    "id": "q7unNyemcXTF",
    "outputId": "e798e556-06e8-47b0-a8d8-138bc41b3ed4"
   },
   "outputs": [
    {
     "name": "stdout",
     "output_type": "stream",
     "text": [
      "The employee data has 296 rows & 5 columns.\n"
     ]
    }
   ],
   "source": [
    "print(\"The employee data has {} rows & {} columns.\" .format(emp_data.shape[0], emp_data.shape[1]))"
   ]
  },
  {
   "cell_type": "code",
   "execution_count": 36,
   "metadata": {
    "colab": {
     "base_uri": "https://localhost:8080/",
     "height": 206
    },
    "id": "FDPaT_RidMl8",
    "outputId": "13bf0fd7-9f8a-4c4d-d114-baecf10606bb"
   },
   "outputs": [
    {
     "data": {
      "text/html": [
       "<div>\n",
       "<style scoped>\n",
       "    .dataframe tbody tr th:only-of-type {\n",
       "        vertical-align: middle;\n",
       "    }\n",
       "\n",
       "    .dataframe tbody tr th {\n",
       "        vertical-align: top;\n",
       "    }\n",
       "\n",
       "    .dataframe thead th {\n",
       "        text-align: right;\n",
       "    }\n",
       "</style>\n",
       "<table border=\"1\" class=\"dataframe\">\n",
       "  <thead>\n",
       "    <tr style=\"text-align: right;\">\n",
       "      <th></th>\n",
       "      <th>EmployeeID</th>\n",
       "      <th>Left_Company</th>\n",
       "    </tr>\n",
       "  </thead>\n",
       "  <tbody>\n",
       "    <tr>\n",
       "      <th>0</th>\n",
       "      <td>emp-106</td>\n",
       "      <td>NaN</td>\n",
       "    </tr>\n",
       "    <tr>\n",
       "      <th>1</th>\n",
       "      <td>emp-112</td>\n",
       "      <td>NaN</td>\n",
       "    </tr>\n",
       "    <tr>\n",
       "      <th>2</th>\n",
       "      <td>emp-114</td>\n",
       "      <td>NaN</td>\n",
       "    </tr>\n",
       "    <tr>\n",
       "      <th>3</th>\n",
       "      <td>emp-118</td>\n",
       "      <td>NaN</td>\n",
       "    </tr>\n",
       "    <tr>\n",
       "      <th>4</th>\n",
       "      <td>emp-12</td>\n",
       "      <td>NaN</td>\n",
       "    </tr>\n",
       "  </tbody>\n",
       "</table>\n",
       "</div>"
      ],
      "text/plain": [
       "  EmployeeID  Left_Company\n",
       "0    emp-106           NaN\n",
       "1    emp-112           NaN\n",
       "2    emp-114           NaN\n",
       "3    emp-118           NaN\n",
       "4     emp-12           NaN"
      ]
     },
     "execution_count": 36,
     "metadata": {},
     "output_type": "execute_result"
    }
   ],
   "source": [
    "test_attrition.head()"
   ]
  },
  {
   "cell_type": "markdown",
   "metadata": {
    "id": "pRAB9PIvdZIX"
   },
   "source": [
    "## Merging the datasets based on the employee data.\n"
   ]
  },
  {
   "cell_type": "markdown",
   "metadata": {
    "id": "OwKk4exDdjlI"
   },
   "source": [
    "## Merging the train data into a single datafrfame\n"
   ]
  },
  {
   "cell_type": "code",
   "execution_count": 37,
   "metadata": {
    "id": "2JwLJwp3dRU0"
   },
   "outputs": [],
   "source": [
    "train_emp_data = pd.merge(train_attrition, emp_data, how='left', on='EmployeeID')"
   ]
  },
  {
   "cell_type": "code",
   "execution_count": 38,
   "metadata": {
    "colab": {
     "base_uri": "https://localhost:8080/"
    },
    "id": "boPwbCamdn6-",
    "outputId": "bedbf220-f782-4863-ecdf-ede5a1d2c722"
   },
   "outputs": [
    {
     "data": {
      "text/plain": [
       "(245, 6)"
      ]
     },
     "execution_count": 38,
     "metadata": {},
     "output_type": "execute_result"
    }
   ],
   "source": [
    "train_emp_data.shape"
   ]
  },
  {
   "cell_type": "code",
   "execution_count": 39,
   "metadata": {
    "id": "oT7o52tHdsQa"
   },
   "outputs": [],
   "source": [
    "train_final = pd.merge(train_emp_data, train_work, on='EmployeeID', how='left')"
   ]
  },
  {
   "cell_type": "markdown",
   "metadata": {
    "id": "24wzbkMZOL3V"
   },
   "source": []
  },
  {
   "cell_type": "code",
   "execution_count": 40,
   "metadata": {
    "colab": {
     "base_uri": "https://localhost:8080/",
     "height": 528
    },
    "id": "a6BBohi2dwD_",
    "outputId": "0ac0f209-14b4-4e89-a3c4-75d90dd81c09"
   },
   "outputs": [
    {
     "name": "stdout",
     "output_type": "stream",
     "text": [
      "(3983, 12)\n"
     ]
    },
    {
     "data": {
      "text/html": [
       "<div>\n",
       "<style scoped>\n",
       "    .dataframe tbody tr th:only-of-type {\n",
       "        vertical-align: middle;\n",
       "    }\n",
       "\n",
       "    .dataframe tbody tr th {\n",
       "        vertical-align: top;\n",
       "    }\n",
       "\n",
       "    .dataframe thead th {\n",
       "        text-align: right;\n",
       "    }\n",
       "</style>\n",
       "<table border=\"1\" class=\"dataframe\">\n",
       "  <thead>\n",
       "    <tr style=\"text-align: right;\">\n",
       "      <th></th>\n",
       "      <th>EmployeeID</th>\n",
       "      <th>Left_Company</th>\n",
       "      <th>Job_History</th>\n",
       "      <th>Joining_Date</th>\n",
       "      <th>Designation</th>\n",
       "      <th>Sex</th>\n",
       "      <th>TotalWorkingHours</th>\n",
       "      <th>Billable_Hours</th>\n",
       "      <th>Hours_off_Duty</th>\n",
       "      <th>Touring_Hours</th>\n",
       "      <th>NoOfProjects</th>\n",
       "      <th>ActualTimeSpent</th>\n",
       "    </tr>\n",
       "  </thead>\n",
       "  <tbody>\n",
       "    <tr>\n",
       "      <th>0</th>\n",
       "      <td>emp-1</td>\n",
       "      <td>0</td>\n",
       "      <td>Worked at Company - 639 , Company - 212 , Comp...</td>\n",
       "      <td>2011_01</td>\n",
       "      <td>MD</td>\n",
       "      <td>1</td>\n",
       "      <td>184.0</td>\n",
       "      <td>144.0</td>\n",
       "      <td>40.0</td>\n",
       "      <td>144.0</td>\n",
       "      <td>3</td>\n",
       "      <td>77</td>\n",
       "    </tr>\n",
       "    <tr>\n",
       "      <th>1</th>\n",
       "      <td>emp-1</td>\n",
       "      <td>0</td>\n",
       "      <td>Worked at Company - 639 , Company - 212 , Comp...</td>\n",
       "      <td>2011_01</td>\n",
       "      <td>MD</td>\n",
       "      <td>1</td>\n",
       "      <td>176.0</td>\n",
       "      <td>136.0</td>\n",
       "      <td>40.0</td>\n",
       "      <td>136.0</td>\n",
       "      <td>2</td>\n",
       "      <td>98</td>\n",
       "    </tr>\n",
       "    <tr>\n",
       "      <th>2</th>\n",
       "      <td>emp-1</td>\n",
       "      <td>0</td>\n",
       "      <td>Worked at Company - 639 , Company - 212 , Comp...</td>\n",
       "      <td>2011_01</td>\n",
       "      <td>MD</td>\n",
       "      <td>1</td>\n",
       "      <td>200.0</td>\n",
       "      <td>120.0</td>\n",
       "      <td>72.0</td>\n",
       "      <td>120.0</td>\n",
       "      <td>1</td>\n",
       "      <td>14</td>\n",
       "    </tr>\n",
       "    <tr>\n",
       "      <th>3</th>\n",
       "      <td>emp-1</td>\n",
       "      <td>0</td>\n",
       "      <td>Worked at Company - 639 , Company - 212 , Comp...</td>\n",
       "      <td>2011_01</td>\n",
       "      <td>MD</td>\n",
       "      <td>1</td>\n",
       "      <td>160.0</td>\n",
       "      <td>144.0</td>\n",
       "      <td>8.0</td>\n",
       "      <td>144.0</td>\n",
       "      <td>3</td>\n",
       "      <td>147</td>\n",
       "    </tr>\n",
       "    <tr>\n",
       "      <th>4</th>\n",
       "      <td>emp-1</td>\n",
       "      <td>0</td>\n",
       "      <td>Worked at Company - 639 , Company - 212 , Comp...</td>\n",
       "      <td>2011_01</td>\n",
       "      <td>MD</td>\n",
       "      <td>1</td>\n",
       "      <td>171.0</td>\n",
       "      <td>135.0</td>\n",
       "      <td>0.0</td>\n",
       "      <td>135.0</td>\n",
       "      <td>1</td>\n",
       "      <td>42</td>\n",
       "    </tr>\n",
       "  </tbody>\n",
       "</table>\n",
       "</div>"
      ],
      "text/plain": [
       "  EmployeeID  Left_Company                                        Job_History  \\\n",
       "0      emp-1             0  Worked at Company - 639 , Company - 212 , Comp...   \n",
       "1      emp-1             0  Worked at Company - 639 , Company - 212 , Comp...   \n",
       "2      emp-1             0  Worked at Company - 639 , Company - 212 , Comp...   \n",
       "3      emp-1             0  Worked at Company - 639 , Company - 212 , Comp...   \n",
       "4      emp-1             0  Worked at Company - 639 , Company - 212 , Comp...   \n",
       "\n",
       "  Joining_Date Designation  Sex  TotalWorkingHours  Billable_Hours  \\\n",
       "0      2011_01          MD    1              184.0           144.0   \n",
       "1      2011_01          MD    1              176.0           136.0   \n",
       "2      2011_01          MD    1              200.0           120.0   \n",
       "3      2011_01          MD    1              160.0           144.0   \n",
       "4      2011_01          MD    1              171.0           135.0   \n",
       "\n",
       "   Hours_off_Duty  Touring_Hours  NoOfProjects  ActualTimeSpent  \n",
       "0            40.0          144.0             3               77  \n",
       "1            40.0          136.0             2               98  \n",
       "2            72.0          120.0             1               14  \n",
       "3             8.0          144.0             3              147  \n",
       "4             0.0          135.0             1               42  "
      ]
     },
     "execution_count": 40,
     "metadata": {},
     "output_type": "execute_result"
    }
   ],
   "source": [
    "print(train_final.shape)\n",
    "train_final.head()"
   ]
  },
  {
   "cell_type": "code",
   "execution_count": 41,
   "metadata": {
    "id": "tF_ZSb4ldyOB"
   },
   "outputs": [],
   "source": [
    "\n",
    "train = train_final.groupby('EmployeeID').agg('max')"
   ]
  },
  {
   "cell_type": "code",
   "execution_count": 42,
   "metadata": {
    "colab": {
     "base_uri": "https://localhost:8080/",
     "height": 489
    },
    "id": "_kyw748Ed9Sw",
    "outputId": "0c44e6b3-0ac4-4021-ec4b-5e07a334f25d"
   },
   "outputs": [
    {
     "data": {
      "text/html": [
       "<div>\n",
       "<style scoped>\n",
       "    .dataframe tbody tr th:only-of-type {\n",
       "        vertical-align: middle;\n",
       "    }\n",
       "\n",
       "    .dataframe tbody tr th {\n",
       "        vertical-align: top;\n",
       "    }\n",
       "\n",
       "    .dataframe thead th {\n",
       "        text-align: right;\n",
       "    }\n",
       "</style>\n",
       "<table border=\"1\" class=\"dataframe\">\n",
       "  <thead>\n",
       "    <tr style=\"text-align: right;\">\n",
       "      <th></th>\n",
       "      <th>Left_Company</th>\n",
       "      <th>Job_History</th>\n",
       "      <th>Joining_Date</th>\n",
       "      <th>Designation</th>\n",
       "      <th>Sex</th>\n",
       "      <th>TotalWorkingHours</th>\n",
       "      <th>Billable_Hours</th>\n",
       "      <th>Hours_off_Duty</th>\n",
       "      <th>Touring_Hours</th>\n",
       "      <th>NoOfProjects</th>\n",
       "      <th>ActualTimeSpent</th>\n",
       "    </tr>\n",
       "    <tr>\n",
       "      <th>EmployeeID</th>\n",
       "      <th></th>\n",
       "      <th></th>\n",
       "      <th></th>\n",
       "      <th></th>\n",
       "      <th></th>\n",
       "      <th></th>\n",
       "      <th></th>\n",
       "      <th></th>\n",
       "      <th></th>\n",
       "      <th></th>\n",
       "      <th></th>\n",
       "    </tr>\n",
       "  </thead>\n",
       "  <tbody>\n",
       "    <tr>\n",
       "      <th>emp-1</th>\n",
       "      <td>0</td>\n",
       "      <td>Worked at Company - 639 , Company - 212 , Comp...</td>\n",
       "      <td>2011_01</td>\n",
       "      <td>MD</td>\n",
       "      <td>1</td>\n",
       "      <td>205.0</td>\n",
       "      <td>189.0</td>\n",
       "      <td>72.0</td>\n",
       "      <td>189.0</td>\n",
       "      <td>3</td>\n",
       "      <td>231</td>\n",
       "    </tr>\n",
       "    <tr>\n",
       "      <th>emp-10</th>\n",
       "      <td>1</td>\n",
       "      <td>Worked at Company - 816 , Company - 724 , Comp...</td>\n",
       "      <td>2006_02</td>\n",
       "      <td>VP</td>\n",
       "      <td>0</td>\n",
       "      <td>241.0</td>\n",
       "      <td>233.0</td>\n",
       "      <td>120.0</td>\n",
       "      <td>186.0</td>\n",
       "      <td>2</td>\n",
       "      <td>147</td>\n",
       "    </tr>\n",
       "    <tr>\n",
       "      <th>emp-100</th>\n",
       "      <td>0</td>\n",
       "      <td>Worked at Company - 562 , Company - 319</td>\n",
       "      <td>2011_12</td>\n",
       "      <td>Senior</td>\n",
       "      <td>1</td>\n",
       "      <td>278.0</td>\n",
       "      <td>264.0</td>\n",
       "      <td>40.0</td>\n",
       "      <td>264.0</td>\n",
       "      <td>3</td>\n",
       "      <td>308</td>\n",
       "    </tr>\n",
       "    <tr>\n",
       "      <th>emp-101</th>\n",
       "      <td>0</td>\n",
       "      <td>Worked at Company - 212 , Company - 668 , Comp...</td>\n",
       "      <td>2012_01</td>\n",
       "      <td>Senior</td>\n",
       "      <td>1</td>\n",
       "      <td>345.5</td>\n",
       "      <td>233.5</td>\n",
       "      <td>64.0</td>\n",
       "      <td>0.0</td>\n",
       "      <td>2</td>\n",
       "      <td>217</td>\n",
       "    </tr>\n",
       "    <tr>\n",
       "      <th>emp-102</th>\n",
       "      <td>0</td>\n",
       "      <td>Worked at Company - 234</td>\n",
       "      <td>2011_12</td>\n",
       "      <td>Senior</td>\n",
       "      <td>1</td>\n",
       "      <td>270.0</td>\n",
       "      <td>249.0</td>\n",
       "      <td>88.0</td>\n",
       "      <td>213.0</td>\n",
       "      <td>2</td>\n",
       "      <td>231</td>\n",
       "    </tr>\n",
       "  </tbody>\n",
       "</table>\n",
       "</div>"
      ],
      "text/plain": [
       "            Left_Company                                        Job_History  \\\n",
       "EmployeeID                                                                    \n",
       "emp-1                  0  Worked at Company - 639 , Company - 212 , Comp...   \n",
       "emp-10                 1  Worked at Company - 816 , Company - 724 , Comp...   \n",
       "emp-100                0            Worked at Company - 562 , Company - 319   \n",
       "emp-101                0  Worked at Company - 212 , Company - 668 , Comp...   \n",
       "emp-102                0                            Worked at Company - 234   \n",
       "\n",
       "           Joining_Date Designation  Sex  TotalWorkingHours  Billable_Hours  \\\n",
       "EmployeeID                                                                    \n",
       "emp-1           2011_01          MD    1              205.0           189.0   \n",
       "emp-10          2006_02          VP    0              241.0           233.0   \n",
       "emp-100         2011_12      Senior    1              278.0           264.0   \n",
       "emp-101         2012_01      Senior    1              345.5           233.5   \n",
       "emp-102         2011_12      Senior    1              270.0           249.0   \n",
       "\n",
       "            Hours_off_Duty  Touring_Hours  NoOfProjects  ActualTimeSpent  \n",
       "EmployeeID                                                                \n",
       "emp-1                 72.0          189.0             3              231  \n",
       "emp-10               120.0          186.0             2              147  \n",
       "emp-100               40.0          264.0             3              308  \n",
       "emp-101               64.0            0.0             2              217  \n",
       "emp-102               88.0          213.0             2              231  "
      ]
     },
     "execution_count": 42,
     "metadata": {},
     "output_type": "execute_result"
    }
   ],
   "source": [
    "train.head()"
   ]
  },
  {
   "cell_type": "markdown",
   "metadata": {
    "id": "QxH5zbWIedbF"
   },
   "source": [
    "## Merging the test data into Single data frame. \n"
   ]
  },
  {
   "cell_type": "code",
   "execution_count": 43,
   "metadata": {
    "id": "c2YMbWHOeagq"
   },
   "outputs": [],
   "source": [
    "\n",
    "\n",
    "test_emp_data = pd.merge(test_attrition, emp_data, how='left', on='EmployeeID')\n"
   ]
  },
  {
   "cell_type": "code",
   "execution_count": 44,
   "metadata": {
    "colab": {
     "base_uri": "https://localhost:8080/",
     "height": 206
    },
    "id": "XH0cz9Lqehi2",
    "outputId": "14e46a9f-f8bd-4cfd-b48c-c3c3f4644133"
   },
   "outputs": [
    {
     "data": {
      "text/html": [
       "<div>\n",
       "<style scoped>\n",
       "    .dataframe tbody tr th:only-of-type {\n",
       "        vertical-align: middle;\n",
       "    }\n",
       "\n",
       "    .dataframe tbody tr th {\n",
       "        vertical-align: top;\n",
       "    }\n",
       "\n",
       "    .dataframe thead th {\n",
       "        text-align: right;\n",
       "    }\n",
       "</style>\n",
       "<table border=\"1\" class=\"dataframe\">\n",
       "  <thead>\n",
       "    <tr style=\"text-align: right;\">\n",
       "      <th></th>\n",
       "      <th>EmployeeID</th>\n",
       "      <th>Left_Company</th>\n",
       "      <th>Job_History</th>\n",
       "      <th>Joining_Date</th>\n",
       "      <th>Designation</th>\n",
       "      <th>Sex</th>\n",
       "    </tr>\n",
       "  </thead>\n",
       "  <tbody>\n",
       "    <tr>\n",
       "      <th>0</th>\n",
       "      <td>emp-106</td>\n",
       "      <td>NaN</td>\n",
       "      <td>Worked at Company - 510 , Company - 658 , Comp...</td>\n",
       "      <td>2012_01</td>\n",
       "      <td>Senior</td>\n",
       "      <td>0</td>\n",
       "    </tr>\n",
       "    <tr>\n",
       "      <th>1</th>\n",
       "      <td>emp-112</td>\n",
       "      <td>NaN</td>\n",
       "      <td>Worked at Company - 42 , Company - 432 , Compa...</td>\n",
       "      <td>2012_02</td>\n",
       "      <td>VP</td>\n",
       "      <td>1</td>\n",
       "    </tr>\n",
       "    <tr>\n",
       "      <th>2</th>\n",
       "      <td>emp-114</td>\n",
       "      <td>NaN</td>\n",
       "      <td>Worked at Company - 99 , Company - 88 , Compan...</td>\n",
       "      <td>2012_02</td>\n",
       "      <td>EVP</td>\n",
       "      <td>1</td>\n",
       "    </tr>\n",
       "    <tr>\n",
       "      <th>3</th>\n",
       "      <td>emp-118</td>\n",
       "      <td>NaN</td>\n",
       "      <td>Worked at Company - 554 , Company - 304</td>\n",
       "      <td>2012_04</td>\n",
       "      <td>EVP</td>\n",
       "      <td>1</td>\n",
       "    </tr>\n",
       "    <tr>\n",
       "      <th>4</th>\n",
       "      <td>emp-12</td>\n",
       "      <td>NaN</td>\n",
       "      <td>Worked at Company - 548 , Company - 405</td>\n",
       "      <td>2006_09</td>\n",
       "      <td>VP</td>\n",
       "      <td>1</td>\n",
       "    </tr>\n",
       "  </tbody>\n",
       "</table>\n",
       "</div>"
      ],
      "text/plain": [
       "  EmployeeID  Left_Company                                        Job_History  \\\n",
       "0    emp-106           NaN  Worked at Company - 510 , Company - 658 , Comp...   \n",
       "1    emp-112           NaN  Worked at Company - 42 , Company - 432 , Compa...   \n",
       "2    emp-114           NaN  Worked at Company - 99 , Company - 88 , Compan...   \n",
       "3    emp-118           NaN            Worked at Company - 554 , Company - 304   \n",
       "4     emp-12           NaN            Worked at Company - 548 , Company - 405   \n",
       "\n",
       "  Joining_Date Designation  Sex  \n",
       "0      2012_01      Senior    0  \n",
       "1      2012_02          VP    1  \n",
       "2      2012_02         EVP    1  \n",
       "3      2012_04         EVP    1  \n",
       "4      2006_09          VP    1  "
      ]
     },
     "execution_count": 44,
     "metadata": {},
     "output_type": "execute_result"
    }
   ],
   "source": [
    "test_emp_data.head()"
   ]
  },
  {
   "cell_type": "code",
   "execution_count": 45,
   "metadata": {
    "id": "YYuVI-nWejmu"
   },
   "outputs": [],
   "source": [
    "test_final = pd.merge(test_emp_data,test_work, how='left', on='EmployeeID')"
   ]
  },
  {
   "cell_type": "code",
   "execution_count": 46,
   "metadata": {
    "colab": {
     "base_uri": "https://localhost:8080/",
     "height": 510
    },
    "id": "aKZdH43-el31",
    "outputId": "70566f1b-fc87-4329-e8af-4a631725db60"
   },
   "outputs": [
    {
     "data": {
      "text/html": [
       "<div>\n",
       "<style scoped>\n",
       "    .dataframe tbody tr th:only-of-type {\n",
       "        vertical-align: middle;\n",
       "    }\n",
       "\n",
       "    .dataframe tbody tr th {\n",
       "        vertical-align: top;\n",
       "    }\n",
       "\n",
       "    .dataframe thead th {\n",
       "        text-align: right;\n",
       "    }\n",
       "</style>\n",
       "<table border=\"1\" class=\"dataframe\">\n",
       "  <thead>\n",
       "    <tr style=\"text-align: right;\">\n",
       "      <th></th>\n",
       "      <th>EmployeeID</th>\n",
       "      <th>Left_Company</th>\n",
       "      <th>Job_History</th>\n",
       "      <th>Joining_Date</th>\n",
       "      <th>Designation</th>\n",
       "      <th>Sex</th>\n",
       "      <th>TotalWorkingHours</th>\n",
       "      <th>Billable_Hours</th>\n",
       "      <th>Hours_off_Duty</th>\n",
       "      <th>Touring_Hours</th>\n",
       "      <th>NoOfProjects</th>\n",
       "      <th>ActualTimeSpent</th>\n",
       "    </tr>\n",
       "  </thead>\n",
       "  <tbody>\n",
       "    <tr>\n",
       "      <th>0</th>\n",
       "      <td>emp-106</td>\n",
       "      <td>NaN</td>\n",
       "      <td>Worked at Company - 510 , Company - 658 , Comp...</td>\n",
       "      <td>2012_01</td>\n",
       "      <td>Senior</td>\n",
       "      <td>0</td>\n",
       "      <td>96.0</td>\n",
       "      <td>16.0</td>\n",
       "      <td>40.0</td>\n",
       "      <td>2.0</td>\n",
       "      <td>2</td>\n",
       "      <td>42</td>\n",
       "    </tr>\n",
       "    <tr>\n",
       "      <th>1</th>\n",
       "      <td>emp-106</td>\n",
       "      <td>NaN</td>\n",
       "      <td>Worked at Company - 510 , Company - 658 , Comp...</td>\n",
       "      <td>2012_01</td>\n",
       "      <td>Senior</td>\n",
       "      <td>0</td>\n",
       "      <td>80.0</td>\n",
       "      <td>0.0</td>\n",
       "      <td>8.0</td>\n",
       "      <td>0.0</td>\n",
       "      <td>0</td>\n",
       "      <td>0</td>\n",
       "    </tr>\n",
       "    <tr>\n",
       "      <th>2</th>\n",
       "      <td>emp-106</td>\n",
       "      <td>NaN</td>\n",
       "      <td>Worked at Company - 510 , Company - 658 , Comp...</td>\n",
       "      <td>2012_01</td>\n",
       "      <td>Senior</td>\n",
       "      <td>0</td>\n",
       "      <td>200.0</td>\n",
       "      <td>16.0</td>\n",
       "      <td>0.0</td>\n",
       "      <td>0.0</td>\n",
       "      <td>1</td>\n",
       "      <td>0</td>\n",
       "    </tr>\n",
       "    <tr>\n",
       "      <th>3</th>\n",
       "      <td>emp-106</td>\n",
       "      <td>NaN</td>\n",
       "      <td>Worked at Company - 510 , Company - 658 , Comp...</td>\n",
       "      <td>2012_01</td>\n",
       "      <td>Senior</td>\n",
       "      <td>0</td>\n",
       "      <td>165.0</td>\n",
       "      <td>114.0</td>\n",
       "      <td>40.0</td>\n",
       "      <td>0.0</td>\n",
       "      <td>1</td>\n",
       "      <td>28</td>\n",
       "    </tr>\n",
       "    <tr>\n",
       "      <th>4</th>\n",
       "      <td>emp-106</td>\n",
       "      <td>NaN</td>\n",
       "      <td>Worked at Company - 510 , Company - 658 , Comp...</td>\n",
       "      <td>2012_01</td>\n",
       "      <td>Senior</td>\n",
       "      <td>0</td>\n",
       "      <td>251.0</td>\n",
       "      <td>219.0</td>\n",
       "      <td>8.0</td>\n",
       "      <td>0.0</td>\n",
       "      <td>1</td>\n",
       "      <td>63</td>\n",
       "    </tr>\n",
       "  </tbody>\n",
       "</table>\n",
       "</div>"
      ],
      "text/plain": [
       "  EmployeeID  Left_Company                                        Job_History  \\\n",
       "0    emp-106           NaN  Worked at Company - 510 , Company - 658 , Comp...   \n",
       "1    emp-106           NaN  Worked at Company - 510 , Company - 658 , Comp...   \n",
       "2    emp-106           NaN  Worked at Company - 510 , Company - 658 , Comp...   \n",
       "3    emp-106           NaN  Worked at Company - 510 , Company - 658 , Comp...   \n",
       "4    emp-106           NaN  Worked at Company - 510 , Company - 658 , Comp...   \n",
       "\n",
       "  Joining_Date Designation  Sex  TotalWorkingHours  Billable_Hours  \\\n",
       "0      2012_01      Senior    0               96.0            16.0   \n",
       "1      2012_01      Senior    0               80.0             0.0   \n",
       "2      2012_01      Senior    0              200.0            16.0   \n",
       "3      2012_01      Senior    0              165.0           114.0   \n",
       "4      2012_01      Senior    0              251.0           219.0   \n",
       "\n",
       "   Hours_off_Duty  Touring_Hours  NoOfProjects  ActualTimeSpent  \n",
       "0            40.0            2.0             2               42  \n",
       "1             8.0            0.0             0                0  \n",
       "2             0.0            0.0             1                0  \n",
       "3            40.0            0.0             1               28  \n",
       "4             8.0            0.0             1               63  "
      ]
     },
     "execution_count": 46,
     "metadata": {},
     "output_type": "execute_result"
    }
   ],
   "source": [
    "test_final.head()"
   ]
  },
  {
   "cell_type": "code",
   "execution_count": 47,
   "metadata": {
    "id": "Q0HPTbfjenxz"
   },
   "outputs": [],
   "source": [
    "\n",
    "test = test_final.groupby(by='EmployeeID').agg('max')"
   ]
  },
  {
   "cell_type": "code",
   "execution_count": 48,
   "metadata": {
    "colab": {
     "base_uri": "https://localhost:8080/"
    },
    "id": "Rn8da6W-ep75",
    "outputId": "b49a4f3b-a3fa-42c0-eddf-d0fc29d4de0b"
   },
   "outputs": [
    {
     "data": {
      "text/plain": [
       "(51, 11)"
      ]
     },
     "execution_count": 48,
     "metadata": {},
     "output_type": "execute_result"
    }
   ],
   "source": [
    "test.shape"
   ]
  },
  {
   "cell_type": "code",
   "execution_count": 49,
   "metadata": {
    "id": "6PHzUlkeervp"
   },
   "outputs": [],
   "source": [
    "\n",
    "train.to_csv(\"train.csv\", index=True)\n",
    "test.to_csv(\"test.csv\", index=True)"
   ]
  },
  {
   "cell_type": "markdown",
   "metadata": {
    "id": "enEy6Hj-e1Wm"
   },
   "source": [
    "## Feature engineering:"
   ]
  },
  {
   "cell_type": "code",
   "execution_count": 50,
   "metadata": {
    "id": "19_Z9XpbeuNn"
   },
   "outputs": [],
   "source": [
    "train_final = pd.read_csv(\"/home/u191324/inteloneapi hackathon/Untitled Folder/wokforce 360/train.csv\")\n",
    "test_final = pd.read_csv(\"/home/u191324/inteloneapi hackathon/Untitled Folder/wokforce 360/test.csv\")"
   ]
  },
  {
   "cell_type": "code",
   "execution_count": 51,
   "metadata": {
    "colab": {
     "base_uri": "https://localhost:8080/"
    },
    "id": "km4zvSmHe79N",
    "outputId": "a69c6eeb-1198-42bd-f270-0b35d32cec88"
   },
   "outputs": [
    {
     "name": "stdout",
     "output_type": "stream",
     "text": [
      "Index(['EmployeeID', 'Left_Company', 'Job_History', 'Joining_Date',\n",
      "       'Designation', 'Sex', 'TotalWorkingHours', 'Billable_Hours',\n",
      "       'Hours_off_Duty', 'Touring_Hours', 'NoOfProjects', 'ActualTimeSpent'],\n",
      "      dtype='object')\n"
     ]
    }
   ],
   "source": [
    "\n",
    "print((train_final.columns))"
   ]
  },
  {
   "cell_type": "code",
   "execution_count": 52,
   "metadata": {
    "colab": {
     "base_uri": "https://localhost:8080/"
    },
    "id": "Ny2WbVdRe-G9",
    "outputId": "935144c5-405a-404c-91fa-3bd58b71962a"
   },
   "outputs": [
    {
     "name": "stdout",
     "output_type": "stream",
     "text": [
      "Index(['EmployeeID', 'Left_Company', 'Job_History', 'Joining_Date',\n",
      "       'Designation', 'Sex', 'TotalWorkingHours', 'Billable_Hours',\n",
      "       'Hours_off_Duty', 'Touring_Hours', 'NoOfProjects', 'ActualTimeSpent'],\n",
      "      dtype='object')\n"
     ]
    }
   ],
   "source": [
    "print(test_final.columns)"
   ]
  },
  {
   "cell_type": "code",
   "execution_count": 53,
   "metadata": {
    "id": "7lepDjoofABR"
   },
   "outputs": [],
   "source": [
    "#Dropping\n",
    "train_final.drop(columns=['EmployeeID'], axis=1,inplace=True)\n",
    "test_final.drop(columns=['EmployeeID','Left_Company'], axis=1, inplace=True)"
   ]
  },
  {
   "cell_type": "code",
   "execution_count": 54,
   "metadata": {
    "colab": {
     "base_uri": "https://localhost:8080/"
    },
    "id": "2o17WRH8fBn1",
    "outputId": "e76cb38a-b76d-424e-d58e-7d38f2d1d5f7"
   },
   "outputs": [
    {
     "name": "stdout",
     "output_type": "stream",
     "text": [
      "Train data shape : (245, 11) \n",
      "Test data shape: (51, 10) \n"
     ]
    }
   ],
   "source": [
    "print(\"Train data shape : {} \" .format(train_final.shape))\n",
    "print(\"Test data shape: {} \".format(test_final.shape))"
   ]
  },
  {
   "cell_type": "code",
   "execution_count": 55,
   "metadata": {
    "colab": {
     "base_uri": "https://localhost:8080/",
     "height": 319
    },
    "id": "vnhPM_MAfDV1",
    "outputId": "90c5ea6b-bbc2-4b2a-a3ea-924558d4985b"
   },
   "outputs": [
    {
     "data": {
      "text/html": [
       "<div>\n",
       "<style scoped>\n",
       "    .dataframe tbody tr th:only-of-type {\n",
       "        vertical-align: middle;\n",
       "    }\n",
       "\n",
       "    .dataframe tbody tr th {\n",
       "        vertical-align: top;\n",
       "    }\n",
       "\n",
       "    .dataframe thead th {\n",
       "        text-align: right;\n",
       "    }\n",
       "</style>\n",
       "<table border=\"1\" class=\"dataframe\">\n",
       "  <thead>\n",
       "    <tr style=\"text-align: right;\">\n",
       "      <th></th>\n",
       "      <th>Left_Company</th>\n",
       "      <th>Job_History</th>\n",
       "      <th>Joining_Date</th>\n",
       "      <th>Designation</th>\n",
       "      <th>Sex</th>\n",
       "      <th>TotalWorkingHours</th>\n",
       "      <th>Billable_Hours</th>\n",
       "      <th>Hours_off_Duty</th>\n",
       "      <th>Touring_Hours</th>\n",
       "      <th>NoOfProjects</th>\n",
       "      <th>ActualTimeSpent</th>\n",
       "    </tr>\n",
       "  </thead>\n",
       "  <tbody>\n",
       "    <tr>\n",
       "      <th>0</th>\n",
       "      <td>0</td>\n",
       "      <td>Worked at Company - 639 , Company - 212 , Comp...</td>\n",
       "      <td>2011_01</td>\n",
       "      <td>MD</td>\n",
       "      <td>1</td>\n",
       "      <td>205.0</td>\n",
       "      <td>189.0</td>\n",
       "      <td>72.0</td>\n",
       "      <td>189.0</td>\n",
       "      <td>3</td>\n",
       "      <td>231</td>\n",
       "    </tr>\n",
       "    <tr>\n",
       "      <th>1</th>\n",
       "      <td>1</td>\n",
       "      <td>Worked at Company - 816 , Company - 724 , Comp...</td>\n",
       "      <td>2006_02</td>\n",
       "      <td>VP</td>\n",
       "      <td>0</td>\n",
       "      <td>241.0</td>\n",
       "      <td>233.0</td>\n",
       "      <td>120.0</td>\n",
       "      <td>186.0</td>\n",
       "      <td>2</td>\n",
       "      <td>147</td>\n",
       "    </tr>\n",
       "    <tr>\n",
       "      <th>2</th>\n",
       "      <td>0</td>\n",
       "      <td>Worked at Company - 562 , Company - 319</td>\n",
       "      <td>2011_12</td>\n",
       "      <td>Senior</td>\n",
       "      <td>1</td>\n",
       "      <td>278.0</td>\n",
       "      <td>264.0</td>\n",
       "      <td>40.0</td>\n",
       "      <td>264.0</td>\n",
       "      <td>3</td>\n",
       "      <td>308</td>\n",
       "    </tr>\n",
       "    <tr>\n",
       "      <th>3</th>\n",
       "      <td>0</td>\n",
       "      <td>Worked at Company - 212 , Company - 668 , Comp...</td>\n",
       "      <td>2012_01</td>\n",
       "      <td>Senior</td>\n",
       "      <td>1</td>\n",
       "      <td>345.5</td>\n",
       "      <td>233.5</td>\n",
       "      <td>64.0</td>\n",
       "      <td>0.0</td>\n",
       "      <td>2</td>\n",
       "      <td>217</td>\n",
       "    </tr>\n",
       "    <tr>\n",
       "      <th>4</th>\n",
       "      <td>0</td>\n",
       "      <td>Worked at Company - 234</td>\n",
       "      <td>2011_12</td>\n",
       "      <td>Senior</td>\n",
       "      <td>1</td>\n",
       "      <td>270.0</td>\n",
       "      <td>249.0</td>\n",
       "      <td>88.0</td>\n",
       "      <td>213.0</td>\n",
       "      <td>2</td>\n",
       "      <td>231</td>\n",
       "    </tr>\n",
       "  </tbody>\n",
       "</table>\n",
       "</div>"
      ],
      "text/plain": [
       "   Left_Company                                        Job_History  \\\n",
       "0             0  Worked at Company - 639 , Company - 212 , Comp...   \n",
       "1             1  Worked at Company - 816 , Company - 724 , Comp...   \n",
       "2             0            Worked at Company - 562 , Company - 319   \n",
       "3             0  Worked at Company - 212 , Company - 668 , Comp...   \n",
       "4             0                            Worked at Company - 234   \n",
       "\n",
       "  Joining_Date Designation  Sex  TotalWorkingHours  Billable_Hours  \\\n",
       "0      2011_01          MD    1              205.0           189.0   \n",
       "1      2006_02          VP    0              241.0           233.0   \n",
       "2      2011_12      Senior    1              278.0           264.0   \n",
       "3      2012_01      Senior    1              345.5           233.5   \n",
       "4      2011_12      Senior    1              270.0           249.0   \n",
       "\n",
       "   Hours_off_Duty  Touring_Hours  NoOfProjects  ActualTimeSpent  \n",
       "0            72.0          189.0             3              231  \n",
       "1           120.0          186.0             2              147  \n",
       "2            40.0          264.0             3              308  \n",
       "3            64.0            0.0             2              217  \n",
       "4            88.0          213.0             2              231  "
      ]
     },
     "execution_count": 55,
     "metadata": {},
     "output_type": "execute_result"
    }
   ],
   "source": [
    "train_final.head()"
   ]
  },
  {
   "cell_type": "code",
   "execution_count": 56,
   "metadata": {
    "id": "9dTzEPygfFTD"
   },
   "outputs": [],
   "source": [
    "# Splitting the Joini_date column into Joini year & Joiing month.\n",
    "\n",
    "train_final[['joining_year','joining_month']] = train_final['Joining_Date'].str.split(\"_\", expand=True)\n",
    "\n",
    "\n",
    "test_final[['joining_year','joining_month']] = test_final['Joining_Date'].str.split(\"_\", expand=True)"
   ]
  },
  {
   "cell_type": "code",
   "execution_count": 57,
   "metadata": {
    "colab": {
     "base_uri": "https://localhost:8080/",
     "height": 634
    },
    "id": "w7kRMyddfHBc",
    "outputId": "3dd253a7-3f87-4532-ca8b-28cb74ae9858"
   },
   "outputs": [
    {
     "data": {
      "text/html": [
       "<div>\n",
       "<style scoped>\n",
       "    .dataframe tbody tr th:only-of-type {\n",
       "        vertical-align: middle;\n",
       "    }\n",
       "\n",
       "    .dataframe tbody tr th {\n",
       "        vertical-align: top;\n",
       "    }\n",
       "\n",
       "    .dataframe thead th {\n",
       "        text-align: right;\n",
       "    }\n",
       "</style>\n",
       "<table border=\"1\" class=\"dataframe\">\n",
       "  <thead>\n",
       "    <tr style=\"text-align: right;\">\n",
       "      <th></th>\n",
       "      <th>Left_Company</th>\n",
       "      <th>Job_History</th>\n",
       "      <th>Joining_Date</th>\n",
       "      <th>Designation</th>\n",
       "      <th>Sex</th>\n",
       "      <th>TotalWorkingHours</th>\n",
       "      <th>Billable_Hours</th>\n",
       "      <th>Hours_off_Duty</th>\n",
       "      <th>Touring_Hours</th>\n",
       "      <th>NoOfProjects</th>\n",
       "      <th>ActualTimeSpent</th>\n",
       "      <th>joining_year</th>\n",
       "      <th>joining_month</th>\n",
       "    </tr>\n",
       "  </thead>\n",
       "  <tbody>\n",
       "    <tr>\n",
       "      <th>0</th>\n",
       "      <td>0</td>\n",
       "      <td>Worked at Company - 639 , Company - 212 , Comp...</td>\n",
       "      <td>2011_01</td>\n",
       "      <td>MD</td>\n",
       "      <td>1</td>\n",
       "      <td>205.0</td>\n",
       "      <td>189.0</td>\n",
       "      <td>72.0</td>\n",
       "      <td>189.0</td>\n",
       "      <td>3</td>\n",
       "      <td>231</td>\n",
       "      <td>2011</td>\n",
       "      <td>01</td>\n",
       "    </tr>\n",
       "    <tr>\n",
       "      <th>1</th>\n",
       "      <td>1</td>\n",
       "      <td>Worked at Company - 816 , Company - 724 , Comp...</td>\n",
       "      <td>2006_02</td>\n",
       "      <td>VP</td>\n",
       "      <td>0</td>\n",
       "      <td>241.0</td>\n",
       "      <td>233.0</td>\n",
       "      <td>120.0</td>\n",
       "      <td>186.0</td>\n",
       "      <td>2</td>\n",
       "      <td>147</td>\n",
       "      <td>2006</td>\n",
       "      <td>02</td>\n",
       "    </tr>\n",
       "    <tr>\n",
       "      <th>2</th>\n",
       "      <td>0</td>\n",
       "      <td>Worked at Company - 562 , Company - 319</td>\n",
       "      <td>2011_12</td>\n",
       "      <td>Senior</td>\n",
       "      <td>1</td>\n",
       "      <td>278.0</td>\n",
       "      <td>264.0</td>\n",
       "      <td>40.0</td>\n",
       "      <td>264.0</td>\n",
       "      <td>3</td>\n",
       "      <td>308</td>\n",
       "      <td>2011</td>\n",
       "      <td>12</td>\n",
       "    </tr>\n",
       "    <tr>\n",
       "      <th>3</th>\n",
       "      <td>0</td>\n",
       "      <td>Worked at Company - 212 , Company - 668 , Comp...</td>\n",
       "      <td>2012_01</td>\n",
       "      <td>Senior</td>\n",
       "      <td>1</td>\n",
       "      <td>345.5</td>\n",
       "      <td>233.5</td>\n",
       "      <td>64.0</td>\n",
       "      <td>0.0</td>\n",
       "      <td>2</td>\n",
       "      <td>217</td>\n",
       "      <td>2012</td>\n",
       "      <td>01</td>\n",
       "    </tr>\n",
       "    <tr>\n",
       "      <th>4</th>\n",
       "      <td>0</td>\n",
       "      <td>Worked at Company - 234</td>\n",
       "      <td>2011_12</td>\n",
       "      <td>Senior</td>\n",
       "      <td>1</td>\n",
       "      <td>270.0</td>\n",
       "      <td>249.0</td>\n",
       "      <td>88.0</td>\n",
       "      <td>213.0</td>\n",
       "      <td>2</td>\n",
       "      <td>231</td>\n",
       "      <td>2011</td>\n",
       "      <td>12</td>\n",
       "    </tr>\n",
       "  </tbody>\n",
       "</table>\n",
       "</div>"
      ],
      "text/plain": [
       "   Left_Company                                        Job_History  \\\n",
       "0             0  Worked at Company - 639 , Company - 212 , Comp...   \n",
       "1             1  Worked at Company - 816 , Company - 724 , Comp...   \n",
       "2             0            Worked at Company - 562 , Company - 319   \n",
       "3             0  Worked at Company - 212 , Company - 668 , Comp...   \n",
       "4             0                            Worked at Company - 234   \n",
       "\n",
       "  Joining_Date Designation  Sex  TotalWorkingHours  Billable_Hours  \\\n",
       "0      2011_01          MD    1              205.0           189.0   \n",
       "1      2006_02          VP    0              241.0           233.0   \n",
       "2      2011_12      Senior    1              278.0           264.0   \n",
       "3      2012_01      Senior    1              345.5           233.5   \n",
       "4      2011_12      Senior    1              270.0           249.0   \n",
       "\n",
       "   Hours_off_Duty  Touring_Hours  NoOfProjects  ActualTimeSpent joining_year  \\\n",
       "0            72.0          189.0             3              231         2011   \n",
       "1           120.0          186.0             2              147         2006   \n",
       "2            40.0          264.0             3              308         2011   \n",
       "3            64.0            0.0             2              217         2012   \n",
       "4            88.0          213.0             2              231         2011   \n",
       "\n",
       "  joining_month  \n",
       "0            01  \n",
       "1            02  \n",
       "2            12  \n",
       "3            01  \n",
       "4            12  "
      ]
     },
     "execution_count": 57,
     "metadata": {},
     "output_type": "execute_result"
    }
   ],
   "source": [
    "#checking\n",
    "train_final.head()"
   ]
  },
  {
   "cell_type": "code",
   "execution_count": 58,
   "metadata": {
    "id": "IB1owucdfIzU"
   },
   "outputs": [],
   "source": [
    "train_final['job_count'] = train_final['Job_History'].str.split(',').str.len()\n",
    "\n",
    "test_final['job_count'] = test_final['Job_History'].str.split(',').str.len()"
   ]
  },
  {
   "cell_type": "code",
   "execution_count": 59,
   "metadata": {
    "id": "TLqrbWZhfKhN"
   },
   "outputs": [],
   "source": [
    "#drop\n",
    "\n",
    "train_final.drop(columns=['Joining_Date'], axis=1, inplace=True)\n",
    "\n",
    "\n",
    "test_final.drop(columns=['Joining_Date'], axis=1, inplace=True)"
   ]
  },
  {
   "cell_type": "code",
   "execution_count": 60,
   "metadata": {
    "colab": {
     "base_uri": "https://localhost:8080/",
     "height": 634
    },
    "id": "fb0X3r5kfMPl",
    "outputId": "2af590bb-1cbd-4242-f99d-93aa2b0e68ba"
   },
   "outputs": [
    {
     "data": {
      "text/html": [
       "<div>\n",
       "<style scoped>\n",
       "    .dataframe tbody tr th:only-of-type {\n",
       "        vertical-align: middle;\n",
       "    }\n",
       "\n",
       "    .dataframe tbody tr th {\n",
       "        vertical-align: top;\n",
       "    }\n",
       "\n",
       "    .dataframe thead th {\n",
       "        text-align: right;\n",
       "    }\n",
       "</style>\n",
       "<table border=\"1\" class=\"dataframe\">\n",
       "  <thead>\n",
       "    <tr style=\"text-align: right;\">\n",
       "      <th></th>\n",
       "      <th>Left_Company</th>\n",
       "      <th>Job_History</th>\n",
       "      <th>Designation</th>\n",
       "      <th>Sex</th>\n",
       "      <th>TotalWorkingHours</th>\n",
       "      <th>Billable_Hours</th>\n",
       "      <th>Hours_off_Duty</th>\n",
       "      <th>Touring_Hours</th>\n",
       "      <th>NoOfProjects</th>\n",
       "      <th>ActualTimeSpent</th>\n",
       "      <th>joining_year</th>\n",
       "      <th>joining_month</th>\n",
       "      <th>job_count</th>\n",
       "    </tr>\n",
       "  </thead>\n",
       "  <tbody>\n",
       "    <tr>\n",
       "      <th>0</th>\n",
       "      <td>0</td>\n",
       "      <td>Worked at Company - 639 , Company - 212 , Comp...</td>\n",
       "      <td>MD</td>\n",
       "      <td>1</td>\n",
       "      <td>205.0</td>\n",
       "      <td>189.0</td>\n",
       "      <td>72.0</td>\n",
       "      <td>189.0</td>\n",
       "      <td>3</td>\n",
       "      <td>231</td>\n",
       "      <td>2011</td>\n",
       "      <td>01</td>\n",
       "      <td>3</td>\n",
       "    </tr>\n",
       "    <tr>\n",
       "      <th>1</th>\n",
       "      <td>1</td>\n",
       "      <td>Worked at Company - 816 , Company - 724 , Comp...</td>\n",
       "      <td>VP</td>\n",
       "      <td>0</td>\n",
       "      <td>241.0</td>\n",
       "      <td>233.0</td>\n",
       "      <td>120.0</td>\n",
       "      <td>186.0</td>\n",
       "      <td>2</td>\n",
       "      <td>147</td>\n",
       "      <td>2006</td>\n",
       "      <td>02</td>\n",
       "      <td>4</td>\n",
       "    </tr>\n",
       "    <tr>\n",
       "      <th>2</th>\n",
       "      <td>0</td>\n",
       "      <td>Worked at Company - 562 , Company - 319</td>\n",
       "      <td>Senior</td>\n",
       "      <td>1</td>\n",
       "      <td>278.0</td>\n",
       "      <td>264.0</td>\n",
       "      <td>40.0</td>\n",
       "      <td>264.0</td>\n",
       "      <td>3</td>\n",
       "      <td>308</td>\n",
       "      <td>2011</td>\n",
       "      <td>12</td>\n",
       "      <td>2</td>\n",
       "    </tr>\n",
       "    <tr>\n",
       "      <th>3</th>\n",
       "      <td>0</td>\n",
       "      <td>Worked at Company - 212 , Company - 668 , Comp...</td>\n",
       "      <td>Senior</td>\n",
       "      <td>1</td>\n",
       "      <td>345.5</td>\n",
       "      <td>233.5</td>\n",
       "      <td>64.0</td>\n",
       "      <td>0.0</td>\n",
       "      <td>2</td>\n",
       "      <td>217</td>\n",
       "      <td>2012</td>\n",
       "      <td>01</td>\n",
       "      <td>3</td>\n",
       "    </tr>\n",
       "    <tr>\n",
       "      <th>4</th>\n",
       "      <td>0</td>\n",
       "      <td>Worked at Company - 234</td>\n",
       "      <td>Senior</td>\n",
       "      <td>1</td>\n",
       "      <td>270.0</td>\n",
       "      <td>249.0</td>\n",
       "      <td>88.0</td>\n",
       "      <td>213.0</td>\n",
       "      <td>2</td>\n",
       "      <td>231</td>\n",
       "      <td>2011</td>\n",
       "      <td>12</td>\n",
       "      <td>1</td>\n",
       "    </tr>\n",
       "  </tbody>\n",
       "</table>\n",
       "</div>"
      ],
      "text/plain": [
       "   Left_Company                                        Job_History  \\\n",
       "0             0  Worked at Company - 639 , Company - 212 , Comp...   \n",
       "1             1  Worked at Company - 816 , Company - 724 , Comp...   \n",
       "2             0            Worked at Company - 562 , Company - 319   \n",
       "3             0  Worked at Company - 212 , Company - 668 , Comp...   \n",
       "4             0                            Worked at Company - 234   \n",
       "\n",
       "  Designation  Sex  TotalWorkingHours  Billable_Hours  Hours_off_Duty  \\\n",
       "0          MD    1              205.0           189.0            72.0   \n",
       "1          VP    0              241.0           233.0           120.0   \n",
       "2      Senior    1              278.0           264.0            40.0   \n",
       "3      Senior    1              345.5           233.5            64.0   \n",
       "4      Senior    1              270.0           249.0            88.0   \n",
       "\n",
       "   Touring_Hours  NoOfProjects  ActualTimeSpent joining_year joining_month  \\\n",
       "0          189.0             3              231         2011            01   \n",
       "1          186.0             2              147         2006            02   \n",
       "2          264.0             3              308         2011            12   \n",
       "3            0.0             2              217         2012            01   \n",
       "4          213.0             2              231         2011            12   \n",
       "\n",
       "   job_count  \n",
       "0          3  \n",
       "1          4  \n",
       "2          2  \n",
       "3          3  \n",
       "4          1  "
      ]
     },
     "execution_count": 60,
     "metadata": {},
     "output_type": "execute_result"
    }
   ],
   "source": [
    "train_final.head()"
   ]
  },
  {
   "cell_type": "code",
   "execution_count": 61,
   "metadata": {
    "colab": {
     "base_uri": "https://localhost:8080/"
    },
    "id": "hRRebtHafNw5",
    "outputId": "106f703c-b5ce-44be-a51e-36313591dc66"
   },
   "outputs": [
    {
     "data": {
      "text/plain": [
       "Left_Company           int64\n",
       "Job_History           object\n",
       "Designation           object\n",
       "Sex                    int64\n",
       "TotalWorkingHours    float64\n",
       "Billable_Hours       float64\n",
       "Hours_off_Duty       float64\n",
       "Touring_Hours        float64\n",
       "NoOfProjects           int64\n",
       "ActualTimeSpent        int64\n",
       "joining_year          object\n",
       "joining_month         object\n",
       "job_count              int64\n",
       "dtype: object"
      ]
     },
     "execution_count": 61,
     "metadata": {},
     "output_type": "execute_result"
    }
   ],
   "source": [
    "train_final.dtypes #check\n"
   ]
  },
  {
   "cell_type": "code",
   "execution_count": 62,
   "metadata": {
    "colab": {
     "base_uri": "https://localhost:8080/"
    },
    "id": "yqi9PPswfPiT",
    "outputId": "44999d53-8974-4074-9493-d848c07f6df6"
   },
   "outputs": [
    {
     "data": {
      "text/plain": [
       "Job_History           object\n",
       "Designation           object\n",
       "Sex                    int64\n",
       "TotalWorkingHours    float64\n",
       "Billable_Hours       float64\n",
       "Hours_off_Duty       float64\n",
       "Touring_Hours        float64\n",
       "NoOfProjects           int64\n",
       "ActualTimeSpent        int64\n",
       "joining_year          object\n",
       "joining_month         object\n",
       "job_count              int64\n",
       "dtype: object"
      ]
     },
     "execution_count": 62,
     "metadata": {},
     "output_type": "execute_result"
    }
   ],
   "source": [
    "test_final.dtypes #check "
   ]
  },
  {
   "cell_type": "code",
   "execution_count": 63,
   "metadata": {
    "id": "-oeOR8BbfRVI"
   },
   "outputs": [],
   "source": [
    "\n",
    "train_copy = train_final.copy()\n",
    "test_copy = test_final.copy()"
   ]
  },
  {
   "cell_type": "code",
   "execution_count": 64,
   "metadata": {
    "id": "J4-WXhmWfS5X"
   },
   "outputs": [],
   "source": [
    "\n",
    "\n",
    "for col in ['TotalWorkingHours','Billable_Hours','Hours_off_Duty','Touring_Hours']:\n",
    "  train_final[col] = train_final[col].astype('float')"
   ]
  },
  {
   "cell_type": "code",
   "execution_count": 65,
   "metadata": {
    "id": "cn9NBEPyfUgz"
   },
   "outputs": [],
   "source": [
    "\n",
    "for col in ['TotalWorkingHours','Billable_Hours','Hours_off_Duty','Touring_Hours']:\n",
    "  test_final[col] = test_final[col].astype('float')"
   ]
  },
  {
   "cell_type": "code",
   "execution_count": null,
   "metadata": {
    "id": "pmJRhMx3fWds"
   },
   "outputs": [],
   "source": []
  },
  {
   "cell_type": "markdown",
   "metadata": {
    "id": "nl9dybS1fYua"
   },
   "source": [
    "### Converting objects to categories "
   ]
  },
  {
   "cell_type": "code",
   "execution_count": 66,
   "metadata": {
    "id": "OnDjIj5PfZHe"
   },
   "outputs": [],
   "source": [
    "\n",
    "\n",
    "for col in ['Sex','Designation','NoOfProjects','joining_year','joining_month','Job_History']:\n",
    "  train_final[col] = train_final[col].astype('category')\n",
    "#on testing data \n",
    "\n",
    "for col in ['Sex','Designation','NoOfProjects','joining_year','joining_month','Job_History']:\n",
    "  test_final[col] = test_final[col].astype('category')\n",
    "\n",
    "train_final['Left_Company'] = train_final['Left_Company'].astype('category')"
   ]
  },
  {
   "cell_type": "code",
   "execution_count": 67,
   "metadata": {
    "id": "yjdeNxQhfbdw"
   },
   "outputs": [],
   "source": [
    "\n",
    "\n",
    "cat_attr = list(train_final.select_dtypes(\"category\").columns) #exclude target column inthe list\n",
    "num_attr = list(test_final.columns.difference(cat_attr))\n",
    "\n",
    "# cat_attr.pop()"
   ]
  },
  {
   "cell_type": "code",
   "execution_count": 68,
   "metadata": {
    "id": "YWWhzZ86fdOG"
   },
   "outputs": [],
   "source": [
    "cat_attr.remove('Left_Company')"
   ]
  },
  {
   "cell_type": "code",
   "execution_count": 69,
   "metadata": {
    "colab": {
     "base_uri": "https://localhost:8080/"
    },
    "id": "C9fcBiqkfe_H",
    "outputId": "bd0c7d0f-e27b-4870-f203-84adedce7623"
   },
   "outputs": [
    {
     "data": {
      "text/plain": [
       "['Job_History',\n",
       " 'Designation',\n",
       " 'Sex',\n",
       " 'NoOfProjects',\n",
       " 'joining_year',\n",
       " 'joining_month']"
      ]
     },
     "execution_count": 69,
     "metadata": {},
     "output_type": "execute_result"
    }
   ],
   "source": [
    "cat_attr"
   ]
  },
  {
   "cell_type": "code",
   "execution_count": 70,
   "metadata": {
    "colab": {
     "base_uri": "https://localhost:8080/"
    },
    "id": "dWCre3KIfg9P",
    "outputId": "41e92ee4-8058-4345-8956-1f0fbfbd51b7"
   },
   "outputs": [
    {
     "data": {
      "text/plain": [
       "['ActualTimeSpent',\n",
       " 'Billable_Hours',\n",
       " 'Hours_off_Duty',\n",
       " 'TotalWorkingHours',\n",
       " 'Touring_Hours',\n",
       " 'job_count']"
      ]
     },
     "execution_count": 70,
     "metadata": {},
     "output_type": "execute_result"
    }
   ],
   "source": [
    "num_attr"
   ]
  },
  {
   "cell_type": "code",
   "execution_count": null,
   "metadata": {
    "id": "YoF6sDyVfimn"
   },
   "outputs": [],
   "source": []
  },
  {
   "cell_type": "markdown",
   "metadata": {
    "id": "hETtU7Qbfly2"
   },
   "source": [
    "### Columns with missing values"
   ]
  },
  {
   "cell_type": "code",
   "execution_count": 71,
   "metadata": {
    "colab": {
     "base_uri": "https://localhost:8080/"
    },
    "id": "VhLdszJEfmLC",
    "outputId": "0f977534-cc2e-4db0-9a82-12a1baee4af6"
   },
   "outputs": [
    {
     "name": "stdout",
     "output_type": "stream",
     "text": [
      "Index([], dtype='object')\n",
      "Index([], dtype='object')\n"
     ]
    }
   ],
   "source": [
    "\n",
    "missing_cols_train = train_final.columns[train_final.isnull().any()]\n",
    "print(missing_cols_train)\n",
    "\n",
    "missing_cols_test = test_final.columns[test_final.isnull().any()]\n",
    "print(missing_cols_test)"
   ]
  },
  {
   "cell_type": "code",
   "execution_count": 72,
   "metadata": {
    "colab": {
     "base_uri": "https://localhost:8080/"
    },
    "id": "McZVx_G2KIq0",
    "outputId": "6be7dcbf-cd9b-4a64-b68c-4880bcaa1149"
   },
   "outputs": [
    {
     "name": "stdout",
     "output_type": "stream",
     "text": [
      "Defaulting to user installation because normal site-packages is not writeable\n",
      "Requirement already satisfied: optuna in /home/u191324/.local/lib/python3.9/site-packages (3.1.1)\n",
      "Requirement already satisfied: colorlog in /home/u191324/.local/lib/python3.9/site-packages (from optuna) (6.7.0)\n",
      "Requirement already satisfied: sqlalchemy>=1.3.0 in /home/u191324/.local/lib/python3.9/site-packages (from optuna) (2.0.10)\n",
      "Requirement already satisfied: packaging>=20.0 in /glob/development-tools/versions/oneapi/2023.0.1/oneapi/intelpython/python3.9/lib/python3.9/site-packages (from optuna) (21.3)\n",
      "Requirement already satisfied: numpy in /glob/development-tools/versions/oneapi/2023.0.1/oneapi/intelpython/python3.9/lib/python3.9/site-packages (from optuna) (1.22.3)\n",
      "Requirement already satisfied: PyYAML in /glob/development-tools/versions/oneapi/2023.0.1/oneapi/intelpython/python3.9/lib/python3.9/site-packages (from optuna) (6.0)\n",
      "Requirement already satisfied: cmaes>=0.9.1 in /home/u191324/.local/lib/python3.9/site-packages (from optuna) (0.9.1)\n",
      "Requirement already satisfied: alembic>=1.5.0 in /home/u191324/.local/lib/python3.9/site-packages (from optuna) (1.10.4)\n",
      "Requirement already satisfied: tqdm in /glob/development-tools/versions/oneapi/2023.0.1/oneapi/intelpython/python3.9/lib/python3.9/site-packages (from optuna) (4.64.0)\n",
      "Requirement already satisfied: typing-extensions>=4 in /home/u191324/.local/lib/python3.9/site-packages (from alembic>=1.5.0->optuna) (4.5.0)\n",
      "Requirement already satisfied: Mako in /home/u191324/.local/lib/python3.9/site-packages (from alembic>=1.5.0->optuna) (1.2.4)\n",
      "Requirement already satisfied: pyparsing!=3.0.5,>=2.0.2 in /glob/development-tools/versions/oneapi/2023.0.1/oneapi/intelpython/python3.9/lib/python3.9/site-packages (from packaging>=20.0->optuna) (3.0.9)\n",
      "Requirement already satisfied: greenlet!=0.4.17 in /home/u191324/.local/lib/python3.9/site-packages (from sqlalchemy>=1.3.0->optuna) (2.0.2)\n",
      "Requirement already satisfied: MarkupSafe>=0.9.2 in /home/u191324/.local/lib/python3.9/site-packages (from Mako->alembic>=1.5.0->optuna) (2.1.2)\n",
      "Note: you may need to restart the kernel to use updated packages.\n"
     ]
    }
   ],
   "source": [
    "pip install optuna"
   ]
  },
  {
   "cell_type": "markdown",
   "metadata": {
    "id": "K6dP9zBxGC4d"
   },
   "source": []
  },
  {
   "cell_type": "code",
   "execution_count": 73,
   "metadata": {
    "colab": {
     "base_uri": "https://localhost:8080/"
    },
    "id": "B09L-gC7GDML",
    "outputId": "360f8421-b007-4f6f-8af1-583b22f70b75"
   },
   "outputs": [
    {
     "name": "stderr",
     "output_type": "stream",
     "text": [
      "Intel(R) Extension for Scikit-learn* enabled (https://github.com/intel/scikit-learn-intelex)\n",
      "Intel(R) Extension for Scikit-learn* enabled (https://github.com/intel/scikit-learn-intelex)\n",
      "Intel(R) Extension for Scikit-learn* enabled (https://github.com/intel/scikit-learn-intelex)\n"
     ]
    }
   ],
   "source": [
    "from sklearnex import patch_sklearn\n",
    "patch_sklearn()\n",
    "from IPython.display import HTML\n",
    "from timeit import default_timer as timer\n",
    "from sklearnex import patch_sklearn\n",
    "# The names match scikit-learn estimators\n",
    "patch_sklearn(\"SVC\")\n",
    "from sklearnex import patch_sklearn\n",
    "# The names match scikit-learn estimators\n",
    "patch_sklearn([\"SVC\", \"DBSCAN\",\"Kmeans\"])\n",
    "from sklearn.ensemble import StackingRegressor\n",
    "import optuna \n",
    "from sklearn.linear_model import LogisticRegression\n",
    "from sklearn.metrics import roc_curve, auc"
   ]
  },
  {
   "cell_type": "code",
   "execution_count": 74,
   "metadata": {
    "id": "wmy49B6pK_lZ"
   },
   "outputs": [],
   "source": [
    "def objective(trial):\n",
    "    params ={\n",
    "        'C': trial.suggest_float('C', 0.000000001, 1.0),\n",
    "        'random_state': 0,\n",
    "        'n_jobs': -1,\n",
    "    }\n",
    "    model = LogisticRegression(**params).fit(x_train, y_train)\n",
    "    y_pred = model.predict_proba(x_val)[:, 1]\n",
    "    fpr, tpr, _ = roc_curve(y_val, y_pred)\n",
    "    score = auc(fpr, tpr)\n",
    "    return score"
   ]
  },
  {
   "cell_type": "code",
   "execution_count": null,
   "metadata": {
    "id": "cU6n6HivLdB_"
   },
   "outputs": [],
   "source": []
  },
  {
   "cell_type": "code",
   "execution_count": 75,
   "metadata": {
    "colab": {
     "base_uri": "https://localhost:8080/"
    },
    "id": "00Y2a0wcLOAc",
    "outputId": "1cfa68b6-d072-47f4-d46d-f1deab2c166f"
   },
   "outputs": [
    {
     "name": "stderr",
     "output_type": "stream",
     "text": [
      "\u001b[32m[I 2023-04-26 08:58:06,989]\u001b[0m A new study created in memory with name: no-name-13cbb56b-0f01-4c11-a983-adb7dfc21194\u001b[0m\n"
     ]
    }
   ],
   "source": [
    "study = optuna.create_study(sampler=optuna.samplers.TPESampler(seed=123),\n",
    "                            direction=\"maximize\",\n",
    "                            pruner=optuna.pruners.HyperbandPruner())\n",
    "\n"
   ]
  },
  {
   "cell_type": "markdown",
   "metadata": {
    "id": "MtkdqJXNf1Zo"
   },
   "source": [
    "## Dummification"
   ]
  },
  {
   "cell_type": "code",
   "execution_count": 76,
   "metadata": {
    "id": "34xY1Bw-f1zt"
   },
   "outputs": [],
   "source": [
    "y= train_final['Left_Company']\n",
    "\n",
    "del train_final['Left_Company']\n",
    "X = train_final"
   ]
  },
  {
   "cell_type": "code",
   "execution_count": 77,
   "metadata": {
    "id": "bn9R79QvfrSK"
   },
   "outputs": [],
   "source": [
    "\n",
    "#One hot encoding  train\n",
    "\n",
    "dummy_train = pd.get_dummies(data= X, columns= cat_attr, drop_first=True)"
   ]
  },
  {
   "cell_type": "code",
   "execution_count": 78,
   "metadata": {
    "colab": {
     "base_uri": "https://localhost:8080/"
    },
    "id": "IyhPgMt7f9F_",
    "outputId": "4bdd3f66-afec-45b5-8049-bd5b00012a70"
   },
   "outputs": [
    {
     "data": {
      "text/plain": [
       "(245, 283)"
      ]
     },
     "execution_count": 78,
     "metadata": {},
     "output_type": "execute_result"
    }
   ],
   "source": [
    "dummy_train.shape"
   ]
  },
  {
   "cell_type": "code",
   "execution_count": 79,
   "metadata": {
    "id": "FYIndvKUf-mo"
   },
   "outputs": [],
   "source": [
    "#One hot encoding in test\n",
    "\n",
    "test_final = pd.get_dummies(data= test_final, columns= cat_attr, drop_first=True)"
   ]
  },
  {
   "cell_type": "code",
   "execution_count": 80,
   "metadata": {
    "colab": {
     "base_uri": "https://localhost:8080/"
    },
    "id": "11I3mHh9gOrG",
    "outputId": "77d7515e-926d-46ce-82a0-27976c3dc32f"
   },
   "outputs": [
    {
     "name": "stdout",
     "output_type": "stream",
     "text": [
      "(51, 86)\n"
     ]
    }
   ],
   "source": [
    "print(test_final.shape)"
   ]
  },
  {
   "cell_type": "code",
   "execution_count": 81,
   "metadata": {
    "id": "sHvajRMQgB68"
   },
   "outputs": [],
   "source": [
    "# Aligninng \n",
    "\n",
    "dummy_train, test_final = dummy_train.align(test_final, join='left', axis=1)"
   ]
  },
  {
   "cell_type": "code",
   "execution_count": 82,
   "metadata": {
    "colab": {
     "base_uri": "https://localhost:8080/"
    },
    "id": "rvsGvxrPgSKW",
    "outputId": "d9e30643-e6ec-455b-ceca-1e5e7b653a97"
   },
   "outputs": [
    {
     "name": "stdout",
     "output_type": "stream",
     "text": [
      "12597\n"
     ]
    }
   ],
   "source": [
    "#checking for missing valurd;\n",
    "print(test_final.isnull().sum().sum())\n",
    "\n",
    "test_final.fillna(value=0, inplace=True)"
   ]
  },
  {
   "cell_type": "code",
   "execution_count": null,
   "metadata": {
    "id": "1u6IUuNzgUEK"
   },
   "outputs": [],
   "source": [
    "\n"
   ]
  },
  {
   "cell_type": "code",
   "execution_count": 83,
   "metadata": {
    "id": "YJksYHqLgWK8"
   },
   "outputs": [],
   "source": [
    "#standardize \n",
    "\n",
    "std = StandardScaler() #Instantiating an object. \n",
    "std.fit(dummy_train) #Fittin gon th train data\n",
    "\n",
    "std_x = std.transform(dummy_train) \n",
    "std_test = std.transform(test_final)"
   ]
  },
  {
   "cell_type": "code",
   "execution_count": 84,
   "metadata": {
    "colab": {
     "base_uri": "https://localhost:8080/"
    },
    "id": "8uagZzokgYNL",
    "outputId": "6a58a375-c8fe-4289-dc27-3392dc868144"
   },
   "outputs": [
    {
     "name": "stdout",
     "output_type": "stream",
     "text": [
      "(245, 283)\n",
      "(51, 283)\n"
     ]
    }
   ],
   "source": [
    "print(std_x.shape)\n",
    "print(std_test.shape)"
   ]
  },
  {
   "cell_type": "code",
   "execution_count": 85,
   "metadata": {
    "id": "AlyDJFMdgZ0R"
   },
   "outputs": [],
   "source": [
    "#### now predicting the model ny logisticc regression , desion treee  on 6 - yet to complete level 1"
   ]
  },
  {
   "cell_type": "code",
   "execution_count": null,
   "metadata": {
    "id": "GC-NThCehuOK"
   },
   "outputs": [],
   "source": []
  },
  {
   "cell_type": "markdown",
   "metadata": {
    "id": "-MV6vX9aZBnj"
   },
   "source": [
    "# Models On complete std data without splitting : \n",
    "\n",
    " "
   ]
  },
  {
   "cell_type": "code",
   "execution_count": 86,
   "metadata": {
    "colab": {
     "base_uri": "https://localhost:8080/",
     "height": 74
    },
    "id": "VeFZ3hiyZCtw",
    "outputId": "55e8c865-eb34-4ef1-819f-2a1030fc998e"
   },
   "outputs": [
    {
     "data": {
      "text/html": [
       "<style>#sk-container-id-1 {color: black;background-color: white;}#sk-container-id-1 pre{padding: 0;}#sk-container-id-1 div.sk-toggleable {background-color: white;}#sk-container-id-1 label.sk-toggleable__label {cursor: pointer;display: block;width: 100%;margin-bottom: 0;padding: 0.3em;box-sizing: border-box;text-align: center;}#sk-container-id-1 label.sk-toggleable__label-arrow:before {content: \"▸\";float: left;margin-right: 0.25em;color: #696969;}#sk-container-id-1 label.sk-toggleable__label-arrow:hover:before {color: black;}#sk-container-id-1 div.sk-estimator:hover label.sk-toggleable__label-arrow:before {color: black;}#sk-container-id-1 div.sk-toggleable__content {max-height: 0;max-width: 0;overflow: hidden;text-align: left;background-color: #f0f8ff;}#sk-container-id-1 div.sk-toggleable__content pre {margin: 0.2em;color: black;border-radius: 0.25em;background-color: #f0f8ff;}#sk-container-id-1 input.sk-toggleable__control:checked~div.sk-toggleable__content {max-height: 200px;max-width: 100%;overflow: auto;}#sk-container-id-1 input.sk-toggleable__control:checked~label.sk-toggleable__label-arrow:before {content: \"▾\";}#sk-container-id-1 div.sk-estimator input.sk-toggleable__control:checked~label.sk-toggleable__label {background-color: #d4ebff;}#sk-container-id-1 div.sk-label input.sk-toggleable__control:checked~label.sk-toggleable__label {background-color: #d4ebff;}#sk-container-id-1 input.sk-hidden--visually {border: 0;clip: rect(1px 1px 1px 1px);clip: rect(1px, 1px, 1px, 1px);height: 1px;margin: -1px;overflow: hidden;padding: 0;position: absolute;width: 1px;}#sk-container-id-1 div.sk-estimator {font-family: monospace;background-color: #f0f8ff;border: 1px dotted black;border-radius: 0.25em;box-sizing: border-box;margin-bottom: 0.5em;}#sk-container-id-1 div.sk-estimator:hover {background-color: #d4ebff;}#sk-container-id-1 div.sk-parallel-item::after {content: \"\";width: 100%;border-bottom: 1px solid gray;flex-grow: 1;}#sk-container-id-1 div.sk-label:hover label.sk-toggleable__label {background-color: #d4ebff;}#sk-container-id-1 div.sk-serial::before {content: \"\";position: absolute;border-left: 1px solid gray;box-sizing: border-box;top: 0;bottom: 0;left: 50%;z-index: 0;}#sk-container-id-1 div.sk-serial {display: flex;flex-direction: column;align-items: center;background-color: white;padding-right: 0.2em;padding-left: 0.2em;position: relative;}#sk-container-id-1 div.sk-item {position: relative;z-index: 1;}#sk-container-id-1 div.sk-parallel {display: flex;align-items: stretch;justify-content: center;background-color: white;position: relative;}#sk-container-id-1 div.sk-item::before, #sk-container-id-1 div.sk-parallel-item::before {content: \"\";position: absolute;border-left: 1px solid gray;box-sizing: border-box;top: 0;bottom: 0;left: 50%;z-index: -1;}#sk-container-id-1 div.sk-parallel-item {display: flex;flex-direction: column;z-index: 1;position: relative;background-color: white;}#sk-container-id-1 div.sk-parallel-item:first-child::after {align-self: flex-end;width: 50%;}#sk-container-id-1 div.sk-parallel-item:last-child::after {align-self: flex-start;width: 50%;}#sk-container-id-1 div.sk-parallel-item:only-child::after {width: 0;}#sk-container-id-1 div.sk-dashed-wrapped {border: 1px dashed gray;margin: 0 0.4em 0.5em 0.4em;box-sizing: border-box;padding-bottom: 0.4em;background-color: white;}#sk-container-id-1 div.sk-label label {font-family: monospace;font-weight: bold;display: inline-block;line-height: 1.2em;}#sk-container-id-1 div.sk-label-container {text-align: center;}#sk-container-id-1 div.sk-container {/* jupyter's `normalize.less` sets `[hidden] { display: none; }` but bootstrap.min.css set `[hidden] { display: none !important; }` so we also need the `!important` here to be able to override the default hidden behavior on the sphinx rendered scikit-learn.org. See: https://github.com/scikit-learn/scikit-learn/issues/21755 */display: inline-block !important;position: relative;}#sk-container-id-1 div.sk-text-repr-fallback {display: none;}</style><div id=\"sk-container-id-1\" class=\"sk-top-container\"><div class=\"sk-text-repr-fallback\"><pre>LogisticRegression()</pre><b>In a Jupyter environment, please rerun this cell to show the HTML representation or trust the notebook. <br />On GitHub, the HTML representation is unable to render, please try loading this page with nbviewer.org.</b></div><div class=\"sk-container\" hidden><div class=\"sk-item\"><div class=\"sk-estimator sk-toggleable\"><input class=\"sk-toggleable__control sk-hidden--visually\" id=\"sk-estimator-id-1\" type=\"checkbox\" checked><label for=\"sk-estimator-id-1\" class=\"sk-toggleable__label sk-toggleable__label-arrow\">LogisticRegression</label><div class=\"sk-toggleable__content\"><pre>LogisticRegression()</pre></div></div></div></div></div>"
      ],
      "text/plain": [
       "LogisticRegression()"
      ]
     },
     "execution_count": 86,
     "metadata": {},
     "output_type": "execute_result"
    }
   ],
   "source": [
    "log_reg = LogisticRegression()\n",
    "\n",
    "log_reg.fit(std_x, y)\n"
   ]
  },
  {
   "cell_type": "code",
   "execution_count": 87,
   "metadata": {
    "colab": {
     "base_uri": "https://localhost:8080/"
    },
    "id": "5jATxBhBZRAD",
    "outputId": "6c4d2979-ae0e-4035-b695-62c0a3a0574d"
   },
   "outputs": [
    {
     "name": "stdout",
     "output_type": "stream",
     "text": [
      "1.0\n"
     ]
    }
   ],
   "source": [
    "log_pred = log_reg.predict(std_x)\n",
    "\n",
    "print(f1_score(y, log_pred))"
   ]
  },
  {
   "cell_type": "code",
   "execution_count": null,
   "metadata": {
    "id": "Kyqg5kxLZSH5"
   },
   "outputs": [],
   "source": []
  },
  {
   "cell_type": "markdown",
   "metadata": {
    "id": "rJ3cOaQNZUge"
   },
   "source": [
    "##  Model-2  Decision tree :"
   ]
  },
  {
   "cell_type": "code",
   "execution_count": 88,
   "metadata": {
    "colab": {
     "base_uri": "https://localhost:8080/"
    },
    "id": "vyhmWchPZVCJ",
    "outputId": "96bbf362-62aa-4d2d-a9ad-8ec22ae918f7"
   },
   "outputs": [
    {
     "name": "stderr",
     "output_type": "stream",
     "text": [
      "Intel(R) Extension for Scikit-learn* enabled (https://github.com/intel/scikit-learn-intelex)\n",
      "Intel(R) Extension for Scikit-learn* enabled (https://github.com/intel/scikit-learn-intelex)\n",
      "Intel(R) Extension for Scikit-learn* enabled (https://github.com/intel/scikit-learn-intelex)\n",
      "Intel(R) Extension for Scikit-learn* enabled (https://github.com/intel/scikit-learn-intelex)\n",
      "Intel(R) Extension for Scikit-learn* enabled (https://github.com/intel/scikit-learn-intelex)\n",
      "Intel(R) Extension for Scikit-learn* enabled (https://github.com/intel/scikit-learn-intelex)\n",
      "Intel(R) Extension for Scikit-learn* enabled (https://github.com/intel/scikit-learn-intelex)\n",
      "Intel(R) Extension for Scikit-learn* enabled (https://github.com/intel/scikit-learn-intelex)\n",
      "Intel(R) Extension for Scikit-learn* enabled (https://github.com/intel/scikit-learn-intelex)\n",
      "Intel(R) Extension for Scikit-learn* enabled (https://github.com/intel/scikit-learn-intelex)\n",
      "Intel(R) Extension for Scikit-learn* enabled (https://github.com/intel/scikit-learn-intelex)\n",
      "Intel(R) Extension for Scikit-learn* enabled (https://github.com/intel/scikit-learn-intelex)\n"
     ]
    },
    {
     "name": "stdout",
     "output_type": "stream",
     "text": [
      "{'criterion': 'entropy', 'max_depth': 3, 'min_samples_leaf': 1, 'min_samples_split': 2}\n",
      "0.851063829787234\n",
      "CPU times: user 333 ms, sys: 163 ms, total: 496 ms\n",
      "Wall time: 2.47 s\n"
     ]
    }
   ],
   "source": [
    "%%time\n",
    "clf_dt =  DecisionTreeClassifier()\n",
    "\n",
    "dt_param_grid = {'criterion': ['entropy', 'gini'], \n",
    "                 'max_depth': [3,4,5],\n",
    "                 \"min_samples_split\": [2,5],\n",
    "                 \"min_samples_leaf\": [1,3,5]}\n",
    "\n",
    "dt_grid = GridSearchCV(clf_dt, param_grid=dt_param_grid, n_jobs=-1, cv=10,return_train_score=True)\n",
    "\n",
    "dt_grid.fit(std_x,y)\n",
    "\n",
    "print(dt_grid.best_params_)\n",
    "\n",
    "dt_pred = dt_grid.predict(std_x)\n",
    "\n",
    "print(f1_score(y, dt_pred))"
   ]
  },
  {
   "cell_type": "code",
   "execution_count": null,
   "metadata": {
    "id": "Bu8SJJ05ZWoO"
   },
   "outputs": [],
   "source": []
  },
  {
   "cell_type": "markdown",
   "metadata": {
    "id": "pS7TFA-BZY3m"
   },
   "source": [
    "## Model-3 --Build Gradient Boosting "
   ]
  },
  {
   "cell_type": "code",
   "execution_count": 89,
   "metadata": {
    "colab": {
     "base_uri": "https://localhost:8080/"
    },
    "id": "CXCrZZf8ZZYE",
    "outputId": "1e83a176-a87b-4e6e-941b-1fb0a7c49d4f"
   },
   "outputs": [
    {
     "name": "stdout",
     "output_type": "stream",
     "text": [
      "The Best parameters are: {'learning_rate': 0.1, 'max_depth': 2, 'max_features': 0.3, 'n_estimators': 30, 'subsample': 0.8} .\n",
      "0.851063829787234\n",
      "CPU times: user 146 ms, sys: 20.3 ms, total: 166 ms\n",
      "Wall time: 308 ms\n"
     ]
    }
   ],
   "source": [
    "\n",
    "%%time\n",
    "clf_gbc = GradientBoostingClassifier()\n",
    "\n",
    "gbm_param_grid = {'max_depth': [2,3,4],\n",
    "                  'subsample': [0.8,0.6],\n",
    "                  'max_features':[0.3], \n",
    "                  'n_estimators': [10, 20, 30],\n",
    "                  'learning_rate':[0.1]}\n",
    "\n",
    "gbm_grid = GridSearchCV(clf_gbc, param_grid=gbm_param_grid, n_jobs =-1, cv=5)\n",
    "\n",
    "gbm_grid.fit(std_x,y)\n",
    "\n",
    "print(\"The Best parameters are: {} .\".format(gbm_grid.best_params_))\n",
    "\n",
    "train_pred_gb = gbm_grid.predict(std_x)\n",
    "\n",
    "print(f1_score(y, train_pred_gb))\n",
    "\n"
   ]
  },
  {
   "cell_type": "code",
   "execution_count": 90,
   "metadata": {
    "id": "WH1SPp0PZauO"
   },
   "outputs": [],
   "source": [
    "# Building model after outholding the dataset."
   ]
  },
  {
   "cell_type": "code",
   "execution_count": 91,
   "metadata": {
    "id": "WadTL3uYZdaj"
   },
   "outputs": [],
   "source": [
    "x_train, x_test, y_train, y_test = train_test_split(std_x, y, test_size=0.3, random_state=11, stratify=y)\n"
   ]
  },
  {
   "cell_type": "code",
   "execution_count": 92,
   "metadata": {
    "id": "Jaaa6QOoZiN8"
   },
   "outputs": [],
   "source": [
    "sm = SMOTE(random_state=2)\n",
    "\n",
    "x_train_re, y_train_re = sm.fit_resample(x_train, y_train.ravel())\n",
    "x_test_re, y_test_re = sm.fit_resample(x_test,y_test.ravel())\n"
   ]
  },
  {
   "cell_type": "markdown",
   "metadata": {
    "id": "6lZ5dCO3ZySs"
   },
   "source": [
    "## Model-1 Gradient Boosting : "
   ]
  },
  {
   "cell_type": "code",
   "execution_count": 93,
   "metadata": {
    "colab": {
     "base_uri": "https://localhost:8080/"
    },
    "id": "XxMvtL42Zy0D",
    "outputId": "8e12f80d-56b0-4cbd-fa60-1683adc3e36c"
   },
   "outputs": [
    {
     "name": "stdout",
     "output_type": "stream",
     "text": [
      "The Best parameters are: {'learning_rate': 0.1, 'max_depth': 4, 'max_features': 0.3, 'n_estimators': 6, 'subsample': 0.8} .\n",
      "99.00332225913621\n",
      "95.23809523809523\n",
      "CPU times: user 863 ms, sys: 89.2 ms, total: 952 ms\n",
      "Wall time: 1.55 s\n"
     ]
    }
   ],
   "source": [
    "\n",
    "%%time\n",
    "clf_gbc = GradientBoostingClassifier()\n",
    "\n",
    "gbm_param_grid = {'max_depth': [2,3,4],\n",
    "                  'subsample': [0.8,0.6],\n",
    "                  'max_features':[0.3, 0.4], \n",
    "                  'n_estimators': [1,2,3,4,5,6,7,8,9,10],\n",
    "                  'learning_rate':[0.1, 0.01, 0.001]} #making learning rate lesser gave the best results\n",
    "\n",
    "gbm_grid_1 = GridSearchCV(clf_gbc, param_grid=gbm_param_grid, n_jobs =-1, cv=5)\n",
    "\n",
    "gbm_grid_1.fit(x_train_re,y_train_re)\n",
    "\n",
    "print(\"The Best parameters are: {} .\".format(gbm_grid_1.best_params_))\n",
    "\n",
    "train_pred_gb_2 = gbm_grid_1.predict(x_train_re)\n",
    "test_pred_gb_2 = gbm_grid_1.predict(x_test_re)\n",
    "print(f1_score(y_train_re, train_pred_gb_2)*100)\n",
    "print(f1_score(y_test_re, test_pred_gb_2)*100)\n",
    "\n"
   ]
  },
  {
   "cell_type": "code",
   "execution_count": null,
   "metadata": {
    "id": "xWsDFg67Z0Qq"
   },
   "outputs": [],
   "source": []
  },
  {
   "cell_type": "markdown",
   "metadata": {
    "id": "QU4OVqG5bA_m"
   },
   "source": []
  },
  {
   "cell_type": "code",
   "execution_count": 94,
   "metadata": {
    "id": "2y1KUgS3bBiV"
   },
   "outputs": [],
   "source": [
    "x_train, x_test, y_train, y_test = train_test_split(std_x, y, test_size=0.3, random_state=11, stratify=y)\n"
   ]
  },
  {
   "cell_type": "code",
   "execution_count": null,
   "metadata": {
    "id": "-CYujJUqbDIq"
   },
   "outputs": [],
   "source": []
  },
  {
   "cell_type": "code",
   "execution_count": null,
   "metadata": {
    "id": "xIzvRJ8SbEn_"
   },
   "outputs": [],
   "source": []
  },
  {
   "cell_type": "markdown",
   "metadata": {
    "id": "tlwdEgLkbP84"
   },
   "source": [
    "## Model-2  Logit Model :  \n"
   ]
  },
  {
   "cell_type": "code",
   "execution_count": 95,
   "metadata": {
    "colab": {
     "base_uri": "https://localhost:8080/"
    },
    "id": "SgK9P0ySbQeH",
    "outputId": "ccb56fd1-e8b7-4168-bad0-74f37df3662f"
   },
   "outputs": [
    {
     "name": "stdout",
     "output_type": "stream",
     "text": [
      "1.0\n",
      "0.0\n"
     ]
    }
   ],
   "source": [
    "log_reg_2 = LogisticRegression()\n",
    "\n",
    "log_reg_2.fit(x_train_re,y_train_re)\n",
    "\n",
    "log_reg_pred_train = log_reg_2.predict(x_train_re)\n",
    "log_reg_pred_test = log_reg_2.predict(x_test_re)\n",
    "\n",
    "print(f1_score(y_train_re, log_reg_pred_train))\n",
    "print(f1_score(y_test_re, log_reg_pred_test))\n",
    "\n",
    "#prediction on test data \n",
    "\n"
   ]
  },
  {
   "cell_type": "code",
   "execution_count": null,
   "metadata": {
    "id": "CYUED5A8bSTb"
   },
   "outputs": [],
   "source": []
  },
  {
   "cell_type": "markdown",
   "metadata": {
    "id": "Y02G16NybUdS"
   },
   "source": [
    "## Model-3 xgBoost : "
   ]
  },
  {
   "cell_type": "code",
   "execution_count": 96,
   "metadata": {
    "colab": {
     "base_uri": "https://localhost:8080/"
    },
    "id": "p06yCM6ebU9d",
    "outputId": "42783f69-b251-441e-a991-ac5bc99e3b0d"
   },
   "outputs": [
    {
     "name": "stderr",
     "output_type": "stream",
     "text": [
      "/opt/intel/inteloneapi/intelpython/latest/lib/python3.9/site-packages/xgboost/compat.py:36: FutureWarning: pandas.Int64Index is deprecated and will be removed from pandas in a future version. Use pandas.Index with the appropriate dtype instead.\n",
      "  from pandas import MultiIndex, Int64Index\n",
      "/opt/intel/inteloneapi/intelpython/latest/lib/python3.9/site-packages/xgboost/compat.py:36: FutureWarning: pandas.Int64Index is deprecated and will be removed from pandas in a future version. Use pandas.Index with the appropriate dtype instead.\n",
      "  from pandas import MultiIndex, Int64Index\n",
      "/opt/intel/inteloneapi/intelpython/latest/lib/python3.9/site-packages/xgboost/compat.py:36: FutureWarning: pandas.Int64Index is deprecated and will be removed from pandas in a future version. Use pandas.Index with the appropriate dtype instead.\n",
      "  from pandas import MultiIndex, Int64Index\n",
      "/opt/intel/inteloneapi/intelpython/latest/lib/python3.9/site-packages/xgboost/compat.py:36: FutureWarning: pandas.Int64Index is deprecated and will be removed from pandas in a future version. Use pandas.Index with the appropriate dtype instead.\n",
      "  from pandas import MultiIndex, Int64Index\n",
      "/opt/intel/inteloneapi/intelpython/latest/lib/python3.9/site-packages/xgboost/compat.py:36: FutureWarning: pandas.Int64Index is deprecated and will be removed from pandas in a future version. Use pandas.Index with the appropriate dtype instead.\n",
      "  from pandas import MultiIndex, Int64Index\n",
      "/opt/intel/inteloneapi/intelpython/latest/lib/python3.9/site-packages/xgboost/compat.py:36: FutureWarning: pandas.Int64Index is deprecated and will be removed from pandas in a future version. Use pandas.Index with the appropriate dtype instead.\n",
      "  from pandas import MultiIndex, Int64Index\n",
      "/opt/intel/inteloneapi/intelpython/latest/lib/python3.9/site-packages/xgboost/compat.py:36: FutureWarning: pandas.Int64Index is deprecated and will be removed from pandas in a future version. Use pandas.Index with the appropriate dtype instead.\n",
      "  from pandas import MultiIndex, Int64Index\n",
      "/opt/intel/inteloneapi/intelpython/latest/lib/python3.9/site-packages/xgboost/compat.py:36: FutureWarning: pandas.Int64Index is deprecated and will be removed from pandas in a future version. Use pandas.Index with the appropriate dtype instead.\n",
      "  from pandas import MultiIndex, Int64Index\n",
      "/opt/intel/inteloneapi/intelpython/latest/lib/python3.9/site-packages/xgboost/compat.py:36: FutureWarning: pandas.Int64Index is deprecated and will be removed from pandas in a future version. Use pandas.Index with the appropriate dtype instead.\n",
      "  from pandas import MultiIndex, Int64Index\n",
      "/opt/intel/inteloneapi/intelpython/latest/lib/python3.9/site-packages/xgboost/compat.py:36: FutureWarning: pandas.Int64Index is deprecated and will be removed from pandas in a future version. Use pandas.Index with the appropriate dtype instead.\n",
      "  from pandas import MultiIndex, Int64Index\n",
      "/opt/intel/inteloneapi/intelpython/latest/lib/python3.9/site-packages/xgboost/compat.py:36: FutureWarning: pandas.Int64Index is deprecated and will be removed from pandas in a future version. Use pandas.Index with the appropriate dtype instead.\n",
      "  from pandas import MultiIndex, Int64Index\n",
      "/opt/intel/inteloneapi/intelpython/latest/lib/python3.9/site-packages/xgboost/compat.py:36: FutureWarning: pandas.Int64Index is deprecated and will be removed from pandas in a future version. Use pandas.Index with the appropriate dtype instead.\n",
      "  from pandas import MultiIndex, Int64Index\n"
     ]
    },
    {
     "name": "stdout",
     "output_type": "stream",
     "text": [
      "{'colsample_bytree': 0.8, 'learning_rate': 0.1, 'max_depth': 5, 'n_estimators': 15, 'subsample': 0.8}\n",
      "Train Score: 0.9933774834437086.\n",
      "Validation Score: 0.9606299212598425.\n",
      "CPU times: user 1.99 s, sys: 300 ms, total: 2.29 s\n",
      "Wall time: 25.2 s\n"
     ]
    }
   ],
   "source": [
    "\n",
    "%%time\n",
    "import xgboost as xgb\n",
    "from sklearn.model_selection import GridSearchCV\n",
    "xgb = xgb.XGBClassifier()\n",
    "\n",
    "\n",
    "kfold = StratifiedKFold(n_splits=5, shuffle=True, random_state=143)\n",
    "\n",
    "param_grid = {\"n_estimators\" : [10,15],\n",
    "              \"max_depth\" : [3,5,6,7],\n",
    "              \"colsample_bytree\":[0.7,.8],\n",
    "              \"learning_rate\": [0.001,0.01,0.1],\n",
    "              \"subsample\":[0.8,0.6]}\n",
    "\n",
    "xg_grid = GridSearchCV(xgb, param_grid=param_grid, n_jobs=-1, cv=kfold)\n",
    "\n",
    "\n",
    "xg_grid.fit(x_train_re,y_train_re)\n",
    "\n",
    "print(xg_grid.best_params_)\n",
    "\n",
    "train_pred = xg_grid.predict(x_train_re)\n",
    "test_pred = xg_grid.predict(x_test_re)\n",
    "\n",
    "print(\"Train Score: {}.\" .format(f1_score(y_train_re, train_pred)))\n",
    "print(\"Validation Score: {}.\" .format(f1_score(y_test_re, test_pred)))\n"
   ]
  },
  {
   "cell_type": "markdown",
   "metadata": {
    "id": "FZ01tfkjbWR0"
   },
   "source": [
    "## Model- 4 RF"
   ]
  },
  {
   "cell_type": "code",
   "execution_count": 97,
   "metadata": {
    "colab": {
     "base_uri": "https://localhost:8080/"
    },
    "id": "Ve5P3UV6bZRn",
    "outputId": "4713ab20-f213-4960-c609-2f92d8f22de5"
   },
   "outputs": [
    {
     "name": "stdout",
     "output_type": "stream",
     "text": [
      "{'criterion': 'entropy', 'max_depth': 5, 'min_samples_leaf': 1, 'min_samples_split': 2}\n",
      "Train Score: 0.9966996699669968 .\n",
      "Validation Score: 0.9523809523809523 .\n",
      "CPU times: user 30.8 s, sys: 260 ms, total: 31.1 s\n",
      "Wall time: 25.2 s\n"
     ]
    }
   ],
   "source": [
    "%%time\n",
    "clf_rf = RandomForestClassifier()\n",
    "\n",
    "kfold = StratifiedKFold(n_splits=5, shuffle=True, random_state=143)\n",
    "\n",
    "param_grid = {\"n_estimators\" : [3,4,5,10,12,13,14],\n",
    "              \"max_depth\" : [2,3,5,6],\n",
    "              \"max_features\" : [3,4, 5, 7],\n",
    "              \"min_samples_leaf\" : [4, 6, 8, 10]}\n",
    "\n",
    "rf_grid = GridSearchCV(clf_rf, param_grid=dt_param_grid, cv=kfold)\n",
    "\n",
    "\n",
    "rf_grid.fit(x_train_re,y_train_re)\n",
    "\n",
    "print(rf_grid.best_params_)\n",
    "\n",
    "train_pred_rf = rf_grid.predict(x_train_re)\n",
    "test_pred_rf = rf_grid.predict(x_test_re)\n",
    "\n",
    "print(\"Train Score: {} .\" .format(f1_score(y_train_re, train_pred_rf)))\n",
    "print(\"Validation Score: {} .\" .format(f1_score(y_test_re, test_pred_rf)))\n",
    "\n"
   ]
  },
  {
   "cell_type": "code",
   "execution_count": 98,
   "metadata": {
    "id": "LUsL_0vrbaw6"
   },
   "outputs": [],
   "source": [
    "from sklearn.neighbors import KNeighborsClassifier"
   ]
  },
  {
   "cell_type": "code",
   "execution_count": 99,
   "metadata": {
    "colab": {
     "base_uri": "https://localhost:8080/"
    },
    "id": "me0FyX3kbckl",
    "outputId": "6bfb2e23-7ba3-4210-fdd0-3277834faffe"
   },
   "outputs": [
    {
     "name": "stdout",
     "output_type": "stream",
     "text": [
      "{'n_neighbors': 4}\n",
      "Train Score: 0.9967213114754099 .\n",
      "Validation Score: 0.6666666666666666 .\n"
     ]
    }
   ],
   "source": [
    "knn = KNeighborsClassifier()\n",
    "\n",
    "param_grid_knn = {'n_neighbors':[4,5,6]}\n",
    "\n",
    "knn_grid = GridSearchCV(knn, param_grid=param_grid_knn, cv=5)\n",
    "\n",
    "\n",
    "knn_grid.fit(x_train_re,y_train_re)\n",
    "\n",
    "print(knn_grid.best_params_)\n",
    "\n",
    "train_pred_rf = knn_grid.predict(x_train_re)\n",
    "test_pred_rf = knn_grid.predict(x_test_re)\n",
    "\n",
    "print(\"Train Score: {} .\" .format(f1_score(y_train_re, train_pred_rf)))\n",
    "print(\"Validation Score: {} .\" .format(f1_score(y_test_re, test_pred_rf)))\n",
    "\n"
   ]
  },
  {
   "cell_type": "code",
   "execution_count": null,
   "metadata": {
    "id": "INI0EkAybeIK"
   },
   "outputs": [],
   "source": []
  },
  {
   "cell_type": "markdown",
   "metadata": {
    "id": "hSkPiM1_bgB6"
   },
   "source": [
    "# Models using Label Encoding."
   ]
  },
  {
   "cell_type": "code",
   "execution_count": 100,
   "metadata": {
    "id": "y9A6GkygbggY"
   },
   "outputs": [],
   "source": [
    "#convert floats into int\n",
    "\n",
    "for col in ['TotalWorkingHours','Billable_Hours','Hours_off_Duty','Touring_Hours']:\n",
    "  train_copy[col] = train_copy[col].astype('int')"
   ]
  },
  {
   "cell_type": "code",
   "execution_count": 101,
   "metadata": {
    "id": "FglRTzoObiIF"
   },
   "outputs": [],
   "source": [
    "#Do the same on the test data \n",
    "for col in ['TotalWorkingHours','Billable_Hours','Hours_off_Duty','Touring_Hours']:\n",
    "  test_copy[col] = test_copy[col].astype('int')"
   ]
  },
  {
   "cell_type": "code",
   "execution_count": 102,
   "metadata": {
    "id": "lk59osepbjXd"
   },
   "outputs": [],
   "source": [
    "#on training data\n",
    "\n",
    "for col in ['Sex','Designation','NoOfProjects','joining_year','joining_month']:\n",
    "  train_copy[col] = train_copy[col].astype('object')\n",
    "#on testing data \n",
    "\n",
    "for col in ['Sex','Designation','NoOfProjects','joining_year','joining_month']:\n",
    "  test_copy[col] = test_copy[col].astype('object')\n",
    "\n",
    "train_copy['Left_Company'] = train_copy['Left_Company'].astype('category')"
   ]
  },
  {
   "cell_type": "code",
   "execution_count": 103,
   "metadata": {
    "id": "4HBlU6Blbk18"
   },
   "outputs": [],
   "source": [
    "del train_copy['Left_Company']"
   ]
  },
  {
   "cell_type": "code",
   "execution_count": null,
   "metadata": {
    "id": "XgVMkwiIbmZ1"
   },
   "outputs": [],
   "source": []
  },
  {
   "cell_type": "markdown",
   "metadata": {
    "id": "loFYidBHboKp"
   },
   "source": [
    "### Encoding the data using Label encoder"
   ]
  },
  {
   "cell_type": "code",
   "execution_count": 104,
   "metadata": {
    "id": "12WL1kCGbomZ"
   },
   "outputs": [],
   "source": [
    "#pass the label encoded data to the random forest Model\n",
    "\n",
    "for x in train_copy.columns:\n",
    "  if train_copy[x].dtype == 'object':\n",
    "        lbl = preprocessing.LabelEncoder()\n",
    "        lbl.fit(list(train_copy[x].values))\n",
    "        train_copy[x] = lbl.transform(list(train_copy[x].values))\n",
    "        "
   ]
  },
  {
   "cell_type": "code",
   "execution_count": 105,
   "metadata": {
    "colab": {
     "base_uri": "https://localhost:8080/",
     "height": 250
    },
    "id": "K3RkV1Esbqlj",
    "outputId": "048d0b89-89de-461e-b6e4-64a3f96cec44"
   },
   "outputs": [
    {
     "data": {
      "text/html": [
       "<div>\n",
       "<style scoped>\n",
       "    .dataframe tbody tr th:only-of-type {\n",
       "        vertical-align: middle;\n",
       "    }\n",
       "\n",
       "    .dataframe tbody tr th {\n",
       "        vertical-align: top;\n",
       "    }\n",
       "\n",
       "    .dataframe thead th {\n",
       "        text-align: right;\n",
       "    }\n",
       "</style>\n",
       "<table border=\"1\" class=\"dataframe\">\n",
       "  <thead>\n",
       "    <tr style=\"text-align: right;\">\n",
       "      <th></th>\n",
       "      <th>Job_History</th>\n",
       "      <th>Designation</th>\n",
       "      <th>Sex</th>\n",
       "      <th>TotalWorkingHours</th>\n",
       "      <th>Billable_Hours</th>\n",
       "      <th>Hours_off_Duty</th>\n",
       "      <th>Touring_Hours</th>\n",
       "      <th>NoOfProjects</th>\n",
       "      <th>ActualTimeSpent</th>\n",
       "      <th>joining_year</th>\n",
       "      <th>joining_month</th>\n",
       "      <th>job_count</th>\n",
       "    </tr>\n",
       "  </thead>\n",
       "  <tbody>\n",
       "    <tr>\n",
       "      <th>0</th>\n",
       "      <td>156</td>\n",
       "      <td>2</td>\n",
       "      <td>1</td>\n",
       "      <td>205</td>\n",
       "      <td>189</td>\n",
       "      <td>72</td>\n",
       "      <td>189</td>\n",
       "      <td>3</td>\n",
       "      <td>231</td>\n",
       "      <td>8</td>\n",
       "      <td>0</td>\n",
       "      <td>3</td>\n",
       "    </tr>\n",
       "    <tr>\n",
       "      <th>1</th>\n",
       "      <td>217</td>\n",
       "      <td>4</td>\n",
       "      <td>0</td>\n",
       "      <td>241</td>\n",
       "      <td>233</td>\n",
       "      <td>120</td>\n",
       "      <td>186</td>\n",
       "      <td>2</td>\n",
       "      <td>147</td>\n",
       "      <td>3</td>\n",
       "      <td>1</td>\n",
       "      <td>4</td>\n",
       "    </tr>\n",
       "    <tr>\n",
       "      <th>2</th>\n",
       "      <td>129</td>\n",
       "      <td>3</td>\n",
       "      <td>1</td>\n",
       "      <td>278</td>\n",
       "      <td>264</td>\n",
       "      <td>40</td>\n",
       "      <td>264</td>\n",
       "      <td>3</td>\n",
       "      <td>308</td>\n",
       "      <td>8</td>\n",
       "      <td>11</td>\n",
       "      <td>2</td>\n",
       "    </tr>\n",
       "    <tr>\n",
       "      <th>3</th>\n",
       "      <td>28</td>\n",
       "      <td>3</td>\n",
       "      <td>1</td>\n",
       "      <td>345</td>\n",
       "      <td>233</td>\n",
       "      <td>64</td>\n",
       "      <td>0</td>\n",
       "      <td>2</td>\n",
       "      <td>217</td>\n",
       "      <td>9</td>\n",
       "      <td>0</td>\n",
       "      <td>3</td>\n",
       "    </tr>\n",
       "    <tr>\n",
       "      <th>4</th>\n",
       "      <td>34</td>\n",
       "      <td>3</td>\n",
       "      <td>1</td>\n",
       "      <td>270</td>\n",
       "      <td>249</td>\n",
       "      <td>88</td>\n",
       "      <td>213</td>\n",
       "      <td>2</td>\n",
       "      <td>231</td>\n",
       "      <td>8</td>\n",
       "      <td>11</td>\n",
       "      <td>1</td>\n",
       "    </tr>\n",
       "  </tbody>\n",
       "</table>\n",
       "</div>"
      ],
      "text/plain": [
       "   Job_History  Designation  Sex  TotalWorkingHours  Billable_Hours  \\\n",
       "0          156            2    1                205             189   \n",
       "1          217            4    0                241             233   \n",
       "2          129            3    1                278             264   \n",
       "3           28            3    1                345             233   \n",
       "4           34            3    1                270             249   \n",
       "\n",
       "   Hours_off_Duty  Touring_Hours  NoOfProjects  ActualTimeSpent  joining_year  \\\n",
       "0              72            189             3              231             8   \n",
       "1             120            186             2              147             3   \n",
       "2              40            264             3              308             8   \n",
       "3              64              0             2              217             9   \n",
       "4              88            213             2              231             8   \n",
       "\n",
       "   joining_month  job_count  \n",
       "0              0          3  \n",
       "1              1          4  \n",
       "2             11          2  \n",
       "3              0          3  \n",
       "4             11          1  "
      ]
     },
     "execution_count": 105,
     "metadata": {},
     "output_type": "execute_result"
    }
   ],
   "source": [
    "train_copy.head()"
   ]
  },
  {
   "cell_type": "code",
   "execution_count": 106,
   "metadata": {
    "id": "QPZblxLTbshz"
   },
   "outputs": [],
   "source": [
    "x_train_l, x_test_l, y_train_l, y_test_l = train_test_split(train_copy, y, test_size= 0.3, random_state=12, stratify= y)"
   ]
  },
  {
   "cell_type": "code",
   "execution_count": 107,
   "metadata": {
    "colab": {
     "base_uri": "https://localhost:8080/",
     "height": 475
    },
    "id": "ONBR39Jjbtx6",
    "outputId": "a5dcdffc-88c0-421f-cdaa-6804abd62828"
   },
   "outputs": [
    {
     "data": {
      "text/html": [
       "<div>\n",
       "<style scoped>\n",
       "    .dataframe tbody tr th:only-of-type {\n",
       "        vertical-align: middle;\n",
       "    }\n",
       "\n",
       "    .dataframe tbody tr th {\n",
       "        vertical-align: top;\n",
       "    }\n",
       "\n",
       "    .dataframe thead th {\n",
       "        text-align: right;\n",
       "    }\n",
       "</style>\n",
       "<table border=\"1\" class=\"dataframe\">\n",
       "  <thead>\n",
       "    <tr style=\"text-align: right;\">\n",
       "      <th></th>\n",
       "      <th>Job_History</th>\n",
       "      <th>Designation</th>\n",
       "      <th>Sex</th>\n",
       "      <th>TotalWorkingHours</th>\n",
       "      <th>Billable_Hours</th>\n",
       "      <th>Hours_off_Duty</th>\n",
       "      <th>Touring_Hours</th>\n",
       "      <th>NoOfProjects</th>\n",
       "      <th>ActualTimeSpent</th>\n",
       "      <th>joining_year</th>\n",
       "      <th>joining_month</th>\n",
       "      <th>job_count</th>\n",
       "    </tr>\n",
       "  </thead>\n",
       "  <tbody>\n",
       "    <tr>\n",
       "      <th>0</th>\n",
       "      <td>Worked at Company - 510 , Company - 658 , Comp...</td>\n",
       "      <td>Senior</td>\n",
       "      <td>0</td>\n",
       "      <td>278</td>\n",
       "      <td>263</td>\n",
       "      <td>90</td>\n",
       "      <td>2</td>\n",
       "      <td>2</td>\n",
       "      <td>203</td>\n",
       "      <td>2012</td>\n",
       "      <td>01</td>\n",
       "      <td>4</td>\n",
       "    </tr>\n",
       "    <tr>\n",
       "      <th>1</th>\n",
       "      <td>Worked at Company - 42 , Company - 432 , Compa...</td>\n",
       "      <td>VP</td>\n",
       "      <td>1</td>\n",
       "      <td>273</td>\n",
       "      <td>256</td>\n",
       "      <td>72</td>\n",
       "      <td>176</td>\n",
       "      <td>3</td>\n",
       "      <td>182</td>\n",
       "      <td>2012</td>\n",
       "      <td>02</td>\n",
       "      <td>3</td>\n",
       "    </tr>\n",
       "    <tr>\n",
       "      <th>2</th>\n",
       "      <td>Worked at Company - 99 , Company - 88 , Compan...</td>\n",
       "      <td>EVP</td>\n",
       "      <td>1</td>\n",
       "      <td>275</td>\n",
       "      <td>179</td>\n",
       "      <td>48</td>\n",
       "      <td>176</td>\n",
       "      <td>3</td>\n",
       "      <td>154</td>\n",
       "      <td>2012</td>\n",
       "      <td>02</td>\n",
       "      <td>3</td>\n",
       "    </tr>\n",
       "    <tr>\n",
       "      <th>3</th>\n",
       "      <td>Worked at Company - 554 , Company - 304</td>\n",
       "      <td>EVP</td>\n",
       "      <td>1</td>\n",
       "      <td>238</td>\n",
       "      <td>215</td>\n",
       "      <td>40</td>\n",
       "      <td>160</td>\n",
       "      <td>3</td>\n",
       "      <td>238</td>\n",
       "      <td>2012</td>\n",
       "      <td>04</td>\n",
       "      <td>2</td>\n",
       "    </tr>\n",
       "    <tr>\n",
       "      <th>4</th>\n",
       "      <td>Worked at Company - 548 , Company - 405</td>\n",
       "      <td>VP</td>\n",
       "      <td>1</td>\n",
       "      <td>293</td>\n",
       "      <td>228</td>\n",
       "      <td>88</td>\n",
       "      <td>228</td>\n",
       "      <td>4</td>\n",
       "      <td>315</td>\n",
       "      <td>2006</td>\n",
       "      <td>09</td>\n",
       "      <td>2</td>\n",
       "    </tr>\n",
       "  </tbody>\n",
       "</table>\n",
       "</div>"
      ],
      "text/plain": [
       "                                         Job_History Designation Sex  \\\n",
       "0  Worked at Company - 510 , Company - 658 , Comp...      Senior   0   \n",
       "1  Worked at Company - 42 , Company - 432 , Compa...          VP   1   \n",
       "2  Worked at Company - 99 , Company - 88 , Compan...         EVP   1   \n",
       "3            Worked at Company - 554 , Company - 304         EVP   1   \n",
       "4            Worked at Company - 548 , Company - 405          VP   1   \n",
       "\n",
       "   TotalWorkingHours  Billable_Hours  Hours_off_Duty  Touring_Hours  \\\n",
       "0                278             263              90              2   \n",
       "1                273             256              72            176   \n",
       "2                275             179              48            176   \n",
       "3                238             215              40            160   \n",
       "4                293             228              88            228   \n",
       "\n",
       "  NoOfProjects  ActualTimeSpent joining_year joining_month  job_count  \n",
       "0            2              203         2012            01          4  \n",
       "1            3              182         2012            02          3  \n",
       "2            3              154         2012            02          3  \n",
       "3            3              238         2012            04          2  \n",
       "4            4              315         2006            09          2  "
      ]
     },
     "execution_count": 107,
     "metadata": {},
     "output_type": "execute_result"
    }
   ],
   "source": [
    "test_copy.head()"
   ]
  },
  {
   "cell_type": "code",
   "execution_count": null,
   "metadata": {
    "id": "vx6GPtgTbvDA"
   },
   "outputs": [],
   "source": []
  },
  {
   "cell_type": "markdown",
   "metadata": {
    "id": "drFPIfXIbzPq"
   },
   "source": [
    "### The training data is insufficient & it is underfitting when building the models. \n",
    "\n",
    "\n",
    "### The target labelled data is class imbalanced & should perform SMOTE method to over sample the data, It may be helpful in building the model without underfitting. "
   ]
  },
  {
   "cell_type": "code",
   "execution_count": null,
   "metadata": {
    "id": "ruDIDvembzxh"
   },
   "outputs": [],
   "source": []
  },
  {
   "cell_type": "markdown",
   "metadata": {
    "id": "Ft1_0TKub1cT"
   },
   "source": [
    "### Feature Engineering can be done by using the Job_History column by counting the no of companies he worked earlier & make better predictions. "
   ]
  },
  {
   "cell_type": "code",
   "execution_count": 108,
   "metadata": {
    "id": "NPJN_3-vb2Hi"
   },
   "outputs": [
    {
     "name": "stdout",
     "output_type": "stream",
     "text": [
      "Defaulting to user installation because normal site-packages is not writeable\n",
      "Requirement already satisfied: tensorflow in /home/u191324/.local/lib/python3.9/site-packages (2.12.0)\n",
      "Requirement already satisfied: protobuf!=4.21.0,!=4.21.1,!=4.21.2,!=4.21.3,!=4.21.4,!=4.21.5,<5.0.0dev,>=3.20.3 in /home/u191324/.local/lib/python3.9/site-packages (from tensorflow) (4.22.3)\n",
      "Requirement already satisfied: flatbuffers>=2.0 in /home/u191324/.local/lib/python3.9/site-packages (from tensorflow) (23.3.3)\n",
      "Requirement already satisfied: six>=1.12.0 in /glob/development-tools/versions/oneapi/2023.0.1/oneapi/intelpython/python3.9/lib/python3.9/site-packages (from tensorflow) (1.16.0)\n",
      "Requirement already satisfied: setuptools in /glob/development-tools/versions/oneapi/2023.0.1/oneapi/intelpython/python3.9/lib/python3.9/site-packages (from tensorflow) (63.4.1)\n",
      "Requirement already satisfied: gast<=0.4.0,>=0.2.1 in /home/u191324/.local/lib/python3.9/site-packages (from tensorflow) (0.4.0)\n",
      "Requirement already satisfied: wrapt<1.15,>=1.11.0 in /home/u191324/.local/lib/python3.9/site-packages (from tensorflow) (1.14.1)\n",
      "Requirement already satisfied: tensorboard<2.13,>=2.12 in /home/u191324/.local/lib/python3.9/site-packages (from tensorflow) (2.12.2)\n",
      "Requirement already satisfied: jax>=0.3.15 in /home/u191324/.local/lib/python3.9/site-packages (from tensorflow) (0.4.8)\n",
      "Requirement already satisfied: numpy<1.24,>=1.22 in /glob/development-tools/versions/oneapi/2023.0.1/oneapi/intelpython/python3.9/lib/python3.9/site-packages (from tensorflow) (1.22.3)\n",
      "Requirement already satisfied: grpcio<2.0,>=1.24.3 in /home/u191324/.local/lib/python3.9/site-packages (from tensorflow) (1.54.0)\n",
      "Requirement already satisfied: opt-einsum>=2.3.2 in /home/u191324/.local/lib/python3.9/site-packages (from tensorflow) (3.3.0)\n",
      "Requirement already satisfied: tensorflow-io-gcs-filesystem>=0.23.1 in /home/u191324/.local/lib/python3.9/site-packages (from tensorflow) (0.32.0)\n",
      "Requirement already satisfied: absl-py>=1.0.0 in /home/u191324/.local/lib/python3.9/site-packages (from tensorflow) (1.4.0)\n",
      "Requirement already satisfied: typing-extensions>=3.6.6 in /home/u191324/.local/lib/python3.9/site-packages (from tensorflow) (4.5.0)\n",
      "Requirement already satisfied: libclang>=13.0.0 in /home/u191324/.local/lib/python3.9/site-packages (from tensorflow) (16.0.0)\n",
      "Requirement already satisfied: packaging in /glob/development-tools/versions/oneapi/2023.0.1/oneapi/intelpython/python3.9/lib/python3.9/site-packages (from tensorflow) (21.3)\n",
      "Requirement already satisfied: keras<2.13,>=2.12.0 in /home/u191324/.local/lib/python3.9/site-packages (from tensorflow) (2.12.0)\n",
      "Requirement already satisfied: tensorflow-estimator<2.13,>=2.12.0 in /home/u191324/.local/lib/python3.9/site-packages (from tensorflow) (2.12.0)\n",
      "Requirement already satisfied: astunparse>=1.6.0 in /home/u191324/.local/lib/python3.9/site-packages (from tensorflow) (1.6.3)\n",
      "Requirement already satisfied: termcolor>=1.1.0 in /home/u191324/.local/lib/python3.9/site-packages (from tensorflow) (2.3.0)\n",
      "Requirement already satisfied: h5py>=2.9.0 in /home/u191324/.local/lib/python3.9/site-packages (from tensorflow) (3.8.0)\n",
      "Requirement already satisfied: google-pasta>=0.1.1 in /home/u191324/.local/lib/python3.9/site-packages (from tensorflow) (0.2.0)\n",
      "Requirement already satisfied: wheel<1.0,>=0.23.0 in /glob/development-tools/versions/oneapi/2023.0.1/oneapi/intelpython/python3.9/lib/python3.9/site-packages (from astunparse>=1.6.0->tensorflow) (0.37.1)\n",
      "Requirement already satisfied: ml-dtypes>=0.0.3 in /home/u191324/.local/lib/python3.9/site-packages (from jax>=0.3.15->tensorflow) (0.1.0)\n",
      "Requirement already satisfied: scipy>=1.7 in /glob/development-tools/versions/oneapi/2023.0.1/oneapi/intelpython/python3.9/lib/python3.9/site-packages (from jax>=0.3.15->tensorflow) (1.7.3)\n",
      "Requirement already satisfied: google-auth-oauthlib<1.1,>=0.5 in /home/u191324/.local/lib/python3.9/site-packages (from tensorboard<2.13,>=2.12->tensorflow) (1.0.0)\n",
      "Requirement already satisfied: tensorboard-data-server<0.8.0,>=0.7.0 in /home/u191324/.local/lib/python3.9/site-packages (from tensorboard<2.13,>=2.12->tensorflow) (0.7.0)\n",
      "Requirement already satisfied: google-auth<3,>=1.6.3 in /home/u191324/.local/lib/python3.9/site-packages (from tensorboard<2.13,>=2.12->tensorflow) (2.17.3)\n",
      "Requirement already satisfied: werkzeug>=1.0.1 in /home/u191324/.local/lib/python3.9/site-packages (from tensorboard<2.13,>=2.12->tensorflow) (2.3.0)\n",
      "Requirement already satisfied: requests<3,>=2.21.0 in /glob/development-tools/versions/oneapi/2023.0.1/oneapi/intelpython/python3.9/lib/python3.9/site-packages (from tensorboard<2.13,>=2.12->tensorflow) (2.28.1)\n",
      "Requirement already satisfied: markdown>=2.6.8 in /home/u191324/.local/lib/python3.9/site-packages (from tensorboard<2.13,>=2.12->tensorflow) (3.4.3)\n",
      "Requirement already satisfied: tensorboard-plugin-wit>=1.6.0 in /home/u191324/.local/lib/python3.9/site-packages (from tensorboard<2.13,>=2.12->tensorflow) (1.8.1)\n",
      "Requirement already satisfied: pyparsing!=3.0.5,>=2.0.2 in /glob/development-tools/versions/oneapi/2023.0.1/oneapi/intelpython/python3.9/lib/python3.9/site-packages (from packaging->tensorflow) (3.0.9)\n",
      "Requirement already satisfied: rsa<5,>=3.1.4 in /home/u191324/.local/lib/python3.9/site-packages (from google-auth<3,>=1.6.3->tensorboard<2.13,>=2.12->tensorflow) (4.9)\n",
      "Requirement already satisfied: pyasn1-modules>=0.2.1 in /home/u191324/.local/lib/python3.9/site-packages (from google-auth<3,>=1.6.3->tensorboard<2.13,>=2.12->tensorflow) (0.3.0)\n",
      "Requirement already satisfied: cachetools<6.0,>=2.0.0 in /home/u191324/.local/lib/python3.9/site-packages (from google-auth<3,>=1.6.3->tensorboard<2.13,>=2.12->tensorflow) (5.3.0)\n",
      "Requirement already satisfied: requests-oauthlib>=0.7.0 in /home/u191324/.local/lib/python3.9/site-packages (from google-auth-oauthlib<1.1,>=0.5->tensorboard<2.13,>=2.12->tensorflow) (1.3.1)\n",
      "Requirement already satisfied: importlib-metadata>=4.4 in /glob/development-tools/versions/oneapi/2023.0.1/oneapi/intelpython/python3.9/lib/python3.9/site-packages (from markdown>=2.6.8->tensorboard<2.13,>=2.12->tensorflow) (6.0.0)\n",
      "Requirement already satisfied: urllib3<1.27,>=1.21.1 in /glob/development-tools/versions/oneapi/2023.0.1/oneapi/intelpython/python3.9/lib/python3.9/site-packages (from requests<3,>=2.21.0->tensorboard<2.13,>=2.12->tensorflow) (1.26.12)\n",
      "Requirement already satisfied: charset-normalizer<3,>=2 in /glob/development-tools/versions/oneapi/2023.0.1/oneapi/intelpython/python3.9/lib/python3.9/site-packages (from requests<3,>=2.21.0->tensorboard<2.13,>=2.12->tensorflow) (2.0.4)\n",
      "Requirement already satisfied: idna<4,>=2.5 in /glob/development-tools/versions/oneapi/2023.0.1/oneapi/intelpython/python3.9/lib/python3.9/site-packages (from requests<3,>=2.21.0->tensorboard<2.13,>=2.12->tensorflow) (3.4)\n",
      "Requirement already satisfied: certifi>=2017.4.17 in /glob/development-tools/versions/oneapi/2023.0.1/oneapi/intelpython/python3.9/lib/python3.9/site-packages (from requests<3,>=2.21.0->tensorboard<2.13,>=2.12->tensorflow) (2022.9.24)\n",
      "Requirement already satisfied: MarkupSafe>=2.1.1 in /home/u191324/.local/lib/python3.9/site-packages (from werkzeug>=1.0.1->tensorboard<2.13,>=2.12->tensorflow) (2.1.2)\n",
      "Requirement already satisfied: zipp>=0.5 in /glob/development-tools/versions/oneapi/2023.0.1/oneapi/intelpython/python3.9/lib/python3.9/site-packages (from importlib-metadata>=4.4->markdown>=2.6.8->tensorboard<2.13,>=2.12->tensorflow) (3.12.0)\n",
      "Requirement already satisfied: pyasn1<0.6.0,>=0.4.6 in /home/u191324/.local/lib/python3.9/site-packages (from pyasn1-modules>=0.2.1->google-auth<3,>=1.6.3->tensorboard<2.13,>=2.12->tensorflow) (0.5.0)\n",
      "Requirement already satisfied: oauthlib>=3.0.0 in /home/u191324/.local/lib/python3.9/site-packages (from requests-oauthlib>=0.7.0->google-auth-oauthlib<1.1,>=0.5->tensorboard<2.13,>=2.12->tensorflow) (3.2.2)\n",
      "Note: you may need to restart the kernel to use updated packages.\n"
     ]
    }
   ],
   "source": [
    "pip install tensorflow"
   ]
  },
  {
   "cell_type": "markdown",
   "metadata": {
    "id": "h9LcjoKPb4Gx"
   },
   "source": [
    "# Deep Learning Techniques : "
   ]
  },
  {
   "cell_type": "code",
   "execution_count": 109,
   "metadata": {
    "colab": {
     "base_uri": "https://localhost:8080/"
    },
    "id": "d_yVE7QJb4ku",
    "outputId": "ab003c54-04ff-4f00-ffbe-7b15af6630a8"
   },
   "outputs": [
    {
     "name": "stderr",
     "output_type": "stream",
     "text": [
      "Intel(R) Extension for Scikit-learn* enabled (https://github.com/intel/scikit-learn-intelex)\n",
      "2023-04-26 08:59:08.845946: I tensorflow/tsl/cuda/cudart_stub.cc:28] Could not find cuda drivers on your machine, GPU will not be used.\n",
      "2023-04-26 08:59:10.639327: I tensorflow/tsl/cuda/cudart_stub.cc:28] Could not find cuda drivers on your machine, GPU will not be used.\n",
      "2023-04-26 08:59:10.652815: I tensorflow/core/platform/cpu_feature_guard.cc:182] This TensorFlow binary is optimized to use available CPU instructions in performance-critical operations.\n",
      "To enable the following instructions: AVX2 AVX512F FMA, in other operations, rebuild TensorFlow with the appropriate compiler flags.\n",
      "2023-04-26 08:59:22.372974: W tensorflow/compiler/tf2tensorrt/utils/py_utils.cc:38] TF-TRT Warning: Could not find TensorRT\n"
     ]
    }
   ],
   "source": [
    "#importing packages \n",
    "from sklearnex import patch_sklearn\n",
    "patch_sklearn()\n",
    "import tensorflow as tf \n",
    "import keras\n",
    "from keras import Sequential\n",
    "from keras.layers import Dense, BatchNormalization, Dropout\n",
    "from keras.layers import Activation"
   ]
  },
  {
   "cell_type": "code",
   "execution_count": 110,
   "metadata": {
    "colab": {
     "base_uri": "https://localhost:8080/"
    },
    "id": "9GlEWMJOb56m",
    "outputId": "65e8de91-fe74-492f-f239-5b74a07632c2"
   },
   "outputs": [
    {
     "name": "stdout",
     "output_type": "stream",
     "text": [
      "(304, 283)\n",
      "(132, 283)\n",
      "(304,)\n",
      "(132,)\n"
     ]
    }
   ],
   "source": [
    "# chceking the splitted data \n",
    "print(x_train_re.shape)\n",
    "print(x_test_re.shape)\n",
    "print(y_train_re.shape)\n",
    "print(y_test_re.shape)\n"
   ]
  },
  {
   "cell_type": "code",
   "execution_count": 111,
   "metadata": {
    "colab": {
     "base_uri": "https://localhost:8080/"
    },
    "id": "GwnYI8wZb7iA",
    "outputId": "7a5c487b-b6f3-46a0-ca95-c996ff3f2705"
   },
   "outputs": [
    {
     "name": "stdout",
     "output_type": "stream",
     "text": [
      "(171, 12)\n",
      "(74, 12)\n",
      "(171,)\n",
      "(74,)\n"
     ]
    }
   ],
   "source": [
    "#chcecking the label encoded  data \n",
    "\n",
    "print(x_train_l.shape)\n",
    "print(x_test_l.shape)\n",
    "print(y_train_l.shape) \n",
    "print(y_test_l.shape)"
   ]
  },
  {
   "cell_type": "code",
   "execution_count": 112,
   "metadata": {
    "colab": {
     "base_uri": "https://localhost:8080/"
    },
    "id": "knZ5Po61b9FF",
    "outputId": "d0efda6d-112c-4aa6-b134-9e4c1db5f1a5"
   },
   "outputs": [
    {
     "data": {
      "text/plain": [
       "Job_History          int64\n",
       "Designation          int64\n",
       "Sex                  int64\n",
       "TotalWorkingHours    int64\n",
       "Billable_Hours       int64\n",
       "Hours_off_Duty       int64\n",
       "Touring_Hours        int64\n",
       "NoOfProjects         int64\n",
       "ActualTimeSpent      int64\n",
       "joining_year         int64\n",
       "joining_month        int64\n",
       "job_count            int64\n",
       "dtype: object"
      ]
     },
     "execution_count": 112,
     "metadata": {},
     "output_type": "execute_result"
    }
   ],
   "source": [
    "x_train_l.dtypes"
   ]
  },
  {
   "cell_type": "code",
   "execution_count": 113,
   "metadata": {
    "id": "F-ieJCv0b-Tb"
   },
   "outputs": [],
   "source": [
    "model = Sequential()\n",
    "\n",
    "#layer-1\n",
    "model.add(Dense(6,kernel_initializer='glorot_uniform', input_dim=283))\n",
    "model.add(BatchNormalization())\n",
    "model.add(Activation('relu'))\n",
    "\n",
    "#layer -2 \n",
    "\n",
    "model.add(Dense(6, kernel_initializer='glorot_uniform', activation='relu'))\n",
    "model.add(BatchNormalization())\n",
    "\n",
    "#layer-3 -Output layer \n",
    "\n",
    "model.add(Dense(1, activation='softmax', kernel_initializer='glorot_normal'))\n",
    "\n",
    "#compiling the model \n",
    "\n",
    "model.compile(optimizer='adam', loss='binary_crossentropy', metrics=['accuracy'])"
   ]
  },
  {
   "cell_type": "code",
   "execution_count": null,
   "metadata": {},
   "outputs": [],
   "source": []
  },
  {
   "cell_type": "code",
   "execution_count": 114,
   "metadata": {},
   "outputs": [
    {
     "name": "stderr",
     "output_type": "stream",
     "text": [
      "Intel(R) Extension for Scikit-learn* enabled (https://github.com/intel/scikit-learn-intelex)\n"
     ]
    }
   ],
   "source": [
    "\n",
    "from sklearnex import patch_sklearn\n",
    "\n",
    "patch_sklearn()\n"
   ]
  },
  {
   "cell_type": "code",
   "execution_count": 115,
   "metadata": {},
   "outputs": [
    {
     "name": "stdout",
     "output_type": "stream",
     "text": [
      "Defaulting to user installation because normal site-packages is not writeable\n",
      "Requirement already satisfied: scikit-learn-intelex in /home/u191324/.local/lib/python3.9/site-packages (2023.1.1)\n",
      "Requirement already satisfied: scikit-learn>=0.22 in /glob/development-tools/versions/oneapi/2023.0.1/oneapi/intelpython/python3.9/lib/python3.9/site-packages (from scikit-learn-intelex) (1.1.1)\n",
      "Requirement already satisfied: daal4py==2023.1.1 in /home/u191324/.local/lib/python3.9/site-packages (from scikit-learn-intelex) (2023.1.1)\n",
      "Requirement already satisfied: numpy>=1.19 in /glob/development-tools/versions/oneapi/2023.0.1/oneapi/intelpython/python3.9/lib/python3.9/site-packages (from daal4py==2023.1.1->scikit-learn-intelex) (1.22.3)\n",
      "Requirement already satisfied: daal==2023.1.1 in /home/u191324/.local/lib/python3.9/site-packages (from daal4py==2023.1.1->scikit-learn-intelex) (2023.1.1)\n",
      "Requirement already satisfied: tbb==2021.* in /home/u191324/.local/lib/python3.9/site-packages (from daal==2023.1.1->daal4py==2023.1.1->scikit-learn-intelex) (2021.9.0)\n",
      "Requirement already satisfied: threadpoolctl>=2.0.0 in /glob/development-tools/versions/oneapi/2023.0.1/oneapi/intelpython/python3.9/lib/python3.9/site-packages (from scikit-learn>=0.22->scikit-learn-intelex) (2.2.0)\n",
      "Requirement already satisfied: joblib>=1.0.0 in /home/u191324/.local/lib/python3.9/site-packages (from scikit-learn>=0.22->scikit-learn-intelex) (1.2.0)\n",
      "Requirement already satisfied: scipy>=1.3.2 in /glob/development-tools/versions/oneapi/2023.0.1/oneapi/intelpython/python3.9/lib/python3.9/site-packages (from scikit-learn>=0.22->scikit-learn-intelex) (1.7.3)\n",
      "Note: you may need to restart the kernel to use updated packages.\n"
     ]
    }
   ],
   "source": [
    "pip install scikit-learn-intelex"
   ]
  },
  {
   "cell_type": "code",
   "execution_count": 116,
   "metadata": {
    "colab": {
     "base_uri": "https://localhost:8080/"
    },
    "id": "3rC7Oe8Ob_rV",
    "outputId": "6e6ca2b6-ad87-4cdc-b3a0-f8d2973a9ba0"
   },
   "outputs": [
    {
     "name": "stdout",
     "output_type": "stream",
     "text": [
      "Epoch 1/100\n",
      "10/10 [==============================] - 1s 23ms/step - loss: 1.0490 - accuracy: 0.1136 - val_loss: 0.8942 - val_accuracy: 0.0800\n",
      "Epoch 2/100\n",
      "10/10 [==============================] - 0s 3ms/step - loss: 0.9426 - accuracy: 0.1136 - val_loss: 0.9106 - val_accuracy: 0.0800\n",
      "Epoch 3/100\n",
      "10/10 [==============================] - 0s 5ms/step - loss: 0.8562 - accuracy: 0.1136 - val_loss: 0.9240 - val_accuracy: 0.0800\n",
      "Epoch 4/100\n",
      "10/10 [==============================] - 0s 6ms/step - loss: 0.7823 - accuracy: 0.1136 - val_loss: 0.9400 - val_accuracy: 0.0800\n",
      "Epoch 5/100\n",
      "10/10 [==============================] - 0s 6ms/step - loss: 0.7156 - accuracy: 0.1136 - val_loss: 0.9530 - val_accuracy: 0.0800\n",
      "Epoch 6/100\n",
      "10/10 [==============================] - 0s 6ms/step - loss: 0.6628 - accuracy: 0.1136 - val_loss: 0.9672 - val_accuracy: 0.0800\n",
      "Epoch 7/100\n",
      "10/10 [==============================] - 0s 6ms/step - loss: 0.6132 - accuracy: 0.1136 - val_loss: 0.9789 - val_accuracy: 0.0800\n",
      "Epoch 8/100\n",
      "10/10 [==============================] - 0s 6ms/step - loss: 0.5725 - accuracy: 0.1136 - val_loss: 0.9917 - val_accuracy: 0.0800\n",
      "Epoch 9/100\n",
      "10/10 [==============================] - 0s 6ms/step - loss: 0.5341 - accuracy: 0.1136 - val_loss: 1.0013 - val_accuracy: 0.0800\n",
      "Epoch 10/100\n",
      "10/10 [==============================] - 0s 6ms/step - loss: 0.5021 - accuracy: 0.1136 - val_loss: 1.0094 - val_accuracy: 0.0800\n",
      "Epoch 11/100\n",
      "10/10 [==============================] - 0s 4ms/step - loss: 0.4725 - accuracy: 0.1136 - val_loss: 1.0188 - val_accuracy: 0.0800\n",
      "Epoch 12/100\n",
      "10/10 [==============================] - 0s 6ms/step - loss: 0.4468 - accuracy: 0.1136 - val_loss: 1.0282 - val_accuracy: 0.0800\n",
      "Epoch 13/100\n",
      "10/10 [==============================] - 0s 6ms/step - loss: 0.4241 - accuracy: 0.1136 - val_loss: 1.0371 - val_accuracy: 0.0800\n",
      "Epoch 14/100\n",
      "10/10 [==============================] - 0s 4ms/step - loss: 0.4025 - accuracy: 0.1136 - val_loss: 1.0435 - val_accuracy: 0.0800\n",
      "Epoch 15/100\n",
      "10/10 [==============================] - 0s 4ms/step - loss: 0.3827 - accuracy: 0.1136 - val_loss: 1.0496 - val_accuracy: 0.0800\n",
      "Epoch 16/100\n",
      "10/10 [==============================] - 0s 3ms/step - loss: 0.3652 - accuracy: 0.1136 - val_loss: 1.0529 - val_accuracy: 0.0800\n",
      "Epoch 17/100\n",
      "10/10 [==============================] - 0s 5ms/step - loss: 0.3486 - accuracy: 0.1136 - val_loss: 1.0543 - val_accuracy: 0.0800\n",
      "Epoch 18/100\n",
      "10/10 [==============================] - 0s 5ms/step - loss: 0.3338 - accuracy: 0.1136 - val_loss: 1.0573 - val_accuracy: 0.0800\n",
      "Epoch 19/100\n",
      "10/10 [==============================] - 0s 4ms/step - loss: 0.3198 - accuracy: 0.1136 - val_loss: 1.0600 - val_accuracy: 0.0800\n",
      "Epoch 20/100\n",
      "10/10 [==============================] - 0s 3ms/step - loss: 0.3069 - accuracy: 0.1136 - val_loss: 1.0620 - val_accuracy: 0.0800\n",
      "Epoch 21/100\n",
      "10/10 [==============================] - 0s 5ms/step - loss: 0.2948 - accuracy: 0.1136 - val_loss: 1.0638 - val_accuracy: 0.0800\n",
      "Epoch 22/100\n",
      "10/10 [==============================] - 0s 5ms/step - loss: 0.2838 - accuracy: 0.1136 - val_loss: 1.0639 - val_accuracy: 0.0800\n",
      "Epoch 23/100\n",
      "10/10 [==============================] - 0s 5ms/step - loss: 0.2734 - accuracy: 0.1136 - val_loss: 1.0646 - val_accuracy: 0.0800\n",
      "Epoch 24/100\n",
      "10/10 [==============================] - 0s 4ms/step - loss: 0.2635 - accuracy: 0.1136 - val_loss: 1.0645 - val_accuracy: 0.0800\n",
      "Epoch 25/100\n",
      "10/10 [==============================] - 0s 5ms/step - loss: 0.2549 - accuracy: 0.1136 - val_loss: 1.0635 - val_accuracy: 0.0800\n",
      "Epoch 26/100\n",
      "10/10 [==============================] - 0s 6ms/step - loss: 0.2462 - accuracy: 0.1136 - val_loss: 1.0621 - val_accuracy: 0.0800\n",
      "Epoch 27/100\n",
      "10/10 [==============================] - 0s 6ms/step - loss: 0.2384 - accuracy: 0.1136 - val_loss: 1.0618 - val_accuracy: 0.0800\n",
      "Epoch 28/100\n",
      "10/10 [==============================] - 0s 5ms/step - loss: 0.2309 - accuracy: 0.1136 - val_loss: 1.0608 - val_accuracy: 0.0800\n",
      "Epoch 29/100\n",
      "10/10 [==============================] - 0s 4ms/step - loss: 0.2240 - accuracy: 0.1136 - val_loss: 1.0605 - val_accuracy: 0.0800\n",
      "Epoch 30/100\n",
      "10/10 [==============================] - 0s 5ms/step - loss: 0.2177 - accuracy: 0.1136 - val_loss: 1.0598 - val_accuracy: 0.0800\n",
      "Epoch 31/100\n",
      "10/10 [==============================] - 0s 6ms/step - loss: 0.2118 - accuracy: 0.1136 - val_loss: 1.0593 - val_accuracy: 0.0800\n",
      "Epoch 32/100\n",
      "10/10 [==============================] - 0s 4ms/step - loss: 0.2063 - accuracy: 0.1136 - val_loss: 1.0585 - val_accuracy: 0.0800\n",
      "Epoch 33/100\n",
      "10/10 [==============================] - 0s 4ms/step - loss: 0.2012 - accuracy: 0.1136 - val_loss: 1.0580 - val_accuracy: 0.0800\n",
      "Epoch 34/100\n",
      "10/10 [==============================] - 0s 5ms/step - loss: 0.1965 - accuracy: 0.1136 - val_loss: 1.0584 - val_accuracy: 0.0800\n",
      "Epoch 35/100\n",
      "10/10 [==============================] - 0s 6ms/step - loss: 0.1922 - accuracy: 0.1136 - val_loss: 1.0573 - val_accuracy: 0.0800\n",
      "Epoch 36/100\n",
      "10/10 [==============================] - 0s 6ms/step - loss: 0.1882 - accuracy: 0.1136 - val_loss: 1.0561 - val_accuracy: 0.0800\n",
      "Epoch 37/100\n",
      "10/10 [==============================] - 0s 5ms/step - loss: 0.1844 - accuracy: 0.1136 - val_loss: 1.0561 - val_accuracy: 0.0800\n",
      "Epoch 38/100\n",
      "10/10 [==============================] - 0s 5ms/step - loss: 0.1809 - accuracy: 0.1136 - val_loss: 1.0545 - val_accuracy: 0.0800\n",
      "Epoch 39/100\n",
      "10/10 [==============================] - 0s 5ms/step - loss: 0.1776 - accuracy: 0.1136 - val_loss: 1.0531 - val_accuracy: 0.0800\n",
      "Epoch 40/100\n",
      "10/10 [==============================] - 0s 5ms/step - loss: 0.1745 - accuracy: 0.1136 - val_loss: 1.0517 - val_accuracy: 0.0800\n",
      "Epoch 41/100\n",
      "10/10 [==============================] - 0s 6ms/step - loss: 0.1715 - accuracy: 0.1136 - val_loss: 1.0513 - val_accuracy: 0.0800\n",
      "Epoch 42/100\n",
      "10/10 [==============================] - 0s 6ms/step - loss: 0.1688 - accuracy: 0.1136 - val_loss: 1.0495 - val_accuracy: 0.0800\n",
      "Epoch 43/100\n",
      "10/10 [==============================] - 0s 6ms/step - loss: 0.1662 - accuracy: 0.1136 - val_loss: 1.0481 - val_accuracy: 0.0800\n",
      "Epoch 44/100\n",
      "10/10 [==============================] - 0s 4ms/step - loss: 0.1636 - accuracy: 0.1136 - val_loss: 1.0472 - val_accuracy: 0.0800\n",
      "Epoch 45/100\n",
      "10/10 [==============================] - 0s 6ms/step - loss: 0.1613 - accuracy: 0.1136 - val_loss: 1.0462 - val_accuracy: 0.0800\n",
      "Epoch 46/100\n",
      "10/10 [==============================] - 0s 6ms/step - loss: 0.1592 - accuracy: 0.1136 - val_loss: 1.0446 - val_accuracy: 0.0800\n",
      "Epoch 47/100\n",
      "10/10 [==============================] - 0s 5ms/step - loss: 0.1570 - accuracy: 0.1136 - val_loss: 1.0440 - val_accuracy: 0.0800\n",
      "Epoch 48/100\n",
      "10/10 [==============================] - 0s 6ms/step - loss: 0.1551 - accuracy: 0.1136 - val_loss: 1.0426 - val_accuracy: 0.0800\n",
      "Epoch 49/100\n",
      "10/10 [==============================] - 0s 5ms/step - loss: 0.1531 - accuracy: 0.1136 - val_loss: 1.0415 - val_accuracy: 0.0800\n",
      "Epoch 50/100\n",
      "10/10 [==============================] - 0s 5ms/step - loss: 0.1513 - accuracy: 0.1136 - val_loss: 1.0399 - val_accuracy: 0.0800\n",
      "Epoch 51/100\n",
      "10/10 [==============================] - 0s 5ms/step - loss: 0.1496 - accuracy: 0.1136 - val_loss: 1.0390 - val_accuracy: 0.0800\n",
      "Epoch 52/100\n",
      "10/10 [==============================] - 0s 6ms/step - loss: 0.1479 - accuracy: 0.1136 - val_loss: 1.0374 - val_accuracy: 0.0800\n",
      "Epoch 53/100\n",
      "10/10 [==============================] - 0s 5ms/step - loss: 0.1464 - accuracy: 0.1136 - val_loss: 1.0351 - val_accuracy: 0.0800\n",
      "Epoch 54/100\n",
      "10/10 [==============================] - 0s 6ms/step - loss: 0.1448 - accuracy: 0.1136 - val_loss: 1.0327 - val_accuracy: 0.0800\n",
      "Epoch 55/100\n",
      "10/10 [==============================] - 0s 4ms/step - loss: 0.1434 - accuracy: 0.1136 - val_loss: 1.0316 - val_accuracy: 0.0800\n",
      "Epoch 56/100\n",
      "10/10 [==============================] - 0s 5ms/step - loss: 0.1420 - accuracy: 0.1136 - val_loss: 1.0300 - val_accuracy: 0.0800\n",
      "Epoch 57/100\n",
      "10/10 [==============================] - 0s 5ms/step - loss: 0.1406 - accuracy: 0.1136 - val_loss: 1.0287 - val_accuracy: 0.0800\n",
      "Epoch 58/100\n",
      "10/10 [==============================] - 0s 6ms/step - loss: 0.1393 - accuracy: 0.1136 - val_loss: 1.0266 - val_accuracy: 0.0800\n",
      "Epoch 59/100\n",
      "10/10 [==============================] - 0s 6ms/step - loss: 0.1380 - accuracy: 0.1136 - val_loss: 1.0250 - val_accuracy: 0.0800\n",
      "Epoch 60/100\n",
      "10/10 [==============================] - 0s 3ms/step - loss: 0.1368 - accuracy: 0.1136 - val_loss: 1.0234 - val_accuracy: 0.0800\n",
      "Epoch 61/100\n",
      "10/10 [==============================] - 0s 3ms/step - loss: 0.1356 - accuracy: 0.1136 - val_loss: 1.0211 - val_accuracy: 0.0800\n",
      "Epoch 62/100\n",
      "10/10 [==============================] - 0s 5ms/step - loss: 0.1345 - accuracy: 0.1136 - val_loss: 1.0189 - val_accuracy: 0.0800\n",
      "Epoch 63/100\n",
      "10/10 [==============================] - 0s 6ms/step - loss: 0.1334 - accuracy: 0.1136 - val_loss: 1.0170 - val_accuracy: 0.0800\n",
      "Epoch 64/100\n",
      "10/10 [==============================] - 0s 4ms/step - loss: 0.1323 - accuracy: 0.1136 - val_loss: 1.0151 - val_accuracy: 0.0800\n",
      "Epoch 65/100\n",
      "10/10 [==============================] - 0s 3ms/step - loss: 0.1313 - accuracy: 0.1136 - val_loss: 1.0138 - val_accuracy: 0.0800\n",
      "Epoch 66/100\n",
      "10/10 [==============================] - 0s 5ms/step - loss: 0.1303 - accuracy: 0.1136 - val_loss: 1.0118 - val_accuracy: 0.0800\n",
      "Epoch 67/100\n",
      "10/10 [==============================] - 0s 6ms/step - loss: 0.1293 - accuracy: 0.1136 - val_loss: 1.0097 - val_accuracy: 0.0800\n",
      "Epoch 68/100\n",
      "10/10 [==============================] - 0s 6ms/step - loss: 0.1283 - accuracy: 0.1136 - val_loss: 1.0076 - val_accuracy: 0.0800\n",
      "Epoch 69/100\n",
      "10/10 [==============================] - 0s 6ms/step - loss: 0.1274 - accuracy: 0.1136 - val_loss: 1.0061 - val_accuracy: 0.0800\n",
      "Epoch 70/100\n",
      "10/10 [==============================] - 0s 6ms/step - loss: 0.1265 - accuracy: 0.1136 - val_loss: 1.0040 - val_accuracy: 0.0800\n",
      "Epoch 71/100\n",
      "10/10 [==============================] - 0s 5ms/step - loss: 0.1256 - accuracy: 0.1136 - val_loss: 1.0019 - val_accuracy: 0.0800\n",
      "Epoch 72/100\n",
      "10/10 [==============================] - 0s 4ms/step - loss: 0.1247 - accuracy: 0.1136 - val_loss: 0.9999 - val_accuracy: 0.0800\n",
      "Epoch 73/100\n",
      "10/10 [==============================] - 0s 5ms/step - loss: 0.1239 - accuracy: 0.1136 - val_loss: 0.9979 - val_accuracy: 0.0800\n",
      "Epoch 74/100\n",
      "10/10 [==============================] - 0s 4ms/step - loss: 0.1230 - accuracy: 0.1136 - val_loss: 0.9960 - val_accuracy: 0.0800\n",
      "Epoch 75/100\n",
      "10/10 [==============================] - 0s 6ms/step - loss: 0.1222 - accuracy: 0.1136 - val_loss: 0.9941 - val_accuracy: 0.0800\n",
      "Epoch 76/100\n",
      "10/10 [==============================] - 0s 4ms/step - loss: 0.1214 - accuracy: 0.1136 - val_loss: 0.9921 - val_accuracy: 0.0800\n",
      "Epoch 77/100\n",
      "10/10 [==============================] - 0s 5ms/step - loss: 0.1207 - accuracy: 0.1136 - val_loss: 0.9901 - val_accuracy: 0.0800\n",
      "Epoch 78/100\n",
      "10/10 [==============================] - 0s 6ms/step - loss: 0.1199 - accuracy: 0.1136 - val_loss: 0.9879 - val_accuracy: 0.0800\n",
      "Epoch 79/100\n",
      "10/10 [==============================] - 0s 4ms/step - loss: 0.1191 - accuracy: 0.1136 - val_loss: 0.9863 - val_accuracy: 0.0800\n",
      "Epoch 80/100\n",
      "10/10 [==============================] - 0s 6ms/step - loss: 0.1184 - accuracy: 0.1136 - val_loss: 0.9846 - val_accuracy: 0.0800\n",
      "Epoch 81/100\n",
      "10/10 [==============================] - 0s 6ms/step - loss: 0.1177 - accuracy: 0.1136 - val_loss: 0.9825 - val_accuracy: 0.0800\n",
      "Epoch 82/100\n",
      "10/10 [==============================] - 0s 6ms/step - loss: 0.1170 - accuracy: 0.1136 - val_loss: 0.9800 - val_accuracy: 0.0800\n",
      "Epoch 83/100\n",
      "10/10 [==============================] - 0s 5ms/step - loss: 0.1163 - accuracy: 0.1136 - val_loss: 0.9782 - val_accuracy: 0.0800\n",
      "Epoch 84/100\n",
      "10/10 [==============================] - 0s 6ms/step - loss: 0.1156 - accuracy: 0.1136 - val_loss: 0.9763 - val_accuracy: 0.0800\n",
      "Epoch 85/100\n",
      "10/10 [==============================] - 0s 5ms/step - loss: 0.1149 - accuracy: 0.1136 - val_loss: 0.9743 - val_accuracy: 0.0800\n",
      "Epoch 86/100\n",
      "10/10 [==============================] - 0s 4ms/step - loss: 0.1142 - accuracy: 0.1136 - val_loss: 0.9724 - val_accuracy: 0.0800\n",
      "Epoch 87/100\n",
      "10/10 [==============================] - 0s 6ms/step - loss: 0.1135 - accuracy: 0.1136 - val_loss: 0.9711 - val_accuracy: 0.0800\n",
      "Epoch 88/100\n",
      "10/10 [==============================] - 0s 5ms/step - loss: 0.1129 - accuracy: 0.1136 - val_loss: 0.9692 - val_accuracy: 0.0800\n",
      "Epoch 89/100\n",
      "10/10 [==============================] - 0s 4ms/step - loss: 0.1123 - accuracy: 0.1136 - val_loss: 0.9670 - val_accuracy: 0.0800\n",
      "Epoch 90/100\n",
      "10/10 [==============================] - 0s 4ms/step - loss: 0.1116 - accuracy: 0.1136 - val_loss: 0.9650 - val_accuracy: 0.0800\n",
      "Epoch 91/100\n",
      "10/10 [==============================] - 0s 5ms/step - loss: 0.1110 - accuracy: 0.1136 - val_loss: 0.9621 - val_accuracy: 0.0800\n",
      "Epoch 92/100\n",
      "10/10 [==============================] - 0s 5ms/step - loss: 0.1104 - accuracy: 0.1136 - val_loss: 0.9594 - val_accuracy: 0.0800\n",
      "Epoch 93/100\n",
      "10/10 [==============================] - 0s 3ms/step - loss: 0.1097 - accuracy: 0.1136 - val_loss: 0.9570 - val_accuracy: 0.0800\n",
      "Epoch 94/100\n",
      "10/10 [==============================] - 0s 5ms/step - loss: 0.1092 - accuracy: 0.1136 - val_loss: 0.9544 - val_accuracy: 0.0800\n",
      "Epoch 95/100\n",
      "10/10 [==============================] - 0s 4ms/step - loss: 0.1086 - accuracy: 0.1136 - val_loss: 0.9523 - val_accuracy: 0.0800\n",
      "Epoch 96/100\n",
      "10/10 [==============================] - 0s 5ms/step - loss: 0.1080 - accuracy: 0.1136 - val_loss: 0.9502 - val_accuracy: 0.0800\n",
      "Epoch 97/100\n",
      "10/10 [==============================] - 0s 6ms/step - loss: 0.1074 - accuracy: 0.1136 - val_loss: 0.9479 - val_accuracy: 0.0800\n",
      "Epoch 98/100\n",
      "10/10 [==============================] - 0s 6ms/step - loss: 0.1068 - accuracy: 0.1136 - val_loss: 0.9459 - val_accuracy: 0.0800\n",
      "Epoch 99/100\n",
      "10/10 [==============================] - 0s 5ms/step - loss: 0.1063 - accuracy: 0.1136 - val_loss: 0.9438 - val_accuracy: 0.0800\n",
      "Epoch 100/100\n",
      "10/10 [==============================] - 0s 4ms/step - loss: 0.1057 - accuracy: 0.1136 - val_loss: 0.9413 - val_accuracy: 0.0800\n"
     ]
    }
   ],
   "source": [
    "model_1 = model.fit(std_x, y, epochs=100,batch_size=22, validation_split=0.1)"
   ]
  },
  {
   "cell_type": "code",
   "execution_count": 117,
   "metadata": {},
   "outputs": [
    {
     "name": "stdout",
     "output_type": "stream",
     "text": [
      "Epoch 1/32\n",
      "8/8 [==============================] - 0s 10ms/step - loss: 0.1052 - accuracy: 0.1136 - val_loss: 0.9392 - val_accuracy: 0.0800\n",
      "Epoch 2/32\n",
      "8/8 [==============================] - 0s 7ms/step - loss: 0.1047 - accuracy: 0.1136 - val_loss: 0.9371 - val_accuracy: 0.0800\n",
      "Epoch 3/32\n",
      "8/8 [==============================] - 0s 4ms/step - loss: 0.1043 - accuracy: 0.1136 - val_loss: 0.9352 - val_accuracy: 0.0800\n",
      "Epoch 4/32\n",
      "8/8 [==============================] - 0s 7ms/step - loss: 0.1038 - accuracy: 0.1136 - val_loss: 0.9335 - val_accuracy: 0.0800\n",
      "Epoch 5/32\n",
      "8/8 [==============================] - 0s 6ms/step - loss: 0.1034 - accuracy: 0.1136 - val_loss: 0.9320 - val_accuracy: 0.0800\n",
      "Epoch 6/32\n",
      "8/8 [==============================] - 0s 5ms/step - loss: 0.1030 - accuracy: 0.1136 - val_loss: 0.9304 - val_accuracy: 0.0800\n",
      "Epoch 7/32\n",
      "8/8 [==============================] - 0s 7ms/step - loss: 0.1026 - accuracy: 0.1136 - val_loss: 0.9286 - val_accuracy: 0.0800\n",
      "Epoch 8/32\n",
      "8/8 [==============================] - 0s 7ms/step - loss: 0.1021 - accuracy: 0.1136 - val_loss: 0.9267 - val_accuracy: 0.0800\n",
      "Epoch 9/32\n",
      "8/8 [==============================] - 0s 6ms/step - loss: 0.1017 - accuracy: 0.1136 - val_loss: 0.9248 - val_accuracy: 0.0800\n",
      "Epoch 10/32\n",
      "8/8 [==============================] - 0s 4ms/step - loss: 0.1013 - accuracy: 0.1136 - val_loss: 0.9229 - val_accuracy: 0.0800\n",
      "Epoch 11/32\n",
      "8/8 [==============================] - 0s 4ms/step - loss: 0.1009 - accuracy: 0.1136 - val_loss: 0.9209 - val_accuracy: 0.0800\n",
      "Epoch 12/32\n",
      "8/8 [==============================] - 0s 7ms/step - loss: 0.1004 - accuracy: 0.1136 - val_loss: 0.9192 - val_accuracy: 0.0800\n",
      "Epoch 13/32\n",
      "8/8 [==============================] - 0s 4ms/step - loss: 0.1000 - accuracy: 0.1136 - val_loss: 0.9177 - val_accuracy: 0.0800\n",
      "Epoch 14/32\n",
      "8/8 [==============================] - 0s 6ms/step - loss: 0.0996 - accuracy: 0.1136 - val_loss: 0.9161 - val_accuracy: 0.0800\n",
      "Epoch 15/32\n",
      "8/8 [==============================] - 0s 6ms/step - loss: 0.0992 - accuracy: 0.1136 - val_loss: 0.9141 - val_accuracy: 0.0800\n",
      "Epoch 16/32\n",
      "8/8 [==============================] - 0s 6ms/step - loss: 0.0988 - accuracy: 0.1136 - val_loss: 0.9123 - val_accuracy: 0.0800\n",
      "Epoch 17/32\n",
      "8/8 [==============================] - 0s 4ms/step - loss: 0.0984 - accuracy: 0.1136 - val_loss: 0.9105 - val_accuracy: 0.0800\n",
      "Epoch 18/32\n",
      "8/8 [==============================] - 0s 6ms/step - loss: 0.0980 - accuracy: 0.1136 - val_loss: 0.9091 - val_accuracy: 0.0800\n",
      "Epoch 19/32\n",
      "8/8 [==============================] - 0s 7ms/step - loss: 0.0976 - accuracy: 0.1136 - val_loss: 0.9073 - val_accuracy: 0.0800\n",
      "Epoch 20/32\n",
      "8/8 [==============================] - 0s 8ms/step - loss: 0.0972 - accuracy: 0.1136 - val_loss: 0.9054 - val_accuracy: 0.0800\n",
      "Epoch 21/32\n",
      "8/8 [==============================] - 0s 5ms/step - loss: 0.0968 - accuracy: 0.1136 - val_loss: 0.9035 - val_accuracy: 0.0800\n",
      "Epoch 22/32\n",
      "8/8 [==============================] - 0s 6ms/step - loss: 0.0964 - accuracy: 0.1136 - val_loss: 0.9015 - val_accuracy: 0.0800\n",
      "Epoch 23/32\n",
      "8/8 [==============================] - 0s 4ms/step - loss: 0.0960 - accuracy: 0.1136 - val_loss: 0.8996 - val_accuracy: 0.0800\n",
      "Epoch 24/32\n",
      "8/8 [==============================] - 0s 7ms/step - loss: 0.0957 - accuracy: 0.1136 - val_loss: 0.8983 - val_accuracy: 0.0800\n",
      "Epoch 25/32\n",
      "8/8 [==============================] - 0s 5ms/step - loss: 0.0953 - accuracy: 0.1136 - val_loss: 0.8973 - val_accuracy: 0.0800\n",
      "Epoch 26/32\n",
      "8/8 [==============================] - 0s 4ms/step - loss: 0.0949 - accuracy: 0.1136 - val_loss: 0.8963 - val_accuracy: 0.0800\n",
      "Epoch 27/32\n",
      "8/8 [==============================] - 0s 6ms/step - loss: 0.0945 - accuracy: 0.1136 - val_loss: 0.8949 - val_accuracy: 0.0800\n",
      "Epoch 28/32\n",
      "8/8 [==============================] - 0s 6ms/step - loss: 0.0941 - accuracy: 0.1136 - val_loss: 0.8931 - val_accuracy: 0.0800\n",
      "Epoch 29/32\n",
      "8/8 [==============================] - 0s 7ms/step - loss: 0.0938 - accuracy: 0.1136 - val_loss: 0.8911 - val_accuracy: 0.0800\n",
      "Epoch 30/32\n",
      "8/8 [==============================] - 0s 6ms/step - loss: 0.0934 - accuracy: 0.1136 - val_loss: 0.8891 - val_accuracy: 0.0800\n",
      "Epoch 31/32\n",
      "8/8 [==============================] - 0s 7ms/step - loss: 0.0930 - accuracy: 0.1136 - val_loss: 0.8870 - val_accuracy: 0.0800\n",
      "Epoch 32/32\n",
      "8/8 [==============================] - 0s 7ms/step - loss: 0.0926 - accuracy: 0.1136 - val_loss: 0.8851 - val_accuracy: 0.0800\n"
     ]
    },
    {
     "data": {
      "text/plain": [
       "<keras.callbacks.History at 0x7fa2501b12b0>"
      ]
     },
     "execution_count": 117,
     "metadata": {},
     "output_type": "execute_result"
    }
   ],
   "source": [
    "model.fit(std_x, y, validation_split=0.1, epochs=32, batch_size=28)"
   ]
  },
  {
   "cell_type": "code",
   "execution_count": 118,
   "metadata": {},
   "outputs": [
    {
     "data": {
      "text/plain": [
       "<keras.callbacks.History at 0x7fa258607fd0>"
      ]
     },
     "execution_count": 118,
     "metadata": {},
     "output_type": "execute_result"
    }
   ],
   "source": [
    "model_1"
   ]
  },
  {
   "cell_type": "markdown",
   "metadata": {
    "id": "INviAAqun7nB"
   },
   "source": [
    "## ----*** Tier 2 successfully completed***-----"
   ]
  },
  {
   "cell_type": "code",
   "execution_count": 119,
   "metadata": {
    "id": "mQfZBT0joERl"
   },
   "outputs": [],
   "source": [
    "a = model.save('model.h5')"
   ]
  },
  {
   "cell_type": "code",
   "execution_count": 120,
   "metadata": {},
   "outputs": [
    {
     "name": "stdout",
     "output_type": "stream",
     "text": [
      "Defaulting to user installation because normal site-packages is not writeable\n",
      "Requirement already satisfied: torch in /home/u191324/.local/lib/python3.9/site-packages (2.0.0)\n",
      "Requirement already satisfied: nvidia-cuda-runtime-cu11==11.7.99 in /home/u191324/.local/lib/python3.9/site-packages (from torch) (11.7.99)\n",
      "Requirement already satisfied: nvidia-nvtx-cu11==11.7.91 in /home/u191324/.local/lib/python3.9/site-packages (from torch) (11.7.91)\n",
      "Requirement already satisfied: triton==2.0.0 in /home/u191324/.local/lib/python3.9/site-packages (from torch) (2.0.0)\n",
      "Requirement already satisfied: nvidia-cuda-nvrtc-cu11==11.7.99 in /home/u191324/.local/lib/python3.9/site-packages (from torch) (11.7.99)\n",
      "Requirement already satisfied: nvidia-cusparse-cu11==11.7.4.91 in /home/u191324/.local/lib/python3.9/site-packages (from torch) (11.7.4.91)\n",
      "Requirement already satisfied: nvidia-curand-cu11==10.2.10.91 in /home/u191324/.local/lib/python3.9/site-packages (from torch) (10.2.10.91)\n",
      "Requirement already satisfied: networkx in /home/u191324/.local/lib/python3.9/site-packages (from torch) (3.1)\n",
      "Requirement already satisfied: typing-extensions in /home/u191324/.local/lib/python3.9/site-packages (from torch) (4.5.0)\n",
      "Requirement already satisfied: nvidia-cublas-cu11==11.10.3.66 in /home/u191324/.local/lib/python3.9/site-packages (from torch) (11.10.3.66)\n",
      "Requirement already satisfied: nvidia-cuda-cupti-cu11==11.7.101 in /home/u191324/.local/lib/python3.9/site-packages (from torch) (11.7.101)\n",
      "Requirement already satisfied: nvidia-cusolver-cu11==11.4.0.1 in /home/u191324/.local/lib/python3.9/site-packages (from torch) (11.4.0.1)\n",
      "Requirement already satisfied: nvidia-nccl-cu11==2.14.3 in /home/u191324/.local/lib/python3.9/site-packages (from torch) (2.14.3)\n",
      "Requirement already satisfied: nvidia-cufft-cu11==10.9.0.58 in /home/u191324/.local/lib/python3.9/site-packages (from torch) (10.9.0.58)\n",
      "Requirement already satisfied: nvidia-cudnn-cu11==8.5.0.96 in /home/u191324/.local/lib/python3.9/site-packages (from torch) (8.5.0.96)\n",
      "Requirement already satisfied: jinja2 in /home/u191324/.local/lib/python3.9/site-packages (from torch) (3.1.2)\n",
      "Requirement already satisfied: sympy in /home/u191324/.local/lib/python3.9/site-packages (from torch) (1.11.1)\n",
      "Requirement already satisfied: filelock in /home/u191324/.local/lib/python3.9/site-packages (from torch) (3.12.0)\n",
      "Requirement already satisfied: wheel in /glob/development-tools/versions/oneapi/2023.0.1/oneapi/intelpython/python3.9/lib/python3.9/site-packages (from nvidia-cublas-cu11==11.10.3.66->torch) (0.37.1)\n",
      "Requirement already satisfied: setuptools in /glob/development-tools/versions/oneapi/2023.0.1/oneapi/intelpython/python3.9/lib/python3.9/site-packages (from nvidia-cublas-cu11==11.10.3.66->torch) (63.4.1)\n",
      "Requirement already satisfied: lit in /home/u191324/.local/lib/python3.9/site-packages (from triton==2.0.0->torch) (16.0.2)\n",
      "Requirement already satisfied: cmake in /home/u191324/.local/lib/python3.9/site-packages (from triton==2.0.0->torch) (3.26.3)\n",
      "Requirement already satisfied: MarkupSafe>=2.0 in /home/u191324/.local/lib/python3.9/site-packages (from jinja2->torch) (2.1.2)\n",
      "Requirement already satisfied: mpmath>=0.19 in /home/u191324/.local/lib/python3.9/site-packages (from sympy->torch) (1.3.0)\n",
      "Note: you may need to restart the kernel to use updated packages.\n"
     ]
    }
   ],
   "source": [
    "# pip install torch"
   ]
  },
  {
   "cell_type": "markdown",
   "metadata": {},
   "source": [
    "## ***Tier 2 completed successfully***--------------------!"
   ]
  },
  {
   "cell_type": "code",
   "execution_count": null,
   "metadata": {},
   "outputs": [],
   "source": []
  }
 ],
 "metadata": {
  "colab": {
   "authorship_tag": "ABX9TyMgMkrmWDUMeLwOnP0Ui1XS",
   "include_colab_link": true,
   "provenance": []
  },
  "kernelspec": {
   "display_name": "Python 3 (Intel® oneAPI 2023.0)",
   "language": "python",
   "name": "c009-intel_distribution_of_python_3_oneapi-beta05-python"
  },
  "language_info": {
   "codemirror_mode": {
    "name": "ipython",
    "version": 3
   },
   "file_extension": ".py",
   "mimetype": "text/x-python",
   "name": "python",
   "nbconvert_exporter": "python",
   "pygments_lexer": "ipython3",
   "version": "3.9.15"
  }
 },
 "nbformat": 4,
 "nbformat_minor": 4
}
