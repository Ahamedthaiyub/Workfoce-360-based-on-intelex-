{
  "cells": [
    {
      "cell_type": "markdown",
      "metadata": {
        "id": "view-in-github",
        "colab_type": "text"
      },
      "source": [
        "<a href=\"https://colab.research.google.com/github/Ahamedthaiyub/Workfoce360/blob/main/Tier(2)_attrition_system.ipynb\" target=\"_parent\"><img src=\"https://colab.research.google.com/assets/colab-badge.svg\" alt=\"Open In Colab\"/></a>"
      ]
    },
    {
      "cell_type": "markdown",
      "source": [
        "## ***Importing and instaling requirements***"
      ],
      "metadata": {
        "id": "B0KdeFD2l1ml"
      }
    },
    {
      "cell_type": "code",
      "execution_count": null,
      "metadata": {
        "id": "tw6MA6Icjg7P",
        "colab": {
          "base_uri": "https://localhost:8080/"
        },
        "outputId": "75b8f95b-3f08-4640-c078-f8e5d47ec442"
      },
      "outputs": [
        {
          "output_type": "stream",
          "name": "stdout",
          "text": [
            "Drive already mounted at /content/drive; to attempt to forcibly remount, call drive.mount(\"/content/drive\", force_remount=True).\n"
          ]
        }
      ],
      "source": [
        "from google.colab import drive\n",
        "drive.mount('/content/drive')\n"
      ]
    },
    {
      "cell_type": "code",
      "source": [
        "pip install scikit-learn-intelex"
      ],
      "metadata": {
        "colab": {
          "base_uri": "https://localhost:8080/"
        },
        "id": "P16dTn8lfTmI",
        "outputId": "bd5d2156-6ed2-495a-8657-79d824ea35e0"
      },
      "execution_count": null,
      "outputs": [
        {
          "output_type": "stream",
          "name": "stdout",
          "text": [
            "Looking in indexes: https://pypi.org/simple, https://us-python.pkg.dev/colab-wheels/public/simple/\n",
            "Collecting scikit-learn-intelex\n",
            "  Downloading scikit_learn_intelex-2023.1.1-py39-none-manylinux1_x86_64.whl (115 kB)\n",
            "\u001b[2K     \u001b[90m━━━━━━━━━━━━━━━━━━━━━━━━━━━━━━━━━━━━━━━\u001b[0m \u001b[32m115.3/115.3 kB\u001b[0m \u001b[31m2.0 MB/s\u001b[0m eta \u001b[36m0:00:00\u001b[0m\n",
            "\u001b[?25hCollecting daal4py==2023.1.1\n",
            "  Downloading daal4py-2023.1.1-py39-none-manylinux1_x86_64.whl (13.9 MB)\n",
            "\u001b[2K     \u001b[90m━━━━━━━━━━━━━━━━━━━━━━━━━━━━━━━━━━━━━━━━\u001b[0m \u001b[32m13.9/13.9 MB\u001b[0m \u001b[31m52.9 MB/s\u001b[0m eta \u001b[36m0:00:00\u001b[0m\n",
            "\u001b[?25hRequirement already satisfied: scikit-learn>=0.22 in /usr/local/lib/python3.9/dist-packages (from scikit-learn-intelex) (1.2.2)\n",
            "Requirement already satisfied: numpy>=1.19 in /usr/local/lib/python3.9/dist-packages (from daal4py==2023.1.1->scikit-learn-intelex) (1.22.4)\n",
            "Collecting daal==2023.1.1\n",
            "  Downloading daal-2023.1.1-py2.py3-none-manylinux1_x86_64.whl (69.2 MB)\n",
            "\u001b[2K     \u001b[90m━━━━━━━━━━━━━━━━━━━━━━━━━━━━━━━━━━━━━━━━\u001b[0m \u001b[32m69.2/69.2 MB\u001b[0m \u001b[31m10.2 MB/s\u001b[0m eta \u001b[36m0:00:00\u001b[0m\n",
            "\u001b[?25hCollecting tbb==2021.*\n",
            "  Downloading tbb-2021.9.0-py2.py3-none-manylinux1_x86_64.whl (4.0 MB)\n",
            "\u001b[2K     \u001b[90m━━━━━━━━━━━━━━━━━━━━━━━━━━━━━━━━━━━━━━━━\u001b[0m \u001b[32m4.0/4.0 MB\u001b[0m \u001b[31m49.0 MB/s\u001b[0m eta \u001b[36m0:00:00\u001b[0m\n",
            "\u001b[?25hRequirement already satisfied: scipy>=1.3.2 in /usr/local/lib/python3.9/dist-packages (from scikit-learn>=0.22->scikit-learn-intelex) (1.10.1)\n",
            "Requirement already satisfied: joblib>=1.1.1 in /usr/local/lib/python3.9/dist-packages (from scikit-learn>=0.22->scikit-learn-intelex) (1.2.0)\n",
            "Requirement already satisfied: threadpoolctl>=2.0.0 in /usr/local/lib/python3.9/dist-packages (from scikit-learn>=0.22->scikit-learn-intelex) (3.1.0)\n",
            "Installing collected packages: tbb, daal, daal4py, scikit-learn-intelex\n",
            "Successfully installed daal-2023.1.1 daal4py-2023.1.1 scikit-learn-intelex-2023.1.1 tbb-2021.9.0\n"
          ]
        }
      ]
    },
    {
      "cell_type": "code",
      "execution_count": null,
      "metadata": {
        "id": "DkZqmRV6Ec31",
        "colab": {
          "base_uri": "https://localhost:8080/"
        },
        "outputId": "1623b28a-c927-48b0-af66-154ac7e3373f"
      },
      "outputs": [
        {
          "output_type": "stream",
          "name": "stdout",
          "text": [
            "Looking in indexes: https://pypi.org/simple, https://us-python.pkg.dev/colab-wheels/public/simple/\n",
            "Requirement already satisfied: scikit-learn-intelex in /usr/local/lib/python3.9/dist-packages (2023.1.1)\n",
            "Requirement already satisfied: daal4py==2023.1.1 in /usr/local/lib/python3.9/dist-packages (from scikit-learn-intelex) (2023.1.1)\n",
            "Requirement already satisfied: scikit-learn>=0.22 in /usr/local/lib/python3.9/dist-packages (from scikit-learn-intelex) (1.2.2)\n",
            "Requirement already satisfied: daal==2023.1.1 in /usr/local/lib/python3.9/dist-packages (from daal4py==2023.1.1->scikit-learn-intelex) (2023.1.1)\n",
            "Requirement already satisfied: numpy>=1.19 in /usr/local/lib/python3.9/dist-packages (from daal4py==2023.1.1->scikit-learn-intelex) (1.22.4)\n",
            "Requirement already satisfied: tbb==2021.* in /usr/local/lib/python3.9/dist-packages (from daal==2023.1.1->daal4py==2023.1.1->scikit-learn-intelex) (2021.9.0)\n",
            "Requirement already satisfied: scipy>=1.3.2 in /usr/local/lib/python3.9/dist-packages (from scikit-learn>=0.22->scikit-learn-intelex) (1.10.1)\n",
            "Requirement already satisfied: threadpoolctl>=2.0.0 in /usr/local/lib/python3.9/dist-packages (from scikit-learn>=0.22->scikit-learn-intelex) (3.1.0)\n",
            "Requirement already satisfied: joblib>=1.1.1 in /usr/local/lib/python3.9/dist-packages (from scikit-learn>=0.22->scikit-learn-intelex) (1.2.0)\n"
          ]
        }
      ],
      "source": [
        "pip install scikit-learn-intelex"
      ]
    },
    {
      "cell_type": "code",
      "execution_count": null,
      "metadata": {
        "id": "Lj3sit2qkX21"
      },
      "outputs": [],
      "source": [
        "##importing libraries\n",
        "import pandas as pd\n",
        "import numpy as np\n"
      ]
    },
    {
      "cell_type": "code",
      "execution_count": null,
      "metadata": {
        "id": "9OVn4AaMZgyT",
        "colab": {
          "base_uri": "https://localhost:8080/"
        },
        "outputId": "e6a6f1f8-91bb-43f0-9f65-6117d2128aef"
      },
      "outputs": [
        {
          "output_type": "stream",
          "name": "stderr",
          "text": [
            "Intel(R) Extension for Scikit-learn* enabled (https://github.com/intel/scikit-learn-intelex)\n"
          ]
        }
      ],
      "source": [
        "from sklearnex import patch_sklearn\n",
        "patch_sklearn()\n",
        "import pandas as pd\n",
        "import time\n",
        "\n",
        "from sklearn.model_selection import train_test_split\n",
        "import numpy as np\n",
        "from sklearn.naive_bayes import MultinomialNB\n",
        "from sklearn.metrics import classification_report\n",
        "from matplotlib import pyplot as plt\n",
        "import seaborn as sn\n",
        "from sklearn.metrics import confusion_matrix\n",
        "from sklearn.ensemble import RandomForestClassifier\n",
        "from sklearn import neural_network \n",
        "from sklearn import tree\n",
        "from sklearn.feature_extraction.text import TfidfVectorizer\n",
        "from imblearn.over_sampling import SMOTE"
      ]
    },
    {
      "cell_type": "code",
      "execution_count": null,
      "metadata": {
        "id": "J0v2SVD-fn_O",
        "colab": {
          "base_uri": "https://localhost:8080/"
        },
        "outputId": "52fefa7b-a4b3-48cb-ab56-fdd8c02c1c8c"
      },
      "outputs": [
        {
          "output_type": "stream",
          "name": "stderr",
          "text": [
            "Intel(R) Extension for Scikit-learn* enabled (https://github.com/intel/scikit-learn-intelex)\n"
          ]
        }
      ],
      "source": [
        "#importing Machine larning libraries\n",
        "from sklearn import preprocessing\n",
        "from sklearnex import patch_sklearn\n",
        "patch_sklearn()\n",
        "\n",
        "from sklearn.impute import SimpleImputer\n",
        "\n",
        "from sklearn.compose import ColumnTransformer\n",
        "\n",
        "from sklearn.preprocessing import StandardScaler\n",
        "from sklearn.preprocessing import OneHotEncoder\n",
        "from sklearn.model_selection import train_test_split\n",
        "from sklearn.pipeline import Pipeline\n",
        "from sklearn.model_selection import GridSearchCV, cross_val_score, StratifiedKFold\n",
        "\n",
        "from sklearn.tree import DecisionTreeClassifier\n",
        "from sklearn.ensemble import RandomForestClassifier\n",
        "from sklearn.svm import SVC\n",
        "from sklearn.linear_model import LogisticRegression\n",
        "\n",
        "from sklearn.ensemble import GradientBoostingClassifier\n",
        "from sklearn.ensemble import AdaBoostClassifier\n",
        "from sklearn.metrics import confusion_matrix\n",
        "\n",
        "import matplotlib.pyplot as plt\n",
        "import seaborn as sns\n",
        "from imblearn.over_sampling import SMOTE\n",
        "from sklearn.metrics import accuracy_score, recall_score, precision_score, f1_score\n",
        "\n",
        "\n",
        "import warnings\n",
        "warnings.filterwarnings('ignore')"
      ]
    },
    {
      "cell_type": "markdown",
      "metadata": {
        "id": "4C5Y5LcxkLeF"
      },
      "source": [
        "## **PROBLEM STATEMENT(tier 2)**\n",
        "Employee attrition is a significant issue for companies, resulting in substantial costs for hiring, retraining, productivity, and work loss for each employee who leaves. To address this, a model needs to be built to predict whether an employee is likely to quit in the near future."
      ]
    },
    {
      "cell_type": "markdown",
      "metadata": {
        "id": "jNTjPjPQkXLx"
      },
      "source": [
        "# Reading the data sets & knowing about each attribute."
      ]
    },
    {
      "cell_type": "code",
      "execution_count": null,
      "metadata": {
        "id": "pjMLIKAyk1K9"
      },
      "outputs": [],
      "source": [
        "##reading train_data \n",
        "#Reading train_data \n",
        "train_attrition = pd.read_csv(\"/content/drive/My Drive/train_attrition.csv\")\n",
        "train_work = pd.read_csv(\"/content/drive/My Drive/train_work.csv\")\n"
      ]
    },
    {
      "cell_type": "code",
      "execution_count": null,
      "metadata": {
        "id": "awmBvIAFlH_g"
      },
      "outputs": [],
      "source": [
        "#Reading the employee_data\n",
        "emp_data = pd.read_csv(\"/content/drive/My Drive/employee_data.csv\")"
      ]
    },
    {
      "cell_type": "code",
      "execution_count": null,
      "metadata": {
        "id": "t3nG5C0GmEK6"
      },
      "outputs": [],
      "source": [
        "#Reading the test data \n",
        "test_attrition = pd.read_csv(\"/content/drive/My Drive/test_attrition.csv\")\n",
        "test_work = pd.read_csv(\"/content/drive/My Drive/test_work.csv\")"
      ]
    },
    {
      "cell_type": "markdown",
      "metadata": {
        "id": "d2a5PPUVmbx_"
      },
      "source": [
        "##viewing train_work\n"
      ]
    },
    {
      "cell_type": "code",
      "execution_count": null,
      "metadata": {
        "id": "YVmvc4O3p35k",
        "colab": {
          "base_uri": "https://localhost:8080/",
          "height": 206
        },
        "outputId": "52ff18fa-c5e3-4f91-eda1-1a880eb832ce"
      },
      "outputs": [
        {
          "output_type": "execute_result",
          "data": {
            "text/plain": [
              "  EmployeeID  TotalWorkingHours  Billable_Hours  Hours_off_Duty  \\\n",
              "0      emp-1              184.0           144.0            40.0   \n",
              "1      emp-1              176.0           136.0            40.0   \n",
              "2      emp-1              200.0           120.0            72.0   \n",
              "3      emp-1              160.0           144.0             8.0   \n",
              "4      emp-1              171.0           135.0             0.0   \n",
              "\n",
              "   Touring_Hours  NoOfProjects  ActualTimeSpent  \n",
              "0          144.0             3               77  \n",
              "1          136.0             2               98  \n",
              "2          120.0             1               14  \n",
              "3          144.0             3              147  \n",
              "4          135.0             1               42  "
            ],
            "text/html": [
              "\n",
              "  <div id=\"df-b6feba65-159c-40f9-b4f2-3f45be7f4c20\">\n",
              "    <div class=\"colab-df-container\">\n",
              "      <div>\n",
              "<style scoped>\n",
              "    .dataframe tbody tr th:only-of-type {\n",
              "        vertical-align: middle;\n",
              "    }\n",
              "\n",
              "    .dataframe tbody tr th {\n",
              "        vertical-align: top;\n",
              "    }\n",
              "\n",
              "    .dataframe thead th {\n",
              "        text-align: right;\n",
              "    }\n",
              "</style>\n",
              "<table border=\"1\" class=\"dataframe\">\n",
              "  <thead>\n",
              "    <tr style=\"text-align: right;\">\n",
              "      <th></th>\n",
              "      <th>EmployeeID</th>\n",
              "      <th>TotalWorkingHours</th>\n",
              "      <th>Billable_Hours</th>\n",
              "      <th>Hours_off_Duty</th>\n",
              "      <th>Touring_Hours</th>\n",
              "      <th>NoOfProjects</th>\n",
              "      <th>ActualTimeSpent</th>\n",
              "    </tr>\n",
              "  </thead>\n",
              "  <tbody>\n",
              "    <tr>\n",
              "      <th>0</th>\n",
              "      <td>emp-1</td>\n",
              "      <td>184.0</td>\n",
              "      <td>144.0</td>\n",
              "      <td>40.0</td>\n",
              "      <td>144.0</td>\n",
              "      <td>3</td>\n",
              "      <td>77</td>\n",
              "    </tr>\n",
              "    <tr>\n",
              "      <th>1</th>\n",
              "      <td>emp-1</td>\n",
              "      <td>176.0</td>\n",
              "      <td>136.0</td>\n",
              "      <td>40.0</td>\n",
              "      <td>136.0</td>\n",
              "      <td>2</td>\n",
              "      <td>98</td>\n",
              "    </tr>\n",
              "    <tr>\n",
              "      <th>2</th>\n",
              "      <td>emp-1</td>\n",
              "      <td>200.0</td>\n",
              "      <td>120.0</td>\n",
              "      <td>72.0</td>\n",
              "      <td>120.0</td>\n",
              "      <td>1</td>\n",
              "      <td>14</td>\n",
              "    </tr>\n",
              "    <tr>\n",
              "      <th>3</th>\n",
              "      <td>emp-1</td>\n",
              "      <td>160.0</td>\n",
              "      <td>144.0</td>\n",
              "      <td>8.0</td>\n",
              "      <td>144.0</td>\n",
              "      <td>3</td>\n",
              "      <td>147</td>\n",
              "    </tr>\n",
              "    <tr>\n",
              "      <th>4</th>\n",
              "      <td>emp-1</td>\n",
              "      <td>171.0</td>\n",
              "      <td>135.0</td>\n",
              "      <td>0.0</td>\n",
              "      <td>135.0</td>\n",
              "      <td>1</td>\n",
              "      <td>42</td>\n",
              "    </tr>\n",
              "  </tbody>\n",
              "</table>\n",
              "</div>\n",
              "      <button class=\"colab-df-convert\" onclick=\"convertToInteractive('df-b6feba65-159c-40f9-b4f2-3f45be7f4c20')\"\n",
              "              title=\"Convert this dataframe to an interactive table.\"\n",
              "              style=\"display:none;\">\n",
              "        \n",
              "  <svg xmlns=\"http://www.w3.org/2000/svg\" height=\"24px\"viewBox=\"0 0 24 24\"\n",
              "       width=\"24px\">\n",
              "    <path d=\"M0 0h24v24H0V0z\" fill=\"none\"/>\n",
              "    <path d=\"M18.56 5.44l.94 2.06.94-2.06 2.06-.94-2.06-.94-.94-2.06-.94 2.06-2.06.94zm-11 1L8.5 8.5l.94-2.06 2.06-.94-2.06-.94L8.5 2.5l-.94 2.06-2.06.94zm10 10l.94 2.06.94-2.06 2.06-.94-2.06-.94-.94-2.06-.94 2.06-2.06.94z\"/><path d=\"M17.41 7.96l-1.37-1.37c-.4-.4-.92-.59-1.43-.59-.52 0-1.04.2-1.43.59L10.3 9.45l-7.72 7.72c-.78.78-.78 2.05 0 2.83L4 21.41c.39.39.9.59 1.41.59.51 0 1.02-.2 1.41-.59l7.78-7.78 2.81-2.81c.8-.78.8-2.07 0-2.86zM5.41 20L4 18.59l7.72-7.72 1.47 1.35L5.41 20z\"/>\n",
              "  </svg>\n",
              "      </button>\n",
              "      \n",
              "  <style>\n",
              "    .colab-df-container {\n",
              "      display:flex;\n",
              "      flex-wrap:wrap;\n",
              "      gap: 12px;\n",
              "    }\n",
              "\n",
              "    .colab-df-convert {\n",
              "      background-color: #E8F0FE;\n",
              "      border: none;\n",
              "      border-radius: 50%;\n",
              "      cursor: pointer;\n",
              "      display: none;\n",
              "      fill: #1967D2;\n",
              "      height: 32px;\n",
              "      padding: 0 0 0 0;\n",
              "      width: 32px;\n",
              "    }\n",
              "\n",
              "    .colab-df-convert:hover {\n",
              "      background-color: #E2EBFA;\n",
              "      box-shadow: 0px 1px 2px rgba(60, 64, 67, 0.3), 0px 1px 3px 1px rgba(60, 64, 67, 0.15);\n",
              "      fill: #174EA6;\n",
              "    }\n",
              "\n",
              "    [theme=dark] .colab-df-convert {\n",
              "      background-color: #3B4455;\n",
              "      fill: #D2E3FC;\n",
              "    }\n",
              "\n",
              "    [theme=dark] .colab-df-convert:hover {\n",
              "      background-color: #434B5C;\n",
              "      box-shadow: 0px 1px 3px 1px rgba(0, 0, 0, 0.15);\n",
              "      filter: drop-shadow(0px 1px 2px rgba(0, 0, 0, 0.3));\n",
              "      fill: #FFFFFF;\n",
              "    }\n",
              "  </style>\n",
              "\n",
              "      <script>\n",
              "        const buttonEl =\n",
              "          document.querySelector('#df-b6feba65-159c-40f9-b4f2-3f45be7f4c20 button.colab-df-convert');\n",
              "        buttonEl.style.display =\n",
              "          google.colab.kernel.accessAllowed ? 'block' : 'none';\n",
              "\n",
              "        async function convertToInteractive(key) {\n",
              "          const element = document.querySelector('#df-b6feba65-159c-40f9-b4f2-3f45be7f4c20');\n",
              "          const dataTable =\n",
              "            await google.colab.kernel.invokeFunction('convertToInteractive',\n",
              "                                                     [key], {});\n",
              "          if (!dataTable) return;\n",
              "\n",
              "          const docLinkHtml = 'Like what you see? Visit the ' +\n",
              "            '<a target=\"_blank\" href=https://colab.research.google.com/notebooks/data_table.ipynb>data table notebook</a>'\n",
              "            + ' to learn more about interactive tables.';\n",
              "          element.innerHTML = '';\n",
              "          dataTable['output_type'] = 'display_data';\n",
              "          await google.colab.output.renderOutput(dataTable, element);\n",
              "          const docLink = document.createElement('div');\n",
              "          docLink.innerHTML = docLinkHtml;\n",
              "          element.appendChild(docLink);\n",
              "        }\n",
              "      </script>\n",
              "    </div>\n",
              "  </div>\n",
              "  "
            ]
          },
          "metadata": {},
          "execution_count": 118
        }
      ],
      "source": [
        "train_work.head()"
      ]
    },
    {
      "cell_type": "markdown",
      "metadata": {
        "id": "_1cnI6-RmHlB"
      },
      "source": [
        "## viewing of all datasets\n",
        "\n"
      ]
    },
    {
      "cell_type": "code",
      "execution_count": null,
      "metadata": {
        "id": "CYum9nbkmLRE",
        "colab": {
          "base_uri": "https://localhost:8080/",
          "height": 206
        },
        "outputId": "a0a03224-9001-40c2-82da-35bdaa570991"
      },
      "outputs": [
        {
          "output_type": "execute_result",
          "data": {
            "text/plain": [
              "  EmployeeID  Left_Company\n",
              "0      emp-1             0\n",
              "1     emp-10             1\n",
              "2    emp-100             0\n",
              "3    emp-101             0\n",
              "4    emp-102             0"
            ],
            "text/html": [
              "\n",
              "  <div id=\"df-7277964f-16df-4678-9ae5-fe5741b4510a\">\n",
              "    <div class=\"colab-df-container\">\n",
              "      <div>\n",
              "<style scoped>\n",
              "    .dataframe tbody tr th:only-of-type {\n",
              "        vertical-align: middle;\n",
              "    }\n",
              "\n",
              "    .dataframe tbody tr th {\n",
              "        vertical-align: top;\n",
              "    }\n",
              "\n",
              "    .dataframe thead th {\n",
              "        text-align: right;\n",
              "    }\n",
              "</style>\n",
              "<table border=\"1\" class=\"dataframe\">\n",
              "  <thead>\n",
              "    <tr style=\"text-align: right;\">\n",
              "      <th></th>\n",
              "      <th>EmployeeID</th>\n",
              "      <th>Left_Company</th>\n",
              "    </tr>\n",
              "  </thead>\n",
              "  <tbody>\n",
              "    <tr>\n",
              "      <th>0</th>\n",
              "      <td>emp-1</td>\n",
              "      <td>0</td>\n",
              "    </tr>\n",
              "    <tr>\n",
              "      <th>1</th>\n",
              "      <td>emp-10</td>\n",
              "      <td>1</td>\n",
              "    </tr>\n",
              "    <tr>\n",
              "      <th>2</th>\n",
              "      <td>emp-100</td>\n",
              "      <td>0</td>\n",
              "    </tr>\n",
              "    <tr>\n",
              "      <th>3</th>\n",
              "      <td>emp-101</td>\n",
              "      <td>0</td>\n",
              "    </tr>\n",
              "    <tr>\n",
              "      <th>4</th>\n",
              "      <td>emp-102</td>\n",
              "      <td>0</td>\n",
              "    </tr>\n",
              "  </tbody>\n",
              "</table>\n",
              "</div>\n",
              "      <button class=\"colab-df-convert\" onclick=\"convertToInteractive('df-7277964f-16df-4678-9ae5-fe5741b4510a')\"\n",
              "              title=\"Convert this dataframe to an interactive table.\"\n",
              "              style=\"display:none;\">\n",
              "        \n",
              "  <svg xmlns=\"http://www.w3.org/2000/svg\" height=\"24px\"viewBox=\"0 0 24 24\"\n",
              "       width=\"24px\">\n",
              "    <path d=\"M0 0h24v24H0V0z\" fill=\"none\"/>\n",
              "    <path d=\"M18.56 5.44l.94 2.06.94-2.06 2.06-.94-2.06-.94-.94-2.06-.94 2.06-2.06.94zm-11 1L8.5 8.5l.94-2.06 2.06-.94-2.06-.94L8.5 2.5l-.94 2.06-2.06.94zm10 10l.94 2.06.94-2.06 2.06-.94-2.06-.94-.94-2.06-.94 2.06-2.06.94z\"/><path d=\"M17.41 7.96l-1.37-1.37c-.4-.4-.92-.59-1.43-.59-.52 0-1.04.2-1.43.59L10.3 9.45l-7.72 7.72c-.78.78-.78 2.05 0 2.83L4 21.41c.39.39.9.59 1.41.59.51 0 1.02-.2 1.41-.59l7.78-7.78 2.81-2.81c.8-.78.8-2.07 0-2.86zM5.41 20L4 18.59l7.72-7.72 1.47 1.35L5.41 20z\"/>\n",
              "  </svg>\n",
              "      </button>\n",
              "      \n",
              "  <style>\n",
              "    .colab-df-container {\n",
              "      display:flex;\n",
              "      flex-wrap:wrap;\n",
              "      gap: 12px;\n",
              "    }\n",
              "\n",
              "    .colab-df-convert {\n",
              "      background-color: #E8F0FE;\n",
              "      border: none;\n",
              "      border-radius: 50%;\n",
              "      cursor: pointer;\n",
              "      display: none;\n",
              "      fill: #1967D2;\n",
              "      height: 32px;\n",
              "      padding: 0 0 0 0;\n",
              "      width: 32px;\n",
              "    }\n",
              "\n",
              "    .colab-df-convert:hover {\n",
              "      background-color: #E2EBFA;\n",
              "      box-shadow: 0px 1px 2px rgba(60, 64, 67, 0.3), 0px 1px 3px 1px rgba(60, 64, 67, 0.15);\n",
              "      fill: #174EA6;\n",
              "    }\n",
              "\n",
              "    [theme=dark] .colab-df-convert {\n",
              "      background-color: #3B4455;\n",
              "      fill: #D2E3FC;\n",
              "    }\n",
              "\n",
              "    [theme=dark] .colab-df-convert:hover {\n",
              "      background-color: #434B5C;\n",
              "      box-shadow: 0px 1px 3px 1px rgba(0, 0, 0, 0.15);\n",
              "      filter: drop-shadow(0px 1px 2px rgba(0, 0, 0, 0.3));\n",
              "      fill: #FFFFFF;\n",
              "    }\n",
              "  </style>\n",
              "\n",
              "      <script>\n",
              "        const buttonEl =\n",
              "          document.querySelector('#df-7277964f-16df-4678-9ae5-fe5741b4510a button.colab-df-convert');\n",
              "        buttonEl.style.display =\n",
              "          google.colab.kernel.accessAllowed ? 'block' : 'none';\n",
              "\n",
              "        async function convertToInteractive(key) {\n",
              "          const element = document.querySelector('#df-7277964f-16df-4678-9ae5-fe5741b4510a');\n",
              "          const dataTable =\n",
              "            await google.colab.kernel.invokeFunction('convertToInteractive',\n",
              "                                                     [key], {});\n",
              "          if (!dataTable) return;\n",
              "\n",
              "          const docLinkHtml = 'Like what you see? Visit the ' +\n",
              "            '<a target=\"_blank\" href=https://colab.research.google.com/notebooks/data_table.ipynb>data table notebook</a>'\n",
              "            + ' to learn more about interactive tables.';\n",
              "          element.innerHTML = '';\n",
              "          dataTable['output_type'] = 'display_data';\n",
              "          await google.colab.output.renderOutput(dataTable, element);\n",
              "          const docLink = document.createElement('div');\n",
              "          docLink.innerHTML = docLinkHtml;\n",
              "          element.appendChild(docLink);\n",
              "        }\n",
              "      </script>\n",
              "    </div>\n",
              "  </div>\n",
              "  "
            ]
          },
          "metadata": {},
          "execution_count": 119
        }
      ],
      "source": [
        "##viewing train attrition\n",
        "train_attrition.head()"
      ]
    },
    {
      "cell_type": "code",
      "execution_count": null,
      "metadata": {
        "id": "TA9JZao4msFM",
        "colab": {
          "base_uri": "https://localhost:8080/",
          "height": 206
        },
        "outputId": "ee5c712f-964d-4dd3-fc73-1543e58b17eb"
      },
      "outputs": [
        {
          "output_type": "execute_result",
          "data": {
            "text/plain": [
              "  EmployeeID                                        Job_History Joining_Date  \\\n",
              "0     emp-10  Worked at Company - 816 , Company - 724 , Comp...      2006_02   \n",
              "1    emp-108  Worked at Company - 205 , Company - 373 , Comp...      2012_01   \n",
              "2    emp-115  Worked at Company - 690 , Company - 280 , Comp...      2012_02   \n",
              "3    emp-121  Worked at Company - 684 , Company - 159 , Comp...      2012_03   \n",
              "4    emp-138  Worked at Company - 443 , Company - 121 , Comp...      2012_05   \n",
              "\n",
              "  Designation  Sex  \n",
              "0          VP    0  \n",
              "1          VP    1  \n",
              "2      Senior    1  \n",
              "3          VP    1  \n",
              "4      Senior    1  "
            ],
            "text/html": [
              "\n",
              "  <div id=\"df-6da777ab-cb99-4f17-8442-8bc4238b6b9f\">\n",
              "    <div class=\"colab-df-container\">\n",
              "      <div>\n",
              "<style scoped>\n",
              "    .dataframe tbody tr th:only-of-type {\n",
              "        vertical-align: middle;\n",
              "    }\n",
              "\n",
              "    .dataframe tbody tr th {\n",
              "        vertical-align: top;\n",
              "    }\n",
              "\n",
              "    .dataframe thead th {\n",
              "        text-align: right;\n",
              "    }\n",
              "</style>\n",
              "<table border=\"1\" class=\"dataframe\">\n",
              "  <thead>\n",
              "    <tr style=\"text-align: right;\">\n",
              "      <th></th>\n",
              "      <th>EmployeeID</th>\n",
              "      <th>Job_History</th>\n",
              "      <th>Joining_Date</th>\n",
              "      <th>Designation</th>\n",
              "      <th>Sex</th>\n",
              "    </tr>\n",
              "  </thead>\n",
              "  <tbody>\n",
              "    <tr>\n",
              "      <th>0</th>\n",
              "      <td>emp-10</td>\n",
              "      <td>Worked at Company - 816 , Company - 724 , Comp...</td>\n",
              "      <td>2006_02</td>\n",
              "      <td>VP</td>\n",
              "      <td>0</td>\n",
              "    </tr>\n",
              "    <tr>\n",
              "      <th>1</th>\n",
              "      <td>emp-108</td>\n",
              "      <td>Worked at Company - 205 , Company - 373 , Comp...</td>\n",
              "      <td>2012_01</td>\n",
              "      <td>VP</td>\n",
              "      <td>1</td>\n",
              "    </tr>\n",
              "    <tr>\n",
              "      <th>2</th>\n",
              "      <td>emp-115</td>\n",
              "      <td>Worked at Company - 690 , Company - 280 , Comp...</td>\n",
              "      <td>2012_02</td>\n",
              "      <td>Senior</td>\n",
              "      <td>1</td>\n",
              "    </tr>\n",
              "    <tr>\n",
              "      <th>3</th>\n",
              "      <td>emp-121</td>\n",
              "      <td>Worked at Company - 684 , Company - 159 , Comp...</td>\n",
              "      <td>2012_03</td>\n",
              "      <td>VP</td>\n",
              "      <td>1</td>\n",
              "    </tr>\n",
              "    <tr>\n",
              "      <th>4</th>\n",
              "      <td>emp-138</td>\n",
              "      <td>Worked at Company - 443 , Company - 121 , Comp...</td>\n",
              "      <td>2012_05</td>\n",
              "      <td>Senior</td>\n",
              "      <td>1</td>\n",
              "    </tr>\n",
              "  </tbody>\n",
              "</table>\n",
              "</div>\n",
              "      <button class=\"colab-df-convert\" onclick=\"convertToInteractive('df-6da777ab-cb99-4f17-8442-8bc4238b6b9f')\"\n",
              "              title=\"Convert this dataframe to an interactive table.\"\n",
              "              style=\"display:none;\">\n",
              "        \n",
              "  <svg xmlns=\"http://www.w3.org/2000/svg\" height=\"24px\"viewBox=\"0 0 24 24\"\n",
              "       width=\"24px\">\n",
              "    <path d=\"M0 0h24v24H0V0z\" fill=\"none\"/>\n",
              "    <path d=\"M18.56 5.44l.94 2.06.94-2.06 2.06-.94-2.06-.94-.94-2.06-.94 2.06-2.06.94zm-11 1L8.5 8.5l.94-2.06 2.06-.94-2.06-.94L8.5 2.5l-.94 2.06-2.06.94zm10 10l.94 2.06.94-2.06 2.06-.94-2.06-.94-.94-2.06-.94 2.06-2.06.94z\"/><path d=\"M17.41 7.96l-1.37-1.37c-.4-.4-.92-.59-1.43-.59-.52 0-1.04.2-1.43.59L10.3 9.45l-7.72 7.72c-.78.78-.78 2.05 0 2.83L4 21.41c.39.39.9.59 1.41.59.51 0 1.02-.2 1.41-.59l7.78-7.78 2.81-2.81c.8-.78.8-2.07 0-2.86zM5.41 20L4 18.59l7.72-7.72 1.47 1.35L5.41 20z\"/>\n",
              "  </svg>\n",
              "      </button>\n",
              "      \n",
              "  <style>\n",
              "    .colab-df-container {\n",
              "      display:flex;\n",
              "      flex-wrap:wrap;\n",
              "      gap: 12px;\n",
              "    }\n",
              "\n",
              "    .colab-df-convert {\n",
              "      background-color: #E8F0FE;\n",
              "      border: none;\n",
              "      border-radius: 50%;\n",
              "      cursor: pointer;\n",
              "      display: none;\n",
              "      fill: #1967D2;\n",
              "      height: 32px;\n",
              "      padding: 0 0 0 0;\n",
              "      width: 32px;\n",
              "    }\n",
              "\n",
              "    .colab-df-convert:hover {\n",
              "      background-color: #E2EBFA;\n",
              "      box-shadow: 0px 1px 2px rgba(60, 64, 67, 0.3), 0px 1px 3px 1px rgba(60, 64, 67, 0.15);\n",
              "      fill: #174EA6;\n",
              "    }\n",
              "\n",
              "    [theme=dark] .colab-df-convert {\n",
              "      background-color: #3B4455;\n",
              "      fill: #D2E3FC;\n",
              "    }\n",
              "\n",
              "    [theme=dark] .colab-df-convert:hover {\n",
              "      background-color: #434B5C;\n",
              "      box-shadow: 0px 1px 3px 1px rgba(0, 0, 0, 0.15);\n",
              "      filter: drop-shadow(0px 1px 2px rgba(0, 0, 0, 0.3));\n",
              "      fill: #FFFFFF;\n",
              "    }\n",
              "  </style>\n",
              "\n",
              "      <script>\n",
              "        const buttonEl =\n",
              "          document.querySelector('#df-6da777ab-cb99-4f17-8442-8bc4238b6b9f button.colab-df-convert');\n",
              "        buttonEl.style.display =\n",
              "          google.colab.kernel.accessAllowed ? 'block' : 'none';\n",
              "\n",
              "        async function convertToInteractive(key) {\n",
              "          const element = document.querySelector('#df-6da777ab-cb99-4f17-8442-8bc4238b6b9f');\n",
              "          const dataTable =\n",
              "            await google.colab.kernel.invokeFunction('convertToInteractive',\n",
              "                                                     [key], {});\n",
              "          if (!dataTable) return;\n",
              "\n",
              "          const docLinkHtml = 'Like what you see? Visit the ' +\n",
              "            '<a target=\"_blank\" href=https://colab.research.google.com/notebooks/data_table.ipynb>data table notebook</a>'\n",
              "            + ' to learn more about interactive tables.';\n",
              "          element.innerHTML = '';\n",
              "          dataTable['output_type'] = 'display_data';\n",
              "          await google.colab.output.renderOutput(dataTable, element);\n",
              "          const docLink = document.createElement('div');\n",
              "          docLink.innerHTML = docLinkHtml;\n",
              "          element.appendChild(docLink);\n",
              "        }\n",
              "      </script>\n",
              "    </div>\n",
              "  </div>\n",
              "  "
            ]
          },
          "metadata": {},
          "execution_count": 120
        }
      ],
      "source": [
        "# viewing  emp_data\n",
        "emp_data.head()"
      ]
    },
    {
      "cell_type": "code",
      "execution_count": null,
      "metadata": {
        "id": "DbpS3RGdnH-e",
        "colab": {
          "base_uri": "https://localhost:8080/"
        },
        "outputId": "48faec4d-8bbd-4b8d-b5f9-b905416c3888"
      },
      "outputs": [
        {
          "output_type": "stream",
          "name": "stdout",
          "text": [
            "The train_attrition has 245 rows & 2 columns.\n",
            "The train_work has 3983 rows & 7 columns.\n"
          ]
        }
      ],
      "source": [
        "##dimensions \n",
        "\n",
        "print(\"The train_attrition has {} rows & {} columns.\" .format(train_attrition.shape[0], train_attrition.shape[1]))\n",
        "print(\"The train_work has {} rows & {} columns.\" .format(train_work.shape[0], train_work.shape[1]))\n"
      ]
    },
    {
      "cell_type": "code",
      "execution_count": null,
      "metadata": {
        "id": "Tgt2jjN_oxee",
        "colab": {
          "base_uri": "https://localhost:8080/"
        },
        "outputId": "62bb8f66-8232-410e-825b-ab17fb030d21"
      },
      "outputs": [
        {
          "output_type": "stream",
          "name": "stdout",
          "text": [
            "The employee data has 296 rows & 5 columns.\n"
          ]
        }
      ],
      "source": [
        "print(\"The employee data has {} rows & {} columns.\" .format(emp_data.shape[0], emp_data.shape[1]))"
      ]
    },
    {
      "cell_type": "code",
      "execution_count": null,
      "metadata": {
        "id": "IXOAFdw1qSov",
        "colab": {
          "base_uri": "https://localhost:8080/",
          "height": 206
        },
        "outputId": "a1dc4a20-a7d5-42bc-9373-6cbce256efbe"
      },
      "outputs": [
        {
          "output_type": "execute_result",
          "data": {
            "text/plain": [
              "  EmployeeID  TotalWorkingHours  Billable_Hours  Hours_off_Duty  \\\n",
              "0      emp-1              184.0           144.0            40.0   \n",
              "1      emp-1              176.0           136.0            40.0   \n",
              "2      emp-1              200.0           120.0            72.0   \n",
              "3      emp-1              160.0           144.0             8.0   \n",
              "4      emp-1              171.0           135.0             0.0   \n",
              "\n",
              "   Touring_Hours  NoOfProjects  ActualTimeSpent  \n",
              "0          144.0             3               77  \n",
              "1          136.0             2               98  \n",
              "2          120.0             1               14  \n",
              "3          144.0             3              147  \n",
              "4          135.0             1               42  "
            ],
            "text/html": [
              "\n",
              "  <div id=\"df-4ed9e326-e591-4971-8f68-27c8e59a458d\">\n",
              "    <div class=\"colab-df-container\">\n",
              "      <div>\n",
              "<style scoped>\n",
              "    .dataframe tbody tr th:only-of-type {\n",
              "        vertical-align: middle;\n",
              "    }\n",
              "\n",
              "    .dataframe tbody tr th {\n",
              "        vertical-align: top;\n",
              "    }\n",
              "\n",
              "    .dataframe thead th {\n",
              "        text-align: right;\n",
              "    }\n",
              "</style>\n",
              "<table border=\"1\" class=\"dataframe\">\n",
              "  <thead>\n",
              "    <tr style=\"text-align: right;\">\n",
              "      <th></th>\n",
              "      <th>EmployeeID</th>\n",
              "      <th>TotalWorkingHours</th>\n",
              "      <th>Billable_Hours</th>\n",
              "      <th>Hours_off_Duty</th>\n",
              "      <th>Touring_Hours</th>\n",
              "      <th>NoOfProjects</th>\n",
              "      <th>ActualTimeSpent</th>\n",
              "    </tr>\n",
              "  </thead>\n",
              "  <tbody>\n",
              "    <tr>\n",
              "      <th>0</th>\n",
              "      <td>emp-1</td>\n",
              "      <td>184.0</td>\n",
              "      <td>144.0</td>\n",
              "      <td>40.0</td>\n",
              "      <td>144.0</td>\n",
              "      <td>3</td>\n",
              "      <td>77</td>\n",
              "    </tr>\n",
              "    <tr>\n",
              "      <th>1</th>\n",
              "      <td>emp-1</td>\n",
              "      <td>176.0</td>\n",
              "      <td>136.0</td>\n",
              "      <td>40.0</td>\n",
              "      <td>136.0</td>\n",
              "      <td>2</td>\n",
              "      <td>98</td>\n",
              "    </tr>\n",
              "    <tr>\n",
              "      <th>2</th>\n",
              "      <td>emp-1</td>\n",
              "      <td>200.0</td>\n",
              "      <td>120.0</td>\n",
              "      <td>72.0</td>\n",
              "      <td>120.0</td>\n",
              "      <td>1</td>\n",
              "      <td>14</td>\n",
              "    </tr>\n",
              "    <tr>\n",
              "      <th>3</th>\n",
              "      <td>emp-1</td>\n",
              "      <td>160.0</td>\n",
              "      <td>144.0</td>\n",
              "      <td>8.0</td>\n",
              "      <td>144.0</td>\n",
              "      <td>3</td>\n",
              "      <td>147</td>\n",
              "    </tr>\n",
              "    <tr>\n",
              "      <th>4</th>\n",
              "      <td>emp-1</td>\n",
              "      <td>171.0</td>\n",
              "      <td>135.0</td>\n",
              "      <td>0.0</td>\n",
              "      <td>135.0</td>\n",
              "      <td>1</td>\n",
              "      <td>42</td>\n",
              "    </tr>\n",
              "  </tbody>\n",
              "</table>\n",
              "</div>\n",
              "      <button class=\"colab-df-convert\" onclick=\"convertToInteractive('df-4ed9e326-e591-4971-8f68-27c8e59a458d')\"\n",
              "              title=\"Convert this dataframe to an interactive table.\"\n",
              "              style=\"display:none;\">\n",
              "        \n",
              "  <svg xmlns=\"http://www.w3.org/2000/svg\" height=\"24px\"viewBox=\"0 0 24 24\"\n",
              "       width=\"24px\">\n",
              "    <path d=\"M0 0h24v24H0V0z\" fill=\"none\"/>\n",
              "    <path d=\"M18.56 5.44l.94 2.06.94-2.06 2.06-.94-2.06-.94-.94-2.06-.94 2.06-2.06.94zm-11 1L8.5 8.5l.94-2.06 2.06-.94-2.06-.94L8.5 2.5l-.94 2.06-2.06.94zm10 10l.94 2.06.94-2.06 2.06-.94-2.06-.94-.94-2.06-.94 2.06-2.06.94z\"/><path d=\"M17.41 7.96l-1.37-1.37c-.4-.4-.92-.59-1.43-.59-.52 0-1.04.2-1.43.59L10.3 9.45l-7.72 7.72c-.78.78-.78 2.05 0 2.83L4 21.41c.39.39.9.59 1.41.59.51 0 1.02-.2 1.41-.59l7.78-7.78 2.81-2.81c.8-.78.8-2.07 0-2.86zM5.41 20L4 18.59l7.72-7.72 1.47 1.35L5.41 20z\"/>\n",
              "  </svg>\n",
              "      </button>\n",
              "      \n",
              "  <style>\n",
              "    .colab-df-container {\n",
              "      display:flex;\n",
              "      flex-wrap:wrap;\n",
              "      gap: 12px;\n",
              "    }\n",
              "\n",
              "    .colab-df-convert {\n",
              "      background-color: #E8F0FE;\n",
              "      border: none;\n",
              "      border-radius: 50%;\n",
              "      cursor: pointer;\n",
              "      display: none;\n",
              "      fill: #1967D2;\n",
              "      height: 32px;\n",
              "      padding: 0 0 0 0;\n",
              "      width: 32px;\n",
              "    }\n",
              "\n",
              "    .colab-df-convert:hover {\n",
              "      background-color: #E2EBFA;\n",
              "      box-shadow: 0px 1px 2px rgba(60, 64, 67, 0.3), 0px 1px 3px 1px rgba(60, 64, 67, 0.15);\n",
              "      fill: #174EA6;\n",
              "    }\n",
              "\n",
              "    [theme=dark] .colab-df-convert {\n",
              "      background-color: #3B4455;\n",
              "      fill: #D2E3FC;\n",
              "    }\n",
              "\n",
              "    [theme=dark] .colab-df-convert:hover {\n",
              "      background-color: #434B5C;\n",
              "      box-shadow: 0px 1px 3px 1px rgba(0, 0, 0, 0.15);\n",
              "      filter: drop-shadow(0px 1px 2px rgba(0, 0, 0, 0.3));\n",
              "      fill: #FFFFFF;\n",
              "    }\n",
              "  </style>\n",
              "\n",
              "      <script>\n",
              "        const buttonEl =\n",
              "          document.querySelector('#df-4ed9e326-e591-4971-8f68-27c8e59a458d button.colab-df-convert');\n",
              "        buttonEl.style.display =\n",
              "          google.colab.kernel.accessAllowed ? 'block' : 'none';\n",
              "\n",
              "        async function convertToInteractive(key) {\n",
              "          const element = document.querySelector('#df-4ed9e326-e591-4971-8f68-27c8e59a458d');\n",
              "          const dataTable =\n",
              "            await google.colab.kernel.invokeFunction('convertToInteractive',\n",
              "                                                     [key], {});\n",
              "          if (!dataTable) return;\n",
              "\n",
              "          const docLinkHtml = 'Like what you see? Visit the ' +\n",
              "            '<a target=\"_blank\" href=https://colab.research.google.com/notebooks/data_table.ipynb>data table notebook</a>'\n",
              "            + ' to learn more about interactive tables.';\n",
              "          element.innerHTML = '';\n",
              "          dataTable['output_type'] = 'display_data';\n",
              "          await google.colab.output.renderOutput(dataTable, element);\n",
              "          const docLink = document.createElement('div');\n",
              "          docLink.innerHTML = docLinkHtml;\n",
              "          element.appendChild(docLink);\n",
              "        }\n",
              "      </script>\n",
              "    </div>\n",
              "  </div>\n",
              "  "
            ]
          },
          "metadata": {},
          "execution_count": 123
        }
      ],
      "source": [
        "train_work.head() "
      ]
    },
    {
      "cell_type": "code",
      "execution_count": null,
      "metadata": {
        "id": "rwtCRdbEqU33",
        "colab": {
          "base_uri": "https://localhost:8080/",
          "height": 206
        },
        "outputId": "550ba2a1-555e-44d4-e581-1d51a9026723"
      },
      "outputs": [
        {
          "output_type": "execute_result",
          "data": {
            "text/plain": [
              "  EmployeeID  Left_Company\n",
              "0      emp-1             0\n",
              "1     emp-10             1\n",
              "2    emp-100             0\n",
              "3    emp-101             0\n",
              "4    emp-102             0"
            ],
            "text/html": [
              "\n",
              "  <div id=\"df-85aa0002-e8f1-47c6-a02d-86e561ee1aef\">\n",
              "    <div class=\"colab-df-container\">\n",
              "      <div>\n",
              "<style scoped>\n",
              "    .dataframe tbody tr th:only-of-type {\n",
              "        vertical-align: middle;\n",
              "    }\n",
              "\n",
              "    .dataframe tbody tr th {\n",
              "        vertical-align: top;\n",
              "    }\n",
              "\n",
              "    .dataframe thead th {\n",
              "        text-align: right;\n",
              "    }\n",
              "</style>\n",
              "<table border=\"1\" class=\"dataframe\">\n",
              "  <thead>\n",
              "    <tr style=\"text-align: right;\">\n",
              "      <th></th>\n",
              "      <th>EmployeeID</th>\n",
              "      <th>Left_Company</th>\n",
              "    </tr>\n",
              "  </thead>\n",
              "  <tbody>\n",
              "    <tr>\n",
              "      <th>0</th>\n",
              "      <td>emp-1</td>\n",
              "      <td>0</td>\n",
              "    </tr>\n",
              "    <tr>\n",
              "      <th>1</th>\n",
              "      <td>emp-10</td>\n",
              "      <td>1</td>\n",
              "    </tr>\n",
              "    <tr>\n",
              "      <th>2</th>\n",
              "      <td>emp-100</td>\n",
              "      <td>0</td>\n",
              "    </tr>\n",
              "    <tr>\n",
              "      <th>3</th>\n",
              "      <td>emp-101</td>\n",
              "      <td>0</td>\n",
              "    </tr>\n",
              "    <tr>\n",
              "      <th>4</th>\n",
              "      <td>emp-102</td>\n",
              "      <td>0</td>\n",
              "    </tr>\n",
              "  </tbody>\n",
              "</table>\n",
              "</div>\n",
              "      <button class=\"colab-df-convert\" onclick=\"convertToInteractive('df-85aa0002-e8f1-47c6-a02d-86e561ee1aef')\"\n",
              "              title=\"Convert this dataframe to an interactive table.\"\n",
              "              style=\"display:none;\">\n",
              "        \n",
              "  <svg xmlns=\"http://www.w3.org/2000/svg\" height=\"24px\"viewBox=\"0 0 24 24\"\n",
              "       width=\"24px\">\n",
              "    <path d=\"M0 0h24v24H0V0z\" fill=\"none\"/>\n",
              "    <path d=\"M18.56 5.44l.94 2.06.94-2.06 2.06-.94-2.06-.94-.94-2.06-.94 2.06-2.06.94zm-11 1L8.5 8.5l.94-2.06 2.06-.94-2.06-.94L8.5 2.5l-.94 2.06-2.06.94zm10 10l.94 2.06.94-2.06 2.06-.94-2.06-.94-.94-2.06-.94 2.06-2.06.94z\"/><path d=\"M17.41 7.96l-1.37-1.37c-.4-.4-.92-.59-1.43-.59-.52 0-1.04.2-1.43.59L10.3 9.45l-7.72 7.72c-.78.78-.78 2.05 0 2.83L4 21.41c.39.39.9.59 1.41.59.51 0 1.02-.2 1.41-.59l7.78-7.78 2.81-2.81c.8-.78.8-2.07 0-2.86zM5.41 20L4 18.59l7.72-7.72 1.47 1.35L5.41 20z\"/>\n",
              "  </svg>\n",
              "      </button>\n",
              "      \n",
              "  <style>\n",
              "    .colab-df-container {\n",
              "      display:flex;\n",
              "      flex-wrap:wrap;\n",
              "      gap: 12px;\n",
              "    }\n",
              "\n",
              "    .colab-df-convert {\n",
              "      background-color: #E8F0FE;\n",
              "      border: none;\n",
              "      border-radius: 50%;\n",
              "      cursor: pointer;\n",
              "      display: none;\n",
              "      fill: #1967D2;\n",
              "      height: 32px;\n",
              "      padding: 0 0 0 0;\n",
              "      width: 32px;\n",
              "    }\n",
              "\n",
              "    .colab-df-convert:hover {\n",
              "      background-color: #E2EBFA;\n",
              "      box-shadow: 0px 1px 2px rgba(60, 64, 67, 0.3), 0px 1px 3px 1px rgba(60, 64, 67, 0.15);\n",
              "      fill: #174EA6;\n",
              "    }\n",
              "\n",
              "    [theme=dark] .colab-df-convert {\n",
              "      background-color: #3B4455;\n",
              "      fill: #D2E3FC;\n",
              "    }\n",
              "\n",
              "    [theme=dark] .colab-df-convert:hover {\n",
              "      background-color: #434B5C;\n",
              "      box-shadow: 0px 1px 3px 1px rgba(0, 0, 0, 0.15);\n",
              "      filter: drop-shadow(0px 1px 2px rgba(0, 0, 0, 0.3));\n",
              "      fill: #FFFFFF;\n",
              "    }\n",
              "  </style>\n",
              "\n",
              "      <script>\n",
              "        const buttonEl =\n",
              "          document.querySelector('#df-85aa0002-e8f1-47c6-a02d-86e561ee1aef button.colab-df-convert');\n",
              "        buttonEl.style.display =\n",
              "          google.colab.kernel.accessAllowed ? 'block' : 'none';\n",
              "\n",
              "        async function convertToInteractive(key) {\n",
              "          const element = document.querySelector('#df-85aa0002-e8f1-47c6-a02d-86e561ee1aef');\n",
              "          const dataTable =\n",
              "            await google.colab.kernel.invokeFunction('convertToInteractive',\n",
              "                                                     [key], {});\n",
              "          if (!dataTable) return;\n",
              "\n",
              "          const docLinkHtml = 'Like what you see? Visit the ' +\n",
              "            '<a target=\"_blank\" href=https://colab.research.google.com/notebooks/data_table.ipynb>data table notebook</a>'\n",
              "            + ' to learn more about interactive tables.';\n",
              "          element.innerHTML = '';\n",
              "          dataTable['output_type'] = 'display_data';\n",
              "          await google.colab.output.renderOutput(dataTable, element);\n",
              "          const docLink = document.createElement('div');\n",
              "          docLink.innerHTML = docLinkHtml;\n",
              "          element.appendChild(docLink);\n",
              "        }\n",
              "      </script>\n",
              "    </div>\n",
              "  </div>\n",
              "  "
            ]
          },
          "metadata": {},
          "execution_count": 124
        }
      ],
      "source": [
        "\n",
        "train_attrition.head() "
      ]
    },
    {
      "cell_type": "code",
      "execution_count": null,
      "metadata": {
        "id": "nxfMRfFWqrCu"
      },
      "outputs": [],
      "source": [
        "train_emp_data = pd.merge(train_attrition, emp_data, how='left', on='EmployeeID')"
      ]
    },
    {
      "cell_type": "code",
      "execution_count": null,
      "metadata": {
        "id": "AzLygOeOq3kk",
        "colab": {
          "base_uri": "https://localhost:8080/"
        },
        "outputId": "d6d6d5b2-ef5b-46ae-c647-9db939b68711"
      },
      "outputs": [
        {
          "output_type": "execute_result",
          "data": {
            "text/plain": [
              "(245, 6)"
            ]
          },
          "metadata": {},
          "execution_count": 126
        }
      ],
      "source": [
        "train_emp_data.shape"
      ]
    },
    {
      "cell_type": "code",
      "execution_count": null,
      "metadata": {
        "id": "7TehuKQ6q-ua",
        "colab": {
          "base_uri": "https://localhost:8080/",
          "height": 206
        },
        "outputId": "cd07f1b3-b4c7-4ce0-b992-de0be8f28b1f"
      },
      "outputs": [
        {
          "output_type": "execute_result",
          "data": {
            "text/plain": [
              "  EmployeeID  Left_Company                                        Job_History  \\\n",
              "0      emp-1             0  Worked at Company - 639 , Company - 212 , Comp...   \n",
              "1     emp-10             1  Worked at Company - 816 , Company - 724 , Comp...   \n",
              "2    emp-100             0            Worked at Company - 562 , Company - 319   \n",
              "3    emp-101             0  Worked at Company - 212 , Company - 668 , Comp...   \n",
              "4    emp-102             0                            Worked at Company - 234   \n",
              "\n",
              "  Joining_Date Designation  Sex  \n",
              "0      2011_01          MD    1  \n",
              "1      2006_02          VP    0  \n",
              "2      2011_12      Senior    1  \n",
              "3      2012_01      Senior    1  \n",
              "4      2011_12      Senior    1  "
            ],
            "text/html": [
              "\n",
              "  <div id=\"df-13e2c46d-4f8c-4e3d-bd1c-92814ddf7a96\">\n",
              "    <div class=\"colab-df-container\">\n",
              "      <div>\n",
              "<style scoped>\n",
              "    .dataframe tbody tr th:only-of-type {\n",
              "        vertical-align: middle;\n",
              "    }\n",
              "\n",
              "    .dataframe tbody tr th {\n",
              "        vertical-align: top;\n",
              "    }\n",
              "\n",
              "    .dataframe thead th {\n",
              "        text-align: right;\n",
              "    }\n",
              "</style>\n",
              "<table border=\"1\" class=\"dataframe\">\n",
              "  <thead>\n",
              "    <tr style=\"text-align: right;\">\n",
              "      <th></th>\n",
              "      <th>EmployeeID</th>\n",
              "      <th>Left_Company</th>\n",
              "      <th>Job_History</th>\n",
              "      <th>Joining_Date</th>\n",
              "      <th>Designation</th>\n",
              "      <th>Sex</th>\n",
              "    </tr>\n",
              "  </thead>\n",
              "  <tbody>\n",
              "    <tr>\n",
              "      <th>0</th>\n",
              "      <td>emp-1</td>\n",
              "      <td>0</td>\n",
              "      <td>Worked at Company - 639 , Company - 212 , Comp...</td>\n",
              "      <td>2011_01</td>\n",
              "      <td>MD</td>\n",
              "      <td>1</td>\n",
              "    </tr>\n",
              "    <tr>\n",
              "      <th>1</th>\n",
              "      <td>emp-10</td>\n",
              "      <td>1</td>\n",
              "      <td>Worked at Company - 816 , Company - 724 , Comp...</td>\n",
              "      <td>2006_02</td>\n",
              "      <td>VP</td>\n",
              "      <td>0</td>\n",
              "    </tr>\n",
              "    <tr>\n",
              "      <th>2</th>\n",
              "      <td>emp-100</td>\n",
              "      <td>0</td>\n",
              "      <td>Worked at Company - 562 , Company - 319</td>\n",
              "      <td>2011_12</td>\n",
              "      <td>Senior</td>\n",
              "      <td>1</td>\n",
              "    </tr>\n",
              "    <tr>\n",
              "      <th>3</th>\n",
              "      <td>emp-101</td>\n",
              "      <td>0</td>\n",
              "      <td>Worked at Company - 212 , Company - 668 , Comp...</td>\n",
              "      <td>2012_01</td>\n",
              "      <td>Senior</td>\n",
              "      <td>1</td>\n",
              "    </tr>\n",
              "    <tr>\n",
              "      <th>4</th>\n",
              "      <td>emp-102</td>\n",
              "      <td>0</td>\n",
              "      <td>Worked at Company - 234</td>\n",
              "      <td>2011_12</td>\n",
              "      <td>Senior</td>\n",
              "      <td>1</td>\n",
              "    </tr>\n",
              "  </tbody>\n",
              "</table>\n",
              "</div>\n",
              "      <button class=\"colab-df-convert\" onclick=\"convertToInteractive('df-13e2c46d-4f8c-4e3d-bd1c-92814ddf7a96')\"\n",
              "              title=\"Convert this dataframe to an interactive table.\"\n",
              "              style=\"display:none;\">\n",
              "        \n",
              "  <svg xmlns=\"http://www.w3.org/2000/svg\" height=\"24px\"viewBox=\"0 0 24 24\"\n",
              "       width=\"24px\">\n",
              "    <path d=\"M0 0h24v24H0V0z\" fill=\"none\"/>\n",
              "    <path d=\"M18.56 5.44l.94 2.06.94-2.06 2.06-.94-2.06-.94-.94-2.06-.94 2.06-2.06.94zm-11 1L8.5 8.5l.94-2.06 2.06-.94-2.06-.94L8.5 2.5l-.94 2.06-2.06.94zm10 10l.94 2.06.94-2.06 2.06-.94-2.06-.94-.94-2.06-.94 2.06-2.06.94z\"/><path d=\"M17.41 7.96l-1.37-1.37c-.4-.4-.92-.59-1.43-.59-.52 0-1.04.2-1.43.59L10.3 9.45l-7.72 7.72c-.78.78-.78 2.05 0 2.83L4 21.41c.39.39.9.59 1.41.59.51 0 1.02-.2 1.41-.59l7.78-7.78 2.81-2.81c.8-.78.8-2.07 0-2.86zM5.41 20L4 18.59l7.72-7.72 1.47 1.35L5.41 20z\"/>\n",
              "  </svg>\n",
              "      </button>\n",
              "      \n",
              "  <style>\n",
              "    .colab-df-container {\n",
              "      display:flex;\n",
              "      flex-wrap:wrap;\n",
              "      gap: 12px;\n",
              "    }\n",
              "\n",
              "    .colab-df-convert {\n",
              "      background-color: #E8F0FE;\n",
              "      border: none;\n",
              "      border-radius: 50%;\n",
              "      cursor: pointer;\n",
              "      display: none;\n",
              "      fill: #1967D2;\n",
              "      height: 32px;\n",
              "      padding: 0 0 0 0;\n",
              "      width: 32px;\n",
              "    }\n",
              "\n",
              "    .colab-df-convert:hover {\n",
              "      background-color: #E2EBFA;\n",
              "      box-shadow: 0px 1px 2px rgba(60, 64, 67, 0.3), 0px 1px 3px 1px rgba(60, 64, 67, 0.15);\n",
              "      fill: #174EA6;\n",
              "    }\n",
              "\n",
              "    [theme=dark] .colab-df-convert {\n",
              "      background-color: #3B4455;\n",
              "      fill: #D2E3FC;\n",
              "    }\n",
              "\n",
              "    [theme=dark] .colab-df-convert:hover {\n",
              "      background-color: #434B5C;\n",
              "      box-shadow: 0px 1px 3px 1px rgba(0, 0, 0, 0.15);\n",
              "      filter: drop-shadow(0px 1px 2px rgba(0, 0, 0, 0.3));\n",
              "      fill: #FFFFFF;\n",
              "    }\n",
              "  </style>\n",
              "\n",
              "      <script>\n",
              "        const buttonEl =\n",
              "          document.querySelector('#df-13e2c46d-4f8c-4e3d-bd1c-92814ddf7a96 button.colab-df-convert');\n",
              "        buttonEl.style.display =\n",
              "          google.colab.kernel.accessAllowed ? 'block' : 'none';\n",
              "\n",
              "        async function convertToInteractive(key) {\n",
              "          const element = document.querySelector('#df-13e2c46d-4f8c-4e3d-bd1c-92814ddf7a96');\n",
              "          const dataTable =\n",
              "            await google.colab.kernel.invokeFunction('convertToInteractive',\n",
              "                                                     [key], {});\n",
              "          if (!dataTable) return;\n",
              "\n",
              "          const docLinkHtml = 'Like what you see? Visit the ' +\n",
              "            '<a target=\"_blank\" href=https://colab.research.google.com/notebooks/data_table.ipynb>data table notebook</a>'\n",
              "            + ' to learn more about interactive tables.';\n",
              "          element.innerHTML = '';\n",
              "          dataTable['output_type'] = 'display_data';\n",
              "          await google.colab.output.renderOutput(dataTable, element);\n",
              "          const docLink = document.createElement('div');\n",
              "          docLink.innerHTML = docLinkHtml;\n",
              "          element.appendChild(docLink);\n",
              "        }\n",
              "      </script>\n",
              "    </div>\n",
              "  </div>\n",
              "  "
            ]
          },
          "metadata": {},
          "execution_count": 127
        }
      ],
      "source": [
        "train_emp_data.head()"
      ]
    },
    {
      "cell_type": "code",
      "execution_count": null,
      "metadata": {
        "id": "JBbfhJmOrBLz"
      },
      "outputs": [],
      "source": [
        "train_final = pd.merge(train_emp_data, train_work, on='EmployeeID', how='left')"
      ]
    },
    {
      "cell_type": "code",
      "execution_count": null,
      "metadata": {
        "id": "rL2oB8hfrEWp",
        "colab": {
          "base_uri": "https://localhost:8080/"
        },
        "outputId": "505b7a84-7d9f-470c-aaf3-85bfe5b9aceb"
      },
      "outputs": [
        {
          "output_type": "execute_result",
          "data": {
            "text/plain": [
              "(3983, 12)"
            ]
          },
          "metadata": {},
          "execution_count": 129
        }
      ],
      "source": [
        "train_final.shape"
      ]
    },
    {
      "cell_type": "code",
      "execution_count": null,
      "metadata": {
        "id": "feqGNkGfrJAf",
        "colab": {
          "base_uri": "https://localhost:8080/"
        },
        "outputId": "71730fcb-153d-4d72-bd2b-110b37a40e2d"
      },
      "outputs": [
        {
          "output_type": "stream",
          "name": "stdout",
          "text": [
            "The train_attrition has 245 rows & 2 columns.\n",
            "The train_work has 3983 rows & 7 columns.\n"
          ]
        }
      ],
      "source": [
        "\n",
        "\n",
        "print(\"The train_attrition has {} rows & {} columns.\" .format(train_attrition.shape[0], train_attrition.shape[1]))\n",
        "print(\"The train_work has {} rows & {} columns.\" .format(train_work.shape[0], train_work.shape[1]))\n"
      ]
    },
    {
      "cell_type": "code",
      "execution_count": null,
      "metadata": {
        "id": "uz_JFVAGrHZS",
        "colab": {
          "base_uri": "https://localhost:8080/",
          "height": 950
        },
        "outputId": "d1b083ee-d3ad-4696-ac1e-3450e70c7cfe"
      },
      "outputs": [
        {
          "output_type": "execute_result",
          "data": {
            "text/plain": [
              "            Left_Company                                        Job_History  \\\n",
              "EmployeeID                                                                    \n",
              "emp-1                  0  Worked at Company - 639 , Company - 212 , Comp...   \n",
              "emp-10                 1  Worked at Company - 816 , Company - 724 , Comp...   \n",
              "emp-100                0            Worked at Company - 562 , Company - 319   \n",
              "emp-101                0  Worked at Company - 212 , Company - 668 , Comp...   \n",
              "emp-102                0                            Worked at Company - 234   \n",
              "...                  ...                                                ...   \n",
              "emp-94                 0  Worked at Company - 71 , Company - 324 , Compa...   \n",
              "emp-96                 0             Worked at Company - 27 , Company - 159   \n",
              "emp-97                 1  Worked at Company - 789 , Company - 785 , Comp...   \n",
              "emp-98                 0  Worked at Company - 817 , Company - 404 , Comp...   \n",
              "emp-99                 0  Worked at Company - 204 , Company - 171 , Comp...   \n",
              "\n",
              "           Joining_Date Designation  Sex  TotalWorkingHours  Billable_Hours  \\\n",
              "EmployeeID                                                                    \n",
              "emp-1           2011_01          MD    1              205.0           189.0   \n",
              "emp-10          2006_02          VP    0              241.0           233.0   \n",
              "emp-100         2011_12      Senior    1              278.0           264.0   \n",
              "emp-101         2012_01      Senior    1              345.5           233.5   \n",
              "emp-102         2011_12      Senior    1              270.0           249.0   \n",
              "...                 ...         ...  ...                ...             ...   \n",
              "emp-94          2011_09      Senior    0              246.0           198.0   \n",
              "emp-96          2011_10      Senior    1              254.5           246.5   \n",
              "emp-97          2011_10      Junior    0              200.0           176.0   \n",
              "emp-98          2011_11      Senior    1              244.0           220.0   \n",
              "emp-99          2011_11      Senior    1              244.0           242.0   \n",
              "\n",
              "            Hours_off_Duty  Touring_Hours  NoOfProjects  ActualTimeSpent  \n",
              "EmployeeID                                                                \n",
              "emp-1                 72.0          189.0             3              231  \n",
              "emp-10               120.0          186.0             2              147  \n",
              "emp-100               40.0          264.0             3              308  \n",
              "emp-101               64.0            0.0             2              217  \n",
              "emp-102               88.0          213.0             2              231  \n",
              "...                    ...            ...           ...              ...  \n",
              "emp-94                80.0          198.0             2              105  \n",
              "emp-96                88.0          239.0             3              238  \n",
              "emp-97                96.0          176.0             2              126  \n",
              "emp-98                80.0           35.0             4              385  \n",
              "emp-99                56.0           73.5             2              238  \n",
              "\n",
              "[245 rows x 11 columns]"
            ],
            "text/html": [
              "\n",
              "  <div id=\"df-34a5d354-f9d6-4c8c-8300-129ad00c41fe\">\n",
              "    <div class=\"colab-df-container\">\n",
              "      <div>\n",
              "<style scoped>\n",
              "    .dataframe tbody tr th:only-of-type {\n",
              "        vertical-align: middle;\n",
              "    }\n",
              "\n",
              "    .dataframe tbody tr th {\n",
              "        vertical-align: top;\n",
              "    }\n",
              "\n",
              "    .dataframe thead th {\n",
              "        text-align: right;\n",
              "    }\n",
              "</style>\n",
              "<table border=\"1\" class=\"dataframe\">\n",
              "  <thead>\n",
              "    <tr style=\"text-align: right;\">\n",
              "      <th></th>\n",
              "      <th>Left_Company</th>\n",
              "      <th>Job_History</th>\n",
              "      <th>Joining_Date</th>\n",
              "      <th>Designation</th>\n",
              "      <th>Sex</th>\n",
              "      <th>TotalWorkingHours</th>\n",
              "      <th>Billable_Hours</th>\n",
              "      <th>Hours_off_Duty</th>\n",
              "      <th>Touring_Hours</th>\n",
              "      <th>NoOfProjects</th>\n",
              "      <th>ActualTimeSpent</th>\n",
              "    </tr>\n",
              "    <tr>\n",
              "      <th>EmployeeID</th>\n",
              "      <th></th>\n",
              "      <th></th>\n",
              "      <th></th>\n",
              "      <th></th>\n",
              "      <th></th>\n",
              "      <th></th>\n",
              "      <th></th>\n",
              "      <th></th>\n",
              "      <th></th>\n",
              "      <th></th>\n",
              "      <th></th>\n",
              "    </tr>\n",
              "  </thead>\n",
              "  <tbody>\n",
              "    <tr>\n",
              "      <th>emp-1</th>\n",
              "      <td>0</td>\n",
              "      <td>Worked at Company - 639 , Company - 212 , Comp...</td>\n",
              "      <td>2011_01</td>\n",
              "      <td>MD</td>\n",
              "      <td>1</td>\n",
              "      <td>205.0</td>\n",
              "      <td>189.0</td>\n",
              "      <td>72.0</td>\n",
              "      <td>189.0</td>\n",
              "      <td>3</td>\n",
              "      <td>231</td>\n",
              "    </tr>\n",
              "    <tr>\n",
              "      <th>emp-10</th>\n",
              "      <td>1</td>\n",
              "      <td>Worked at Company - 816 , Company - 724 , Comp...</td>\n",
              "      <td>2006_02</td>\n",
              "      <td>VP</td>\n",
              "      <td>0</td>\n",
              "      <td>241.0</td>\n",
              "      <td>233.0</td>\n",
              "      <td>120.0</td>\n",
              "      <td>186.0</td>\n",
              "      <td>2</td>\n",
              "      <td>147</td>\n",
              "    </tr>\n",
              "    <tr>\n",
              "      <th>emp-100</th>\n",
              "      <td>0</td>\n",
              "      <td>Worked at Company - 562 , Company - 319</td>\n",
              "      <td>2011_12</td>\n",
              "      <td>Senior</td>\n",
              "      <td>1</td>\n",
              "      <td>278.0</td>\n",
              "      <td>264.0</td>\n",
              "      <td>40.0</td>\n",
              "      <td>264.0</td>\n",
              "      <td>3</td>\n",
              "      <td>308</td>\n",
              "    </tr>\n",
              "    <tr>\n",
              "      <th>emp-101</th>\n",
              "      <td>0</td>\n",
              "      <td>Worked at Company - 212 , Company - 668 , Comp...</td>\n",
              "      <td>2012_01</td>\n",
              "      <td>Senior</td>\n",
              "      <td>1</td>\n",
              "      <td>345.5</td>\n",
              "      <td>233.5</td>\n",
              "      <td>64.0</td>\n",
              "      <td>0.0</td>\n",
              "      <td>2</td>\n",
              "      <td>217</td>\n",
              "    </tr>\n",
              "    <tr>\n",
              "      <th>emp-102</th>\n",
              "      <td>0</td>\n",
              "      <td>Worked at Company - 234</td>\n",
              "      <td>2011_12</td>\n",
              "      <td>Senior</td>\n",
              "      <td>1</td>\n",
              "      <td>270.0</td>\n",
              "      <td>249.0</td>\n",
              "      <td>88.0</td>\n",
              "      <td>213.0</td>\n",
              "      <td>2</td>\n",
              "      <td>231</td>\n",
              "    </tr>\n",
              "    <tr>\n",
              "      <th>...</th>\n",
              "      <td>...</td>\n",
              "      <td>...</td>\n",
              "      <td>...</td>\n",
              "      <td>...</td>\n",
              "      <td>...</td>\n",
              "      <td>...</td>\n",
              "      <td>...</td>\n",
              "      <td>...</td>\n",
              "      <td>...</td>\n",
              "      <td>...</td>\n",
              "      <td>...</td>\n",
              "    </tr>\n",
              "    <tr>\n",
              "      <th>emp-94</th>\n",
              "      <td>0</td>\n",
              "      <td>Worked at Company - 71 , Company - 324 , Compa...</td>\n",
              "      <td>2011_09</td>\n",
              "      <td>Senior</td>\n",
              "      <td>0</td>\n",
              "      <td>246.0</td>\n",
              "      <td>198.0</td>\n",
              "      <td>80.0</td>\n",
              "      <td>198.0</td>\n",
              "      <td>2</td>\n",
              "      <td>105</td>\n",
              "    </tr>\n",
              "    <tr>\n",
              "      <th>emp-96</th>\n",
              "      <td>0</td>\n",
              "      <td>Worked at Company - 27 , Company - 159</td>\n",
              "      <td>2011_10</td>\n",
              "      <td>Senior</td>\n",
              "      <td>1</td>\n",
              "      <td>254.5</td>\n",
              "      <td>246.5</td>\n",
              "      <td>88.0</td>\n",
              "      <td>239.0</td>\n",
              "      <td>3</td>\n",
              "      <td>238</td>\n",
              "    </tr>\n",
              "    <tr>\n",
              "      <th>emp-97</th>\n",
              "      <td>1</td>\n",
              "      <td>Worked at Company - 789 , Company - 785 , Comp...</td>\n",
              "      <td>2011_10</td>\n",
              "      <td>Junior</td>\n",
              "      <td>0</td>\n",
              "      <td>200.0</td>\n",
              "      <td>176.0</td>\n",
              "      <td>96.0</td>\n",
              "      <td>176.0</td>\n",
              "      <td>2</td>\n",
              "      <td>126</td>\n",
              "    </tr>\n",
              "    <tr>\n",
              "      <th>emp-98</th>\n",
              "      <td>0</td>\n",
              "      <td>Worked at Company - 817 , Company - 404 , Comp...</td>\n",
              "      <td>2011_11</td>\n",
              "      <td>Senior</td>\n",
              "      <td>1</td>\n",
              "      <td>244.0</td>\n",
              "      <td>220.0</td>\n",
              "      <td>80.0</td>\n",
              "      <td>35.0</td>\n",
              "      <td>4</td>\n",
              "      <td>385</td>\n",
              "    </tr>\n",
              "    <tr>\n",
              "      <th>emp-99</th>\n",
              "      <td>0</td>\n",
              "      <td>Worked at Company - 204 , Company - 171 , Comp...</td>\n",
              "      <td>2011_11</td>\n",
              "      <td>Senior</td>\n",
              "      <td>1</td>\n",
              "      <td>244.0</td>\n",
              "      <td>242.0</td>\n",
              "      <td>56.0</td>\n",
              "      <td>73.5</td>\n",
              "      <td>2</td>\n",
              "      <td>238</td>\n",
              "    </tr>\n",
              "  </tbody>\n",
              "</table>\n",
              "<p>245 rows × 11 columns</p>\n",
              "</div>\n",
              "      <button class=\"colab-df-convert\" onclick=\"convertToInteractive('df-34a5d354-f9d6-4c8c-8300-129ad00c41fe')\"\n",
              "              title=\"Convert this dataframe to an interactive table.\"\n",
              "              style=\"display:none;\">\n",
              "        \n",
              "  <svg xmlns=\"http://www.w3.org/2000/svg\" height=\"24px\"viewBox=\"0 0 24 24\"\n",
              "       width=\"24px\">\n",
              "    <path d=\"M0 0h24v24H0V0z\" fill=\"none\"/>\n",
              "    <path d=\"M18.56 5.44l.94 2.06.94-2.06 2.06-.94-2.06-.94-.94-2.06-.94 2.06-2.06.94zm-11 1L8.5 8.5l.94-2.06 2.06-.94-2.06-.94L8.5 2.5l-.94 2.06-2.06.94zm10 10l.94 2.06.94-2.06 2.06-.94-2.06-.94-.94-2.06-.94 2.06-2.06.94z\"/><path d=\"M17.41 7.96l-1.37-1.37c-.4-.4-.92-.59-1.43-.59-.52 0-1.04.2-1.43.59L10.3 9.45l-7.72 7.72c-.78.78-.78 2.05 0 2.83L4 21.41c.39.39.9.59 1.41.59.51 0 1.02-.2 1.41-.59l7.78-7.78 2.81-2.81c.8-.78.8-2.07 0-2.86zM5.41 20L4 18.59l7.72-7.72 1.47 1.35L5.41 20z\"/>\n",
              "  </svg>\n",
              "      </button>\n",
              "      \n",
              "  <style>\n",
              "    .colab-df-container {\n",
              "      display:flex;\n",
              "      flex-wrap:wrap;\n",
              "      gap: 12px;\n",
              "    }\n",
              "\n",
              "    .colab-df-convert {\n",
              "      background-color: #E8F0FE;\n",
              "      border: none;\n",
              "      border-radius: 50%;\n",
              "      cursor: pointer;\n",
              "      display: none;\n",
              "      fill: #1967D2;\n",
              "      height: 32px;\n",
              "      padding: 0 0 0 0;\n",
              "      width: 32px;\n",
              "    }\n",
              "\n",
              "    .colab-df-convert:hover {\n",
              "      background-color: #E2EBFA;\n",
              "      box-shadow: 0px 1px 2px rgba(60, 64, 67, 0.3), 0px 1px 3px 1px rgba(60, 64, 67, 0.15);\n",
              "      fill: #174EA6;\n",
              "    }\n",
              "\n",
              "    [theme=dark] .colab-df-convert {\n",
              "      background-color: #3B4455;\n",
              "      fill: #D2E3FC;\n",
              "    }\n",
              "\n",
              "    [theme=dark] .colab-df-convert:hover {\n",
              "      background-color: #434B5C;\n",
              "      box-shadow: 0px 1px 3px 1px rgba(0, 0, 0, 0.15);\n",
              "      filter: drop-shadow(0px 1px 2px rgba(0, 0, 0, 0.3));\n",
              "      fill: #FFFFFF;\n",
              "    }\n",
              "  </style>\n",
              "\n",
              "      <script>\n",
              "        const buttonEl =\n",
              "          document.querySelector('#df-34a5d354-f9d6-4c8c-8300-129ad00c41fe button.colab-df-convert');\n",
              "        buttonEl.style.display =\n",
              "          google.colab.kernel.accessAllowed ? 'block' : 'none';\n",
              "\n",
              "        async function convertToInteractive(key) {\n",
              "          const element = document.querySelector('#df-34a5d354-f9d6-4c8c-8300-129ad00c41fe');\n",
              "          const dataTable =\n",
              "            await google.colab.kernel.invokeFunction('convertToInteractive',\n",
              "                                                     [key], {});\n",
              "          if (!dataTable) return;\n",
              "\n",
              "          const docLinkHtml = 'Like what you see? Visit the ' +\n",
              "            '<a target=\"_blank\" href=https://colab.research.google.com/notebooks/data_table.ipynb>data table notebook</a>'\n",
              "            + ' to learn more about interactive tables.';\n",
              "          element.innerHTML = '';\n",
              "          dataTable['output_type'] = 'display_data';\n",
              "          await google.colab.output.renderOutput(dataTable, element);\n",
              "          const docLink = document.createElement('div');\n",
              "          docLink.innerHTML = docLinkHtml;\n",
              "          element.appendChild(docLink);\n",
              "        }\n",
              "      </script>\n",
              "    </div>\n",
              "  </div>\n",
              "  "
            ]
          },
          "metadata": {},
          "execution_count": 131
        }
      ],
      "source": [
        "\n",
        "train = train_final.groupby('EmployeeID').agg('max')\n",
        "train"
      ]
    },
    {
      "cell_type": "code",
      "source": [
        "train.isnull().sum()"
      ],
      "metadata": {
        "colab": {
          "base_uri": "https://localhost:8080/"
        },
        "id": "hMsWCgkDB5bU",
        "outputId": "5f2578c3-e651-407e-a805-e38600a2c0fc"
      },
      "execution_count": null,
      "outputs": [
        {
          "output_type": "execute_result",
          "data": {
            "text/plain": [
              "Left_Company         0\n",
              "Job_History          0\n",
              "Joining_Date         0\n",
              "Designation          0\n",
              "Sex                  0\n",
              "TotalWorkingHours    0\n",
              "Billable_Hours       0\n",
              "Hours_off_Duty       0\n",
              "Touring_Hours        0\n",
              "NoOfProjects         0\n",
              "ActualTimeSpent      0\n",
              "dtype: int64"
            ]
          },
          "metadata": {},
          "execution_count": 132
        }
      ]
    },
    {
      "cell_type": "code",
      "execution_count": null,
      "metadata": {
        "id": "bveCin9yrF6g",
        "colab": {
          "base_uri": "https://localhost:8080/",
          "height": 510
        },
        "outputId": "38f1b9a3-13b6-4c90-d906-a9d5a70dba39"
      },
      "outputs": [
        {
          "output_type": "execute_result",
          "data": {
            "text/plain": [
              "  EmployeeID  Left_Company                                        Job_History  \\\n",
              "0      emp-1             0  Worked at Company - 639 , Company - 212 , Comp...   \n",
              "1      emp-1             0  Worked at Company - 639 , Company - 212 , Comp...   \n",
              "2      emp-1             0  Worked at Company - 639 , Company - 212 , Comp...   \n",
              "3      emp-1             0  Worked at Company - 639 , Company - 212 , Comp...   \n",
              "4      emp-1             0  Worked at Company - 639 , Company - 212 , Comp...   \n",
              "\n",
              "  Joining_Date Designation  Sex  TotalWorkingHours  Billable_Hours  \\\n",
              "0      2011_01          MD    1              184.0           144.0   \n",
              "1      2011_01          MD    1              176.0           136.0   \n",
              "2      2011_01          MD    1              200.0           120.0   \n",
              "3      2011_01          MD    1              160.0           144.0   \n",
              "4      2011_01          MD    1              171.0           135.0   \n",
              "\n",
              "   Hours_off_Duty  Touring_Hours  NoOfProjects  ActualTimeSpent  \n",
              "0            40.0          144.0             3               77  \n",
              "1            40.0          136.0             2               98  \n",
              "2            72.0          120.0             1               14  \n",
              "3             8.0          144.0             3              147  \n",
              "4             0.0          135.0             1               42  "
            ],
            "text/html": [
              "\n",
              "  <div id=\"df-8686faf4-4f17-4107-853f-d18a81ecfb97\">\n",
              "    <div class=\"colab-df-container\">\n",
              "      <div>\n",
              "<style scoped>\n",
              "    .dataframe tbody tr th:only-of-type {\n",
              "        vertical-align: middle;\n",
              "    }\n",
              "\n",
              "    .dataframe tbody tr th {\n",
              "        vertical-align: top;\n",
              "    }\n",
              "\n",
              "    .dataframe thead th {\n",
              "        text-align: right;\n",
              "    }\n",
              "</style>\n",
              "<table border=\"1\" class=\"dataframe\">\n",
              "  <thead>\n",
              "    <tr style=\"text-align: right;\">\n",
              "      <th></th>\n",
              "      <th>EmployeeID</th>\n",
              "      <th>Left_Company</th>\n",
              "      <th>Job_History</th>\n",
              "      <th>Joining_Date</th>\n",
              "      <th>Designation</th>\n",
              "      <th>Sex</th>\n",
              "      <th>TotalWorkingHours</th>\n",
              "      <th>Billable_Hours</th>\n",
              "      <th>Hours_off_Duty</th>\n",
              "      <th>Touring_Hours</th>\n",
              "      <th>NoOfProjects</th>\n",
              "      <th>ActualTimeSpent</th>\n",
              "    </tr>\n",
              "  </thead>\n",
              "  <tbody>\n",
              "    <tr>\n",
              "      <th>0</th>\n",
              "      <td>emp-1</td>\n",
              "      <td>0</td>\n",
              "      <td>Worked at Company - 639 , Company - 212 , Comp...</td>\n",
              "      <td>2011_01</td>\n",
              "      <td>MD</td>\n",
              "      <td>1</td>\n",
              "      <td>184.0</td>\n",
              "      <td>144.0</td>\n",
              "      <td>40.0</td>\n",
              "      <td>144.0</td>\n",
              "      <td>3</td>\n",
              "      <td>77</td>\n",
              "    </tr>\n",
              "    <tr>\n",
              "      <th>1</th>\n",
              "      <td>emp-1</td>\n",
              "      <td>0</td>\n",
              "      <td>Worked at Company - 639 , Company - 212 , Comp...</td>\n",
              "      <td>2011_01</td>\n",
              "      <td>MD</td>\n",
              "      <td>1</td>\n",
              "      <td>176.0</td>\n",
              "      <td>136.0</td>\n",
              "      <td>40.0</td>\n",
              "      <td>136.0</td>\n",
              "      <td>2</td>\n",
              "      <td>98</td>\n",
              "    </tr>\n",
              "    <tr>\n",
              "      <th>2</th>\n",
              "      <td>emp-1</td>\n",
              "      <td>0</td>\n",
              "      <td>Worked at Company - 639 , Company - 212 , Comp...</td>\n",
              "      <td>2011_01</td>\n",
              "      <td>MD</td>\n",
              "      <td>1</td>\n",
              "      <td>200.0</td>\n",
              "      <td>120.0</td>\n",
              "      <td>72.0</td>\n",
              "      <td>120.0</td>\n",
              "      <td>1</td>\n",
              "      <td>14</td>\n",
              "    </tr>\n",
              "    <tr>\n",
              "      <th>3</th>\n",
              "      <td>emp-1</td>\n",
              "      <td>0</td>\n",
              "      <td>Worked at Company - 639 , Company - 212 , Comp...</td>\n",
              "      <td>2011_01</td>\n",
              "      <td>MD</td>\n",
              "      <td>1</td>\n",
              "      <td>160.0</td>\n",
              "      <td>144.0</td>\n",
              "      <td>8.0</td>\n",
              "      <td>144.0</td>\n",
              "      <td>3</td>\n",
              "      <td>147</td>\n",
              "    </tr>\n",
              "    <tr>\n",
              "      <th>4</th>\n",
              "      <td>emp-1</td>\n",
              "      <td>0</td>\n",
              "      <td>Worked at Company - 639 , Company - 212 , Comp...</td>\n",
              "      <td>2011_01</td>\n",
              "      <td>MD</td>\n",
              "      <td>1</td>\n",
              "      <td>171.0</td>\n",
              "      <td>135.0</td>\n",
              "      <td>0.0</td>\n",
              "      <td>135.0</td>\n",
              "      <td>1</td>\n",
              "      <td>42</td>\n",
              "    </tr>\n",
              "  </tbody>\n",
              "</table>\n",
              "</div>\n",
              "      <button class=\"colab-df-convert\" onclick=\"convertToInteractive('df-8686faf4-4f17-4107-853f-d18a81ecfb97')\"\n",
              "              title=\"Convert this dataframe to an interactive table.\"\n",
              "              style=\"display:none;\">\n",
              "        \n",
              "  <svg xmlns=\"http://www.w3.org/2000/svg\" height=\"24px\"viewBox=\"0 0 24 24\"\n",
              "       width=\"24px\">\n",
              "    <path d=\"M0 0h24v24H0V0z\" fill=\"none\"/>\n",
              "    <path d=\"M18.56 5.44l.94 2.06.94-2.06 2.06-.94-2.06-.94-.94-2.06-.94 2.06-2.06.94zm-11 1L8.5 8.5l.94-2.06 2.06-.94-2.06-.94L8.5 2.5l-.94 2.06-2.06.94zm10 10l.94 2.06.94-2.06 2.06-.94-2.06-.94-.94-2.06-.94 2.06-2.06.94z\"/><path d=\"M17.41 7.96l-1.37-1.37c-.4-.4-.92-.59-1.43-.59-.52 0-1.04.2-1.43.59L10.3 9.45l-7.72 7.72c-.78.78-.78 2.05 0 2.83L4 21.41c.39.39.9.59 1.41.59.51 0 1.02-.2 1.41-.59l7.78-7.78 2.81-2.81c.8-.78.8-2.07 0-2.86zM5.41 20L4 18.59l7.72-7.72 1.47 1.35L5.41 20z\"/>\n",
              "  </svg>\n",
              "      </button>\n",
              "      \n",
              "  <style>\n",
              "    .colab-df-container {\n",
              "      display:flex;\n",
              "      flex-wrap:wrap;\n",
              "      gap: 12px;\n",
              "    }\n",
              "\n",
              "    .colab-df-convert {\n",
              "      background-color: #E8F0FE;\n",
              "      border: none;\n",
              "      border-radius: 50%;\n",
              "      cursor: pointer;\n",
              "      display: none;\n",
              "      fill: #1967D2;\n",
              "      height: 32px;\n",
              "      padding: 0 0 0 0;\n",
              "      width: 32px;\n",
              "    }\n",
              "\n",
              "    .colab-df-convert:hover {\n",
              "      background-color: #E2EBFA;\n",
              "      box-shadow: 0px 1px 2px rgba(60, 64, 67, 0.3), 0px 1px 3px 1px rgba(60, 64, 67, 0.15);\n",
              "      fill: #174EA6;\n",
              "    }\n",
              "\n",
              "    [theme=dark] .colab-df-convert {\n",
              "      background-color: #3B4455;\n",
              "      fill: #D2E3FC;\n",
              "    }\n",
              "\n",
              "    [theme=dark] .colab-df-convert:hover {\n",
              "      background-color: #434B5C;\n",
              "      box-shadow: 0px 1px 3px 1px rgba(0, 0, 0, 0.15);\n",
              "      filter: drop-shadow(0px 1px 2px rgba(0, 0, 0, 0.3));\n",
              "      fill: #FFFFFF;\n",
              "    }\n",
              "  </style>\n",
              "\n",
              "      <script>\n",
              "        const buttonEl =\n",
              "          document.querySelector('#df-8686faf4-4f17-4107-853f-d18a81ecfb97 button.colab-df-convert');\n",
              "        buttonEl.style.display =\n",
              "          google.colab.kernel.accessAllowed ? 'block' : 'none';\n",
              "\n",
              "        async function convertToInteractive(key) {\n",
              "          const element = document.querySelector('#df-8686faf4-4f17-4107-853f-d18a81ecfb97');\n",
              "          const dataTable =\n",
              "            await google.colab.kernel.invokeFunction('convertToInteractive',\n",
              "                                                     [key], {});\n",
              "          if (!dataTable) return;\n",
              "\n",
              "          const docLinkHtml = 'Like what you see? Visit the ' +\n",
              "            '<a target=\"_blank\" href=https://colab.research.google.com/notebooks/data_table.ipynb>data table notebook</a>'\n",
              "            + ' to learn more about interactive tables.';\n",
              "          element.innerHTML = '';\n",
              "          dataTable['output_type'] = 'display_data';\n",
              "          await google.colab.output.renderOutput(dataTable, element);\n",
              "          const docLink = document.createElement('div');\n",
              "          docLink.innerHTML = docLinkHtml;\n",
              "          element.appendChild(docLink);\n",
              "        }\n",
              "      </script>\n",
              "    </div>\n",
              "  </div>\n",
              "  "
            ]
          },
          "metadata": {},
          "execution_count": 133
        }
      ],
      "source": [
        "train_final.head()"
      ]
    },
    {
      "cell_type": "code",
      "execution_count": null,
      "metadata": {
        "id": "deGGss1HrUod",
        "colab": {
          "base_uri": "https://localhost:8080/",
          "height": 206
        },
        "outputId": "ff9bd62c-c887-4227-fdeb-24bcc5e52c5a"
      },
      "outputs": [
        {
          "output_type": "execute_result",
          "data": {
            "text/plain": [
              "  EmployeeID                                        Job_History Joining_Date  \\\n",
              "0     emp-10  Worked at Company - 816 , Company - 724 , Comp...      2006_02   \n",
              "1    emp-108  Worked at Company - 205 , Company - 373 , Comp...      2012_01   \n",
              "2    emp-115  Worked at Company - 690 , Company - 280 , Comp...      2012_02   \n",
              "3    emp-121  Worked at Company - 684 , Company - 159 , Comp...      2012_03   \n",
              "4    emp-138  Worked at Company - 443 , Company - 121 , Comp...      2012_05   \n",
              "\n",
              "  Designation  Sex  \n",
              "0          VP    0  \n",
              "1          VP    1  \n",
              "2      Senior    1  \n",
              "3          VP    1  \n",
              "4      Senior    1  "
            ],
            "text/html": [
              "\n",
              "  <div id=\"df-deda4c9a-11e9-4e9d-b3fe-6c619cb35e11\">\n",
              "    <div class=\"colab-df-container\">\n",
              "      <div>\n",
              "<style scoped>\n",
              "    .dataframe tbody tr th:only-of-type {\n",
              "        vertical-align: middle;\n",
              "    }\n",
              "\n",
              "    .dataframe tbody tr th {\n",
              "        vertical-align: top;\n",
              "    }\n",
              "\n",
              "    .dataframe thead th {\n",
              "        text-align: right;\n",
              "    }\n",
              "</style>\n",
              "<table border=\"1\" class=\"dataframe\">\n",
              "  <thead>\n",
              "    <tr style=\"text-align: right;\">\n",
              "      <th></th>\n",
              "      <th>EmployeeID</th>\n",
              "      <th>Job_History</th>\n",
              "      <th>Joining_Date</th>\n",
              "      <th>Designation</th>\n",
              "      <th>Sex</th>\n",
              "    </tr>\n",
              "  </thead>\n",
              "  <tbody>\n",
              "    <tr>\n",
              "      <th>0</th>\n",
              "      <td>emp-10</td>\n",
              "      <td>Worked at Company - 816 , Company - 724 , Comp...</td>\n",
              "      <td>2006_02</td>\n",
              "      <td>VP</td>\n",
              "      <td>0</td>\n",
              "    </tr>\n",
              "    <tr>\n",
              "      <th>1</th>\n",
              "      <td>emp-108</td>\n",
              "      <td>Worked at Company - 205 , Company - 373 , Comp...</td>\n",
              "      <td>2012_01</td>\n",
              "      <td>VP</td>\n",
              "      <td>1</td>\n",
              "    </tr>\n",
              "    <tr>\n",
              "      <th>2</th>\n",
              "      <td>emp-115</td>\n",
              "      <td>Worked at Company - 690 , Company - 280 , Comp...</td>\n",
              "      <td>2012_02</td>\n",
              "      <td>Senior</td>\n",
              "      <td>1</td>\n",
              "    </tr>\n",
              "    <tr>\n",
              "      <th>3</th>\n",
              "      <td>emp-121</td>\n",
              "      <td>Worked at Company - 684 , Company - 159 , Comp...</td>\n",
              "      <td>2012_03</td>\n",
              "      <td>VP</td>\n",
              "      <td>1</td>\n",
              "    </tr>\n",
              "    <tr>\n",
              "      <th>4</th>\n",
              "      <td>emp-138</td>\n",
              "      <td>Worked at Company - 443 , Company - 121 , Comp...</td>\n",
              "      <td>2012_05</td>\n",
              "      <td>Senior</td>\n",
              "      <td>1</td>\n",
              "    </tr>\n",
              "  </tbody>\n",
              "</table>\n",
              "</div>\n",
              "      <button class=\"colab-df-convert\" onclick=\"convertToInteractive('df-deda4c9a-11e9-4e9d-b3fe-6c619cb35e11')\"\n",
              "              title=\"Convert this dataframe to an interactive table.\"\n",
              "              style=\"display:none;\">\n",
              "        \n",
              "  <svg xmlns=\"http://www.w3.org/2000/svg\" height=\"24px\"viewBox=\"0 0 24 24\"\n",
              "       width=\"24px\">\n",
              "    <path d=\"M0 0h24v24H0V0z\" fill=\"none\"/>\n",
              "    <path d=\"M18.56 5.44l.94 2.06.94-2.06 2.06-.94-2.06-.94-.94-2.06-.94 2.06-2.06.94zm-11 1L8.5 8.5l.94-2.06 2.06-.94-2.06-.94L8.5 2.5l-.94 2.06-2.06.94zm10 10l.94 2.06.94-2.06 2.06-.94-2.06-.94-.94-2.06-.94 2.06-2.06.94z\"/><path d=\"M17.41 7.96l-1.37-1.37c-.4-.4-.92-.59-1.43-.59-.52 0-1.04.2-1.43.59L10.3 9.45l-7.72 7.72c-.78.78-.78 2.05 0 2.83L4 21.41c.39.39.9.59 1.41.59.51 0 1.02-.2 1.41-.59l7.78-7.78 2.81-2.81c.8-.78.8-2.07 0-2.86zM5.41 20L4 18.59l7.72-7.72 1.47 1.35L5.41 20z\"/>\n",
              "  </svg>\n",
              "      </button>\n",
              "      \n",
              "  <style>\n",
              "    .colab-df-container {\n",
              "      display:flex;\n",
              "      flex-wrap:wrap;\n",
              "      gap: 12px;\n",
              "    }\n",
              "\n",
              "    .colab-df-convert {\n",
              "      background-color: #E8F0FE;\n",
              "      border: none;\n",
              "      border-radius: 50%;\n",
              "      cursor: pointer;\n",
              "      display: none;\n",
              "      fill: #1967D2;\n",
              "      height: 32px;\n",
              "      padding: 0 0 0 0;\n",
              "      width: 32px;\n",
              "    }\n",
              "\n",
              "    .colab-df-convert:hover {\n",
              "      background-color: #E2EBFA;\n",
              "      box-shadow: 0px 1px 2px rgba(60, 64, 67, 0.3), 0px 1px 3px 1px rgba(60, 64, 67, 0.15);\n",
              "      fill: #174EA6;\n",
              "    }\n",
              "\n",
              "    [theme=dark] .colab-df-convert {\n",
              "      background-color: #3B4455;\n",
              "      fill: #D2E3FC;\n",
              "    }\n",
              "\n",
              "    [theme=dark] .colab-df-convert:hover {\n",
              "      background-color: #434B5C;\n",
              "      box-shadow: 0px 1px 3px 1px rgba(0, 0, 0, 0.15);\n",
              "      filter: drop-shadow(0px 1px 2px rgba(0, 0, 0, 0.3));\n",
              "      fill: #FFFFFF;\n",
              "    }\n",
              "  </style>\n",
              "\n",
              "      <script>\n",
              "        const buttonEl =\n",
              "          document.querySelector('#df-deda4c9a-11e9-4e9d-b3fe-6c619cb35e11 button.colab-df-convert');\n",
              "        buttonEl.style.display =\n",
              "          google.colab.kernel.accessAllowed ? 'block' : 'none';\n",
              "\n",
              "        async function convertToInteractive(key) {\n",
              "          const element = document.querySelector('#df-deda4c9a-11e9-4e9d-b3fe-6c619cb35e11');\n",
              "          const dataTable =\n",
              "            await google.colab.kernel.invokeFunction('convertToInteractive',\n",
              "                                                     [key], {});\n",
              "          if (!dataTable) return;\n",
              "\n",
              "          const docLinkHtml = 'Like what you see? Visit the ' +\n",
              "            '<a target=\"_blank\" href=https://colab.research.google.com/notebooks/data_table.ipynb>data table notebook</a>'\n",
              "            + ' to learn more about interactive tables.';\n",
              "          element.innerHTML = '';\n",
              "          dataTable['output_type'] = 'display_data';\n",
              "          await google.colab.output.renderOutput(dataTable, element);\n",
              "          const docLink = document.createElement('div');\n",
              "          docLink.innerHTML = docLinkHtml;\n",
              "          element.appendChild(docLink);\n",
              "        }\n",
              "      </script>\n",
              "    </div>\n",
              "  </div>\n",
              "  "
            ]
          },
          "metadata": {},
          "execution_count": 134
        }
      ],
      "source": [
        "\n",
        "emp_data.head()"
      ]
    },
    {
      "cell_type": "code",
      "execution_count": null,
      "metadata": {
        "id": "q7unNyemcXTF",
        "colab": {
          "base_uri": "https://localhost:8080/"
        },
        "outputId": "e798e556-06e8-47b0-a8d8-138bc41b3ed4"
      },
      "outputs": [
        {
          "output_type": "stream",
          "name": "stdout",
          "text": [
            "The employee data has 296 rows & 5 columns.\n"
          ]
        }
      ],
      "source": [
        "print(\"The employee data has {} rows & {} columns.\" .format(emp_data.shape[0], emp_data.shape[1]))"
      ]
    },
    {
      "cell_type": "code",
      "execution_count": null,
      "metadata": {
        "id": "FDPaT_RidMl8",
        "colab": {
          "base_uri": "https://localhost:8080/",
          "height": 206
        },
        "outputId": "13bf0fd7-9f8a-4c4d-d114-baecf10606bb"
      },
      "outputs": [
        {
          "output_type": "execute_result",
          "data": {
            "text/plain": [
              "  EmployeeID  Left_Company\n",
              "0    emp-106           NaN\n",
              "1    emp-112           NaN\n",
              "2    emp-114           NaN\n",
              "3    emp-118           NaN\n",
              "4     emp-12           NaN"
            ],
            "text/html": [
              "\n",
              "  <div id=\"df-2adb9151-d4a8-4ffb-817f-21ce4e590a50\">\n",
              "    <div class=\"colab-df-container\">\n",
              "      <div>\n",
              "<style scoped>\n",
              "    .dataframe tbody tr th:only-of-type {\n",
              "        vertical-align: middle;\n",
              "    }\n",
              "\n",
              "    .dataframe tbody tr th {\n",
              "        vertical-align: top;\n",
              "    }\n",
              "\n",
              "    .dataframe thead th {\n",
              "        text-align: right;\n",
              "    }\n",
              "</style>\n",
              "<table border=\"1\" class=\"dataframe\">\n",
              "  <thead>\n",
              "    <tr style=\"text-align: right;\">\n",
              "      <th></th>\n",
              "      <th>EmployeeID</th>\n",
              "      <th>Left_Company</th>\n",
              "    </tr>\n",
              "  </thead>\n",
              "  <tbody>\n",
              "    <tr>\n",
              "      <th>0</th>\n",
              "      <td>emp-106</td>\n",
              "      <td>NaN</td>\n",
              "    </tr>\n",
              "    <tr>\n",
              "      <th>1</th>\n",
              "      <td>emp-112</td>\n",
              "      <td>NaN</td>\n",
              "    </tr>\n",
              "    <tr>\n",
              "      <th>2</th>\n",
              "      <td>emp-114</td>\n",
              "      <td>NaN</td>\n",
              "    </tr>\n",
              "    <tr>\n",
              "      <th>3</th>\n",
              "      <td>emp-118</td>\n",
              "      <td>NaN</td>\n",
              "    </tr>\n",
              "    <tr>\n",
              "      <th>4</th>\n",
              "      <td>emp-12</td>\n",
              "      <td>NaN</td>\n",
              "    </tr>\n",
              "  </tbody>\n",
              "</table>\n",
              "</div>\n",
              "      <button class=\"colab-df-convert\" onclick=\"convertToInteractive('df-2adb9151-d4a8-4ffb-817f-21ce4e590a50')\"\n",
              "              title=\"Convert this dataframe to an interactive table.\"\n",
              "              style=\"display:none;\">\n",
              "        \n",
              "  <svg xmlns=\"http://www.w3.org/2000/svg\" height=\"24px\"viewBox=\"0 0 24 24\"\n",
              "       width=\"24px\">\n",
              "    <path d=\"M0 0h24v24H0V0z\" fill=\"none\"/>\n",
              "    <path d=\"M18.56 5.44l.94 2.06.94-2.06 2.06-.94-2.06-.94-.94-2.06-.94 2.06-2.06.94zm-11 1L8.5 8.5l.94-2.06 2.06-.94-2.06-.94L8.5 2.5l-.94 2.06-2.06.94zm10 10l.94 2.06.94-2.06 2.06-.94-2.06-.94-.94-2.06-.94 2.06-2.06.94z\"/><path d=\"M17.41 7.96l-1.37-1.37c-.4-.4-.92-.59-1.43-.59-.52 0-1.04.2-1.43.59L10.3 9.45l-7.72 7.72c-.78.78-.78 2.05 0 2.83L4 21.41c.39.39.9.59 1.41.59.51 0 1.02-.2 1.41-.59l7.78-7.78 2.81-2.81c.8-.78.8-2.07 0-2.86zM5.41 20L4 18.59l7.72-7.72 1.47 1.35L5.41 20z\"/>\n",
              "  </svg>\n",
              "      </button>\n",
              "      \n",
              "  <style>\n",
              "    .colab-df-container {\n",
              "      display:flex;\n",
              "      flex-wrap:wrap;\n",
              "      gap: 12px;\n",
              "    }\n",
              "\n",
              "    .colab-df-convert {\n",
              "      background-color: #E8F0FE;\n",
              "      border: none;\n",
              "      border-radius: 50%;\n",
              "      cursor: pointer;\n",
              "      display: none;\n",
              "      fill: #1967D2;\n",
              "      height: 32px;\n",
              "      padding: 0 0 0 0;\n",
              "      width: 32px;\n",
              "    }\n",
              "\n",
              "    .colab-df-convert:hover {\n",
              "      background-color: #E2EBFA;\n",
              "      box-shadow: 0px 1px 2px rgba(60, 64, 67, 0.3), 0px 1px 3px 1px rgba(60, 64, 67, 0.15);\n",
              "      fill: #174EA6;\n",
              "    }\n",
              "\n",
              "    [theme=dark] .colab-df-convert {\n",
              "      background-color: #3B4455;\n",
              "      fill: #D2E3FC;\n",
              "    }\n",
              "\n",
              "    [theme=dark] .colab-df-convert:hover {\n",
              "      background-color: #434B5C;\n",
              "      box-shadow: 0px 1px 3px 1px rgba(0, 0, 0, 0.15);\n",
              "      filter: drop-shadow(0px 1px 2px rgba(0, 0, 0, 0.3));\n",
              "      fill: #FFFFFF;\n",
              "    }\n",
              "  </style>\n",
              "\n",
              "      <script>\n",
              "        const buttonEl =\n",
              "          document.querySelector('#df-2adb9151-d4a8-4ffb-817f-21ce4e590a50 button.colab-df-convert');\n",
              "        buttonEl.style.display =\n",
              "          google.colab.kernel.accessAllowed ? 'block' : 'none';\n",
              "\n",
              "        async function convertToInteractive(key) {\n",
              "          const element = document.querySelector('#df-2adb9151-d4a8-4ffb-817f-21ce4e590a50');\n",
              "          const dataTable =\n",
              "            await google.colab.kernel.invokeFunction('convertToInteractive',\n",
              "                                                     [key], {});\n",
              "          if (!dataTable) return;\n",
              "\n",
              "          const docLinkHtml = 'Like what you see? Visit the ' +\n",
              "            '<a target=\"_blank\" href=https://colab.research.google.com/notebooks/data_table.ipynb>data table notebook</a>'\n",
              "            + ' to learn more about interactive tables.';\n",
              "          element.innerHTML = '';\n",
              "          dataTable['output_type'] = 'display_data';\n",
              "          await google.colab.output.renderOutput(dataTable, element);\n",
              "          const docLink = document.createElement('div');\n",
              "          docLink.innerHTML = docLinkHtml;\n",
              "          element.appendChild(docLink);\n",
              "        }\n",
              "      </script>\n",
              "    </div>\n",
              "  </div>\n",
              "  "
            ]
          },
          "metadata": {},
          "execution_count": 136
        }
      ],
      "source": [
        "test_attrition.head()"
      ]
    },
    {
      "cell_type": "markdown",
      "metadata": {
        "id": "pRAB9PIvdZIX"
      },
      "source": [
        "## Merging the datasets based on the employee data.\n"
      ]
    },
    {
      "cell_type": "markdown",
      "metadata": {
        "id": "OwKk4exDdjlI"
      },
      "source": [
        "## Merging the train data into a single datafrfame\n"
      ]
    },
    {
      "cell_type": "code",
      "execution_count": null,
      "metadata": {
        "id": "2JwLJwp3dRU0"
      },
      "outputs": [],
      "source": [
        "train_emp_data = pd.merge(train_attrition, emp_data, how='left', on='EmployeeID')"
      ]
    },
    {
      "cell_type": "code",
      "execution_count": null,
      "metadata": {
        "id": "boPwbCamdn6-",
        "colab": {
          "base_uri": "https://localhost:8080/"
        },
        "outputId": "bedbf220-f782-4863-ecdf-ede5a1d2c722"
      },
      "outputs": [
        {
          "output_type": "execute_result",
          "data": {
            "text/plain": [
              "(245, 6)"
            ]
          },
          "metadata": {},
          "execution_count": 138
        }
      ],
      "source": [
        "train_emp_data.shape"
      ]
    },
    {
      "cell_type": "code",
      "execution_count": null,
      "metadata": {
        "id": "oT7o52tHdsQa"
      },
      "outputs": [],
      "source": [
        "train_final = pd.merge(train_emp_data, train_work, on='EmployeeID', how='left')"
      ]
    },
    {
      "cell_type": "markdown",
      "source": [],
      "metadata": {
        "id": "24wzbkMZOL3V"
      }
    },
    {
      "cell_type": "code",
      "execution_count": null,
      "metadata": {
        "colab": {
          "base_uri": "https://localhost:8080/",
          "height": 528
        },
        "id": "a6BBohi2dwD_",
        "outputId": "0ac0f209-14b4-4e89-a3c4-75d90dd81c09"
      },
      "outputs": [
        {
          "output_type": "stream",
          "name": "stdout",
          "text": [
            "(3983, 12)\n"
          ]
        },
        {
          "output_type": "execute_result",
          "data": {
            "text/plain": [
              "  EmployeeID  Left_Company                                        Job_History  \\\n",
              "0      emp-1             0  Worked at Company - 639 , Company - 212 , Comp...   \n",
              "1      emp-1             0  Worked at Company - 639 , Company - 212 , Comp...   \n",
              "2      emp-1             0  Worked at Company - 639 , Company - 212 , Comp...   \n",
              "3      emp-1             0  Worked at Company - 639 , Company - 212 , Comp...   \n",
              "4      emp-1             0  Worked at Company - 639 , Company - 212 , Comp...   \n",
              "\n",
              "  Joining_Date Designation  Sex  TotalWorkingHours  Billable_Hours  \\\n",
              "0      2011_01          MD    1              184.0           144.0   \n",
              "1      2011_01          MD    1              176.0           136.0   \n",
              "2      2011_01          MD    1              200.0           120.0   \n",
              "3      2011_01          MD    1              160.0           144.0   \n",
              "4      2011_01          MD    1              171.0           135.0   \n",
              "\n",
              "   Hours_off_Duty  Touring_Hours  NoOfProjects  ActualTimeSpent  \n",
              "0            40.0          144.0             3               77  \n",
              "1            40.0          136.0             2               98  \n",
              "2            72.0          120.0             1               14  \n",
              "3             8.0          144.0             3              147  \n",
              "4             0.0          135.0             1               42  "
            ],
            "text/html": [
              "\n",
              "  <div id=\"df-9425c53d-f0e1-4783-a186-30986d2c6dc4\">\n",
              "    <div class=\"colab-df-container\">\n",
              "      <div>\n",
              "<style scoped>\n",
              "    .dataframe tbody tr th:only-of-type {\n",
              "        vertical-align: middle;\n",
              "    }\n",
              "\n",
              "    .dataframe tbody tr th {\n",
              "        vertical-align: top;\n",
              "    }\n",
              "\n",
              "    .dataframe thead th {\n",
              "        text-align: right;\n",
              "    }\n",
              "</style>\n",
              "<table border=\"1\" class=\"dataframe\">\n",
              "  <thead>\n",
              "    <tr style=\"text-align: right;\">\n",
              "      <th></th>\n",
              "      <th>EmployeeID</th>\n",
              "      <th>Left_Company</th>\n",
              "      <th>Job_History</th>\n",
              "      <th>Joining_Date</th>\n",
              "      <th>Designation</th>\n",
              "      <th>Sex</th>\n",
              "      <th>TotalWorkingHours</th>\n",
              "      <th>Billable_Hours</th>\n",
              "      <th>Hours_off_Duty</th>\n",
              "      <th>Touring_Hours</th>\n",
              "      <th>NoOfProjects</th>\n",
              "      <th>ActualTimeSpent</th>\n",
              "    </tr>\n",
              "  </thead>\n",
              "  <tbody>\n",
              "    <tr>\n",
              "      <th>0</th>\n",
              "      <td>emp-1</td>\n",
              "      <td>0</td>\n",
              "      <td>Worked at Company - 639 , Company - 212 , Comp...</td>\n",
              "      <td>2011_01</td>\n",
              "      <td>MD</td>\n",
              "      <td>1</td>\n",
              "      <td>184.0</td>\n",
              "      <td>144.0</td>\n",
              "      <td>40.0</td>\n",
              "      <td>144.0</td>\n",
              "      <td>3</td>\n",
              "      <td>77</td>\n",
              "    </tr>\n",
              "    <tr>\n",
              "      <th>1</th>\n",
              "      <td>emp-1</td>\n",
              "      <td>0</td>\n",
              "      <td>Worked at Company - 639 , Company - 212 , Comp...</td>\n",
              "      <td>2011_01</td>\n",
              "      <td>MD</td>\n",
              "      <td>1</td>\n",
              "      <td>176.0</td>\n",
              "      <td>136.0</td>\n",
              "      <td>40.0</td>\n",
              "      <td>136.0</td>\n",
              "      <td>2</td>\n",
              "      <td>98</td>\n",
              "    </tr>\n",
              "    <tr>\n",
              "      <th>2</th>\n",
              "      <td>emp-1</td>\n",
              "      <td>0</td>\n",
              "      <td>Worked at Company - 639 , Company - 212 , Comp...</td>\n",
              "      <td>2011_01</td>\n",
              "      <td>MD</td>\n",
              "      <td>1</td>\n",
              "      <td>200.0</td>\n",
              "      <td>120.0</td>\n",
              "      <td>72.0</td>\n",
              "      <td>120.0</td>\n",
              "      <td>1</td>\n",
              "      <td>14</td>\n",
              "    </tr>\n",
              "    <tr>\n",
              "      <th>3</th>\n",
              "      <td>emp-1</td>\n",
              "      <td>0</td>\n",
              "      <td>Worked at Company - 639 , Company - 212 , Comp...</td>\n",
              "      <td>2011_01</td>\n",
              "      <td>MD</td>\n",
              "      <td>1</td>\n",
              "      <td>160.0</td>\n",
              "      <td>144.0</td>\n",
              "      <td>8.0</td>\n",
              "      <td>144.0</td>\n",
              "      <td>3</td>\n",
              "      <td>147</td>\n",
              "    </tr>\n",
              "    <tr>\n",
              "      <th>4</th>\n",
              "      <td>emp-1</td>\n",
              "      <td>0</td>\n",
              "      <td>Worked at Company - 639 , Company - 212 , Comp...</td>\n",
              "      <td>2011_01</td>\n",
              "      <td>MD</td>\n",
              "      <td>1</td>\n",
              "      <td>171.0</td>\n",
              "      <td>135.0</td>\n",
              "      <td>0.0</td>\n",
              "      <td>135.0</td>\n",
              "      <td>1</td>\n",
              "      <td>42</td>\n",
              "    </tr>\n",
              "  </tbody>\n",
              "</table>\n",
              "</div>\n",
              "      <button class=\"colab-df-convert\" onclick=\"convertToInteractive('df-9425c53d-f0e1-4783-a186-30986d2c6dc4')\"\n",
              "              title=\"Convert this dataframe to an interactive table.\"\n",
              "              style=\"display:none;\">\n",
              "        \n",
              "  <svg xmlns=\"http://www.w3.org/2000/svg\" height=\"24px\"viewBox=\"0 0 24 24\"\n",
              "       width=\"24px\">\n",
              "    <path d=\"M0 0h24v24H0V0z\" fill=\"none\"/>\n",
              "    <path d=\"M18.56 5.44l.94 2.06.94-2.06 2.06-.94-2.06-.94-.94-2.06-.94 2.06-2.06.94zm-11 1L8.5 8.5l.94-2.06 2.06-.94-2.06-.94L8.5 2.5l-.94 2.06-2.06.94zm10 10l.94 2.06.94-2.06 2.06-.94-2.06-.94-.94-2.06-.94 2.06-2.06.94z\"/><path d=\"M17.41 7.96l-1.37-1.37c-.4-.4-.92-.59-1.43-.59-.52 0-1.04.2-1.43.59L10.3 9.45l-7.72 7.72c-.78.78-.78 2.05 0 2.83L4 21.41c.39.39.9.59 1.41.59.51 0 1.02-.2 1.41-.59l7.78-7.78 2.81-2.81c.8-.78.8-2.07 0-2.86zM5.41 20L4 18.59l7.72-7.72 1.47 1.35L5.41 20z\"/>\n",
              "  </svg>\n",
              "      </button>\n",
              "      \n",
              "  <style>\n",
              "    .colab-df-container {\n",
              "      display:flex;\n",
              "      flex-wrap:wrap;\n",
              "      gap: 12px;\n",
              "    }\n",
              "\n",
              "    .colab-df-convert {\n",
              "      background-color: #E8F0FE;\n",
              "      border: none;\n",
              "      border-radius: 50%;\n",
              "      cursor: pointer;\n",
              "      display: none;\n",
              "      fill: #1967D2;\n",
              "      height: 32px;\n",
              "      padding: 0 0 0 0;\n",
              "      width: 32px;\n",
              "    }\n",
              "\n",
              "    .colab-df-convert:hover {\n",
              "      background-color: #E2EBFA;\n",
              "      box-shadow: 0px 1px 2px rgba(60, 64, 67, 0.3), 0px 1px 3px 1px rgba(60, 64, 67, 0.15);\n",
              "      fill: #174EA6;\n",
              "    }\n",
              "\n",
              "    [theme=dark] .colab-df-convert {\n",
              "      background-color: #3B4455;\n",
              "      fill: #D2E3FC;\n",
              "    }\n",
              "\n",
              "    [theme=dark] .colab-df-convert:hover {\n",
              "      background-color: #434B5C;\n",
              "      box-shadow: 0px 1px 3px 1px rgba(0, 0, 0, 0.15);\n",
              "      filter: drop-shadow(0px 1px 2px rgba(0, 0, 0, 0.3));\n",
              "      fill: #FFFFFF;\n",
              "    }\n",
              "  </style>\n",
              "\n",
              "      <script>\n",
              "        const buttonEl =\n",
              "          document.querySelector('#df-9425c53d-f0e1-4783-a186-30986d2c6dc4 button.colab-df-convert');\n",
              "        buttonEl.style.display =\n",
              "          google.colab.kernel.accessAllowed ? 'block' : 'none';\n",
              "\n",
              "        async function convertToInteractive(key) {\n",
              "          const element = document.querySelector('#df-9425c53d-f0e1-4783-a186-30986d2c6dc4');\n",
              "          const dataTable =\n",
              "            await google.colab.kernel.invokeFunction('convertToInteractive',\n",
              "                                                     [key], {});\n",
              "          if (!dataTable) return;\n",
              "\n",
              "          const docLinkHtml = 'Like what you see? Visit the ' +\n",
              "            '<a target=\"_blank\" href=https://colab.research.google.com/notebooks/data_table.ipynb>data table notebook</a>'\n",
              "            + ' to learn more about interactive tables.';\n",
              "          element.innerHTML = '';\n",
              "          dataTable['output_type'] = 'display_data';\n",
              "          await google.colab.output.renderOutput(dataTable, element);\n",
              "          const docLink = document.createElement('div');\n",
              "          docLink.innerHTML = docLinkHtml;\n",
              "          element.appendChild(docLink);\n",
              "        }\n",
              "      </script>\n",
              "    </div>\n",
              "  </div>\n",
              "  "
            ]
          },
          "metadata": {},
          "execution_count": 140
        }
      ],
      "source": [
        "print(train_final.shape)\n",
        "train_final.head()"
      ]
    },
    {
      "cell_type": "code",
      "execution_count": null,
      "metadata": {
        "id": "tF_ZSb4ldyOB"
      },
      "outputs": [],
      "source": [
        "\n",
        "train = train_final.groupby('EmployeeID').agg('max')"
      ]
    },
    {
      "cell_type": "code",
      "execution_count": null,
      "metadata": {
        "id": "_kyw748Ed9Sw",
        "colab": {
          "base_uri": "https://localhost:8080/",
          "height": 489
        },
        "outputId": "0c44e6b3-0ac4-4021-ec4b-5e07a334f25d"
      },
      "outputs": [
        {
          "output_type": "execute_result",
          "data": {
            "text/plain": [
              "            Left_Company                                        Job_History  \\\n",
              "EmployeeID                                                                    \n",
              "emp-1                  0  Worked at Company - 639 , Company - 212 , Comp...   \n",
              "emp-10                 1  Worked at Company - 816 , Company - 724 , Comp...   \n",
              "emp-100                0            Worked at Company - 562 , Company - 319   \n",
              "emp-101                0  Worked at Company - 212 , Company - 668 , Comp...   \n",
              "emp-102                0                            Worked at Company - 234   \n",
              "\n",
              "           Joining_Date Designation  Sex  TotalWorkingHours  Billable_Hours  \\\n",
              "EmployeeID                                                                    \n",
              "emp-1           2011_01          MD    1              205.0           189.0   \n",
              "emp-10          2006_02          VP    0              241.0           233.0   \n",
              "emp-100         2011_12      Senior    1              278.0           264.0   \n",
              "emp-101         2012_01      Senior    1              345.5           233.5   \n",
              "emp-102         2011_12      Senior    1              270.0           249.0   \n",
              "\n",
              "            Hours_off_Duty  Touring_Hours  NoOfProjects  ActualTimeSpent  \n",
              "EmployeeID                                                                \n",
              "emp-1                 72.0          189.0             3              231  \n",
              "emp-10               120.0          186.0             2              147  \n",
              "emp-100               40.0          264.0             3              308  \n",
              "emp-101               64.0            0.0             2              217  \n",
              "emp-102               88.0          213.0             2              231  "
            ],
            "text/html": [
              "\n",
              "  <div id=\"df-6a019cd9-28b2-4e9c-9c0c-cdf68245332c\">\n",
              "    <div class=\"colab-df-container\">\n",
              "      <div>\n",
              "<style scoped>\n",
              "    .dataframe tbody tr th:only-of-type {\n",
              "        vertical-align: middle;\n",
              "    }\n",
              "\n",
              "    .dataframe tbody tr th {\n",
              "        vertical-align: top;\n",
              "    }\n",
              "\n",
              "    .dataframe thead th {\n",
              "        text-align: right;\n",
              "    }\n",
              "</style>\n",
              "<table border=\"1\" class=\"dataframe\">\n",
              "  <thead>\n",
              "    <tr style=\"text-align: right;\">\n",
              "      <th></th>\n",
              "      <th>Left_Company</th>\n",
              "      <th>Job_History</th>\n",
              "      <th>Joining_Date</th>\n",
              "      <th>Designation</th>\n",
              "      <th>Sex</th>\n",
              "      <th>TotalWorkingHours</th>\n",
              "      <th>Billable_Hours</th>\n",
              "      <th>Hours_off_Duty</th>\n",
              "      <th>Touring_Hours</th>\n",
              "      <th>NoOfProjects</th>\n",
              "      <th>ActualTimeSpent</th>\n",
              "    </tr>\n",
              "    <tr>\n",
              "      <th>EmployeeID</th>\n",
              "      <th></th>\n",
              "      <th></th>\n",
              "      <th></th>\n",
              "      <th></th>\n",
              "      <th></th>\n",
              "      <th></th>\n",
              "      <th></th>\n",
              "      <th></th>\n",
              "      <th></th>\n",
              "      <th></th>\n",
              "      <th></th>\n",
              "    </tr>\n",
              "  </thead>\n",
              "  <tbody>\n",
              "    <tr>\n",
              "      <th>emp-1</th>\n",
              "      <td>0</td>\n",
              "      <td>Worked at Company - 639 , Company - 212 , Comp...</td>\n",
              "      <td>2011_01</td>\n",
              "      <td>MD</td>\n",
              "      <td>1</td>\n",
              "      <td>205.0</td>\n",
              "      <td>189.0</td>\n",
              "      <td>72.0</td>\n",
              "      <td>189.0</td>\n",
              "      <td>3</td>\n",
              "      <td>231</td>\n",
              "    </tr>\n",
              "    <tr>\n",
              "      <th>emp-10</th>\n",
              "      <td>1</td>\n",
              "      <td>Worked at Company - 816 , Company - 724 , Comp...</td>\n",
              "      <td>2006_02</td>\n",
              "      <td>VP</td>\n",
              "      <td>0</td>\n",
              "      <td>241.0</td>\n",
              "      <td>233.0</td>\n",
              "      <td>120.0</td>\n",
              "      <td>186.0</td>\n",
              "      <td>2</td>\n",
              "      <td>147</td>\n",
              "    </tr>\n",
              "    <tr>\n",
              "      <th>emp-100</th>\n",
              "      <td>0</td>\n",
              "      <td>Worked at Company - 562 , Company - 319</td>\n",
              "      <td>2011_12</td>\n",
              "      <td>Senior</td>\n",
              "      <td>1</td>\n",
              "      <td>278.0</td>\n",
              "      <td>264.0</td>\n",
              "      <td>40.0</td>\n",
              "      <td>264.0</td>\n",
              "      <td>3</td>\n",
              "      <td>308</td>\n",
              "    </tr>\n",
              "    <tr>\n",
              "      <th>emp-101</th>\n",
              "      <td>0</td>\n",
              "      <td>Worked at Company - 212 , Company - 668 , Comp...</td>\n",
              "      <td>2012_01</td>\n",
              "      <td>Senior</td>\n",
              "      <td>1</td>\n",
              "      <td>345.5</td>\n",
              "      <td>233.5</td>\n",
              "      <td>64.0</td>\n",
              "      <td>0.0</td>\n",
              "      <td>2</td>\n",
              "      <td>217</td>\n",
              "    </tr>\n",
              "    <tr>\n",
              "      <th>emp-102</th>\n",
              "      <td>0</td>\n",
              "      <td>Worked at Company - 234</td>\n",
              "      <td>2011_12</td>\n",
              "      <td>Senior</td>\n",
              "      <td>1</td>\n",
              "      <td>270.0</td>\n",
              "      <td>249.0</td>\n",
              "      <td>88.0</td>\n",
              "      <td>213.0</td>\n",
              "      <td>2</td>\n",
              "      <td>231</td>\n",
              "    </tr>\n",
              "  </tbody>\n",
              "</table>\n",
              "</div>\n",
              "      <button class=\"colab-df-convert\" onclick=\"convertToInteractive('df-6a019cd9-28b2-4e9c-9c0c-cdf68245332c')\"\n",
              "              title=\"Convert this dataframe to an interactive table.\"\n",
              "              style=\"display:none;\">\n",
              "        \n",
              "  <svg xmlns=\"http://www.w3.org/2000/svg\" height=\"24px\"viewBox=\"0 0 24 24\"\n",
              "       width=\"24px\">\n",
              "    <path d=\"M0 0h24v24H0V0z\" fill=\"none\"/>\n",
              "    <path d=\"M18.56 5.44l.94 2.06.94-2.06 2.06-.94-2.06-.94-.94-2.06-.94 2.06-2.06.94zm-11 1L8.5 8.5l.94-2.06 2.06-.94-2.06-.94L8.5 2.5l-.94 2.06-2.06.94zm10 10l.94 2.06.94-2.06 2.06-.94-2.06-.94-.94-2.06-.94 2.06-2.06.94z\"/><path d=\"M17.41 7.96l-1.37-1.37c-.4-.4-.92-.59-1.43-.59-.52 0-1.04.2-1.43.59L10.3 9.45l-7.72 7.72c-.78.78-.78 2.05 0 2.83L4 21.41c.39.39.9.59 1.41.59.51 0 1.02-.2 1.41-.59l7.78-7.78 2.81-2.81c.8-.78.8-2.07 0-2.86zM5.41 20L4 18.59l7.72-7.72 1.47 1.35L5.41 20z\"/>\n",
              "  </svg>\n",
              "      </button>\n",
              "      \n",
              "  <style>\n",
              "    .colab-df-container {\n",
              "      display:flex;\n",
              "      flex-wrap:wrap;\n",
              "      gap: 12px;\n",
              "    }\n",
              "\n",
              "    .colab-df-convert {\n",
              "      background-color: #E8F0FE;\n",
              "      border: none;\n",
              "      border-radius: 50%;\n",
              "      cursor: pointer;\n",
              "      display: none;\n",
              "      fill: #1967D2;\n",
              "      height: 32px;\n",
              "      padding: 0 0 0 0;\n",
              "      width: 32px;\n",
              "    }\n",
              "\n",
              "    .colab-df-convert:hover {\n",
              "      background-color: #E2EBFA;\n",
              "      box-shadow: 0px 1px 2px rgba(60, 64, 67, 0.3), 0px 1px 3px 1px rgba(60, 64, 67, 0.15);\n",
              "      fill: #174EA6;\n",
              "    }\n",
              "\n",
              "    [theme=dark] .colab-df-convert {\n",
              "      background-color: #3B4455;\n",
              "      fill: #D2E3FC;\n",
              "    }\n",
              "\n",
              "    [theme=dark] .colab-df-convert:hover {\n",
              "      background-color: #434B5C;\n",
              "      box-shadow: 0px 1px 3px 1px rgba(0, 0, 0, 0.15);\n",
              "      filter: drop-shadow(0px 1px 2px rgba(0, 0, 0, 0.3));\n",
              "      fill: #FFFFFF;\n",
              "    }\n",
              "  </style>\n",
              "\n",
              "      <script>\n",
              "        const buttonEl =\n",
              "          document.querySelector('#df-6a019cd9-28b2-4e9c-9c0c-cdf68245332c button.colab-df-convert');\n",
              "        buttonEl.style.display =\n",
              "          google.colab.kernel.accessAllowed ? 'block' : 'none';\n",
              "\n",
              "        async function convertToInteractive(key) {\n",
              "          const element = document.querySelector('#df-6a019cd9-28b2-4e9c-9c0c-cdf68245332c');\n",
              "          const dataTable =\n",
              "            await google.colab.kernel.invokeFunction('convertToInteractive',\n",
              "                                                     [key], {});\n",
              "          if (!dataTable) return;\n",
              "\n",
              "          const docLinkHtml = 'Like what you see? Visit the ' +\n",
              "            '<a target=\"_blank\" href=https://colab.research.google.com/notebooks/data_table.ipynb>data table notebook</a>'\n",
              "            + ' to learn more about interactive tables.';\n",
              "          element.innerHTML = '';\n",
              "          dataTable['output_type'] = 'display_data';\n",
              "          await google.colab.output.renderOutput(dataTable, element);\n",
              "          const docLink = document.createElement('div');\n",
              "          docLink.innerHTML = docLinkHtml;\n",
              "          element.appendChild(docLink);\n",
              "        }\n",
              "      </script>\n",
              "    </div>\n",
              "  </div>\n",
              "  "
            ]
          },
          "metadata": {},
          "execution_count": 142
        }
      ],
      "source": [
        "train.head()"
      ]
    },
    {
      "cell_type": "markdown",
      "metadata": {
        "id": "QxH5zbWIedbF"
      },
      "source": [
        "## Merging the test data into Single data frame. \n"
      ]
    },
    {
      "cell_type": "code",
      "execution_count": null,
      "metadata": {
        "id": "c2YMbWHOeagq"
      },
      "outputs": [],
      "source": [
        "\n",
        "\n",
        "test_emp_data = pd.merge(test_attrition, emp_data, how='left', on='EmployeeID')\n"
      ]
    },
    {
      "cell_type": "code",
      "execution_count": null,
      "metadata": {
        "id": "XH0cz9Lqehi2",
        "colab": {
          "base_uri": "https://localhost:8080/",
          "height": 206
        },
        "outputId": "14e46a9f-f8bd-4cfd-b48c-c3c3f4644133"
      },
      "outputs": [
        {
          "output_type": "execute_result",
          "data": {
            "text/plain": [
              "  EmployeeID  Left_Company                                        Job_History  \\\n",
              "0    emp-106           NaN  Worked at Company - 510 , Company - 658 , Comp...   \n",
              "1    emp-112           NaN  Worked at Company - 42 , Company - 432 , Compa...   \n",
              "2    emp-114           NaN  Worked at Company - 99 , Company - 88 , Compan...   \n",
              "3    emp-118           NaN            Worked at Company - 554 , Company - 304   \n",
              "4     emp-12           NaN            Worked at Company - 548 , Company - 405   \n",
              "\n",
              "  Joining_Date Designation  Sex  \n",
              "0      2012_01      Senior    0  \n",
              "1      2012_02          VP    1  \n",
              "2      2012_02         EVP    1  \n",
              "3      2012_04         EVP    1  \n",
              "4      2006_09          VP    1  "
            ],
            "text/html": [
              "\n",
              "  <div id=\"df-cd8fc6c7-5a80-4b16-a876-d3a8d87d68d7\">\n",
              "    <div class=\"colab-df-container\">\n",
              "      <div>\n",
              "<style scoped>\n",
              "    .dataframe tbody tr th:only-of-type {\n",
              "        vertical-align: middle;\n",
              "    }\n",
              "\n",
              "    .dataframe tbody tr th {\n",
              "        vertical-align: top;\n",
              "    }\n",
              "\n",
              "    .dataframe thead th {\n",
              "        text-align: right;\n",
              "    }\n",
              "</style>\n",
              "<table border=\"1\" class=\"dataframe\">\n",
              "  <thead>\n",
              "    <tr style=\"text-align: right;\">\n",
              "      <th></th>\n",
              "      <th>EmployeeID</th>\n",
              "      <th>Left_Company</th>\n",
              "      <th>Job_History</th>\n",
              "      <th>Joining_Date</th>\n",
              "      <th>Designation</th>\n",
              "      <th>Sex</th>\n",
              "    </tr>\n",
              "  </thead>\n",
              "  <tbody>\n",
              "    <tr>\n",
              "      <th>0</th>\n",
              "      <td>emp-106</td>\n",
              "      <td>NaN</td>\n",
              "      <td>Worked at Company - 510 , Company - 658 , Comp...</td>\n",
              "      <td>2012_01</td>\n",
              "      <td>Senior</td>\n",
              "      <td>0</td>\n",
              "    </tr>\n",
              "    <tr>\n",
              "      <th>1</th>\n",
              "      <td>emp-112</td>\n",
              "      <td>NaN</td>\n",
              "      <td>Worked at Company - 42 , Company - 432 , Compa...</td>\n",
              "      <td>2012_02</td>\n",
              "      <td>VP</td>\n",
              "      <td>1</td>\n",
              "    </tr>\n",
              "    <tr>\n",
              "      <th>2</th>\n",
              "      <td>emp-114</td>\n",
              "      <td>NaN</td>\n",
              "      <td>Worked at Company - 99 , Company - 88 , Compan...</td>\n",
              "      <td>2012_02</td>\n",
              "      <td>EVP</td>\n",
              "      <td>1</td>\n",
              "    </tr>\n",
              "    <tr>\n",
              "      <th>3</th>\n",
              "      <td>emp-118</td>\n",
              "      <td>NaN</td>\n",
              "      <td>Worked at Company - 554 , Company - 304</td>\n",
              "      <td>2012_04</td>\n",
              "      <td>EVP</td>\n",
              "      <td>1</td>\n",
              "    </tr>\n",
              "    <tr>\n",
              "      <th>4</th>\n",
              "      <td>emp-12</td>\n",
              "      <td>NaN</td>\n",
              "      <td>Worked at Company - 548 , Company - 405</td>\n",
              "      <td>2006_09</td>\n",
              "      <td>VP</td>\n",
              "      <td>1</td>\n",
              "    </tr>\n",
              "  </tbody>\n",
              "</table>\n",
              "</div>\n",
              "      <button class=\"colab-df-convert\" onclick=\"convertToInteractive('df-cd8fc6c7-5a80-4b16-a876-d3a8d87d68d7')\"\n",
              "              title=\"Convert this dataframe to an interactive table.\"\n",
              "              style=\"display:none;\">\n",
              "        \n",
              "  <svg xmlns=\"http://www.w3.org/2000/svg\" height=\"24px\"viewBox=\"0 0 24 24\"\n",
              "       width=\"24px\">\n",
              "    <path d=\"M0 0h24v24H0V0z\" fill=\"none\"/>\n",
              "    <path d=\"M18.56 5.44l.94 2.06.94-2.06 2.06-.94-2.06-.94-.94-2.06-.94 2.06-2.06.94zm-11 1L8.5 8.5l.94-2.06 2.06-.94-2.06-.94L8.5 2.5l-.94 2.06-2.06.94zm10 10l.94 2.06.94-2.06 2.06-.94-2.06-.94-.94-2.06-.94 2.06-2.06.94z\"/><path d=\"M17.41 7.96l-1.37-1.37c-.4-.4-.92-.59-1.43-.59-.52 0-1.04.2-1.43.59L10.3 9.45l-7.72 7.72c-.78.78-.78 2.05 0 2.83L4 21.41c.39.39.9.59 1.41.59.51 0 1.02-.2 1.41-.59l7.78-7.78 2.81-2.81c.8-.78.8-2.07 0-2.86zM5.41 20L4 18.59l7.72-7.72 1.47 1.35L5.41 20z\"/>\n",
              "  </svg>\n",
              "      </button>\n",
              "      \n",
              "  <style>\n",
              "    .colab-df-container {\n",
              "      display:flex;\n",
              "      flex-wrap:wrap;\n",
              "      gap: 12px;\n",
              "    }\n",
              "\n",
              "    .colab-df-convert {\n",
              "      background-color: #E8F0FE;\n",
              "      border: none;\n",
              "      border-radius: 50%;\n",
              "      cursor: pointer;\n",
              "      display: none;\n",
              "      fill: #1967D2;\n",
              "      height: 32px;\n",
              "      padding: 0 0 0 0;\n",
              "      width: 32px;\n",
              "    }\n",
              "\n",
              "    .colab-df-convert:hover {\n",
              "      background-color: #E2EBFA;\n",
              "      box-shadow: 0px 1px 2px rgba(60, 64, 67, 0.3), 0px 1px 3px 1px rgba(60, 64, 67, 0.15);\n",
              "      fill: #174EA6;\n",
              "    }\n",
              "\n",
              "    [theme=dark] .colab-df-convert {\n",
              "      background-color: #3B4455;\n",
              "      fill: #D2E3FC;\n",
              "    }\n",
              "\n",
              "    [theme=dark] .colab-df-convert:hover {\n",
              "      background-color: #434B5C;\n",
              "      box-shadow: 0px 1px 3px 1px rgba(0, 0, 0, 0.15);\n",
              "      filter: drop-shadow(0px 1px 2px rgba(0, 0, 0, 0.3));\n",
              "      fill: #FFFFFF;\n",
              "    }\n",
              "  </style>\n",
              "\n",
              "      <script>\n",
              "        const buttonEl =\n",
              "          document.querySelector('#df-cd8fc6c7-5a80-4b16-a876-d3a8d87d68d7 button.colab-df-convert');\n",
              "        buttonEl.style.display =\n",
              "          google.colab.kernel.accessAllowed ? 'block' : 'none';\n",
              "\n",
              "        async function convertToInteractive(key) {\n",
              "          const element = document.querySelector('#df-cd8fc6c7-5a80-4b16-a876-d3a8d87d68d7');\n",
              "          const dataTable =\n",
              "            await google.colab.kernel.invokeFunction('convertToInteractive',\n",
              "                                                     [key], {});\n",
              "          if (!dataTable) return;\n",
              "\n",
              "          const docLinkHtml = 'Like what you see? Visit the ' +\n",
              "            '<a target=\"_blank\" href=https://colab.research.google.com/notebooks/data_table.ipynb>data table notebook</a>'\n",
              "            + ' to learn more about interactive tables.';\n",
              "          element.innerHTML = '';\n",
              "          dataTable['output_type'] = 'display_data';\n",
              "          await google.colab.output.renderOutput(dataTable, element);\n",
              "          const docLink = document.createElement('div');\n",
              "          docLink.innerHTML = docLinkHtml;\n",
              "          element.appendChild(docLink);\n",
              "        }\n",
              "      </script>\n",
              "    </div>\n",
              "  </div>\n",
              "  "
            ]
          },
          "metadata": {},
          "execution_count": 144
        }
      ],
      "source": [
        "test_emp_data.head()"
      ]
    },
    {
      "cell_type": "code",
      "execution_count": null,
      "metadata": {
        "id": "YYuVI-nWejmu"
      },
      "outputs": [],
      "source": [
        "test_final = pd.merge(test_emp_data,test_work, how='left', on='EmployeeID')"
      ]
    },
    {
      "cell_type": "code",
      "execution_count": null,
      "metadata": {
        "id": "aKZdH43-el31",
        "colab": {
          "base_uri": "https://localhost:8080/",
          "height": 510
        },
        "outputId": "70566f1b-fc87-4329-e8af-4a631725db60"
      },
      "outputs": [
        {
          "output_type": "execute_result",
          "data": {
            "text/plain": [
              "  EmployeeID  Left_Company                                        Job_History  \\\n",
              "0    emp-106           NaN  Worked at Company - 510 , Company - 658 , Comp...   \n",
              "1    emp-106           NaN  Worked at Company - 510 , Company - 658 , Comp...   \n",
              "2    emp-106           NaN  Worked at Company - 510 , Company - 658 , Comp...   \n",
              "3    emp-106           NaN  Worked at Company - 510 , Company - 658 , Comp...   \n",
              "4    emp-106           NaN  Worked at Company - 510 , Company - 658 , Comp...   \n",
              "\n",
              "  Joining_Date Designation  Sex  TotalWorkingHours  Billable_Hours  \\\n",
              "0      2012_01      Senior    0               96.0            16.0   \n",
              "1      2012_01      Senior    0               80.0             0.0   \n",
              "2      2012_01      Senior    0              200.0            16.0   \n",
              "3      2012_01      Senior    0              165.0           114.0   \n",
              "4      2012_01      Senior    0              251.0           219.0   \n",
              "\n",
              "   Hours_off_Duty  Touring_Hours  NoOfProjects  ActualTimeSpent  \n",
              "0            40.0            2.0             2               42  \n",
              "1             8.0            0.0             0                0  \n",
              "2             0.0            0.0             1                0  \n",
              "3            40.0            0.0             1               28  \n",
              "4             8.0            0.0             1               63  "
            ],
            "text/html": [
              "\n",
              "  <div id=\"df-4d8f320c-a331-4807-bb75-38824aec3c47\">\n",
              "    <div class=\"colab-df-container\">\n",
              "      <div>\n",
              "<style scoped>\n",
              "    .dataframe tbody tr th:only-of-type {\n",
              "        vertical-align: middle;\n",
              "    }\n",
              "\n",
              "    .dataframe tbody tr th {\n",
              "        vertical-align: top;\n",
              "    }\n",
              "\n",
              "    .dataframe thead th {\n",
              "        text-align: right;\n",
              "    }\n",
              "</style>\n",
              "<table border=\"1\" class=\"dataframe\">\n",
              "  <thead>\n",
              "    <tr style=\"text-align: right;\">\n",
              "      <th></th>\n",
              "      <th>EmployeeID</th>\n",
              "      <th>Left_Company</th>\n",
              "      <th>Job_History</th>\n",
              "      <th>Joining_Date</th>\n",
              "      <th>Designation</th>\n",
              "      <th>Sex</th>\n",
              "      <th>TotalWorkingHours</th>\n",
              "      <th>Billable_Hours</th>\n",
              "      <th>Hours_off_Duty</th>\n",
              "      <th>Touring_Hours</th>\n",
              "      <th>NoOfProjects</th>\n",
              "      <th>ActualTimeSpent</th>\n",
              "    </tr>\n",
              "  </thead>\n",
              "  <tbody>\n",
              "    <tr>\n",
              "      <th>0</th>\n",
              "      <td>emp-106</td>\n",
              "      <td>NaN</td>\n",
              "      <td>Worked at Company - 510 , Company - 658 , Comp...</td>\n",
              "      <td>2012_01</td>\n",
              "      <td>Senior</td>\n",
              "      <td>0</td>\n",
              "      <td>96.0</td>\n",
              "      <td>16.0</td>\n",
              "      <td>40.0</td>\n",
              "      <td>2.0</td>\n",
              "      <td>2</td>\n",
              "      <td>42</td>\n",
              "    </tr>\n",
              "    <tr>\n",
              "      <th>1</th>\n",
              "      <td>emp-106</td>\n",
              "      <td>NaN</td>\n",
              "      <td>Worked at Company - 510 , Company - 658 , Comp...</td>\n",
              "      <td>2012_01</td>\n",
              "      <td>Senior</td>\n",
              "      <td>0</td>\n",
              "      <td>80.0</td>\n",
              "      <td>0.0</td>\n",
              "      <td>8.0</td>\n",
              "      <td>0.0</td>\n",
              "      <td>0</td>\n",
              "      <td>0</td>\n",
              "    </tr>\n",
              "    <tr>\n",
              "      <th>2</th>\n",
              "      <td>emp-106</td>\n",
              "      <td>NaN</td>\n",
              "      <td>Worked at Company - 510 , Company - 658 , Comp...</td>\n",
              "      <td>2012_01</td>\n",
              "      <td>Senior</td>\n",
              "      <td>0</td>\n",
              "      <td>200.0</td>\n",
              "      <td>16.0</td>\n",
              "      <td>0.0</td>\n",
              "      <td>0.0</td>\n",
              "      <td>1</td>\n",
              "      <td>0</td>\n",
              "    </tr>\n",
              "    <tr>\n",
              "      <th>3</th>\n",
              "      <td>emp-106</td>\n",
              "      <td>NaN</td>\n",
              "      <td>Worked at Company - 510 , Company - 658 , Comp...</td>\n",
              "      <td>2012_01</td>\n",
              "      <td>Senior</td>\n",
              "      <td>0</td>\n",
              "      <td>165.0</td>\n",
              "      <td>114.0</td>\n",
              "      <td>40.0</td>\n",
              "      <td>0.0</td>\n",
              "      <td>1</td>\n",
              "      <td>28</td>\n",
              "    </tr>\n",
              "    <tr>\n",
              "      <th>4</th>\n",
              "      <td>emp-106</td>\n",
              "      <td>NaN</td>\n",
              "      <td>Worked at Company - 510 , Company - 658 , Comp...</td>\n",
              "      <td>2012_01</td>\n",
              "      <td>Senior</td>\n",
              "      <td>0</td>\n",
              "      <td>251.0</td>\n",
              "      <td>219.0</td>\n",
              "      <td>8.0</td>\n",
              "      <td>0.0</td>\n",
              "      <td>1</td>\n",
              "      <td>63</td>\n",
              "    </tr>\n",
              "  </tbody>\n",
              "</table>\n",
              "</div>\n",
              "      <button class=\"colab-df-convert\" onclick=\"convertToInteractive('df-4d8f320c-a331-4807-bb75-38824aec3c47')\"\n",
              "              title=\"Convert this dataframe to an interactive table.\"\n",
              "              style=\"display:none;\">\n",
              "        \n",
              "  <svg xmlns=\"http://www.w3.org/2000/svg\" height=\"24px\"viewBox=\"0 0 24 24\"\n",
              "       width=\"24px\">\n",
              "    <path d=\"M0 0h24v24H0V0z\" fill=\"none\"/>\n",
              "    <path d=\"M18.56 5.44l.94 2.06.94-2.06 2.06-.94-2.06-.94-.94-2.06-.94 2.06-2.06.94zm-11 1L8.5 8.5l.94-2.06 2.06-.94-2.06-.94L8.5 2.5l-.94 2.06-2.06.94zm10 10l.94 2.06.94-2.06 2.06-.94-2.06-.94-.94-2.06-.94 2.06-2.06.94z\"/><path d=\"M17.41 7.96l-1.37-1.37c-.4-.4-.92-.59-1.43-.59-.52 0-1.04.2-1.43.59L10.3 9.45l-7.72 7.72c-.78.78-.78 2.05 0 2.83L4 21.41c.39.39.9.59 1.41.59.51 0 1.02-.2 1.41-.59l7.78-7.78 2.81-2.81c.8-.78.8-2.07 0-2.86zM5.41 20L4 18.59l7.72-7.72 1.47 1.35L5.41 20z\"/>\n",
              "  </svg>\n",
              "      </button>\n",
              "      \n",
              "  <style>\n",
              "    .colab-df-container {\n",
              "      display:flex;\n",
              "      flex-wrap:wrap;\n",
              "      gap: 12px;\n",
              "    }\n",
              "\n",
              "    .colab-df-convert {\n",
              "      background-color: #E8F0FE;\n",
              "      border: none;\n",
              "      border-radius: 50%;\n",
              "      cursor: pointer;\n",
              "      display: none;\n",
              "      fill: #1967D2;\n",
              "      height: 32px;\n",
              "      padding: 0 0 0 0;\n",
              "      width: 32px;\n",
              "    }\n",
              "\n",
              "    .colab-df-convert:hover {\n",
              "      background-color: #E2EBFA;\n",
              "      box-shadow: 0px 1px 2px rgba(60, 64, 67, 0.3), 0px 1px 3px 1px rgba(60, 64, 67, 0.15);\n",
              "      fill: #174EA6;\n",
              "    }\n",
              "\n",
              "    [theme=dark] .colab-df-convert {\n",
              "      background-color: #3B4455;\n",
              "      fill: #D2E3FC;\n",
              "    }\n",
              "\n",
              "    [theme=dark] .colab-df-convert:hover {\n",
              "      background-color: #434B5C;\n",
              "      box-shadow: 0px 1px 3px 1px rgba(0, 0, 0, 0.15);\n",
              "      filter: drop-shadow(0px 1px 2px rgba(0, 0, 0, 0.3));\n",
              "      fill: #FFFFFF;\n",
              "    }\n",
              "  </style>\n",
              "\n",
              "      <script>\n",
              "        const buttonEl =\n",
              "          document.querySelector('#df-4d8f320c-a331-4807-bb75-38824aec3c47 button.colab-df-convert');\n",
              "        buttonEl.style.display =\n",
              "          google.colab.kernel.accessAllowed ? 'block' : 'none';\n",
              "\n",
              "        async function convertToInteractive(key) {\n",
              "          const element = document.querySelector('#df-4d8f320c-a331-4807-bb75-38824aec3c47');\n",
              "          const dataTable =\n",
              "            await google.colab.kernel.invokeFunction('convertToInteractive',\n",
              "                                                     [key], {});\n",
              "          if (!dataTable) return;\n",
              "\n",
              "          const docLinkHtml = 'Like what you see? Visit the ' +\n",
              "            '<a target=\"_blank\" href=https://colab.research.google.com/notebooks/data_table.ipynb>data table notebook</a>'\n",
              "            + ' to learn more about interactive tables.';\n",
              "          element.innerHTML = '';\n",
              "          dataTable['output_type'] = 'display_data';\n",
              "          await google.colab.output.renderOutput(dataTable, element);\n",
              "          const docLink = document.createElement('div');\n",
              "          docLink.innerHTML = docLinkHtml;\n",
              "          element.appendChild(docLink);\n",
              "        }\n",
              "      </script>\n",
              "    </div>\n",
              "  </div>\n",
              "  "
            ]
          },
          "metadata": {},
          "execution_count": 146
        }
      ],
      "source": [
        "test_final.head()"
      ]
    },
    {
      "cell_type": "code",
      "execution_count": null,
      "metadata": {
        "id": "Q0HPTbfjenxz"
      },
      "outputs": [],
      "source": [
        "\n",
        "test = test_final.groupby(by='EmployeeID').agg('max')"
      ]
    },
    {
      "cell_type": "code",
      "execution_count": null,
      "metadata": {
        "id": "Rn8da6W-ep75",
        "colab": {
          "base_uri": "https://localhost:8080/"
        },
        "outputId": "b49a4f3b-a3fa-42c0-eddf-d0fc29d4de0b"
      },
      "outputs": [
        {
          "output_type": "execute_result",
          "data": {
            "text/plain": [
              "(51, 11)"
            ]
          },
          "metadata": {},
          "execution_count": 148
        }
      ],
      "source": [
        "test.shape"
      ]
    },
    {
      "cell_type": "code",
      "execution_count": null,
      "metadata": {
        "id": "6PHzUlkeervp"
      },
      "outputs": [],
      "source": [
        "\n",
        "train.to_csv(\"train.csv\", index=True)\n",
        "test.to_csv(\"test.csv\", index=True)"
      ]
    },
    {
      "cell_type": "markdown",
      "metadata": {
        "id": "enEy6Hj-e1Wm"
      },
      "source": [
        "## Feature engineering:"
      ]
    },
    {
      "cell_type": "code",
      "execution_count": null,
      "metadata": {
        "id": "19_Z9XpbeuNn"
      },
      "outputs": [],
      "source": [
        "train_final = pd.read_csv(\"/content/train.csv\")\n",
        "test_final = pd.read_csv(\"/content/test.csv\")"
      ]
    },
    {
      "cell_type": "code",
      "execution_count": null,
      "metadata": {
        "id": "km4zvSmHe79N",
        "colab": {
          "base_uri": "https://localhost:8080/"
        },
        "outputId": "a69c6eeb-1198-42bd-f270-0b35d32cec88"
      },
      "outputs": [
        {
          "output_type": "stream",
          "name": "stdout",
          "text": [
            "Index(['EmployeeID', 'Left_Company', 'Job_History', 'Joining_Date',\n",
            "       'Designation', 'Sex', 'TotalWorkingHours', 'Billable_Hours',\n",
            "       'Hours_off_Duty', 'Touring_Hours', 'NoOfProjects', 'ActualTimeSpent'],\n",
            "      dtype='object')\n"
          ]
        }
      ],
      "source": [
        "\n",
        "print((train_final.columns))"
      ]
    },
    {
      "cell_type": "code",
      "execution_count": null,
      "metadata": {
        "id": "Ny2WbVdRe-G9",
        "colab": {
          "base_uri": "https://localhost:8080/"
        },
        "outputId": "935144c5-405a-404c-91fa-3bd58b71962a"
      },
      "outputs": [
        {
          "output_type": "stream",
          "name": "stdout",
          "text": [
            "Index(['EmployeeID', 'Left_Company', 'Job_History', 'Joining_Date',\n",
            "       'Designation', 'Sex', 'TotalWorkingHours', 'Billable_Hours',\n",
            "       'Hours_off_Duty', 'Touring_Hours', 'NoOfProjects', 'ActualTimeSpent'],\n",
            "      dtype='object')\n"
          ]
        }
      ],
      "source": [
        "print(test_final.columns)"
      ]
    },
    {
      "cell_type": "code",
      "execution_count": null,
      "metadata": {
        "id": "7lepDjoofABR"
      },
      "outputs": [],
      "source": [
        "#Dropping\n",
        "train_final.drop(columns=['EmployeeID'], axis=1,inplace=True)\n",
        "test_final.drop(columns=['EmployeeID','Left_Company'], axis=1, inplace=True)"
      ]
    },
    {
      "cell_type": "code",
      "execution_count": null,
      "metadata": {
        "id": "2o17WRH8fBn1",
        "colab": {
          "base_uri": "https://localhost:8080/"
        },
        "outputId": "e76cb38a-b76d-424e-d58e-7d38f2d1d5f7"
      },
      "outputs": [
        {
          "output_type": "stream",
          "name": "stdout",
          "text": [
            "Train data shape : (245, 11) \n",
            "Test data shape: (51, 10) \n"
          ]
        }
      ],
      "source": [
        "print(\"Train data shape : {} \" .format(train_final.shape))\n",
        "print(\"Test data shape: {} \".format(test_final.shape))"
      ]
    },
    {
      "cell_type": "code",
      "execution_count": null,
      "metadata": {
        "id": "vnhPM_MAfDV1",
        "colab": {
          "base_uri": "https://localhost:8080/",
          "height": 319
        },
        "outputId": "90c5ea6b-bbc2-4b2a-a3ea-924558d4985b"
      },
      "outputs": [
        {
          "output_type": "execute_result",
          "data": {
            "text/plain": [
              "   Left_Company                                        Job_History  \\\n",
              "0             0  Worked at Company - 639 , Company - 212 , Comp...   \n",
              "1             1  Worked at Company - 816 , Company - 724 , Comp...   \n",
              "2             0            Worked at Company - 562 , Company - 319   \n",
              "3             0  Worked at Company - 212 , Company - 668 , Comp...   \n",
              "4             0                            Worked at Company - 234   \n",
              "\n",
              "  Joining_Date Designation  Sex  TotalWorkingHours  Billable_Hours  \\\n",
              "0      2011_01          MD    1              205.0           189.0   \n",
              "1      2006_02          VP    0              241.0           233.0   \n",
              "2      2011_12      Senior    1              278.0           264.0   \n",
              "3      2012_01      Senior    1              345.5           233.5   \n",
              "4      2011_12      Senior    1              270.0           249.0   \n",
              "\n",
              "   Hours_off_Duty  Touring_Hours  NoOfProjects  ActualTimeSpent  \n",
              "0            72.0          189.0             3              231  \n",
              "1           120.0          186.0             2              147  \n",
              "2            40.0          264.0             3              308  \n",
              "3            64.0            0.0             2              217  \n",
              "4            88.0          213.0             2              231  "
            ],
            "text/html": [
              "\n",
              "  <div id=\"df-8127a720-84f8-485a-98a9-03899aa6633f\">\n",
              "    <div class=\"colab-df-container\">\n",
              "      <div>\n",
              "<style scoped>\n",
              "    .dataframe tbody tr th:only-of-type {\n",
              "        vertical-align: middle;\n",
              "    }\n",
              "\n",
              "    .dataframe tbody tr th {\n",
              "        vertical-align: top;\n",
              "    }\n",
              "\n",
              "    .dataframe thead th {\n",
              "        text-align: right;\n",
              "    }\n",
              "</style>\n",
              "<table border=\"1\" class=\"dataframe\">\n",
              "  <thead>\n",
              "    <tr style=\"text-align: right;\">\n",
              "      <th></th>\n",
              "      <th>Left_Company</th>\n",
              "      <th>Job_History</th>\n",
              "      <th>Joining_Date</th>\n",
              "      <th>Designation</th>\n",
              "      <th>Sex</th>\n",
              "      <th>TotalWorkingHours</th>\n",
              "      <th>Billable_Hours</th>\n",
              "      <th>Hours_off_Duty</th>\n",
              "      <th>Touring_Hours</th>\n",
              "      <th>NoOfProjects</th>\n",
              "      <th>ActualTimeSpent</th>\n",
              "    </tr>\n",
              "  </thead>\n",
              "  <tbody>\n",
              "    <tr>\n",
              "      <th>0</th>\n",
              "      <td>0</td>\n",
              "      <td>Worked at Company - 639 , Company - 212 , Comp...</td>\n",
              "      <td>2011_01</td>\n",
              "      <td>MD</td>\n",
              "      <td>1</td>\n",
              "      <td>205.0</td>\n",
              "      <td>189.0</td>\n",
              "      <td>72.0</td>\n",
              "      <td>189.0</td>\n",
              "      <td>3</td>\n",
              "      <td>231</td>\n",
              "    </tr>\n",
              "    <tr>\n",
              "      <th>1</th>\n",
              "      <td>1</td>\n",
              "      <td>Worked at Company - 816 , Company - 724 , Comp...</td>\n",
              "      <td>2006_02</td>\n",
              "      <td>VP</td>\n",
              "      <td>0</td>\n",
              "      <td>241.0</td>\n",
              "      <td>233.0</td>\n",
              "      <td>120.0</td>\n",
              "      <td>186.0</td>\n",
              "      <td>2</td>\n",
              "      <td>147</td>\n",
              "    </tr>\n",
              "    <tr>\n",
              "      <th>2</th>\n",
              "      <td>0</td>\n",
              "      <td>Worked at Company - 562 , Company - 319</td>\n",
              "      <td>2011_12</td>\n",
              "      <td>Senior</td>\n",
              "      <td>1</td>\n",
              "      <td>278.0</td>\n",
              "      <td>264.0</td>\n",
              "      <td>40.0</td>\n",
              "      <td>264.0</td>\n",
              "      <td>3</td>\n",
              "      <td>308</td>\n",
              "    </tr>\n",
              "    <tr>\n",
              "      <th>3</th>\n",
              "      <td>0</td>\n",
              "      <td>Worked at Company - 212 , Company - 668 , Comp...</td>\n",
              "      <td>2012_01</td>\n",
              "      <td>Senior</td>\n",
              "      <td>1</td>\n",
              "      <td>345.5</td>\n",
              "      <td>233.5</td>\n",
              "      <td>64.0</td>\n",
              "      <td>0.0</td>\n",
              "      <td>2</td>\n",
              "      <td>217</td>\n",
              "    </tr>\n",
              "    <tr>\n",
              "      <th>4</th>\n",
              "      <td>0</td>\n",
              "      <td>Worked at Company - 234</td>\n",
              "      <td>2011_12</td>\n",
              "      <td>Senior</td>\n",
              "      <td>1</td>\n",
              "      <td>270.0</td>\n",
              "      <td>249.0</td>\n",
              "      <td>88.0</td>\n",
              "      <td>213.0</td>\n",
              "      <td>2</td>\n",
              "      <td>231</td>\n",
              "    </tr>\n",
              "  </tbody>\n",
              "</table>\n",
              "</div>\n",
              "      <button class=\"colab-df-convert\" onclick=\"convertToInteractive('df-8127a720-84f8-485a-98a9-03899aa6633f')\"\n",
              "              title=\"Convert this dataframe to an interactive table.\"\n",
              "              style=\"display:none;\">\n",
              "        \n",
              "  <svg xmlns=\"http://www.w3.org/2000/svg\" height=\"24px\"viewBox=\"0 0 24 24\"\n",
              "       width=\"24px\">\n",
              "    <path d=\"M0 0h24v24H0V0z\" fill=\"none\"/>\n",
              "    <path d=\"M18.56 5.44l.94 2.06.94-2.06 2.06-.94-2.06-.94-.94-2.06-.94 2.06-2.06.94zm-11 1L8.5 8.5l.94-2.06 2.06-.94-2.06-.94L8.5 2.5l-.94 2.06-2.06.94zm10 10l.94 2.06.94-2.06 2.06-.94-2.06-.94-.94-2.06-.94 2.06-2.06.94z\"/><path d=\"M17.41 7.96l-1.37-1.37c-.4-.4-.92-.59-1.43-.59-.52 0-1.04.2-1.43.59L10.3 9.45l-7.72 7.72c-.78.78-.78 2.05 0 2.83L4 21.41c.39.39.9.59 1.41.59.51 0 1.02-.2 1.41-.59l7.78-7.78 2.81-2.81c.8-.78.8-2.07 0-2.86zM5.41 20L4 18.59l7.72-7.72 1.47 1.35L5.41 20z\"/>\n",
              "  </svg>\n",
              "      </button>\n",
              "      \n",
              "  <style>\n",
              "    .colab-df-container {\n",
              "      display:flex;\n",
              "      flex-wrap:wrap;\n",
              "      gap: 12px;\n",
              "    }\n",
              "\n",
              "    .colab-df-convert {\n",
              "      background-color: #E8F0FE;\n",
              "      border: none;\n",
              "      border-radius: 50%;\n",
              "      cursor: pointer;\n",
              "      display: none;\n",
              "      fill: #1967D2;\n",
              "      height: 32px;\n",
              "      padding: 0 0 0 0;\n",
              "      width: 32px;\n",
              "    }\n",
              "\n",
              "    .colab-df-convert:hover {\n",
              "      background-color: #E2EBFA;\n",
              "      box-shadow: 0px 1px 2px rgba(60, 64, 67, 0.3), 0px 1px 3px 1px rgba(60, 64, 67, 0.15);\n",
              "      fill: #174EA6;\n",
              "    }\n",
              "\n",
              "    [theme=dark] .colab-df-convert {\n",
              "      background-color: #3B4455;\n",
              "      fill: #D2E3FC;\n",
              "    }\n",
              "\n",
              "    [theme=dark] .colab-df-convert:hover {\n",
              "      background-color: #434B5C;\n",
              "      box-shadow: 0px 1px 3px 1px rgba(0, 0, 0, 0.15);\n",
              "      filter: drop-shadow(0px 1px 2px rgba(0, 0, 0, 0.3));\n",
              "      fill: #FFFFFF;\n",
              "    }\n",
              "  </style>\n",
              "\n",
              "      <script>\n",
              "        const buttonEl =\n",
              "          document.querySelector('#df-8127a720-84f8-485a-98a9-03899aa6633f button.colab-df-convert');\n",
              "        buttonEl.style.display =\n",
              "          google.colab.kernel.accessAllowed ? 'block' : 'none';\n",
              "\n",
              "        async function convertToInteractive(key) {\n",
              "          const element = document.querySelector('#df-8127a720-84f8-485a-98a9-03899aa6633f');\n",
              "          const dataTable =\n",
              "            await google.colab.kernel.invokeFunction('convertToInteractive',\n",
              "                                                     [key], {});\n",
              "          if (!dataTable) return;\n",
              "\n",
              "          const docLinkHtml = 'Like what you see? Visit the ' +\n",
              "            '<a target=\"_blank\" href=https://colab.research.google.com/notebooks/data_table.ipynb>data table notebook</a>'\n",
              "            + ' to learn more about interactive tables.';\n",
              "          element.innerHTML = '';\n",
              "          dataTable['output_type'] = 'display_data';\n",
              "          await google.colab.output.renderOutput(dataTable, element);\n",
              "          const docLink = document.createElement('div');\n",
              "          docLink.innerHTML = docLinkHtml;\n",
              "          element.appendChild(docLink);\n",
              "        }\n",
              "      </script>\n",
              "    </div>\n",
              "  </div>\n",
              "  "
            ]
          },
          "metadata": {},
          "execution_count": 155
        }
      ],
      "source": [
        "train_final.head()"
      ]
    },
    {
      "cell_type": "code",
      "execution_count": null,
      "metadata": {
        "id": "9dTzEPygfFTD"
      },
      "outputs": [],
      "source": [
        "# Splitting the Joini_date column into Joini year & Joiing month.\n",
        "\n",
        "train_final[['joining_year','joining_month']] = train_final['Joining_Date'].str.split(\"_\", expand=True)\n",
        "\n",
        "\n",
        "test_final[['joining_year','joining_month']] = test_final['Joining_Date'].str.split(\"_\", expand=True)"
      ]
    },
    {
      "cell_type": "code",
      "execution_count": null,
      "metadata": {
        "id": "w7kRMyddfHBc",
        "colab": {
          "base_uri": "https://localhost:8080/",
          "height": 634
        },
        "outputId": "3dd253a7-3f87-4532-ca8b-28cb74ae9858"
      },
      "outputs": [
        {
          "output_type": "execute_result",
          "data": {
            "text/plain": [
              "   Left_Company                                        Job_History  \\\n",
              "0             0  Worked at Company - 639 , Company - 212 , Comp...   \n",
              "1             1  Worked at Company - 816 , Company - 724 , Comp...   \n",
              "2             0            Worked at Company - 562 , Company - 319   \n",
              "3             0  Worked at Company - 212 , Company - 668 , Comp...   \n",
              "4             0                            Worked at Company - 234   \n",
              "\n",
              "  Joining_Date Designation  Sex  TotalWorkingHours  Billable_Hours  \\\n",
              "0      2011_01          MD    1              205.0           189.0   \n",
              "1      2006_02          VP    0              241.0           233.0   \n",
              "2      2011_12      Senior    1              278.0           264.0   \n",
              "3      2012_01      Senior    1              345.5           233.5   \n",
              "4      2011_12      Senior    1              270.0           249.0   \n",
              "\n",
              "   Hours_off_Duty  Touring_Hours  NoOfProjects  ActualTimeSpent joining_year  \\\n",
              "0            72.0          189.0             3              231         2011   \n",
              "1           120.0          186.0             2              147         2006   \n",
              "2            40.0          264.0             3              308         2011   \n",
              "3            64.0            0.0             2              217         2012   \n",
              "4            88.0          213.0             2              231         2011   \n",
              "\n",
              "  joining_month  \n",
              "0            01  \n",
              "1            02  \n",
              "2            12  \n",
              "3            01  \n",
              "4            12  "
            ],
            "text/html": [
              "\n",
              "  <div id=\"df-887b627f-78b5-4253-97e4-0f52d0383392\">\n",
              "    <div class=\"colab-df-container\">\n",
              "      <div>\n",
              "<style scoped>\n",
              "    .dataframe tbody tr th:only-of-type {\n",
              "        vertical-align: middle;\n",
              "    }\n",
              "\n",
              "    .dataframe tbody tr th {\n",
              "        vertical-align: top;\n",
              "    }\n",
              "\n",
              "    .dataframe thead th {\n",
              "        text-align: right;\n",
              "    }\n",
              "</style>\n",
              "<table border=\"1\" class=\"dataframe\">\n",
              "  <thead>\n",
              "    <tr style=\"text-align: right;\">\n",
              "      <th></th>\n",
              "      <th>Left_Company</th>\n",
              "      <th>Job_History</th>\n",
              "      <th>Joining_Date</th>\n",
              "      <th>Designation</th>\n",
              "      <th>Sex</th>\n",
              "      <th>TotalWorkingHours</th>\n",
              "      <th>Billable_Hours</th>\n",
              "      <th>Hours_off_Duty</th>\n",
              "      <th>Touring_Hours</th>\n",
              "      <th>NoOfProjects</th>\n",
              "      <th>ActualTimeSpent</th>\n",
              "      <th>joining_year</th>\n",
              "      <th>joining_month</th>\n",
              "    </tr>\n",
              "  </thead>\n",
              "  <tbody>\n",
              "    <tr>\n",
              "      <th>0</th>\n",
              "      <td>0</td>\n",
              "      <td>Worked at Company - 639 , Company - 212 , Comp...</td>\n",
              "      <td>2011_01</td>\n",
              "      <td>MD</td>\n",
              "      <td>1</td>\n",
              "      <td>205.0</td>\n",
              "      <td>189.0</td>\n",
              "      <td>72.0</td>\n",
              "      <td>189.0</td>\n",
              "      <td>3</td>\n",
              "      <td>231</td>\n",
              "      <td>2011</td>\n",
              "      <td>01</td>\n",
              "    </tr>\n",
              "    <tr>\n",
              "      <th>1</th>\n",
              "      <td>1</td>\n",
              "      <td>Worked at Company - 816 , Company - 724 , Comp...</td>\n",
              "      <td>2006_02</td>\n",
              "      <td>VP</td>\n",
              "      <td>0</td>\n",
              "      <td>241.0</td>\n",
              "      <td>233.0</td>\n",
              "      <td>120.0</td>\n",
              "      <td>186.0</td>\n",
              "      <td>2</td>\n",
              "      <td>147</td>\n",
              "      <td>2006</td>\n",
              "      <td>02</td>\n",
              "    </tr>\n",
              "    <tr>\n",
              "      <th>2</th>\n",
              "      <td>0</td>\n",
              "      <td>Worked at Company - 562 , Company - 319</td>\n",
              "      <td>2011_12</td>\n",
              "      <td>Senior</td>\n",
              "      <td>1</td>\n",
              "      <td>278.0</td>\n",
              "      <td>264.0</td>\n",
              "      <td>40.0</td>\n",
              "      <td>264.0</td>\n",
              "      <td>3</td>\n",
              "      <td>308</td>\n",
              "      <td>2011</td>\n",
              "      <td>12</td>\n",
              "    </tr>\n",
              "    <tr>\n",
              "      <th>3</th>\n",
              "      <td>0</td>\n",
              "      <td>Worked at Company - 212 , Company - 668 , Comp...</td>\n",
              "      <td>2012_01</td>\n",
              "      <td>Senior</td>\n",
              "      <td>1</td>\n",
              "      <td>345.5</td>\n",
              "      <td>233.5</td>\n",
              "      <td>64.0</td>\n",
              "      <td>0.0</td>\n",
              "      <td>2</td>\n",
              "      <td>217</td>\n",
              "      <td>2012</td>\n",
              "      <td>01</td>\n",
              "    </tr>\n",
              "    <tr>\n",
              "      <th>4</th>\n",
              "      <td>0</td>\n",
              "      <td>Worked at Company - 234</td>\n",
              "      <td>2011_12</td>\n",
              "      <td>Senior</td>\n",
              "      <td>1</td>\n",
              "      <td>270.0</td>\n",
              "      <td>249.0</td>\n",
              "      <td>88.0</td>\n",
              "      <td>213.0</td>\n",
              "      <td>2</td>\n",
              "      <td>231</td>\n",
              "      <td>2011</td>\n",
              "      <td>12</td>\n",
              "    </tr>\n",
              "  </tbody>\n",
              "</table>\n",
              "</div>\n",
              "      <button class=\"colab-df-convert\" onclick=\"convertToInteractive('df-887b627f-78b5-4253-97e4-0f52d0383392')\"\n",
              "              title=\"Convert this dataframe to an interactive table.\"\n",
              "              style=\"display:none;\">\n",
              "        \n",
              "  <svg xmlns=\"http://www.w3.org/2000/svg\" height=\"24px\"viewBox=\"0 0 24 24\"\n",
              "       width=\"24px\">\n",
              "    <path d=\"M0 0h24v24H0V0z\" fill=\"none\"/>\n",
              "    <path d=\"M18.56 5.44l.94 2.06.94-2.06 2.06-.94-2.06-.94-.94-2.06-.94 2.06-2.06.94zm-11 1L8.5 8.5l.94-2.06 2.06-.94-2.06-.94L8.5 2.5l-.94 2.06-2.06.94zm10 10l.94 2.06.94-2.06 2.06-.94-2.06-.94-.94-2.06-.94 2.06-2.06.94z\"/><path d=\"M17.41 7.96l-1.37-1.37c-.4-.4-.92-.59-1.43-.59-.52 0-1.04.2-1.43.59L10.3 9.45l-7.72 7.72c-.78.78-.78 2.05 0 2.83L4 21.41c.39.39.9.59 1.41.59.51 0 1.02-.2 1.41-.59l7.78-7.78 2.81-2.81c.8-.78.8-2.07 0-2.86zM5.41 20L4 18.59l7.72-7.72 1.47 1.35L5.41 20z\"/>\n",
              "  </svg>\n",
              "      </button>\n",
              "      \n",
              "  <style>\n",
              "    .colab-df-container {\n",
              "      display:flex;\n",
              "      flex-wrap:wrap;\n",
              "      gap: 12px;\n",
              "    }\n",
              "\n",
              "    .colab-df-convert {\n",
              "      background-color: #E8F0FE;\n",
              "      border: none;\n",
              "      border-radius: 50%;\n",
              "      cursor: pointer;\n",
              "      display: none;\n",
              "      fill: #1967D2;\n",
              "      height: 32px;\n",
              "      padding: 0 0 0 0;\n",
              "      width: 32px;\n",
              "    }\n",
              "\n",
              "    .colab-df-convert:hover {\n",
              "      background-color: #E2EBFA;\n",
              "      box-shadow: 0px 1px 2px rgba(60, 64, 67, 0.3), 0px 1px 3px 1px rgba(60, 64, 67, 0.15);\n",
              "      fill: #174EA6;\n",
              "    }\n",
              "\n",
              "    [theme=dark] .colab-df-convert {\n",
              "      background-color: #3B4455;\n",
              "      fill: #D2E3FC;\n",
              "    }\n",
              "\n",
              "    [theme=dark] .colab-df-convert:hover {\n",
              "      background-color: #434B5C;\n",
              "      box-shadow: 0px 1px 3px 1px rgba(0, 0, 0, 0.15);\n",
              "      filter: drop-shadow(0px 1px 2px rgba(0, 0, 0, 0.3));\n",
              "      fill: #FFFFFF;\n",
              "    }\n",
              "  </style>\n",
              "\n",
              "      <script>\n",
              "        const buttonEl =\n",
              "          document.querySelector('#df-887b627f-78b5-4253-97e4-0f52d0383392 button.colab-df-convert');\n",
              "        buttonEl.style.display =\n",
              "          google.colab.kernel.accessAllowed ? 'block' : 'none';\n",
              "\n",
              "        async function convertToInteractive(key) {\n",
              "          const element = document.querySelector('#df-887b627f-78b5-4253-97e4-0f52d0383392');\n",
              "          const dataTable =\n",
              "            await google.colab.kernel.invokeFunction('convertToInteractive',\n",
              "                                                     [key], {});\n",
              "          if (!dataTable) return;\n",
              "\n",
              "          const docLinkHtml = 'Like what you see? Visit the ' +\n",
              "            '<a target=\"_blank\" href=https://colab.research.google.com/notebooks/data_table.ipynb>data table notebook</a>'\n",
              "            + ' to learn more about interactive tables.';\n",
              "          element.innerHTML = '';\n",
              "          dataTable['output_type'] = 'display_data';\n",
              "          await google.colab.output.renderOutput(dataTable, element);\n",
              "          const docLink = document.createElement('div');\n",
              "          docLink.innerHTML = docLinkHtml;\n",
              "          element.appendChild(docLink);\n",
              "        }\n",
              "      </script>\n",
              "    </div>\n",
              "  </div>\n",
              "  "
            ]
          },
          "metadata": {},
          "execution_count": 157
        }
      ],
      "source": [
        "#checking\n",
        "train_final.head()"
      ]
    },
    {
      "cell_type": "code",
      "execution_count": null,
      "metadata": {
        "id": "IB1owucdfIzU"
      },
      "outputs": [],
      "source": [
        "train_final['job_count'] = train_final['Job_History'].str.split(',').str.len()\n",
        "\n",
        "test_final['job_count'] = test_final['Job_History'].str.split(',').str.len()"
      ]
    },
    {
      "cell_type": "code",
      "execution_count": null,
      "metadata": {
        "id": "TLqrbWZhfKhN"
      },
      "outputs": [],
      "source": [
        "#drop\n",
        "\n",
        "train_final.drop(columns=['Joining_Date'], axis=1, inplace=True)\n",
        "\n",
        "\n",
        "test_final.drop(columns=['Joining_Date'], axis=1, inplace=True)"
      ]
    },
    {
      "cell_type": "code",
      "execution_count": null,
      "metadata": {
        "id": "fb0X3r5kfMPl",
        "colab": {
          "base_uri": "https://localhost:8080/",
          "height": 634
        },
        "outputId": "2af590bb-1cbd-4242-f99d-93aa2b0e68ba"
      },
      "outputs": [
        {
          "output_type": "execute_result",
          "data": {
            "text/plain": [
              "   Left_Company                                        Job_History  \\\n",
              "0             0  Worked at Company - 639 , Company - 212 , Comp...   \n",
              "1             1  Worked at Company - 816 , Company - 724 , Comp...   \n",
              "2             0            Worked at Company - 562 , Company - 319   \n",
              "3             0  Worked at Company - 212 , Company - 668 , Comp...   \n",
              "4             0                            Worked at Company - 234   \n",
              "\n",
              "  Designation  Sex  TotalWorkingHours  Billable_Hours  Hours_off_Duty  \\\n",
              "0          MD    1              205.0           189.0            72.0   \n",
              "1          VP    0              241.0           233.0           120.0   \n",
              "2      Senior    1              278.0           264.0            40.0   \n",
              "3      Senior    1              345.5           233.5            64.0   \n",
              "4      Senior    1              270.0           249.0            88.0   \n",
              "\n",
              "   Touring_Hours  NoOfProjects  ActualTimeSpent joining_year joining_month  \\\n",
              "0          189.0             3              231         2011            01   \n",
              "1          186.0             2              147         2006            02   \n",
              "2          264.0             3              308         2011            12   \n",
              "3            0.0             2              217         2012            01   \n",
              "4          213.0             2              231         2011            12   \n",
              "\n",
              "   job_count  \n",
              "0          3  \n",
              "1          4  \n",
              "2          2  \n",
              "3          3  \n",
              "4          1  "
            ],
            "text/html": [
              "\n",
              "  <div id=\"df-765e45d9-1635-4bba-8e8e-f7906fc793dd\">\n",
              "    <div class=\"colab-df-container\">\n",
              "      <div>\n",
              "<style scoped>\n",
              "    .dataframe tbody tr th:only-of-type {\n",
              "        vertical-align: middle;\n",
              "    }\n",
              "\n",
              "    .dataframe tbody tr th {\n",
              "        vertical-align: top;\n",
              "    }\n",
              "\n",
              "    .dataframe thead th {\n",
              "        text-align: right;\n",
              "    }\n",
              "</style>\n",
              "<table border=\"1\" class=\"dataframe\">\n",
              "  <thead>\n",
              "    <tr style=\"text-align: right;\">\n",
              "      <th></th>\n",
              "      <th>Left_Company</th>\n",
              "      <th>Job_History</th>\n",
              "      <th>Designation</th>\n",
              "      <th>Sex</th>\n",
              "      <th>TotalWorkingHours</th>\n",
              "      <th>Billable_Hours</th>\n",
              "      <th>Hours_off_Duty</th>\n",
              "      <th>Touring_Hours</th>\n",
              "      <th>NoOfProjects</th>\n",
              "      <th>ActualTimeSpent</th>\n",
              "      <th>joining_year</th>\n",
              "      <th>joining_month</th>\n",
              "      <th>job_count</th>\n",
              "    </tr>\n",
              "  </thead>\n",
              "  <tbody>\n",
              "    <tr>\n",
              "      <th>0</th>\n",
              "      <td>0</td>\n",
              "      <td>Worked at Company - 639 , Company - 212 , Comp...</td>\n",
              "      <td>MD</td>\n",
              "      <td>1</td>\n",
              "      <td>205.0</td>\n",
              "      <td>189.0</td>\n",
              "      <td>72.0</td>\n",
              "      <td>189.0</td>\n",
              "      <td>3</td>\n",
              "      <td>231</td>\n",
              "      <td>2011</td>\n",
              "      <td>01</td>\n",
              "      <td>3</td>\n",
              "    </tr>\n",
              "    <tr>\n",
              "      <th>1</th>\n",
              "      <td>1</td>\n",
              "      <td>Worked at Company - 816 , Company - 724 , Comp...</td>\n",
              "      <td>VP</td>\n",
              "      <td>0</td>\n",
              "      <td>241.0</td>\n",
              "      <td>233.0</td>\n",
              "      <td>120.0</td>\n",
              "      <td>186.0</td>\n",
              "      <td>2</td>\n",
              "      <td>147</td>\n",
              "      <td>2006</td>\n",
              "      <td>02</td>\n",
              "      <td>4</td>\n",
              "    </tr>\n",
              "    <tr>\n",
              "      <th>2</th>\n",
              "      <td>0</td>\n",
              "      <td>Worked at Company - 562 , Company - 319</td>\n",
              "      <td>Senior</td>\n",
              "      <td>1</td>\n",
              "      <td>278.0</td>\n",
              "      <td>264.0</td>\n",
              "      <td>40.0</td>\n",
              "      <td>264.0</td>\n",
              "      <td>3</td>\n",
              "      <td>308</td>\n",
              "      <td>2011</td>\n",
              "      <td>12</td>\n",
              "      <td>2</td>\n",
              "    </tr>\n",
              "    <tr>\n",
              "      <th>3</th>\n",
              "      <td>0</td>\n",
              "      <td>Worked at Company - 212 , Company - 668 , Comp...</td>\n",
              "      <td>Senior</td>\n",
              "      <td>1</td>\n",
              "      <td>345.5</td>\n",
              "      <td>233.5</td>\n",
              "      <td>64.0</td>\n",
              "      <td>0.0</td>\n",
              "      <td>2</td>\n",
              "      <td>217</td>\n",
              "      <td>2012</td>\n",
              "      <td>01</td>\n",
              "      <td>3</td>\n",
              "    </tr>\n",
              "    <tr>\n",
              "      <th>4</th>\n",
              "      <td>0</td>\n",
              "      <td>Worked at Company - 234</td>\n",
              "      <td>Senior</td>\n",
              "      <td>1</td>\n",
              "      <td>270.0</td>\n",
              "      <td>249.0</td>\n",
              "      <td>88.0</td>\n",
              "      <td>213.0</td>\n",
              "      <td>2</td>\n",
              "      <td>231</td>\n",
              "      <td>2011</td>\n",
              "      <td>12</td>\n",
              "      <td>1</td>\n",
              "    </tr>\n",
              "  </tbody>\n",
              "</table>\n",
              "</div>\n",
              "      <button class=\"colab-df-convert\" onclick=\"convertToInteractive('df-765e45d9-1635-4bba-8e8e-f7906fc793dd')\"\n",
              "              title=\"Convert this dataframe to an interactive table.\"\n",
              "              style=\"display:none;\">\n",
              "        \n",
              "  <svg xmlns=\"http://www.w3.org/2000/svg\" height=\"24px\"viewBox=\"0 0 24 24\"\n",
              "       width=\"24px\">\n",
              "    <path d=\"M0 0h24v24H0V0z\" fill=\"none\"/>\n",
              "    <path d=\"M18.56 5.44l.94 2.06.94-2.06 2.06-.94-2.06-.94-.94-2.06-.94 2.06-2.06.94zm-11 1L8.5 8.5l.94-2.06 2.06-.94-2.06-.94L8.5 2.5l-.94 2.06-2.06.94zm10 10l.94 2.06.94-2.06 2.06-.94-2.06-.94-.94-2.06-.94 2.06-2.06.94z\"/><path d=\"M17.41 7.96l-1.37-1.37c-.4-.4-.92-.59-1.43-.59-.52 0-1.04.2-1.43.59L10.3 9.45l-7.72 7.72c-.78.78-.78 2.05 0 2.83L4 21.41c.39.39.9.59 1.41.59.51 0 1.02-.2 1.41-.59l7.78-7.78 2.81-2.81c.8-.78.8-2.07 0-2.86zM5.41 20L4 18.59l7.72-7.72 1.47 1.35L5.41 20z\"/>\n",
              "  </svg>\n",
              "      </button>\n",
              "      \n",
              "  <style>\n",
              "    .colab-df-container {\n",
              "      display:flex;\n",
              "      flex-wrap:wrap;\n",
              "      gap: 12px;\n",
              "    }\n",
              "\n",
              "    .colab-df-convert {\n",
              "      background-color: #E8F0FE;\n",
              "      border: none;\n",
              "      border-radius: 50%;\n",
              "      cursor: pointer;\n",
              "      display: none;\n",
              "      fill: #1967D2;\n",
              "      height: 32px;\n",
              "      padding: 0 0 0 0;\n",
              "      width: 32px;\n",
              "    }\n",
              "\n",
              "    .colab-df-convert:hover {\n",
              "      background-color: #E2EBFA;\n",
              "      box-shadow: 0px 1px 2px rgba(60, 64, 67, 0.3), 0px 1px 3px 1px rgba(60, 64, 67, 0.15);\n",
              "      fill: #174EA6;\n",
              "    }\n",
              "\n",
              "    [theme=dark] .colab-df-convert {\n",
              "      background-color: #3B4455;\n",
              "      fill: #D2E3FC;\n",
              "    }\n",
              "\n",
              "    [theme=dark] .colab-df-convert:hover {\n",
              "      background-color: #434B5C;\n",
              "      box-shadow: 0px 1px 3px 1px rgba(0, 0, 0, 0.15);\n",
              "      filter: drop-shadow(0px 1px 2px rgba(0, 0, 0, 0.3));\n",
              "      fill: #FFFFFF;\n",
              "    }\n",
              "  </style>\n",
              "\n",
              "      <script>\n",
              "        const buttonEl =\n",
              "          document.querySelector('#df-765e45d9-1635-4bba-8e8e-f7906fc793dd button.colab-df-convert');\n",
              "        buttonEl.style.display =\n",
              "          google.colab.kernel.accessAllowed ? 'block' : 'none';\n",
              "\n",
              "        async function convertToInteractive(key) {\n",
              "          const element = document.querySelector('#df-765e45d9-1635-4bba-8e8e-f7906fc793dd');\n",
              "          const dataTable =\n",
              "            await google.colab.kernel.invokeFunction('convertToInteractive',\n",
              "                                                     [key], {});\n",
              "          if (!dataTable) return;\n",
              "\n",
              "          const docLinkHtml = 'Like what you see? Visit the ' +\n",
              "            '<a target=\"_blank\" href=https://colab.research.google.com/notebooks/data_table.ipynb>data table notebook</a>'\n",
              "            + ' to learn more about interactive tables.';\n",
              "          element.innerHTML = '';\n",
              "          dataTable['output_type'] = 'display_data';\n",
              "          await google.colab.output.renderOutput(dataTable, element);\n",
              "          const docLink = document.createElement('div');\n",
              "          docLink.innerHTML = docLinkHtml;\n",
              "          element.appendChild(docLink);\n",
              "        }\n",
              "      </script>\n",
              "    </div>\n",
              "  </div>\n",
              "  "
            ]
          },
          "metadata": {},
          "execution_count": 160
        }
      ],
      "source": [
        "train_final.head()"
      ]
    },
    {
      "cell_type": "code",
      "execution_count": null,
      "metadata": {
        "id": "hRRebtHafNw5",
        "colab": {
          "base_uri": "https://localhost:8080/"
        },
        "outputId": "106f703c-b5ce-44be-a51e-36313591dc66"
      },
      "outputs": [
        {
          "output_type": "execute_result",
          "data": {
            "text/plain": [
              "Left_Company           int64\n",
              "Job_History           object\n",
              "Designation           object\n",
              "Sex                    int64\n",
              "TotalWorkingHours    float64\n",
              "Billable_Hours       float64\n",
              "Hours_off_Duty       float64\n",
              "Touring_Hours        float64\n",
              "NoOfProjects           int64\n",
              "ActualTimeSpent        int64\n",
              "joining_year          object\n",
              "joining_month         object\n",
              "job_count              int64\n",
              "dtype: object"
            ]
          },
          "metadata": {},
          "execution_count": 161
        }
      ],
      "source": [
        "train_final.dtypes #check\n"
      ]
    },
    {
      "cell_type": "code",
      "execution_count": null,
      "metadata": {
        "id": "yqi9PPswfPiT",
        "colab": {
          "base_uri": "https://localhost:8080/"
        },
        "outputId": "44999d53-8974-4074-9493-d848c07f6df6"
      },
      "outputs": [
        {
          "output_type": "execute_result",
          "data": {
            "text/plain": [
              "Job_History           object\n",
              "Designation           object\n",
              "Sex                    int64\n",
              "TotalWorkingHours    float64\n",
              "Billable_Hours       float64\n",
              "Hours_off_Duty       float64\n",
              "Touring_Hours        float64\n",
              "NoOfProjects           int64\n",
              "ActualTimeSpent        int64\n",
              "joining_year          object\n",
              "joining_month         object\n",
              "job_count              int64\n",
              "dtype: object"
            ]
          },
          "metadata": {},
          "execution_count": 162
        }
      ],
      "source": [
        "test_final.dtypes #check "
      ]
    },
    {
      "cell_type": "code",
      "execution_count": null,
      "metadata": {
        "id": "-oeOR8BbfRVI"
      },
      "outputs": [],
      "source": [
        "\n",
        "train_copy = train_final.copy()\n",
        "test_copy = test_final.copy()"
      ]
    },
    {
      "cell_type": "code",
      "execution_count": null,
      "metadata": {
        "id": "J4-WXhmWfS5X"
      },
      "outputs": [],
      "source": [
        "\n",
        "\n",
        "for col in ['TotalWorkingHours','Billable_Hours','Hours_off_Duty','Touring_Hours']:\n",
        "  train_final[col] = train_final[col].astype('float')"
      ]
    },
    {
      "cell_type": "code",
      "execution_count": null,
      "metadata": {
        "id": "cn9NBEPyfUgz"
      },
      "outputs": [],
      "source": [
        "\n",
        "for col in ['TotalWorkingHours','Billable_Hours','Hours_off_Duty','Touring_Hours']:\n",
        "  test_final[col] = test_final[col].astype('float')"
      ]
    },
    {
      "cell_type": "code",
      "execution_count": null,
      "metadata": {
        "id": "pmJRhMx3fWds"
      },
      "outputs": [],
      "source": []
    },
    {
      "cell_type": "markdown",
      "metadata": {
        "id": "nl9dybS1fYua"
      },
      "source": [
        "### Converting objects to categories "
      ]
    },
    {
      "cell_type": "code",
      "execution_count": null,
      "metadata": {
        "id": "OnDjIj5PfZHe"
      },
      "outputs": [],
      "source": [
        "\n",
        "\n",
        "for col in ['Sex','Designation','NoOfProjects','joining_year','joining_month','Job_History']:\n",
        "  train_final[col] = train_final[col].astype('category')\n",
        "#on testing data \n",
        "\n",
        "for col in ['Sex','Designation','NoOfProjects','joining_year','joining_month','Job_History']:\n",
        "  test_final[col] = test_final[col].astype('category')\n",
        "\n",
        "train_final['Left_Company'] = train_final['Left_Company'].astype('category')"
      ]
    },
    {
      "cell_type": "code",
      "execution_count": null,
      "metadata": {
        "id": "yjdeNxQhfbdw"
      },
      "outputs": [],
      "source": [
        "\n",
        "\n",
        "cat_attr = list(train_final.select_dtypes(\"category\").columns) #exclude target column inthe list\n",
        "num_attr = list(test_final.columns.difference(cat_attr))\n",
        "\n",
        "# cat_attr.pop()"
      ]
    },
    {
      "cell_type": "code",
      "execution_count": null,
      "metadata": {
        "id": "YWWhzZ86fdOG"
      },
      "outputs": [],
      "source": [
        "cat_attr.remove('Left_Company')"
      ]
    },
    {
      "cell_type": "code",
      "execution_count": null,
      "metadata": {
        "id": "C9fcBiqkfe_H",
        "colab": {
          "base_uri": "https://localhost:8080/"
        },
        "outputId": "bd0c7d0f-e27b-4870-f203-84adedce7623"
      },
      "outputs": [
        {
          "output_type": "execute_result",
          "data": {
            "text/plain": [
              "['Job_History',\n",
              " 'Designation',\n",
              " 'Sex',\n",
              " 'NoOfProjects',\n",
              " 'joining_year',\n",
              " 'joining_month']"
            ]
          },
          "metadata": {},
          "execution_count": 169
        }
      ],
      "source": [
        "cat_attr"
      ]
    },
    {
      "cell_type": "code",
      "execution_count": null,
      "metadata": {
        "id": "dWCre3KIfg9P",
        "colab": {
          "base_uri": "https://localhost:8080/"
        },
        "outputId": "41e92ee4-8058-4345-8956-1f0fbfbd51b7"
      },
      "outputs": [
        {
          "output_type": "execute_result",
          "data": {
            "text/plain": [
              "['ActualTimeSpent',\n",
              " 'Billable_Hours',\n",
              " 'Hours_off_Duty',\n",
              " 'TotalWorkingHours',\n",
              " 'Touring_Hours',\n",
              " 'job_count']"
            ]
          },
          "metadata": {},
          "execution_count": 170
        }
      ],
      "source": [
        "num_attr"
      ]
    },
    {
      "cell_type": "code",
      "execution_count": null,
      "metadata": {
        "id": "YoF6sDyVfimn"
      },
      "outputs": [],
      "source": []
    },
    {
      "cell_type": "markdown",
      "metadata": {
        "id": "hETtU7Qbfly2"
      },
      "source": [
        "### Columns with missing values"
      ]
    },
    {
      "cell_type": "code",
      "execution_count": null,
      "metadata": {
        "id": "VhLdszJEfmLC",
        "colab": {
          "base_uri": "https://localhost:8080/"
        },
        "outputId": "0f977534-cc2e-4db0-9a82-12a1baee4af6"
      },
      "outputs": [
        {
          "output_type": "stream",
          "name": "stdout",
          "text": [
            "Index([], dtype='object')\n",
            "Index([], dtype='object')\n"
          ]
        }
      ],
      "source": [
        "\n",
        "missing_cols_train = train_final.columns[train_final.isnull().any()]\n",
        "print(missing_cols_train)\n",
        "\n",
        "missing_cols_test = test_final.columns[test_final.isnull().any()]\n",
        "print(missing_cols_test)"
      ]
    },
    {
      "cell_type": "code",
      "execution_count": null,
      "metadata": {
        "id": "McZVx_G2KIq0",
        "colab": {
          "base_uri": "https://localhost:8080/"
        },
        "outputId": "6be7dcbf-cd9b-4a64-b68c-4880bcaa1149"
      },
      "outputs": [
        {
          "output_type": "stream",
          "name": "stdout",
          "text": [
            "Looking in indexes: https://pypi.org/simple, https://us-python.pkg.dev/colab-wheels/public/simple/\n",
            "Requirement already satisfied: optuna in /usr/local/lib/python3.9/dist-packages (3.1.1)\n",
            "Requirement already satisfied: tqdm in /usr/local/lib/python3.9/dist-packages (from optuna) (4.65.0)\n",
            "Requirement already satisfied: colorlog in /usr/local/lib/python3.9/dist-packages (from optuna) (6.7.0)\n",
            "Requirement already satisfied: sqlalchemy>=1.3.0 in /usr/local/lib/python3.9/dist-packages (from optuna) (2.0.9)\n",
            "Requirement already satisfied: numpy in /usr/local/lib/python3.9/dist-packages (from optuna) (1.22.4)\n",
            "Requirement already satisfied: packaging>=20.0 in /usr/local/lib/python3.9/dist-packages (from optuna) (23.0)\n",
            "Requirement already satisfied: alembic>=1.5.0 in /usr/local/lib/python3.9/dist-packages (from optuna) (1.10.3)\n",
            "Requirement already satisfied: cmaes>=0.9.1 in /usr/local/lib/python3.9/dist-packages (from optuna) (0.9.1)\n",
            "Requirement already satisfied: PyYAML in /usr/local/lib/python3.9/dist-packages (from optuna) (6.0)\n",
            "Requirement already satisfied: typing-extensions>=4 in /usr/local/lib/python3.9/dist-packages (from alembic>=1.5.0->optuna) (4.5.0)\n",
            "Requirement already satisfied: Mako in /usr/local/lib/python3.9/dist-packages (from alembic>=1.5.0->optuna) (1.2.4)\n",
            "Requirement already satisfied: greenlet!=0.4.17 in /usr/local/lib/python3.9/dist-packages (from sqlalchemy>=1.3.0->optuna) (2.0.2)\n",
            "Requirement already satisfied: MarkupSafe>=0.9.2 in /usr/local/lib/python3.9/dist-packages (from Mako->alembic>=1.5.0->optuna) (2.1.2)\n"
          ]
        }
      ],
      "source": [
        "pip install optuna"
      ]
    },
    {
      "cell_type": "markdown",
      "metadata": {
        "id": "K6dP9zBxGC4d"
      },
      "source": []
    },
    {
      "cell_type": "code",
      "execution_count": null,
      "metadata": {
        "id": "B09L-gC7GDML",
        "colab": {
          "base_uri": "https://localhost:8080/"
        },
        "outputId": "360f8421-b007-4f6f-8af1-583b22f70b75"
      },
      "outputs": [
        {
          "output_type": "stream",
          "name": "stderr",
          "text": [
            "Intel(R) Extension for Scikit-learn* enabled (https://github.com/intel/scikit-learn-intelex)\n",
            "Intel(R) Extension for Scikit-learn* enabled (https://github.com/intel/scikit-learn-intelex)\n",
            "Intel(R) Extension for Scikit-learn* enabled (https://github.com/intel/scikit-learn-intelex)\n"
          ]
        }
      ],
      "source": [
        "from sklearnex import patch_sklearn\n",
        "patch_sklearn()\n",
        "from IPython.display import HTML\n",
        "from timeit import default_timer as timer\n",
        "from sklearnex import patch_sklearn\n",
        "# The names match scikit-learn estimators\n",
        "patch_sklearn(\"SVC\")\n",
        "from sklearnex import patch_sklearn\n",
        "# The names match scikit-learn estimators\n",
        "patch_sklearn([\"SVC\", \"DBSCAN\",\"Kmeans\"])\n",
        "from sklearn.ensemble import StackingRegressor\n",
        "import optuna \n",
        "from sklearn.linear_model import LogisticRegression\n",
        "from sklearn.metrics import roc_curve, auc"
      ]
    },
    {
      "cell_type": "code",
      "execution_count": null,
      "metadata": {
        "id": "wmy49B6pK_lZ"
      },
      "outputs": [],
      "source": [
        "def objective(trial):\n",
        "    params ={\n",
        "        'C': trial.suggest_float('C', 0.000000001, 1.0),\n",
        "        'random_state': 0,\n",
        "        'n_jobs': -1,\n",
        "    }\n",
        "    model = LogisticRegression(**params).fit(x_train, y_train)\n",
        "    y_pred = model.predict_proba(x_val)[:, 1]\n",
        "    fpr, tpr, _ = roc_curve(y_val, y_pred)\n",
        "    score = auc(fpr, tpr)\n",
        "    return score"
      ]
    },
    {
      "cell_type": "code",
      "execution_count": null,
      "metadata": {
        "id": "cU6n6HivLdB_"
      },
      "outputs": [],
      "source": []
    },
    {
      "cell_type": "code",
      "execution_count": null,
      "metadata": {
        "id": "00Y2a0wcLOAc",
        "colab": {
          "base_uri": "https://localhost:8080/"
        },
        "outputId": "1cfa68b6-d072-47f4-d46d-f1deab2c166f"
      },
      "outputs": [
        {
          "output_type": "stream",
          "name": "stderr",
          "text": [
            "\u001b[32m[I 2023-04-14 11:57:42,437]\u001b[0m A new study created in memory with name: no-name-5269b514-57b5-458d-a416-f8c785c0d4a7\u001b[0m\n"
          ]
        }
      ],
      "source": [
        "study = optuna.create_study(sampler=optuna.samplers.TPESampler(seed=123),\n",
        "                            direction=\"maximize\",\n",
        "                            pruner=optuna.pruners.HyperbandPruner())\n",
        "\n"
      ]
    },
    {
      "cell_type": "markdown",
      "metadata": {
        "id": "MtkdqJXNf1Zo"
      },
      "source": [
        "## Dummification"
      ]
    },
    {
      "cell_type": "code",
      "execution_count": null,
      "metadata": {
        "id": "34xY1Bw-f1zt"
      },
      "outputs": [],
      "source": [
        "y= train_final['Left_Company']\n",
        "\n",
        "del train_final['Left_Company']\n",
        "X = train_final"
      ]
    },
    {
      "cell_type": "code",
      "execution_count": null,
      "metadata": {
        "id": "bn9R79QvfrSK"
      },
      "outputs": [],
      "source": [
        "\n",
        "#One hot encoding  train\n",
        "\n",
        "dummy_train = pd.get_dummies(data= X, columns= cat_attr, drop_first=True)"
      ]
    },
    {
      "cell_type": "code",
      "execution_count": null,
      "metadata": {
        "id": "IyhPgMt7f9F_",
        "colab": {
          "base_uri": "https://localhost:8080/"
        },
        "outputId": "4bdd3f66-afec-45b5-8049-bd5b00012a70"
      },
      "outputs": [
        {
          "output_type": "execute_result",
          "data": {
            "text/plain": [
              "(245, 283)"
            ]
          },
          "metadata": {},
          "execution_count": 178
        }
      ],
      "source": [
        "dummy_train.shape"
      ]
    },
    {
      "cell_type": "code",
      "execution_count": null,
      "metadata": {
        "id": "FYIndvKUf-mo"
      },
      "outputs": [],
      "source": [
        "#One hot encoding in test\n",
        "\n",
        "test_final = pd.get_dummies(data= test_final, columns= cat_attr, drop_first=True)"
      ]
    },
    {
      "cell_type": "code",
      "execution_count": null,
      "metadata": {
        "id": "11I3mHh9gOrG",
        "colab": {
          "base_uri": "https://localhost:8080/"
        },
        "outputId": "77d7515e-926d-46ce-82a0-27976c3dc32f"
      },
      "outputs": [
        {
          "output_type": "stream",
          "name": "stdout",
          "text": [
            "(51, 86)\n"
          ]
        }
      ],
      "source": [
        "print(test_final.shape)"
      ]
    },
    {
      "cell_type": "code",
      "execution_count": null,
      "metadata": {
        "id": "sHvajRMQgB68"
      },
      "outputs": [],
      "source": [
        "# Aligninng \n",
        "\n",
        "dummy_train, test_final = dummy_train.align(test_final, join='left', axis=1)"
      ]
    },
    {
      "cell_type": "code",
      "execution_count": null,
      "metadata": {
        "id": "rvsGvxrPgSKW",
        "colab": {
          "base_uri": "https://localhost:8080/"
        },
        "outputId": "d9e30643-e6ec-455b-ceca-1e5e7b653a97"
      },
      "outputs": [
        {
          "output_type": "stream",
          "name": "stdout",
          "text": [
            "12597\n"
          ]
        }
      ],
      "source": [
        "#checking for missing valurd;\n",
        "print(test_final.isnull().sum().sum())\n",
        "\n",
        "test_final.fillna(value=0, inplace=True)"
      ]
    },
    {
      "cell_type": "code",
      "execution_count": null,
      "metadata": {
        "id": "1u6IUuNzgUEK"
      },
      "outputs": [],
      "source": [
        "\n"
      ]
    },
    {
      "cell_type": "code",
      "execution_count": null,
      "metadata": {
        "id": "YJksYHqLgWK8"
      },
      "outputs": [],
      "source": [
        "#standardize \n",
        "\n",
        "std = StandardScaler() #Instantiating an object. \n",
        "std.fit(dummy_train) #Fittin gon th train data\n",
        "\n",
        "std_x = std.transform(dummy_train) \n",
        "std_test = std.transform(test_final)"
      ]
    },
    {
      "cell_type": "code",
      "execution_count": null,
      "metadata": {
        "id": "8uagZzokgYNL",
        "colab": {
          "base_uri": "https://localhost:8080/"
        },
        "outputId": "6a58a375-c8fe-4289-dc27-3392dc868144"
      },
      "outputs": [
        {
          "output_type": "stream",
          "name": "stdout",
          "text": [
            "(245, 283)\n",
            "(51, 283)\n"
          ]
        }
      ],
      "source": [
        "print(std_x.shape)\n",
        "print(std_test.shape)"
      ]
    },
    {
      "cell_type": "code",
      "execution_count": null,
      "metadata": {
        "id": "AlyDJFMdgZ0R"
      },
      "outputs": [],
      "source": [
        "#### now predicting the model ny logisticc regression , desion treee  on 6 - yet to complete level 1"
      ]
    },
    {
      "cell_type": "code",
      "execution_count": null,
      "metadata": {
        "id": "GC-NThCehuOK"
      },
      "outputs": [],
      "source": []
    },
    {
      "cell_type": "markdown",
      "metadata": {
        "id": "-MV6vX9aZBnj"
      },
      "source": [
        "# Models On complete std data without splitting : \n",
        "\n",
        " "
      ]
    },
    {
      "cell_type": "code",
      "execution_count": null,
      "metadata": {
        "id": "VeFZ3hiyZCtw",
        "colab": {
          "base_uri": "https://localhost:8080/",
          "height": 74
        },
        "outputId": "55e8c865-eb34-4ef1-819f-2a1030fc998e"
      },
      "outputs": [
        {
          "output_type": "execute_result",
          "data": {
            "text/plain": [
              "LogisticRegression()"
            ],
            "text/html": [
              "<style>#sk-container-id-2 {color: black;background-color: white;}#sk-container-id-2 pre{padding: 0;}#sk-container-id-2 div.sk-toggleable {background-color: white;}#sk-container-id-2 label.sk-toggleable__label {cursor: pointer;display: block;width: 100%;margin-bottom: 0;padding: 0.3em;box-sizing: border-box;text-align: center;}#sk-container-id-2 label.sk-toggleable__label-arrow:before {content: \"▸\";float: left;margin-right: 0.25em;color: #696969;}#sk-container-id-2 label.sk-toggleable__label-arrow:hover:before {color: black;}#sk-container-id-2 div.sk-estimator:hover label.sk-toggleable__label-arrow:before {color: black;}#sk-container-id-2 div.sk-toggleable__content {max-height: 0;max-width: 0;overflow: hidden;text-align: left;background-color: #f0f8ff;}#sk-container-id-2 div.sk-toggleable__content pre {margin: 0.2em;color: black;border-radius: 0.25em;background-color: #f0f8ff;}#sk-container-id-2 input.sk-toggleable__control:checked~div.sk-toggleable__content {max-height: 200px;max-width: 100%;overflow: auto;}#sk-container-id-2 input.sk-toggleable__control:checked~label.sk-toggleable__label-arrow:before {content: \"▾\";}#sk-container-id-2 div.sk-estimator input.sk-toggleable__control:checked~label.sk-toggleable__label {background-color: #d4ebff;}#sk-container-id-2 div.sk-label input.sk-toggleable__control:checked~label.sk-toggleable__label {background-color: #d4ebff;}#sk-container-id-2 input.sk-hidden--visually {border: 0;clip: rect(1px 1px 1px 1px);clip: rect(1px, 1px, 1px, 1px);height: 1px;margin: -1px;overflow: hidden;padding: 0;position: absolute;width: 1px;}#sk-container-id-2 div.sk-estimator {font-family: monospace;background-color: #f0f8ff;border: 1px dotted black;border-radius: 0.25em;box-sizing: border-box;margin-bottom: 0.5em;}#sk-container-id-2 div.sk-estimator:hover {background-color: #d4ebff;}#sk-container-id-2 div.sk-parallel-item::after {content: \"\";width: 100%;border-bottom: 1px solid gray;flex-grow: 1;}#sk-container-id-2 div.sk-label:hover label.sk-toggleable__label {background-color: #d4ebff;}#sk-container-id-2 div.sk-serial::before {content: \"\";position: absolute;border-left: 1px solid gray;box-sizing: border-box;top: 0;bottom: 0;left: 50%;z-index: 0;}#sk-container-id-2 div.sk-serial {display: flex;flex-direction: column;align-items: center;background-color: white;padding-right: 0.2em;padding-left: 0.2em;position: relative;}#sk-container-id-2 div.sk-item {position: relative;z-index: 1;}#sk-container-id-2 div.sk-parallel {display: flex;align-items: stretch;justify-content: center;background-color: white;position: relative;}#sk-container-id-2 div.sk-item::before, #sk-container-id-2 div.sk-parallel-item::before {content: \"\";position: absolute;border-left: 1px solid gray;box-sizing: border-box;top: 0;bottom: 0;left: 50%;z-index: -1;}#sk-container-id-2 div.sk-parallel-item {display: flex;flex-direction: column;z-index: 1;position: relative;background-color: white;}#sk-container-id-2 div.sk-parallel-item:first-child::after {align-self: flex-end;width: 50%;}#sk-container-id-2 div.sk-parallel-item:last-child::after {align-self: flex-start;width: 50%;}#sk-container-id-2 div.sk-parallel-item:only-child::after {width: 0;}#sk-container-id-2 div.sk-dashed-wrapped {border: 1px dashed gray;margin: 0 0.4em 0.5em 0.4em;box-sizing: border-box;padding-bottom: 0.4em;background-color: white;}#sk-container-id-2 div.sk-label label {font-family: monospace;font-weight: bold;display: inline-block;line-height: 1.2em;}#sk-container-id-2 div.sk-label-container {text-align: center;}#sk-container-id-2 div.sk-container {/* jupyter's `normalize.less` sets `[hidden] { display: none; }` but bootstrap.min.css set `[hidden] { display: none !important; }` so we also need the `!important` here to be able to override the default hidden behavior on the sphinx rendered scikit-learn.org. See: https://github.com/scikit-learn/scikit-learn/issues/21755 */display: inline-block !important;position: relative;}#sk-container-id-2 div.sk-text-repr-fallback {display: none;}</style><div id=\"sk-container-id-2\" class=\"sk-top-container\"><div class=\"sk-text-repr-fallback\"><pre>LogisticRegression()</pre><b>In a Jupyter environment, please rerun this cell to show the HTML representation or trust the notebook. <br />On GitHub, the HTML representation is unable to render, please try loading this page with nbviewer.org.</b></div><div class=\"sk-container\" hidden><div class=\"sk-item\"><div class=\"sk-estimator sk-toggleable\"><input class=\"sk-toggleable__control sk-hidden--visually\" id=\"sk-estimator-id-2\" type=\"checkbox\" checked><label for=\"sk-estimator-id-2\" class=\"sk-toggleable__label sk-toggleable__label-arrow\">LogisticRegression</label><div class=\"sk-toggleable__content\"><pre>LogisticRegression()</pre></div></div></div></div></div>"
            ]
          },
          "metadata": {},
          "execution_count": 186
        }
      ],
      "source": [
        "log_reg = LogisticRegression()\n",
        "\n",
        "log_reg.fit(std_x, y)\n"
      ]
    },
    {
      "cell_type": "code",
      "execution_count": null,
      "metadata": {
        "id": "5jATxBhBZRAD",
        "colab": {
          "base_uri": "https://localhost:8080/"
        },
        "outputId": "6c4d2979-ae0e-4035-b695-62c0a3a0574d"
      },
      "outputs": [
        {
          "output_type": "stream",
          "name": "stdout",
          "text": [
            "1.0\n"
          ]
        }
      ],
      "source": [
        "log_pred = log_reg.predict(std_x)\n",
        "\n",
        "print(f1_score(y, log_pred))"
      ]
    },
    {
      "cell_type": "code",
      "execution_count": null,
      "metadata": {
        "id": "Kyqg5kxLZSH5"
      },
      "outputs": [],
      "source": []
    },
    {
      "cell_type": "markdown",
      "metadata": {
        "id": "rJ3cOaQNZUge"
      },
      "source": [
        "##  Model-2  Decision tree :"
      ]
    },
    {
      "cell_type": "code",
      "execution_count": null,
      "metadata": {
        "id": "vyhmWchPZVCJ",
        "colab": {
          "base_uri": "https://localhost:8080/"
        },
        "outputId": "96bbf362-62aa-4d2d-a9ad-8ec22ae918f7"
      },
      "outputs": [
        {
          "output_type": "stream",
          "name": "stdout",
          "text": [
            "{'criterion': 'entropy', 'max_depth': 3, 'min_samples_leaf': 1, 'min_samples_split': 2}\n",
            "0.851063829787234\n",
            "CPU times: user 413 ms, sys: 69.5 ms, total: 483 ms\n",
            "Wall time: 4.45 s\n"
          ]
        }
      ],
      "source": [
        "%%time\n",
        "clf_dt =  DecisionTreeClassifier()\n",
        "\n",
        "dt_param_grid = {'criterion': ['entropy', 'gini'], \n",
        "                 'max_depth': [3,4,5],\n",
        "                 \"min_samples_split\": [2,5],\n",
        "                 \"min_samples_leaf\": [1,3,5]}\n",
        "\n",
        "dt_grid = GridSearchCV(clf_dt, param_grid=dt_param_grid, n_jobs=-1, cv=10,return_train_score=True)\n",
        "\n",
        "dt_grid.fit(std_x,y)\n",
        "\n",
        "print(dt_grid.best_params_)\n",
        "\n",
        "dt_pred = dt_grid.predict(std_x)\n",
        "\n",
        "print(f1_score(y, dt_pred))"
      ]
    },
    {
      "cell_type": "code",
      "execution_count": null,
      "metadata": {
        "id": "Bu8SJJ05ZWoO"
      },
      "outputs": [],
      "source": []
    },
    {
      "cell_type": "markdown",
      "metadata": {
        "id": "pS7TFA-BZY3m"
      },
      "source": [
        "## Model-3 --Build Gradient Boosting "
      ]
    },
    {
      "cell_type": "code",
      "execution_count": null,
      "metadata": {
        "id": "CXCrZZf8ZZYE",
        "colab": {
          "base_uri": "https://localhost:8080/"
        },
        "outputId": "1e83a176-a87b-4e6e-941b-1fb0a7c49d4f"
      },
      "outputs": [
        {
          "output_type": "stream",
          "name": "stdout",
          "text": [
            "The Best parameters are: {'learning_rate': 0.1, 'max_depth': 2, 'max_features': 0.3, 'n_estimators': 20, 'subsample': 0.8} .\n",
            "0.851063829787234\n",
            "CPU times: user 204 ms, sys: 12.3 ms, total: 217 ms\n",
            "Wall time: 2.09 s\n"
          ]
        }
      ],
      "source": [
        "\n",
        "%%time\n",
        "clf_gbc = GradientBoostingClassifier()\n",
        "\n",
        "gbm_param_grid = {'max_depth': [2,3,4],\n",
        "                  'subsample': [0.8,0.6],\n",
        "                  'max_features':[0.3], \n",
        "                  'n_estimators': [10, 20, 30],\n",
        "                  'learning_rate':[0.1]}\n",
        "\n",
        "gbm_grid = GridSearchCV(clf_gbc, param_grid=gbm_param_grid, n_jobs =-1, cv=5)\n",
        "\n",
        "gbm_grid.fit(std_x,y)\n",
        "\n",
        "print(\"The Best parameters are: {} .\".format(gbm_grid.best_params_))\n",
        "\n",
        "train_pred_gb = gbm_grid.predict(std_x)\n",
        "\n",
        "print(f1_score(y, train_pred_gb))\n",
        "\n"
      ]
    },
    {
      "cell_type": "code",
      "execution_count": null,
      "metadata": {
        "id": "WH1SPp0PZauO"
      },
      "outputs": [],
      "source": [
        "# Building model after outholding the dataset."
      ]
    },
    {
      "cell_type": "code",
      "execution_count": null,
      "metadata": {
        "id": "WadTL3uYZdaj"
      },
      "outputs": [],
      "source": [
        "x_train, x_test, y_train, y_test = train_test_split(std_x, y, test_size=0.3, random_state=11, stratify=y)\n"
      ]
    },
    {
      "cell_type": "code",
      "execution_count": null,
      "metadata": {
        "id": "Jaaa6QOoZiN8"
      },
      "outputs": [],
      "source": [
        "sm = SMOTE(random_state=2)\n",
        "\n",
        "x_train_re, y_train_re = sm.fit_resample(x_train, y_train.ravel())\n",
        "x_test_re, y_test_re = sm.fit_resample(x_test,y_test.ravel())\n"
      ]
    },
    {
      "cell_type": "markdown",
      "metadata": {
        "id": "6lZ5dCO3ZySs"
      },
      "source": [
        "## Model-1 Gradient Boosting : "
      ]
    },
    {
      "cell_type": "code",
      "execution_count": null,
      "metadata": {
        "id": "XxMvtL42Zy0D",
        "colab": {
          "base_uri": "https://localhost:8080/"
        },
        "outputId": "8e12f80d-56b0-4cbd-fa60-1683adc3e36c"
      },
      "outputs": [
        {
          "output_type": "stream",
          "name": "stdout",
          "text": [
            "The Best parameters are: {'learning_rate': 0.1, 'max_depth': 4, 'max_features': 0.3, 'n_estimators': 10, 'subsample': 0.8} .\n",
            "100.0\n",
            "95.23809523809523\n",
            "CPU times: user 1.45 s, sys: 56.8 ms, total: 1.51 s\n",
            "Wall time: 27.5 s\n"
          ]
        }
      ],
      "source": [
        "\n",
        "%%time\n",
        "clf_gbc = GradientBoostingClassifier()\n",
        "\n",
        "gbm_param_grid = {'max_depth': [2,3,4],\n",
        "                  'subsample': [0.8,0.6],\n",
        "                  'max_features':[0.3, 0.4], \n",
        "                  'n_estimators': [1,2,3,4,5,6,7,8,9,10],\n",
        "                  'learning_rate':[0.1, 0.01, 0.001]} #making learning rate lesser gave the best results\n",
        "\n",
        "gbm_grid_1 = GridSearchCV(clf_gbc, param_grid=gbm_param_grid, n_jobs =-1, cv=5)\n",
        "\n",
        "gbm_grid_1.fit(x_train_re,y_train_re)\n",
        "\n",
        "print(\"The Best parameters are: {} .\".format(gbm_grid_1.best_params_))\n",
        "\n",
        "train_pred_gb_2 = gbm_grid_1.predict(x_train_re)\n",
        "test_pred_gb_2 = gbm_grid_1.predict(x_test_re)\n",
        "print(f1_score(y_train_re, train_pred_gb_2)*100)\n",
        "print(f1_score(y_test_re, test_pred_gb_2)*100)\n",
        "\n"
      ]
    },
    {
      "cell_type": "code",
      "execution_count": null,
      "metadata": {
        "id": "xWsDFg67Z0Qq"
      },
      "outputs": [],
      "source": []
    },
    {
      "cell_type": "markdown",
      "metadata": {
        "id": "QU4OVqG5bA_m"
      },
      "source": []
    },
    {
      "cell_type": "code",
      "execution_count": null,
      "metadata": {
        "id": "2y1KUgS3bBiV"
      },
      "outputs": [],
      "source": [
        "x_train, x_test, y_train, y_test = train_test_split(std_x, y, test_size=0.3, random_state=11, stratify=y)\n"
      ]
    },
    {
      "cell_type": "code",
      "execution_count": null,
      "metadata": {
        "id": "-CYujJUqbDIq"
      },
      "outputs": [],
      "source": []
    },
    {
      "cell_type": "code",
      "execution_count": null,
      "metadata": {
        "id": "xIzvRJ8SbEn_"
      },
      "outputs": [],
      "source": []
    },
    {
      "cell_type": "markdown",
      "metadata": {
        "id": "tlwdEgLkbP84"
      },
      "source": [
        "## Model-2  Logit Model :  \n"
      ]
    },
    {
      "cell_type": "code",
      "execution_count": null,
      "metadata": {
        "id": "SgK9P0ySbQeH",
        "colab": {
          "base_uri": "https://localhost:8080/"
        },
        "outputId": "ccb56fd1-e8b7-4168-bad0-74f37df3662f"
      },
      "outputs": [
        {
          "output_type": "stream",
          "name": "stdout",
          "text": [
            "1.0\n",
            "0.0\n"
          ]
        }
      ],
      "source": [
        "log_reg_2 = LogisticRegression()\n",
        "\n",
        "log_reg_2.fit(x_train_re,y_train_re)\n",
        "\n",
        "log_reg_pred_train = log_reg_2.predict(x_train_re)\n",
        "log_reg_pred_test = log_reg_2.predict(x_test_re)\n",
        "\n",
        "print(f1_score(y_train_re, log_reg_pred_train))\n",
        "print(f1_score(y_test_re, log_reg_pred_test))\n",
        "\n",
        "#prediction on test data \n",
        "\n"
      ]
    },
    {
      "cell_type": "code",
      "execution_count": null,
      "metadata": {
        "id": "CYUED5A8bSTb"
      },
      "outputs": [],
      "source": []
    },
    {
      "cell_type": "markdown",
      "metadata": {
        "id": "Y02G16NybUdS"
      },
      "source": [
        "## Model-3 xgBoost : "
      ]
    },
    {
      "cell_type": "code",
      "execution_count": null,
      "metadata": {
        "id": "p06yCM6ebU9d",
        "colab": {
          "base_uri": "https://localhost:8080/"
        },
        "outputId": "42783f69-b251-441e-a991-ac5bc99e3b0d"
      },
      "outputs": [
        {
          "output_type": "stream",
          "name": "stdout",
          "text": [
            "{'colsample_bytree': 0.8, 'learning_rate': 0.1, 'max_depth': 5, 'n_estimators': 15, 'subsample': 0.8}\n",
            "Train Score: 0.9933774834437086.\n",
            "Validation Score: 0.9606299212598425.\n",
            "CPU times: user 1.97 s, sys: 42.2 ms, total: 2.02 s\n",
            "Wall time: 29.8 s\n"
          ]
        }
      ],
      "source": [
        "\n",
        "%%time\n",
        "import xgboost as xgb\n",
        "from sklearn.model_selection import GridSearchCV\n",
        "xgb = xgb.XGBClassifier()\n",
        "\n",
        "\n",
        "kfold = StratifiedKFold(n_splits=5, shuffle=True, random_state=143)\n",
        "\n",
        "param_grid = {\"n_estimators\" : [10,15],\n",
        "              \"max_depth\" : [3,5,6,7],\n",
        "              \"colsample_bytree\":[0.7,.8],\n",
        "              \"learning_rate\": [0.001,0.01,0.1],\n",
        "              \"subsample\":[0.8,0.6]}\n",
        "\n",
        "xg_grid = GridSearchCV(xgb, param_grid=param_grid, n_jobs=-1, cv=kfold)\n",
        "\n",
        "\n",
        "xg_grid.fit(x_train_re,y_train_re)\n",
        "\n",
        "print(xg_grid.best_params_)\n",
        "\n",
        "train_pred = xg_grid.predict(x_train_re)\n",
        "test_pred = xg_grid.predict(x_test_re)\n",
        "\n",
        "print(\"Train Score: {}.\" .format(f1_score(y_train_re, train_pred)))\n",
        "print(\"Validation Score: {}.\" .format(f1_score(y_test_re, test_pred)))\n"
      ]
    },
    {
      "cell_type": "code",
      "execution_count": null,
      "metadata": {
        "id": "FZ01tfkjbWR0"
      },
      "outputs": [],
      "source": [
        "## Model- 4 RF"
      ]
    },
    {
      "cell_type": "code",
      "execution_count": null,
      "metadata": {
        "id": "Ve5P3UV6bZRn",
        "colab": {
          "base_uri": "https://localhost:8080/"
        },
        "outputId": "4713ab20-f213-4960-c609-2f92d8f22de5"
      },
      "outputs": [
        {
          "output_type": "stream",
          "name": "stdout",
          "text": [
            "{'criterion': 'gini', 'max_depth': 3, 'min_samples_leaf': 1, 'min_samples_split': 5}\n",
            "Train Score: 0.9900332225913622 .\n",
            "Validation Score: 0.9606299212598425 .\n",
            "CPU times: user 34.9 s, sys: 150 ms, total: 35.1 s\n",
            "Wall time: 39.2 s\n"
          ]
        }
      ],
      "source": [
        "%%time\n",
        "clf_rf = RandomForestClassifier()\n",
        "\n",
        "kfold = StratifiedKFold(n_splits=5, shuffle=True, random_state=143)\n",
        "\n",
        "param_grid = {\"n_estimators\" : [3,4,5,10,12,13,14],\n",
        "              \"max_depth\" : [2,3,5,6],\n",
        "              \"max_features\" : [3,4, 5, 7],\n",
        "              \"min_samples_leaf\" : [4, 6, 8, 10]}\n",
        "\n",
        "rf_grid = GridSearchCV(clf_rf, param_grid=dt_param_grid, cv=kfold)\n",
        "\n",
        "\n",
        "rf_grid.fit(x_train_re,y_train_re)\n",
        "\n",
        "print(rf_grid.best_params_)\n",
        "\n",
        "train_pred_rf = rf_grid.predict(x_train_re)\n",
        "test_pred_rf = rf_grid.predict(x_test_re)\n",
        "\n",
        "print(\"Train Score: {} .\" .format(f1_score(y_train_re, train_pred_rf)))\n",
        "print(\"Validation Score: {} .\" .format(f1_score(y_test_re, test_pred_rf)))\n",
        "\n"
      ]
    },
    {
      "cell_type": "code",
      "execution_count": null,
      "metadata": {
        "id": "LUsL_0vrbaw6"
      },
      "outputs": [],
      "source": [
        "from sklearn.neighbors import KNeighborsClassifier"
      ]
    },
    {
      "cell_type": "code",
      "execution_count": null,
      "metadata": {
        "id": "me0FyX3kbckl",
        "colab": {
          "base_uri": "https://localhost:8080/"
        },
        "outputId": "6bfb2e23-7ba3-4210-fdd0-3277834faffe"
      },
      "outputs": [
        {
          "output_type": "stream",
          "name": "stdout",
          "text": [
            "{'n_neighbors': 4}\n",
            "Train Score: 0.9967213114754099 .\n",
            "Validation Score: 0.6666666666666666 .\n"
          ]
        }
      ],
      "source": [
        "knn = KNeighborsClassifier()\n",
        "\n",
        "param_grid_knn = {'n_neighbors':[4,5,6]}\n",
        "\n",
        "knn_grid = GridSearchCV(knn, param_grid=param_grid_knn, cv=5)\n",
        "\n",
        "\n",
        "knn_grid.fit(x_train_re,y_train_re)\n",
        "\n",
        "print(knn_grid.best_params_)\n",
        "\n",
        "train_pred_rf = knn_grid.predict(x_train_re)\n",
        "test_pred_rf = knn_grid.predict(x_test_re)\n",
        "\n",
        "print(\"Train Score: {} .\" .format(f1_score(y_train_re, train_pred_rf)))\n",
        "print(\"Validation Score: {} .\" .format(f1_score(y_test_re, test_pred_rf)))\n",
        "\n"
      ]
    },
    {
      "cell_type": "code",
      "execution_count": null,
      "metadata": {
        "id": "INI0EkAybeIK"
      },
      "outputs": [],
      "source": []
    },
    {
      "cell_type": "markdown",
      "metadata": {
        "id": "hSkPiM1_bgB6"
      },
      "source": [
        "# Models using Label Encoding."
      ]
    },
    {
      "cell_type": "code",
      "execution_count": null,
      "metadata": {
        "id": "y9A6GkygbggY"
      },
      "outputs": [],
      "source": [
        "#convert floats into int\n",
        "\n",
        "for col in ['TotalWorkingHours','Billable_Hours','Hours_off_Duty','Touring_Hours']:\n",
        "  train_copy[col] = train_copy[col].astype('int')"
      ]
    },
    {
      "cell_type": "code",
      "execution_count": null,
      "metadata": {
        "id": "FglRTzoObiIF"
      },
      "outputs": [],
      "source": [
        "#Do the same on the test data \n",
        "for col in ['TotalWorkingHours','Billable_Hours','Hours_off_Duty','Touring_Hours']:\n",
        "  test_copy[col] = test_copy[col].astype('int')"
      ]
    },
    {
      "cell_type": "code",
      "execution_count": null,
      "metadata": {
        "id": "lk59osepbjXd"
      },
      "outputs": [],
      "source": [
        "#on training data\n",
        "\n",
        "for col in ['Sex','Designation','NoOfProjects','joining_year','joining_month']:\n",
        "  train_copy[col] = train_copy[col].astype('object')\n",
        "#on testing data \n",
        "\n",
        "for col in ['Sex','Designation','NoOfProjects','joining_year','joining_month']:\n",
        "  test_copy[col] = test_copy[col].astype('object')\n",
        "\n",
        "train_copy['Left_Company'] = train_copy['Left_Company'].astype('category')"
      ]
    },
    {
      "cell_type": "code",
      "execution_count": null,
      "metadata": {
        "id": "4HBlU6Blbk18"
      },
      "outputs": [],
      "source": [
        "del train_copy['Left_Company']"
      ]
    },
    {
      "cell_type": "code",
      "execution_count": null,
      "metadata": {
        "id": "XgVMkwiIbmZ1"
      },
      "outputs": [],
      "source": []
    },
    {
      "cell_type": "markdown",
      "metadata": {
        "id": "loFYidBHboKp"
      },
      "source": [
        "### Encoding the data using Label encoder"
      ]
    },
    {
      "cell_type": "code",
      "execution_count": null,
      "metadata": {
        "id": "12WL1kCGbomZ"
      },
      "outputs": [],
      "source": [
        "#pass the label encoded data to the random forest Model\n",
        "\n",
        "for x in train_copy.columns:\n",
        "  if train_copy[x].dtype == 'object':\n",
        "        lbl = preprocessing.LabelEncoder()\n",
        "        lbl.fit(list(train_copy[x].values))\n",
        "        train_copy[x] = lbl.transform(list(train_copy[x].values))\n",
        "        "
      ]
    },
    {
      "cell_type": "code",
      "execution_count": null,
      "metadata": {
        "id": "K3RkV1Esbqlj",
        "colab": {
          "base_uri": "https://localhost:8080/",
          "height": 250
        },
        "outputId": "048d0b89-89de-461e-b6e4-64a3f96cec44"
      },
      "outputs": [
        {
          "output_type": "execute_result",
          "data": {
            "text/plain": [
              "   Job_History  Designation  Sex  TotalWorkingHours  Billable_Hours  \\\n",
              "0          156            2    1                205             189   \n",
              "1          217            4    0                241             233   \n",
              "2          129            3    1                278             264   \n",
              "3           28            3    1                345             233   \n",
              "4           34            3    1                270             249   \n",
              "\n",
              "   Hours_off_Duty  Touring_Hours  NoOfProjects  ActualTimeSpent  joining_year  \\\n",
              "0              72            189             3              231             8   \n",
              "1             120            186             2              147             3   \n",
              "2              40            264             3              308             8   \n",
              "3              64              0             2              217             9   \n",
              "4              88            213             2              231             8   \n",
              "\n",
              "   joining_month  job_count  \n",
              "0              0          3  \n",
              "1              1          4  \n",
              "2             11          2  \n",
              "3              0          3  \n",
              "4             11          1  "
            ],
            "text/html": [
              "\n",
              "  <div id=\"df-ac7f517c-24fc-4cd8-85d2-2dea10d962de\">\n",
              "    <div class=\"colab-df-container\">\n",
              "      <div>\n",
              "<style scoped>\n",
              "    .dataframe tbody tr th:only-of-type {\n",
              "        vertical-align: middle;\n",
              "    }\n",
              "\n",
              "    .dataframe tbody tr th {\n",
              "        vertical-align: top;\n",
              "    }\n",
              "\n",
              "    .dataframe thead th {\n",
              "        text-align: right;\n",
              "    }\n",
              "</style>\n",
              "<table border=\"1\" class=\"dataframe\">\n",
              "  <thead>\n",
              "    <tr style=\"text-align: right;\">\n",
              "      <th></th>\n",
              "      <th>Job_History</th>\n",
              "      <th>Designation</th>\n",
              "      <th>Sex</th>\n",
              "      <th>TotalWorkingHours</th>\n",
              "      <th>Billable_Hours</th>\n",
              "      <th>Hours_off_Duty</th>\n",
              "      <th>Touring_Hours</th>\n",
              "      <th>NoOfProjects</th>\n",
              "      <th>ActualTimeSpent</th>\n",
              "      <th>joining_year</th>\n",
              "      <th>joining_month</th>\n",
              "      <th>job_count</th>\n",
              "    </tr>\n",
              "  </thead>\n",
              "  <tbody>\n",
              "    <tr>\n",
              "      <th>0</th>\n",
              "      <td>156</td>\n",
              "      <td>2</td>\n",
              "      <td>1</td>\n",
              "      <td>205</td>\n",
              "      <td>189</td>\n",
              "      <td>72</td>\n",
              "      <td>189</td>\n",
              "      <td>3</td>\n",
              "      <td>231</td>\n",
              "      <td>8</td>\n",
              "      <td>0</td>\n",
              "      <td>3</td>\n",
              "    </tr>\n",
              "    <tr>\n",
              "      <th>1</th>\n",
              "      <td>217</td>\n",
              "      <td>4</td>\n",
              "      <td>0</td>\n",
              "      <td>241</td>\n",
              "      <td>233</td>\n",
              "      <td>120</td>\n",
              "      <td>186</td>\n",
              "      <td>2</td>\n",
              "      <td>147</td>\n",
              "      <td>3</td>\n",
              "      <td>1</td>\n",
              "      <td>4</td>\n",
              "    </tr>\n",
              "    <tr>\n",
              "      <th>2</th>\n",
              "      <td>129</td>\n",
              "      <td>3</td>\n",
              "      <td>1</td>\n",
              "      <td>278</td>\n",
              "      <td>264</td>\n",
              "      <td>40</td>\n",
              "      <td>264</td>\n",
              "      <td>3</td>\n",
              "      <td>308</td>\n",
              "      <td>8</td>\n",
              "      <td>11</td>\n",
              "      <td>2</td>\n",
              "    </tr>\n",
              "    <tr>\n",
              "      <th>3</th>\n",
              "      <td>28</td>\n",
              "      <td>3</td>\n",
              "      <td>1</td>\n",
              "      <td>345</td>\n",
              "      <td>233</td>\n",
              "      <td>64</td>\n",
              "      <td>0</td>\n",
              "      <td>2</td>\n",
              "      <td>217</td>\n",
              "      <td>9</td>\n",
              "      <td>0</td>\n",
              "      <td>3</td>\n",
              "    </tr>\n",
              "    <tr>\n",
              "      <th>4</th>\n",
              "      <td>34</td>\n",
              "      <td>3</td>\n",
              "      <td>1</td>\n",
              "      <td>270</td>\n",
              "      <td>249</td>\n",
              "      <td>88</td>\n",
              "      <td>213</td>\n",
              "      <td>2</td>\n",
              "      <td>231</td>\n",
              "      <td>8</td>\n",
              "      <td>11</td>\n",
              "      <td>1</td>\n",
              "    </tr>\n",
              "  </tbody>\n",
              "</table>\n",
              "</div>\n",
              "      <button class=\"colab-df-convert\" onclick=\"convertToInteractive('df-ac7f517c-24fc-4cd8-85d2-2dea10d962de')\"\n",
              "              title=\"Convert this dataframe to an interactive table.\"\n",
              "              style=\"display:none;\">\n",
              "        \n",
              "  <svg xmlns=\"http://www.w3.org/2000/svg\" height=\"24px\"viewBox=\"0 0 24 24\"\n",
              "       width=\"24px\">\n",
              "    <path d=\"M0 0h24v24H0V0z\" fill=\"none\"/>\n",
              "    <path d=\"M18.56 5.44l.94 2.06.94-2.06 2.06-.94-2.06-.94-.94-2.06-.94 2.06-2.06.94zm-11 1L8.5 8.5l.94-2.06 2.06-.94-2.06-.94L8.5 2.5l-.94 2.06-2.06.94zm10 10l.94 2.06.94-2.06 2.06-.94-2.06-.94-.94-2.06-.94 2.06-2.06.94z\"/><path d=\"M17.41 7.96l-1.37-1.37c-.4-.4-.92-.59-1.43-.59-.52 0-1.04.2-1.43.59L10.3 9.45l-7.72 7.72c-.78.78-.78 2.05 0 2.83L4 21.41c.39.39.9.59 1.41.59.51 0 1.02-.2 1.41-.59l7.78-7.78 2.81-2.81c.8-.78.8-2.07 0-2.86zM5.41 20L4 18.59l7.72-7.72 1.47 1.35L5.41 20z\"/>\n",
              "  </svg>\n",
              "      </button>\n",
              "      \n",
              "  <style>\n",
              "    .colab-df-container {\n",
              "      display:flex;\n",
              "      flex-wrap:wrap;\n",
              "      gap: 12px;\n",
              "    }\n",
              "\n",
              "    .colab-df-convert {\n",
              "      background-color: #E8F0FE;\n",
              "      border: none;\n",
              "      border-radius: 50%;\n",
              "      cursor: pointer;\n",
              "      display: none;\n",
              "      fill: #1967D2;\n",
              "      height: 32px;\n",
              "      padding: 0 0 0 0;\n",
              "      width: 32px;\n",
              "    }\n",
              "\n",
              "    .colab-df-convert:hover {\n",
              "      background-color: #E2EBFA;\n",
              "      box-shadow: 0px 1px 2px rgba(60, 64, 67, 0.3), 0px 1px 3px 1px rgba(60, 64, 67, 0.15);\n",
              "      fill: #174EA6;\n",
              "    }\n",
              "\n",
              "    [theme=dark] .colab-df-convert {\n",
              "      background-color: #3B4455;\n",
              "      fill: #D2E3FC;\n",
              "    }\n",
              "\n",
              "    [theme=dark] .colab-df-convert:hover {\n",
              "      background-color: #434B5C;\n",
              "      box-shadow: 0px 1px 3px 1px rgba(0, 0, 0, 0.15);\n",
              "      filter: drop-shadow(0px 1px 2px rgba(0, 0, 0, 0.3));\n",
              "      fill: #FFFFFF;\n",
              "    }\n",
              "  </style>\n",
              "\n",
              "      <script>\n",
              "        const buttonEl =\n",
              "          document.querySelector('#df-ac7f517c-24fc-4cd8-85d2-2dea10d962de button.colab-df-convert');\n",
              "        buttonEl.style.display =\n",
              "          google.colab.kernel.accessAllowed ? 'block' : 'none';\n",
              "\n",
              "        async function convertToInteractive(key) {\n",
              "          const element = document.querySelector('#df-ac7f517c-24fc-4cd8-85d2-2dea10d962de');\n",
              "          const dataTable =\n",
              "            await google.colab.kernel.invokeFunction('convertToInteractive',\n",
              "                                                     [key], {});\n",
              "          if (!dataTable) return;\n",
              "\n",
              "          const docLinkHtml = 'Like what you see? Visit the ' +\n",
              "            '<a target=\"_blank\" href=https://colab.research.google.com/notebooks/data_table.ipynb>data table notebook</a>'\n",
              "            + ' to learn more about interactive tables.';\n",
              "          element.innerHTML = '';\n",
              "          dataTable['output_type'] = 'display_data';\n",
              "          await google.colab.output.renderOutput(dataTable, element);\n",
              "          const docLink = document.createElement('div');\n",
              "          docLink.innerHTML = docLinkHtml;\n",
              "          element.appendChild(docLink);\n",
              "        }\n",
              "      </script>\n",
              "    </div>\n",
              "  </div>\n",
              "  "
            ]
          },
          "metadata": {},
          "execution_count": 207
        }
      ],
      "source": [
        "train_copy.head()"
      ]
    },
    {
      "cell_type": "code",
      "execution_count": null,
      "metadata": {
        "id": "QPZblxLTbshz"
      },
      "outputs": [],
      "source": [
        "x_train_l, x_test_l, y_train_l, y_test_l = train_test_split(train_copy, y, test_size= 0.3, random_state=12, stratify= y)"
      ]
    },
    {
      "cell_type": "code",
      "execution_count": null,
      "metadata": {
        "id": "ONBR39Jjbtx6",
        "colab": {
          "base_uri": "https://localhost:8080/",
          "height": 475
        },
        "outputId": "a5dcdffc-88c0-421f-cdaa-6804abd62828"
      },
      "outputs": [
        {
          "output_type": "execute_result",
          "data": {
            "text/plain": [
              "                                         Job_History Designation Sex  \\\n",
              "0  Worked at Company - 510 , Company - 658 , Comp...      Senior   0   \n",
              "1  Worked at Company - 42 , Company - 432 , Compa...          VP   1   \n",
              "2  Worked at Company - 99 , Company - 88 , Compan...         EVP   1   \n",
              "3            Worked at Company - 554 , Company - 304         EVP   1   \n",
              "4            Worked at Company - 548 , Company - 405          VP   1   \n",
              "\n",
              "   TotalWorkingHours  Billable_Hours  Hours_off_Duty  Touring_Hours  \\\n",
              "0                278             263              90              2   \n",
              "1                273             256              72            176   \n",
              "2                275             179              48            176   \n",
              "3                238             215              40            160   \n",
              "4                293             228              88            228   \n",
              "\n",
              "  NoOfProjects  ActualTimeSpent joining_year joining_month  job_count  \n",
              "0            2              203         2012            01          4  \n",
              "1            3              182         2012            02          3  \n",
              "2            3              154         2012            02          3  \n",
              "3            3              238         2012            04          2  \n",
              "4            4              315         2006            09          2  "
            ],
            "text/html": [
              "\n",
              "  <div id=\"df-75302588-ed91-4e41-ba66-8b4d06d22476\">\n",
              "    <div class=\"colab-df-container\">\n",
              "      <div>\n",
              "<style scoped>\n",
              "    .dataframe tbody tr th:only-of-type {\n",
              "        vertical-align: middle;\n",
              "    }\n",
              "\n",
              "    .dataframe tbody tr th {\n",
              "        vertical-align: top;\n",
              "    }\n",
              "\n",
              "    .dataframe thead th {\n",
              "        text-align: right;\n",
              "    }\n",
              "</style>\n",
              "<table border=\"1\" class=\"dataframe\">\n",
              "  <thead>\n",
              "    <tr style=\"text-align: right;\">\n",
              "      <th></th>\n",
              "      <th>Job_History</th>\n",
              "      <th>Designation</th>\n",
              "      <th>Sex</th>\n",
              "      <th>TotalWorkingHours</th>\n",
              "      <th>Billable_Hours</th>\n",
              "      <th>Hours_off_Duty</th>\n",
              "      <th>Touring_Hours</th>\n",
              "      <th>NoOfProjects</th>\n",
              "      <th>ActualTimeSpent</th>\n",
              "      <th>joining_year</th>\n",
              "      <th>joining_month</th>\n",
              "      <th>job_count</th>\n",
              "    </tr>\n",
              "  </thead>\n",
              "  <tbody>\n",
              "    <tr>\n",
              "      <th>0</th>\n",
              "      <td>Worked at Company - 510 , Company - 658 , Comp...</td>\n",
              "      <td>Senior</td>\n",
              "      <td>0</td>\n",
              "      <td>278</td>\n",
              "      <td>263</td>\n",
              "      <td>90</td>\n",
              "      <td>2</td>\n",
              "      <td>2</td>\n",
              "      <td>203</td>\n",
              "      <td>2012</td>\n",
              "      <td>01</td>\n",
              "      <td>4</td>\n",
              "    </tr>\n",
              "    <tr>\n",
              "      <th>1</th>\n",
              "      <td>Worked at Company - 42 , Company - 432 , Compa...</td>\n",
              "      <td>VP</td>\n",
              "      <td>1</td>\n",
              "      <td>273</td>\n",
              "      <td>256</td>\n",
              "      <td>72</td>\n",
              "      <td>176</td>\n",
              "      <td>3</td>\n",
              "      <td>182</td>\n",
              "      <td>2012</td>\n",
              "      <td>02</td>\n",
              "      <td>3</td>\n",
              "    </tr>\n",
              "    <tr>\n",
              "      <th>2</th>\n",
              "      <td>Worked at Company - 99 , Company - 88 , Compan...</td>\n",
              "      <td>EVP</td>\n",
              "      <td>1</td>\n",
              "      <td>275</td>\n",
              "      <td>179</td>\n",
              "      <td>48</td>\n",
              "      <td>176</td>\n",
              "      <td>3</td>\n",
              "      <td>154</td>\n",
              "      <td>2012</td>\n",
              "      <td>02</td>\n",
              "      <td>3</td>\n",
              "    </tr>\n",
              "    <tr>\n",
              "      <th>3</th>\n",
              "      <td>Worked at Company - 554 , Company - 304</td>\n",
              "      <td>EVP</td>\n",
              "      <td>1</td>\n",
              "      <td>238</td>\n",
              "      <td>215</td>\n",
              "      <td>40</td>\n",
              "      <td>160</td>\n",
              "      <td>3</td>\n",
              "      <td>238</td>\n",
              "      <td>2012</td>\n",
              "      <td>04</td>\n",
              "      <td>2</td>\n",
              "    </tr>\n",
              "    <tr>\n",
              "      <th>4</th>\n",
              "      <td>Worked at Company - 548 , Company - 405</td>\n",
              "      <td>VP</td>\n",
              "      <td>1</td>\n",
              "      <td>293</td>\n",
              "      <td>228</td>\n",
              "      <td>88</td>\n",
              "      <td>228</td>\n",
              "      <td>4</td>\n",
              "      <td>315</td>\n",
              "      <td>2006</td>\n",
              "      <td>09</td>\n",
              "      <td>2</td>\n",
              "    </tr>\n",
              "  </tbody>\n",
              "</table>\n",
              "</div>\n",
              "      <button class=\"colab-df-convert\" onclick=\"convertToInteractive('df-75302588-ed91-4e41-ba66-8b4d06d22476')\"\n",
              "              title=\"Convert this dataframe to an interactive table.\"\n",
              "              style=\"display:none;\">\n",
              "        \n",
              "  <svg xmlns=\"http://www.w3.org/2000/svg\" height=\"24px\"viewBox=\"0 0 24 24\"\n",
              "       width=\"24px\">\n",
              "    <path d=\"M0 0h24v24H0V0z\" fill=\"none\"/>\n",
              "    <path d=\"M18.56 5.44l.94 2.06.94-2.06 2.06-.94-2.06-.94-.94-2.06-.94 2.06-2.06.94zm-11 1L8.5 8.5l.94-2.06 2.06-.94-2.06-.94L8.5 2.5l-.94 2.06-2.06.94zm10 10l.94 2.06.94-2.06 2.06-.94-2.06-.94-.94-2.06-.94 2.06-2.06.94z\"/><path d=\"M17.41 7.96l-1.37-1.37c-.4-.4-.92-.59-1.43-.59-.52 0-1.04.2-1.43.59L10.3 9.45l-7.72 7.72c-.78.78-.78 2.05 0 2.83L4 21.41c.39.39.9.59 1.41.59.51 0 1.02-.2 1.41-.59l7.78-7.78 2.81-2.81c.8-.78.8-2.07 0-2.86zM5.41 20L4 18.59l7.72-7.72 1.47 1.35L5.41 20z\"/>\n",
              "  </svg>\n",
              "      </button>\n",
              "      \n",
              "  <style>\n",
              "    .colab-df-container {\n",
              "      display:flex;\n",
              "      flex-wrap:wrap;\n",
              "      gap: 12px;\n",
              "    }\n",
              "\n",
              "    .colab-df-convert {\n",
              "      background-color: #E8F0FE;\n",
              "      border: none;\n",
              "      border-radius: 50%;\n",
              "      cursor: pointer;\n",
              "      display: none;\n",
              "      fill: #1967D2;\n",
              "      height: 32px;\n",
              "      padding: 0 0 0 0;\n",
              "      width: 32px;\n",
              "    }\n",
              "\n",
              "    .colab-df-convert:hover {\n",
              "      background-color: #E2EBFA;\n",
              "      box-shadow: 0px 1px 2px rgba(60, 64, 67, 0.3), 0px 1px 3px 1px rgba(60, 64, 67, 0.15);\n",
              "      fill: #174EA6;\n",
              "    }\n",
              "\n",
              "    [theme=dark] .colab-df-convert {\n",
              "      background-color: #3B4455;\n",
              "      fill: #D2E3FC;\n",
              "    }\n",
              "\n",
              "    [theme=dark] .colab-df-convert:hover {\n",
              "      background-color: #434B5C;\n",
              "      box-shadow: 0px 1px 3px 1px rgba(0, 0, 0, 0.15);\n",
              "      filter: drop-shadow(0px 1px 2px rgba(0, 0, 0, 0.3));\n",
              "      fill: #FFFFFF;\n",
              "    }\n",
              "  </style>\n",
              "\n",
              "      <script>\n",
              "        const buttonEl =\n",
              "          document.querySelector('#df-75302588-ed91-4e41-ba66-8b4d06d22476 button.colab-df-convert');\n",
              "        buttonEl.style.display =\n",
              "          google.colab.kernel.accessAllowed ? 'block' : 'none';\n",
              "\n",
              "        async function convertToInteractive(key) {\n",
              "          const element = document.querySelector('#df-75302588-ed91-4e41-ba66-8b4d06d22476');\n",
              "          const dataTable =\n",
              "            await google.colab.kernel.invokeFunction('convertToInteractive',\n",
              "                                                     [key], {});\n",
              "          if (!dataTable) return;\n",
              "\n",
              "          const docLinkHtml = 'Like what you see? Visit the ' +\n",
              "            '<a target=\"_blank\" href=https://colab.research.google.com/notebooks/data_table.ipynb>data table notebook</a>'\n",
              "            + ' to learn more about interactive tables.';\n",
              "          element.innerHTML = '';\n",
              "          dataTable['output_type'] = 'display_data';\n",
              "          await google.colab.output.renderOutput(dataTable, element);\n",
              "          const docLink = document.createElement('div');\n",
              "          docLink.innerHTML = docLinkHtml;\n",
              "          element.appendChild(docLink);\n",
              "        }\n",
              "      </script>\n",
              "    </div>\n",
              "  </div>\n",
              "  "
            ]
          },
          "metadata": {},
          "execution_count": 209
        }
      ],
      "source": [
        "test_copy.head()"
      ]
    },
    {
      "cell_type": "code",
      "execution_count": null,
      "metadata": {
        "id": "vx6GPtgTbvDA"
      },
      "outputs": [],
      "source": []
    },
    {
      "cell_type": "markdown",
      "metadata": {
        "id": "drFPIfXIbzPq"
      },
      "source": [
        "### The training data is insufficient & it is underfitting when building the models. \n",
        "\n",
        "\n",
        "### The target labelled data is class imbalanced & should perform SMOTE method to over sample the data, It may be helpful in building the model without underfitting. "
      ]
    },
    {
      "cell_type": "code",
      "execution_count": null,
      "metadata": {
        "id": "ruDIDvembzxh"
      },
      "outputs": [],
      "source": []
    },
    {
      "cell_type": "markdown",
      "metadata": {
        "id": "Ft1_0TKub1cT"
      },
      "source": [
        "### Feature Engineering can be done by using the Job_History column by counting the no of companies he worked earlier & make better predictions. "
      ]
    },
    {
      "cell_type": "code",
      "execution_count": null,
      "metadata": {
        "id": "NPJN_3-vb2Hi"
      },
      "outputs": [],
      "source": []
    },
    {
      "cell_type": "markdown",
      "metadata": {
        "id": "h9LcjoKPb4Gx"
      },
      "source": [
        "# Deep Learning Techniques : "
      ]
    },
    {
      "cell_type": "code",
      "execution_count": null,
      "metadata": {
        "id": "d_yVE7QJb4ku",
        "colab": {
          "base_uri": "https://localhost:8080/"
        },
        "outputId": "ab003c54-04ff-4f00-ffbe-7b15af6630a8"
      },
      "outputs": [
        {
          "output_type": "stream",
          "name": "stderr",
          "text": [
            "Intel(R) Extension for Scikit-learn* enabled (https://github.com/intel/scikit-learn-intelex)\n"
          ]
        }
      ],
      "source": [
        "#importing packages \n",
        "from sklearnex import patch_sklearn\n",
        "patch_sklearn()\n",
        "import tensorflow as tf \n",
        "import keras\n",
        "from keras import Sequential\n",
        "from keras.layers import Dense, BatchNormalization, Dropout\n",
        "from keras.layers import Activation"
      ]
    },
    {
      "cell_type": "code",
      "execution_count": null,
      "metadata": {
        "id": "9GlEWMJOb56m",
        "colab": {
          "base_uri": "https://localhost:8080/"
        },
        "outputId": "65e8de91-fe74-492f-f239-5b74a07632c2"
      },
      "outputs": [
        {
          "output_type": "stream",
          "name": "stdout",
          "text": [
            "(304, 283)\n",
            "(132, 283)\n",
            "(304,)\n",
            "(132,)\n"
          ]
        }
      ],
      "source": [
        "# chceking the splitted data \n",
        "print(x_train_re.shape)\n",
        "print(x_test_re.shape)\n",
        "print(y_train_re.shape)\n",
        "print(y_test_re.shape)\n"
      ]
    },
    {
      "cell_type": "code",
      "execution_count": null,
      "metadata": {
        "id": "GwnYI8wZb7iA",
        "colab": {
          "base_uri": "https://localhost:8080/"
        },
        "outputId": "7a5c487b-b6f3-46a0-ca95-c996ff3f2705"
      },
      "outputs": [
        {
          "output_type": "stream",
          "name": "stdout",
          "text": [
            "(171, 12)\n",
            "(74, 12)\n",
            "(171,)\n",
            "(74,)\n"
          ]
        }
      ],
      "source": [
        "#chcecking the label encoded  data \n",
        "\n",
        "print(x_train_l.shape)\n",
        "print(x_test_l.shape)\n",
        "print(y_train_l.shape) \n",
        "print(y_test_l.shape)"
      ]
    },
    {
      "cell_type": "code",
      "execution_count": null,
      "metadata": {
        "id": "knZ5Po61b9FF",
        "colab": {
          "base_uri": "https://localhost:8080/"
        },
        "outputId": "d0efda6d-112c-4aa6-b134-9e4c1db5f1a5"
      },
      "outputs": [
        {
          "output_type": "execute_result",
          "data": {
            "text/plain": [
              "Job_History          int64\n",
              "Designation          int64\n",
              "Sex                  int64\n",
              "TotalWorkingHours    int64\n",
              "Billable_Hours       int64\n",
              "Hours_off_Duty       int64\n",
              "Touring_Hours        int64\n",
              "NoOfProjects         int64\n",
              "ActualTimeSpent      int64\n",
              "joining_year         int64\n",
              "joining_month        int64\n",
              "job_count            int64\n",
              "dtype: object"
            ]
          },
          "metadata": {},
          "execution_count": 213
        }
      ],
      "source": [
        "x_train_l.dtypes"
      ]
    },
    {
      "cell_type": "code",
      "execution_count": null,
      "metadata": {
        "id": "F-ieJCv0b-Tb"
      },
      "outputs": [],
      "source": [
        "model = Sequential()\n",
        "\n",
        "#layer-1\n",
        "model.add(Dense(6,kernel_initializer='glorot_uniform', input_dim=283))\n",
        "# model.add(BatchNormalization())\n",
        "model.add(Activation('relu'))\n",
        "\n",
        "#layer -2 \n",
        "\n",
        "#model.add(Dense(6, kernel_initializer='glorot_uniform', activation='relu'))\n",
        "#model.add(BatchNormalization())\n",
        "\n",
        "#layer-3 -Output layer \n",
        "\n",
        "model.add(Dense(1, activation='softmax', kernel_initializer='glorot_normal'))\n",
        "\n",
        "#compiling the model \n",
        "\n",
        "model.compile(optimizer='adam', loss='binary_crossentropy', metrics=['accuracy'])"
      ]
    },
    {
      "cell_type": "code",
      "execution_count": null,
      "metadata": {
        "id": "3rC7Oe8Ob_rV",
        "colab": {
          "base_uri": "https://localhost:8080/"
        },
        "outputId": "6e6ca2b6-ad87-4cdc-b3a0-f8d2973a9ba0"
      },
      "outputs": [
        {
          "output_type": "stream",
          "name": "stdout",
          "text": [
            "Epoch 1/100\n",
            "10/10 [==============================] - 1s 24ms/step - loss: 0.6634 - accuracy: 0.1136 - val_loss: 0.6969 - val_accuracy: 0.0800\n",
            "Epoch 2/100\n",
            "10/10 [==============================] - 0s 5ms/step - loss: 0.5962 - accuracy: 0.1136 - val_loss: 0.7080 - val_accuracy: 0.0800\n",
            "Epoch 3/100\n",
            "10/10 [==============================] - 0s 5ms/step - loss: 0.5400 - accuracy: 0.1136 - val_loss: 0.7167 - val_accuracy: 0.0800\n",
            "Epoch 4/100\n",
            "10/10 [==============================] - 0s 10ms/step - loss: 0.4927 - accuracy: 0.1136 - val_loss: 0.7267 - val_accuracy: 0.0800\n",
            "Epoch 5/100\n",
            "10/10 [==============================] - 0s 5ms/step - loss: 0.4557 - accuracy: 0.1136 - val_loss: 0.7355 - val_accuracy: 0.0800\n",
            "Epoch 6/100\n",
            "10/10 [==============================] - 0s 5ms/step - loss: 0.4205 - accuracy: 0.1136 - val_loss: 0.7441 - val_accuracy: 0.0800\n",
            "Epoch 7/100\n",
            "10/10 [==============================] - 0s 6ms/step - loss: 0.3917 - accuracy: 0.1136 - val_loss: 0.7516 - val_accuracy: 0.0800\n",
            "Epoch 8/100\n",
            "10/10 [==============================] - 0s 7ms/step - loss: 0.3654 - accuracy: 0.1136 - val_loss: 0.7594 - val_accuracy: 0.0800\n",
            "Epoch 9/100\n",
            "10/10 [==============================] - 0s 5ms/step - loss: 0.3426 - accuracy: 0.1136 - val_loss: 0.7666 - val_accuracy: 0.0800\n",
            "Epoch 10/100\n",
            "10/10 [==============================] - 0s 7ms/step - loss: 0.3218 - accuracy: 0.1136 - val_loss: 0.7712 - val_accuracy: 0.0800\n",
            "Epoch 11/100\n",
            "10/10 [==============================] - 0s 6ms/step - loss: 0.3033 - accuracy: 0.1136 - val_loss: 0.7764 - val_accuracy: 0.0800\n",
            "Epoch 12/100\n",
            "10/10 [==============================] - 0s 5ms/step - loss: 0.2856 - accuracy: 0.1136 - val_loss: 0.7811 - val_accuracy: 0.0800\n",
            "Epoch 13/100\n",
            "10/10 [==============================] - 0s 5ms/step - loss: 0.2700 - accuracy: 0.1136 - val_loss: 0.7846 - val_accuracy: 0.0800\n",
            "Epoch 14/100\n",
            "10/10 [==============================] - 0s 8ms/step - loss: 0.2549 - accuracy: 0.1136 - val_loss: 0.7878 - val_accuracy: 0.0800\n",
            "Epoch 15/100\n",
            "10/10 [==============================] - 0s 8ms/step - loss: 0.2416 - accuracy: 0.1136 - val_loss: 0.7901 - val_accuracy: 0.0800\n",
            "Epoch 16/100\n",
            "10/10 [==============================] - 0s 7ms/step - loss: 0.2287 - accuracy: 0.1136 - val_loss: 0.7933 - val_accuracy: 0.0800\n",
            "Epoch 17/100\n",
            "10/10 [==============================] - 0s 5ms/step - loss: 0.2173 - accuracy: 0.1136 - val_loss: 0.7957 - val_accuracy: 0.0800\n",
            "Epoch 18/100\n",
            "10/10 [==============================] - 0s 5ms/step - loss: 0.2059 - accuracy: 0.1136 - val_loss: 0.8001 - val_accuracy: 0.0800\n",
            "Epoch 19/100\n",
            "10/10 [==============================] - 0s 6ms/step - loss: 0.1960 - accuracy: 0.1136 - val_loss: 0.8027 - val_accuracy: 0.0800\n",
            "Epoch 20/100\n",
            "10/10 [==============================] - 0s 8ms/step - loss: 0.1862 - accuracy: 0.1136 - val_loss: 0.8060 - val_accuracy: 0.0800\n",
            "Epoch 21/100\n",
            "10/10 [==============================] - 0s 5ms/step - loss: 0.1775 - accuracy: 0.1136 - val_loss: 0.8096 - val_accuracy: 0.0800\n",
            "Epoch 22/100\n",
            "10/10 [==============================] - 0s 5ms/step - loss: 0.1694 - accuracy: 0.1136 - val_loss: 0.8140 - val_accuracy: 0.0800\n",
            "Epoch 23/100\n",
            "10/10 [==============================] - 0s 5ms/step - loss: 0.1616 - accuracy: 0.1136 - val_loss: 0.8164 - val_accuracy: 0.0800\n",
            "Epoch 24/100\n",
            "10/10 [==============================] - 0s 7ms/step - loss: 0.1540 - accuracy: 0.1136 - val_loss: 0.8203 - val_accuracy: 0.0800\n",
            "Epoch 25/100\n",
            "10/10 [==============================] - 0s 5ms/step - loss: 0.1475 - accuracy: 0.1136 - val_loss: 0.8247 - val_accuracy: 0.0800\n",
            "Epoch 26/100\n",
            "10/10 [==============================] - 0s 5ms/step - loss: 0.1413 - accuracy: 0.1136 - val_loss: 0.8276 - val_accuracy: 0.0800\n",
            "Epoch 27/100\n",
            "10/10 [==============================] - 0s 7ms/step - loss: 0.1356 - accuracy: 0.1136 - val_loss: 0.8313 - val_accuracy: 0.0800\n",
            "Epoch 28/100\n",
            "10/10 [==============================] - 0s 10ms/step - loss: 0.1302 - accuracy: 0.1136 - val_loss: 0.8341 - val_accuracy: 0.0800\n",
            "Epoch 29/100\n",
            "10/10 [==============================] - 0s 8ms/step - loss: 0.1254 - accuracy: 0.1136 - val_loss: 0.8384 - val_accuracy: 0.0800\n",
            "Epoch 30/100\n",
            "10/10 [==============================] - 0s 9ms/step - loss: 0.1206 - accuracy: 0.1136 - val_loss: 0.8428 - val_accuracy: 0.0800\n",
            "Epoch 31/100\n",
            "10/10 [==============================] - 0s 10ms/step - loss: 0.1162 - accuracy: 0.1136 - val_loss: 0.8457 - val_accuracy: 0.0800\n",
            "Epoch 32/100\n",
            "10/10 [==============================] - 0s 7ms/step - loss: 0.1120 - accuracy: 0.1136 - val_loss: 0.8488 - val_accuracy: 0.0800\n",
            "Epoch 33/100\n",
            "10/10 [==============================] - 0s 10ms/step - loss: 0.1081 - accuracy: 0.1136 - val_loss: 0.8513 - val_accuracy: 0.0800\n",
            "Epoch 34/100\n",
            "10/10 [==============================] - 0s 8ms/step - loss: 0.1044 - accuracy: 0.1136 - val_loss: 0.8535 - val_accuracy: 0.0800\n",
            "Epoch 35/100\n",
            "10/10 [==============================] - 0s 7ms/step - loss: 0.1010 - accuracy: 0.1136 - val_loss: 0.8567 - val_accuracy: 0.0800\n",
            "Epoch 36/100\n",
            "10/10 [==============================] - 0s 7ms/step - loss: 0.0979 - accuracy: 0.1136 - val_loss: 0.8591 - val_accuracy: 0.0800\n",
            "Epoch 37/100\n",
            "10/10 [==============================] - 0s 9ms/step - loss: 0.0949 - accuracy: 0.1136 - val_loss: 0.8621 - val_accuracy: 0.0800\n",
            "Epoch 38/100\n",
            "10/10 [==============================] - 0s 9ms/step - loss: 0.0922 - accuracy: 0.1136 - val_loss: 0.8636 - val_accuracy: 0.0800\n",
            "Epoch 39/100\n",
            "10/10 [==============================] - 0s 9ms/step - loss: 0.0896 - accuracy: 0.1136 - val_loss: 0.8671 - val_accuracy: 0.0800\n",
            "Epoch 40/100\n",
            "10/10 [==============================] - 0s 7ms/step - loss: 0.0872 - accuracy: 0.1136 - val_loss: 0.8698 - val_accuracy: 0.0800\n",
            "Epoch 41/100\n",
            "10/10 [==============================] - 0s 9ms/step - loss: 0.0849 - accuracy: 0.1136 - val_loss: 0.8716 - val_accuracy: 0.0800\n",
            "Epoch 42/100\n",
            "10/10 [==============================] - 0s 7ms/step - loss: 0.0828 - accuracy: 0.1136 - val_loss: 0.8729 - val_accuracy: 0.0800\n",
            "Epoch 43/100\n",
            "10/10 [==============================] - 0s 7ms/step - loss: 0.0808 - accuracy: 0.1136 - val_loss: 0.8747 - val_accuracy: 0.0800\n",
            "Epoch 44/100\n",
            "10/10 [==============================] - 0s 7ms/step - loss: 0.0789 - accuracy: 0.1136 - val_loss: 0.8780 - val_accuracy: 0.0800\n",
            "Epoch 45/100\n",
            "10/10 [==============================] - 0s 7ms/step - loss: 0.0770 - accuracy: 0.1136 - val_loss: 0.8798 - val_accuracy: 0.0800\n",
            "Epoch 46/100\n",
            "10/10 [==============================] - 0s 9ms/step - loss: 0.0754 - accuracy: 0.1136 - val_loss: 0.8816 - val_accuracy: 0.0800\n",
            "Epoch 47/100\n",
            "10/10 [==============================] - 0s 7ms/step - loss: 0.0738 - accuracy: 0.1136 - val_loss: 0.8846 - val_accuracy: 0.0800\n",
            "Epoch 48/100\n",
            "10/10 [==============================] - 0s 7ms/step - loss: 0.0723 - accuracy: 0.1136 - val_loss: 0.8865 - val_accuracy: 0.0800\n",
            "Epoch 49/100\n",
            "10/10 [==============================] - 0s 10ms/step - loss: 0.0709 - accuracy: 0.1136 - val_loss: 0.8882 - val_accuracy: 0.0800\n",
            "Epoch 50/100\n",
            "10/10 [==============================] - 0s 7ms/step - loss: 0.0695 - accuracy: 0.1136 - val_loss: 0.8900 - val_accuracy: 0.0800\n",
            "Epoch 51/100\n",
            "10/10 [==============================] - 0s 9ms/step - loss: 0.0682 - accuracy: 0.1136 - val_loss: 0.8912 - val_accuracy: 0.0800\n",
            "Epoch 52/100\n",
            "10/10 [==============================] - 0s 9ms/step - loss: 0.0671 - accuracy: 0.1136 - val_loss: 0.8933 - val_accuracy: 0.0800\n",
            "Epoch 53/100\n",
            "10/10 [==============================] - 0s 9ms/step - loss: 0.0659 - accuracy: 0.1136 - val_loss: 0.8950 - val_accuracy: 0.0800\n",
            "Epoch 54/100\n",
            "10/10 [==============================] - 0s 7ms/step - loss: 0.0647 - accuracy: 0.1136 - val_loss: 0.8961 - val_accuracy: 0.0800\n",
            "Epoch 55/100\n",
            "10/10 [==============================] - 0s 7ms/step - loss: 0.0637 - accuracy: 0.1136 - val_loss: 0.8965 - val_accuracy: 0.0800\n",
            "Epoch 56/100\n",
            "10/10 [==============================] - 0s 8ms/step - loss: 0.0627 - accuracy: 0.1136 - val_loss: 0.8978 - val_accuracy: 0.0800\n",
            "Epoch 57/100\n",
            "10/10 [==============================] - 0s 7ms/step - loss: 0.0618 - accuracy: 0.1136 - val_loss: 0.9008 - val_accuracy: 0.0800\n",
            "Epoch 58/100\n",
            "10/10 [==============================] - 0s 9ms/step - loss: 0.0609 - accuracy: 0.1136 - val_loss: 0.9032 - val_accuracy: 0.0800\n",
            "Epoch 59/100\n",
            "10/10 [==============================] - 0s 7ms/step - loss: 0.0600 - accuracy: 0.1136 - val_loss: 0.9040 - val_accuracy: 0.0800\n",
            "Epoch 60/100\n",
            "10/10 [==============================] - 0s 9ms/step - loss: 0.0592 - accuracy: 0.1136 - val_loss: 0.9050 - val_accuracy: 0.0800\n",
            "Epoch 61/100\n",
            "10/10 [==============================] - 0s 10ms/step - loss: 0.0584 - accuracy: 0.1136 - val_loss: 0.9060 - val_accuracy: 0.0800\n",
            "Epoch 62/100\n",
            "10/10 [==============================] - 0s 9ms/step - loss: 0.0576 - accuracy: 0.1136 - val_loss: 0.9071 - val_accuracy: 0.0800\n",
            "Epoch 63/100\n",
            "10/10 [==============================] - 0s 8ms/step - loss: 0.0569 - accuracy: 0.1136 - val_loss: 0.9078 - val_accuracy: 0.0800\n",
            "Epoch 64/100\n",
            "10/10 [==============================] - 0s 7ms/step - loss: 0.0562 - accuracy: 0.1136 - val_loss: 0.9092 - val_accuracy: 0.0800\n",
            "Epoch 65/100\n",
            "10/10 [==============================] - 0s 7ms/step - loss: 0.0556 - accuracy: 0.1136 - val_loss: 0.9105 - val_accuracy: 0.0800\n",
            "Epoch 66/100\n",
            "10/10 [==============================] - 0s 8ms/step - loss: 0.0549 - accuracy: 0.1136 - val_loss: 0.9110 - val_accuracy: 0.0800\n",
            "Epoch 67/100\n",
            "10/10 [==============================] - 0s 7ms/step - loss: 0.0543 - accuracy: 0.1136 - val_loss: 0.9115 - val_accuracy: 0.0800\n",
            "Epoch 68/100\n",
            "10/10 [==============================] - 0s 7ms/step - loss: 0.0537 - accuracy: 0.1136 - val_loss: 0.9133 - val_accuracy: 0.0800\n",
            "Epoch 69/100\n",
            "10/10 [==============================] - 0s 9ms/step - loss: 0.0532 - accuracy: 0.1136 - val_loss: 0.9148 - val_accuracy: 0.0800\n",
            "Epoch 70/100\n",
            "10/10 [==============================] - 0s 8ms/step - loss: 0.0526 - accuracy: 0.1136 - val_loss: 0.9155 - val_accuracy: 0.0800\n",
            "Epoch 71/100\n",
            "10/10 [==============================] - 0s 8ms/step - loss: 0.0521 - accuracy: 0.1136 - val_loss: 0.9163 - val_accuracy: 0.0800\n",
            "Epoch 72/100\n",
            "10/10 [==============================] - 0s 7ms/step - loss: 0.0516 - accuracy: 0.1136 - val_loss: 0.9177 - val_accuracy: 0.0800\n",
            "Epoch 73/100\n",
            "10/10 [==============================] - 0s 9ms/step - loss: 0.0511 - accuracy: 0.1136 - val_loss: 0.9179 - val_accuracy: 0.0800\n",
            "Epoch 74/100\n",
            "10/10 [==============================] - 0s 7ms/step - loss: 0.0506 - accuracy: 0.1136 - val_loss: 0.9177 - val_accuracy: 0.0800\n",
            "Epoch 75/100\n",
            "10/10 [==============================] - 0s 7ms/step - loss: 0.0502 - accuracy: 0.1136 - val_loss: 0.9181 - val_accuracy: 0.0800\n",
            "Epoch 76/100\n",
            "10/10 [==============================] - 0s 7ms/step - loss: 0.0497 - accuracy: 0.1136 - val_loss: 0.9188 - val_accuracy: 0.0800\n",
            "Epoch 77/100\n",
            "10/10 [==============================] - 0s 7ms/step - loss: 0.0493 - accuracy: 0.1136 - val_loss: 0.9189 - val_accuracy: 0.0800\n",
            "Epoch 78/100\n",
            "10/10 [==============================] - 0s 9ms/step - loss: 0.0489 - accuracy: 0.1136 - val_loss: 0.9194 - val_accuracy: 0.0800\n",
            "Epoch 79/100\n",
            "10/10 [==============================] - 0s 9ms/step - loss: 0.0485 - accuracy: 0.1136 - val_loss: 0.9197 - val_accuracy: 0.0800\n",
            "Epoch 80/100\n",
            "10/10 [==============================] - 0s 9ms/step - loss: 0.0481 - accuracy: 0.1136 - val_loss: 0.9198 - val_accuracy: 0.0800\n",
            "Epoch 81/100\n",
            "10/10 [==============================] - 0s 8ms/step - loss: 0.0477 - accuracy: 0.1136 - val_loss: 0.9203 - val_accuracy: 0.0800\n",
            "Epoch 82/100\n",
            "10/10 [==============================] - 0s 7ms/step - loss: 0.0474 - accuracy: 0.1136 - val_loss: 0.9214 - val_accuracy: 0.0800\n",
            "Epoch 83/100\n",
            "10/10 [==============================] - 0s 9ms/step - loss: 0.0471 - accuracy: 0.1136 - val_loss: 0.9219 - val_accuracy: 0.0800\n",
            "Epoch 84/100\n",
            "10/10 [==============================] - 0s 9ms/step - loss: 0.0467 - accuracy: 0.1136 - val_loss: 0.9232 - val_accuracy: 0.0800\n",
            "Epoch 85/100\n",
            "10/10 [==============================] - 0s 8ms/step - loss: 0.0464 - accuracy: 0.1136 - val_loss: 0.9239 - val_accuracy: 0.0800\n",
            "Epoch 86/100\n",
            "10/10 [==============================] - 0s 8ms/step - loss: 0.0461 - accuracy: 0.1136 - val_loss: 0.9246 - val_accuracy: 0.0800\n",
            "Epoch 87/100\n",
            "10/10 [==============================] - 0s 10ms/step - loss: 0.0458 - accuracy: 0.1136 - val_loss: 0.9245 - val_accuracy: 0.0800\n",
            "Epoch 88/100\n",
            "10/10 [==============================] - 0s 9ms/step - loss: 0.0455 - accuracy: 0.1136 - val_loss: 0.9244 - val_accuracy: 0.0800\n",
            "Epoch 89/100\n",
            "10/10 [==============================] - 0s 8ms/step - loss: 0.0452 - accuracy: 0.1136 - val_loss: 0.9247 - val_accuracy: 0.0800\n",
            "Epoch 90/100\n",
            "10/10 [==============================] - 0s 9ms/step - loss: 0.0449 - accuracy: 0.1136 - val_loss: 0.9262 - val_accuracy: 0.0800\n",
            "Epoch 91/100\n",
            "10/10 [==============================] - 0s 10ms/step - loss: 0.0446 - accuracy: 0.1136 - val_loss: 0.9265 - val_accuracy: 0.0800\n",
            "Epoch 92/100\n",
            "10/10 [==============================] - 0s 11ms/step - loss: 0.0443 - accuracy: 0.1136 - val_loss: 0.9264 - val_accuracy: 0.0800\n",
            "Epoch 93/100\n",
            "10/10 [==============================] - 0s 9ms/step - loss: 0.0441 - accuracy: 0.1136 - val_loss: 0.9258 - val_accuracy: 0.0800\n",
            "Epoch 94/100\n",
            "10/10 [==============================] - 0s 7ms/step - loss: 0.0438 - accuracy: 0.1136 - val_loss: 0.9265 - val_accuracy: 0.0800\n",
            "Epoch 95/100\n",
            "10/10 [==============================] - 0s 5ms/step - loss: 0.0436 - accuracy: 0.1136 - val_loss: 0.9260 - val_accuracy: 0.0800\n",
            "Epoch 96/100\n",
            "10/10 [==============================] - 0s 5ms/step - loss: 0.0433 - accuracy: 0.1136 - val_loss: 0.9254 - val_accuracy: 0.0800\n",
            "Epoch 97/100\n",
            "10/10 [==============================] - 0s 5ms/step - loss: 0.0431 - accuracy: 0.1136 - val_loss: 0.9250 - val_accuracy: 0.0800\n",
            "Epoch 98/100\n",
            "10/10 [==============================] - 0s 6ms/step - loss: 0.0428 - accuracy: 0.1136 - val_loss: 0.9249 - val_accuracy: 0.0800\n",
            "Epoch 99/100\n",
            "10/10 [==============================] - 0s 5ms/step - loss: 0.0426 - accuracy: 0.1136 - val_loss: 0.9251 - val_accuracy: 0.0800\n",
            "Epoch 100/100\n",
            "10/10 [==============================] - 0s 7ms/step - loss: 0.0424 - accuracy: 0.1136 - val_loss: 0.9250 - val_accuracy: 0.0800\n"
          ]
        }
      ],
      "source": [
        "model_1 = model.fit(std_x, y, epochs=100, batch_size=22, validation_split=0.1)"
      ]
    },
    {
      "cell_type": "markdown",
      "source": [
        "## *** Tier 2 successfully completed***"
      ],
      "metadata": {
        "id": "INviAAqun7nB"
      }
    },
    {
      "cell_type": "code",
      "source": [],
      "metadata": {
        "id": "mQfZBT0joERl"
      },
      "execution_count": null,
      "outputs": []
    }
  ],
  "metadata": {
    "colab": {
      "provenance": [],
      "authorship_tag": "ABX9TyMgMkrmWDUMeLwOnP0Ui1XS",
      "include_colab_link": true
    },
    "kernelspec": {
      "display_name": "Python 3",
      "name": "python3"
    },
    "language_info": {
      "name": "python"
    }
  },
  "nbformat": 4,
  "nbformat_minor": 0
}