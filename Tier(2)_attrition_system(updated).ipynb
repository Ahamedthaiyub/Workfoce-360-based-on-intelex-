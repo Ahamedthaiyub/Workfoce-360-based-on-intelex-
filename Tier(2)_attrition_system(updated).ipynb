{
  "cells": [
    {
      "cell_type": "markdown",
      "metadata": {
        "id": "B0KdeFD2l1ml"
      },
      "source": [
        "## ***Importing and instaling requirements***"
      ]
    },
    {
      "cell_type": "code",
      "execution_count": null,
      "metadata": {
        "colab": {
          "base_uri": "https://localhost:8080/"
        },
        "id": "tw6MA6Icjg7P",
        "outputId": "520df523-3d8e-4601-ac4e-e90de22be4f0"
      },
      "outputs": [
        {
          "output_type": "stream",
          "name": "stdout",
          "text": [
            "Drive already mounted at /content/drive; to attempt to forcibly remount, call drive.mount(\"/content/drive\", force_remount=True).\n"
          ]
        }
      ],
      "source": [
        "from google.colab import drive\n",
        "drive.mount('/content/drive')\n"
      ]
    },
    {
      "cell_type": "code",
      "execution_count": null,
      "metadata": {
        "colab": {
          "base_uri": "https://localhost:8080/"
        },
        "id": "P16dTn8lfTmI",
        "outputId": "fbef4d89-18e3-42d9-d582-75d5459c5d4d"
      },
      "outputs": [
        {
          "output_type": "stream",
          "name": "stdout",
          "text": [
            "Looking in indexes: https://pypi.org/simple, https://us-python.pkg.dev/colab-wheels/public/simple/\n",
            "Requirement already satisfied: scikit-learn-intelex in /usr/local/lib/python3.10/dist-packages (2023.1.1)\n",
            "Requirement already satisfied: daal4py==2023.1.1 in /usr/local/lib/python3.10/dist-packages (from scikit-learn-intelex) (2023.1.1)\n",
            "Requirement already satisfied: scikit-learn>=0.22 in /usr/local/lib/python3.10/dist-packages (from scikit-learn-intelex) (1.2.2)\n",
            "Requirement already satisfied: daal==2023.1.1 in /usr/local/lib/python3.10/dist-packages (from daal4py==2023.1.1->scikit-learn-intelex) (2023.1.1)\n",
            "Requirement already satisfied: numpy>=1.19 in /usr/local/lib/python3.10/dist-packages (from daal4py==2023.1.1->scikit-learn-intelex) (1.22.4)\n",
            "Requirement already satisfied: tbb==2021.* in /usr/local/lib/python3.10/dist-packages (from daal==2023.1.1->daal4py==2023.1.1->scikit-learn-intelex) (2021.9.0)\n",
            "Requirement already satisfied: scipy>=1.3.2 in /usr/local/lib/python3.10/dist-packages (from scikit-learn>=0.22->scikit-learn-intelex) (1.10.1)\n",
            "Requirement already satisfied: joblib>=1.1.1 in /usr/local/lib/python3.10/dist-packages (from scikit-learn>=0.22->scikit-learn-intelex) (1.2.0)\n",
            "Requirement already satisfied: threadpoolctl>=2.0.0 in /usr/local/lib/python3.10/dist-packages (from scikit-learn>=0.22->scikit-learn-intelex) (3.1.0)\n"
          ]
        }
      ],
      "source": [
        "pip install scikit-learn-intelex"
      ]
    },
    {
      "cell_type": "code",
      "execution_count": null,
      "metadata": {
        "colab": {
          "base_uri": "https://localhost:8080/"
        },
        "id": "DkZqmRV6Ec31",
        "outputId": "599ed1ed-c32a-486e-8a3c-84da226343c8"
      },
      "outputs": [
        {
          "output_type": "stream",
          "name": "stdout",
          "text": [
            "Looking in indexes: https://pypi.org/simple, https://us-python.pkg.dev/colab-wheels/public/simple/\n",
            "Requirement already satisfied: scikit-learn-intelex in /usr/local/lib/python3.10/dist-packages (2023.1.1)\n",
            "Requirement already satisfied: daal4py==2023.1.1 in /usr/local/lib/python3.10/dist-packages (from scikit-learn-intelex) (2023.1.1)\n",
            "Requirement already satisfied: scikit-learn>=0.22 in /usr/local/lib/python3.10/dist-packages (from scikit-learn-intelex) (1.2.2)\n",
            "Requirement already satisfied: daal==2023.1.1 in /usr/local/lib/python3.10/dist-packages (from daal4py==2023.1.1->scikit-learn-intelex) (2023.1.1)\n",
            "Requirement already satisfied: numpy>=1.19 in /usr/local/lib/python3.10/dist-packages (from daal4py==2023.1.1->scikit-learn-intelex) (1.22.4)\n",
            "Requirement already satisfied: tbb==2021.* in /usr/local/lib/python3.10/dist-packages (from daal==2023.1.1->daal4py==2023.1.1->scikit-learn-intelex) (2021.9.0)\n",
            "Requirement already satisfied: scipy>=1.3.2 in /usr/local/lib/python3.10/dist-packages (from scikit-learn>=0.22->scikit-learn-intelex) (1.10.1)\n",
            "Requirement already satisfied: joblib>=1.1.1 in /usr/local/lib/python3.10/dist-packages (from scikit-learn>=0.22->scikit-learn-intelex) (1.2.0)\n",
            "Requirement already satisfied: threadpoolctl>=2.0.0 in /usr/local/lib/python3.10/dist-packages (from scikit-learn>=0.22->scikit-learn-intelex) (3.1.0)\n"
          ]
        }
      ],
      "source": [
        "pip install scikit-learn-intelex"
      ]
    },
    {
      "cell_type": "code",
      "execution_count": null,
      "metadata": {
        "id": "Lj3sit2qkX21"
      },
      "outputs": [],
      "source": [
        "##importing libraries\n",
        "import pandas as pd\n",
        "import numpy as np\n"
      ]
    },
    {
      "cell_type": "code",
      "execution_count": null,
      "metadata": {
        "colab": {
          "base_uri": "https://localhost:8080/"
        },
        "id": "9OVn4AaMZgyT",
        "outputId": "b0b8adc2-2950-47ee-eacc-1c150b08dd48"
      },
      "outputs": [
        {
          "output_type": "stream",
          "name": "stderr",
          "text": [
            "Intel(R) Extension for Scikit-learn* enabled (https://github.com/intel/scikit-learn-intelex)\n"
          ]
        }
      ],
      "source": [
        "from sklearnex import patch_sklearn\n",
        "patch_sklearn()\n",
        "import pandas as pd\n",
        "import time\n",
        "\n",
        "from sklearn.model_selection import train_test_split\n",
        "import numpy as np\n",
        "from sklearn.naive_bayes import MultinomialNB\n",
        "from sklearn.metrics import classification_report\n",
        "from matplotlib import pyplot as plt\n",
        "import seaborn as sn\n",
        "from sklearn.metrics import confusion_matrix\n",
        "from sklearn.ensemble import RandomForestClassifier\n",
        "from sklearn import neural_network \n",
        "from sklearn import tree\n",
        "from sklearn.feature_extraction.text import TfidfVectorizer\n",
        "from imblearn.over_sampling import SMOTE"
      ]
    },
    {
      "cell_type": "code",
      "execution_count": null,
      "metadata": {
        "colab": {
          "base_uri": "https://localhost:8080/"
        },
        "id": "J0v2SVD-fn_O",
        "outputId": "84a69b16-9cea-459e-9105-65c27c2dc1e5"
      },
      "outputs": [
        {
          "output_type": "stream",
          "name": "stderr",
          "text": [
            "Intel(R) Extension for Scikit-learn* enabled (https://github.com/intel/scikit-learn-intelex)\n"
          ]
        }
      ],
      "source": [
        "#importing Machine larning libraries\n",
        "from sklearn import preprocessing\n",
        "from sklearnex import patch_sklearn\n",
        "patch_sklearn()\n",
        "\n",
        "from sklearn.impute import SimpleImputer\n",
        "\n",
        "from sklearn.compose import ColumnTransformer\n",
        "\n",
        "from sklearn.preprocessing import StandardScaler\n",
        "from sklearn.preprocessing import OneHotEncoder\n",
        "from sklearn.model_selection import train_test_split\n",
        "from sklearn.pipeline import Pipeline\n",
        "from sklearn.model_selection import GridSearchCV, cross_val_score, StratifiedKFold\n",
        "\n",
        "from sklearn.tree import DecisionTreeClassifier\n",
        "from sklearn.ensemble import RandomForestClassifier\n",
        "from sklearn.svm import SVC\n",
        "from sklearn.linear_model import LogisticRegression\n",
        "\n",
        "from sklearn.ensemble import GradientBoostingClassifier\n",
        "from sklearn.ensemble import AdaBoostClassifier\n",
        "from sklearn.metrics import confusion_matrix\n",
        "\n",
        "import matplotlib.pyplot as plt\n",
        "import seaborn as sns\n",
        "from imblearn.over_sampling import SMOTE\n",
        "from sklearn.metrics import accuracy_score, recall_score, precision_score, f1_score\n",
        "\n",
        "\n",
        "import warnings\n",
        "warnings.filterwarnings('ignore')"
      ]
    },
    {
      "cell_type": "markdown",
      "metadata": {
        "id": "4C5Y5LcxkLeF"
      },
      "source": [
        "## **PROBLEM STATEMENT(tier 2)**\n",
        "Employee attrition is a significant issue for companies, resulting in substantial costs for hiring, retraining, productivity, and work loss for each employee who leaves. To address this, a model needs to be built to predict whether an employee is likely to quit in the near future."
      ]
    },
    {
      "cell_type": "markdown",
      "metadata": {
        "id": "jNTjPjPQkXLx"
      },
      "source": [
        "# Reading the data sets & knowing about each attribute."
      ]
    },
    {
      "cell_type": "code",
      "execution_count": null,
      "metadata": {
        "id": "pjMLIKAyk1K9"
      },
      "outputs": [],
      "source": [
        "##reading train_data \n",
        "#Reading train_data \n",
        "train_attrition = pd.read_csv(\"/content/drive/My Drive/train_attrition.csv\")\n",
        "train_work = pd.read_csv(\"/content/drive/My Drive/train_work.csv\")\n"
      ]
    },
    {
      "cell_type": "code",
      "execution_count": null,
      "metadata": {
        "id": "awmBvIAFlH_g"
      },
      "outputs": [],
      "source": [
        "#Reading the employee_data\n",
        "emp_data = pd.read_csv(\"/content/drive/My Drive/employee_data.csv\")"
      ]
    },
    {
      "cell_type": "code",
      "execution_count": null,
      "metadata": {
        "id": "t3nG5C0GmEK6"
      },
      "outputs": [],
      "source": [
        "#Reading the test data \n",
        "test_attrition = pd.read_csv(\"/content/drive/My Drive/test_attrition.csv\")\n",
        "test_work = pd.read_csv(\"/content/drive/My Drive/test_work.csv\")"
      ]
    },
    {
      "cell_type": "markdown",
      "metadata": {
        "id": "d2a5PPUVmbx_"
      },
      "source": [
        "##viewing train_work\n"
      ]
    },
    {
      "cell_type": "code",
      "execution_count": null,
      "metadata": {
        "colab": {
          "base_uri": "https://localhost:8080/",
          "height": 206
        },
        "id": "YVmvc4O3p35k",
        "outputId": "36ae1f3c-4274-44cf-c696-26e8dc288826"
      },
      "outputs": [
        {
          "output_type": "execute_result",
          "data": {
            "text/plain": [
              "  EmployeeID  TotalWorkingHours  Billable_Hours  Hours_off_Duty  \\\n",
              "0      emp-1              184.0           144.0            40.0   \n",
              "1      emp-1              176.0           136.0            40.0   \n",
              "2      emp-1              200.0           120.0            72.0   \n",
              "3      emp-1              160.0           144.0             8.0   \n",
              "4      emp-1              171.0           135.0             0.0   \n",
              "\n",
              "   Touring_Hours  NoOfProjects  ActualTimeSpent  \n",
              "0          144.0             3               77  \n",
              "1          136.0             2               98  \n",
              "2          120.0             1               14  \n",
              "3          144.0             3              147  \n",
              "4          135.0             1               42  "
            ],
            "text/html": [
              "\n",
              "  <div id=\"df-69a29bd4-fa5e-45c0-99b8-61d61c28dee3\">\n",
              "    <div class=\"colab-df-container\">\n",
              "      <div>\n",
              "<style scoped>\n",
              "    .dataframe tbody tr th:only-of-type {\n",
              "        vertical-align: middle;\n",
              "    }\n",
              "\n",
              "    .dataframe tbody tr th {\n",
              "        vertical-align: top;\n",
              "    }\n",
              "\n",
              "    .dataframe thead th {\n",
              "        text-align: right;\n",
              "    }\n",
              "</style>\n",
              "<table border=\"1\" class=\"dataframe\">\n",
              "  <thead>\n",
              "    <tr style=\"text-align: right;\">\n",
              "      <th></th>\n",
              "      <th>EmployeeID</th>\n",
              "      <th>TotalWorkingHours</th>\n",
              "      <th>Billable_Hours</th>\n",
              "      <th>Hours_off_Duty</th>\n",
              "      <th>Touring_Hours</th>\n",
              "      <th>NoOfProjects</th>\n",
              "      <th>ActualTimeSpent</th>\n",
              "    </tr>\n",
              "  </thead>\n",
              "  <tbody>\n",
              "    <tr>\n",
              "      <th>0</th>\n",
              "      <td>emp-1</td>\n",
              "      <td>184.0</td>\n",
              "      <td>144.0</td>\n",
              "      <td>40.0</td>\n",
              "      <td>144.0</td>\n",
              "      <td>3</td>\n",
              "      <td>77</td>\n",
              "    </tr>\n",
              "    <tr>\n",
              "      <th>1</th>\n",
              "      <td>emp-1</td>\n",
              "      <td>176.0</td>\n",
              "      <td>136.0</td>\n",
              "      <td>40.0</td>\n",
              "      <td>136.0</td>\n",
              "      <td>2</td>\n",
              "      <td>98</td>\n",
              "    </tr>\n",
              "    <tr>\n",
              "      <th>2</th>\n",
              "      <td>emp-1</td>\n",
              "      <td>200.0</td>\n",
              "      <td>120.0</td>\n",
              "      <td>72.0</td>\n",
              "      <td>120.0</td>\n",
              "      <td>1</td>\n",
              "      <td>14</td>\n",
              "    </tr>\n",
              "    <tr>\n",
              "      <th>3</th>\n",
              "      <td>emp-1</td>\n",
              "      <td>160.0</td>\n",
              "      <td>144.0</td>\n",
              "      <td>8.0</td>\n",
              "      <td>144.0</td>\n",
              "      <td>3</td>\n",
              "      <td>147</td>\n",
              "    </tr>\n",
              "    <tr>\n",
              "      <th>4</th>\n",
              "      <td>emp-1</td>\n",
              "      <td>171.0</td>\n",
              "      <td>135.0</td>\n",
              "      <td>0.0</td>\n",
              "      <td>135.0</td>\n",
              "      <td>1</td>\n",
              "      <td>42</td>\n",
              "    </tr>\n",
              "  </tbody>\n",
              "</table>\n",
              "</div>\n",
              "      <button class=\"colab-df-convert\" onclick=\"convertToInteractive('df-69a29bd4-fa5e-45c0-99b8-61d61c28dee3')\"\n",
              "              title=\"Convert this dataframe to an interactive table.\"\n",
              "              style=\"display:none;\">\n",
              "        \n",
              "  <svg xmlns=\"http://www.w3.org/2000/svg\" height=\"24px\"viewBox=\"0 0 24 24\"\n",
              "       width=\"24px\">\n",
              "    <path d=\"M0 0h24v24H0V0z\" fill=\"none\"/>\n",
              "    <path d=\"M18.56 5.44l.94 2.06.94-2.06 2.06-.94-2.06-.94-.94-2.06-.94 2.06-2.06.94zm-11 1L8.5 8.5l.94-2.06 2.06-.94-2.06-.94L8.5 2.5l-.94 2.06-2.06.94zm10 10l.94 2.06.94-2.06 2.06-.94-2.06-.94-.94-2.06-.94 2.06-2.06.94z\"/><path d=\"M17.41 7.96l-1.37-1.37c-.4-.4-.92-.59-1.43-.59-.52 0-1.04.2-1.43.59L10.3 9.45l-7.72 7.72c-.78.78-.78 2.05 0 2.83L4 21.41c.39.39.9.59 1.41.59.51 0 1.02-.2 1.41-.59l7.78-7.78 2.81-2.81c.8-.78.8-2.07 0-2.86zM5.41 20L4 18.59l7.72-7.72 1.47 1.35L5.41 20z\"/>\n",
              "  </svg>\n",
              "      </button>\n",
              "      \n",
              "  <style>\n",
              "    .colab-df-container {\n",
              "      display:flex;\n",
              "      flex-wrap:wrap;\n",
              "      gap: 12px;\n",
              "    }\n",
              "\n",
              "    .colab-df-convert {\n",
              "      background-color: #E8F0FE;\n",
              "      border: none;\n",
              "      border-radius: 50%;\n",
              "      cursor: pointer;\n",
              "      display: none;\n",
              "      fill: #1967D2;\n",
              "      height: 32px;\n",
              "      padding: 0 0 0 0;\n",
              "      width: 32px;\n",
              "    }\n",
              "\n",
              "    .colab-df-convert:hover {\n",
              "      background-color: #E2EBFA;\n",
              "      box-shadow: 0px 1px 2px rgba(60, 64, 67, 0.3), 0px 1px 3px 1px rgba(60, 64, 67, 0.15);\n",
              "      fill: #174EA6;\n",
              "    }\n",
              "\n",
              "    [theme=dark] .colab-df-convert {\n",
              "      background-color: #3B4455;\n",
              "      fill: #D2E3FC;\n",
              "    }\n",
              "\n",
              "    [theme=dark] .colab-df-convert:hover {\n",
              "      background-color: #434B5C;\n",
              "      box-shadow: 0px 1px 3px 1px rgba(0, 0, 0, 0.15);\n",
              "      filter: drop-shadow(0px 1px 2px rgba(0, 0, 0, 0.3));\n",
              "      fill: #FFFFFF;\n",
              "    }\n",
              "  </style>\n",
              "\n",
              "      <script>\n",
              "        const buttonEl =\n",
              "          document.querySelector('#df-69a29bd4-fa5e-45c0-99b8-61d61c28dee3 button.colab-df-convert');\n",
              "        buttonEl.style.display =\n",
              "          google.colab.kernel.accessAllowed ? 'block' : 'none';\n",
              "\n",
              "        async function convertToInteractive(key) {\n",
              "          const element = document.querySelector('#df-69a29bd4-fa5e-45c0-99b8-61d61c28dee3');\n",
              "          const dataTable =\n",
              "            await google.colab.kernel.invokeFunction('convertToInteractive',\n",
              "                                                     [key], {});\n",
              "          if (!dataTable) return;\n",
              "\n",
              "          const docLinkHtml = 'Like what you see? Visit the ' +\n",
              "            '<a target=\"_blank\" href=https://colab.research.google.com/notebooks/data_table.ipynb>data table notebook</a>'\n",
              "            + ' to learn more about interactive tables.';\n",
              "          element.innerHTML = '';\n",
              "          dataTable['output_type'] = 'display_data';\n",
              "          await google.colab.output.renderOutput(dataTable, element);\n",
              "          const docLink = document.createElement('div');\n",
              "          docLink.innerHTML = docLinkHtml;\n",
              "          element.appendChild(docLink);\n",
              "        }\n",
              "      </script>\n",
              "    </div>\n",
              "  </div>\n",
              "  "
            ]
          },
          "metadata": {},
          "execution_count": 425
        }
      ],
      "source": [
        "train_work.head()"
      ]
    },
    {
      "cell_type": "markdown",
      "metadata": {
        "id": "_1cnI6-RmHlB"
      },
      "source": [
        "## viewing of all datasets\n",
        "\n"
      ]
    },
    {
      "cell_type": "code",
      "execution_count": null,
      "metadata": {
        "colab": {
          "base_uri": "https://localhost:8080/",
          "height": 206
        },
        "id": "CYum9nbkmLRE",
        "outputId": "2a8b6972-f13a-40a1-8395-6b5c3efa7220"
      },
      "outputs": [
        {
          "output_type": "execute_result",
          "data": {
            "text/plain": [
              "  EmployeeID  Left_Company\n",
              "0      emp-1             0\n",
              "1     emp-10             1\n",
              "2    emp-100             0\n",
              "3    emp-101             0\n",
              "4    emp-102             0"
            ],
            "text/html": [
              "\n",
              "  <div id=\"df-43e41786-c586-467b-bd49-d4758c13e71e\">\n",
              "    <div class=\"colab-df-container\">\n",
              "      <div>\n",
              "<style scoped>\n",
              "    .dataframe tbody tr th:only-of-type {\n",
              "        vertical-align: middle;\n",
              "    }\n",
              "\n",
              "    .dataframe tbody tr th {\n",
              "        vertical-align: top;\n",
              "    }\n",
              "\n",
              "    .dataframe thead th {\n",
              "        text-align: right;\n",
              "    }\n",
              "</style>\n",
              "<table border=\"1\" class=\"dataframe\">\n",
              "  <thead>\n",
              "    <tr style=\"text-align: right;\">\n",
              "      <th></th>\n",
              "      <th>EmployeeID</th>\n",
              "      <th>Left_Company</th>\n",
              "    </tr>\n",
              "  </thead>\n",
              "  <tbody>\n",
              "    <tr>\n",
              "      <th>0</th>\n",
              "      <td>emp-1</td>\n",
              "      <td>0</td>\n",
              "    </tr>\n",
              "    <tr>\n",
              "      <th>1</th>\n",
              "      <td>emp-10</td>\n",
              "      <td>1</td>\n",
              "    </tr>\n",
              "    <tr>\n",
              "      <th>2</th>\n",
              "      <td>emp-100</td>\n",
              "      <td>0</td>\n",
              "    </tr>\n",
              "    <tr>\n",
              "      <th>3</th>\n",
              "      <td>emp-101</td>\n",
              "      <td>0</td>\n",
              "    </tr>\n",
              "    <tr>\n",
              "      <th>4</th>\n",
              "      <td>emp-102</td>\n",
              "      <td>0</td>\n",
              "    </tr>\n",
              "  </tbody>\n",
              "</table>\n",
              "</div>\n",
              "      <button class=\"colab-df-convert\" onclick=\"convertToInteractive('df-43e41786-c586-467b-bd49-d4758c13e71e')\"\n",
              "              title=\"Convert this dataframe to an interactive table.\"\n",
              "              style=\"display:none;\">\n",
              "        \n",
              "  <svg xmlns=\"http://www.w3.org/2000/svg\" height=\"24px\"viewBox=\"0 0 24 24\"\n",
              "       width=\"24px\">\n",
              "    <path d=\"M0 0h24v24H0V0z\" fill=\"none\"/>\n",
              "    <path d=\"M18.56 5.44l.94 2.06.94-2.06 2.06-.94-2.06-.94-.94-2.06-.94 2.06-2.06.94zm-11 1L8.5 8.5l.94-2.06 2.06-.94-2.06-.94L8.5 2.5l-.94 2.06-2.06.94zm10 10l.94 2.06.94-2.06 2.06-.94-2.06-.94-.94-2.06-.94 2.06-2.06.94z\"/><path d=\"M17.41 7.96l-1.37-1.37c-.4-.4-.92-.59-1.43-.59-.52 0-1.04.2-1.43.59L10.3 9.45l-7.72 7.72c-.78.78-.78 2.05 0 2.83L4 21.41c.39.39.9.59 1.41.59.51 0 1.02-.2 1.41-.59l7.78-7.78 2.81-2.81c.8-.78.8-2.07 0-2.86zM5.41 20L4 18.59l7.72-7.72 1.47 1.35L5.41 20z\"/>\n",
              "  </svg>\n",
              "      </button>\n",
              "      \n",
              "  <style>\n",
              "    .colab-df-container {\n",
              "      display:flex;\n",
              "      flex-wrap:wrap;\n",
              "      gap: 12px;\n",
              "    }\n",
              "\n",
              "    .colab-df-convert {\n",
              "      background-color: #E8F0FE;\n",
              "      border: none;\n",
              "      border-radius: 50%;\n",
              "      cursor: pointer;\n",
              "      display: none;\n",
              "      fill: #1967D2;\n",
              "      height: 32px;\n",
              "      padding: 0 0 0 0;\n",
              "      width: 32px;\n",
              "    }\n",
              "\n",
              "    .colab-df-convert:hover {\n",
              "      background-color: #E2EBFA;\n",
              "      box-shadow: 0px 1px 2px rgba(60, 64, 67, 0.3), 0px 1px 3px 1px rgba(60, 64, 67, 0.15);\n",
              "      fill: #174EA6;\n",
              "    }\n",
              "\n",
              "    [theme=dark] .colab-df-convert {\n",
              "      background-color: #3B4455;\n",
              "      fill: #D2E3FC;\n",
              "    }\n",
              "\n",
              "    [theme=dark] .colab-df-convert:hover {\n",
              "      background-color: #434B5C;\n",
              "      box-shadow: 0px 1px 3px 1px rgba(0, 0, 0, 0.15);\n",
              "      filter: drop-shadow(0px 1px 2px rgba(0, 0, 0, 0.3));\n",
              "      fill: #FFFFFF;\n",
              "    }\n",
              "  </style>\n",
              "\n",
              "      <script>\n",
              "        const buttonEl =\n",
              "          document.querySelector('#df-43e41786-c586-467b-bd49-d4758c13e71e button.colab-df-convert');\n",
              "        buttonEl.style.display =\n",
              "          google.colab.kernel.accessAllowed ? 'block' : 'none';\n",
              "\n",
              "        async function convertToInteractive(key) {\n",
              "          const element = document.querySelector('#df-43e41786-c586-467b-bd49-d4758c13e71e');\n",
              "          const dataTable =\n",
              "            await google.colab.kernel.invokeFunction('convertToInteractive',\n",
              "                                                     [key], {});\n",
              "          if (!dataTable) return;\n",
              "\n",
              "          const docLinkHtml = 'Like what you see? Visit the ' +\n",
              "            '<a target=\"_blank\" href=https://colab.research.google.com/notebooks/data_table.ipynb>data table notebook</a>'\n",
              "            + ' to learn more about interactive tables.';\n",
              "          element.innerHTML = '';\n",
              "          dataTable['output_type'] = 'display_data';\n",
              "          await google.colab.output.renderOutput(dataTable, element);\n",
              "          const docLink = document.createElement('div');\n",
              "          docLink.innerHTML = docLinkHtml;\n",
              "          element.appendChild(docLink);\n",
              "        }\n",
              "      </script>\n",
              "    </div>\n",
              "  </div>\n",
              "  "
            ]
          },
          "metadata": {},
          "execution_count": 426
        }
      ],
      "source": [
        "##viewing train attrition\n",
        "train_attrition.head()"
      ]
    },
    {
      "cell_type": "code",
      "execution_count": null,
      "metadata": {
        "colab": {
          "base_uri": "https://localhost:8080/",
          "height": 206
        },
        "id": "TA9JZao4msFM",
        "outputId": "b012b511-afd6-48a4-d7de-5c789b4dafa9"
      },
      "outputs": [
        {
          "output_type": "execute_result",
          "data": {
            "text/plain": [
              "  EmployeeID                                        Job_History Joining_Date  \\\n",
              "0     emp-10  Worked at Company - 816 , Company - 724 , Comp...      2006_02   \n",
              "1    emp-108  Worked at Company - 205 , Company - 373 , Comp...      2012_01   \n",
              "2    emp-115  Worked at Company - 690 , Company - 280 , Comp...      2012_02   \n",
              "3    emp-121  Worked at Company - 684 , Company - 159 , Comp...      2012_03   \n",
              "4    emp-138  Worked at Company - 443 , Company - 121 , Comp...      2012_05   \n",
              "\n",
              "  Designation  Sex  \n",
              "0          VP    0  \n",
              "1          VP    1  \n",
              "2      Senior    1  \n",
              "3          VP    1  \n",
              "4      Senior    1  "
            ],
            "text/html": [
              "\n",
              "  <div id=\"df-42ae89cc-8c31-46a2-97f4-d92df933a22a\">\n",
              "    <div class=\"colab-df-container\">\n",
              "      <div>\n",
              "<style scoped>\n",
              "    .dataframe tbody tr th:only-of-type {\n",
              "        vertical-align: middle;\n",
              "    }\n",
              "\n",
              "    .dataframe tbody tr th {\n",
              "        vertical-align: top;\n",
              "    }\n",
              "\n",
              "    .dataframe thead th {\n",
              "        text-align: right;\n",
              "    }\n",
              "</style>\n",
              "<table border=\"1\" class=\"dataframe\">\n",
              "  <thead>\n",
              "    <tr style=\"text-align: right;\">\n",
              "      <th></th>\n",
              "      <th>EmployeeID</th>\n",
              "      <th>Job_History</th>\n",
              "      <th>Joining_Date</th>\n",
              "      <th>Designation</th>\n",
              "      <th>Sex</th>\n",
              "    </tr>\n",
              "  </thead>\n",
              "  <tbody>\n",
              "    <tr>\n",
              "      <th>0</th>\n",
              "      <td>emp-10</td>\n",
              "      <td>Worked at Company - 816 , Company - 724 , Comp...</td>\n",
              "      <td>2006_02</td>\n",
              "      <td>VP</td>\n",
              "      <td>0</td>\n",
              "    </tr>\n",
              "    <tr>\n",
              "      <th>1</th>\n",
              "      <td>emp-108</td>\n",
              "      <td>Worked at Company - 205 , Company - 373 , Comp...</td>\n",
              "      <td>2012_01</td>\n",
              "      <td>VP</td>\n",
              "      <td>1</td>\n",
              "    </tr>\n",
              "    <tr>\n",
              "      <th>2</th>\n",
              "      <td>emp-115</td>\n",
              "      <td>Worked at Company - 690 , Company - 280 , Comp...</td>\n",
              "      <td>2012_02</td>\n",
              "      <td>Senior</td>\n",
              "      <td>1</td>\n",
              "    </tr>\n",
              "    <tr>\n",
              "      <th>3</th>\n",
              "      <td>emp-121</td>\n",
              "      <td>Worked at Company - 684 , Company - 159 , Comp...</td>\n",
              "      <td>2012_03</td>\n",
              "      <td>VP</td>\n",
              "      <td>1</td>\n",
              "    </tr>\n",
              "    <tr>\n",
              "      <th>4</th>\n",
              "      <td>emp-138</td>\n",
              "      <td>Worked at Company - 443 , Company - 121 , Comp...</td>\n",
              "      <td>2012_05</td>\n",
              "      <td>Senior</td>\n",
              "      <td>1</td>\n",
              "    </tr>\n",
              "  </tbody>\n",
              "</table>\n",
              "</div>\n",
              "      <button class=\"colab-df-convert\" onclick=\"convertToInteractive('df-42ae89cc-8c31-46a2-97f4-d92df933a22a')\"\n",
              "              title=\"Convert this dataframe to an interactive table.\"\n",
              "              style=\"display:none;\">\n",
              "        \n",
              "  <svg xmlns=\"http://www.w3.org/2000/svg\" height=\"24px\"viewBox=\"0 0 24 24\"\n",
              "       width=\"24px\">\n",
              "    <path d=\"M0 0h24v24H0V0z\" fill=\"none\"/>\n",
              "    <path d=\"M18.56 5.44l.94 2.06.94-2.06 2.06-.94-2.06-.94-.94-2.06-.94 2.06-2.06.94zm-11 1L8.5 8.5l.94-2.06 2.06-.94-2.06-.94L8.5 2.5l-.94 2.06-2.06.94zm10 10l.94 2.06.94-2.06 2.06-.94-2.06-.94-.94-2.06-.94 2.06-2.06.94z\"/><path d=\"M17.41 7.96l-1.37-1.37c-.4-.4-.92-.59-1.43-.59-.52 0-1.04.2-1.43.59L10.3 9.45l-7.72 7.72c-.78.78-.78 2.05 0 2.83L4 21.41c.39.39.9.59 1.41.59.51 0 1.02-.2 1.41-.59l7.78-7.78 2.81-2.81c.8-.78.8-2.07 0-2.86zM5.41 20L4 18.59l7.72-7.72 1.47 1.35L5.41 20z\"/>\n",
              "  </svg>\n",
              "      </button>\n",
              "      \n",
              "  <style>\n",
              "    .colab-df-container {\n",
              "      display:flex;\n",
              "      flex-wrap:wrap;\n",
              "      gap: 12px;\n",
              "    }\n",
              "\n",
              "    .colab-df-convert {\n",
              "      background-color: #E8F0FE;\n",
              "      border: none;\n",
              "      border-radius: 50%;\n",
              "      cursor: pointer;\n",
              "      display: none;\n",
              "      fill: #1967D2;\n",
              "      height: 32px;\n",
              "      padding: 0 0 0 0;\n",
              "      width: 32px;\n",
              "    }\n",
              "\n",
              "    .colab-df-convert:hover {\n",
              "      background-color: #E2EBFA;\n",
              "      box-shadow: 0px 1px 2px rgba(60, 64, 67, 0.3), 0px 1px 3px 1px rgba(60, 64, 67, 0.15);\n",
              "      fill: #174EA6;\n",
              "    }\n",
              "\n",
              "    [theme=dark] .colab-df-convert {\n",
              "      background-color: #3B4455;\n",
              "      fill: #D2E3FC;\n",
              "    }\n",
              "\n",
              "    [theme=dark] .colab-df-convert:hover {\n",
              "      background-color: #434B5C;\n",
              "      box-shadow: 0px 1px 3px 1px rgba(0, 0, 0, 0.15);\n",
              "      filter: drop-shadow(0px 1px 2px rgba(0, 0, 0, 0.3));\n",
              "      fill: #FFFFFF;\n",
              "    }\n",
              "  </style>\n",
              "\n",
              "      <script>\n",
              "        const buttonEl =\n",
              "          document.querySelector('#df-42ae89cc-8c31-46a2-97f4-d92df933a22a button.colab-df-convert');\n",
              "        buttonEl.style.display =\n",
              "          google.colab.kernel.accessAllowed ? 'block' : 'none';\n",
              "\n",
              "        async function convertToInteractive(key) {\n",
              "          const element = document.querySelector('#df-42ae89cc-8c31-46a2-97f4-d92df933a22a');\n",
              "          const dataTable =\n",
              "            await google.colab.kernel.invokeFunction('convertToInteractive',\n",
              "                                                     [key], {});\n",
              "          if (!dataTable) return;\n",
              "\n",
              "          const docLinkHtml = 'Like what you see? Visit the ' +\n",
              "            '<a target=\"_blank\" href=https://colab.research.google.com/notebooks/data_table.ipynb>data table notebook</a>'\n",
              "            + ' to learn more about interactive tables.';\n",
              "          element.innerHTML = '';\n",
              "          dataTable['output_type'] = 'display_data';\n",
              "          await google.colab.output.renderOutput(dataTable, element);\n",
              "          const docLink = document.createElement('div');\n",
              "          docLink.innerHTML = docLinkHtml;\n",
              "          element.appendChild(docLink);\n",
              "        }\n",
              "      </script>\n",
              "    </div>\n",
              "  </div>\n",
              "  "
            ]
          },
          "metadata": {},
          "execution_count": 427
        }
      ],
      "source": [
        "# viewing  emp_data\n",
        "emp_data.head()"
      ]
    },
    {
      "cell_type": "code",
      "execution_count": null,
      "metadata": {
        "colab": {
          "base_uri": "https://localhost:8080/"
        },
        "id": "DbpS3RGdnH-e",
        "outputId": "e7fd16af-cfea-423b-92f0-6cfbab679e85"
      },
      "outputs": [
        {
          "output_type": "stream",
          "name": "stdout",
          "text": [
            "The train_attrition has 245 rows & 2 columns.\n",
            "The train_work has 3983 rows & 7 columns.\n"
          ]
        }
      ],
      "source": [
        "##dimensions \n",
        "\n",
        "print(\"The train_attrition has {} rows & {} columns.\" .format(train_attrition.shape[0], train_attrition.shape[1]))\n",
        "print(\"The train_work has {} rows & {} columns.\" .format(train_work.shape[0], train_work.shape[1]))\n"
      ]
    },
    {
      "cell_type": "code",
      "execution_count": null,
      "metadata": {
        "colab": {
          "base_uri": "https://localhost:8080/"
        },
        "id": "Tgt2jjN_oxee",
        "outputId": "262cc994-b2d8-495e-c0c0-1f7729d5e460"
      },
      "outputs": [
        {
          "output_type": "stream",
          "name": "stdout",
          "text": [
            "The employee data has 296 rows & 5 columns.\n"
          ]
        }
      ],
      "source": [
        "print(\"The employee data has {} rows & {} columns.\" .format(emp_data.shape[0], emp_data.shape[1]))"
      ]
    },
    {
      "cell_type": "code",
      "execution_count": null,
      "metadata": {
        "colab": {
          "base_uri": "https://localhost:8080/",
          "height": 206
        },
        "id": "IXOAFdw1qSov",
        "outputId": "95c6b020-2366-4574-c5e4-d573201012d1"
      },
      "outputs": [
        {
          "output_type": "execute_result",
          "data": {
            "text/plain": [
              "  EmployeeID  TotalWorkingHours  Billable_Hours  Hours_off_Duty  \\\n",
              "0      emp-1              184.0           144.0            40.0   \n",
              "1      emp-1              176.0           136.0            40.0   \n",
              "2      emp-1              200.0           120.0            72.0   \n",
              "3      emp-1              160.0           144.0             8.0   \n",
              "4      emp-1              171.0           135.0             0.0   \n",
              "\n",
              "   Touring_Hours  NoOfProjects  ActualTimeSpent  \n",
              "0          144.0             3               77  \n",
              "1          136.0             2               98  \n",
              "2          120.0             1               14  \n",
              "3          144.0             3              147  \n",
              "4          135.0             1               42  "
            ],
            "text/html": [
              "\n",
              "  <div id=\"df-27bd93a1-9336-4c1e-a86b-27f243e75621\">\n",
              "    <div class=\"colab-df-container\">\n",
              "      <div>\n",
              "<style scoped>\n",
              "    .dataframe tbody tr th:only-of-type {\n",
              "        vertical-align: middle;\n",
              "    }\n",
              "\n",
              "    .dataframe tbody tr th {\n",
              "        vertical-align: top;\n",
              "    }\n",
              "\n",
              "    .dataframe thead th {\n",
              "        text-align: right;\n",
              "    }\n",
              "</style>\n",
              "<table border=\"1\" class=\"dataframe\">\n",
              "  <thead>\n",
              "    <tr style=\"text-align: right;\">\n",
              "      <th></th>\n",
              "      <th>EmployeeID</th>\n",
              "      <th>TotalWorkingHours</th>\n",
              "      <th>Billable_Hours</th>\n",
              "      <th>Hours_off_Duty</th>\n",
              "      <th>Touring_Hours</th>\n",
              "      <th>NoOfProjects</th>\n",
              "      <th>ActualTimeSpent</th>\n",
              "    </tr>\n",
              "  </thead>\n",
              "  <tbody>\n",
              "    <tr>\n",
              "      <th>0</th>\n",
              "      <td>emp-1</td>\n",
              "      <td>184.0</td>\n",
              "      <td>144.0</td>\n",
              "      <td>40.0</td>\n",
              "      <td>144.0</td>\n",
              "      <td>3</td>\n",
              "      <td>77</td>\n",
              "    </tr>\n",
              "    <tr>\n",
              "      <th>1</th>\n",
              "      <td>emp-1</td>\n",
              "      <td>176.0</td>\n",
              "      <td>136.0</td>\n",
              "      <td>40.0</td>\n",
              "      <td>136.0</td>\n",
              "      <td>2</td>\n",
              "      <td>98</td>\n",
              "    </tr>\n",
              "    <tr>\n",
              "      <th>2</th>\n",
              "      <td>emp-1</td>\n",
              "      <td>200.0</td>\n",
              "      <td>120.0</td>\n",
              "      <td>72.0</td>\n",
              "      <td>120.0</td>\n",
              "      <td>1</td>\n",
              "      <td>14</td>\n",
              "    </tr>\n",
              "    <tr>\n",
              "      <th>3</th>\n",
              "      <td>emp-1</td>\n",
              "      <td>160.0</td>\n",
              "      <td>144.0</td>\n",
              "      <td>8.0</td>\n",
              "      <td>144.0</td>\n",
              "      <td>3</td>\n",
              "      <td>147</td>\n",
              "    </tr>\n",
              "    <tr>\n",
              "      <th>4</th>\n",
              "      <td>emp-1</td>\n",
              "      <td>171.0</td>\n",
              "      <td>135.0</td>\n",
              "      <td>0.0</td>\n",
              "      <td>135.0</td>\n",
              "      <td>1</td>\n",
              "      <td>42</td>\n",
              "    </tr>\n",
              "  </tbody>\n",
              "</table>\n",
              "</div>\n",
              "      <button class=\"colab-df-convert\" onclick=\"convertToInteractive('df-27bd93a1-9336-4c1e-a86b-27f243e75621')\"\n",
              "              title=\"Convert this dataframe to an interactive table.\"\n",
              "              style=\"display:none;\">\n",
              "        \n",
              "  <svg xmlns=\"http://www.w3.org/2000/svg\" height=\"24px\"viewBox=\"0 0 24 24\"\n",
              "       width=\"24px\">\n",
              "    <path d=\"M0 0h24v24H0V0z\" fill=\"none\"/>\n",
              "    <path d=\"M18.56 5.44l.94 2.06.94-2.06 2.06-.94-2.06-.94-.94-2.06-.94 2.06-2.06.94zm-11 1L8.5 8.5l.94-2.06 2.06-.94-2.06-.94L8.5 2.5l-.94 2.06-2.06.94zm10 10l.94 2.06.94-2.06 2.06-.94-2.06-.94-.94-2.06-.94 2.06-2.06.94z\"/><path d=\"M17.41 7.96l-1.37-1.37c-.4-.4-.92-.59-1.43-.59-.52 0-1.04.2-1.43.59L10.3 9.45l-7.72 7.72c-.78.78-.78 2.05 0 2.83L4 21.41c.39.39.9.59 1.41.59.51 0 1.02-.2 1.41-.59l7.78-7.78 2.81-2.81c.8-.78.8-2.07 0-2.86zM5.41 20L4 18.59l7.72-7.72 1.47 1.35L5.41 20z\"/>\n",
              "  </svg>\n",
              "      </button>\n",
              "      \n",
              "  <style>\n",
              "    .colab-df-container {\n",
              "      display:flex;\n",
              "      flex-wrap:wrap;\n",
              "      gap: 12px;\n",
              "    }\n",
              "\n",
              "    .colab-df-convert {\n",
              "      background-color: #E8F0FE;\n",
              "      border: none;\n",
              "      border-radius: 50%;\n",
              "      cursor: pointer;\n",
              "      display: none;\n",
              "      fill: #1967D2;\n",
              "      height: 32px;\n",
              "      padding: 0 0 0 0;\n",
              "      width: 32px;\n",
              "    }\n",
              "\n",
              "    .colab-df-convert:hover {\n",
              "      background-color: #E2EBFA;\n",
              "      box-shadow: 0px 1px 2px rgba(60, 64, 67, 0.3), 0px 1px 3px 1px rgba(60, 64, 67, 0.15);\n",
              "      fill: #174EA6;\n",
              "    }\n",
              "\n",
              "    [theme=dark] .colab-df-convert {\n",
              "      background-color: #3B4455;\n",
              "      fill: #D2E3FC;\n",
              "    }\n",
              "\n",
              "    [theme=dark] .colab-df-convert:hover {\n",
              "      background-color: #434B5C;\n",
              "      box-shadow: 0px 1px 3px 1px rgba(0, 0, 0, 0.15);\n",
              "      filter: drop-shadow(0px 1px 2px rgba(0, 0, 0, 0.3));\n",
              "      fill: #FFFFFF;\n",
              "    }\n",
              "  </style>\n",
              "\n",
              "      <script>\n",
              "        const buttonEl =\n",
              "          document.querySelector('#df-27bd93a1-9336-4c1e-a86b-27f243e75621 button.colab-df-convert');\n",
              "        buttonEl.style.display =\n",
              "          google.colab.kernel.accessAllowed ? 'block' : 'none';\n",
              "\n",
              "        async function convertToInteractive(key) {\n",
              "          const element = document.querySelector('#df-27bd93a1-9336-4c1e-a86b-27f243e75621');\n",
              "          const dataTable =\n",
              "            await google.colab.kernel.invokeFunction('convertToInteractive',\n",
              "                                                     [key], {});\n",
              "          if (!dataTable) return;\n",
              "\n",
              "          const docLinkHtml = 'Like what you see? Visit the ' +\n",
              "            '<a target=\"_blank\" href=https://colab.research.google.com/notebooks/data_table.ipynb>data table notebook</a>'\n",
              "            + ' to learn more about interactive tables.';\n",
              "          element.innerHTML = '';\n",
              "          dataTable['output_type'] = 'display_data';\n",
              "          await google.colab.output.renderOutput(dataTable, element);\n",
              "          const docLink = document.createElement('div');\n",
              "          docLink.innerHTML = docLinkHtml;\n",
              "          element.appendChild(docLink);\n",
              "        }\n",
              "      </script>\n",
              "    </div>\n",
              "  </div>\n",
              "  "
            ]
          },
          "metadata": {},
          "execution_count": 430
        }
      ],
      "source": [
        "train_work.head() "
      ]
    },
    {
      "cell_type": "code",
      "source": [
        "train_work.isnull().sum()"
      ],
      "metadata": {
        "colab": {
          "base_uri": "https://localhost:8080/"
        },
        "id": "WyGwPG4vk6K6",
        "outputId": "945dd76d-ae30-42f5-c8f1-15cc1d575470"
      },
      "execution_count": null,
      "outputs": [
        {
          "output_type": "execute_result",
          "data": {
            "text/plain": [
              "EmployeeID           0\n",
              "TotalWorkingHours    0\n",
              "Billable_Hours       0\n",
              "Hours_off_Duty       0\n",
              "Touring_Hours        0\n",
              "NoOfProjects         0\n",
              "ActualTimeSpent      0\n",
              "dtype: int64"
            ]
          },
          "metadata": {},
          "execution_count": 431
        }
      ]
    },
    {
      "cell_type": "code",
      "source": [
        "train_work.skew()"
      ],
      "metadata": {
        "colab": {
          "base_uri": "https://localhost:8080/"
        },
        "id": "MpXwEDbxlCG4",
        "outputId": "6a36f961-5fdc-4170-b619-a9d6a2700fb5"
      },
      "execution_count": null,
      "outputs": [
        {
          "output_type": "execute_result",
          "data": {
            "text/plain": [
              "TotalWorkingHours   -0.260006\n",
              "Billable_Hours      -0.511192\n",
              "Hours_off_Duty       2.264257\n",
              "Touring_Hours        0.711346\n",
              "NoOfProjects         1.724508\n",
              "ActualTimeSpent      1.343743\n",
              "dtype: float64"
            ]
          },
          "metadata": {},
          "execution_count": 432
        }
      ]
    },
    {
      "cell_type": "code",
      "execution_count": null,
      "metadata": {
        "colab": {
          "base_uri": "https://localhost:8080/",
          "height": 206
        },
        "id": "rwtCRdbEqU33",
        "outputId": "110b46e6-de86-43a2-ec97-0afd440a6bfc"
      },
      "outputs": [
        {
          "output_type": "execute_result",
          "data": {
            "text/plain": [
              "  EmployeeID  Left_Company\n",
              "0      emp-1             0\n",
              "1     emp-10             1\n",
              "2    emp-100             0\n",
              "3    emp-101             0\n",
              "4    emp-102             0"
            ],
            "text/html": [
              "\n",
              "  <div id=\"df-1812d9b3-a6c7-41ad-85a6-0b41ab4c7bcd\">\n",
              "    <div class=\"colab-df-container\">\n",
              "      <div>\n",
              "<style scoped>\n",
              "    .dataframe tbody tr th:only-of-type {\n",
              "        vertical-align: middle;\n",
              "    }\n",
              "\n",
              "    .dataframe tbody tr th {\n",
              "        vertical-align: top;\n",
              "    }\n",
              "\n",
              "    .dataframe thead th {\n",
              "        text-align: right;\n",
              "    }\n",
              "</style>\n",
              "<table border=\"1\" class=\"dataframe\">\n",
              "  <thead>\n",
              "    <tr style=\"text-align: right;\">\n",
              "      <th></th>\n",
              "      <th>EmployeeID</th>\n",
              "      <th>Left_Company</th>\n",
              "    </tr>\n",
              "  </thead>\n",
              "  <tbody>\n",
              "    <tr>\n",
              "      <th>0</th>\n",
              "      <td>emp-1</td>\n",
              "      <td>0</td>\n",
              "    </tr>\n",
              "    <tr>\n",
              "      <th>1</th>\n",
              "      <td>emp-10</td>\n",
              "      <td>1</td>\n",
              "    </tr>\n",
              "    <tr>\n",
              "      <th>2</th>\n",
              "      <td>emp-100</td>\n",
              "      <td>0</td>\n",
              "    </tr>\n",
              "    <tr>\n",
              "      <th>3</th>\n",
              "      <td>emp-101</td>\n",
              "      <td>0</td>\n",
              "    </tr>\n",
              "    <tr>\n",
              "      <th>4</th>\n",
              "      <td>emp-102</td>\n",
              "      <td>0</td>\n",
              "    </tr>\n",
              "  </tbody>\n",
              "</table>\n",
              "</div>\n",
              "      <button class=\"colab-df-convert\" onclick=\"convertToInteractive('df-1812d9b3-a6c7-41ad-85a6-0b41ab4c7bcd')\"\n",
              "              title=\"Convert this dataframe to an interactive table.\"\n",
              "              style=\"display:none;\">\n",
              "        \n",
              "  <svg xmlns=\"http://www.w3.org/2000/svg\" height=\"24px\"viewBox=\"0 0 24 24\"\n",
              "       width=\"24px\">\n",
              "    <path d=\"M0 0h24v24H0V0z\" fill=\"none\"/>\n",
              "    <path d=\"M18.56 5.44l.94 2.06.94-2.06 2.06-.94-2.06-.94-.94-2.06-.94 2.06-2.06.94zm-11 1L8.5 8.5l.94-2.06 2.06-.94-2.06-.94L8.5 2.5l-.94 2.06-2.06.94zm10 10l.94 2.06.94-2.06 2.06-.94-2.06-.94-.94-2.06-.94 2.06-2.06.94z\"/><path d=\"M17.41 7.96l-1.37-1.37c-.4-.4-.92-.59-1.43-.59-.52 0-1.04.2-1.43.59L10.3 9.45l-7.72 7.72c-.78.78-.78 2.05 0 2.83L4 21.41c.39.39.9.59 1.41.59.51 0 1.02-.2 1.41-.59l7.78-7.78 2.81-2.81c.8-.78.8-2.07 0-2.86zM5.41 20L4 18.59l7.72-7.72 1.47 1.35L5.41 20z\"/>\n",
              "  </svg>\n",
              "      </button>\n",
              "      \n",
              "  <style>\n",
              "    .colab-df-container {\n",
              "      display:flex;\n",
              "      flex-wrap:wrap;\n",
              "      gap: 12px;\n",
              "    }\n",
              "\n",
              "    .colab-df-convert {\n",
              "      background-color: #E8F0FE;\n",
              "      border: none;\n",
              "      border-radius: 50%;\n",
              "      cursor: pointer;\n",
              "      display: none;\n",
              "      fill: #1967D2;\n",
              "      height: 32px;\n",
              "      padding: 0 0 0 0;\n",
              "      width: 32px;\n",
              "    }\n",
              "\n",
              "    .colab-df-convert:hover {\n",
              "      background-color: #E2EBFA;\n",
              "      box-shadow: 0px 1px 2px rgba(60, 64, 67, 0.3), 0px 1px 3px 1px rgba(60, 64, 67, 0.15);\n",
              "      fill: #174EA6;\n",
              "    }\n",
              "\n",
              "    [theme=dark] .colab-df-convert {\n",
              "      background-color: #3B4455;\n",
              "      fill: #D2E3FC;\n",
              "    }\n",
              "\n",
              "    [theme=dark] .colab-df-convert:hover {\n",
              "      background-color: #434B5C;\n",
              "      box-shadow: 0px 1px 3px 1px rgba(0, 0, 0, 0.15);\n",
              "      filter: drop-shadow(0px 1px 2px rgba(0, 0, 0, 0.3));\n",
              "      fill: #FFFFFF;\n",
              "    }\n",
              "  </style>\n",
              "\n",
              "      <script>\n",
              "        const buttonEl =\n",
              "          document.querySelector('#df-1812d9b3-a6c7-41ad-85a6-0b41ab4c7bcd button.colab-df-convert');\n",
              "        buttonEl.style.display =\n",
              "          google.colab.kernel.accessAllowed ? 'block' : 'none';\n",
              "\n",
              "        async function convertToInteractive(key) {\n",
              "          const element = document.querySelector('#df-1812d9b3-a6c7-41ad-85a6-0b41ab4c7bcd');\n",
              "          const dataTable =\n",
              "            await google.colab.kernel.invokeFunction('convertToInteractive',\n",
              "                                                     [key], {});\n",
              "          if (!dataTable) return;\n",
              "\n",
              "          const docLinkHtml = 'Like what you see? Visit the ' +\n",
              "            '<a target=\"_blank\" href=https://colab.research.google.com/notebooks/data_table.ipynb>data table notebook</a>'\n",
              "            + ' to learn more about interactive tables.';\n",
              "          element.innerHTML = '';\n",
              "          dataTable['output_type'] = 'display_data';\n",
              "          await google.colab.output.renderOutput(dataTable, element);\n",
              "          const docLink = document.createElement('div');\n",
              "          docLink.innerHTML = docLinkHtml;\n",
              "          element.appendChild(docLink);\n",
              "        }\n",
              "      </script>\n",
              "    </div>\n",
              "  </div>\n",
              "  "
            ]
          },
          "metadata": {},
          "execution_count": 433
        }
      ],
      "source": [
        "\n",
        "train_attrition.head() "
      ]
    },
    {
      "cell_type": "code",
      "execution_count": null,
      "metadata": {
        "id": "nxfMRfFWqrCu"
      },
      "outputs": [],
      "source": [
        "train_emp_data = pd.merge(train_attrition, emp_data, how='left', on='EmployeeID')"
      ]
    },
    {
      "cell_type": "code",
      "execution_count": null,
      "metadata": {
        "colab": {
          "base_uri": "https://localhost:8080/"
        },
        "id": "AzLygOeOq3kk",
        "outputId": "e570e31e-adc7-49ea-b536-f57624e9c4fc"
      },
      "outputs": [
        {
          "output_type": "execute_result",
          "data": {
            "text/plain": [
              "(245, 6)"
            ]
          },
          "metadata": {},
          "execution_count": 435
        }
      ],
      "source": [
        "train_emp_data.shape"
      ]
    },
    {
      "cell_type": "code",
      "execution_count": null,
      "metadata": {
        "colab": {
          "base_uri": "https://localhost:8080/",
          "height": 206
        },
        "id": "7TehuKQ6q-ua",
        "outputId": "ceaf0e52-c317-4ce9-e9b3-4fafdc6e0e57"
      },
      "outputs": [
        {
          "output_type": "execute_result",
          "data": {
            "text/plain": [
              "  EmployeeID  Left_Company                                        Job_History  \\\n",
              "0      emp-1             0  Worked at Company - 639 , Company - 212 , Comp...   \n",
              "1     emp-10             1  Worked at Company - 816 , Company - 724 , Comp...   \n",
              "2    emp-100             0            Worked at Company - 562 , Company - 319   \n",
              "3    emp-101             0  Worked at Company - 212 , Company - 668 , Comp...   \n",
              "4    emp-102             0                            Worked at Company - 234   \n",
              "\n",
              "  Joining_Date Designation  Sex  \n",
              "0      2011_01          MD    1  \n",
              "1      2006_02          VP    0  \n",
              "2      2011_12      Senior    1  \n",
              "3      2012_01      Senior    1  \n",
              "4      2011_12      Senior    1  "
            ],
            "text/html": [
              "\n",
              "  <div id=\"df-1bcc9c00-d023-42bb-b14e-5024195271fa\">\n",
              "    <div class=\"colab-df-container\">\n",
              "      <div>\n",
              "<style scoped>\n",
              "    .dataframe tbody tr th:only-of-type {\n",
              "        vertical-align: middle;\n",
              "    }\n",
              "\n",
              "    .dataframe tbody tr th {\n",
              "        vertical-align: top;\n",
              "    }\n",
              "\n",
              "    .dataframe thead th {\n",
              "        text-align: right;\n",
              "    }\n",
              "</style>\n",
              "<table border=\"1\" class=\"dataframe\">\n",
              "  <thead>\n",
              "    <tr style=\"text-align: right;\">\n",
              "      <th></th>\n",
              "      <th>EmployeeID</th>\n",
              "      <th>Left_Company</th>\n",
              "      <th>Job_History</th>\n",
              "      <th>Joining_Date</th>\n",
              "      <th>Designation</th>\n",
              "      <th>Sex</th>\n",
              "    </tr>\n",
              "  </thead>\n",
              "  <tbody>\n",
              "    <tr>\n",
              "      <th>0</th>\n",
              "      <td>emp-1</td>\n",
              "      <td>0</td>\n",
              "      <td>Worked at Company - 639 , Company - 212 , Comp...</td>\n",
              "      <td>2011_01</td>\n",
              "      <td>MD</td>\n",
              "      <td>1</td>\n",
              "    </tr>\n",
              "    <tr>\n",
              "      <th>1</th>\n",
              "      <td>emp-10</td>\n",
              "      <td>1</td>\n",
              "      <td>Worked at Company - 816 , Company - 724 , Comp...</td>\n",
              "      <td>2006_02</td>\n",
              "      <td>VP</td>\n",
              "      <td>0</td>\n",
              "    </tr>\n",
              "    <tr>\n",
              "      <th>2</th>\n",
              "      <td>emp-100</td>\n",
              "      <td>0</td>\n",
              "      <td>Worked at Company - 562 , Company - 319</td>\n",
              "      <td>2011_12</td>\n",
              "      <td>Senior</td>\n",
              "      <td>1</td>\n",
              "    </tr>\n",
              "    <tr>\n",
              "      <th>3</th>\n",
              "      <td>emp-101</td>\n",
              "      <td>0</td>\n",
              "      <td>Worked at Company - 212 , Company - 668 , Comp...</td>\n",
              "      <td>2012_01</td>\n",
              "      <td>Senior</td>\n",
              "      <td>1</td>\n",
              "    </tr>\n",
              "    <tr>\n",
              "      <th>4</th>\n",
              "      <td>emp-102</td>\n",
              "      <td>0</td>\n",
              "      <td>Worked at Company - 234</td>\n",
              "      <td>2011_12</td>\n",
              "      <td>Senior</td>\n",
              "      <td>1</td>\n",
              "    </tr>\n",
              "  </tbody>\n",
              "</table>\n",
              "</div>\n",
              "      <button class=\"colab-df-convert\" onclick=\"convertToInteractive('df-1bcc9c00-d023-42bb-b14e-5024195271fa')\"\n",
              "              title=\"Convert this dataframe to an interactive table.\"\n",
              "              style=\"display:none;\">\n",
              "        \n",
              "  <svg xmlns=\"http://www.w3.org/2000/svg\" height=\"24px\"viewBox=\"0 0 24 24\"\n",
              "       width=\"24px\">\n",
              "    <path d=\"M0 0h24v24H0V0z\" fill=\"none\"/>\n",
              "    <path d=\"M18.56 5.44l.94 2.06.94-2.06 2.06-.94-2.06-.94-.94-2.06-.94 2.06-2.06.94zm-11 1L8.5 8.5l.94-2.06 2.06-.94-2.06-.94L8.5 2.5l-.94 2.06-2.06.94zm10 10l.94 2.06.94-2.06 2.06-.94-2.06-.94-.94-2.06-.94 2.06-2.06.94z\"/><path d=\"M17.41 7.96l-1.37-1.37c-.4-.4-.92-.59-1.43-.59-.52 0-1.04.2-1.43.59L10.3 9.45l-7.72 7.72c-.78.78-.78 2.05 0 2.83L4 21.41c.39.39.9.59 1.41.59.51 0 1.02-.2 1.41-.59l7.78-7.78 2.81-2.81c.8-.78.8-2.07 0-2.86zM5.41 20L4 18.59l7.72-7.72 1.47 1.35L5.41 20z\"/>\n",
              "  </svg>\n",
              "      </button>\n",
              "      \n",
              "  <style>\n",
              "    .colab-df-container {\n",
              "      display:flex;\n",
              "      flex-wrap:wrap;\n",
              "      gap: 12px;\n",
              "    }\n",
              "\n",
              "    .colab-df-convert {\n",
              "      background-color: #E8F0FE;\n",
              "      border: none;\n",
              "      border-radius: 50%;\n",
              "      cursor: pointer;\n",
              "      display: none;\n",
              "      fill: #1967D2;\n",
              "      height: 32px;\n",
              "      padding: 0 0 0 0;\n",
              "      width: 32px;\n",
              "    }\n",
              "\n",
              "    .colab-df-convert:hover {\n",
              "      background-color: #E2EBFA;\n",
              "      box-shadow: 0px 1px 2px rgba(60, 64, 67, 0.3), 0px 1px 3px 1px rgba(60, 64, 67, 0.15);\n",
              "      fill: #174EA6;\n",
              "    }\n",
              "\n",
              "    [theme=dark] .colab-df-convert {\n",
              "      background-color: #3B4455;\n",
              "      fill: #D2E3FC;\n",
              "    }\n",
              "\n",
              "    [theme=dark] .colab-df-convert:hover {\n",
              "      background-color: #434B5C;\n",
              "      box-shadow: 0px 1px 3px 1px rgba(0, 0, 0, 0.15);\n",
              "      filter: drop-shadow(0px 1px 2px rgba(0, 0, 0, 0.3));\n",
              "      fill: #FFFFFF;\n",
              "    }\n",
              "  </style>\n",
              "\n",
              "      <script>\n",
              "        const buttonEl =\n",
              "          document.querySelector('#df-1bcc9c00-d023-42bb-b14e-5024195271fa button.colab-df-convert');\n",
              "        buttonEl.style.display =\n",
              "          google.colab.kernel.accessAllowed ? 'block' : 'none';\n",
              "\n",
              "        async function convertToInteractive(key) {\n",
              "          const element = document.querySelector('#df-1bcc9c00-d023-42bb-b14e-5024195271fa');\n",
              "          const dataTable =\n",
              "            await google.colab.kernel.invokeFunction('convertToInteractive',\n",
              "                                                     [key], {});\n",
              "          if (!dataTable) return;\n",
              "\n",
              "          const docLinkHtml = 'Like what you see? Visit the ' +\n",
              "            '<a target=\"_blank\" href=https://colab.research.google.com/notebooks/data_table.ipynb>data table notebook</a>'\n",
              "            + ' to learn more about interactive tables.';\n",
              "          element.innerHTML = '';\n",
              "          dataTable['output_type'] = 'display_data';\n",
              "          await google.colab.output.renderOutput(dataTable, element);\n",
              "          const docLink = document.createElement('div');\n",
              "          docLink.innerHTML = docLinkHtml;\n",
              "          element.appendChild(docLink);\n",
              "        }\n",
              "      </script>\n",
              "    </div>\n",
              "  </div>\n",
              "  "
            ]
          },
          "metadata": {},
          "execution_count": 436
        }
      ],
      "source": [
        "train_emp_data.head()"
      ]
    },
    {
      "cell_type": "code",
      "execution_count": null,
      "metadata": {
        "id": "JBbfhJmOrBLz"
      },
      "outputs": [],
      "source": [
        "train_final = pd.merge(train_emp_data, train_work, on='EmployeeID', how='left')"
      ]
    },
    {
      "cell_type": "code",
      "execution_count": null,
      "metadata": {
        "colab": {
          "base_uri": "https://localhost:8080/"
        },
        "id": "rL2oB8hfrEWp",
        "outputId": "63e85b64-2b4f-4a70-82a0-8f92af95f198"
      },
      "outputs": [
        {
          "output_type": "execute_result",
          "data": {
            "text/plain": [
              "(3983, 12)"
            ]
          },
          "metadata": {},
          "execution_count": 438
        }
      ],
      "source": [
        "train_final.shape"
      ]
    },
    {
      "cell_type": "code",
      "execution_count": null,
      "metadata": {
        "colab": {
          "base_uri": "https://localhost:8080/"
        },
        "id": "feqGNkGfrJAf",
        "outputId": "9e0b70f3-9f48-4028-ad2b-3d0ed68c9061"
      },
      "outputs": [
        {
          "output_type": "stream",
          "name": "stdout",
          "text": [
            "The train_attrition has 245 rows & 2 columns.\n",
            "The train_work has 3983 rows & 7 columns.\n"
          ]
        }
      ],
      "source": [
        "\n",
        "\n",
        "print(\"The train_attrition has {} rows & {} columns.\" .format(train_attrition.shape[0], train_attrition.shape[1]))\n",
        "print(\"The train_work has {} rows & {} columns.\" .format(train_work.shape[0], train_work.shape[1]))\n"
      ]
    },
    {
      "cell_type": "code",
      "execution_count": null,
      "metadata": {
        "colab": {
          "base_uri": "https://localhost:8080/",
          "height": 950
        },
        "id": "uz_JFVAGrHZS",
        "outputId": "366e503e-0fa8-4118-8464-6d689941bceb"
      },
      "outputs": [
        {
          "output_type": "execute_result",
          "data": {
            "text/plain": [
              "            Left_Company                                        Job_History  \\\n",
              "EmployeeID                                                                    \n",
              "emp-1                  0  Worked at Company - 639 , Company - 212 , Comp...   \n",
              "emp-10                 1  Worked at Company - 816 , Company - 724 , Comp...   \n",
              "emp-100                0            Worked at Company - 562 , Company - 319   \n",
              "emp-101                0  Worked at Company - 212 , Company - 668 , Comp...   \n",
              "emp-102                0                            Worked at Company - 234   \n",
              "...                  ...                                                ...   \n",
              "emp-94                 0  Worked at Company - 71 , Company - 324 , Compa...   \n",
              "emp-96                 0             Worked at Company - 27 , Company - 159   \n",
              "emp-97                 1  Worked at Company - 789 , Company - 785 , Comp...   \n",
              "emp-98                 0  Worked at Company - 817 , Company - 404 , Comp...   \n",
              "emp-99                 0  Worked at Company - 204 , Company - 171 , Comp...   \n",
              "\n",
              "           Joining_Date Designation  Sex  TotalWorkingHours  Billable_Hours  \\\n",
              "EmployeeID                                                                    \n",
              "emp-1           2011_01          MD    1              205.0           189.0   \n",
              "emp-10          2006_02          VP    0              241.0           233.0   \n",
              "emp-100         2011_12      Senior    1              278.0           264.0   \n",
              "emp-101         2012_01      Senior    1              345.5           233.5   \n",
              "emp-102         2011_12      Senior    1              270.0           249.0   \n",
              "...                 ...         ...  ...                ...             ...   \n",
              "emp-94          2011_09      Senior    0              246.0           198.0   \n",
              "emp-96          2011_10      Senior    1              254.5           246.5   \n",
              "emp-97          2011_10      Junior    0              200.0           176.0   \n",
              "emp-98          2011_11      Senior    1              244.0           220.0   \n",
              "emp-99          2011_11      Senior    1              244.0           242.0   \n",
              "\n",
              "            Hours_off_Duty  Touring_Hours  NoOfProjects  ActualTimeSpent  \n",
              "EmployeeID                                                                \n",
              "emp-1                 72.0          189.0             3              231  \n",
              "emp-10               120.0          186.0             2              147  \n",
              "emp-100               40.0          264.0             3              308  \n",
              "emp-101               64.0            0.0             2              217  \n",
              "emp-102               88.0          213.0             2              231  \n",
              "...                    ...            ...           ...              ...  \n",
              "emp-94                80.0          198.0             2              105  \n",
              "emp-96                88.0          239.0             3              238  \n",
              "emp-97                96.0          176.0             2              126  \n",
              "emp-98                80.0           35.0             4              385  \n",
              "emp-99                56.0           73.5             2              238  \n",
              "\n",
              "[245 rows x 11 columns]"
            ],
            "text/html": [
              "\n",
              "  <div id=\"df-d45e4428-3e4a-4530-87d9-bc3485c34558\">\n",
              "    <div class=\"colab-df-container\">\n",
              "      <div>\n",
              "<style scoped>\n",
              "    .dataframe tbody tr th:only-of-type {\n",
              "        vertical-align: middle;\n",
              "    }\n",
              "\n",
              "    .dataframe tbody tr th {\n",
              "        vertical-align: top;\n",
              "    }\n",
              "\n",
              "    .dataframe thead th {\n",
              "        text-align: right;\n",
              "    }\n",
              "</style>\n",
              "<table border=\"1\" class=\"dataframe\">\n",
              "  <thead>\n",
              "    <tr style=\"text-align: right;\">\n",
              "      <th></th>\n",
              "      <th>Left_Company</th>\n",
              "      <th>Job_History</th>\n",
              "      <th>Joining_Date</th>\n",
              "      <th>Designation</th>\n",
              "      <th>Sex</th>\n",
              "      <th>TotalWorkingHours</th>\n",
              "      <th>Billable_Hours</th>\n",
              "      <th>Hours_off_Duty</th>\n",
              "      <th>Touring_Hours</th>\n",
              "      <th>NoOfProjects</th>\n",
              "      <th>ActualTimeSpent</th>\n",
              "    </tr>\n",
              "    <tr>\n",
              "      <th>EmployeeID</th>\n",
              "      <th></th>\n",
              "      <th></th>\n",
              "      <th></th>\n",
              "      <th></th>\n",
              "      <th></th>\n",
              "      <th></th>\n",
              "      <th></th>\n",
              "      <th></th>\n",
              "      <th></th>\n",
              "      <th></th>\n",
              "      <th></th>\n",
              "    </tr>\n",
              "  </thead>\n",
              "  <tbody>\n",
              "    <tr>\n",
              "      <th>emp-1</th>\n",
              "      <td>0</td>\n",
              "      <td>Worked at Company - 639 , Company - 212 , Comp...</td>\n",
              "      <td>2011_01</td>\n",
              "      <td>MD</td>\n",
              "      <td>1</td>\n",
              "      <td>205.0</td>\n",
              "      <td>189.0</td>\n",
              "      <td>72.0</td>\n",
              "      <td>189.0</td>\n",
              "      <td>3</td>\n",
              "      <td>231</td>\n",
              "    </tr>\n",
              "    <tr>\n",
              "      <th>emp-10</th>\n",
              "      <td>1</td>\n",
              "      <td>Worked at Company - 816 , Company - 724 , Comp...</td>\n",
              "      <td>2006_02</td>\n",
              "      <td>VP</td>\n",
              "      <td>0</td>\n",
              "      <td>241.0</td>\n",
              "      <td>233.0</td>\n",
              "      <td>120.0</td>\n",
              "      <td>186.0</td>\n",
              "      <td>2</td>\n",
              "      <td>147</td>\n",
              "    </tr>\n",
              "    <tr>\n",
              "      <th>emp-100</th>\n",
              "      <td>0</td>\n",
              "      <td>Worked at Company - 562 , Company - 319</td>\n",
              "      <td>2011_12</td>\n",
              "      <td>Senior</td>\n",
              "      <td>1</td>\n",
              "      <td>278.0</td>\n",
              "      <td>264.0</td>\n",
              "      <td>40.0</td>\n",
              "      <td>264.0</td>\n",
              "      <td>3</td>\n",
              "      <td>308</td>\n",
              "    </tr>\n",
              "    <tr>\n",
              "      <th>emp-101</th>\n",
              "      <td>0</td>\n",
              "      <td>Worked at Company - 212 , Company - 668 , Comp...</td>\n",
              "      <td>2012_01</td>\n",
              "      <td>Senior</td>\n",
              "      <td>1</td>\n",
              "      <td>345.5</td>\n",
              "      <td>233.5</td>\n",
              "      <td>64.0</td>\n",
              "      <td>0.0</td>\n",
              "      <td>2</td>\n",
              "      <td>217</td>\n",
              "    </tr>\n",
              "    <tr>\n",
              "      <th>emp-102</th>\n",
              "      <td>0</td>\n",
              "      <td>Worked at Company - 234</td>\n",
              "      <td>2011_12</td>\n",
              "      <td>Senior</td>\n",
              "      <td>1</td>\n",
              "      <td>270.0</td>\n",
              "      <td>249.0</td>\n",
              "      <td>88.0</td>\n",
              "      <td>213.0</td>\n",
              "      <td>2</td>\n",
              "      <td>231</td>\n",
              "    </tr>\n",
              "    <tr>\n",
              "      <th>...</th>\n",
              "      <td>...</td>\n",
              "      <td>...</td>\n",
              "      <td>...</td>\n",
              "      <td>...</td>\n",
              "      <td>...</td>\n",
              "      <td>...</td>\n",
              "      <td>...</td>\n",
              "      <td>...</td>\n",
              "      <td>...</td>\n",
              "      <td>...</td>\n",
              "      <td>...</td>\n",
              "    </tr>\n",
              "    <tr>\n",
              "      <th>emp-94</th>\n",
              "      <td>0</td>\n",
              "      <td>Worked at Company - 71 , Company - 324 , Compa...</td>\n",
              "      <td>2011_09</td>\n",
              "      <td>Senior</td>\n",
              "      <td>0</td>\n",
              "      <td>246.0</td>\n",
              "      <td>198.0</td>\n",
              "      <td>80.0</td>\n",
              "      <td>198.0</td>\n",
              "      <td>2</td>\n",
              "      <td>105</td>\n",
              "    </tr>\n",
              "    <tr>\n",
              "      <th>emp-96</th>\n",
              "      <td>0</td>\n",
              "      <td>Worked at Company - 27 , Company - 159</td>\n",
              "      <td>2011_10</td>\n",
              "      <td>Senior</td>\n",
              "      <td>1</td>\n",
              "      <td>254.5</td>\n",
              "      <td>246.5</td>\n",
              "      <td>88.0</td>\n",
              "      <td>239.0</td>\n",
              "      <td>3</td>\n",
              "      <td>238</td>\n",
              "    </tr>\n",
              "    <tr>\n",
              "      <th>emp-97</th>\n",
              "      <td>1</td>\n",
              "      <td>Worked at Company - 789 , Company - 785 , Comp...</td>\n",
              "      <td>2011_10</td>\n",
              "      <td>Junior</td>\n",
              "      <td>0</td>\n",
              "      <td>200.0</td>\n",
              "      <td>176.0</td>\n",
              "      <td>96.0</td>\n",
              "      <td>176.0</td>\n",
              "      <td>2</td>\n",
              "      <td>126</td>\n",
              "    </tr>\n",
              "    <tr>\n",
              "      <th>emp-98</th>\n",
              "      <td>0</td>\n",
              "      <td>Worked at Company - 817 , Company - 404 , Comp...</td>\n",
              "      <td>2011_11</td>\n",
              "      <td>Senior</td>\n",
              "      <td>1</td>\n",
              "      <td>244.0</td>\n",
              "      <td>220.0</td>\n",
              "      <td>80.0</td>\n",
              "      <td>35.0</td>\n",
              "      <td>4</td>\n",
              "      <td>385</td>\n",
              "    </tr>\n",
              "    <tr>\n",
              "      <th>emp-99</th>\n",
              "      <td>0</td>\n",
              "      <td>Worked at Company - 204 , Company - 171 , Comp...</td>\n",
              "      <td>2011_11</td>\n",
              "      <td>Senior</td>\n",
              "      <td>1</td>\n",
              "      <td>244.0</td>\n",
              "      <td>242.0</td>\n",
              "      <td>56.0</td>\n",
              "      <td>73.5</td>\n",
              "      <td>2</td>\n",
              "      <td>238</td>\n",
              "    </tr>\n",
              "  </tbody>\n",
              "</table>\n",
              "<p>245 rows × 11 columns</p>\n",
              "</div>\n",
              "      <button class=\"colab-df-convert\" onclick=\"convertToInteractive('df-d45e4428-3e4a-4530-87d9-bc3485c34558')\"\n",
              "              title=\"Convert this dataframe to an interactive table.\"\n",
              "              style=\"display:none;\">\n",
              "        \n",
              "  <svg xmlns=\"http://www.w3.org/2000/svg\" height=\"24px\"viewBox=\"0 0 24 24\"\n",
              "       width=\"24px\">\n",
              "    <path d=\"M0 0h24v24H0V0z\" fill=\"none\"/>\n",
              "    <path d=\"M18.56 5.44l.94 2.06.94-2.06 2.06-.94-2.06-.94-.94-2.06-.94 2.06-2.06.94zm-11 1L8.5 8.5l.94-2.06 2.06-.94-2.06-.94L8.5 2.5l-.94 2.06-2.06.94zm10 10l.94 2.06.94-2.06 2.06-.94-2.06-.94-.94-2.06-.94 2.06-2.06.94z\"/><path d=\"M17.41 7.96l-1.37-1.37c-.4-.4-.92-.59-1.43-.59-.52 0-1.04.2-1.43.59L10.3 9.45l-7.72 7.72c-.78.78-.78 2.05 0 2.83L4 21.41c.39.39.9.59 1.41.59.51 0 1.02-.2 1.41-.59l7.78-7.78 2.81-2.81c.8-.78.8-2.07 0-2.86zM5.41 20L4 18.59l7.72-7.72 1.47 1.35L5.41 20z\"/>\n",
              "  </svg>\n",
              "      </button>\n",
              "      \n",
              "  <style>\n",
              "    .colab-df-container {\n",
              "      display:flex;\n",
              "      flex-wrap:wrap;\n",
              "      gap: 12px;\n",
              "    }\n",
              "\n",
              "    .colab-df-convert {\n",
              "      background-color: #E8F0FE;\n",
              "      border: none;\n",
              "      border-radius: 50%;\n",
              "      cursor: pointer;\n",
              "      display: none;\n",
              "      fill: #1967D2;\n",
              "      height: 32px;\n",
              "      padding: 0 0 0 0;\n",
              "      width: 32px;\n",
              "    }\n",
              "\n",
              "    .colab-df-convert:hover {\n",
              "      background-color: #E2EBFA;\n",
              "      box-shadow: 0px 1px 2px rgba(60, 64, 67, 0.3), 0px 1px 3px 1px rgba(60, 64, 67, 0.15);\n",
              "      fill: #174EA6;\n",
              "    }\n",
              "\n",
              "    [theme=dark] .colab-df-convert {\n",
              "      background-color: #3B4455;\n",
              "      fill: #D2E3FC;\n",
              "    }\n",
              "\n",
              "    [theme=dark] .colab-df-convert:hover {\n",
              "      background-color: #434B5C;\n",
              "      box-shadow: 0px 1px 3px 1px rgba(0, 0, 0, 0.15);\n",
              "      filter: drop-shadow(0px 1px 2px rgba(0, 0, 0, 0.3));\n",
              "      fill: #FFFFFF;\n",
              "    }\n",
              "  </style>\n",
              "\n",
              "      <script>\n",
              "        const buttonEl =\n",
              "          document.querySelector('#df-d45e4428-3e4a-4530-87d9-bc3485c34558 button.colab-df-convert');\n",
              "        buttonEl.style.display =\n",
              "          google.colab.kernel.accessAllowed ? 'block' : 'none';\n",
              "\n",
              "        async function convertToInteractive(key) {\n",
              "          const element = document.querySelector('#df-d45e4428-3e4a-4530-87d9-bc3485c34558');\n",
              "          const dataTable =\n",
              "            await google.colab.kernel.invokeFunction('convertToInteractive',\n",
              "                                                     [key], {});\n",
              "          if (!dataTable) return;\n",
              "\n",
              "          const docLinkHtml = 'Like what you see? Visit the ' +\n",
              "            '<a target=\"_blank\" href=https://colab.research.google.com/notebooks/data_table.ipynb>data table notebook</a>'\n",
              "            + ' to learn more about interactive tables.';\n",
              "          element.innerHTML = '';\n",
              "          dataTable['output_type'] = 'display_data';\n",
              "          await google.colab.output.renderOutput(dataTable, element);\n",
              "          const docLink = document.createElement('div');\n",
              "          docLink.innerHTML = docLinkHtml;\n",
              "          element.appendChild(docLink);\n",
              "        }\n",
              "      </script>\n",
              "    </div>\n",
              "  </div>\n",
              "  "
            ]
          },
          "metadata": {},
          "execution_count": 440
        }
      ],
      "source": [
        "\n",
        "train = train_final.groupby('EmployeeID').agg('max')\n",
        "train"
      ]
    },
    {
      "cell_type": "code",
      "execution_count": null,
      "metadata": {
        "colab": {
          "base_uri": "https://localhost:8080/"
        },
        "id": "hMsWCgkDB5bU",
        "outputId": "2c22935f-4f08-47ab-97a9-656b692e3208"
      },
      "outputs": [
        {
          "output_type": "execute_result",
          "data": {
            "text/plain": [
              "Left_Company         0\n",
              "Job_History          0\n",
              "Joining_Date         0\n",
              "Designation          0\n",
              "Sex                  0\n",
              "TotalWorkingHours    0\n",
              "Billable_Hours       0\n",
              "Hours_off_Duty       0\n",
              "Touring_Hours        0\n",
              "NoOfProjects         0\n",
              "ActualTimeSpent      0\n",
              "dtype: int64"
            ]
          },
          "metadata": {},
          "execution_count": 441
        }
      ],
      "source": [
        "train.isnull().sum()"
      ]
    },
    {
      "cell_type": "code",
      "execution_count": null,
      "metadata": {
        "colab": {
          "base_uri": "https://localhost:8080/",
          "height": 510
        },
        "id": "bveCin9yrF6g",
        "outputId": "85ecde06-5ea1-44e1-f621-1931eed16347"
      },
      "outputs": [
        {
          "output_type": "execute_result",
          "data": {
            "text/plain": [
              "  EmployeeID  Left_Company                                        Job_History  \\\n",
              "0      emp-1             0  Worked at Company - 639 , Company - 212 , Comp...   \n",
              "1      emp-1             0  Worked at Company - 639 , Company - 212 , Comp...   \n",
              "2      emp-1             0  Worked at Company - 639 , Company - 212 , Comp...   \n",
              "3      emp-1             0  Worked at Company - 639 , Company - 212 , Comp...   \n",
              "4      emp-1             0  Worked at Company - 639 , Company - 212 , Comp...   \n",
              "\n",
              "  Joining_Date Designation  Sex  TotalWorkingHours  Billable_Hours  \\\n",
              "0      2011_01          MD    1              184.0           144.0   \n",
              "1      2011_01          MD    1              176.0           136.0   \n",
              "2      2011_01          MD    1              200.0           120.0   \n",
              "3      2011_01          MD    1              160.0           144.0   \n",
              "4      2011_01          MD    1              171.0           135.0   \n",
              "\n",
              "   Hours_off_Duty  Touring_Hours  NoOfProjects  ActualTimeSpent  \n",
              "0            40.0          144.0             3               77  \n",
              "1            40.0          136.0             2               98  \n",
              "2            72.0          120.0             1               14  \n",
              "3             8.0          144.0             3              147  \n",
              "4             0.0          135.0             1               42  "
            ],
            "text/html": [
              "\n",
              "  <div id=\"df-7c23d364-c7da-4182-9451-2c7c62bcb762\">\n",
              "    <div class=\"colab-df-container\">\n",
              "      <div>\n",
              "<style scoped>\n",
              "    .dataframe tbody tr th:only-of-type {\n",
              "        vertical-align: middle;\n",
              "    }\n",
              "\n",
              "    .dataframe tbody tr th {\n",
              "        vertical-align: top;\n",
              "    }\n",
              "\n",
              "    .dataframe thead th {\n",
              "        text-align: right;\n",
              "    }\n",
              "</style>\n",
              "<table border=\"1\" class=\"dataframe\">\n",
              "  <thead>\n",
              "    <tr style=\"text-align: right;\">\n",
              "      <th></th>\n",
              "      <th>EmployeeID</th>\n",
              "      <th>Left_Company</th>\n",
              "      <th>Job_History</th>\n",
              "      <th>Joining_Date</th>\n",
              "      <th>Designation</th>\n",
              "      <th>Sex</th>\n",
              "      <th>TotalWorkingHours</th>\n",
              "      <th>Billable_Hours</th>\n",
              "      <th>Hours_off_Duty</th>\n",
              "      <th>Touring_Hours</th>\n",
              "      <th>NoOfProjects</th>\n",
              "      <th>ActualTimeSpent</th>\n",
              "    </tr>\n",
              "  </thead>\n",
              "  <tbody>\n",
              "    <tr>\n",
              "      <th>0</th>\n",
              "      <td>emp-1</td>\n",
              "      <td>0</td>\n",
              "      <td>Worked at Company - 639 , Company - 212 , Comp...</td>\n",
              "      <td>2011_01</td>\n",
              "      <td>MD</td>\n",
              "      <td>1</td>\n",
              "      <td>184.0</td>\n",
              "      <td>144.0</td>\n",
              "      <td>40.0</td>\n",
              "      <td>144.0</td>\n",
              "      <td>3</td>\n",
              "      <td>77</td>\n",
              "    </tr>\n",
              "    <tr>\n",
              "      <th>1</th>\n",
              "      <td>emp-1</td>\n",
              "      <td>0</td>\n",
              "      <td>Worked at Company - 639 , Company - 212 , Comp...</td>\n",
              "      <td>2011_01</td>\n",
              "      <td>MD</td>\n",
              "      <td>1</td>\n",
              "      <td>176.0</td>\n",
              "      <td>136.0</td>\n",
              "      <td>40.0</td>\n",
              "      <td>136.0</td>\n",
              "      <td>2</td>\n",
              "      <td>98</td>\n",
              "    </tr>\n",
              "    <tr>\n",
              "      <th>2</th>\n",
              "      <td>emp-1</td>\n",
              "      <td>0</td>\n",
              "      <td>Worked at Company - 639 , Company - 212 , Comp...</td>\n",
              "      <td>2011_01</td>\n",
              "      <td>MD</td>\n",
              "      <td>1</td>\n",
              "      <td>200.0</td>\n",
              "      <td>120.0</td>\n",
              "      <td>72.0</td>\n",
              "      <td>120.0</td>\n",
              "      <td>1</td>\n",
              "      <td>14</td>\n",
              "    </tr>\n",
              "    <tr>\n",
              "      <th>3</th>\n",
              "      <td>emp-1</td>\n",
              "      <td>0</td>\n",
              "      <td>Worked at Company - 639 , Company - 212 , Comp...</td>\n",
              "      <td>2011_01</td>\n",
              "      <td>MD</td>\n",
              "      <td>1</td>\n",
              "      <td>160.0</td>\n",
              "      <td>144.0</td>\n",
              "      <td>8.0</td>\n",
              "      <td>144.0</td>\n",
              "      <td>3</td>\n",
              "      <td>147</td>\n",
              "    </tr>\n",
              "    <tr>\n",
              "      <th>4</th>\n",
              "      <td>emp-1</td>\n",
              "      <td>0</td>\n",
              "      <td>Worked at Company - 639 , Company - 212 , Comp...</td>\n",
              "      <td>2011_01</td>\n",
              "      <td>MD</td>\n",
              "      <td>1</td>\n",
              "      <td>171.0</td>\n",
              "      <td>135.0</td>\n",
              "      <td>0.0</td>\n",
              "      <td>135.0</td>\n",
              "      <td>1</td>\n",
              "      <td>42</td>\n",
              "    </tr>\n",
              "  </tbody>\n",
              "</table>\n",
              "</div>\n",
              "      <button class=\"colab-df-convert\" onclick=\"convertToInteractive('df-7c23d364-c7da-4182-9451-2c7c62bcb762')\"\n",
              "              title=\"Convert this dataframe to an interactive table.\"\n",
              "              style=\"display:none;\">\n",
              "        \n",
              "  <svg xmlns=\"http://www.w3.org/2000/svg\" height=\"24px\"viewBox=\"0 0 24 24\"\n",
              "       width=\"24px\">\n",
              "    <path d=\"M0 0h24v24H0V0z\" fill=\"none\"/>\n",
              "    <path d=\"M18.56 5.44l.94 2.06.94-2.06 2.06-.94-2.06-.94-.94-2.06-.94 2.06-2.06.94zm-11 1L8.5 8.5l.94-2.06 2.06-.94-2.06-.94L8.5 2.5l-.94 2.06-2.06.94zm10 10l.94 2.06.94-2.06 2.06-.94-2.06-.94-.94-2.06-.94 2.06-2.06.94z\"/><path d=\"M17.41 7.96l-1.37-1.37c-.4-.4-.92-.59-1.43-.59-.52 0-1.04.2-1.43.59L10.3 9.45l-7.72 7.72c-.78.78-.78 2.05 0 2.83L4 21.41c.39.39.9.59 1.41.59.51 0 1.02-.2 1.41-.59l7.78-7.78 2.81-2.81c.8-.78.8-2.07 0-2.86zM5.41 20L4 18.59l7.72-7.72 1.47 1.35L5.41 20z\"/>\n",
              "  </svg>\n",
              "      </button>\n",
              "      \n",
              "  <style>\n",
              "    .colab-df-container {\n",
              "      display:flex;\n",
              "      flex-wrap:wrap;\n",
              "      gap: 12px;\n",
              "    }\n",
              "\n",
              "    .colab-df-convert {\n",
              "      background-color: #E8F0FE;\n",
              "      border: none;\n",
              "      border-radius: 50%;\n",
              "      cursor: pointer;\n",
              "      display: none;\n",
              "      fill: #1967D2;\n",
              "      height: 32px;\n",
              "      padding: 0 0 0 0;\n",
              "      width: 32px;\n",
              "    }\n",
              "\n",
              "    .colab-df-convert:hover {\n",
              "      background-color: #E2EBFA;\n",
              "      box-shadow: 0px 1px 2px rgba(60, 64, 67, 0.3), 0px 1px 3px 1px rgba(60, 64, 67, 0.15);\n",
              "      fill: #174EA6;\n",
              "    }\n",
              "\n",
              "    [theme=dark] .colab-df-convert {\n",
              "      background-color: #3B4455;\n",
              "      fill: #D2E3FC;\n",
              "    }\n",
              "\n",
              "    [theme=dark] .colab-df-convert:hover {\n",
              "      background-color: #434B5C;\n",
              "      box-shadow: 0px 1px 3px 1px rgba(0, 0, 0, 0.15);\n",
              "      filter: drop-shadow(0px 1px 2px rgba(0, 0, 0, 0.3));\n",
              "      fill: #FFFFFF;\n",
              "    }\n",
              "  </style>\n",
              "\n",
              "      <script>\n",
              "        const buttonEl =\n",
              "          document.querySelector('#df-7c23d364-c7da-4182-9451-2c7c62bcb762 button.colab-df-convert');\n",
              "        buttonEl.style.display =\n",
              "          google.colab.kernel.accessAllowed ? 'block' : 'none';\n",
              "\n",
              "        async function convertToInteractive(key) {\n",
              "          const element = document.querySelector('#df-7c23d364-c7da-4182-9451-2c7c62bcb762');\n",
              "          const dataTable =\n",
              "            await google.colab.kernel.invokeFunction('convertToInteractive',\n",
              "                                                     [key], {});\n",
              "          if (!dataTable) return;\n",
              "\n",
              "          const docLinkHtml = 'Like what you see? Visit the ' +\n",
              "            '<a target=\"_blank\" href=https://colab.research.google.com/notebooks/data_table.ipynb>data table notebook</a>'\n",
              "            + ' to learn more about interactive tables.';\n",
              "          element.innerHTML = '';\n",
              "          dataTable['output_type'] = 'display_data';\n",
              "          await google.colab.output.renderOutput(dataTable, element);\n",
              "          const docLink = document.createElement('div');\n",
              "          docLink.innerHTML = docLinkHtml;\n",
              "          element.appendChild(docLink);\n",
              "        }\n",
              "      </script>\n",
              "    </div>\n",
              "  </div>\n",
              "  "
            ]
          },
          "metadata": {},
          "execution_count": 442
        }
      ],
      "source": [
        "train_final.head()"
      ]
    },
    {
      "cell_type": "code",
      "execution_count": null,
      "metadata": {
        "colab": {
          "base_uri": "https://localhost:8080/",
          "height": 206
        },
        "id": "deGGss1HrUod",
        "outputId": "63fea2a3-bd49-4386-b6cb-cc1d4606c811"
      },
      "outputs": [
        {
          "output_type": "execute_result",
          "data": {
            "text/plain": [
              "  EmployeeID                                        Job_History Joining_Date  \\\n",
              "0     emp-10  Worked at Company - 816 , Company - 724 , Comp...      2006_02   \n",
              "1    emp-108  Worked at Company - 205 , Company - 373 , Comp...      2012_01   \n",
              "2    emp-115  Worked at Company - 690 , Company - 280 , Comp...      2012_02   \n",
              "3    emp-121  Worked at Company - 684 , Company - 159 , Comp...      2012_03   \n",
              "4    emp-138  Worked at Company - 443 , Company - 121 , Comp...      2012_05   \n",
              "\n",
              "  Designation  Sex  \n",
              "0          VP    0  \n",
              "1          VP    1  \n",
              "2      Senior    1  \n",
              "3          VP    1  \n",
              "4      Senior    1  "
            ],
            "text/html": [
              "\n",
              "  <div id=\"df-5c498fa9-8bac-4753-9106-64551c085e9d\">\n",
              "    <div class=\"colab-df-container\">\n",
              "      <div>\n",
              "<style scoped>\n",
              "    .dataframe tbody tr th:only-of-type {\n",
              "        vertical-align: middle;\n",
              "    }\n",
              "\n",
              "    .dataframe tbody tr th {\n",
              "        vertical-align: top;\n",
              "    }\n",
              "\n",
              "    .dataframe thead th {\n",
              "        text-align: right;\n",
              "    }\n",
              "</style>\n",
              "<table border=\"1\" class=\"dataframe\">\n",
              "  <thead>\n",
              "    <tr style=\"text-align: right;\">\n",
              "      <th></th>\n",
              "      <th>EmployeeID</th>\n",
              "      <th>Job_History</th>\n",
              "      <th>Joining_Date</th>\n",
              "      <th>Designation</th>\n",
              "      <th>Sex</th>\n",
              "    </tr>\n",
              "  </thead>\n",
              "  <tbody>\n",
              "    <tr>\n",
              "      <th>0</th>\n",
              "      <td>emp-10</td>\n",
              "      <td>Worked at Company - 816 , Company - 724 , Comp...</td>\n",
              "      <td>2006_02</td>\n",
              "      <td>VP</td>\n",
              "      <td>0</td>\n",
              "    </tr>\n",
              "    <tr>\n",
              "      <th>1</th>\n",
              "      <td>emp-108</td>\n",
              "      <td>Worked at Company - 205 , Company - 373 , Comp...</td>\n",
              "      <td>2012_01</td>\n",
              "      <td>VP</td>\n",
              "      <td>1</td>\n",
              "    </tr>\n",
              "    <tr>\n",
              "      <th>2</th>\n",
              "      <td>emp-115</td>\n",
              "      <td>Worked at Company - 690 , Company - 280 , Comp...</td>\n",
              "      <td>2012_02</td>\n",
              "      <td>Senior</td>\n",
              "      <td>1</td>\n",
              "    </tr>\n",
              "    <tr>\n",
              "      <th>3</th>\n",
              "      <td>emp-121</td>\n",
              "      <td>Worked at Company - 684 , Company - 159 , Comp...</td>\n",
              "      <td>2012_03</td>\n",
              "      <td>VP</td>\n",
              "      <td>1</td>\n",
              "    </tr>\n",
              "    <tr>\n",
              "      <th>4</th>\n",
              "      <td>emp-138</td>\n",
              "      <td>Worked at Company - 443 , Company - 121 , Comp...</td>\n",
              "      <td>2012_05</td>\n",
              "      <td>Senior</td>\n",
              "      <td>1</td>\n",
              "    </tr>\n",
              "  </tbody>\n",
              "</table>\n",
              "</div>\n",
              "      <button class=\"colab-df-convert\" onclick=\"convertToInteractive('df-5c498fa9-8bac-4753-9106-64551c085e9d')\"\n",
              "              title=\"Convert this dataframe to an interactive table.\"\n",
              "              style=\"display:none;\">\n",
              "        \n",
              "  <svg xmlns=\"http://www.w3.org/2000/svg\" height=\"24px\"viewBox=\"0 0 24 24\"\n",
              "       width=\"24px\">\n",
              "    <path d=\"M0 0h24v24H0V0z\" fill=\"none\"/>\n",
              "    <path d=\"M18.56 5.44l.94 2.06.94-2.06 2.06-.94-2.06-.94-.94-2.06-.94 2.06-2.06.94zm-11 1L8.5 8.5l.94-2.06 2.06-.94-2.06-.94L8.5 2.5l-.94 2.06-2.06.94zm10 10l.94 2.06.94-2.06 2.06-.94-2.06-.94-.94-2.06-.94 2.06-2.06.94z\"/><path d=\"M17.41 7.96l-1.37-1.37c-.4-.4-.92-.59-1.43-.59-.52 0-1.04.2-1.43.59L10.3 9.45l-7.72 7.72c-.78.78-.78 2.05 0 2.83L4 21.41c.39.39.9.59 1.41.59.51 0 1.02-.2 1.41-.59l7.78-7.78 2.81-2.81c.8-.78.8-2.07 0-2.86zM5.41 20L4 18.59l7.72-7.72 1.47 1.35L5.41 20z\"/>\n",
              "  </svg>\n",
              "      </button>\n",
              "      \n",
              "  <style>\n",
              "    .colab-df-container {\n",
              "      display:flex;\n",
              "      flex-wrap:wrap;\n",
              "      gap: 12px;\n",
              "    }\n",
              "\n",
              "    .colab-df-convert {\n",
              "      background-color: #E8F0FE;\n",
              "      border: none;\n",
              "      border-radius: 50%;\n",
              "      cursor: pointer;\n",
              "      display: none;\n",
              "      fill: #1967D2;\n",
              "      height: 32px;\n",
              "      padding: 0 0 0 0;\n",
              "      width: 32px;\n",
              "    }\n",
              "\n",
              "    .colab-df-convert:hover {\n",
              "      background-color: #E2EBFA;\n",
              "      box-shadow: 0px 1px 2px rgba(60, 64, 67, 0.3), 0px 1px 3px 1px rgba(60, 64, 67, 0.15);\n",
              "      fill: #174EA6;\n",
              "    }\n",
              "\n",
              "    [theme=dark] .colab-df-convert {\n",
              "      background-color: #3B4455;\n",
              "      fill: #D2E3FC;\n",
              "    }\n",
              "\n",
              "    [theme=dark] .colab-df-convert:hover {\n",
              "      background-color: #434B5C;\n",
              "      box-shadow: 0px 1px 3px 1px rgba(0, 0, 0, 0.15);\n",
              "      filter: drop-shadow(0px 1px 2px rgba(0, 0, 0, 0.3));\n",
              "      fill: #FFFFFF;\n",
              "    }\n",
              "  </style>\n",
              "\n",
              "      <script>\n",
              "        const buttonEl =\n",
              "          document.querySelector('#df-5c498fa9-8bac-4753-9106-64551c085e9d button.colab-df-convert');\n",
              "        buttonEl.style.display =\n",
              "          google.colab.kernel.accessAllowed ? 'block' : 'none';\n",
              "\n",
              "        async function convertToInteractive(key) {\n",
              "          const element = document.querySelector('#df-5c498fa9-8bac-4753-9106-64551c085e9d');\n",
              "          const dataTable =\n",
              "            await google.colab.kernel.invokeFunction('convertToInteractive',\n",
              "                                                     [key], {});\n",
              "          if (!dataTable) return;\n",
              "\n",
              "          const docLinkHtml = 'Like what you see? Visit the ' +\n",
              "            '<a target=\"_blank\" href=https://colab.research.google.com/notebooks/data_table.ipynb>data table notebook</a>'\n",
              "            + ' to learn more about interactive tables.';\n",
              "          element.innerHTML = '';\n",
              "          dataTable['output_type'] = 'display_data';\n",
              "          await google.colab.output.renderOutput(dataTable, element);\n",
              "          const docLink = document.createElement('div');\n",
              "          docLink.innerHTML = docLinkHtml;\n",
              "          element.appendChild(docLink);\n",
              "        }\n",
              "      </script>\n",
              "    </div>\n",
              "  </div>\n",
              "  "
            ]
          },
          "metadata": {},
          "execution_count": 443
        }
      ],
      "source": [
        "\n",
        "emp_data.head()"
      ]
    },
    {
      "cell_type": "code",
      "execution_count": null,
      "metadata": {
        "colab": {
          "base_uri": "https://localhost:8080/"
        },
        "id": "q7unNyemcXTF",
        "outputId": "c2dd7a9c-3157-4bdf-99f8-e8d5fed448d2"
      },
      "outputs": [
        {
          "output_type": "stream",
          "name": "stdout",
          "text": [
            "The employee data has 296 rows & 5 columns.\n"
          ]
        }
      ],
      "source": [
        "print(\"The employee data has {} rows & {} columns.\" .format(emp_data.shape[0], emp_data.shape[1]))"
      ]
    },
    {
      "cell_type": "code",
      "execution_count": null,
      "metadata": {
        "colab": {
          "base_uri": "https://localhost:8080/",
          "height": 206
        },
        "id": "FDPaT_RidMl8",
        "outputId": "1eeb07cb-0268-47e0-e0b4-101b102d4e35"
      },
      "outputs": [
        {
          "output_type": "execute_result",
          "data": {
            "text/plain": [
              "  EmployeeID  Left_Company\n",
              "0    emp-106           NaN\n",
              "1    emp-112           NaN\n",
              "2    emp-114           NaN\n",
              "3    emp-118           NaN\n",
              "4     emp-12           NaN"
            ],
            "text/html": [
              "\n",
              "  <div id=\"df-492f1c14-358a-4190-b7ce-20e81ea4c59c\">\n",
              "    <div class=\"colab-df-container\">\n",
              "      <div>\n",
              "<style scoped>\n",
              "    .dataframe tbody tr th:only-of-type {\n",
              "        vertical-align: middle;\n",
              "    }\n",
              "\n",
              "    .dataframe tbody tr th {\n",
              "        vertical-align: top;\n",
              "    }\n",
              "\n",
              "    .dataframe thead th {\n",
              "        text-align: right;\n",
              "    }\n",
              "</style>\n",
              "<table border=\"1\" class=\"dataframe\">\n",
              "  <thead>\n",
              "    <tr style=\"text-align: right;\">\n",
              "      <th></th>\n",
              "      <th>EmployeeID</th>\n",
              "      <th>Left_Company</th>\n",
              "    </tr>\n",
              "  </thead>\n",
              "  <tbody>\n",
              "    <tr>\n",
              "      <th>0</th>\n",
              "      <td>emp-106</td>\n",
              "      <td>NaN</td>\n",
              "    </tr>\n",
              "    <tr>\n",
              "      <th>1</th>\n",
              "      <td>emp-112</td>\n",
              "      <td>NaN</td>\n",
              "    </tr>\n",
              "    <tr>\n",
              "      <th>2</th>\n",
              "      <td>emp-114</td>\n",
              "      <td>NaN</td>\n",
              "    </tr>\n",
              "    <tr>\n",
              "      <th>3</th>\n",
              "      <td>emp-118</td>\n",
              "      <td>NaN</td>\n",
              "    </tr>\n",
              "    <tr>\n",
              "      <th>4</th>\n",
              "      <td>emp-12</td>\n",
              "      <td>NaN</td>\n",
              "    </tr>\n",
              "  </tbody>\n",
              "</table>\n",
              "</div>\n",
              "      <button class=\"colab-df-convert\" onclick=\"convertToInteractive('df-492f1c14-358a-4190-b7ce-20e81ea4c59c')\"\n",
              "              title=\"Convert this dataframe to an interactive table.\"\n",
              "              style=\"display:none;\">\n",
              "        \n",
              "  <svg xmlns=\"http://www.w3.org/2000/svg\" height=\"24px\"viewBox=\"0 0 24 24\"\n",
              "       width=\"24px\">\n",
              "    <path d=\"M0 0h24v24H0V0z\" fill=\"none\"/>\n",
              "    <path d=\"M18.56 5.44l.94 2.06.94-2.06 2.06-.94-2.06-.94-.94-2.06-.94 2.06-2.06.94zm-11 1L8.5 8.5l.94-2.06 2.06-.94-2.06-.94L8.5 2.5l-.94 2.06-2.06.94zm10 10l.94 2.06.94-2.06 2.06-.94-2.06-.94-.94-2.06-.94 2.06-2.06.94z\"/><path d=\"M17.41 7.96l-1.37-1.37c-.4-.4-.92-.59-1.43-.59-.52 0-1.04.2-1.43.59L10.3 9.45l-7.72 7.72c-.78.78-.78 2.05 0 2.83L4 21.41c.39.39.9.59 1.41.59.51 0 1.02-.2 1.41-.59l7.78-7.78 2.81-2.81c.8-.78.8-2.07 0-2.86zM5.41 20L4 18.59l7.72-7.72 1.47 1.35L5.41 20z\"/>\n",
              "  </svg>\n",
              "      </button>\n",
              "      \n",
              "  <style>\n",
              "    .colab-df-container {\n",
              "      display:flex;\n",
              "      flex-wrap:wrap;\n",
              "      gap: 12px;\n",
              "    }\n",
              "\n",
              "    .colab-df-convert {\n",
              "      background-color: #E8F0FE;\n",
              "      border: none;\n",
              "      border-radius: 50%;\n",
              "      cursor: pointer;\n",
              "      display: none;\n",
              "      fill: #1967D2;\n",
              "      height: 32px;\n",
              "      padding: 0 0 0 0;\n",
              "      width: 32px;\n",
              "    }\n",
              "\n",
              "    .colab-df-convert:hover {\n",
              "      background-color: #E2EBFA;\n",
              "      box-shadow: 0px 1px 2px rgba(60, 64, 67, 0.3), 0px 1px 3px 1px rgba(60, 64, 67, 0.15);\n",
              "      fill: #174EA6;\n",
              "    }\n",
              "\n",
              "    [theme=dark] .colab-df-convert {\n",
              "      background-color: #3B4455;\n",
              "      fill: #D2E3FC;\n",
              "    }\n",
              "\n",
              "    [theme=dark] .colab-df-convert:hover {\n",
              "      background-color: #434B5C;\n",
              "      box-shadow: 0px 1px 3px 1px rgba(0, 0, 0, 0.15);\n",
              "      filter: drop-shadow(0px 1px 2px rgba(0, 0, 0, 0.3));\n",
              "      fill: #FFFFFF;\n",
              "    }\n",
              "  </style>\n",
              "\n",
              "      <script>\n",
              "        const buttonEl =\n",
              "          document.querySelector('#df-492f1c14-358a-4190-b7ce-20e81ea4c59c button.colab-df-convert');\n",
              "        buttonEl.style.display =\n",
              "          google.colab.kernel.accessAllowed ? 'block' : 'none';\n",
              "\n",
              "        async function convertToInteractive(key) {\n",
              "          const element = document.querySelector('#df-492f1c14-358a-4190-b7ce-20e81ea4c59c');\n",
              "          const dataTable =\n",
              "            await google.colab.kernel.invokeFunction('convertToInteractive',\n",
              "                                                     [key], {});\n",
              "          if (!dataTable) return;\n",
              "\n",
              "          const docLinkHtml = 'Like what you see? Visit the ' +\n",
              "            '<a target=\"_blank\" href=https://colab.research.google.com/notebooks/data_table.ipynb>data table notebook</a>'\n",
              "            + ' to learn more about interactive tables.';\n",
              "          element.innerHTML = '';\n",
              "          dataTable['output_type'] = 'display_data';\n",
              "          await google.colab.output.renderOutput(dataTable, element);\n",
              "          const docLink = document.createElement('div');\n",
              "          docLink.innerHTML = docLinkHtml;\n",
              "          element.appendChild(docLink);\n",
              "        }\n",
              "      </script>\n",
              "    </div>\n",
              "  </div>\n",
              "  "
            ]
          },
          "metadata": {},
          "execution_count": 445
        }
      ],
      "source": [
        "test_attrition.head()"
      ]
    },
    {
      "cell_type": "markdown",
      "metadata": {
        "id": "pRAB9PIvdZIX"
      },
      "source": [
        "## Merging the datasets based on the employee data.\n"
      ]
    },
    {
      "cell_type": "markdown",
      "metadata": {
        "id": "OwKk4exDdjlI"
      },
      "source": [
        "## Merging the train data into a single datafrfame\n"
      ]
    },
    {
      "cell_type": "code",
      "execution_count": null,
      "metadata": {
        "id": "2JwLJwp3dRU0"
      },
      "outputs": [],
      "source": [
        "train_emp_data = pd.merge(train_attrition, emp_data, how='left', on='EmployeeID')"
      ]
    },
    {
      "cell_type": "code",
      "execution_count": null,
      "metadata": {
        "colab": {
          "base_uri": "https://localhost:8080/"
        },
        "id": "boPwbCamdn6-",
        "outputId": "05c441c6-b103-448d-80a5-0e88e4b3df12"
      },
      "outputs": [
        {
          "output_type": "execute_result",
          "data": {
            "text/plain": [
              "(245, 6)"
            ]
          },
          "metadata": {},
          "execution_count": 447
        }
      ],
      "source": [
        "train_emp_data.shape"
      ]
    },
    {
      "cell_type": "code",
      "execution_count": null,
      "metadata": {
        "id": "oT7o52tHdsQa"
      },
      "outputs": [],
      "source": [
        "train_final = pd.merge(train_emp_data, train_work, on='EmployeeID', how='left')"
      ]
    },
    {
      "cell_type": "markdown",
      "metadata": {
        "id": "24wzbkMZOL3V"
      },
      "source": []
    },
    {
      "cell_type": "code",
      "execution_count": null,
      "metadata": {
        "colab": {
          "base_uri": "https://localhost:8080/",
          "height": 528
        },
        "id": "a6BBohi2dwD_",
        "outputId": "9b6c8fa4-f82c-46a6-ef47-c08852b02374"
      },
      "outputs": [
        {
          "output_type": "stream",
          "name": "stdout",
          "text": [
            "(3983, 12)\n"
          ]
        },
        {
          "output_type": "execute_result",
          "data": {
            "text/plain": [
              "  EmployeeID  Left_Company                                        Job_History  \\\n",
              "0      emp-1             0  Worked at Company - 639 , Company - 212 , Comp...   \n",
              "1      emp-1             0  Worked at Company - 639 , Company - 212 , Comp...   \n",
              "2      emp-1             0  Worked at Company - 639 , Company - 212 , Comp...   \n",
              "3      emp-1             0  Worked at Company - 639 , Company - 212 , Comp...   \n",
              "4      emp-1             0  Worked at Company - 639 , Company - 212 , Comp...   \n",
              "\n",
              "  Joining_Date Designation  Sex  TotalWorkingHours  Billable_Hours  \\\n",
              "0      2011_01          MD    1              184.0           144.0   \n",
              "1      2011_01          MD    1              176.0           136.0   \n",
              "2      2011_01          MD    1              200.0           120.0   \n",
              "3      2011_01          MD    1              160.0           144.0   \n",
              "4      2011_01          MD    1              171.0           135.0   \n",
              "\n",
              "   Hours_off_Duty  Touring_Hours  NoOfProjects  ActualTimeSpent  \n",
              "0            40.0          144.0             3               77  \n",
              "1            40.0          136.0             2               98  \n",
              "2            72.0          120.0             1               14  \n",
              "3             8.0          144.0             3              147  \n",
              "4             0.0          135.0             1               42  "
            ],
            "text/html": [
              "\n",
              "  <div id=\"df-2f7e2b83-3c11-4783-b0ef-e516c08ce813\">\n",
              "    <div class=\"colab-df-container\">\n",
              "      <div>\n",
              "<style scoped>\n",
              "    .dataframe tbody tr th:only-of-type {\n",
              "        vertical-align: middle;\n",
              "    }\n",
              "\n",
              "    .dataframe tbody tr th {\n",
              "        vertical-align: top;\n",
              "    }\n",
              "\n",
              "    .dataframe thead th {\n",
              "        text-align: right;\n",
              "    }\n",
              "</style>\n",
              "<table border=\"1\" class=\"dataframe\">\n",
              "  <thead>\n",
              "    <tr style=\"text-align: right;\">\n",
              "      <th></th>\n",
              "      <th>EmployeeID</th>\n",
              "      <th>Left_Company</th>\n",
              "      <th>Job_History</th>\n",
              "      <th>Joining_Date</th>\n",
              "      <th>Designation</th>\n",
              "      <th>Sex</th>\n",
              "      <th>TotalWorkingHours</th>\n",
              "      <th>Billable_Hours</th>\n",
              "      <th>Hours_off_Duty</th>\n",
              "      <th>Touring_Hours</th>\n",
              "      <th>NoOfProjects</th>\n",
              "      <th>ActualTimeSpent</th>\n",
              "    </tr>\n",
              "  </thead>\n",
              "  <tbody>\n",
              "    <tr>\n",
              "      <th>0</th>\n",
              "      <td>emp-1</td>\n",
              "      <td>0</td>\n",
              "      <td>Worked at Company - 639 , Company - 212 , Comp...</td>\n",
              "      <td>2011_01</td>\n",
              "      <td>MD</td>\n",
              "      <td>1</td>\n",
              "      <td>184.0</td>\n",
              "      <td>144.0</td>\n",
              "      <td>40.0</td>\n",
              "      <td>144.0</td>\n",
              "      <td>3</td>\n",
              "      <td>77</td>\n",
              "    </tr>\n",
              "    <tr>\n",
              "      <th>1</th>\n",
              "      <td>emp-1</td>\n",
              "      <td>0</td>\n",
              "      <td>Worked at Company - 639 , Company - 212 , Comp...</td>\n",
              "      <td>2011_01</td>\n",
              "      <td>MD</td>\n",
              "      <td>1</td>\n",
              "      <td>176.0</td>\n",
              "      <td>136.0</td>\n",
              "      <td>40.0</td>\n",
              "      <td>136.0</td>\n",
              "      <td>2</td>\n",
              "      <td>98</td>\n",
              "    </tr>\n",
              "    <tr>\n",
              "      <th>2</th>\n",
              "      <td>emp-1</td>\n",
              "      <td>0</td>\n",
              "      <td>Worked at Company - 639 , Company - 212 , Comp...</td>\n",
              "      <td>2011_01</td>\n",
              "      <td>MD</td>\n",
              "      <td>1</td>\n",
              "      <td>200.0</td>\n",
              "      <td>120.0</td>\n",
              "      <td>72.0</td>\n",
              "      <td>120.0</td>\n",
              "      <td>1</td>\n",
              "      <td>14</td>\n",
              "    </tr>\n",
              "    <tr>\n",
              "      <th>3</th>\n",
              "      <td>emp-1</td>\n",
              "      <td>0</td>\n",
              "      <td>Worked at Company - 639 , Company - 212 , Comp...</td>\n",
              "      <td>2011_01</td>\n",
              "      <td>MD</td>\n",
              "      <td>1</td>\n",
              "      <td>160.0</td>\n",
              "      <td>144.0</td>\n",
              "      <td>8.0</td>\n",
              "      <td>144.0</td>\n",
              "      <td>3</td>\n",
              "      <td>147</td>\n",
              "    </tr>\n",
              "    <tr>\n",
              "      <th>4</th>\n",
              "      <td>emp-1</td>\n",
              "      <td>0</td>\n",
              "      <td>Worked at Company - 639 , Company - 212 , Comp...</td>\n",
              "      <td>2011_01</td>\n",
              "      <td>MD</td>\n",
              "      <td>1</td>\n",
              "      <td>171.0</td>\n",
              "      <td>135.0</td>\n",
              "      <td>0.0</td>\n",
              "      <td>135.0</td>\n",
              "      <td>1</td>\n",
              "      <td>42</td>\n",
              "    </tr>\n",
              "  </tbody>\n",
              "</table>\n",
              "</div>\n",
              "      <button class=\"colab-df-convert\" onclick=\"convertToInteractive('df-2f7e2b83-3c11-4783-b0ef-e516c08ce813')\"\n",
              "              title=\"Convert this dataframe to an interactive table.\"\n",
              "              style=\"display:none;\">\n",
              "        \n",
              "  <svg xmlns=\"http://www.w3.org/2000/svg\" height=\"24px\"viewBox=\"0 0 24 24\"\n",
              "       width=\"24px\">\n",
              "    <path d=\"M0 0h24v24H0V0z\" fill=\"none\"/>\n",
              "    <path d=\"M18.56 5.44l.94 2.06.94-2.06 2.06-.94-2.06-.94-.94-2.06-.94 2.06-2.06.94zm-11 1L8.5 8.5l.94-2.06 2.06-.94-2.06-.94L8.5 2.5l-.94 2.06-2.06.94zm10 10l.94 2.06.94-2.06 2.06-.94-2.06-.94-.94-2.06-.94 2.06-2.06.94z\"/><path d=\"M17.41 7.96l-1.37-1.37c-.4-.4-.92-.59-1.43-.59-.52 0-1.04.2-1.43.59L10.3 9.45l-7.72 7.72c-.78.78-.78 2.05 0 2.83L4 21.41c.39.39.9.59 1.41.59.51 0 1.02-.2 1.41-.59l7.78-7.78 2.81-2.81c.8-.78.8-2.07 0-2.86zM5.41 20L4 18.59l7.72-7.72 1.47 1.35L5.41 20z\"/>\n",
              "  </svg>\n",
              "      </button>\n",
              "      \n",
              "  <style>\n",
              "    .colab-df-container {\n",
              "      display:flex;\n",
              "      flex-wrap:wrap;\n",
              "      gap: 12px;\n",
              "    }\n",
              "\n",
              "    .colab-df-convert {\n",
              "      background-color: #E8F0FE;\n",
              "      border: none;\n",
              "      border-radius: 50%;\n",
              "      cursor: pointer;\n",
              "      display: none;\n",
              "      fill: #1967D2;\n",
              "      height: 32px;\n",
              "      padding: 0 0 0 0;\n",
              "      width: 32px;\n",
              "    }\n",
              "\n",
              "    .colab-df-convert:hover {\n",
              "      background-color: #E2EBFA;\n",
              "      box-shadow: 0px 1px 2px rgba(60, 64, 67, 0.3), 0px 1px 3px 1px rgba(60, 64, 67, 0.15);\n",
              "      fill: #174EA6;\n",
              "    }\n",
              "\n",
              "    [theme=dark] .colab-df-convert {\n",
              "      background-color: #3B4455;\n",
              "      fill: #D2E3FC;\n",
              "    }\n",
              "\n",
              "    [theme=dark] .colab-df-convert:hover {\n",
              "      background-color: #434B5C;\n",
              "      box-shadow: 0px 1px 3px 1px rgba(0, 0, 0, 0.15);\n",
              "      filter: drop-shadow(0px 1px 2px rgba(0, 0, 0, 0.3));\n",
              "      fill: #FFFFFF;\n",
              "    }\n",
              "  </style>\n",
              "\n",
              "      <script>\n",
              "        const buttonEl =\n",
              "          document.querySelector('#df-2f7e2b83-3c11-4783-b0ef-e516c08ce813 button.colab-df-convert');\n",
              "        buttonEl.style.display =\n",
              "          google.colab.kernel.accessAllowed ? 'block' : 'none';\n",
              "\n",
              "        async function convertToInteractive(key) {\n",
              "          const element = document.querySelector('#df-2f7e2b83-3c11-4783-b0ef-e516c08ce813');\n",
              "          const dataTable =\n",
              "            await google.colab.kernel.invokeFunction('convertToInteractive',\n",
              "                                                     [key], {});\n",
              "          if (!dataTable) return;\n",
              "\n",
              "          const docLinkHtml = 'Like what you see? Visit the ' +\n",
              "            '<a target=\"_blank\" href=https://colab.research.google.com/notebooks/data_table.ipynb>data table notebook</a>'\n",
              "            + ' to learn more about interactive tables.';\n",
              "          element.innerHTML = '';\n",
              "          dataTable['output_type'] = 'display_data';\n",
              "          await google.colab.output.renderOutput(dataTable, element);\n",
              "          const docLink = document.createElement('div');\n",
              "          docLink.innerHTML = docLinkHtml;\n",
              "          element.appendChild(docLink);\n",
              "        }\n",
              "      </script>\n",
              "    </div>\n",
              "  </div>\n",
              "  "
            ]
          },
          "metadata": {},
          "execution_count": 449
        }
      ],
      "source": [
        "print(train_final.shape)\n",
        "train_final.head()"
      ]
    },
    {
      "cell_type": "code",
      "execution_count": null,
      "metadata": {
        "id": "tF_ZSb4ldyOB"
      },
      "outputs": [],
      "source": [
        "\n",
        "train = train_final.groupby('EmployeeID').agg('max')"
      ]
    },
    {
      "cell_type": "code",
      "execution_count": null,
      "metadata": {
        "colab": {
          "base_uri": "https://localhost:8080/",
          "height": 489
        },
        "id": "_kyw748Ed9Sw",
        "outputId": "fd2c8c64-a46a-4918-993b-dc66fe96b12c"
      },
      "outputs": [
        {
          "output_type": "execute_result",
          "data": {
            "text/plain": [
              "            Left_Company                                        Job_History  \\\n",
              "EmployeeID                                                                    \n",
              "emp-1                  0  Worked at Company - 639 , Company - 212 , Comp...   \n",
              "emp-10                 1  Worked at Company - 816 , Company - 724 , Comp...   \n",
              "emp-100                0            Worked at Company - 562 , Company - 319   \n",
              "emp-101                0  Worked at Company - 212 , Company - 668 , Comp...   \n",
              "emp-102                0                            Worked at Company - 234   \n",
              "\n",
              "           Joining_Date Designation  Sex  TotalWorkingHours  Billable_Hours  \\\n",
              "EmployeeID                                                                    \n",
              "emp-1           2011_01          MD    1              205.0           189.0   \n",
              "emp-10          2006_02          VP    0              241.0           233.0   \n",
              "emp-100         2011_12      Senior    1              278.0           264.0   \n",
              "emp-101         2012_01      Senior    1              345.5           233.5   \n",
              "emp-102         2011_12      Senior    1              270.0           249.0   \n",
              "\n",
              "            Hours_off_Duty  Touring_Hours  NoOfProjects  ActualTimeSpent  \n",
              "EmployeeID                                                                \n",
              "emp-1                 72.0          189.0             3              231  \n",
              "emp-10               120.0          186.0             2              147  \n",
              "emp-100               40.0          264.0             3              308  \n",
              "emp-101               64.0            0.0             2              217  \n",
              "emp-102               88.0          213.0             2              231  "
            ],
            "text/html": [
              "\n",
              "  <div id=\"df-66771297-ab85-44d1-b366-cebd32cdb2ce\">\n",
              "    <div class=\"colab-df-container\">\n",
              "      <div>\n",
              "<style scoped>\n",
              "    .dataframe tbody tr th:only-of-type {\n",
              "        vertical-align: middle;\n",
              "    }\n",
              "\n",
              "    .dataframe tbody tr th {\n",
              "        vertical-align: top;\n",
              "    }\n",
              "\n",
              "    .dataframe thead th {\n",
              "        text-align: right;\n",
              "    }\n",
              "</style>\n",
              "<table border=\"1\" class=\"dataframe\">\n",
              "  <thead>\n",
              "    <tr style=\"text-align: right;\">\n",
              "      <th></th>\n",
              "      <th>Left_Company</th>\n",
              "      <th>Job_History</th>\n",
              "      <th>Joining_Date</th>\n",
              "      <th>Designation</th>\n",
              "      <th>Sex</th>\n",
              "      <th>TotalWorkingHours</th>\n",
              "      <th>Billable_Hours</th>\n",
              "      <th>Hours_off_Duty</th>\n",
              "      <th>Touring_Hours</th>\n",
              "      <th>NoOfProjects</th>\n",
              "      <th>ActualTimeSpent</th>\n",
              "    </tr>\n",
              "    <tr>\n",
              "      <th>EmployeeID</th>\n",
              "      <th></th>\n",
              "      <th></th>\n",
              "      <th></th>\n",
              "      <th></th>\n",
              "      <th></th>\n",
              "      <th></th>\n",
              "      <th></th>\n",
              "      <th></th>\n",
              "      <th></th>\n",
              "      <th></th>\n",
              "      <th></th>\n",
              "    </tr>\n",
              "  </thead>\n",
              "  <tbody>\n",
              "    <tr>\n",
              "      <th>emp-1</th>\n",
              "      <td>0</td>\n",
              "      <td>Worked at Company - 639 , Company - 212 , Comp...</td>\n",
              "      <td>2011_01</td>\n",
              "      <td>MD</td>\n",
              "      <td>1</td>\n",
              "      <td>205.0</td>\n",
              "      <td>189.0</td>\n",
              "      <td>72.0</td>\n",
              "      <td>189.0</td>\n",
              "      <td>3</td>\n",
              "      <td>231</td>\n",
              "    </tr>\n",
              "    <tr>\n",
              "      <th>emp-10</th>\n",
              "      <td>1</td>\n",
              "      <td>Worked at Company - 816 , Company - 724 , Comp...</td>\n",
              "      <td>2006_02</td>\n",
              "      <td>VP</td>\n",
              "      <td>0</td>\n",
              "      <td>241.0</td>\n",
              "      <td>233.0</td>\n",
              "      <td>120.0</td>\n",
              "      <td>186.0</td>\n",
              "      <td>2</td>\n",
              "      <td>147</td>\n",
              "    </tr>\n",
              "    <tr>\n",
              "      <th>emp-100</th>\n",
              "      <td>0</td>\n",
              "      <td>Worked at Company - 562 , Company - 319</td>\n",
              "      <td>2011_12</td>\n",
              "      <td>Senior</td>\n",
              "      <td>1</td>\n",
              "      <td>278.0</td>\n",
              "      <td>264.0</td>\n",
              "      <td>40.0</td>\n",
              "      <td>264.0</td>\n",
              "      <td>3</td>\n",
              "      <td>308</td>\n",
              "    </tr>\n",
              "    <tr>\n",
              "      <th>emp-101</th>\n",
              "      <td>0</td>\n",
              "      <td>Worked at Company - 212 , Company - 668 , Comp...</td>\n",
              "      <td>2012_01</td>\n",
              "      <td>Senior</td>\n",
              "      <td>1</td>\n",
              "      <td>345.5</td>\n",
              "      <td>233.5</td>\n",
              "      <td>64.0</td>\n",
              "      <td>0.0</td>\n",
              "      <td>2</td>\n",
              "      <td>217</td>\n",
              "    </tr>\n",
              "    <tr>\n",
              "      <th>emp-102</th>\n",
              "      <td>0</td>\n",
              "      <td>Worked at Company - 234</td>\n",
              "      <td>2011_12</td>\n",
              "      <td>Senior</td>\n",
              "      <td>1</td>\n",
              "      <td>270.0</td>\n",
              "      <td>249.0</td>\n",
              "      <td>88.0</td>\n",
              "      <td>213.0</td>\n",
              "      <td>2</td>\n",
              "      <td>231</td>\n",
              "    </tr>\n",
              "  </tbody>\n",
              "</table>\n",
              "</div>\n",
              "      <button class=\"colab-df-convert\" onclick=\"convertToInteractive('df-66771297-ab85-44d1-b366-cebd32cdb2ce')\"\n",
              "              title=\"Convert this dataframe to an interactive table.\"\n",
              "              style=\"display:none;\">\n",
              "        \n",
              "  <svg xmlns=\"http://www.w3.org/2000/svg\" height=\"24px\"viewBox=\"0 0 24 24\"\n",
              "       width=\"24px\">\n",
              "    <path d=\"M0 0h24v24H0V0z\" fill=\"none\"/>\n",
              "    <path d=\"M18.56 5.44l.94 2.06.94-2.06 2.06-.94-2.06-.94-.94-2.06-.94 2.06-2.06.94zm-11 1L8.5 8.5l.94-2.06 2.06-.94-2.06-.94L8.5 2.5l-.94 2.06-2.06.94zm10 10l.94 2.06.94-2.06 2.06-.94-2.06-.94-.94-2.06-.94 2.06-2.06.94z\"/><path d=\"M17.41 7.96l-1.37-1.37c-.4-.4-.92-.59-1.43-.59-.52 0-1.04.2-1.43.59L10.3 9.45l-7.72 7.72c-.78.78-.78 2.05 0 2.83L4 21.41c.39.39.9.59 1.41.59.51 0 1.02-.2 1.41-.59l7.78-7.78 2.81-2.81c.8-.78.8-2.07 0-2.86zM5.41 20L4 18.59l7.72-7.72 1.47 1.35L5.41 20z\"/>\n",
              "  </svg>\n",
              "      </button>\n",
              "      \n",
              "  <style>\n",
              "    .colab-df-container {\n",
              "      display:flex;\n",
              "      flex-wrap:wrap;\n",
              "      gap: 12px;\n",
              "    }\n",
              "\n",
              "    .colab-df-convert {\n",
              "      background-color: #E8F0FE;\n",
              "      border: none;\n",
              "      border-radius: 50%;\n",
              "      cursor: pointer;\n",
              "      display: none;\n",
              "      fill: #1967D2;\n",
              "      height: 32px;\n",
              "      padding: 0 0 0 0;\n",
              "      width: 32px;\n",
              "    }\n",
              "\n",
              "    .colab-df-convert:hover {\n",
              "      background-color: #E2EBFA;\n",
              "      box-shadow: 0px 1px 2px rgba(60, 64, 67, 0.3), 0px 1px 3px 1px rgba(60, 64, 67, 0.15);\n",
              "      fill: #174EA6;\n",
              "    }\n",
              "\n",
              "    [theme=dark] .colab-df-convert {\n",
              "      background-color: #3B4455;\n",
              "      fill: #D2E3FC;\n",
              "    }\n",
              "\n",
              "    [theme=dark] .colab-df-convert:hover {\n",
              "      background-color: #434B5C;\n",
              "      box-shadow: 0px 1px 3px 1px rgba(0, 0, 0, 0.15);\n",
              "      filter: drop-shadow(0px 1px 2px rgba(0, 0, 0, 0.3));\n",
              "      fill: #FFFFFF;\n",
              "    }\n",
              "  </style>\n",
              "\n",
              "      <script>\n",
              "        const buttonEl =\n",
              "          document.querySelector('#df-66771297-ab85-44d1-b366-cebd32cdb2ce button.colab-df-convert');\n",
              "        buttonEl.style.display =\n",
              "          google.colab.kernel.accessAllowed ? 'block' : 'none';\n",
              "\n",
              "        async function convertToInteractive(key) {\n",
              "          const element = document.querySelector('#df-66771297-ab85-44d1-b366-cebd32cdb2ce');\n",
              "          const dataTable =\n",
              "            await google.colab.kernel.invokeFunction('convertToInteractive',\n",
              "                                                     [key], {});\n",
              "          if (!dataTable) return;\n",
              "\n",
              "          const docLinkHtml = 'Like what you see? Visit the ' +\n",
              "            '<a target=\"_blank\" href=https://colab.research.google.com/notebooks/data_table.ipynb>data table notebook</a>'\n",
              "            + ' to learn more about interactive tables.';\n",
              "          element.innerHTML = '';\n",
              "          dataTable['output_type'] = 'display_data';\n",
              "          await google.colab.output.renderOutput(dataTable, element);\n",
              "          const docLink = document.createElement('div');\n",
              "          docLink.innerHTML = docLinkHtml;\n",
              "          element.appendChild(docLink);\n",
              "        }\n",
              "      </script>\n",
              "    </div>\n",
              "  </div>\n",
              "  "
            ]
          },
          "metadata": {},
          "execution_count": 451
        }
      ],
      "source": [
        "train.head()"
      ]
    },
    {
      "cell_type": "markdown",
      "metadata": {
        "id": "QxH5zbWIedbF"
      },
      "source": [
        "## Merging the test data into Single data frame. \n"
      ]
    },
    {
      "cell_type": "code",
      "execution_count": null,
      "metadata": {
        "id": "c2YMbWHOeagq"
      },
      "outputs": [],
      "source": [
        "\n",
        "\n",
        "test_emp_data = pd.merge(test_attrition, emp_data, how='left', on='EmployeeID')\n"
      ]
    },
    {
      "cell_type": "code",
      "execution_count": null,
      "metadata": {
        "colab": {
          "base_uri": "https://localhost:8080/",
          "height": 206
        },
        "id": "XH0cz9Lqehi2",
        "outputId": "4767c9d9-5e71-4d0e-fc26-adf127d2907a"
      },
      "outputs": [
        {
          "output_type": "execute_result",
          "data": {
            "text/plain": [
              "  EmployeeID  Left_Company                                        Job_History  \\\n",
              "0    emp-106           NaN  Worked at Company - 510 , Company - 658 , Comp...   \n",
              "1    emp-112           NaN  Worked at Company - 42 , Company - 432 , Compa...   \n",
              "2    emp-114           NaN  Worked at Company - 99 , Company - 88 , Compan...   \n",
              "3    emp-118           NaN            Worked at Company - 554 , Company - 304   \n",
              "4     emp-12           NaN            Worked at Company - 548 , Company - 405   \n",
              "\n",
              "  Joining_Date Designation  Sex  \n",
              "0      2012_01      Senior    0  \n",
              "1      2012_02          VP    1  \n",
              "2      2012_02         EVP    1  \n",
              "3      2012_04         EVP    1  \n",
              "4      2006_09          VP    1  "
            ],
            "text/html": [
              "\n",
              "  <div id=\"df-3c62271e-4e5e-4b81-957b-e072e8df33a8\">\n",
              "    <div class=\"colab-df-container\">\n",
              "      <div>\n",
              "<style scoped>\n",
              "    .dataframe tbody tr th:only-of-type {\n",
              "        vertical-align: middle;\n",
              "    }\n",
              "\n",
              "    .dataframe tbody tr th {\n",
              "        vertical-align: top;\n",
              "    }\n",
              "\n",
              "    .dataframe thead th {\n",
              "        text-align: right;\n",
              "    }\n",
              "</style>\n",
              "<table border=\"1\" class=\"dataframe\">\n",
              "  <thead>\n",
              "    <tr style=\"text-align: right;\">\n",
              "      <th></th>\n",
              "      <th>EmployeeID</th>\n",
              "      <th>Left_Company</th>\n",
              "      <th>Job_History</th>\n",
              "      <th>Joining_Date</th>\n",
              "      <th>Designation</th>\n",
              "      <th>Sex</th>\n",
              "    </tr>\n",
              "  </thead>\n",
              "  <tbody>\n",
              "    <tr>\n",
              "      <th>0</th>\n",
              "      <td>emp-106</td>\n",
              "      <td>NaN</td>\n",
              "      <td>Worked at Company - 510 , Company - 658 , Comp...</td>\n",
              "      <td>2012_01</td>\n",
              "      <td>Senior</td>\n",
              "      <td>0</td>\n",
              "    </tr>\n",
              "    <tr>\n",
              "      <th>1</th>\n",
              "      <td>emp-112</td>\n",
              "      <td>NaN</td>\n",
              "      <td>Worked at Company - 42 , Company - 432 , Compa...</td>\n",
              "      <td>2012_02</td>\n",
              "      <td>VP</td>\n",
              "      <td>1</td>\n",
              "    </tr>\n",
              "    <tr>\n",
              "      <th>2</th>\n",
              "      <td>emp-114</td>\n",
              "      <td>NaN</td>\n",
              "      <td>Worked at Company - 99 , Company - 88 , Compan...</td>\n",
              "      <td>2012_02</td>\n",
              "      <td>EVP</td>\n",
              "      <td>1</td>\n",
              "    </tr>\n",
              "    <tr>\n",
              "      <th>3</th>\n",
              "      <td>emp-118</td>\n",
              "      <td>NaN</td>\n",
              "      <td>Worked at Company - 554 , Company - 304</td>\n",
              "      <td>2012_04</td>\n",
              "      <td>EVP</td>\n",
              "      <td>1</td>\n",
              "    </tr>\n",
              "    <tr>\n",
              "      <th>4</th>\n",
              "      <td>emp-12</td>\n",
              "      <td>NaN</td>\n",
              "      <td>Worked at Company - 548 , Company - 405</td>\n",
              "      <td>2006_09</td>\n",
              "      <td>VP</td>\n",
              "      <td>1</td>\n",
              "    </tr>\n",
              "  </tbody>\n",
              "</table>\n",
              "</div>\n",
              "      <button class=\"colab-df-convert\" onclick=\"convertToInteractive('df-3c62271e-4e5e-4b81-957b-e072e8df33a8')\"\n",
              "              title=\"Convert this dataframe to an interactive table.\"\n",
              "              style=\"display:none;\">\n",
              "        \n",
              "  <svg xmlns=\"http://www.w3.org/2000/svg\" height=\"24px\"viewBox=\"0 0 24 24\"\n",
              "       width=\"24px\">\n",
              "    <path d=\"M0 0h24v24H0V0z\" fill=\"none\"/>\n",
              "    <path d=\"M18.56 5.44l.94 2.06.94-2.06 2.06-.94-2.06-.94-.94-2.06-.94 2.06-2.06.94zm-11 1L8.5 8.5l.94-2.06 2.06-.94-2.06-.94L8.5 2.5l-.94 2.06-2.06.94zm10 10l.94 2.06.94-2.06 2.06-.94-2.06-.94-.94-2.06-.94 2.06-2.06.94z\"/><path d=\"M17.41 7.96l-1.37-1.37c-.4-.4-.92-.59-1.43-.59-.52 0-1.04.2-1.43.59L10.3 9.45l-7.72 7.72c-.78.78-.78 2.05 0 2.83L4 21.41c.39.39.9.59 1.41.59.51 0 1.02-.2 1.41-.59l7.78-7.78 2.81-2.81c.8-.78.8-2.07 0-2.86zM5.41 20L4 18.59l7.72-7.72 1.47 1.35L5.41 20z\"/>\n",
              "  </svg>\n",
              "      </button>\n",
              "      \n",
              "  <style>\n",
              "    .colab-df-container {\n",
              "      display:flex;\n",
              "      flex-wrap:wrap;\n",
              "      gap: 12px;\n",
              "    }\n",
              "\n",
              "    .colab-df-convert {\n",
              "      background-color: #E8F0FE;\n",
              "      border: none;\n",
              "      border-radius: 50%;\n",
              "      cursor: pointer;\n",
              "      display: none;\n",
              "      fill: #1967D2;\n",
              "      height: 32px;\n",
              "      padding: 0 0 0 0;\n",
              "      width: 32px;\n",
              "    }\n",
              "\n",
              "    .colab-df-convert:hover {\n",
              "      background-color: #E2EBFA;\n",
              "      box-shadow: 0px 1px 2px rgba(60, 64, 67, 0.3), 0px 1px 3px 1px rgba(60, 64, 67, 0.15);\n",
              "      fill: #174EA6;\n",
              "    }\n",
              "\n",
              "    [theme=dark] .colab-df-convert {\n",
              "      background-color: #3B4455;\n",
              "      fill: #D2E3FC;\n",
              "    }\n",
              "\n",
              "    [theme=dark] .colab-df-convert:hover {\n",
              "      background-color: #434B5C;\n",
              "      box-shadow: 0px 1px 3px 1px rgba(0, 0, 0, 0.15);\n",
              "      filter: drop-shadow(0px 1px 2px rgba(0, 0, 0, 0.3));\n",
              "      fill: #FFFFFF;\n",
              "    }\n",
              "  </style>\n",
              "\n",
              "      <script>\n",
              "        const buttonEl =\n",
              "          document.querySelector('#df-3c62271e-4e5e-4b81-957b-e072e8df33a8 button.colab-df-convert');\n",
              "        buttonEl.style.display =\n",
              "          google.colab.kernel.accessAllowed ? 'block' : 'none';\n",
              "\n",
              "        async function convertToInteractive(key) {\n",
              "          const element = document.querySelector('#df-3c62271e-4e5e-4b81-957b-e072e8df33a8');\n",
              "          const dataTable =\n",
              "            await google.colab.kernel.invokeFunction('convertToInteractive',\n",
              "                                                     [key], {});\n",
              "          if (!dataTable) return;\n",
              "\n",
              "          const docLinkHtml = 'Like what you see? Visit the ' +\n",
              "            '<a target=\"_blank\" href=https://colab.research.google.com/notebooks/data_table.ipynb>data table notebook</a>'\n",
              "            + ' to learn more about interactive tables.';\n",
              "          element.innerHTML = '';\n",
              "          dataTable['output_type'] = 'display_data';\n",
              "          await google.colab.output.renderOutput(dataTable, element);\n",
              "          const docLink = document.createElement('div');\n",
              "          docLink.innerHTML = docLinkHtml;\n",
              "          element.appendChild(docLink);\n",
              "        }\n",
              "      </script>\n",
              "    </div>\n",
              "  </div>\n",
              "  "
            ]
          },
          "metadata": {},
          "execution_count": 453
        }
      ],
      "source": [
        "test_emp_data.head()"
      ]
    },
    {
      "cell_type": "code",
      "execution_count": null,
      "metadata": {
        "id": "YYuVI-nWejmu"
      },
      "outputs": [],
      "source": [
        "test_final = pd.merge(test_emp_data,test_work, how='left', on='EmployeeID')"
      ]
    },
    {
      "cell_type": "code",
      "execution_count": null,
      "metadata": {
        "colab": {
          "base_uri": "https://localhost:8080/",
          "height": 510
        },
        "id": "aKZdH43-el31",
        "outputId": "cc6f0541-32fe-4619-a4f9-50c4fd5f085c"
      },
      "outputs": [
        {
          "output_type": "execute_result",
          "data": {
            "text/plain": [
              "  EmployeeID  Left_Company                                        Job_History  \\\n",
              "0    emp-106           NaN  Worked at Company - 510 , Company - 658 , Comp...   \n",
              "1    emp-106           NaN  Worked at Company - 510 , Company - 658 , Comp...   \n",
              "2    emp-106           NaN  Worked at Company - 510 , Company - 658 , Comp...   \n",
              "3    emp-106           NaN  Worked at Company - 510 , Company - 658 , Comp...   \n",
              "4    emp-106           NaN  Worked at Company - 510 , Company - 658 , Comp...   \n",
              "\n",
              "  Joining_Date Designation  Sex  TotalWorkingHours  Billable_Hours  \\\n",
              "0      2012_01      Senior    0               96.0            16.0   \n",
              "1      2012_01      Senior    0               80.0             0.0   \n",
              "2      2012_01      Senior    0              200.0            16.0   \n",
              "3      2012_01      Senior    0              165.0           114.0   \n",
              "4      2012_01      Senior    0              251.0           219.0   \n",
              "\n",
              "   Hours_off_Duty  Touring_Hours  NoOfProjects  ActualTimeSpent  \n",
              "0            40.0            2.0             2               42  \n",
              "1             8.0            0.0             0                0  \n",
              "2             0.0            0.0             1                0  \n",
              "3            40.0            0.0             1               28  \n",
              "4             8.0            0.0             1               63  "
            ],
            "text/html": [
              "\n",
              "  <div id=\"df-be89a665-afc2-4e72-a670-0be5b49b2a46\">\n",
              "    <div class=\"colab-df-container\">\n",
              "      <div>\n",
              "<style scoped>\n",
              "    .dataframe tbody tr th:only-of-type {\n",
              "        vertical-align: middle;\n",
              "    }\n",
              "\n",
              "    .dataframe tbody tr th {\n",
              "        vertical-align: top;\n",
              "    }\n",
              "\n",
              "    .dataframe thead th {\n",
              "        text-align: right;\n",
              "    }\n",
              "</style>\n",
              "<table border=\"1\" class=\"dataframe\">\n",
              "  <thead>\n",
              "    <tr style=\"text-align: right;\">\n",
              "      <th></th>\n",
              "      <th>EmployeeID</th>\n",
              "      <th>Left_Company</th>\n",
              "      <th>Job_History</th>\n",
              "      <th>Joining_Date</th>\n",
              "      <th>Designation</th>\n",
              "      <th>Sex</th>\n",
              "      <th>TotalWorkingHours</th>\n",
              "      <th>Billable_Hours</th>\n",
              "      <th>Hours_off_Duty</th>\n",
              "      <th>Touring_Hours</th>\n",
              "      <th>NoOfProjects</th>\n",
              "      <th>ActualTimeSpent</th>\n",
              "    </tr>\n",
              "  </thead>\n",
              "  <tbody>\n",
              "    <tr>\n",
              "      <th>0</th>\n",
              "      <td>emp-106</td>\n",
              "      <td>NaN</td>\n",
              "      <td>Worked at Company - 510 , Company - 658 , Comp...</td>\n",
              "      <td>2012_01</td>\n",
              "      <td>Senior</td>\n",
              "      <td>0</td>\n",
              "      <td>96.0</td>\n",
              "      <td>16.0</td>\n",
              "      <td>40.0</td>\n",
              "      <td>2.0</td>\n",
              "      <td>2</td>\n",
              "      <td>42</td>\n",
              "    </tr>\n",
              "    <tr>\n",
              "      <th>1</th>\n",
              "      <td>emp-106</td>\n",
              "      <td>NaN</td>\n",
              "      <td>Worked at Company - 510 , Company - 658 , Comp...</td>\n",
              "      <td>2012_01</td>\n",
              "      <td>Senior</td>\n",
              "      <td>0</td>\n",
              "      <td>80.0</td>\n",
              "      <td>0.0</td>\n",
              "      <td>8.0</td>\n",
              "      <td>0.0</td>\n",
              "      <td>0</td>\n",
              "      <td>0</td>\n",
              "    </tr>\n",
              "    <tr>\n",
              "      <th>2</th>\n",
              "      <td>emp-106</td>\n",
              "      <td>NaN</td>\n",
              "      <td>Worked at Company - 510 , Company - 658 , Comp...</td>\n",
              "      <td>2012_01</td>\n",
              "      <td>Senior</td>\n",
              "      <td>0</td>\n",
              "      <td>200.0</td>\n",
              "      <td>16.0</td>\n",
              "      <td>0.0</td>\n",
              "      <td>0.0</td>\n",
              "      <td>1</td>\n",
              "      <td>0</td>\n",
              "    </tr>\n",
              "    <tr>\n",
              "      <th>3</th>\n",
              "      <td>emp-106</td>\n",
              "      <td>NaN</td>\n",
              "      <td>Worked at Company - 510 , Company - 658 , Comp...</td>\n",
              "      <td>2012_01</td>\n",
              "      <td>Senior</td>\n",
              "      <td>0</td>\n",
              "      <td>165.0</td>\n",
              "      <td>114.0</td>\n",
              "      <td>40.0</td>\n",
              "      <td>0.0</td>\n",
              "      <td>1</td>\n",
              "      <td>28</td>\n",
              "    </tr>\n",
              "    <tr>\n",
              "      <th>4</th>\n",
              "      <td>emp-106</td>\n",
              "      <td>NaN</td>\n",
              "      <td>Worked at Company - 510 , Company - 658 , Comp...</td>\n",
              "      <td>2012_01</td>\n",
              "      <td>Senior</td>\n",
              "      <td>0</td>\n",
              "      <td>251.0</td>\n",
              "      <td>219.0</td>\n",
              "      <td>8.0</td>\n",
              "      <td>0.0</td>\n",
              "      <td>1</td>\n",
              "      <td>63</td>\n",
              "    </tr>\n",
              "  </tbody>\n",
              "</table>\n",
              "</div>\n",
              "      <button class=\"colab-df-convert\" onclick=\"convertToInteractive('df-be89a665-afc2-4e72-a670-0be5b49b2a46')\"\n",
              "              title=\"Convert this dataframe to an interactive table.\"\n",
              "              style=\"display:none;\">\n",
              "        \n",
              "  <svg xmlns=\"http://www.w3.org/2000/svg\" height=\"24px\"viewBox=\"0 0 24 24\"\n",
              "       width=\"24px\">\n",
              "    <path d=\"M0 0h24v24H0V0z\" fill=\"none\"/>\n",
              "    <path d=\"M18.56 5.44l.94 2.06.94-2.06 2.06-.94-2.06-.94-.94-2.06-.94 2.06-2.06.94zm-11 1L8.5 8.5l.94-2.06 2.06-.94-2.06-.94L8.5 2.5l-.94 2.06-2.06.94zm10 10l.94 2.06.94-2.06 2.06-.94-2.06-.94-.94-2.06-.94 2.06-2.06.94z\"/><path d=\"M17.41 7.96l-1.37-1.37c-.4-.4-.92-.59-1.43-.59-.52 0-1.04.2-1.43.59L10.3 9.45l-7.72 7.72c-.78.78-.78 2.05 0 2.83L4 21.41c.39.39.9.59 1.41.59.51 0 1.02-.2 1.41-.59l7.78-7.78 2.81-2.81c.8-.78.8-2.07 0-2.86zM5.41 20L4 18.59l7.72-7.72 1.47 1.35L5.41 20z\"/>\n",
              "  </svg>\n",
              "      </button>\n",
              "      \n",
              "  <style>\n",
              "    .colab-df-container {\n",
              "      display:flex;\n",
              "      flex-wrap:wrap;\n",
              "      gap: 12px;\n",
              "    }\n",
              "\n",
              "    .colab-df-convert {\n",
              "      background-color: #E8F0FE;\n",
              "      border: none;\n",
              "      border-radius: 50%;\n",
              "      cursor: pointer;\n",
              "      display: none;\n",
              "      fill: #1967D2;\n",
              "      height: 32px;\n",
              "      padding: 0 0 0 0;\n",
              "      width: 32px;\n",
              "    }\n",
              "\n",
              "    .colab-df-convert:hover {\n",
              "      background-color: #E2EBFA;\n",
              "      box-shadow: 0px 1px 2px rgba(60, 64, 67, 0.3), 0px 1px 3px 1px rgba(60, 64, 67, 0.15);\n",
              "      fill: #174EA6;\n",
              "    }\n",
              "\n",
              "    [theme=dark] .colab-df-convert {\n",
              "      background-color: #3B4455;\n",
              "      fill: #D2E3FC;\n",
              "    }\n",
              "\n",
              "    [theme=dark] .colab-df-convert:hover {\n",
              "      background-color: #434B5C;\n",
              "      box-shadow: 0px 1px 3px 1px rgba(0, 0, 0, 0.15);\n",
              "      filter: drop-shadow(0px 1px 2px rgba(0, 0, 0, 0.3));\n",
              "      fill: #FFFFFF;\n",
              "    }\n",
              "  </style>\n",
              "\n",
              "      <script>\n",
              "        const buttonEl =\n",
              "          document.querySelector('#df-be89a665-afc2-4e72-a670-0be5b49b2a46 button.colab-df-convert');\n",
              "        buttonEl.style.display =\n",
              "          google.colab.kernel.accessAllowed ? 'block' : 'none';\n",
              "\n",
              "        async function convertToInteractive(key) {\n",
              "          const element = document.querySelector('#df-be89a665-afc2-4e72-a670-0be5b49b2a46');\n",
              "          const dataTable =\n",
              "            await google.colab.kernel.invokeFunction('convertToInteractive',\n",
              "                                                     [key], {});\n",
              "          if (!dataTable) return;\n",
              "\n",
              "          const docLinkHtml = 'Like what you see? Visit the ' +\n",
              "            '<a target=\"_blank\" href=https://colab.research.google.com/notebooks/data_table.ipynb>data table notebook</a>'\n",
              "            + ' to learn more about interactive tables.';\n",
              "          element.innerHTML = '';\n",
              "          dataTable['output_type'] = 'display_data';\n",
              "          await google.colab.output.renderOutput(dataTable, element);\n",
              "          const docLink = document.createElement('div');\n",
              "          docLink.innerHTML = docLinkHtml;\n",
              "          element.appendChild(docLink);\n",
              "        }\n",
              "      </script>\n",
              "    </div>\n",
              "  </div>\n",
              "  "
            ]
          },
          "metadata": {},
          "execution_count": 455
        }
      ],
      "source": [
        "test_final.head()\n"
      ]
    },
    {
      "cell_type": "code",
      "execution_count": null,
      "metadata": {
        "id": "Q0HPTbfjenxz"
      },
      "outputs": [],
      "source": [
        "\n",
        "test = test_final.groupby(by='EmployeeID').agg('max')"
      ]
    },
    {
      "cell_type": "code",
      "execution_count": null,
      "metadata": {
        "colab": {
          "base_uri": "https://localhost:8080/"
        },
        "id": "Rn8da6W-ep75",
        "outputId": "1ab95ce5-e8d9-44f1-8c64-8894fc040788"
      },
      "outputs": [
        {
          "output_type": "execute_result",
          "data": {
            "text/plain": [
              "(51, 11)"
            ]
          },
          "metadata": {},
          "execution_count": 457
        }
      ],
      "source": [
        "test.shape"
      ]
    },
    {
      "cell_type": "code",
      "execution_count": null,
      "metadata": {
        "id": "6PHzUlkeervp"
      },
      "outputs": [],
      "source": [
        "\n",
        "train.to_csv(\"train.csv\", index=True)\n",
        "test.to_csv(\"test.csv\", index=True)"
      ]
    },
    {
      "cell_type": "markdown",
      "metadata": {
        "id": "enEy6Hj-e1Wm"
      },
      "source": [
        "## Feature engineering:"
      ]
    },
    {
      "cell_type": "code",
      "execution_count": null,
      "metadata": {
        "id": "19_Z9XpbeuNn"
      },
      "outputs": [],
      "source": [
        "train_final = pd.read_csv(\"/content/train.csv\")\n",
        "test_final = pd.read_csv(\"/content/test.csv\")"
      ]
    },
    {
      "cell_type": "code",
      "execution_count": null,
      "metadata": {
        "colab": {
          "base_uri": "https://localhost:8080/"
        },
        "id": "km4zvSmHe79N",
        "outputId": "a0b992d2-f2b0-4fa2-a775-782a8e626fee"
      },
      "outputs": [
        {
          "output_type": "stream",
          "name": "stdout",
          "text": [
            "Index(['EmployeeID', 'Left_Company', 'Job_History', 'Joining_Date',\n",
            "       'Designation', 'Sex', 'TotalWorkingHours', 'Billable_Hours',\n",
            "       'Hours_off_Duty', 'Touring_Hours', 'NoOfProjects', 'ActualTimeSpent'],\n",
            "      dtype='object')\n"
          ]
        }
      ],
      "source": [
        "\n",
        "print((train_final.columns))"
      ]
    },
    {
      "cell_type": "code",
      "execution_count": null,
      "metadata": {
        "colab": {
          "base_uri": "https://localhost:8080/"
        },
        "id": "Ny2WbVdRe-G9",
        "outputId": "52c47d00-e002-459a-aee0-84bb390973c4"
      },
      "outputs": [
        {
          "output_type": "stream",
          "name": "stdout",
          "text": [
            "Index(['EmployeeID', 'Left_Company', 'Job_History', 'Joining_Date',\n",
            "       'Designation', 'Sex', 'TotalWorkingHours', 'Billable_Hours',\n",
            "       'Hours_off_Duty', 'Touring_Hours', 'NoOfProjects', 'ActualTimeSpent'],\n",
            "      dtype='object')\n"
          ]
        }
      ],
      "source": [
        "print(test_final.columns)"
      ]
    },
    {
      "cell_type": "code",
      "execution_count": null,
      "metadata": {
        "id": "7lepDjoofABR"
      },
      "outputs": [],
      "source": [
        "#Dropping\n",
        "train_final.drop(columns=['EmployeeID'], axis=1,inplace=True)\n",
        "test_final.drop(columns=['EmployeeID','Left_Company'], axis=1, inplace=True)"
      ]
    },
    {
      "cell_type": "code",
      "execution_count": null,
      "metadata": {
        "colab": {
          "base_uri": "https://localhost:8080/"
        },
        "id": "2o17WRH8fBn1",
        "outputId": "132497bd-474d-4a05-9f9c-c2dfd1ce562f"
      },
      "outputs": [
        {
          "output_type": "stream",
          "name": "stdout",
          "text": [
            "Train data shape : (245, 11) \n",
            "Test data shape: (51, 10) \n"
          ]
        }
      ],
      "source": [
        "print(\"Train data shape : {} \" .format(train_final.shape))\n",
        "print(\"Test data shape: {} \".format(test_final.shape))"
      ]
    },
    {
      "cell_type": "code",
      "execution_count": null,
      "metadata": {
        "colab": {
          "base_uri": "https://localhost:8080/",
          "height": 319
        },
        "id": "vnhPM_MAfDV1",
        "outputId": "f2866b9b-38d4-49a1-827f-880373987a70"
      },
      "outputs": [
        {
          "output_type": "execute_result",
          "data": {
            "text/plain": [
              "   Left_Company                                        Job_History  \\\n",
              "0             0  Worked at Company - 639 , Company - 212 , Comp...   \n",
              "1             1  Worked at Company - 816 , Company - 724 , Comp...   \n",
              "2             0            Worked at Company - 562 , Company - 319   \n",
              "3             0  Worked at Company - 212 , Company - 668 , Comp...   \n",
              "4             0                            Worked at Company - 234   \n",
              "\n",
              "  Joining_Date Designation  Sex  TotalWorkingHours  Billable_Hours  \\\n",
              "0      2011_01          MD    1              205.0           189.0   \n",
              "1      2006_02          VP    0              241.0           233.0   \n",
              "2      2011_12      Senior    1              278.0           264.0   \n",
              "3      2012_01      Senior    1              345.5           233.5   \n",
              "4      2011_12      Senior    1              270.0           249.0   \n",
              "\n",
              "   Hours_off_Duty  Touring_Hours  NoOfProjects  ActualTimeSpent  \n",
              "0            72.0          189.0             3              231  \n",
              "1           120.0          186.0             2              147  \n",
              "2            40.0          264.0             3              308  \n",
              "3            64.0            0.0             2              217  \n",
              "4            88.0          213.0             2              231  "
            ],
            "text/html": [
              "\n",
              "  <div id=\"df-f7651f18-f7f5-41d0-b4bf-729e83903add\">\n",
              "    <div class=\"colab-df-container\">\n",
              "      <div>\n",
              "<style scoped>\n",
              "    .dataframe tbody tr th:only-of-type {\n",
              "        vertical-align: middle;\n",
              "    }\n",
              "\n",
              "    .dataframe tbody tr th {\n",
              "        vertical-align: top;\n",
              "    }\n",
              "\n",
              "    .dataframe thead th {\n",
              "        text-align: right;\n",
              "    }\n",
              "</style>\n",
              "<table border=\"1\" class=\"dataframe\">\n",
              "  <thead>\n",
              "    <tr style=\"text-align: right;\">\n",
              "      <th></th>\n",
              "      <th>Left_Company</th>\n",
              "      <th>Job_History</th>\n",
              "      <th>Joining_Date</th>\n",
              "      <th>Designation</th>\n",
              "      <th>Sex</th>\n",
              "      <th>TotalWorkingHours</th>\n",
              "      <th>Billable_Hours</th>\n",
              "      <th>Hours_off_Duty</th>\n",
              "      <th>Touring_Hours</th>\n",
              "      <th>NoOfProjects</th>\n",
              "      <th>ActualTimeSpent</th>\n",
              "    </tr>\n",
              "  </thead>\n",
              "  <tbody>\n",
              "    <tr>\n",
              "      <th>0</th>\n",
              "      <td>0</td>\n",
              "      <td>Worked at Company - 639 , Company - 212 , Comp...</td>\n",
              "      <td>2011_01</td>\n",
              "      <td>MD</td>\n",
              "      <td>1</td>\n",
              "      <td>205.0</td>\n",
              "      <td>189.0</td>\n",
              "      <td>72.0</td>\n",
              "      <td>189.0</td>\n",
              "      <td>3</td>\n",
              "      <td>231</td>\n",
              "    </tr>\n",
              "    <tr>\n",
              "      <th>1</th>\n",
              "      <td>1</td>\n",
              "      <td>Worked at Company - 816 , Company - 724 , Comp...</td>\n",
              "      <td>2006_02</td>\n",
              "      <td>VP</td>\n",
              "      <td>0</td>\n",
              "      <td>241.0</td>\n",
              "      <td>233.0</td>\n",
              "      <td>120.0</td>\n",
              "      <td>186.0</td>\n",
              "      <td>2</td>\n",
              "      <td>147</td>\n",
              "    </tr>\n",
              "    <tr>\n",
              "      <th>2</th>\n",
              "      <td>0</td>\n",
              "      <td>Worked at Company - 562 , Company - 319</td>\n",
              "      <td>2011_12</td>\n",
              "      <td>Senior</td>\n",
              "      <td>1</td>\n",
              "      <td>278.0</td>\n",
              "      <td>264.0</td>\n",
              "      <td>40.0</td>\n",
              "      <td>264.0</td>\n",
              "      <td>3</td>\n",
              "      <td>308</td>\n",
              "    </tr>\n",
              "    <tr>\n",
              "      <th>3</th>\n",
              "      <td>0</td>\n",
              "      <td>Worked at Company - 212 , Company - 668 , Comp...</td>\n",
              "      <td>2012_01</td>\n",
              "      <td>Senior</td>\n",
              "      <td>1</td>\n",
              "      <td>345.5</td>\n",
              "      <td>233.5</td>\n",
              "      <td>64.0</td>\n",
              "      <td>0.0</td>\n",
              "      <td>2</td>\n",
              "      <td>217</td>\n",
              "    </tr>\n",
              "    <tr>\n",
              "      <th>4</th>\n",
              "      <td>0</td>\n",
              "      <td>Worked at Company - 234</td>\n",
              "      <td>2011_12</td>\n",
              "      <td>Senior</td>\n",
              "      <td>1</td>\n",
              "      <td>270.0</td>\n",
              "      <td>249.0</td>\n",
              "      <td>88.0</td>\n",
              "      <td>213.0</td>\n",
              "      <td>2</td>\n",
              "      <td>231</td>\n",
              "    </tr>\n",
              "  </tbody>\n",
              "</table>\n",
              "</div>\n",
              "      <button class=\"colab-df-convert\" onclick=\"convertToInteractive('df-f7651f18-f7f5-41d0-b4bf-729e83903add')\"\n",
              "              title=\"Convert this dataframe to an interactive table.\"\n",
              "              style=\"display:none;\">\n",
              "        \n",
              "  <svg xmlns=\"http://www.w3.org/2000/svg\" height=\"24px\"viewBox=\"0 0 24 24\"\n",
              "       width=\"24px\">\n",
              "    <path d=\"M0 0h24v24H0V0z\" fill=\"none\"/>\n",
              "    <path d=\"M18.56 5.44l.94 2.06.94-2.06 2.06-.94-2.06-.94-.94-2.06-.94 2.06-2.06.94zm-11 1L8.5 8.5l.94-2.06 2.06-.94-2.06-.94L8.5 2.5l-.94 2.06-2.06.94zm10 10l.94 2.06.94-2.06 2.06-.94-2.06-.94-.94-2.06-.94 2.06-2.06.94z\"/><path d=\"M17.41 7.96l-1.37-1.37c-.4-.4-.92-.59-1.43-.59-.52 0-1.04.2-1.43.59L10.3 9.45l-7.72 7.72c-.78.78-.78 2.05 0 2.83L4 21.41c.39.39.9.59 1.41.59.51 0 1.02-.2 1.41-.59l7.78-7.78 2.81-2.81c.8-.78.8-2.07 0-2.86zM5.41 20L4 18.59l7.72-7.72 1.47 1.35L5.41 20z\"/>\n",
              "  </svg>\n",
              "      </button>\n",
              "      \n",
              "  <style>\n",
              "    .colab-df-container {\n",
              "      display:flex;\n",
              "      flex-wrap:wrap;\n",
              "      gap: 12px;\n",
              "    }\n",
              "\n",
              "    .colab-df-convert {\n",
              "      background-color: #E8F0FE;\n",
              "      border: none;\n",
              "      border-radius: 50%;\n",
              "      cursor: pointer;\n",
              "      display: none;\n",
              "      fill: #1967D2;\n",
              "      height: 32px;\n",
              "      padding: 0 0 0 0;\n",
              "      width: 32px;\n",
              "    }\n",
              "\n",
              "    .colab-df-convert:hover {\n",
              "      background-color: #E2EBFA;\n",
              "      box-shadow: 0px 1px 2px rgba(60, 64, 67, 0.3), 0px 1px 3px 1px rgba(60, 64, 67, 0.15);\n",
              "      fill: #174EA6;\n",
              "    }\n",
              "\n",
              "    [theme=dark] .colab-df-convert {\n",
              "      background-color: #3B4455;\n",
              "      fill: #D2E3FC;\n",
              "    }\n",
              "\n",
              "    [theme=dark] .colab-df-convert:hover {\n",
              "      background-color: #434B5C;\n",
              "      box-shadow: 0px 1px 3px 1px rgba(0, 0, 0, 0.15);\n",
              "      filter: drop-shadow(0px 1px 2px rgba(0, 0, 0, 0.3));\n",
              "      fill: #FFFFFF;\n",
              "    }\n",
              "  </style>\n",
              "\n",
              "      <script>\n",
              "        const buttonEl =\n",
              "          document.querySelector('#df-f7651f18-f7f5-41d0-b4bf-729e83903add button.colab-df-convert');\n",
              "        buttonEl.style.display =\n",
              "          google.colab.kernel.accessAllowed ? 'block' : 'none';\n",
              "\n",
              "        async function convertToInteractive(key) {\n",
              "          const element = document.querySelector('#df-f7651f18-f7f5-41d0-b4bf-729e83903add');\n",
              "          const dataTable =\n",
              "            await google.colab.kernel.invokeFunction('convertToInteractive',\n",
              "                                                     [key], {});\n",
              "          if (!dataTable) return;\n",
              "\n",
              "          const docLinkHtml = 'Like what you see? Visit the ' +\n",
              "            '<a target=\"_blank\" href=https://colab.research.google.com/notebooks/data_table.ipynb>data table notebook</a>'\n",
              "            + ' to learn more about interactive tables.';\n",
              "          element.innerHTML = '';\n",
              "          dataTable['output_type'] = 'display_data';\n",
              "          await google.colab.output.renderOutput(dataTable, element);\n",
              "          const docLink = document.createElement('div');\n",
              "          docLink.innerHTML = docLinkHtml;\n",
              "          element.appendChild(docLink);\n",
              "        }\n",
              "      </script>\n",
              "    </div>\n",
              "  </div>\n",
              "  "
            ]
          },
          "metadata": {},
          "execution_count": 464
        }
      ],
      "source": [
        "train_final.head()"
      ]
    },
    {
      "cell_type": "code",
      "execution_count": null,
      "metadata": {
        "id": "9dTzEPygfFTD"
      },
      "outputs": [],
      "source": [
        "# Splitting the Joini_date column into Joini year & Joiing month.\n",
        "\n",
        "train_final[['joining_year','joining_month']] = train_final['Joining_Date'].str.split(\"_\", expand=True)\n",
        "\n",
        "\n",
        "test_final[['joining_year','joining_month']] = test_final['Joining_Date'].str.split(\"_\", expand=True)"
      ]
    },
    {
      "cell_type": "code",
      "execution_count": null,
      "metadata": {
        "colab": {
          "base_uri": "https://localhost:8080/",
          "height": 634
        },
        "id": "w7kRMyddfHBc",
        "outputId": "791910ae-2b87-4e67-b73f-e4c9e3c4a239"
      },
      "outputs": [
        {
          "output_type": "execute_result",
          "data": {
            "text/plain": [
              "   Left_Company                                        Job_History  \\\n",
              "0             0  Worked at Company - 639 , Company - 212 , Comp...   \n",
              "1             1  Worked at Company - 816 , Company - 724 , Comp...   \n",
              "2             0            Worked at Company - 562 , Company - 319   \n",
              "3             0  Worked at Company - 212 , Company - 668 , Comp...   \n",
              "4             0                            Worked at Company - 234   \n",
              "\n",
              "  Joining_Date Designation  Sex  TotalWorkingHours  Billable_Hours  \\\n",
              "0      2011_01          MD    1              205.0           189.0   \n",
              "1      2006_02          VP    0              241.0           233.0   \n",
              "2      2011_12      Senior    1              278.0           264.0   \n",
              "3      2012_01      Senior    1              345.5           233.5   \n",
              "4      2011_12      Senior    1              270.0           249.0   \n",
              "\n",
              "   Hours_off_Duty  Touring_Hours  NoOfProjects  ActualTimeSpent joining_year  \\\n",
              "0            72.0          189.0             3              231         2011   \n",
              "1           120.0          186.0             2              147         2006   \n",
              "2            40.0          264.0             3              308         2011   \n",
              "3            64.0            0.0             2              217         2012   \n",
              "4            88.0          213.0             2              231         2011   \n",
              "\n",
              "  joining_month  \n",
              "0            01  \n",
              "1            02  \n",
              "2            12  \n",
              "3            01  \n",
              "4            12  "
            ],
            "text/html": [
              "\n",
              "  <div id=\"df-ea5eecc5-bcea-44d5-9b00-92ee02958aba\">\n",
              "    <div class=\"colab-df-container\">\n",
              "      <div>\n",
              "<style scoped>\n",
              "    .dataframe tbody tr th:only-of-type {\n",
              "        vertical-align: middle;\n",
              "    }\n",
              "\n",
              "    .dataframe tbody tr th {\n",
              "        vertical-align: top;\n",
              "    }\n",
              "\n",
              "    .dataframe thead th {\n",
              "        text-align: right;\n",
              "    }\n",
              "</style>\n",
              "<table border=\"1\" class=\"dataframe\">\n",
              "  <thead>\n",
              "    <tr style=\"text-align: right;\">\n",
              "      <th></th>\n",
              "      <th>Left_Company</th>\n",
              "      <th>Job_History</th>\n",
              "      <th>Joining_Date</th>\n",
              "      <th>Designation</th>\n",
              "      <th>Sex</th>\n",
              "      <th>TotalWorkingHours</th>\n",
              "      <th>Billable_Hours</th>\n",
              "      <th>Hours_off_Duty</th>\n",
              "      <th>Touring_Hours</th>\n",
              "      <th>NoOfProjects</th>\n",
              "      <th>ActualTimeSpent</th>\n",
              "      <th>joining_year</th>\n",
              "      <th>joining_month</th>\n",
              "    </tr>\n",
              "  </thead>\n",
              "  <tbody>\n",
              "    <tr>\n",
              "      <th>0</th>\n",
              "      <td>0</td>\n",
              "      <td>Worked at Company - 639 , Company - 212 , Comp...</td>\n",
              "      <td>2011_01</td>\n",
              "      <td>MD</td>\n",
              "      <td>1</td>\n",
              "      <td>205.0</td>\n",
              "      <td>189.0</td>\n",
              "      <td>72.0</td>\n",
              "      <td>189.0</td>\n",
              "      <td>3</td>\n",
              "      <td>231</td>\n",
              "      <td>2011</td>\n",
              "      <td>01</td>\n",
              "    </tr>\n",
              "    <tr>\n",
              "      <th>1</th>\n",
              "      <td>1</td>\n",
              "      <td>Worked at Company - 816 , Company - 724 , Comp...</td>\n",
              "      <td>2006_02</td>\n",
              "      <td>VP</td>\n",
              "      <td>0</td>\n",
              "      <td>241.0</td>\n",
              "      <td>233.0</td>\n",
              "      <td>120.0</td>\n",
              "      <td>186.0</td>\n",
              "      <td>2</td>\n",
              "      <td>147</td>\n",
              "      <td>2006</td>\n",
              "      <td>02</td>\n",
              "    </tr>\n",
              "    <tr>\n",
              "      <th>2</th>\n",
              "      <td>0</td>\n",
              "      <td>Worked at Company - 562 , Company - 319</td>\n",
              "      <td>2011_12</td>\n",
              "      <td>Senior</td>\n",
              "      <td>1</td>\n",
              "      <td>278.0</td>\n",
              "      <td>264.0</td>\n",
              "      <td>40.0</td>\n",
              "      <td>264.0</td>\n",
              "      <td>3</td>\n",
              "      <td>308</td>\n",
              "      <td>2011</td>\n",
              "      <td>12</td>\n",
              "    </tr>\n",
              "    <tr>\n",
              "      <th>3</th>\n",
              "      <td>0</td>\n",
              "      <td>Worked at Company - 212 , Company - 668 , Comp...</td>\n",
              "      <td>2012_01</td>\n",
              "      <td>Senior</td>\n",
              "      <td>1</td>\n",
              "      <td>345.5</td>\n",
              "      <td>233.5</td>\n",
              "      <td>64.0</td>\n",
              "      <td>0.0</td>\n",
              "      <td>2</td>\n",
              "      <td>217</td>\n",
              "      <td>2012</td>\n",
              "      <td>01</td>\n",
              "    </tr>\n",
              "    <tr>\n",
              "      <th>4</th>\n",
              "      <td>0</td>\n",
              "      <td>Worked at Company - 234</td>\n",
              "      <td>2011_12</td>\n",
              "      <td>Senior</td>\n",
              "      <td>1</td>\n",
              "      <td>270.0</td>\n",
              "      <td>249.0</td>\n",
              "      <td>88.0</td>\n",
              "      <td>213.0</td>\n",
              "      <td>2</td>\n",
              "      <td>231</td>\n",
              "      <td>2011</td>\n",
              "      <td>12</td>\n",
              "    </tr>\n",
              "  </tbody>\n",
              "</table>\n",
              "</div>\n",
              "      <button class=\"colab-df-convert\" onclick=\"convertToInteractive('df-ea5eecc5-bcea-44d5-9b00-92ee02958aba')\"\n",
              "              title=\"Convert this dataframe to an interactive table.\"\n",
              "              style=\"display:none;\">\n",
              "        \n",
              "  <svg xmlns=\"http://www.w3.org/2000/svg\" height=\"24px\"viewBox=\"0 0 24 24\"\n",
              "       width=\"24px\">\n",
              "    <path d=\"M0 0h24v24H0V0z\" fill=\"none\"/>\n",
              "    <path d=\"M18.56 5.44l.94 2.06.94-2.06 2.06-.94-2.06-.94-.94-2.06-.94 2.06-2.06.94zm-11 1L8.5 8.5l.94-2.06 2.06-.94-2.06-.94L8.5 2.5l-.94 2.06-2.06.94zm10 10l.94 2.06.94-2.06 2.06-.94-2.06-.94-.94-2.06-.94 2.06-2.06.94z\"/><path d=\"M17.41 7.96l-1.37-1.37c-.4-.4-.92-.59-1.43-.59-.52 0-1.04.2-1.43.59L10.3 9.45l-7.72 7.72c-.78.78-.78 2.05 0 2.83L4 21.41c.39.39.9.59 1.41.59.51 0 1.02-.2 1.41-.59l7.78-7.78 2.81-2.81c.8-.78.8-2.07 0-2.86zM5.41 20L4 18.59l7.72-7.72 1.47 1.35L5.41 20z\"/>\n",
              "  </svg>\n",
              "      </button>\n",
              "      \n",
              "  <style>\n",
              "    .colab-df-container {\n",
              "      display:flex;\n",
              "      flex-wrap:wrap;\n",
              "      gap: 12px;\n",
              "    }\n",
              "\n",
              "    .colab-df-convert {\n",
              "      background-color: #E8F0FE;\n",
              "      border: none;\n",
              "      border-radius: 50%;\n",
              "      cursor: pointer;\n",
              "      display: none;\n",
              "      fill: #1967D2;\n",
              "      height: 32px;\n",
              "      padding: 0 0 0 0;\n",
              "      width: 32px;\n",
              "    }\n",
              "\n",
              "    .colab-df-convert:hover {\n",
              "      background-color: #E2EBFA;\n",
              "      box-shadow: 0px 1px 2px rgba(60, 64, 67, 0.3), 0px 1px 3px 1px rgba(60, 64, 67, 0.15);\n",
              "      fill: #174EA6;\n",
              "    }\n",
              "\n",
              "    [theme=dark] .colab-df-convert {\n",
              "      background-color: #3B4455;\n",
              "      fill: #D2E3FC;\n",
              "    }\n",
              "\n",
              "    [theme=dark] .colab-df-convert:hover {\n",
              "      background-color: #434B5C;\n",
              "      box-shadow: 0px 1px 3px 1px rgba(0, 0, 0, 0.15);\n",
              "      filter: drop-shadow(0px 1px 2px rgba(0, 0, 0, 0.3));\n",
              "      fill: #FFFFFF;\n",
              "    }\n",
              "  </style>\n",
              "\n",
              "      <script>\n",
              "        const buttonEl =\n",
              "          document.querySelector('#df-ea5eecc5-bcea-44d5-9b00-92ee02958aba button.colab-df-convert');\n",
              "        buttonEl.style.display =\n",
              "          google.colab.kernel.accessAllowed ? 'block' : 'none';\n",
              "\n",
              "        async function convertToInteractive(key) {\n",
              "          const element = document.querySelector('#df-ea5eecc5-bcea-44d5-9b00-92ee02958aba');\n",
              "          const dataTable =\n",
              "            await google.colab.kernel.invokeFunction('convertToInteractive',\n",
              "                                                     [key], {});\n",
              "          if (!dataTable) return;\n",
              "\n",
              "          const docLinkHtml = 'Like what you see? Visit the ' +\n",
              "            '<a target=\"_blank\" href=https://colab.research.google.com/notebooks/data_table.ipynb>data table notebook</a>'\n",
              "            + ' to learn more about interactive tables.';\n",
              "          element.innerHTML = '';\n",
              "          dataTable['output_type'] = 'display_data';\n",
              "          await google.colab.output.renderOutput(dataTable, element);\n",
              "          const docLink = document.createElement('div');\n",
              "          docLink.innerHTML = docLinkHtml;\n",
              "          element.appendChild(docLink);\n",
              "        }\n",
              "      </script>\n",
              "    </div>\n",
              "  </div>\n",
              "  "
            ]
          },
          "metadata": {},
          "execution_count": 466
        }
      ],
      "source": [
        "#checking\n",
        "train_final.head()"
      ]
    },
    {
      "cell_type": "code",
      "source": [
        "test_final.skew()"
      ],
      "metadata": {
        "colab": {
          "base_uri": "https://localhost:8080/"
        },
        "id": "blokeRPhlzSd",
        "outputId": "7ddeaec7-68fa-441d-81e3-450966c91d15"
      },
      "execution_count": null,
      "outputs": [
        {
          "output_type": "execute_result",
          "data": {
            "text/plain": [
              "Joining_Date        -1.481037\n",
              "Sex                 -1.944746\n",
              "TotalWorkingHours    0.298138\n",
              "Billable_Hours       0.081219\n",
              "Hours_off_Duty       1.074766\n",
              "Touring_Hours       -0.528524\n",
              "NoOfProjects         2.618282\n",
              "ActualTimeSpent      0.562218\n",
              "joining_year        -1.475272\n",
              "joining_month        0.280887\n",
              "dtype: float64"
            ]
          },
          "metadata": {},
          "execution_count": 467
        }
      ]
    },
    {
      "cell_type": "code",
      "source": [],
      "metadata": {
        "id": "tBR4AFCJJj82"
      },
      "execution_count": null,
      "outputs": []
    },
    {
      "cell_type": "code",
      "source": [],
      "metadata": {
        "id": "ufz7QrraJsGv"
      },
      "execution_count": null,
      "outputs": []
    },
    {
      "cell_type": "code",
      "execution_count": null,
      "metadata": {
        "id": "IB1owucdfIzU"
      },
      "outputs": [],
      "source": [
        "train_final['job_count'] = train_final['Job_History'].str.split(',').str.len()\n",
        "\n",
        "test_final['job_count'] = test_final['Job_History'].str.split(',').str.len()"
      ]
    },
    {
      "cell_type": "code",
      "execution_count": null,
      "metadata": {
        "id": "TLqrbWZhfKhN"
      },
      "outputs": [],
      "source": [
        "#drop\n",
        "\n",
        "train_final.drop(columns=['Joining_Date'], axis=1, inplace=True)\n",
        "\n",
        "\n",
        "test_final.drop(columns=['Joining_Date'], axis=1, inplace=True)"
      ]
    },
    {
      "cell_type": "code",
      "execution_count": null,
      "metadata": {
        "colab": {
          "base_uri": "https://localhost:8080/",
          "height": 634
        },
        "id": "fb0X3r5kfMPl",
        "outputId": "e613cb45-c778-4769-b3be-460dbb5be8d1"
      },
      "outputs": [
        {
          "output_type": "execute_result",
          "data": {
            "text/plain": [
              "   Left_Company                                        Job_History  \\\n",
              "0             0  Worked at Company - 639 , Company - 212 , Comp...   \n",
              "1             1  Worked at Company - 816 , Company - 724 , Comp...   \n",
              "2             0            Worked at Company - 562 , Company - 319   \n",
              "3             0  Worked at Company - 212 , Company - 668 , Comp...   \n",
              "4             0                            Worked at Company - 234   \n",
              "\n",
              "  Designation  Sex  TotalWorkingHours  Billable_Hours  Hours_off_Duty  \\\n",
              "0          MD    1              205.0           189.0            72.0   \n",
              "1          VP    0              241.0           233.0           120.0   \n",
              "2      Senior    1              278.0           264.0            40.0   \n",
              "3      Senior    1              345.5           233.5            64.0   \n",
              "4      Senior    1              270.0           249.0            88.0   \n",
              "\n",
              "   Touring_Hours  NoOfProjects  ActualTimeSpent joining_year joining_month  \\\n",
              "0          189.0             3              231         2011            01   \n",
              "1          186.0             2              147         2006            02   \n",
              "2          264.0             3              308         2011            12   \n",
              "3            0.0             2              217         2012            01   \n",
              "4          213.0             2              231         2011            12   \n",
              "\n",
              "   job_count  \n",
              "0          3  \n",
              "1          4  \n",
              "2          2  \n",
              "3          3  \n",
              "4          1  "
            ],
            "text/html": [
              "\n",
              "  <div id=\"df-12a57f97-582a-4e1f-bedc-e5a4cbd9a9c7\">\n",
              "    <div class=\"colab-df-container\">\n",
              "      <div>\n",
              "<style scoped>\n",
              "    .dataframe tbody tr th:only-of-type {\n",
              "        vertical-align: middle;\n",
              "    }\n",
              "\n",
              "    .dataframe tbody tr th {\n",
              "        vertical-align: top;\n",
              "    }\n",
              "\n",
              "    .dataframe thead th {\n",
              "        text-align: right;\n",
              "    }\n",
              "</style>\n",
              "<table border=\"1\" class=\"dataframe\">\n",
              "  <thead>\n",
              "    <tr style=\"text-align: right;\">\n",
              "      <th></th>\n",
              "      <th>Left_Company</th>\n",
              "      <th>Job_History</th>\n",
              "      <th>Designation</th>\n",
              "      <th>Sex</th>\n",
              "      <th>TotalWorkingHours</th>\n",
              "      <th>Billable_Hours</th>\n",
              "      <th>Hours_off_Duty</th>\n",
              "      <th>Touring_Hours</th>\n",
              "      <th>NoOfProjects</th>\n",
              "      <th>ActualTimeSpent</th>\n",
              "      <th>joining_year</th>\n",
              "      <th>joining_month</th>\n",
              "      <th>job_count</th>\n",
              "    </tr>\n",
              "  </thead>\n",
              "  <tbody>\n",
              "    <tr>\n",
              "      <th>0</th>\n",
              "      <td>0</td>\n",
              "      <td>Worked at Company - 639 , Company - 212 , Comp...</td>\n",
              "      <td>MD</td>\n",
              "      <td>1</td>\n",
              "      <td>205.0</td>\n",
              "      <td>189.0</td>\n",
              "      <td>72.0</td>\n",
              "      <td>189.0</td>\n",
              "      <td>3</td>\n",
              "      <td>231</td>\n",
              "      <td>2011</td>\n",
              "      <td>01</td>\n",
              "      <td>3</td>\n",
              "    </tr>\n",
              "    <tr>\n",
              "      <th>1</th>\n",
              "      <td>1</td>\n",
              "      <td>Worked at Company - 816 , Company - 724 , Comp...</td>\n",
              "      <td>VP</td>\n",
              "      <td>0</td>\n",
              "      <td>241.0</td>\n",
              "      <td>233.0</td>\n",
              "      <td>120.0</td>\n",
              "      <td>186.0</td>\n",
              "      <td>2</td>\n",
              "      <td>147</td>\n",
              "      <td>2006</td>\n",
              "      <td>02</td>\n",
              "      <td>4</td>\n",
              "    </tr>\n",
              "    <tr>\n",
              "      <th>2</th>\n",
              "      <td>0</td>\n",
              "      <td>Worked at Company - 562 , Company - 319</td>\n",
              "      <td>Senior</td>\n",
              "      <td>1</td>\n",
              "      <td>278.0</td>\n",
              "      <td>264.0</td>\n",
              "      <td>40.0</td>\n",
              "      <td>264.0</td>\n",
              "      <td>3</td>\n",
              "      <td>308</td>\n",
              "      <td>2011</td>\n",
              "      <td>12</td>\n",
              "      <td>2</td>\n",
              "    </tr>\n",
              "    <tr>\n",
              "      <th>3</th>\n",
              "      <td>0</td>\n",
              "      <td>Worked at Company - 212 , Company - 668 , Comp...</td>\n",
              "      <td>Senior</td>\n",
              "      <td>1</td>\n",
              "      <td>345.5</td>\n",
              "      <td>233.5</td>\n",
              "      <td>64.0</td>\n",
              "      <td>0.0</td>\n",
              "      <td>2</td>\n",
              "      <td>217</td>\n",
              "      <td>2012</td>\n",
              "      <td>01</td>\n",
              "      <td>3</td>\n",
              "    </tr>\n",
              "    <tr>\n",
              "      <th>4</th>\n",
              "      <td>0</td>\n",
              "      <td>Worked at Company - 234</td>\n",
              "      <td>Senior</td>\n",
              "      <td>1</td>\n",
              "      <td>270.0</td>\n",
              "      <td>249.0</td>\n",
              "      <td>88.0</td>\n",
              "      <td>213.0</td>\n",
              "      <td>2</td>\n",
              "      <td>231</td>\n",
              "      <td>2011</td>\n",
              "      <td>12</td>\n",
              "      <td>1</td>\n",
              "    </tr>\n",
              "  </tbody>\n",
              "</table>\n",
              "</div>\n",
              "      <button class=\"colab-df-convert\" onclick=\"convertToInteractive('df-12a57f97-582a-4e1f-bedc-e5a4cbd9a9c7')\"\n",
              "              title=\"Convert this dataframe to an interactive table.\"\n",
              "              style=\"display:none;\">\n",
              "        \n",
              "  <svg xmlns=\"http://www.w3.org/2000/svg\" height=\"24px\"viewBox=\"0 0 24 24\"\n",
              "       width=\"24px\">\n",
              "    <path d=\"M0 0h24v24H0V0z\" fill=\"none\"/>\n",
              "    <path d=\"M18.56 5.44l.94 2.06.94-2.06 2.06-.94-2.06-.94-.94-2.06-.94 2.06-2.06.94zm-11 1L8.5 8.5l.94-2.06 2.06-.94-2.06-.94L8.5 2.5l-.94 2.06-2.06.94zm10 10l.94 2.06.94-2.06 2.06-.94-2.06-.94-.94-2.06-.94 2.06-2.06.94z\"/><path d=\"M17.41 7.96l-1.37-1.37c-.4-.4-.92-.59-1.43-.59-.52 0-1.04.2-1.43.59L10.3 9.45l-7.72 7.72c-.78.78-.78 2.05 0 2.83L4 21.41c.39.39.9.59 1.41.59.51 0 1.02-.2 1.41-.59l7.78-7.78 2.81-2.81c.8-.78.8-2.07 0-2.86zM5.41 20L4 18.59l7.72-7.72 1.47 1.35L5.41 20z\"/>\n",
              "  </svg>\n",
              "      </button>\n",
              "      \n",
              "  <style>\n",
              "    .colab-df-container {\n",
              "      display:flex;\n",
              "      flex-wrap:wrap;\n",
              "      gap: 12px;\n",
              "    }\n",
              "\n",
              "    .colab-df-convert {\n",
              "      background-color: #E8F0FE;\n",
              "      border: none;\n",
              "      border-radius: 50%;\n",
              "      cursor: pointer;\n",
              "      display: none;\n",
              "      fill: #1967D2;\n",
              "      height: 32px;\n",
              "      padding: 0 0 0 0;\n",
              "      width: 32px;\n",
              "    }\n",
              "\n",
              "    .colab-df-convert:hover {\n",
              "      background-color: #E2EBFA;\n",
              "      box-shadow: 0px 1px 2px rgba(60, 64, 67, 0.3), 0px 1px 3px 1px rgba(60, 64, 67, 0.15);\n",
              "      fill: #174EA6;\n",
              "    }\n",
              "\n",
              "    [theme=dark] .colab-df-convert {\n",
              "      background-color: #3B4455;\n",
              "      fill: #D2E3FC;\n",
              "    }\n",
              "\n",
              "    [theme=dark] .colab-df-convert:hover {\n",
              "      background-color: #434B5C;\n",
              "      box-shadow: 0px 1px 3px 1px rgba(0, 0, 0, 0.15);\n",
              "      filter: drop-shadow(0px 1px 2px rgba(0, 0, 0, 0.3));\n",
              "      fill: #FFFFFF;\n",
              "    }\n",
              "  </style>\n",
              "\n",
              "      <script>\n",
              "        const buttonEl =\n",
              "          document.querySelector('#df-12a57f97-582a-4e1f-bedc-e5a4cbd9a9c7 button.colab-df-convert');\n",
              "        buttonEl.style.display =\n",
              "          google.colab.kernel.accessAllowed ? 'block' : 'none';\n",
              "\n",
              "        async function convertToInteractive(key) {\n",
              "          const element = document.querySelector('#df-12a57f97-582a-4e1f-bedc-e5a4cbd9a9c7');\n",
              "          const dataTable =\n",
              "            await google.colab.kernel.invokeFunction('convertToInteractive',\n",
              "                                                     [key], {});\n",
              "          if (!dataTable) return;\n",
              "\n",
              "          const docLinkHtml = 'Like what you see? Visit the ' +\n",
              "            '<a target=\"_blank\" href=https://colab.research.google.com/notebooks/data_table.ipynb>data table notebook</a>'\n",
              "            + ' to learn more about interactive tables.';\n",
              "          element.innerHTML = '';\n",
              "          dataTable['output_type'] = 'display_data';\n",
              "          await google.colab.output.renderOutput(dataTable, element);\n",
              "          const docLink = document.createElement('div');\n",
              "          docLink.innerHTML = docLinkHtml;\n",
              "          element.appendChild(docLink);\n",
              "        }\n",
              "      </script>\n",
              "    </div>\n",
              "  </div>\n",
              "  "
            ]
          },
          "metadata": {},
          "execution_count": 470
        }
      ],
      "source": [
        "train_final.head()"
      ]
    },
    {
      "cell_type": "code",
      "execution_count": null,
      "metadata": {
        "colab": {
          "base_uri": "https://localhost:8080/"
        },
        "id": "hRRebtHafNw5",
        "outputId": "a62ba379-955f-4e28-88b0-c2678a4f4fc6"
      },
      "outputs": [
        {
          "output_type": "execute_result",
          "data": {
            "text/plain": [
              "Left_Company           int64\n",
              "Job_History           object\n",
              "Designation           object\n",
              "Sex                    int64\n",
              "TotalWorkingHours    float64\n",
              "Billable_Hours       float64\n",
              "Hours_off_Duty       float64\n",
              "Touring_Hours        float64\n",
              "NoOfProjects           int64\n",
              "ActualTimeSpent        int64\n",
              "joining_year          object\n",
              "joining_month         object\n",
              "job_count              int64\n",
              "dtype: object"
            ]
          },
          "metadata": {},
          "execution_count": 471
        }
      ],
      "source": [
        "train_final.dtypes #check\n"
      ]
    },
    {
      "cell_type": "code",
      "execution_count": null,
      "metadata": {
        "colab": {
          "base_uri": "https://localhost:8080/"
        },
        "id": "yqi9PPswfPiT",
        "outputId": "10b75c8c-0e38-435d-f0bd-495c5c63b195"
      },
      "outputs": [
        {
          "output_type": "execute_result",
          "data": {
            "text/plain": [
              "Job_History           object\n",
              "Designation           object\n",
              "Sex                    int64\n",
              "TotalWorkingHours    float64\n",
              "Billable_Hours       float64\n",
              "Hours_off_Duty       float64\n",
              "Touring_Hours        float64\n",
              "NoOfProjects           int64\n",
              "ActualTimeSpent        int64\n",
              "joining_year          object\n",
              "joining_month         object\n",
              "job_count              int64\n",
              "dtype: object"
            ]
          },
          "metadata": {},
          "execution_count": 472
        }
      ],
      "source": [
        "test_final.dtypes #check "
      ]
    },
    {
      "cell_type": "code",
      "execution_count": null,
      "metadata": {
        "id": "-oeOR8BbfRVI"
      },
      "outputs": [],
      "source": [
        "\n",
        "train_copy = train_final.copy()\n",
        "test_copy = test_final.copy()"
      ]
    },
    {
      "cell_type": "code",
      "execution_count": null,
      "metadata": {
        "id": "J4-WXhmWfS5X"
      },
      "outputs": [],
      "source": [
        "\n",
        "\n",
        "for col in ['TotalWorkingHours','Billable_Hours','Hours_off_Duty','Touring_Hours']:\n",
        "  train_final[col] = train_final[col].astype('float')"
      ]
    },
    {
      "cell_type": "code",
      "execution_count": null,
      "metadata": {
        "id": "cn9NBEPyfUgz"
      },
      "outputs": [],
      "source": [
        "\n",
        "for col in ['TotalWorkingHours','Billable_Hours','Hours_off_Duty','Touring_Hours']:\n",
        "  test_final[col] = test_final[col].astype('float')"
      ]
    },
    {
      "cell_type": "code",
      "execution_count": null,
      "metadata": {
        "id": "pmJRhMx3fWds"
      },
      "outputs": [],
      "source": []
    },
    {
      "cell_type": "markdown",
      "metadata": {
        "id": "nl9dybS1fYua"
      },
      "source": [
        "### Converting objects to categories "
      ]
    },
    {
      "cell_type": "code",
      "execution_count": null,
      "metadata": {
        "id": "OnDjIj5PfZHe"
      },
      "outputs": [],
      "source": [
        "\n",
        "\n",
        "for col in ['Sex','Designation','NoOfProjects','joining_year','joining_month','Job_History']:\n",
        "  train_final[col] = train_final[col].astype('category')\n",
        "#on testing data \n",
        "\n",
        "for col in ['Sex','Designation','NoOfProjects','joining_year','joining_month','Job_History']:\n",
        "  test_final[col] = test_final[col].astype('category')\n",
        "\n",
        "train_final['Left_Company'] = train_final['Left_Company'].astype('category')"
      ]
    },
    {
      "cell_type": "code",
      "execution_count": null,
      "metadata": {
        "id": "yjdeNxQhfbdw"
      },
      "outputs": [],
      "source": [
        "\n",
        "\n",
        "cat_attr = list(train_final.select_dtypes(\"category\").columns) #exclude target column inthe list\n",
        "num_attr = list(test_final.columns.difference(cat_attr))\n",
        "\n",
        "# cat_attr.pop()"
      ]
    },
    {
      "cell_type": "code",
      "execution_count": null,
      "metadata": {
        "id": "YWWhzZ86fdOG"
      },
      "outputs": [],
      "source": [
        "cat_attr.remove('Left_Company')"
      ]
    },
    {
      "cell_type": "code",
      "execution_count": null,
      "metadata": {
        "colab": {
          "base_uri": "https://localhost:8080/"
        },
        "id": "C9fcBiqkfe_H",
        "outputId": "2fed11d0-e007-4273-dfd4-057056e07fc0"
      },
      "outputs": [
        {
          "output_type": "execute_result",
          "data": {
            "text/plain": [
              "['Job_History',\n",
              " 'Designation',\n",
              " 'Sex',\n",
              " 'NoOfProjects',\n",
              " 'joining_year',\n",
              " 'joining_month']"
            ]
          },
          "metadata": {},
          "execution_count": 479
        }
      ],
      "source": [
        "cat_attr"
      ]
    },
    {
      "cell_type": "code",
      "execution_count": null,
      "metadata": {
        "colab": {
          "base_uri": "https://localhost:8080/"
        },
        "id": "dWCre3KIfg9P",
        "outputId": "f7ee556b-4982-4497-804b-bb92572c86b7"
      },
      "outputs": [
        {
          "output_type": "execute_result",
          "data": {
            "text/plain": [
              "['ActualTimeSpent',\n",
              " 'Billable_Hours',\n",
              " 'Hours_off_Duty',\n",
              " 'TotalWorkingHours',\n",
              " 'Touring_Hours',\n",
              " 'job_count']"
            ]
          },
          "metadata": {},
          "execution_count": 480
        }
      ],
      "source": [
        "num_attr"
      ]
    },
    {
      "cell_type": "code",
      "execution_count": null,
      "metadata": {
        "colab": {
          "base_uri": "https://localhost:8080/"
        },
        "id": "YoF6sDyVfimn",
        "outputId": "610e1d7d-63f6-4262-f015-bf0cbfb2ad9e"
      },
      "outputs": [
        {
          "output_type": "stream",
          "name": "stdout",
          "text": [
            "Looking in indexes: https://pypi.org/simple, https://us-python.pkg.dev/colab-wheels/public/simple/\n",
            "Requirement already satisfied: scikit-learn-intelex in /usr/local/lib/python3.10/dist-packages (2023.1.1)\n",
            "Requirement already satisfied: daal4py==2023.1.1 in /usr/local/lib/python3.10/dist-packages (from scikit-learn-intelex) (2023.1.1)\n",
            "Requirement already satisfied: scikit-learn>=0.22 in /usr/local/lib/python3.10/dist-packages (from scikit-learn-intelex) (1.2.2)\n",
            "Requirement already satisfied: daal==2023.1.1 in /usr/local/lib/python3.10/dist-packages (from daal4py==2023.1.1->scikit-learn-intelex) (2023.1.1)\n",
            "Requirement already satisfied: numpy>=1.19 in /usr/local/lib/python3.10/dist-packages (from daal4py==2023.1.1->scikit-learn-intelex) (1.22.4)\n",
            "Requirement already satisfied: tbb==2021.* in /usr/local/lib/python3.10/dist-packages (from daal==2023.1.1->daal4py==2023.1.1->scikit-learn-intelex) (2021.9.0)\n",
            "Requirement already satisfied: scipy>=1.3.2 in /usr/local/lib/python3.10/dist-packages (from scikit-learn>=0.22->scikit-learn-intelex) (1.10.1)\n",
            "Requirement already satisfied: joblib>=1.1.1 in /usr/local/lib/python3.10/dist-packages (from scikit-learn>=0.22->scikit-learn-intelex) (1.2.0)\n",
            "Requirement already satisfied: threadpoolctl>=2.0.0 in /usr/local/lib/python3.10/dist-packages (from scikit-learn>=0.22->scikit-learn-intelex) (3.1.0)\n"
          ]
        }
      ],
      "source": [
        " ! pip install  scikit-learn-intelex"
      ]
    },
    {
      "cell_type": "markdown",
      "metadata": {
        "id": "hETtU7Qbfly2"
      },
      "source": [
        "### Columns with missing values"
      ]
    },
    {
      "cell_type": "code",
      "execution_count": null,
      "metadata": {
        "colab": {
          "base_uri": "https://localhost:8080/"
        },
        "id": "VhLdszJEfmLC",
        "outputId": "0ad8aed3-c10e-421e-bd29-3a64a48e3eab"
      },
      "outputs": [
        {
          "output_type": "stream",
          "name": "stdout",
          "text": [
            "Index([], dtype='object')\n",
            "Index([], dtype='object')\n"
          ]
        }
      ],
      "source": [
        "\n",
        "missing_cols_train = train_final.columns[train_final.isnull().any()]\n",
        "print(missing_cols_train)\n",
        "\n",
        "missing_cols_test = test_final.columns[test_final.isnull().any()]\n",
        "print(missing_cols_test)"
      ]
    },
    {
      "cell_type": "code",
      "execution_count": null,
      "metadata": {
        "colab": {
          "base_uri": "https://localhost:8080/"
        },
        "id": "McZVx_G2KIq0",
        "outputId": "de2f7ff1-a317-43fb-e1e9-233d142c28ae"
      },
      "outputs": [
        {
          "output_type": "stream",
          "name": "stdout",
          "text": [
            "Looking in indexes: https://pypi.org/simple, https://us-python.pkg.dev/colab-wheels/public/simple/\n",
            "Requirement already satisfied: optuna in /usr/local/lib/python3.10/dist-packages (3.1.1)\n",
            "Requirement already satisfied: alembic>=1.5.0 in /usr/local/lib/python3.10/dist-packages (from optuna) (1.11.1)\n",
            "Requirement already satisfied: cmaes>=0.9.1 in /usr/local/lib/python3.10/dist-packages (from optuna) (0.9.1)\n",
            "Requirement already satisfied: colorlog in /usr/local/lib/python3.10/dist-packages (from optuna) (6.7.0)\n",
            "Requirement already satisfied: numpy in /usr/local/lib/python3.10/dist-packages (from optuna) (1.22.4)\n",
            "Requirement already satisfied: packaging>=20.0 in /usr/local/lib/python3.10/dist-packages (from optuna) (23.1)\n",
            "Requirement already satisfied: sqlalchemy>=1.3.0 in /usr/local/lib/python3.10/dist-packages (from optuna) (2.0.10)\n",
            "Requirement already satisfied: tqdm in /usr/local/lib/python3.10/dist-packages (from optuna) (4.65.0)\n",
            "Requirement already satisfied: PyYAML in /usr/local/lib/python3.10/dist-packages (from optuna) (6.0)\n",
            "Requirement already satisfied: Mako in /usr/local/lib/python3.10/dist-packages (from alembic>=1.5.0->optuna) (1.2.4)\n",
            "Requirement already satisfied: typing-extensions>=4 in /usr/local/lib/python3.10/dist-packages (from alembic>=1.5.0->optuna) (4.5.0)\n",
            "Requirement already satisfied: greenlet!=0.4.17 in /usr/local/lib/python3.10/dist-packages (from sqlalchemy>=1.3.0->optuna) (2.0.2)\n",
            "Requirement already satisfied: MarkupSafe>=0.9.2 in /usr/local/lib/python3.10/dist-packages (from Mako->alembic>=1.5.0->optuna) (2.1.2)\n"
          ]
        }
      ],
      "source": [
        "pip install optuna"
      ]
    },
    {
      "cell_type": "markdown",
      "metadata": {
        "id": "K6dP9zBxGC4d"
      },
      "source": []
    },
    {
      "cell_type": "code",
      "execution_count": null,
      "metadata": {
        "colab": {
          "base_uri": "https://localhost:8080/"
        },
        "id": "B09L-gC7GDML",
        "outputId": "178b2c80-15da-444b-fe56-f23abd0bd8c4"
      },
      "outputs": [
        {
          "output_type": "stream",
          "name": "stderr",
          "text": [
            "Intel(R) Extension for Scikit-learn* enabled (https://github.com/intel/scikit-learn-intelex)\n",
            "Intel(R) Extension for Scikit-learn* enabled (https://github.com/intel/scikit-learn-intelex)\n",
            "Intel(R) Extension for Scikit-learn* enabled (https://github.com/intel/scikit-learn-intelex)\n"
          ]
        }
      ],
      "source": [
        "from sklearnex import patch_sklearn\n",
        "patch_sklearn()\n",
        "from IPython.display import HTML\n",
        "from timeit import default_timer as timer\n",
        "from sklearnex import patch_sklearn\n",
        "# The names match scikit-learn estimators\n",
        "patch_sklearn(\"SVC\")\n",
        "from sklearnex import patch_sklearn\n",
        "# The names match scikit-learn estimators\n",
        "patch_sklearn([\"SVC\", \"DBSCAN\",\"Kmeans\"])\n",
        "from sklearn.ensemble import StackingRegressor\n",
        "import optuna \n",
        "from sklearn.linear_model import LogisticRegression\n",
        "from sklearn.metrics import roc_curve, auc"
      ]
    },
    {
      "cell_type": "code",
      "execution_count": null,
      "metadata": {
        "id": "wmy49B6pK_lZ"
      },
      "outputs": [],
      "source": [
        "def objective(trial):\n",
        "    params ={\n",
        "        'C': trial.suggest_float('C', 0.000000001, 1.0),\n",
        "        'random_state': 0,\n",
        "        'n_jobs': -1,\n",
        "    }\n",
        "    model = LogisticRegression(**params).fit(x_train, y_train)\n",
        "    y_pred = model.predict_proba(x_val)[:, 1]\n",
        "    fpr, tpr, _ = roc_curve(y_val, y_pred)\n",
        "    score = auc(fpr, tpr)\n",
        "    return score"
      ]
    },
    {
      "cell_type": "code",
      "execution_count": null,
      "metadata": {
        "id": "cU6n6HivLdB_"
      },
      "outputs": [],
      "source": []
    },
    {
      "cell_type": "code",
      "execution_count": null,
      "metadata": {
        "colab": {
          "base_uri": "https://localhost:8080/"
        },
        "id": "00Y2a0wcLOAc",
        "outputId": "9c220daf-59dc-4881-bc39-a86a0c7f8cc9"
      },
      "outputs": [
        {
          "output_type": "stream",
          "name": "stderr",
          "text": [
            "\u001b[32m[I 2023-05-22 18:10:49,500]\u001b[0m A new study created in memory with name: no-name-c64898bc-cded-45b7-b560-2d776a4a95e9\u001b[0m\n"
          ]
        }
      ],
      "source": [
        "study = optuna.create_study(sampler=optuna.samplers.TPESampler(seed=123),\n",
        "                            direction=\"maximize\",\n",
        "                            pruner=optuna.pruners.HyperbandPruner())\n",
        "\n"
      ]
    },
    {
      "cell_type": "markdown",
      "metadata": {
        "id": "MtkdqJXNf1Zo"
      },
      "source": [
        "## Dummification"
      ]
    },
    {
      "cell_type": "code",
      "execution_count": null,
      "metadata": {
        "id": "34xY1Bw-f1zt"
      },
      "outputs": [],
      "source": [
        "y= train_final['Left_Company']\n",
        "\n",
        "del train_final['Left_Company']\n",
        "X = train_final"
      ]
    },
    {
      "cell_type": "code",
      "execution_count": null,
      "metadata": {
        "id": "bn9R79QvfrSK"
      },
      "outputs": [],
      "source": [
        "\n",
        "#One hot encoding  train\n",
        "\n",
        "dummy_train = pd.get_dummies(data= X, columns= cat_attr, drop_first=True)"
      ]
    },
    {
      "cell_type": "code",
      "execution_count": null,
      "metadata": {
        "colab": {
          "base_uri": "https://localhost:8080/"
        },
        "id": "IyhPgMt7f9F_",
        "outputId": "6ec9b1e4-2b1b-441f-e48f-945ed9a8f450"
      },
      "outputs": [
        {
          "output_type": "execute_result",
          "data": {
            "text/plain": [
              "(245, 283)"
            ]
          },
          "metadata": {},
          "execution_count": 489
        }
      ],
      "source": [
        "dummy_train.shape"
      ]
    },
    {
      "cell_type": "code",
      "execution_count": null,
      "metadata": {
        "id": "FYIndvKUf-mo"
      },
      "outputs": [],
      "source": [
        "#One hot encoding in test\n",
        "\n",
        "test_final = pd.get_dummies(data= test_final, columns= cat_attr, drop_first=True)"
      ]
    },
    {
      "cell_type": "code",
      "execution_count": null,
      "metadata": {
        "colab": {
          "base_uri": "https://localhost:8080/"
        },
        "id": "11I3mHh9gOrG",
        "outputId": "d60f080f-be72-4db8-d0d0-c0bd18a0da27"
      },
      "outputs": [
        {
          "output_type": "stream",
          "name": "stdout",
          "text": [
            "(51, 86)\n"
          ]
        }
      ],
      "source": [
        "print(test_final.shape)"
      ]
    },
    {
      "cell_type": "code",
      "execution_count": null,
      "metadata": {
        "id": "sHvajRMQgB68"
      },
      "outputs": [],
      "source": [
        "# Aligninng \n",
        "\n",
        "dummy_train, test_final = dummy_train.align(test_final, join='left', axis=1)"
      ]
    },
    {
      "cell_type": "code",
      "execution_count": null,
      "metadata": {
        "colab": {
          "base_uri": "https://localhost:8080/"
        },
        "id": "rvsGvxrPgSKW",
        "outputId": "b838fdf3-c5f7-484c-d2cc-4a4dd305107a"
      },
      "outputs": [
        {
          "output_type": "stream",
          "name": "stdout",
          "text": [
            "12597\n"
          ]
        }
      ],
      "source": [
        "#checking for missing valurd;\n",
        "print(test_final.isnull().sum().sum())\n",
        "\n",
        "test_final.fillna(value=0, inplace=True)"
      ]
    },
    {
      "cell_type": "code",
      "execution_count": null,
      "metadata": {
        "id": "1u6IUuNzgUEK"
      },
      "outputs": [],
      "source": [
        "\n"
      ]
    },
    {
      "cell_type": "code",
      "execution_count": null,
      "metadata": {
        "id": "YJksYHqLgWK8"
      },
      "outputs": [],
      "source": [
        "#standardize \n",
        "\n",
        "std = StandardScaler() #Instantiating an object. \n",
        "std.fit(dummy_train) #Fittin gon th train data\n",
        "\n",
        "std_x = std.transform(dummy_train) \n",
        "std_test = std.transform(test_final)"
      ]
    },
    {
      "cell_type": "code",
      "execution_count": null,
      "metadata": {
        "colab": {
          "base_uri": "https://localhost:8080/"
        },
        "id": "8uagZzokgYNL",
        "outputId": "57086da3-a9fb-4e61-98f2-b7dfaf30e528"
      },
      "outputs": [
        {
          "output_type": "stream",
          "name": "stdout",
          "text": [
            "(245, 283)\n",
            "(51, 283)\n"
          ]
        }
      ],
      "source": [
        "print(std_x.shape)\n",
        "print(std_test.shape)"
      ]
    },
    {
      "cell_type": "code",
      "execution_count": null,
      "metadata": {
        "id": "AlyDJFMdgZ0R"
      },
      "outputs": [],
      "source": [
        "#### now predicting the model ny logisticc regression , desion treee  on 6 - yet to complete level 1"
      ]
    },
    {
      "cell_type": "code",
      "execution_count": null,
      "metadata": {
        "id": "GC-NThCehuOK"
      },
      "outputs": [],
      "source": []
    },
    {
      "cell_type": "markdown",
      "metadata": {
        "id": "-MV6vX9aZBnj"
      },
      "source": [
        "# Models On complete std data without splitting : \n",
        "\n",
        " "
      ]
    },
    {
      "cell_type": "code",
      "execution_count": null,
      "metadata": {
        "colab": {
          "base_uri": "https://localhost:8080/",
          "height": 74
        },
        "id": "VeFZ3hiyZCtw",
        "outputId": "bf5eef5f-2c50-4893-c30b-ec173deac541"
      },
      "outputs": [
        {
          "output_type": "execute_result",
          "data": {
            "text/plain": [
              "LogisticRegression()"
            ],
            "text/html": [
              "<style>#sk-container-id-4 {color: black;background-color: white;}#sk-container-id-4 pre{padding: 0;}#sk-container-id-4 div.sk-toggleable {background-color: white;}#sk-container-id-4 label.sk-toggleable__label {cursor: pointer;display: block;width: 100%;margin-bottom: 0;padding: 0.3em;box-sizing: border-box;text-align: center;}#sk-container-id-4 label.sk-toggleable__label-arrow:before {content: \"▸\";float: left;margin-right: 0.25em;color: #696969;}#sk-container-id-4 label.sk-toggleable__label-arrow:hover:before {color: black;}#sk-container-id-4 div.sk-estimator:hover label.sk-toggleable__label-arrow:before {color: black;}#sk-container-id-4 div.sk-toggleable__content {max-height: 0;max-width: 0;overflow: hidden;text-align: left;background-color: #f0f8ff;}#sk-container-id-4 div.sk-toggleable__content pre {margin: 0.2em;color: black;border-radius: 0.25em;background-color: #f0f8ff;}#sk-container-id-4 input.sk-toggleable__control:checked~div.sk-toggleable__content {max-height: 200px;max-width: 100%;overflow: auto;}#sk-container-id-4 input.sk-toggleable__control:checked~label.sk-toggleable__label-arrow:before {content: \"▾\";}#sk-container-id-4 div.sk-estimator input.sk-toggleable__control:checked~label.sk-toggleable__label {background-color: #d4ebff;}#sk-container-id-4 div.sk-label input.sk-toggleable__control:checked~label.sk-toggleable__label {background-color: #d4ebff;}#sk-container-id-4 input.sk-hidden--visually {border: 0;clip: rect(1px 1px 1px 1px);clip: rect(1px, 1px, 1px, 1px);height: 1px;margin: -1px;overflow: hidden;padding: 0;position: absolute;width: 1px;}#sk-container-id-4 div.sk-estimator {font-family: monospace;background-color: #f0f8ff;border: 1px dotted black;border-radius: 0.25em;box-sizing: border-box;margin-bottom: 0.5em;}#sk-container-id-4 div.sk-estimator:hover {background-color: #d4ebff;}#sk-container-id-4 div.sk-parallel-item::after {content: \"\";width: 100%;border-bottom: 1px solid gray;flex-grow: 1;}#sk-container-id-4 div.sk-label:hover label.sk-toggleable__label {background-color: #d4ebff;}#sk-container-id-4 div.sk-serial::before {content: \"\";position: absolute;border-left: 1px solid gray;box-sizing: border-box;top: 0;bottom: 0;left: 50%;z-index: 0;}#sk-container-id-4 div.sk-serial {display: flex;flex-direction: column;align-items: center;background-color: white;padding-right: 0.2em;padding-left: 0.2em;position: relative;}#sk-container-id-4 div.sk-item {position: relative;z-index: 1;}#sk-container-id-4 div.sk-parallel {display: flex;align-items: stretch;justify-content: center;background-color: white;position: relative;}#sk-container-id-4 div.sk-item::before, #sk-container-id-4 div.sk-parallel-item::before {content: \"\";position: absolute;border-left: 1px solid gray;box-sizing: border-box;top: 0;bottom: 0;left: 50%;z-index: -1;}#sk-container-id-4 div.sk-parallel-item {display: flex;flex-direction: column;z-index: 1;position: relative;background-color: white;}#sk-container-id-4 div.sk-parallel-item:first-child::after {align-self: flex-end;width: 50%;}#sk-container-id-4 div.sk-parallel-item:last-child::after {align-self: flex-start;width: 50%;}#sk-container-id-4 div.sk-parallel-item:only-child::after {width: 0;}#sk-container-id-4 div.sk-dashed-wrapped {border: 1px dashed gray;margin: 0 0.4em 0.5em 0.4em;box-sizing: border-box;padding-bottom: 0.4em;background-color: white;}#sk-container-id-4 div.sk-label label {font-family: monospace;font-weight: bold;display: inline-block;line-height: 1.2em;}#sk-container-id-4 div.sk-label-container {text-align: center;}#sk-container-id-4 div.sk-container {/* jupyter's `normalize.less` sets `[hidden] { display: none; }` but bootstrap.min.css set `[hidden] { display: none !important; }` so we also need the `!important` here to be able to override the default hidden behavior on the sphinx rendered scikit-learn.org. See: https://github.com/scikit-learn/scikit-learn/issues/21755 */display: inline-block !important;position: relative;}#sk-container-id-4 div.sk-text-repr-fallback {display: none;}</style><div id=\"sk-container-id-4\" class=\"sk-top-container\"><div class=\"sk-text-repr-fallback\"><pre>LogisticRegression()</pre><b>In a Jupyter environment, please rerun this cell to show the HTML representation or trust the notebook. <br />On GitHub, the HTML representation is unable to render, please try loading this page with nbviewer.org.</b></div><div class=\"sk-container\" hidden><div class=\"sk-item\"><div class=\"sk-estimator sk-toggleable\"><input class=\"sk-toggleable__control sk-hidden--visually\" id=\"sk-estimator-id-4\" type=\"checkbox\" checked><label for=\"sk-estimator-id-4\" class=\"sk-toggleable__label sk-toggleable__label-arrow\">LogisticRegression</label><div class=\"sk-toggleable__content\"><pre>LogisticRegression()</pre></div></div></div></div></div>"
            ]
          },
          "metadata": {},
          "execution_count": 497
        }
      ],
      "source": [
        "log_reg = LogisticRegression()\n",
        "\n",
        "log_reg.fit(std_x, y)\n"
      ]
    },
    {
      "cell_type": "code",
      "execution_count": null,
      "metadata": {
        "colab": {
          "base_uri": "https://localhost:8080/"
        },
        "id": "5jATxBhBZRAD",
        "outputId": "001cc1e5-cbeb-4fde-fbf2-b7c0643a36c2"
      },
      "outputs": [
        {
          "output_type": "stream",
          "name": "stdout",
          "text": [
            "1.0\n",
            "1.0\n",
            "1.0\n"
          ]
        }
      ],
      "source": [
        "log_pred = log_reg.predict(std_x)\n",
        "\n",
        "print(f1_score(y, log_pred))\n",
        "print(recall_score(y, log_pred))\n",
        "print(precision_score(y, log_pred))\n"
      ]
    },
    {
      "cell_type": "markdown",
      "source": [],
      "metadata": {
        "id": "-w4qvi_4pUKM"
      }
    },
    {
      "cell_type": "code",
      "execution_count": null,
      "metadata": {
        "id": "Kyqg5kxLZSH5"
      },
      "outputs": [],
      "source": []
    },
    {
      "cell_type": "markdown",
      "metadata": {
        "id": "rJ3cOaQNZUge"
      },
      "source": [
        "##  Model-2  Decision tree :"
      ]
    },
    {
      "cell_type": "code",
      "execution_count": null,
      "metadata": {
        "id": "vyhmWchPZVCJ",
        "colab": {
          "base_uri": "https://localhost:8080/"
        },
        "outputId": "9da76746-33ad-43c5-c705-0c8346841937"
      },
      "outputs": [
        {
          "output_type": "stream",
          "name": "stdout",
          "text": [
            "{'criterion': 'entropy', 'max_depth': 3, 'min_samples_leaf': 1, 'min_samples_split': 2}\n",
            "0.851063829787234\n",
            "recall score 1.0\n",
            "precision score0.7407407407407407\n",
            "CPU times: user 330 ms, sys: 58.8 ms, total: 389 ms\n",
            "Wall time: 2.74 s\n"
          ]
        }
      ],
      "source": [
        "%%time\n",
        "clf_dt =  DecisionTreeClassifier()\n",
        "\n",
        "dt_param_grid = {'criterion': ['entropy', 'gini'], \n",
        "                 'max_depth': [3,4,5],\n",
        "                 \"min_samples_split\": [2,5],\n",
        "                 \"min_samples_leaf\": [1,3,5]}\n",
        "\n",
        "dt_grid = GridSearchCV(clf_dt, param_grid=dt_param_grid, n_jobs=-1, cv=10,return_train_score=True)\n",
        "\n",
        "dt_grid.fit(std_x,y)\n",
        "\n",
        "print(dt_grid.best_params_)\n",
        "\n",
        "dt_pred = dt_grid.predict(std_x)\n",
        "\n",
        "\n",
        "\n",
        "print(f1_score(y, dt_pred))\n",
        "print(\"recall score \"+str(recall_score(dt_pred,y)))\n",
        "print(\"precision score\"+str(precision_score(dt_pred,y)))"
      ]
    },
    {
      "cell_type": "markdown",
      "metadata": {
        "id": "pS7TFA-BZY3m"
      },
      "source": [
        "## Model-3 --Build Gradient Boosting "
      ]
    },
    {
      "cell_type": "code",
      "execution_count": null,
      "metadata": {
        "id": "CXCrZZf8ZZYE",
        "colab": {
          "base_uri": "https://localhost:8080/"
        },
        "outputId": "bd67851b-b881-4539-ba56-6eee16c2b305"
      },
      "outputs": [
        {
          "output_type": "stream",
          "name": "stdout",
          "text": [
            "The Best parameters are: {'learning_rate': 0.1, 'max_depth': 2, 'max_features': 0.3, 'n_estimators': 20, 'subsample': 0.8} .\n",
            "f1 score=0.851063829787234\n",
            "recall score= 1.0\n",
            "precision score=0.7407407407407407\n",
            "CPU times: user 170 ms, sys: 14.2 ms, total: 184 ms\n",
            "Wall time: 1.73 s\n"
          ]
        }
      ],
      "source": [
        "\n",
        "%%time\n",
        "clf_gbc = GradientBoostingClassifier()\n",
        "\n",
        "gbm_param_grid = {'max_depth': [2,3,4],\n",
        "                  'subsample': [0.8,0.6],\n",
        "                  'max_features':[0.3], \n",
        "                  'n_estimators': [10, 20, 30],\n",
        "                  'learning_rate':[0.1]}\n",
        "\n",
        "gbm_grid = GridSearchCV(clf_gbc, param_grid=gbm_param_grid, n_jobs =-1, cv=5)\n",
        "\n",
        "gbm_grid.fit(std_x,y)\n",
        "\n",
        "print(\"The Best parameters are: {} .\".format(gbm_grid.best_params_))\n",
        "\n",
        "train_pred_gb = gbm_grid.predict(std_x)\n",
        "\n",
        "print(\"f1 score=\"+str(f1_score(y, train_pred_gb)))\n",
        "print(\"recall score= \"+str(recall_score(train_pred_gb,y)))\n",
        "print(\"precision score=\"+str(precision_score(train_pred_gb,y)))\n",
        "\n"
      ]
    },
    {
      "cell_type": "code",
      "source": [],
      "metadata": {
        "id": "diBDMQ6LHczF"
      },
      "execution_count": null,
      "outputs": []
    },
    {
      "cell_type": "markdown",
      "source": [
        "After smote analysis"
      ],
      "metadata": {
        "id": "TGUSRWRIpXTL"
      }
    },
    {
      "cell_type": "code",
      "source": [
        "from sklearn.model_selection import cross_val_score"
      ],
      "metadata": {
        "id": "tvkj0KjaIS13"
      },
      "execution_count": null,
      "outputs": []
    },
    {
      "cell_type": "code",
      "execution_count": null,
      "metadata": {
        "id": "WH1SPp0PZauO"
      },
      "outputs": [],
      "source": [
        "# Building model after outholding the dataset."
      ]
    },
    {
      "cell_type": "code",
      "execution_count": null,
      "metadata": {
        "id": "WadTL3uYZdaj"
      },
      "outputs": [],
      "source": [
        "x_train, x_test, y_train, y_test = train_test_split(std_x, y, test_size=0.3, random_state=11, stratify=y)\n"
      ]
    },
    {
      "cell_type": "code",
      "execution_count": null,
      "metadata": {
        "id": "Jaaa6QOoZiN8"
      },
      "outputs": [],
      "source": [
        "sm = SMOTE(random_state=2)\n",
        "\n",
        "x_train_re, y_train_re = sm.fit_resample(x_train, y_train.ravel())\n",
        "x_test_re, y_test_re = sm.fit_resample(x_test,y_test.ravel())\n"
      ]
    },
    {
      "cell_type": "markdown",
      "metadata": {
        "id": "6lZ5dCO3ZySs"
      },
      "source": [
        "## Model-1 Gradient Boosting : "
      ]
    },
    {
      "cell_type": "markdown",
      "metadata": {
        "id": "QU4OVqG5bA_m"
      },
      "source": []
    },
    {
      "cell_type": "code",
      "execution_count": null,
      "metadata": {
        "id": "2y1KUgS3bBiV"
      },
      "outputs": [],
      "source": [
        "x_train, x_test, y_train, y_test = train_test_split(std_x, y, test_size=0.3, random_state=11, stratify=y)\n"
      ]
    },
    {
      "cell_type": "markdown",
      "metadata": {
        "id": "tlwdEgLkbP84"
      },
      "source": [
        "## Model-2  Logit Model :  \n"
      ]
    },
    {
      "cell_type": "code",
      "execution_count": null,
      "metadata": {
        "id": "SgK9P0ySbQeH",
        "colab": {
          "base_uri": "https://localhost:8080/"
        },
        "outputId": "b62a6dde-badd-4120-e638-ed20e4c67bbd"
      },
      "outputs": [
        {
          "output_type": "stream",
          "name": "stdout",
          "text": [
            "1.0\n",
            "0.0\n",
            "recall score= 0.0\n",
            "precision score=0.0\n"
          ]
        }
      ],
      "source": [
        "log_reg_2 = LogisticRegression()\n",
        "\n",
        "log_reg_2.fit(x_train_re,y_train_re)\n",
        "\n",
        "log_reg_pred_train = log_reg_2.predict(x_train_re)\n",
        "log_reg_pred_test = log_reg_2.predict(x_test_re)\n",
        "\n",
        "print(f1_score(y_train_re, log_reg_pred_train))\n",
        "print(f1_score(y_test_re, log_reg_pred_test))\n",
        "print(\"recall score= \"+str(recall_score(log_reg_pred_test,y_test_re)))\n",
        "print(\"precision score=\"+str(precision_score(log_reg_pred_test,y_test_re)))\n",
        "# print(\"precision for train\"+str(precision_score(y_train_re, log_reg_pred_train)))\n",
        "# print(\"recall for train\"+str(recall_score(y_train_re, log_reg_pred_train)))\n",
        "\n",
        "#prediction on test data \n",
        "\n"
      ]
    },
    {
      "cell_type": "markdown",
      "metadata": {
        "id": "Y02G16NybUdS"
      },
      "source": [
        "## Model-3 xgBoost : "
      ]
    },
    {
      "cell_type": "code",
      "execution_count": null,
      "metadata": {
        "id": "p06yCM6ebU9d",
        "colab": {
          "base_uri": "https://localhost:8080/"
        },
        "outputId": "f197b281-702a-472f-b438-a09fd448dc17"
      },
      "outputs": [
        {
          "output_type": "stream",
          "name": "stderr",
          "text": [
            "Intel(R) Extension for Scikit-learn* enabled (https://github.com/intel/scikit-learn-intelex)\n"
          ]
        },
        {
          "output_type": "stream",
          "name": "stdout",
          "text": [
            "{'colsample_bytree': 0.8, 'learning_rate': 0.1, 'max_depth': 5, 'n_estimators': 15, 'subsample': 0.8}\n",
            "precision score 1.0\n",
            "recall score0.9868421052631579\n",
            "Train Score: 0.9933774834437086.\n",
            "Validation Score: 0.9606299212598425.\n",
            "CPU times: user 862 ms, sys: 49.5 ms, total: 912 ms\n",
            "Wall time: 11.6 s\n"
          ]
        }
      ],
      "source": [
        "\n",
        "%%time\n",
        "import xgboost as xgb\n",
        "from sklearn.model_selection import GridSearchCV\n",
        "from sklearnex import patch_sklearn\n",
        "patch_sklearn()\n",
        "xgb = xgb.XGBClassifier()\n",
        "\n",
        "\n",
        "kfold = StratifiedKFold(n_splits=5, shuffle=True, random_state=143)\n",
        "\n",
        "param_grid = {\"n_estimators\" : [10,15],\n",
        "              \"max_depth\" : [3,5,6,7],\n",
        "              \"colsample_bytree\":[0.7,.8],\n",
        "              \"learning_rate\": [0.001,0.01,0.1],\n",
        "              \"subsample\":[0.8,0.6]}\n",
        "\n",
        "xg_grid = GridSearchCV(xgb, param_grid=param_grid, n_jobs=-1, cv=kfold)\n",
        "\n",
        "\n",
        "xg_grid.fit(x_train_re,y_train_re)\n",
        "\n",
        "print(xg_grid.best_params_)\n",
        "\n",
        "train_pred = xg_grid.predict(x_train_re)\n",
        "test_pred = xg_grid.predict(x_test_re)\n",
        "print(\"precision score\",str(precision_score(y_train_re, train_pred)))\n",
        "print(\"recall score\"+str(recall_score(y_train_re, train_pred)))\n",
        "\n",
        "print(\"Train Score: {}.\" .format(f1_score(y_train_re, train_pred)))\n",
        "print(\"Validation Score: {}.\" .format(f1_score(y_test_re, test_pred)))\n"
      ]
    },
    {
      "cell_type": "code",
      "source": [
        "##model-3 xgboost \n",
        "import seaborn as sns\n",
        "\n",
        "\n",
        "\n",
        "sns.set_theme(style=\"whitegrid\")\n",
        "\n",
        "\n",
        "precision = precision_score(y_train_re, train_pred)\n",
        "f1 = f1_score(y_train_re, train_pred)\n",
        "recall =recall_score(y_train_re, train_pred)\n",
        "\n",
        "\n",
        "data = {'Metric': ['Precision', 'F1 Score','recall'],\n",
        "        'Score': [precision, f1,recall]}\n",
        "df_scores = pd.DataFrame(data)\n",
        "\n",
        "\n",
        "sns.barplot(x='Metric', y='Score', data=df_scores)\n",
        "plt.xlabel('Metric')\n",
        "plt.ylabel('Score')\n",
        "plt.title('Precision and F1 Score')\n",
        "plt.show()\n"
      ],
      "metadata": {
        "colab": {
          "base_uri": "https://localhost:8080/",
          "height": 480
        },
        "id": "cQaAkAS8ayKu",
        "outputId": "02bda118-fc67-4fcd-84bc-e2c96a27861a"
      },
      "execution_count": null,
      "outputs": [
        {
          "output_type": "display_data",
          "data": {
            "text/plain": [
              "<Figure size 640x480 with 1 Axes>"
            ],
            "image/png": "[encoded data removed]"
          },
          "metadata": {}
        }
      ]
    },
    {
      "cell_type": "code",
      "execution_count": null,
      "metadata": {
        "id": "FZ01tfkjbWR0"
      },
      "outputs": [],
      "source": [
        "## Model- 4 RF"
      ]
    },
    {
      "cell_type": "markdown",
      "source": [
        "**MODEL 4 RANDOM FOREST:**"
      ],
      "metadata": {
        "id": "EJnbQntPCrnk"
      }
    },
    {
      "cell_type": "code",
      "execution_count": null,
      "metadata": {
        "id": "Ve5P3UV6bZRn",
        "colab": {
          "base_uri": "https://localhost:8080/"
        },
        "outputId": "8ec3833a-29aa-441b-a8c0-178f3f3efab4"
      },
      "outputs": [
        {
          "output_type": "stream",
          "name": "stdout",
          "text": [
            "{'criterion': 'gini', 'max_depth': 5, 'min_samples_leaf': 1, 'min_samples_split': 2}\n",
            "precision score 1.0\n",
            "Train Score: 0.9966996699669968 .\n",
            "Validation Score: 0.9606299212598425 .\n",
            "CPU times: user 28.4 s, sys: 109 ms, total: 28.5 s\n",
            "Wall time: 28.7 s\n"
          ]
        }
      ],
      "source": [
        "%%time\n",
        "clf_rf = RandomForestClassifier()\n",
        "\n",
        "kfold = StratifiedKFold(n_splits=5, shuffle=True, random_state=143)\n",
        "\n",
        "param_grid = {\"n_estimators\" : [3,4,5,10,12,13,14],\n",
        "              \"max_depth\" : [2,3,5,6],\n",
        "              \"max_features\" : [3,4, 5, 7],\n",
        "              \"min_samples_leaf\" : [4, 6, 8, 10]}\n",
        "\n",
        "rf_grid = GridSearchCV(clf_rf, param_grid=dt_param_grid, cv=kfold)\n",
        "\n",
        "\n",
        "rf_grid.fit(x_train_re,y_train_re)\n",
        "\n",
        "print(rf_grid.best_params_)\n",
        "\n",
        "train_pred_rf = rf_grid.predict(x_train_re)\n",
        "test_pred_rf = rf_grid.predict(x_test_re)\n",
        "print(\"precision score\",str(precision_score(y_test_re, test_pred_rf)))\n",
        "print(\"Train Score: {} .\" .format(f1_score(y_train_re, train_pred_rf)))\n",
        "print(\"Validation Score: {} .\" .format(f1_score(y_test_re, test_pred_rf)))\n",
        "\n"
      ]
    },
    {
      "cell_type": "code",
      "source": [
        "##model-4\n",
        "import seaborn as sns\n",
        "\n",
        "\n",
        "\n",
        "sns.set_theme(style=\"whitegrid\")\n",
        "\n",
        "\n",
        "precision = precision_score(y_test_re, test_pred_rf)\n",
        "f1 = f1_score(y_test_re, test_pred_rf)\n",
        "recall =recall_score(y_test_re, test_pred_rf)\n",
        "\n",
        "\n",
        "data = {'Metric': ['Precision', 'F1 Score','recall'],\n",
        "        'Score': [precision, f1,recall]}\n",
        "df_scores = pd.DataFrame(data)\n",
        "\n",
        "\n",
        "sns.barplot(x='Metric', y='Score', data=df_scores)\n",
        "plt.xlabel('Metric')\n",
        "plt.ylabel('Score')\n",
        "plt.title('Precision and F1 Score for random forest model')\n",
        "plt.show()\n"
      ],
      "metadata": {
        "colab": {
          "base_uri": "https://localhost:8080/",
          "height": 480
        },
        "id": "PEn_WMbqcU_b",
        "outputId": "fe2bdf0c-371f-4d74-ab94-ff22a9415005"
      },
      "execution_count": null,
      "outputs": [
        {
          "output_type": "display_data",
          "data": {
            "text/plain": [
              "<Figure size 640x480 with 1 Axes>"
            ],
            "image/png": "[encoded data removed]"
          },
          "metadata": {}
        }
      ]
    },
    {
      "cell_type": "code",
      "source": [],
      "metadata": {
        "id": "5kWujpz4J3RP"
      },
      "execution_count": null,
      "outputs": []
    },
    {
      "cell_type": "code",
      "execution_count": null,
      "metadata": {
        "id": "LUsL_0vrbaw6"
      },
      "outputs": [],
      "source": []
    },
    {
      "cell_type": "code",
      "source": [],
      "metadata": {
        "id": "qVtq-XCkKpe0"
      },
      "execution_count": null,
      "outputs": []
    },
    {
      "cell_type": "code",
      "source": [
        "##model 5 KNN "
      ],
      "metadata": {
        "id": "fLelqW1fJ45l"
      },
      "execution_count": null,
      "outputs": []
    },
    {
      "cell_type": "code",
      "execution_count": null,
      "metadata": {
        "id": "me0FyX3kbckl",
        "colab": {
          "base_uri": "https://localhost:8080/"
        },
        "outputId": "cbfc62a6-a009-48a0-eca5-789b41324e59"
      },
      "outputs": [
        {
          "output_type": "stream",
          "name": "stdout",
          "text": [
            "{'n_neighbors': 4}\n",
            "recall score 1.0\n",
            "Train Score: 0.9967213114754099 .\n",
            "Validation Score: 0.6666666666666666 .\n"
          ]
        }
      ],
      "source": [
        "from sklearn.neighbors import KNeighborsClassifier\n",
        "knn = KNeighborsClassifier()\n",
        "\n",
        "param_grid_knn = {'n_neighbors':[4,5,6]}\n",
        "\n",
        "knn_grid = GridSearchCV(knn, param_grid=param_grid_knn, cv=5)\n",
        "\n",
        "\n",
        "knn_grid.fit(x_train_re,y_train_re)\n",
        "\n",
        "print(knn_grid.best_params_)\n",
        "\n",
        "train_pred_rf = knn_grid.predict(x_train_re)\n",
        "test_pred_rf = knn_grid.predict(x_test_re)\n",
        "print(\"recall score\",str(recall_score(y_test_re, test_pred_rf)))\n",
        "\n",
        "print(\"Train Score: {} .\" .format(f1_score(y_train_re, train_pred_rf)))\n",
        "print(\"Validation Score: {} .\" .format(f1_score(y_test_re, test_pred_rf)))\n",
        "\n"
      ]
    },
    {
      "cell_type": "code",
      "source": [
        "##model-5\n",
        "import seaborn as sns\n",
        "\n",
        "\n",
        "\n",
        "sns.set_theme(style=\"whitegrid\")\n",
        "\n",
        "\n",
        "precision = precision_score(y_test_re, test_pred_rf)\n",
        "f1 = f1_score(y_test_re, test_pred_rf)\n",
        "recall =recall_score(y_test_re, test_pred_rf)\n",
        "\n",
        "\n",
        "data = {'Metric': ['Precision', 'F1 Score','recall'],\n",
        "        'Score': [precision, f1,recall]}\n",
        "df_scores = pd.DataFrame(data)\n",
        "\n",
        "\n",
        "sns.barplot(x='Metric', y='Score', data=df_scores)\n",
        "plt.xlabel('Metric')\n",
        "plt.ylabel('Score')\n",
        "plt.title('Precision and F1 Score')\n",
        "plt.show()\n"
      ],
      "metadata": {
        "colab": {
          "base_uri": "https://localhost:8080/",
          "height": 480
        },
        "id": "GI0ZiBP-cyGc",
        "outputId": "ac437f48-4532-4687-ddc4-a26545edf1ff"
      },
      "execution_count": null,
      "outputs": [
        {
          "output_type": "display_data",
          "data": {
            "text/plain": [
              "<Figure size 640x480 with 1 Axes>"
            ],
            "image/png": "[encoded data removed]"
          },
          "metadata": {}
        }
      ]
    },
    {
      "cell_type": "code",
      "execution_count": null,
      "metadata": {
        "id": "INI0EkAybeIK"
      },
      "outputs": [],
      "source": []
    },
    {
      "cell_type": "markdown",
      "metadata": {
        "id": "hSkPiM1_bgB6"
      },
      "source": [
        "# Models using Label Encoding."
      ]
    },
    {
      "cell_type": "code",
      "execution_count": null,
      "metadata": {
        "id": "y9A6GkygbggY"
      },
      "outputs": [],
      "source": [
        "#convert floats into int\n",
        "\n",
        "for col in ['TotalWorkingHours','Billable_Hours','Hours_off_Duty','Touring_Hours']:\n",
        "  train_copy[col] = train_copy[col].astype('int')"
      ]
    },
    {
      "cell_type": "code",
      "execution_count": null,
      "metadata": {
        "id": "FglRTzoObiIF"
      },
      "outputs": [],
      "source": [
        "#Do the same on the test data \n",
        "for col in ['TotalWorkingHours','Billable_Hours','Hours_off_Duty','Touring_Hours']:\n",
        "  test_copy[col] = test_copy[col].astype('int')"
      ]
    },
    {
      "cell_type": "code",
      "execution_count": null,
      "metadata": {
        "id": "lk59osepbjXd"
      },
      "outputs": [],
      "source": [
        "#on training data\n",
        "\n",
        "for col in ['Sex','Designation','NoOfProjects','joining_year','joining_month']:\n",
        "  train_copy[col] = train_copy[col].astype('object')\n",
        "#on testing data \n",
        "\n",
        "for col in ['Sex','Designation','NoOfProjects','joining_year','joining_month']:\n",
        "  test_copy[col] = test_copy[col].astype('object')\n",
        "\n",
        "train_copy['Left_Company'] = train_copy['Left_Company'].astype('category')"
      ]
    },
    {
      "cell_type": "code",
      "execution_count": null,
      "metadata": {
        "id": "4HBlU6Blbk18"
      },
      "outputs": [],
      "source": [
        "del train_copy['Left_Company']"
      ]
    },
    {
      "cell_type": "code",
      "execution_count": null,
      "metadata": {
        "id": "XgVMkwiIbmZ1"
      },
      "outputs": [],
      "source": [
        "import matplotlib.pyplot as plt"
      ]
    },
    {
      "cell_type": "markdown",
      "metadata": {
        "id": "loFYidBHboKp"
      },
      "source": [
        "### Encoding the data using Label encoder"
      ]
    },
    {
      "cell_type": "code",
      "execution_count": null,
      "metadata": {
        "id": "12WL1kCGbomZ"
      },
      "outputs": [],
      "source": [
        "#pass the label encoded data to the random forest Model\n",
        "\n",
        "for x in train_copy.columns:\n",
        "  if train_copy[x].dtype == 'object':\n",
        "        lbl = preprocessing.LabelEncoder()\n",
        "        lbl.fit(list(train_copy[x].values))\n",
        "        train_copy[x] = lbl.transform(list(train_copy[x].values))\n",
        "        "
      ]
    },
    {
      "cell_type": "code",
      "execution_count": null,
      "metadata": {
        "id": "K3RkV1Esbqlj",
        "colab": {
          "base_uri": "https://localhost:8080/",
          "height": 250
        },
        "outputId": "69e0ddb1-4cf2-4c66-ee5e-815aa29fa972"
      },
      "outputs": [
        {
          "output_type": "execute_result",
          "data": {
            "text/plain": [
              "   Job_History  Designation  Sex  TotalWorkingHours  Billable_Hours  \\\n",
              "0          156            2    1                205             189   \n",
              "1          217            4    0                241             233   \n",
              "2          129            3    1                278             264   \n",
              "3           28            3    1                345             233   \n",
              "4           34            3    1                270             249   \n",
              "\n",
              "   Hours_off_Duty  Touring_Hours  NoOfProjects  ActualTimeSpent  joining_year  \\\n",
              "0              72            189             3              231             8   \n",
              "1             120            186             2              147             3   \n",
              "2              40            264             3              308             8   \n",
              "3              64              0             2              217             9   \n",
              "4              88            213             2              231             8   \n",
              "\n",
              "   joining_month  job_count  \n",
              "0              0          3  \n",
              "1              1          4  \n",
              "2             11          2  \n",
              "3              0          3  \n",
              "4             11          1  "
            ],
            "text/html": [
              "\n",
              "  <div id=\"df-72486d6d-1d9f-411b-aaee-0835384472ee\">\n",
              "    <div class=\"colab-df-container\">\n",
              "      <div>\n",
              "<style scoped>\n",
              "    .dataframe tbody tr th:only-of-type {\n",
              "        vertical-align: middle;\n",
              "    }\n",
              "\n",
              "    .dataframe tbody tr th {\n",
              "        vertical-align: top;\n",
              "    }\n",
              "\n",
              "    .dataframe thead th {\n",
              "        text-align: right;\n",
              "    }\n",
              "</style>\n",
              "<table border=\"1\" class=\"dataframe\">\n",
              "  <thead>\n",
              "    <tr style=\"text-align: right;\">\n",
              "      <th></th>\n",
              "      <th>Job_History</th>\n",
              "      <th>Designation</th>\n",
              "      <th>Sex</th>\n",
              "      <th>TotalWorkingHours</th>\n",
              "      <th>Billable_Hours</th>\n",
              "      <th>Hours_off_Duty</th>\n",
              "      <th>Touring_Hours</th>\n",
              "      <th>NoOfProjects</th>\n",
              "      <th>ActualTimeSpent</th>\n",
              "      <th>joining_year</th>\n",
              "      <th>joining_month</th>\n",
              "      <th>job_count</th>\n",
              "    </tr>\n",
              "  </thead>\n",
              "  <tbody>\n",
              "    <tr>\n",
              "      <th>0</th>\n",
              "      <td>156</td>\n",
              "      <td>2</td>\n",
              "      <td>1</td>\n",
              "      <td>205</td>\n",
              "      <td>189</td>\n",
              "      <td>72</td>\n",
              "      <td>189</td>\n",
              "      <td>3</td>\n",
              "      <td>231</td>\n",
              "      <td>8</td>\n",
              "      <td>0</td>\n",
              "      <td>3</td>\n",
              "    </tr>\n",
              "    <tr>\n",
              "      <th>1</th>\n",
              "      <td>217</td>\n",
              "      <td>4</td>\n",
              "      <td>0</td>\n",
              "      <td>241</td>\n",
              "      <td>233</td>\n",
              "      <td>120</td>\n",
              "      <td>186</td>\n",
              "      <td>2</td>\n",
              "      <td>147</td>\n",
              "      <td>3</td>\n",
              "      <td>1</td>\n",
              "      <td>4</td>\n",
              "    </tr>\n",
              "    <tr>\n",
              "      <th>2</th>\n",
              "      <td>129</td>\n",
              "      <td>3</td>\n",
              "      <td>1</td>\n",
              "      <td>278</td>\n",
              "      <td>264</td>\n",
              "      <td>40</td>\n",
              "      <td>264</td>\n",
              "      <td>3</td>\n",
              "      <td>308</td>\n",
              "      <td>8</td>\n",
              "      <td>11</td>\n",
              "      <td>2</td>\n",
              "    </tr>\n",
              "    <tr>\n",
              "      <th>3</th>\n",
              "      <td>28</td>\n",
              "      <td>3</td>\n",
              "      <td>1</td>\n",
              "      <td>345</td>\n",
              "      <td>233</td>\n",
              "      <td>64</td>\n",
              "      <td>0</td>\n",
              "      <td>2</td>\n",
              "      <td>217</td>\n",
              "      <td>9</td>\n",
              "      <td>0</td>\n",
              "      <td>3</td>\n",
              "    </tr>\n",
              "    <tr>\n",
              "      <th>4</th>\n",
              "      <td>34</td>\n",
              "      <td>3</td>\n",
              "      <td>1</td>\n",
              "      <td>270</td>\n",
              "      <td>249</td>\n",
              "      <td>88</td>\n",
              "      <td>213</td>\n",
              "      <td>2</td>\n",
              "      <td>231</td>\n",
              "      <td>8</td>\n",
              "      <td>11</td>\n",
              "      <td>1</td>\n",
              "    </tr>\n",
              "  </tbody>\n",
              "</table>\n",
              "</div>\n",
              "      <button class=\"colab-df-convert\" onclick=\"convertToInteractive('df-72486d6d-1d9f-411b-aaee-0835384472ee')\"\n",
              "              title=\"Convert this dataframe to an interactive table.\"\n",
              "              style=\"display:none;\">\n",
              "        \n",
              "  <svg xmlns=\"http://www.w3.org/2000/svg\" height=\"24px\"viewBox=\"0 0 24 24\"\n",
              "       width=\"24px\">\n",
              "    <path d=\"M0 0h24v24H0V0z\" fill=\"none\"/>\n",
              "    <path d=\"M18.56 5.44l.94 2.06.94-2.06 2.06-.94-2.06-.94-.94-2.06-.94 2.06-2.06.94zm-11 1L8.5 8.5l.94-2.06 2.06-.94-2.06-.94L8.5 2.5l-.94 2.06-2.06.94zm10 10l.94 2.06.94-2.06 2.06-.94-2.06-.94-.94-2.06-.94 2.06-2.06.94z\"/><path d=\"M17.41 7.96l-1.37-1.37c-.4-.4-.92-.59-1.43-.59-.52 0-1.04.2-1.43.59L10.3 9.45l-7.72 7.72c-.78.78-.78 2.05 0 2.83L4 21.41c.39.39.9.59 1.41.59.51 0 1.02-.2 1.41-.59l7.78-7.78 2.81-2.81c.8-.78.8-2.07 0-2.86zM5.41 20L4 18.59l7.72-7.72 1.47 1.35L5.41 20z\"/>\n",
              "  </svg>\n",
              "      </button>\n",
              "      \n",
              "  <style>\n",
              "    .colab-df-container {\n",
              "      display:flex;\n",
              "      flex-wrap:wrap;\n",
              "      gap: 12px;\n",
              "    }\n",
              "\n",
              "    .colab-df-convert {\n",
              "      background-color: #E8F0FE;\n",
              "      border: none;\n",
              "      border-radius: 50%;\n",
              "      cursor: pointer;\n",
              "      display: none;\n",
              "      fill: #1967D2;\n",
              "      height: 32px;\n",
              "      padding: 0 0 0 0;\n",
              "      width: 32px;\n",
              "    }\n",
              "\n",
              "    .colab-df-convert:hover {\n",
              "      background-color: #E2EBFA;\n",
              "      box-shadow: 0px 1px 2px rgba(60, 64, 67, 0.3), 0px 1px 3px 1px rgba(60, 64, 67, 0.15);\n",
              "      fill: #174EA6;\n",
              "    }\n",
              "\n",
              "    [theme=dark] .colab-df-convert {\n",
              "      background-color: #3B4455;\n",
              "      fill: #D2E3FC;\n",
              "    }\n",
              "\n",
              "    [theme=dark] .colab-df-convert:hover {\n",
              "      background-color: #434B5C;\n",
              "      box-shadow: 0px 1px 3px 1px rgba(0, 0, 0, 0.15);\n",
              "      filter: drop-shadow(0px 1px 2px rgba(0, 0, 0, 0.3));\n",
              "      fill: #FFFFFF;\n",
              "    }\n",
              "  </style>\n",
              "\n",
              "      <script>\n",
              "        const buttonEl =\n",
              "          document.querySelector('#df-72486d6d-1d9f-411b-aaee-0835384472ee button.colab-df-convert');\n",
              "        buttonEl.style.display =\n",
              "          google.colab.kernel.accessAllowed ? 'block' : 'none';\n",
              "\n",
              "        async function convertToInteractive(key) {\n",
              "          const element = document.querySelector('#df-72486d6d-1d9f-411b-aaee-0835384472ee');\n",
              "          const dataTable =\n",
              "            await google.colab.kernel.invokeFunction('convertToInteractive',\n",
              "                                                     [key], {});\n",
              "          if (!dataTable) return;\n",
              "\n",
              "          const docLinkHtml = 'Like what you see? Visit the ' +\n",
              "            '<a target=\"_blank\" href=https://colab.research.google.com/notebooks/data_table.ipynb>data table notebook</a>'\n",
              "            + ' to learn more about interactive tables.';\n",
              "          element.innerHTML = '';\n",
              "          dataTable['output_type'] = 'display_data';\n",
              "          await google.colab.output.renderOutput(dataTable, element);\n",
              "          const docLink = document.createElement('div');\n",
              "          docLink.innerHTML = docLinkHtml;\n",
              "          element.appendChild(docLink);\n",
              "        }\n",
              "      </script>\n",
              "    </div>\n",
              "  </div>\n",
              "  "
            ]
          },
          "metadata": {},
          "execution_count": 521
        }
      ],
      "source": [
        "train_copy.head()"
      ]
    },
    {
      "cell_type": "code",
      "execution_count": null,
      "metadata": {
        "id": "QPZblxLTbshz"
      },
      "outputs": [],
      "source": [
        "x_train_l, x_test_l, y_train_l, y_test_l = train_test_split(train_copy, y, test_size= 0.3, random_state=12, stratify= y)"
      ]
    },
    {
      "cell_type": "code",
      "execution_count": null,
      "metadata": {
        "id": "ONBR39Jjbtx6",
        "colab": {
          "base_uri": "https://localhost:8080/",
          "height": 475
        },
        "outputId": "e5c3df68-b6a9-4e27-9e32-55842c1401f4"
      },
      "outputs": [
        {
          "output_type": "execute_result",
          "data": {
            "text/plain": [
              "                                         Job_History Designation Sex  \\\n",
              "0  Worked at Company - 510 , Company - 658 , Comp...      Senior   0   \n",
              "1  Worked at Company - 42 , Company - 432 , Compa...          VP   1   \n",
              "2  Worked at Company - 99 , Company - 88 , Compan...         EVP   1   \n",
              "3            Worked at Company - 554 , Company - 304         EVP   1   \n",
              "4            Worked at Company - 548 , Company - 405          VP   1   \n",
              "\n",
              "   TotalWorkingHours  Billable_Hours  Hours_off_Duty  Touring_Hours  \\\n",
              "0                278             263              90              2   \n",
              "1                273             256              72            176   \n",
              "2                275             179              48            176   \n",
              "3                238             215              40            160   \n",
              "4                293             228              88            228   \n",
              "\n",
              "  NoOfProjects  ActualTimeSpent joining_year joining_month  job_count  \n",
              "0            2              203         2012            01          4  \n",
              "1            3              182         2012            02          3  \n",
              "2            3              154         2012            02          3  \n",
              "3            3              238         2012            04          2  \n",
              "4            4              315         2006            09          2  "
            ],
            "text/html": [
              "\n",
              "  <div id=\"df-726372fd-6baa-4366-acab-f3b1dad93dc7\">\n",
              "    <div class=\"colab-df-container\">\n",
              "      <div>\n",
              "<style scoped>\n",
              "    .dataframe tbody tr th:only-of-type {\n",
              "        vertical-align: middle;\n",
              "    }\n",
              "\n",
              "    .dataframe tbody tr th {\n",
              "        vertical-align: top;\n",
              "    }\n",
              "\n",
              "    .dataframe thead th {\n",
              "        text-align: right;\n",
              "    }\n",
              "</style>\n",
              "<table border=\"1\" class=\"dataframe\">\n",
              "  <thead>\n",
              "    <tr style=\"text-align: right;\">\n",
              "      <th></th>\n",
              "      <th>Job_History</th>\n",
              "      <th>Designation</th>\n",
              "      <th>Sex</th>\n",
              "      <th>TotalWorkingHours</th>\n",
              "      <th>Billable_Hours</th>\n",
              "      <th>Hours_off_Duty</th>\n",
              "      <th>Touring_Hours</th>\n",
              "      <th>NoOfProjects</th>\n",
              "      <th>ActualTimeSpent</th>\n",
              "      <th>joining_year</th>\n",
              "      <th>joining_month</th>\n",
              "      <th>job_count</th>\n",
              "    </tr>\n",
              "  </thead>\n",
              "  <tbody>\n",
              "    <tr>\n",
              "      <th>0</th>\n",
              "      <td>Worked at Company - 510 , Company - 658 , Comp...</td>\n",
              "      <td>Senior</td>\n",
              "      <td>0</td>\n",
              "      <td>278</td>\n",
              "      <td>263</td>\n",
              "      <td>90</td>\n",
              "      <td>2</td>\n",
              "      <td>2</td>\n",
              "      <td>203</td>\n",
              "      <td>2012</td>\n",
              "      <td>01</td>\n",
              "      <td>4</td>\n",
              "    </tr>\n",
              "    <tr>\n",
              "      <th>1</th>\n",
              "      <td>Worked at Company - 42 , Company - 432 , Compa...</td>\n",
              "      <td>VP</td>\n",
              "      <td>1</td>\n",
              "      <td>273</td>\n",
              "      <td>256</td>\n",
              "      <td>72</td>\n",
              "      <td>176</td>\n",
              "      <td>3</td>\n",
              "      <td>182</td>\n",
              "      <td>2012</td>\n",
              "      <td>02</td>\n",
              "      <td>3</td>\n",
              "    </tr>\n",
              "    <tr>\n",
              "      <th>2</th>\n",
              "      <td>Worked at Company - 99 , Company - 88 , Compan...</td>\n",
              "      <td>EVP</td>\n",
              "      <td>1</td>\n",
              "      <td>275</td>\n",
              "      <td>179</td>\n",
              "      <td>48</td>\n",
              "      <td>176</td>\n",
              "      <td>3</td>\n",
              "      <td>154</td>\n",
              "      <td>2012</td>\n",
              "      <td>02</td>\n",
              "      <td>3</td>\n",
              "    </tr>\n",
              "    <tr>\n",
              "      <th>3</th>\n",
              "      <td>Worked at Company - 554 , Company - 304</td>\n",
              "      <td>EVP</td>\n",
              "      <td>1</td>\n",
              "      <td>238</td>\n",
              "      <td>215</td>\n",
              "      <td>40</td>\n",
              "      <td>160</td>\n",
              "      <td>3</td>\n",
              "      <td>238</td>\n",
              "      <td>2012</td>\n",
              "      <td>04</td>\n",
              "      <td>2</td>\n",
              "    </tr>\n",
              "    <tr>\n",
              "      <th>4</th>\n",
              "      <td>Worked at Company - 548 , Company - 405</td>\n",
              "      <td>VP</td>\n",
              "      <td>1</td>\n",
              "      <td>293</td>\n",
              "      <td>228</td>\n",
              "      <td>88</td>\n",
              "      <td>228</td>\n",
              "      <td>4</td>\n",
              "      <td>315</td>\n",
              "      <td>2006</td>\n",
              "      <td>09</td>\n",
              "      <td>2</td>\n",
              "    </tr>\n",
              "  </tbody>\n",
              "</table>\n",
              "</div>\n",
              "      <button class=\"colab-df-convert\" onclick=\"convertToInteractive('df-726372fd-6baa-4366-acab-f3b1dad93dc7')\"\n",
              "              title=\"Convert this dataframe to an interactive table.\"\n",
              "              style=\"display:none;\">\n",
              "        \n",
              "  <svg xmlns=\"http://www.w3.org/2000/svg\" height=\"24px\"viewBox=\"0 0 24 24\"\n",
              "       width=\"24px\">\n",
              "    <path d=\"M0 0h24v24H0V0z\" fill=\"none\"/>\n",
              "    <path d=\"M18.56 5.44l.94 2.06.94-2.06 2.06-.94-2.06-.94-.94-2.06-.94 2.06-2.06.94zm-11 1L8.5 8.5l.94-2.06 2.06-.94-2.06-.94L8.5 2.5l-.94 2.06-2.06.94zm10 10l.94 2.06.94-2.06 2.06-.94-2.06-.94-.94-2.06-.94 2.06-2.06.94z\"/><path d=\"M17.41 7.96l-1.37-1.37c-.4-.4-.92-.59-1.43-.59-.52 0-1.04.2-1.43.59L10.3 9.45l-7.72 7.72c-.78.78-.78 2.05 0 2.83L4 21.41c.39.39.9.59 1.41.59.51 0 1.02-.2 1.41-.59l7.78-7.78 2.81-2.81c.8-.78.8-2.07 0-2.86zM5.41 20L4 18.59l7.72-7.72 1.47 1.35L5.41 20z\"/>\n",
              "  </svg>\n",
              "      </button>\n",
              "      \n",
              "  <style>\n",
              "    .colab-df-container {\n",
              "      display:flex;\n",
              "      flex-wrap:wrap;\n",
              "      gap: 12px;\n",
              "    }\n",
              "\n",
              "    .colab-df-convert {\n",
              "      background-color: #E8F0FE;\n",
              "      border: none;\n",
              "      border-radius: 50%;\n",
              "      cursor: pointer;\n",
              "      display: none;\n",
              "      fill: #1967D2;\n",
              "      height: 32px;\n",
              "      padding: 0 0 0 0;\n",
              "      width: 32px;\n",
              "    }\n",
              "\n",
              "    .colab-df-convert:hover {\n",
              "      background-color: #E2EBFA;\n",
              "      box-shadow: 0px 1px 2px rgba(60, 64, 67, 0.3), 0px 1px 3px 1px rgba(60, 64, 67, 0.15);\n",
              "      fill: #174EA6;\n",
              "    }\n",
              "\n",
              "    [theme=dark] .colab-df-convert {\n",
              "      background-color: #3B4455;\n",
              "      fill: #D2E3FC;\n",
              "    }\n",
              "\n",
              "    [theme=dark] .colab-df-convert:hover {\n",
              "      background-color: #434B5C;\n",
              "      box-shadow: 0px 1px 3px 1px rgba(0, 0, 0, 0.15);\n",
              "      filter: drop-shadow(0px 1px 2px rgba(0, 0, 0, 0.3));\n",
              "      fill: #FFFFFF;\n",
              "    }\n",
              "  </style>\n",
              "\n",
              "      <script>\n",
              "        const buttonEl =\n",
              "          document.querySelector('#df-726372fd-6baa-4366-acab-f3b1dad93dc7 button.colab-df-convert');\n",
              "        buttonEl.style.display =\n",
              "          google.colab.kernel.accessAllowed ? 'block' : 'none';\n",
              "\n",
              "        async function convertToInteractive(key) {\n",
              "          const element = document.querySelector('#df-726372fd-6baa-4366-acab-f3b1dad93dc7');\n",
              "          const dataTable =\n",
              "            await google.colab.kernel.invokeFunction('convertToInteractive',\n",
              "                                                     [key], {});\n",
              "          if (!dataTable) return;\n",
              "\n",
              "          const docLinkHtml = 'Like what you see? Visit the ' +\n",
              "            '<a target=\"_blank\" href=https://colab.research.google.com/notebooks/data_table.ipynb>data table notebook</a>'\n",
              "            + ' to learn more about interactive tables.';\n",
              "          element.innerHTML = '';\n",
              "          dataTable['output_type'] = 'display_data';\n",
              "          await google.colab.output.renderOutput(dataTable, element);\n",
              "          const docLink = document.createElement('div');\n",
              "          docLink.innerHTML = docLinkHtml;\n",
              "          element.appendChild(docLink);\n",
              "        }\n",
              "      </script>\n",
              "    </div>\n",
              "  </div>\n",
              "  "
            ]
          },
          "metadata": {},
          "execution_count": 523
        }
      ],
      "source": [
        "test_copy.head()"
      ]
    },
    {
      "cell_type": "markdown",
      "metadata": {
        "id": "drFPIfXIbzPq"
      },
      "source": [
        "### The training data is insufficient & it is underfitting when building the models. \n",
        "\n",
        "\n",
        "### The target labelled data is class imbalanced & should perform SMOTE method to over sample the data, It may be helpful in building the model without underfitting. "
      ]
    },
    {
      "cell_type": "markdown",
      "metadata": {
        "id": "Ft1_0TKub1cT"
      },
      "source": [
        "### Feature Engineering can be done by using the Job_History column by counting the no of companies he worked earlier & make better predictions. "
      ]
    },
    {
      "cell_type": "markdown",
      "metadata": {
        "id": "h9LcjoKPb4Gx"
      },
      "source": [
        "# Deep Learning Techniques : "
      ]
    },
    {
      "cell_type": "code",
      "execution_count": null,
      "metadata": {
        "id": "d_yVE7QJb4ku",
        "colab": {
          "base_uri": "https://localhost:8080/"
        },
        "outputId": "75fa3351-6ca0-432c-8048-29330001b5b8"
      },
      "outputs": [
        {
          "output_type": "stream",
          "name": "stderr",
          "text": [
            "Intel(R) Extension for Scikit-learn* enabled (https://github.com/intel/scikit-learn-intelex)\n"
          ]
        }
      ],
      "source": [
        "#importing packages \n",
        "from sklearnex import patch_sklearn\n",
        "patch_sklearn()\n",
        "import tensorflow as tf \n",
        "import keras\n",
        "from keras import Sequential\n",
        "from keras.layers import Dense, BatchNormalization, Dropout\n",
        "from keras.layers import Activation"
      ]
    },
    {
      "cell_type": "code",
      "execution_count": null,
      "metadata": {
        "id": "9GlEWMJOb56m",
        "colab": {
          "base_uri": "https://localhost:8080/"
        },
        "outputId": "43a92a25-33e5-4c8d-963f-b9d9f2b25413"
      },
      "outputs": [
        {
          "output_type": "stream",
          "name": "stdout",
          "text": [
            "(304, 283)\n",
            "(132, 283)\n",
            "(304,)\n",
            "(132,)\n"
          ]
        }
      ],
      "source": [
        "# chceking the splitted data \n",
        "print(x_train_re.shape)\n",
        "print(x_test_re.shape)\n",
        "print(y_train_re.shape)\n",
        "print(y_test_re.shape)\n"
      ]
    },
    {
      "cell_type": "code",
      "execution_count": null,
      "metadata": {
        "id": "GwnYI8wZb7iA",
        "colab": {
          "base_uri": "https://localhost:8080/"
        },
        "outputId": "33dc28f6-a7a0-48a9-ae21-4dd7bc5febc1"
      },
      "outputs": [
        {
          "output_type": "stream",
          "name": "stdout",
          "text": [
            "(171, 12)\n",
            "(74, 12)\n",
            "(171,)\n",
            "(74,)\n"
          ]
        }
      ],
      "source": [
        "#chcecking the label encoded  data \n",
        "\n",
        "print(x_train_l.shape)\n",
        "print(x_test_l.shape)\n",
        "print(y_train_l.shape) \n",
        "print(y_test_l.shape)"
      ]
    },
    {
      "cell_type": "code",
      "execution_count": null,
      "metadata": {
        "id": "knZ5Po61b9FF",
        "colab": {
          "base_uri": "https://localhost:8080/"
        },
        "outputId": "c6647645-0ab7-4147-8389-0c11f2e907cb"
      },
      "outputs": [
        {
          "output_type": "execute_result",
          "data": {
            "text/plain": [
              "Job_History          int64\n",
              "Designation          int64\n",
              "Sex                  int64\n",
              "TotalWorkingHours    int64\n",
              "Billable_Hours       int64\n",
              "Hours_off_Duty       int64\n",
              "Touring_Hours        int64\n",
              "NoOfProjects         int64\n",
              "ActualTimeSpent      int64\n",
              "joining_year         int64\n",
              "joining_month        int64\n",
              "job_count            int64\n",
              "dtype: object"
            ]
          },
          "metadata": {},
          "execution_count": 527
        }
      ],
      "source": [
        "x_train_l.dtypes"
      ]
    },
    {
      "cell_type": "code",
      "execution_count": null,
      "metadata": {
        "id": "F-ieJCv0b-Tb"
      },
      "outputs": [],
      "source": [
        "model = Sequential()\n",
        "\n",
        "#layer-1\n",
        "model.add(Dense(6,kernel_initializer='glorot_uniform', input_dim=283))\n",
        "# model.add(BatchNormalization())\n",
        "model.add(Activation('relu'))\n",
        "\n",
        "#layer -2 \n",
        "\n",
        "model.add(Dense(6, kernel_initializer='glorot_uniform', activation='relu'))\n",
        "model.add(BatchNormalization())\n",
        "\n",
        "#layer-3 -Output layer \n",
        "\n",
        "model.add(Dense(1, activation='softmax', kernel_initializer='glorot_normal'))\n",
        "\n",
        "#compiling the model \n",
        "\n",
        "model.compile(optimizer='adam', loss='binary_crossentropy', metrics=['accuracy'])"
      ]
    },
    {
      "cell_type": "code",
      "source": [
        "from tensorflow.keras import regularizers\n",
        "from tensorflow.keras.models import Sequential\n",
        "from tensorflow.keras.layers import Dense, Dropout, Activation, BatchNormalization\n",
        "\n",
        "model = Sequential()\n",
        "\n",
        "# Layer 1\n",
        "model.add(Dense(128, kernel_initializer='he_uniform', input_dim=283))\n",
        "model.add(Activation('relu'))\n",
        "model.add(BatchNormalization())\n",
        "model.add(Dropout(0.3))  # Adjusted dropout rate\n",
        "\n",
        "# Layer 2\n",
        "model.add(Dense(64, kernel_initializer='he_uniform'))\n",
        "model.add(Activation('relu'))\n",
        "model.add(BatchNormalization())\n",
        "model.add(Dropout(0.3))  # Adjusted dropout rate\n",
        "\n",
        "# Layer 3\n",
        "model.add(Dense(32, kernel_initializer='he_uniform'))\n",
        "model.add(Activation('relu'))\n",
        "model.add(BatchNormalization())\n",
        "model.add(Dropout(0.3))  # Adjusted dropout rate\n",
        "\n",
        "# Output layer\n",
        "model.add(Dense(1, activation='sigmoid'))\n",
        "\n",
        "# Compiling the model\n",
        "model.compile(optimizer='adam', loss='binary_crossentropy', metrics=['accuracy'])\n"
      ],
      "metadata": {
        "id": "CwPTSH73mkIQ"
      },
      "execution_count": 544,
      "outputs": []
    },
    {
      "cell_type": "code",
      "execution_count": 545,
      "metadata": {
        "id": "3rC7Oe8Ob_rV",
        "colab": {
          "base_uri": "https://localhost:8080/"
        },
        "outputId": "841aac84-b247-4b3a-e7fd-ca4d79b967aa"
      },
      "outputs": [
        {
          "output_type": "stream",
          "name": "stdout",
          "text": [
            "Epoch 1/100\n",
            "10/10 [==============================] - 3s 40ms/step - loss: 0.9923 - accuracy: 0.5000 - val_loss: 1.0114 - val_accuracy: 0.4000\n",
            "Epoch 2/100\n",
            "10/10 [==============================] - 0s 6ms/step - loss: 0.9671 - accuracy: 0.4955 - val_loss: 0.9647 - val_accuracy: 0.4000\n",
            "Epoch 3/100\n",
            "10/10 [==============================] - 0s 7ms/step - loss: 0.8836 - accuracy: 0.5318 - val_loss: 0.8802 - val_accuracy: 0.4400\n",
            "Epoch 4/100\n",
            "10/10 [==============================] - 0s 6ms/step - loss: 0.7496 - accuracy: 0.6045 - val_loss: 0.8109 - val_accuracy: 0.5200\n",
            "Epoch 5/100\n",
            "10/10 [==============================] - 0s 8ms/step - loss: 0.7052 - accuracy: 0.6227 - val_loss: 0.7506 - val_accuracy: 0.6400\n",
            "Epoch 6/100\n",
            "10/10 [==============================] - 0s 8ms/step - loss: 0.6318 - accuracy: 0.6773 - val_loss: 0.6976 - val_accuracy: 0.7200\n",
            "Epoch 7/100\n",
            "10/10 [==============================] - 0s 6ms/step - loss: 0.5761 - accuracy: 0.7136 - val_loss: 0.6556 - val_accuracy: 0.7200\n",
            "Epoch 8/100\n",
            "10/10 [==============================] - 0s 8ms/step - loss: 0.5926 - accuracy: 0.6955 - val_loss: 0.6287 - val_accuracy: 0.7200\n",
            "Epoch 9/100\n",
            "10/10 [==============================] - 0s 8ms/step - loss: 0.5617 - accuracy: 0.7227 - val_loss: 0.6062 - val_accuracy: 0.7200\n",
            "Epoch 10/100\n",
            "10/10 [==============================] - 0s 6ms/step - loss: 0.5441 - accuracy: 0.7227 - val_loss: 0.5784 - val_accuracy: 0.8000\n",
            "Epoch 11/100\n",
            "10/10 [==============================] - 0s 7ms/step - loss: 0.4766 - accuracy: 0.7955 - val_loss: 0.5560 - val_accuracy: 0.8000\n",
            "Epoch 12/100\n",
            "10/10 [==============================] - 0s 6ms/step - loss: 0.5334 - accuracy: 0.7273 - val_loss: 0.5357 - val_accuracy: 0.8000\n",
            "Epoch 13/100\n",
            "10/10 [==============================] - 0s 8ms/step - loss: 0.4553 - accuracy: 0.8182 - val_loss: 0.5152 - val_accuracy: 0.8000\n",
            "Epoch 14/100\n",
            "10/10 [==============================] - 0s 8ms/step - loss: 0.4690 - accuracy: 0.7818 - val_loss: 0.4974 - val_accuracy: 0.8000\n",
            "Epoch 15/100\n",
            "10/10 [==============================] - 0s 7ms/step - loss: 0.3937 - accuracy: 0.8409 - val_loss: 0.4831 - val_accuracy: 0.8000\n",
            "Epoch 16/100\n",
            "10/10 [==============================] - 0s 7ms/step - loss: 0.4140 - accuracy: 0.8045 - val_loss: 0.4684 - val_accuracy: 0.8000\n",
            "Epoch 17/100\n",
            "10/10 [==============================] - 0s 7ms/step - loss: 0.3646 - accuracy: 0.8364 - val_loss: 0.4475 - val_accuracy: 0.8000\n",
            "Epoch 18/100\n",
            "10/10 [==============================] - 0s 8ms/step - loss: 0.3562 - accuracy: 0.8636 - val_loss: 0.4314 - val_accuracy: 0.8400\n",
            "Epoch 19/100\n",
            "10/10 [==============================] - 0s 6ms/step - loss: 0.3338 - accuracy: 0.8455 - val_loss: 0.4196 - val_accuracy: 0.8400\n",
            "Epoch 20/100\n",
            "10/10 [==============================] - 0s 7ms/step - loss: 0.3368 - accuracy: 0.8682 - val_loss: 0.4060 - val_accuracy: 0.8800\n",
            "Epoch 21/100\n",
            "10/10 [==============================] - 0s 7ms/step - loss: 0.2940 - accuracy: 0.9000 - val_loss: 0.3865 - val_accuracy: 0.8800\n",
            "Epoch 22/100\n",
            "10/10 [==============================] - 0s 7ms/step - loss: 0.3102 - accuracy: 0.8955 - val_loss: 0.3718 - val_accuracy: 0.8800\n",
            "Epoch 23/100\n",
            "10/10 [==============================] - 0s 10ms/step - loss: 0.2567 - accuracy: 0.9182 - val_loss: 0.3659 - val_accuracy: 0.8800\n",
            "Epoch 24/100\n",
            "10/10 [==============================] - 0s 6ms/step - loss: 0.2596 - accuracy: 0.9273 - val_loss: 0.3658 - val_accuracy: 0.8800\n",
            "Epoch 25/100\n",
            "10/10 [==============================] - 0s 8ms/step - loss: 0.2082 - accuracy: 0.9455 - val_loss: 0.3589 - val_accuracy: 0.8800\n",
            "Epoch 26/100\n",
            "10/10 [==============================] - 0s 9ms/step - loss: 0.2542 - accuracy: 0.9091 - val_loss: 0.3465 - val_accuracy: 0.8800\n",
            "Epoch 27/100\n",
            "10/10 [==============================] - 0s 10ms/step - loss: 0.2361 - accuracy: 0.9273 - val_loss: 0.3438 - val_accuracy: 0.8800\n",
            "Epoch 28/100\n",
            "10/10 [==============================] - 0s 7ms/step - loss: 0.2234 - accuracy: 0.9227 - val_loss: 0.3401 - val_accuracy: 0.9200\n",
            "Epoch 29/100\n",
            "10/10 [==============================] - 0s 7ms/step - loss: 0.1986 - accuracy: 0.9273 - val_loss: 0.3370 - val_accuracy: 0.9200\n",
            "Epoch 30/100\n",
            "10/10 [==============================] - 0s 10ms/step - loss: 0.2057 - accuracy: 0.9182 - val_loss: 0.3354 - val_accuracy: 0.9200\n",
            "Epoch 31/100\n",
            "10/10 [==============================] - 0s 7ms/step - loss: 0.1482 - accuracy: 0.9591 - val_loss: 0.3279 - val_accuracy: 0.9200\n",
            "Epoch 32/100\n",
            "10/10 [==============================] - 0s 9ms/step - loss: 0.1826 - accuracy: 0.9591 - val_loss: 0.3254 - val_accuracy: 0.9200\n",
            "Epoch 33/100\n",
            "10/10 [==============================] - 0s 8ms/step - loss: 0.1729 - accuracy: 0.9636 - val_loss: 0.3189 - val_accuracy: 0.9200\n",
            "Epoch 34/100\n",
            "10/10 [==============================] - 0s 9ms/step - loss: 0.1758 - accuracy: 0.9364 - val_loss: 0.3150 - val_accuracy: 0.9200\n",
            "Epoch 35/100\n",
            "10/10 [==============================] - 0s 9ms/step - loss: 0.1757 - accuracy: 0.9545 - val_loss: 0.3104 - val_accuracy: 0.9200\n",
            "Epoch 36/100\n",
            "10/10 [==============================] - 0s 8ms/step - loss: 0.1241 - accuracy: 0.9636 - val_loss: 0.3159 - val_accuracy: 0.9200\n",
            "Epoch 37/100\n",
            "10/10 [==============================] - 0s 9ms/step - loss: 0.1638 - accuracy: 0.9636 - val_loss: 0.3106 - val_accuracy: 0.9200\n",
            "Epoch 38/100\n",
            "10/10 [==============================] - 0s 9ms/step - loss: 0.1256 - accuracy: 0.9727 - val_loss: 0.3123 - val_accuracy: 0.9200\n",
            "Epoch 39/100\n",
            "10/10 [==============================] - 0s 7ms/step - loss: 0.1032 - accuracy: 0.9818 - val_loss: 0.3145 - val_accuracy: 0.9200\n",
            "Epoch 40/100\n",
            "10/10 [==============================] - 0s 6ms/step - loss: 0.1218 - accuracy: 0.9773 - val_loss: 0.3091 - val_accuracy: 0.9200\n",
            "Epoch 41/100\n",
            "10/10 [==============================] - 0s 7ms/step - loss: 0.1462 - accuracy: 0.9682 - val_loss: 0.2997 - val_accuracy: 0.9200\n",
            "Epoch 42/100\n",
            "10/10 [==============================] - 0s 9ms/step - loss: 0.1329 - accuracy: 0.9727 - val_loss: 0.2935 - val_accuracy: 0.9200\n",
            "Epoch 43/100\n",
            "10/10 [==============================] - 0s 10ms/step - loss: 0.1046 - accuracy: 0.9682 - val_loss: 0.2909 - val_accuracy: 0.9200\n",
            "Epoch 44/100\n",
            "10/10 [==============================] - 0s 8ms/step - loss: 0.1080 - accuracy: 0.9591 - val_loss: 0.2916 - val_accuracy: 0.9200\n",
            "Epoch 45/100\n",
            "10/10 [==============================] - 0s 8ms/step - loss: 0.0781 - accuracy: 0.9818 - val_loss: 0.2922 - val_accuracy: 0.9200\n",
            "Epoch 46/100\n",
            "10/10 [==============================] - 0s 9ms/step - loss: 0.0720 - accuracy: 0.9909 - val_loss: 0.2939 - val_accuracy: 0.9200\n",
            "Epoch 47/100\n",
            "10/10 [==============================] - 0s 7ms/step - loss: 0.1177 - accuracy: 0.9682 - val_loss: 0.3104 - val_accuracy: 0.8800\n",
            "Epoch 48/100\n",
            "10/10 [==============================] - 0s 7ms/step - loss: 0.0872 - accuracy: 0.9773 - val_loss: 0.3144 - val_accuracy: 0.8800\n",
            "Epoch 49/100\n",
            "10/10 [==============================] - 0s 7ms/step - loss: 0.0598 - accuracy: 0.9955 - val_loss: 0.3257 - val_accuracy: 0.8800\n",
            "Epoch 50/100\n",
            "10/10 [==============================] - 0s 6ms/step - loss: 0.1030 - accuracy: 0.9727 - val_loss: 0.3350 - val_accuracy: 0.8800\n",
            "Epoch 51/100\n",
            "10/10 [==============================] - 0s 8ms/step - loss: 0.0764 - accuracy: 0.9909 - val_loss: 0.3422 - val_accuracy: 0.8800\n",
            "Epoch 52/100\n",
            "10/10 [==============================] - 0s 7ms/step - loss: 0.0656 - accuracy: 0.9909 - val_loss: 0.3586 - val_accuracy: 0.8400\n",
            "Epoch 53/100\n",
            "10/10 [==============================] - 0s 9ms/step - loss: 0.0642 - accuracy: 0.9818 - val_loss: 0.3581 - val_accuracy: 0.8400\n",
            "Epoch 54/100\n",
            "10/10 [==============================] - 0s 6ms/step - loss: 0.0520 - accuracy: 0.9955 - val_loss: 0.3614 - val_accuracy: 0.8400\n",
            "Epoch 55/100\n",
            "10/10 [==============================] - 0s 8ms/step - loss: 0.0930 - accuracy: 0.9591 - val_loss: 0.3612 - val_accuracy: 0.8400\n",
            "Epoch 56/100\n",
            "10/10 [==============================] - 0s 7ms/step - loss: 0.0704 - accuracy: 0.9818 - val_loss: 0.3759 - val_accuracy: 0.8000\n",
            "Epoch 57/100\n",
            "10/10 [==============================] - 0s 7ms/step - loss: 0.0611 - accuracy: 0.9727 - val_loss: 0.3892 - val_accuracy: 0.8000\n",
            "Epoch 58/100\n",
            "10/10 [==============================] - 0s 9ms/step - loss: 0.0875 - accuracy: 0.9682 - val_loss: 0.3869 - val_accuracy: 0.8000\n",
            "Epoch 59/100\n",
            "10/10 [==============================] - 0s 7ms/step - loss: 0.0780 - accuracy: 0.9818 - val_loss: 0.3976 - val_accuracy: 0.7600\n",
            "Epoch 60/100\n",
            "10/10 [==============================] - 0s 7ms/step - loss: 0.0533 - accuracy: 0.9909 - val_loss: 0.4023 - val_accuracy: 0.7600\n",
            "Epoch 61/100\n",
            "10/10 [==============================] - 0s 8ms/step - loss: 0.0705 - accuracy: 0.9909 - val_loss: 0.4114 - val_accuracy: 0.7600\n",
            "Epoch 62/100\n",
            "10/10 [==============================] - 0s 7ms/step - loss: 0.0568 - accuracy: 0.9955 - val_loss: 0.4200 - val_accuracy: 0.7600\n",
            "Epoch 63/100\n",
            "10/10 [==============================] - 0s 9ms/step - loss: 0.0884 - accuracy: 0.9773 - val_loss: 0.4331 - val_accuracy: 0.7600\n",
            "Epoch 64/100\n",
            "10/10 [==============================] - 0s 7ms/step - loss: 0.0620 - accuracy: 0.9864 - val_loss: 0.4522 - val_accuracy: 0.7600\n",
            "Epoch 65/100\n",
            "10/10 [==============================] - 0s 7ms/step - loss: 0.0450 - accuracy: 0.9818 - val_loss: 0.4376 - val_accuracy: 0.7600\n",
            "Epoch 66/100\n",
            "10/10 [==============================] - 0s 9ms/step - loss: 0.0460 - accuracy: 0.9909 - val_loss: 0.4168 - val_accuracy: 0.7600\n",
            "Epoch 67/100\n",
            "10/10 [==============================] - 0s 8ms/step - loss: 0.0481 - accuracy: 0.9864 - val_loss: 0.4173 - val_accuracy: 0.7600\n",
            "Epoch 68/100\n",
            "10/10 [==============================] - 0s 9ms/step - loss: 0.0578 - accuracy: 0.9818 - val_loss: 0.4224 - val_accuracy: 0.7600\n",
            "Epoch 69/100\n",
            "10/10 [==============================] - 0s 7ms/step - loss: 0.0431 - accuracy: 0.9864 - val_loss: 0.4306 - val_accuracy: 0.8000\n",
            "Epoch 70/100\n",
            "10/10 [==============================] - 0s 8ms/step - loss: 0.0724 - accuracy: 0.9864 - val_loss: 0.4217 - val_accuracy: 0.8400\n",
            "Epoch 71/100\n",
            "10/10 [==============================] - 0s 7ms/step - loss: 0.0566 - accuracy: 0.9864 - val_loss: 0.4104 - val_accuracy: 0.8000\n",
            "Epoch 72/100\n",
            "10/10 [==============================] - 0s 9ms/step - loss: 0.0263 - accuracy: 1.0000 - val_loss: 0.4132 - val_accuracy: 0.8000\n",
            "Epoch 73/100\n",
            "10/10 [==============================] - 0s 7ms/step - loss: 0.0291 - accuracy: 0.9909 - val_loss: 0.4254 - val_accuracy: 0.8000\n",
            "Epoch 74/100\n",
            "10/10 [==============================] - 0s 7ms/step - loss: 0.0424 - accuracy: 0.9909 - val_loss: 0.4257 - val_accuracy: 0.8000\n",
            "Epoch 75/100\n",
            "10/10 [==============================] - 0s 9ms/step - loss: 0.0353 - accuracy: 0.9909 - val_loss: 0.4366 - val_accuracy: 0.7600\n",
            "Epoch 76/100\n",
            "10/10 [==============================] - 0s 7ms/step - loss: 0.0501 - accuracy: 0.9818 - val_loss: 0.4421 - val_accuracy: 0.8000\n",
            "Epoch 77/100\n",
            "10/10 [==============================] - 0s 8ms/step - loss: 0.0562 - accuracy: 0.9864 - val_loss: 0.4509 - val_accuracy: 0.7600\n",
            "Epoch 78/100\n",
            "10/10 [==============================] - 0s 8ms/step - loss: 0.0526 - accuracy: 0.9818 - val_loss: 0.4506 - val_accuracy: 0.7600\n",
            "Epoch 79/100\n",
            "10/10 [==============================] - 0s 7ms/step - loss: 0.0285 - accuracy: 0.9955 - val_loss: 0.4345 - val_accuracy: 0.8000\n",
            "Epoch 80/100\n",
            "10/10 [==============================] - 0s 9ms/step - loss: 0.0399 - accuracy: 0.9955 - val_loss: 0.4356 - val_accuracy: 0.8000\n",
            "Epoch 81/100\n",
            "10/10 [==============================] - 0s 9ms/step - loss: 0.0691 - accuracy: 0.9818 - val_loss: 0.4382 - val_accuracy: 0.8000\n",
            "Epoch 82/100\n",
            "10/10 [==============================] - 0s 7ms/step - loss: 0.0397 - accuracy: 0.9864 - val_loss: 0.4344 - val_accuracy: 0.8000\n",
            "Epoch 83/100\n",
            "10/10 [==============================] - 0s 9ms/step - loss: 0.0402 - accuracy: 0.9864 - val_loss: 0.4287 - val_accuracy: 0.8000\n",
            "Epoch 84/100\n",
            "10/10 [==============================] - 0s 6ms/step - loss: 0.0652 - accuracy: 0.9727 - val_loss: 0.4212 - val_accuracy: 0.8000\n",
            "Epoch 85/100\n",
            "10/10 [==============================] - 0s 7ms/step - loss: 0.0370 - accuracy: 0.9909 - val_loss: 0.4050 - val_accuracy: 0.8000\n",
            "Epoch 86/100\n",
            "10/10 [==============================] - 0s 8ms/step - loss: 0.0413 - accuracy: 0.9818 - val_loss: 0.3918 - val_accuracy: 0.8400\n",
            "Epoch 87/100\n",
            "10/10 [==============================] - 0s 9ms/step - loss: 0.0247 - accuracy: 0.9955 - val_loss: 0.3917 - val_accuracy: 0.8400\n",
            "Epoch 88/100\n",
            "10/10 [==============================] - 0s 10ms/step - loss: 0.0285 - accuracy: 1.0000 - val_loss: 0.4045 - val_accuracy: 0.8400\n",
            "Epoch 89/100\n",
            "10/10 [==============================] - 0s 7ms/step - loss: 0.0228 - accuracy: 0.9955 - val_loss: 0.4184 - val_accuracy: 0.8400\n",
            "Epoch 90/100\n",
            "10/10 [==============================] - 0s 8ms/step - loss: 0.0255 - accuracy: 0.9955 - val_loss: 0.4337 - val_accuracy: 0.8400\n",
            "Epoch 91/100\n",
            "10/10 [==============================] - 0s 8ms/step - loss: 0.0746 - accuracy: 0.9636 - val_loss: 0.4180 - val_accuracy: 0.8400\n",
            "Epoch 92/100\n",
            "10/10 [==============================] - 0s 6ms/step - loss: 0.0169 - accuracy: 1.0000 - val_loss: 0.3890 - val_accuracy: 0.8400\n",
            "Epoch 93/100\n",
            "10/10 [==============================] - 0s 9ms/step - loss: 0.0379 - accuracy: 0.9909 - val_loss: 0.3757 - val_accuracy: 0.8400\n",
            "Epoch 94/100\n",
            "10/10 [==============================] - 0s 6ms/step - loss: 0.0251 - accuracy: 0.9955 - val_loss: 0.3829 - val_accuracy: 0.8400\n",
            "Epoch 95/100\n",
            "10/10 [==============================] - 0s 9ms/step - loss: 0.0282 - accuracy: 0.9955 - val_loss: 0.3790 - val_accuracy: 0.8400\n",
            "Epoch 96/100\n",
            "10/10 [==============================] - 0s 8ms/step - loss: 0.0114 - accuracy: 1.0000 - val_loss: 0.3792 - val_accuracy: 0.8400\n",
            "Epoch 97/100\n",
            "10/10 [==============================] - 0s 7ms/step - loss: 0.0270 - accuracy: 0.9955 - val_loss: 0.3637 - val_accuracy: 0.8400\n",
            "Epoch 98/100\n",
            "10/10 [==============================] - 0s 8ms/step - loss: 0.0617 - accuracy: 0.9773 - val_loss: 0.3617 - val_accuracy: 0.8400\n",
            "Epoch 99/100\n",
            "10/10 [==============================] - 0s 9ms/step - loss: 0.0416 - accuracy: 0.9818 - val_loss: 0.3535 - val_accuracy: 0.8400\n",
            "Epoch 100/100\n",
            "10/10 [==============================] - 0s 7ms/step - loss: 0.0127 - accuracy: 1.0000 - val_loss: 0.3466 - val_accuracy: 0.8400\n"
          ]
        }
      ],
      "source": [
        "model_1 = model.fit(std_x, y, epochs=100, batch_size=22, validation_split=0.1)"
      ]
    },
    {
      "cell_type": "code",
      "source": [
        "\n",
        "import seaborn as sns\n",
        "import matplotlib.pyplot as plt\n",
        "\n",
        "# Train the model and obtain accuracy values\n",
        "model_1 = model.fit(std_x, y, epochs=100, batch_size=22, validation_split=0.1)\n",
        "train_accuracy = model_1.history['accuracy']\n",
        "validation_accuracy = model_1.history['val_accuracy']\n",
        "\n",
        "# Create a range of epochs for the x-axis\n",
        "epochs = range(1, len(train_accuracy) + 1)\n",
        "\n",
        "# Set Seaborn theme and color palette\n",
        "sns.set_theme(style=\"whitegrid\")\n",
        "sns.set_palette(\"husl\")\n",
        "\n",
        "# Plot the accuracy graph using Seaborn\n",
        "plt.figure(figsize=(8, 4))\n",
        "sns.lineplot(x=epochs, y=train_accuracy, label='Training Accuracy', linestyle='-', marker='o')\n",
        "sns.lineplot(x=epochs, y=validation_accuracy, label='Validation Accuracy', linestyle='--', marker='s')\n",
        "plt.title('Training and Validation Accuracy')\n",
        "plt.xlabel('Epochs')\n",
        "plt.ylabel('Accuracy')\n",
        "plt.legend()\n",
        "plt.grid(True)\n",
        "plt.show()\n",
        "\n"
      ],
      "metadata": {
        "colab": {
          "base_uri": "https://localhost:8080/",
          "height": 1000
        },
        "id": "Tfk6CKZHg_uj",
        "outputId": "95de5b5b-aa2a-4135-8045-a5ed2aca8b8b"
      },
      "execution_count": 546,
      "outputs": [
        {
          "output_type": "stream",
          "name": "stdout",
          "text": [
            "Epoch 1/100\n",
            "10/10 [==============================] - 0s 10ms/step - loss: 0.0235 - accuracy: 0.9955 - val_loss: 0.3551 - val_accuracy: 0.8400\n",
            "Epoch 2/100\n",
            "10/10 [==============================] - 0s 8ms/step - loss: 0.0307 - accuracy: 0.9864 - val_loss: 0.3484 - val_accuracy: 0.8400\n",
            "Epoch 3/100\n",
            "10/10 [==============================] - 0s 7ms/step - loss: 0.0387 - accuracy: 0.9818 - val_loss: 0.3466 - val_accuracy: 0.8400\n",
            "Epoch 4/100\n",
            "10/10 [==============================] - 0s 7ms/step - loss: 0.0124 - accuracy: 1.0000 - val_loss: 0.3415 - val_accuracy: 0.8400\n",
            "Epoch 5/100\n",
            "10/10 [==============================] - 0s 7ms/step - loss: 0.0116 - accuracy: 1.0000 - val_loss: 0.3352 - val_accuracy: 0.8400\n",
            "Epoch 6/100\n",
            "10/10 [==============================] - 0s 7ms/step - loss: 0.0226 - accuracy: 0.9955 - val_loss: 0.3619 - val_accuracy: 0.8400\n",
            "Epoch 7/100\n",
            "10/10 [==============================] - 0s 10ms/step - loss: 0.0237 - accuracy: 0.9955 - val_loss: 0.3765 - val_accuracy: 0.8400\n",
            "Epoch 8/100\n",
            "10/10 [==============================] - 0s 7ms/step - loss: 0.0125 - accuracy: 1.0000 - val_loss: 0.3801 - val_accuracy: 0.8400\n",
            "Epoch 9/100\n",
            "10/10 [==============================] - 0s 10ms/step - loss: 0.0135 - accuracy: 1.0000 - val_loss: 0.3803 - val_accuracy: 0.8400\n",
            "Epoch 10/100\n",
            "10/10 [==============================] - 0s 9ms/step - loss: 0.0173 - accuracy: 0.9955 - val_loss: 0.3913 - val_accuracy: 0.8400\n",
            "Epoch 11/100\n",
            "10/10 [==============================] - 0s 7ms/step - loss: 0.0130 - accuracy: 0.9955 - val_loss: 0.4005 - val_accuracy: 0.8400\n",
            "Epoch 12/100\n",
            "10/10 [==============================] - 0s 7ms/step - loss: 0.0077 - accuracy: 1.0000 - val_loss: 0.4031 - val_accuracy: 0.8400\n",
            "Epoch 13/100\n",
            "10/10 [==============================] - 0s 7ms/step - loss: 0.0149 - accuracy: 0.9955 - val_loss: 0.4151 - val_accuracy: 0.8400\n",
            "Epoch 14/100\n",
            "10/10 [==============================] - 0s 6ms/step - loss: 0.0300 - accuracy: 0.9864 - val_loss: 0.4325 - val_accuracy: 0.8400\n",
            "Epoch 15/100\n",
            "10/10 [==============================] - 0s 7ms/step - loss: 0.0190 - accuracy: 1.0000 - val_loss: 0.4456 - val_accuracy: 0.8400\n",
            "Epoch 16/100\n",
            "10/10 [==============================] - 0s 7ms/step - loss: 0.0248 - accuracy: 0.9909 - val_loss: 0.4465 - val_accuracy: 0.8400\n",
            "Epoch 17/100\n",
            "10/10 [==============================] - 0s 10ms/step - loss: 0.0155 - accuracy: 1.0000 - val_loss: 0.4369 - val_accuracy: 0.8400\n",
            "Epoch 18/100\n",
            "10/10 [==============================] - 0s 9ms/step - loss: 0.0102 - accuracy: 1.0000 - val_loss: 0.4359 - val_accuracy: 0.8400\n",
            "Epoch 19/100\n",
            "10/10 [==============================] - 0s 8ms/step - loss: 0.0171 - accuracy: 0.9955 - val_loss: 0.4462 - val_accuracy: 0.8400\n",
            "Epoch 20/100\n",
            "10/10 [==============================] - 0s 6ms/step - loss: 0.0183 - accuracy: 0.9955 - val_loss: 0.4485 - val_accuracy: 0.8400\n",
            "Epoch 21/100\n",
            "10/10 [==============================] - 0s 8ms/step - loss: 0.0376 - accuracy: 0.9773 - val_loss: 0.4447 - val_accuracy: 0.8000\n",
            "Epoch 22/100\n",
            "10/10 [==============================] - 0s 12ms/step - loss: 0.0208 - accuracy: 0.9955 - val_loss: 0.4240 - val_accuracy: 0.8000\n",
            "Epoch 23/100\n",
            "10/10 [==============================] - 0s 11ms/step - loss: 0.0105 - accuracy: 1.0000 - val_loss: 0.4145 - val_accuracy: 0.8000\n",
            "Epoch 24/100\n",
            "10/10 [==============================] - 0s 11ms/step - loss: 0.0346 - accuracy: 0.9909 - val_loss: 0.3950 - val_accuracy: 0.8400\n",
            "Epoch 25/100\n",
            "10/10 [==============================] - 0s 10ms/step - loss: 0.0117 - accuracy: 1.0000 - val_loss: 0.3841 - val_accuracy: 0.8400\n",
            "Epoch 26/100\n",
            "10/10 [==============================] - 0s 11ms/step - loss: 0.0176 - accuracy: 1.0000 - val_loss: 0.3747 - val_accuracy: 0.8400\n",
            "Epoch 27/100\n",
            "10/10 [==============================] - 0s 13ms/step - loss: 0.0156 - accuracy: 0.9955 - val_loss: 0.3766 - val_accuracy: 0.8400\n",
            "Epoch 28/100\n",
            "10/10 [==============================] - 0s 9ms/step - loss: 0.0275 - accuracy: 0.9955 - val_loss: 0.3772 - val_accuracy: 0.8400\n",
            "Epoch 29/100\n",
            "10/10 [==============================] - 0s 9ms/step - loss: 0.0136 - accuracy: 0.9955 - val_loss: 0.3459 - val_accuracy: 0.8400\n",
            "Epoch 30/100\n",
            "10/10 [==============================] - 0s 11ms/step - loss: 0.0148 - accuracy: 0.9955 - val_loss: 0.3420 - val_accuracy: 0.8400\n",
            "Epoch 31/100\n",
            "10/10 [==============================] - 0s 10ms/step - loss: 0.0278 - accuracy: 0.9909 - val_loss: 0.3058 - val_accuracy: 0.8400\n",
            "Epoch 32/100\n",
            "10/10 [==============================] - 0s 12ms/step - loss: 0.0339 - accuracy: 0.9909 - val_loss: 0.2599 - val_accuracy: 0.8800\n",
            "Epoch 33/100\n",
            "10/10 [==============================] - 0s 11ms/step - loss: 0.0109 - accuracy: 1.0000 - val_loss: 0.2383 - val_accuracy: 0.8800\n",
            "Epoch 34/100\n",
            "10/10 [==============================] - 0s 12ms/step - loss: 0.0202 - accuracy: 0.9864 - val_loss: 0.2319 - val_accuracy: 0.8800\n",
            "Epoch 35/100\n",
            "10/10 [==============================] - 0s 11ms/step - loss: 0.0132 - accuracy: 0.9955 - val_loss: 0.2285 - val_accuracy: 0.8800\n",
            "Epoch 36/100\n",
            "10/10 [==============================] - 0s 11ms/step - loss: 0.0082 - accuracy: 1.0000 - val_loss: 0.2218 - val_accuracy: 0.8800\n",
            "Epoch 37/100\n",
            "10/10 [==============================] - 0s 8ms/step - loss: 0.0141 - accuracy: 0.9955 - val_loss: 0.2209 - val_accuracy: 0.9200\n",
            "Epoch 38/100\n",
            "10/10 [==============================] - 0s 9ms/step - loss: 0.0163 - accuracy: 0.9955 - val_loss: 0.2216 - val_accuracy: 0.9200\n",
            "Epoch 39/100\n",
            "10/10 [==============================] - 0s 10ms/step - loss: 0.0189 - accuracy: 0.9955 - val_loss: 0.2166 - val_accuracy: 0.9200\n",
            "Epoch 40/100\n",
            "10/10 [==============================] - 0s 9ms/step - loss: 0.0200 - accuracy: 0.9955 - val_loss: 0.2128 - val_accuracy: 0.9200\n",
            "Epoch 41/100\n",
            "10/10 [==============================] - 0s 8ms/step - loss: 0.0144 - accuracy: 0.9955 - val_loss: 0.2218 - val_accuracy: 0.9200\n",
            "Epoch 42/100\n",
            "10/10 [==============================] - 0s 10ms/step - loss: 0.0235 - accuracy: 0.9909 - val_loss: 0.2174 - val_accuracy: 0.8800\n",
            "Epoch 43/100\n",
            "10/10 [==============================] - 0s 7ms/step - loss: 0.0140 - accuracy: 0.9955 - val_loss: 0.2325 - val_accuracy: 0.8800\n",
            "Epoch 44/100\n",
            "10/10 [==============================] - 0s 9ms/step - loss: 0.0324 - accuracy: 0.9864 - val_loss: 0.1944 - val_accuracy: 0.9600\n",
            "Epoch 45/100\n",
            "10/10 [==============================] - 0s 8ms/step - loss: 0.0122 - accuracy: 1.0000 - val_loss: 0.1881 - val_accuracy: 0.9600\n",
            "Epoch 46/100\n",
            "10/10 [==============================] - 0s 9ms/step - loss: 0.0144 - accuracy: 1.0000 - val_loss: 0.1901 - val_accuracy: 0.9600\n",
            "Epoch 47/100\n",
            "10/10 [==============================] - 0s 10ms/step - loss: 0.0134 - accuracy: 1.0000 - val_loss: 0.1899 - val_accuracy: 0.9600\n",
            "Epoch 48/100\n",
            "10/10 [==============================] - 0s 8ms/step - loss: 0.0280 - accuracy: 0.9864 - val_loss: 0.1975 - val_accuracy: 0.9600\n",
            "Epoch 49/100\n",
            "10/10 [==============================] - 0s 10ms/step - loss: 0.0056 - accuracy: 1.0000 - val_loss: 0.1992 - val_accuracy: 0.9600\n",
            "Epoch 50/100\n",
            "10/10 [==============================] - 0s 12ms/step - loss: 0.0229 - accuracy: 0.9955 - val_loss: 0.2012 - val_accuracy: 0.9200\n",
            "Epoch 51/100\n",
            "10/10 [==============================] - 0s 10ms/step - loss: 0.0213 - accuracy: 0.9955 - val_loss: 0.1982 - val_accuracy: 0.9200\n",
            "Epoch 52/100\n",
            "10/10 [==============================] - 0s 11ms/step - loss: 0.0113 - accuracy: 1.0000 - val_loss: 0.2040 - val_accuracy: 0.9200\n",
            "Epoch 53/100\n",
            "10/10 [==============================] - 0s 11ms/step - loss: 0.0091 - accuracy: 1.0000 - val_loss: 0.2019 - val_accuracy: 0.9200\n",
            "Epoch 54/100\n",
            "10/10 [==============================] - 0s 10ms/step - loss: 0.0101 - accuracy: 0.9955 - val_loss: 0.2071 - val_accuracy: 0.9200\n",
            "Epoch 55/100\n",
            "10/10 [==============================] - 0s 11ms/step - loss: 0.0050 - accuracy: 1.0000 - val_loss: 0.2073 - val_accuracy: 0.9200\n",
            "Epoch 56/100\n",
            "10/10 [==============================] - 0s 9ms/step - loss: 0.0170 - accuracy: 0.9909 - val_loss: 0.2102 - val_accuracy: 0.9200\n",
            "Epoch 57/100\n",
            "10/10 [==============================] - 0s 9ms/step - loss: 0.0420 - accuracy: 0.9818 - val_loss: 0.2115 - val_accuracy: 0.9200\n",
            "Epoch 58/100\n",
            "10/10 [==============================] - 0s 6ms/step - loss: 0.0106 - accuracy: 1.0000 - val_loss: 0.2188 - val_accuracy: 0.9200\n",
            "Epoch 59/100\n",
            "10/10 [==============================] - 0s 7ms/step - loss: 0.0238 - accuracy: 0.9909 - val_loss: 0.2115 - val_accuracy: 0.9200\n",
            "Epoch 60/100\n",
            "10/10 [==============================] - 0s 8ms/step - loss: 0.0109 - accuracy: 0.9955 - val_loss: 0.2077 - val_accuracy: 0.9200\n",
            "Epoch 61/100\n",
            "10/10 [==============================] - 0s 7ms/step - loss: 0.0111 - accuracy: 0.9955 - val_loss: 0.2143 - val_accuracy: 0.9200\n",
            "Epoch 62/100\n",
            "10/10 [==============================] - 0s 7ms/step - loss: 0.0184 - accuracy: 0.9864 - val_loss: 0.2027 - val_accuracy: 0.9200\n",
            "Epoch 63/100\n",
            "10/10 [==============================] - 0s 6ms/step - loss: 0.0376 - accuracy: 0.9864 - val_loss: 0.1902 - val_accuracy: 0.9200\n",
            "Epoch 64/100\n",
            "10/10 [==============================] - 0s 8ms/step - loss: 0.0341 - accuracy: 0.9909 - val_loss: 0.1856 - val_accuracy: 0.9200\n",
            "Epoch 65/100\n",
            "10/10 [==============================] - 0s 6ms/step - loss: 0.0326 - accuracy: 0.9909 - val_loss: 0.1664 - val_accuracy: 0.9200\n",
            "Epoch 66/100\n",
            "10/10 [==============================] - 0s 6ms/step - loss: 0.0060 - accuracy: 1.0000 - val_loss: 0.1562 - val_accuracy: 0.9200\n",
            "Epoch 67/100\n",
            "10/10 [==============================] - 0s 7ms/step - loss: 0.0183 - accuracy: 0.9955 - val_loss: 0.1494 - val_accuracy: 0.9200\n",
            "Epoch 68/100\n",
            "10/10 [==============================] - 0s 7ms/step - loss: 0.0207 - accuracy: 0.9909 - val_loss: 0.1431 - val_accuracy: 0.9200\n",
            "Epoch 69/100\n",
            "10/10 [==============================] - 0s 9ms/step - loss: 0.0053 - accuracy: 1.0000 - val_loss: 0.1428 - val_accuracy: 0.9200\n",
            "Epoch 70/100\n",
            "10/10 [==============================] - 0s 6ms/step - loss: 0.0122 - accuracy: 1.0000 - val_loss: 0.1439 - val_accuracy: 0.9200\n",
            "Epoch 71/100\n",
            "10/10 [==============================] - 0s 8ms/step - loss: 0.0263 - accuracy: 0.9909 - val_loss: 0.1387 - val_accuracy: 0.9200\n",
            "Epoch 72/100\n",
            "10/10 [==============================] - 0s 6ms/step - loss: 0.0046 - accuracy: 1.0000 - val_loss: 0.1341 - val_accuracy: 0.9200\n",
            "Epoch 73/100\n",
            "10/10 [==============================] - 0s 7ms/step - loss: 0.0147 - accuracy: 0.9955 - val_loss: 0.1308 - val_accuracy: 0.9200\n",
            "Epoch 74/100\n",
            "10/10 [==============================] - 0s 7ms/step - loss: 0.0248 - accuracy: 0.9909 - val_loss: 0.1315 - val_accuracy: 0.9200\n",
            "Epoch 75/100\n",
            "10/10 [==============================] - 0s 8ms/step - loss: 0.0333 - accuracy: 0.9909 - val_loss: 0.1370 - val_accuracy: 0.9200\n",
            "Epoch 76/100\n",
            "10/10 [==============================] - 0s 6ms/step - loss: 0.0103 - accuracy: 0.9955 - val_loss: 0.1361 - val_accuracy: 0.9200\n",
            "Epoch 77/100\n",
            "10/10 [==============================] - 0s 7ms/step - loss: 0.0370 - accuracy: 0.9864 - val_loss: 0.1447 - val_accuracy: 0.9200\n",
            "Epoch 78/100\n",
            "10/10 [==============================] - 0s 8ms/step - loss: 0.0322 - accuracy: 0.9864 - val_loss: 0.1537 - val_accuracy: 0.9200\n",
            "Epoch 79/100\n",
            "10/10 [==============================] - 0s 6ms/step - loss: 0.0174 - accuracy: 0.9909 - val_loss: 0.1579 - val_accuracy: 0.9200\n",
            "Epoch 80/100\n",
            "10/10 [==============================] - 0s 7ms/step - loss: 0.0282 - accuracy: 0.9955 - val_loss: 0.1626 - val_accuracy: 0.9200\n",
            "Epoch 81/100\n",
            "10/10 [==============================] - 0s 9ms/step - loss: 0.0085 - accuracy: 0.9955 - val_loss: 0.1597 - val_accuracy: 0.9200\n",
            "Epoch 82/100\n",
            "10/10 [==============================] - 0s 7ms/step - loss: 0.0196 - accuracy: 0.9955 - val_loss: 0.1613 - val_accuracy: 0.9200\n",
            "Epoch 83/100\n",
            "10/10 [==============================] - 0s 7ms/step - loss: 0.0253 - accuracy: 0.9909 - val_loss: 0.1641 - val_accuracy: 0.9200\n",
            "Epoch 84/100\n",
            "10/10 [==============================] - 0s 7ms/step - loss: 0.0129 - accuracy: 0.9955 - val_loss: 0.1596 - val_accuracy: 0.9200\n",
            "Epoch 85/100\n",
            "10/10 [==============================] - 0s 7ms/step - loss: 0.0033 - accuracy: 1.0000 - val_loss: 0.1573 - val_accuracy: 0.9200\n",
            "Epoch 86/100\n",
            "10/10 [==============================] - 0s 7ms/step - loss: 0.0352 - accuracy: 0.9864 - val_loss: 0.1737 - val_accuracy: 0.8800\n",
            "Epoch 87/100\n",
            "10/10 [==============================] - 0s 6ms/step - loss: 0.0083 - accuracy: 1.0000 - val_loss: 0.1822 - val_accuracy: 0.8800\n",
            "Epoch 88/100\n",
            "10/10 [==============================] - 0s 6ms/step - loss: 0.0263 - accuracy: 0.9864 - val_loss: 0.1861 - val_accuracy: 0.8800\n",
            "Epoch 89/100\n",
            "10/10 [==============================] - 0s 8ms/step - loss: 0.0143 - accuracy: 0.9955 - val_loss: 0.1829 - val_accuracy: 0.8800\n",
            "Epoch 90/100\n",
            "10/10 [==============================] - 0s 7ms/step - loss: 0.0071 - accuracy: 1.0000 - val_loss: 0.1811 - val_accuracy: 0.8800\n",
            "Epoch 91/100\n",
            "10/10 [==============================] - 0s 7ms/step - loss: 0.0053 - accuracy: 1.0000 - val_loss: 0.1744 - val_accuracy: 0.8800\n",
            "Epoch 92/100\n",
            "10/10 [==============================] - 0s 6ms/step - loss: 0.0063 - accuracy: 1.0000 - val_loss: 0.1744 - val_accuracy: 0.8800\n",
            "Epoch 93/100\n",
            "10/10 [==============================] - 0s 6ms/step - loss: 0.0136 - accuracy: 0.9955 - val_loss: 0.1705 - val_accuracy: 0.8800\n",
            "Epoch 94/100\n",
            "10/10 [==============================] - 0s 7ms/step - loss: 0.0358 - accuracy: 0.9909 - val_loss: 0.1645 - val_accuracy: 0.8800\n",
            "Epoch 95/100\n",
            "10/10 [==============================] - 0s 6ms/step - loss: 0.0333 - accuracy: 0.9909 - val_loss: 0.1395 - val_accuracy: 0.9600\n",
            "Epoch 96/100\n",
            "10/10 [==============================] - 0s 6ms/step - loss: 0.0271 - accuracy: 0.9909 - val_loss: 0.1296 - val_accuracy: 0.9600\n",
            "Epoch 97/100\n",
            "10/10 [==============================] - 0s 8ms/step - loss: 0.0082 - accuracy: 1.0000 - val_loss: 0.1200 - val_accuracy: 0.9600\n",
            "Epoch 98/100\n",
            "10/10 [==============================] - 0s 8ms/step - loss: 0.0097 - accuracy: 1.0000 - val_loss: 0.1164 - val_accuracy: 0.9600\n",
            "Epoch 99/100\n",
            "10/10 [==============================] - 0s 6ms/step - loss: 0.0175 - accuracy: 0.9955 - val_loss: 0.1167 - val_accuracy: 0.9600\n",
            "Epoch 100/100\n",
            "10/10 [==============================] - 0s 6ms/step - loss: 0.0076 - accuracy: 1.0000 - val_loss: 0.1171 - val_accuracy: 0.9600\n"
          ]
        },
        {
          "output_type": "display_data",
          "data": {
            "text/plain": [
              "<Figure size 800x400 with 1 Axes>"
            ],
            "image/png": "[encoded data removed]"
          },
          "metadata": {}
        }
      ]
    },
    {
      "cell_type": "code",
      "execution_count": 542,
      "metadata": {
        "id": "lma3Kx-Nyb5T",
        "colab": {
          "base_uri": "https://localhost:8080/",
          "height": 480
        },
        "outputId": "4a9acf54-bb67-4e6a-ea6a-9642f2ec9483"
      },
      "outputs": [
        {
          "output_type": "display_data",
          "data": {
            "text/plain": [
              "<Figure size 640x480 with 1 Axes>"
            ],
            "image/png": "[encoded data removed]"
          },
          "metadata": {}
        }
      ],
      "source": [
        "import seaborn as sns\n",
        "import matplotlib.pyplot as plt\n",
        "from sklearn.metrics import recall_score\n",
        "\n",
        "# Set Seaborn theme\n",
        "sns.set_theme(style=\"whitegrid\")\n",
        "\n",
        "# Define the models and their corresponding scores\n",
        "models = ['Model 1', 'Model 2', 'Model 3', 'Model 4']\n",
        "precision_scores = [precision_score(train_pred_gb, y),\n",
        "                    precision_score(y_train_re, train_pred), precision_score(y_test_re, test_pred_rf),\n",
        "                    precision_score(y_test_re, test_pred_rf)]\n",
        "f1_scores = [f1_score(train_pred_gb, y),\n",
        "             f1_score(y_train_re, train_pred), f1_score(y_test_re, test_pred_rf),\n",
        "             f1_score(y_test_re, test_pred_rf)]\n",
        "\n",
        "recall_scores = [recall_score(train_pred_gb, y),\n",
        "                 recall_score(y_train_re, train_pred), recall_score(y_test_re, test_pred_rf),\n",
        "                 recall_score(y_test_re, test_pred_rf)]\n",
        "\n",
        "# Create a DataFrame for the scores\n",
        "data = {'Model': models, 'Precision': precision_scores, 'F1 Score': f1_scores, 'Recall Score': recall_scores}\n",
        "df_scores = pd.DataFrame(data)\n",
        "\n",
        "# Melt the DataFrame for easier plotting\n",
        "df_melt = df_scores.melt('Model', var_name='Metric', value_name='Score')\n",
        "\n",
        "# Plot bar chart using Seaborn\n",
        "sns.barplot(x='Model', y='Score', hue='Metric', data=df_melt, palette='Set2')\n",
        "plt.xlabel('Model')\n",
        "plt.ylabel('Score')\n",
        "plt.title('Precision, F1 Score, and Recall Score Comparison')\n",
        "plt.legend(loc='best')\n",
        "plt.show()\n"
      ]
    },
    {
      "cell_type": "code",
      "source": [
        "import matplotlib.pyplot as plt\n",
        "import seaborn as sns\n",
        "\n",
        "\n",
        "model_1 = model.fit(std_x, y, epochs=100, batch_size=22, validation_split=0.1)\n",
        "train_accuracy = model_1.history['accuracy']\n",
        "validation_accuracy = model_1.history['val_accuracy']\n",
        "\n",
        "\n",
        "epochs = range(1, len(train_accuracy) + 1)\n",
        "\n",
        "\n",
        "plt.figure(figsize=(10, 4))\n",
        "\n",
        "plt.subplot(1, 2, 1)\n",
        "plt.plot(epochs, train_accuracy, 'b', label='Training Accuracy')\n",
        "plt.plot(epochs, validation_accuracy, 'r', label='Validation Accuracy')\n",
        "plt.title('Training and Validation Accuracy')\n",
        "plt.xlabel('Epochs')\n",
        "plt.ylabel('Accuracy')\n",
        "plt.legend()\n",
        "plt.grid(True)\n",
        "\n",
        "# Define the models and their corresponding scores\n",
        "models = ['Model 1', 'Model 2', 'Model 3', 'Model 4']\n",
        "precision_scores = [precision_score(train_pred_gb, y),\n",
        "                    precision_score(y_train_re, train_pred), precision_score(y_test_re, test_pred_rf),\n",
        "                    precision_score(y_test_re, test_pred_rf)]\n",
        "f1_scores = [f1_score(train_pred_gb, y),\n",
        "             f1_score(y_train_re, train_pred), f1_score(y_test_re, test_pred_rf),\n",
        "             f1_score(y_test_re, test_pred_rf)]\n",
        "\n",
        "\n",
        "# Create a DataFrame for the scores\n",
        "data = {'Model': models, 'Precision': precision_scores, 'F1 Score': f1_scores}\n",
        "df_scores = pd.DataFrame(data)\n",
        "\n",
        "# Melt the DataFrame for easier plotting\n",
        "df_melt = df_scores.melt('Model', var_name='Metric', value_name='Score')\n",
        "\n",
        "plt.subplot(1, 2, 2)\n",
        "# Plot bar chart using Seaborn\n",
        "sns.barplot(x='Model', y='Score', hue='Metric', data=df_melt, palette='Set2')\n",
        "plt.xlabel('Model')\n",
        "plt.ylabel('Score')\n",
        "plt.title('Precision, F1 Score, and Recall Score Comparison')\n",
        "plt.legend(loc='best')\n",
        "\n",
        "plt.tight_layout()\n",
        "plt.show()\n"
      ],
      "metadata": {
        "colab": {
          "base_uri": "https://localhost:8080/",
          "height": 1000
        },
        "id": "xXtefZOChegI",
        "outputId": "5a668e62-6a5e-435c-aea7-02e8a0b09193"
      },
      "execution_count": 547,
      "outputs": [
        {
          "output_type": "stream",
          "name": "stdout",
          "text": [
            "Epoch 1/100\n",
            "10/10 [==============================] - 0s 15ms/step - loss: 0.0051 - accuracy: 1.0000 - val_loss: 0.1208 - val_accuracy: 0.9600\n",
            "Epoch 2/100\n",
            "10/10 [==============================] - 0s 11ms/step - loss: 0.0109 - accuracy: 0.9955 - val_loss: 0.1204 - val_accuracy: 0.9600\n",
            "Epoch 3/100\n",
            "10/10 [==============================] - 0s 10ms/step - loss: 0.0049 - accuracy: 1.0000 - val_loss: 0.1227 - val_accuracy: 0.9600\n",
            "Epoch 4/100\n",
            "10/10 [==============================] - 0s 9ms/step - loss: 0.0134 - accuracy: 1.0000 - val_loss: 0.1262 - val_accuracy: 0.9600\n",
            "Epoch 5/100\n",
            "10/10 [==============================] - 0s 10ms/step - loss: 0.0049 - accuracy: 1.0000 - val_loss: 0.1266 - val_accuracy: 0.9600\n",
            "Epoch 6/100\n",
            "10/10 [==============================] - 0s 8ms/step - loss: 0.0052 - accuracy: 1.0000 - val_loss: 0.1290 - val_accuracy: 0.9600\n",
            "Epoch 7/100\n",
            "10/10 [==============================] - 0s 11ms/step - loss: 0.0061 - accuracy: 1.0000 - val_loss: 0.1362 - val_accuracy: 0.9600\n",
            "Epoch 8/100\n",
            "10/10 [==============================] - 0s 11ms/step - loss: 0.0042 - accuracy: 1.0000 - val_loss: 0.1422 - val_accuracy: 0.9600\n",
            "Epoch 9/100\n",
            "10/10 [==============================] - 0s 10ms/step - loss: 0.0150 - accuracy: 0.9955 - val_loss: 0.1433 - val_accuracy: 0.9600\n",
            "Epoch 10/100\n",
            "10/10 [==============================] - 0s 11ms/step - loss: 0.0143 - accuracy: 0.9955 - val_loss: 0.1433 - val_accuracy: 0.9600\n",
            "Epoch 11/100\n",
            "10/10 [==============================] - 0s 11ms/step - loss: 0.0175 - accuracy: 0.9909 - val_loss: 0.1472 - val_accuracy: 0.9200\n",
            "Epoch 12/100\n",
            "10/10 [==============================] - 0s 9ms/step - loss: 0.0395 - accuracy: 0.9955 - val_loss: 0.1501 - val_accuracy: 0.9600\n",
            "Epoch 13/100\n",
            "10/10 [==============================] - 0s 9ms/step - loss: 0.0256 - accuracy: 0.9955 - val_loss: 0.1384 - val_accuracy: 0.9600\n",
            "Epoch 14/100\n",
            "10/10 [==============================] - 0s 9ms/step - loss: 0.0043 - accuracy: 1.0000 - val_loss: 0.1331 - val_accuracy: 0.9600\n",
            "Epoch 15/100\n",
            "10/10 [==============================] - 0s 11ms/step - loss: 0.0110 - accuracy: 0.9955 - val_loss: 0.1322 - val_accuracy: 0.9600\n",
            "Epoch 16/100\n",
            "10/10 [==============================] - 0s 8ms/step - loss: 0.0040 - accuracy: 1.0000 - val_loss: 0.1330 - val_accuracy: 0.9600\n",
            "Epoch 17/100\n",
            "10/10 [==============================] - 0s 11ms/step - loss: 0.0041 - accuracy: 1.0000 - val_loss: 0.1328 - val_accuracy: 0.9600\n",
            "Epoch 18/100\n",
            "10/10 [==============================] - 0s 9ms/step - loss: 0.0051 - accuracy: 1.0000 - val_loss: 0.1321 - val_accuracy: 0.9600\n",
            "Epoch 19/100\n",
            "10/10 [==============================] - 0s 11ms/step - loss: 0.0041 - accuracy: 1.0000 - val_loss: 0.1304 - val_accuracy: 0.9600\n",
            "Epoch 20/100\n",
            "10/10 [==============================] - 0s 11ms/step - loss: 0.0030 - accuracy: 1.0000 - val_loss: 0.1286 - val_accuracy: 0.9600\n",
            "Epoch 21/100\n",
            "10/10 [==============================] - 0s 12ms/step - loss: 0.0053 - accuracy: 1.0000 - val_loss: 0.1295 - val_accuracy: 0.9600\n",
            "Epoch 22/100\n",
            "10/10 [==============================] - 0s 12ms/step - loss: 0.0260 - accuracy: 0.9909 - val_loss: 0.1372 - val_accuracy: 0.9600\n",
            "Epoch 23/100\n",
            "10/10 [==============================] - 0s 11ms/step - loss: 0.0145 - accuracy: 0.9955 - val_loss: 0.1355 - val_accuracy: 0.9600\n",
            "Epoch 24/100\n",
            "10/10 [==============================] - 0s 12ms/step - loss: 0.0036 - accuracy: 1.0000 - val_loss: 0.1270 - val_accuracy: 0.9600\n",
            "Epoch 25/100\n",
            "10/10 [==============================] - 0s 9ms/step - loss: 0.0052 - accuracy: 1.0000 - val_loss: 0.1232 - val_accuracy: 0.9600\n",
            "Epoch 26/100\n",
            "10/10 [==============================] - 0s 9ms/step - loss: 0.0129 - accuracy: 0.9955 - val_loss: 0.1164 - val_accuracy: 0.9600\n",
            "Epoch 27/100\n",
            "10/10 [==============================] - 0s 7ms/step - loss: 0.0240 - accuracy: 0.9955 - val_loss: 0.1144 - val_accuracy: 0.9600\n",
            "Epoch 28/100\n",
            "10/10 [==============================] - 0s 6ms/step - loss: 0.0068 - accuracy: 1.0000 - val_loss: 0.1143 - val_accuracy: 0.9600\n",
            "Epoch 29/100\n",
            "10/10 [==============================] - 0s 7ms/step - loss: 0.0049 - accuracy: 1.0000 - val_loss: 0.1157 - val_accuracy: 0.9600\n",
            "Epoch 30/100\n",
            "10/10 [==============================] - 0s 8ms/step - loss: 0.0089 - accuracy: 1.0000 - val_loss: 0.1172 - val_accuracy: 0.9600\n",
            "Epoch 31/100\n",
            "10/10 [==============================] - 0s 7ms/step - loss: 0.0167 - accuracy: 0.9955 - val_loss: 0.1177 - val_accuracy: 0.9600\n",
            "Epoch 32/100\n",
            "10/10 [==============================] - 0s 7ms/step - loss: 0.0347 - accuracy: 0.9909 - val_loss: 0.1132 - val_accuracy: 0.9600\n",
            "Epoch 33/100\n",
            "10/10 [==============================] - 0s 7ms/step - loss: 0.0065 - accuracy: 1.0000 - val_loss: 0.1135 - val_accuracy: 0.9600\n",
            "Epoch 34/100\n",
            "10/10 [==============================] - 0s 7ms/step - loss: 0.0083 - accuracy: 0.9955 - val_loss: 0.1136 - val_accuracy: 0.9600\n",
            "Epoch 35/100\n",
            "10/10 [==============================] - 0s 6ms/step - loss: 0.0101 - accuracy: 0.9955 - val_loss: 0.1149 - val_accuracy: 0.9600\n",
            "Epoch 36/100\n",
            "10/10 [==============================] - 0s 8ms/step - loss: 0.0026 - accuracy: 1.0000 - val_loss: 0.1140 - val_accuracy: 0.9600\n",
            "Epoch 37/100\n",
            "10/10 [==============================] - 0s 9ms/step - loss: 0.0057 - accuracy: 1.0000 - val_loss: 0.1171 - val_accuracy: 0.9600\n",
            "Epoch 38/100\n",
            "10/10 [==============================] - 0s 7ms/step - loss: 0.0097 - accuracy: 0.9955 - val_loss: 0.1212 - val_accuracy: 0.9600\n",
            "Epoch 39/100\n",
            "10/10 [==============================] - 0s 8ms/step - loss: 0.0075 - accuracy: 1.0000 - val_loss: 0.1227 - val_accuracy: 0.9600\n",
            "Epoch 40/100\n",
            "10/10 [==============================] - 0s 9ms/step - loss: 0.0051 - accuracy: 1.0000 - val_loss: 0.1235 - val_accuracy: 0.9600\n",
            "Epoch 41/100\n",
            "10/10 [==============================] - 0s 5ms/step - loss: 0.0109 - accuracy: 1.0000 - val_loss: 0.1310 - val_accuracy: 0.9600\n",
            "Epoch 42/100\n",
            "10/10 [==============================] - 0s 6ms/step - loss: 0.0085 - accuracy: 0.9955 - val_loss: 0.1392 - val_accuracy: 0.9600\n",
            "Epoch 43/100\n",
            "10/10 [==============================] - 0s 6ms/step - loss: 0.0093 - accuracy: 0.9955 - val_loss: 0.1506 - val_accuracy: 0.9600\n",
            "Epoch 44/100\n",
            "10/10 [==============================] - 0s 7ms/step - loss: 0.0031 - accuracy: 1.0000 - val_loss: 0.1606 - val_accuracy: 0.9600\n",
            "Epoch 45/100\n",
            "10/10 [==============================] - 0s 6ms/step - loss: 0.0096 - accuracy: 1.0000 - val_loss: 0.1760 - val_accuracy: 0.9200\n",
            "Epoch 46/100\n",
            "10/10 [==============================] - 0s 7ms/step - loss: 0.0088 - accuracy: 1.0000 - val_loss: 0.1867 - val_accuracy: 0.8800\n",
            "Epoch 47/100\n",
            "10/10 [==============================] - 0s 8ms/step - loss: 0.0097 - accuracy: 0.9955 - val_loss: 0.1929 - val_accuracy: 0.8800\n",
            "Epoch 48/100\n",
            "10/10 [==============================] - 0s 7ms/step - loss: 0.0028 - accuracy: 1.0000 - val_loss: 0.1948 - val_accuracy: 0.8800\n",
            "Epoch 49/100\n",
            "10/10 [==============================] - 0s 10ms/step - loss: 0.0012 - accuracy: 1.0000 - val_loss: 0.1909 - val_accuracy: 0.8800\n",
            "Epoch 50/100\n",
            "10/10 [==============================] - 0s 9ms/step - loss: 0.0129 - accuracy: 0.9955 - val_loss: 0.1868 - val_accuracy: 0.8800\n",
            "Epoch 51/100\n",
            "10/10 [==============================] - 0s 7ms/step - loss: 0.0037 - accuracy: 1.0000 - val_loss: 0.1848 - val_accuracy: 0.9600\n",
            "Epoch 52/100\n",
            "10/10 [==============================] - 0s 8ms/step - loss: 0.0074 - accuracy: 1.0000 - val_loss: 0.1920 - val_accuracy: 0.8800\n",
            "Epoch 53/100\n",
            "10/10 [==============================] - 0s 6ms/step - loss: 0.0084 - accuracy: 0.9955 - val_loss: 0.1898 - val_accuracy: 0.9200\n",
            "Epoch 54/100\n",
            "10/10 [==============================] - 0s 7ms/step - loss: 0.0162 - accuracy: 0.9909 - val_loss: 0.1690 - val_accuracy: 0.9600\n",
            "Epoch 55/100\n",
            "10/10 [==============================] - 0s 7ms/step - loss: 0.0014 - accuracy: 1.0000 - val_loss: 0.1647 - val_accuracy: 0.9600\n",
            "Epoch 56/100\n",
            "10/10 [==============================] - 0s 7ms/step - loss: 0.0080 - accuracy: 1.0000 - val_loss: 0.1635 - val_accuracy: 0.9600\n",
            "Epoch 57/100\n",
            "10/10 [==============================] - 0s 6ms/step - loss: 0.0037 - accuracy: 1.0000 - val_loss: 0.1612 - val_accuracy: 0.9600\n",
            "Epoch 58/100\n",
            "10/10 [==============================] - 0s 9ms/step - loss: 0.0150 - accuracy: 0.9909 - val_loss: 0.1510 - val_accuracy: 0.9600\n",
            "Epoch 59/100\n",
            "10/10 [==============================] - 0s 6ms/step - loss: 0.0124 - accuracy: 0.9955 - val_loss: 0.1480 - val_accuracy: 0.9600\n",
            "Epoch 60/100\n",
            "10/10 [==============================] - 0s 9ms/step - loss: 0.0034 - accuracy: 1.0000 - val_loss: 0.1424 - val_accuracy: 0.9600\n",
            "Epoch 61/100\n",
            "10/10 [==============================] - 0s 6ms/step - loss: 0.0188 - accuracy: 0.9909 - val_loss: 0.1396 - val_accuracy: 0.9600\n",
            "Epoch 62/100\n",
            "10/10 [==============================] - 0s 8ms/step - loss: 0.0271 - accuracy: 0.9955 - val_loss: 0.1298 - val_accuracy: 0.9600\n",
            "Epoch 63/100\n",
            "10/10 [==============================] - 0s 7ms/step - loss: 0.0073 - accuracy: 1.0000 - val_loss: 0.1274 - val_accuracy: 0.9600\n",
            "Epoch 64/100\n",
            "10/10 [==============================] - 0s 9ms/step - loss: 0.0099 - accuracy: 1.0000 - val_loss: 0.1194 - val_accuracy: 0.9600\n",
            "Epoch 65/100\n",
            "10/10 [==============================] - 0s 9ms/step - loss: 0.0048 - accuracy: 1.0000 - val_loss: 0.1164 - val_accuracy: 0.9600\n",
            "Epoch 66/100\n",
            "10/10 [==============================] - 0s 8ms/step - loss: 0.0149 - accuracy: 0.9955 - val_loss: 0.1134 - val_accuracy: 0.9600\n",
            "Epoch 67/100\n",
            "10/10 [==============================] - 0s 9ms/step - loss: 0.0028 - accuracy: 1.0000 - val_loss: 0.1125 - val_accuracy: 0.9600\n",
            "Epoch 68/100\n",
            "10/10 [==============================] - 0s 8ms/step - loss: 0.0087 - accuracy: 1.0000 - val_loss: 0.1128 - val_accuracy: 0.9600\n",
            "Epoch 69/100\n",
            "10/10 [==============================] - 0s 7ms/step - loss: 0.0084 - accuracy: 1.0000 - val_loss: 0.1121 - val_accuracy: 0.9600\n",
            "Epoch 70/100\n",
            "10/10 [==============================] - 0s 7ms/step - loss: 0.0174 - accuracy: 0.9955 - val_loss: 0.1103 - val_accuracy: 0.9200\n",
            "Epoch 71/100\n",
            "10/10 [==============================] - 0s 8ms/step - loss: 0.0234 - accuracy: 0.9909 - val_loss: 0.1143 - val_accuracy: 0.9600\n",
            "Epoch 72/100\n",
            "10/10 [==============================] - 0s 6ms/step - loss: 0.0018 - accuracy: 1.0000 - val_loss: 0.1123 - val_accuracy: 0.9600\n",
            "Epoch 73/100\n",
            "10/10 [==============================] - 0s 9ms/step - loss: 0.0071 - accuracy: 0.9955 - val_loss: 0.1128 - val_accuracy: 0.9600\n",
            "Epoch 74/100\n",
            "10/10 [==============================] - 0s 7ms/step - loss: 0.0118 - accuracy: 0.9955 - val_loss: 0.1130 - val_accuracy: 0.9600\n",
            "Epoch 75/100\n",
            "10/10 [==============================] - 0s 7ms/step - loss: 0.0071 - accuracy: 1.0000 - val_loss: 0.1130 - val_accuracy: 0.9600\n",
            "Epoch 76/100\n",
            "10/10 [==============================] - 0s 9ms/step - loss: 0.0075 - accuracy: 1.0000 - val_loss: 0.1186 - val_accuracy: 0.9600\n",
            "Epoch 77/100\n",
            "10/10 [==============================] - 0s 8ms/step - loss: 0.0042 - accuracy: 1.0000 - val_loss: 0.1255 - val_accuracy: 0.9600\n",
            "Epoch 78/100\n",
            "10/10 [==============================] - 0s 7ms/step - loss: 0.0035 - accuracy: 1.0000 - val_loss: 0.1250 - val_accuracy: 0.9600\n",
            "Epoch 79/100\n",
            "10/10 [==============================] - 0s 6ms/step - loss: 0.0055 - accuracy: 0.9955 - val_loss: 0.1215 - val_accuracy: 0.9600\n",
            "Epoch 80/100\n",
            "10/10 [==============================] - 0s 7ms/step - loss: 0.0069 - accuracy: 1.0000 - val_loss: 0.1250 - val_accuracy: 0.9600\n",
            "Epoch 81/100\n",
            "10/10 [==============================] - 0s 7ms/step - loss: 0.0071 - accuracy: 0.9955 - val_loss: 0.1331 - val_accuracy: 0.9600\n",
            "Epoch 82/100\n",
            "10/10 [==============================] - 0s 7ms/step - loss: 0.0087 - accuracy: 1.0000 - val_loss: 0.1332 - val_accuracy: 0.9600\n",
            "Epoch 83/100\n",
            "10/10 [==============================] - 0s 6ms/step - loss: 0.0040 - accuracy: 1.0000 - val_loss: 0.1432 - val_accuracy: 0.9600\n",
            "Epoch 84/100\n",
            "10/10 [==============================] - 0s 9ms/step - loss: 0.0086 - accuracy: 1.0000 - val_loss: 0.1426 - val_accuracy: 0.9600\n",
            "Epoch 85/100\n",
            "10/10 [==============================] - 0s 7ms/step - loss: 0.0056 - accuracy: 0.9955 - val_loss: 0.1472 - val_accuracy: 0.9600\n",
            "Epoch 86/100\n",
            "10/10 [==============================] - 0s 7ms/step - loss: 0.0030 - accuracy: 1.0000 - val_loss: 0.1493 - val_accuracy: 0.9600\n",
            "Epoch 87/100\n",
            "10/10 [==============================] - 0s 7ms/step - loss: 0.0021 - accuracy: 1.0000 - val_loss: 0.1521 - val_accuracy: 0.9600\n",
            "Epoch 88/100\n",
            "10/10 [==============================] - 0s 8ms/step - loss: 0.0107 - accuracy: 0.9955 - val_loss: 0.1560 - val_accuracy: 0.9200\n",
            "Epoch 89/100\n",
            "10/10 [==============================] - 0s 7ms/step - loss: 0.0130 - accuracy: 0.9955 - val_loss: 0.1506 - val_accuracy: 0.9600\n",
            "Epoch 90/100\n",
            "10/10 [==============================] - 0s 10ms/step - loss: 0.0069 - accuracy: 0.9955 - val_loss: 0.1417 - val_accuracy: 0.9600\n",
            "Epoch 91/100\n",
            "10/10 [==============================] - 0s 7ms/step - loss: 0.0020 - accuracy: 1.0000 - val_loss: 0.1317 - val_accuracy: 0.9600\n",
            "Epoch 92/100\n",
            "10/10 [==============================] - 0s 7ms/step - loss: 0.0024 - accuracy: 1.0000 - val_loss: 0.1290 - val_accuracy: 0.9600\n",
            "Epoch 93/100\n",
            "10/10 [==============================] - 0s 9ms/step - loss: 0.0098 - accuracy: 0.9955 - val_loss: 0.1237 - val_accuracy: 0.9600\n",
            "Epoch 94/100\n",
            "10/10 [==============================] - 0s 9ms/step - loss: 0.0014 - accuracy: 1.0000 - val_loss: 0.1220 - val_accuracy: 0.9200\n",
            "Epoch 95/100\n",
            "10/10 [==============================] - 0s 9ms/step - loss: 0.0025 - accuracy: 1.0000 - val_loss: 0.1216 - val_accuracy: 0.9200\n",
            "Epoch 96/100\n",
            "10/10 [==============================] - 0s 8ms/step - loss: 0.0073 - accuracy: 0.9955 - val_loss: 0.1245 - val_accuracy: 0.9200\n",
            "Epoch 97/100\n",
            "10/10 [==============================] - 0s 6ms/step - loss: 0.0011 - accuracy: 1.0000 - val_loss: 0.1246 - val_accuracy: 0.9200\n",
            "Epoch 98/100\n",
            "10/10 [==============================] - 0s 7ms/step - loss: 0.0131 - accuracy: 0.9955 - val_loss: 0.1245 - val_accuracy: 0.9200\n",
            "Epoch 99/100\n",
            "10/10 [==============================] - 0s 9ms/step - loss: 0.0029 - accuracy: 1.0000 - val_loss: 0.1171 - val_accuracy: 0.9200\n",
            "Epoch 100/100\n",
            "10/10 [==============================] - 0s 7ms/step - loss: 0.0029 - accuracy: 1.0000 - val_loss: 0.1172 - val_accuracy: 0.9200\n"
          ]
        },
        {
          "output_type": "display_data",
          "data": {
            "text/plain": [
              "<Figure size 1000x400 with 2 Axes>"
            ],
            "image/png": "[encoded data removed]"
          },
          "metadata": {}
        }
      ]
    },
    {
      "cell_type": "code",
      "source": [],
      "metadata": {
        "id": "nelcf_cqjmBE"
      },
      "execution_count": null,
      "outputs": []
    },
    {
      "cell_type": "markdown",
      "metadata": {
        "id": "INviAAqun7nB"
      },
      "source": [
        "## *** Tier 2 successfully completed***"
      ]
    }
  ],
  "metadata": {
    "colab": {
      "provenance": []
    },
    "kernelspec": {
      "display_name": "Python 3",
      "name": "python3"
    },
    "language_info": {
      "name": "python"
    }
  },
  "nbformat": 4,
  "nbformat_minor": 0
}