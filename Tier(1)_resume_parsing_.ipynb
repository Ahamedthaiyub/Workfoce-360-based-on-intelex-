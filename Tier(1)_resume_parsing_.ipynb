{
 "cells": [
  {
   "cell_type": "markdown",
   "metadata": {
    "id": "Qb1pQIhaFKtz"
   },
   "source": [
    "## *** Intel-One-Api--Hackathon  (DECRYPTORS)***\n"
   ]
  },
  {
   "cell_type": "markdown",
   "metadata": {
    "id": "VrOKcgI5F10Z"
   },
   "source": [
    "# ***Description about the project:***\n",
    "\n",
    "We team Decryptors presents \n",
    "\"WORKFORCE360\", a Machine Learning model that predicts employee attrition to \n",
    "help companies retain valuable employees \n",
    "and reduce costs associated with turnover. \n",
    "Our three-tier solution includes resume \n",
    "parsing, predictive analytics, and \n",
    "performance prediction to provide a \n",
    "comprehensive HR solution that helps \n",
    "companies make informed decisions \n",
    "about recruitment and employee retention.\n",
    "\n",
    "\n"
   ]
  },
  {
   "cell_type": "markdown",
   "metadata": {
    "id": "MZiKcMknB6ew"
   },
   "source": [
    "## *** Installation of required modules**"
   ]
  },
  {
   "cell_type": "code",
   "execution_count": 19,
   "metadata": {
    "colab": {
     "base_uri": "https://localhost:8080/"
    },
    "id": "nfS732Zy9eVq",
    "outputId": "dfe56805-a79c-4e7a-9982-43464be87212"
   },
   "outputs": [
    {
     "name": "stdout",
     "output_type": "stream",
     "text": [
      "Defaulting to user installation because normal site-packages is not writeable\n",
      "Requirement already satisfied: nltk in /home/u191324/.local/lib/python3.9/site-packages (3.8.1)\n",
      "Requirement already satisfied: tqdm in /glob/development-tools/versions/oneapi/2023.0.1/oneapi/intelpython/python3.9/lib/python3.9/site-packages (from nltk) (4.64.0)\n",
      "Requirement already satisfied: joblib in /home/u191324/.local/lib/python3.9/site-packages (from nltk) (1.2.0)\n",
      "Requirement already satisfied: click in /home/u191324/.local/lib/python3.9/site-packages (from nltk) (8.1.3)\n",
      "Requirement already satisfied: regex>=2021.8.3 in /home/u191324/.local/lib/python3.9/site-packages (from nltk) (2023.3.23)\n",
      "Note: you may need to restart the kernel to use updated packages.\n"
     ]
    }
   ],
   "source": [
    "pip install nltk"
   ]
  },
  {
   "cell_type": "code",
   "execution_count": 20,
   "metadata": {},
   "outputs": [],
   "source": [
    "import os\n"
   ]
  },
  {
   "cell_type": "code",
   "execution_count": 21,
   "metadata": {},
   "outputs": [
    {
     "data": {
      "text/plain": [
       "'/home/u191324/inteloneapi hackathon/Untitled Folder/wokforce 360'"
      ]
     },
     "execution_count": 21,
     "metadata": {},
     "output_type": "execute_result"
    }
   ],
   "source": [
    "os.getcwd()"
   ]
  },
  {
   "cell_type": "code",
   "execution_count": null,
   "metadata": {
    "jupyter": {
     "source_hidden": true
    },
    "tags": []
   },
   "outputs": [],
   "source": []
  },
  {
   "cell_type": "code",
   "execution_count": 22,
   "metadata": {
    "colab": {
     "base_uri": "https://localhost:8080/"
    },
    "id": "GwW-agthOz82",
    "outputId": "6fef8d27-da89-466c-d948-7b14478b3b17"
   },
   "outputs": [
    {
     "name": "stderr",
     "output_type": "stream",
     "text": [
      "[nltk_data] Downloading package stopwords to\n",
      "[nltk_data]     /home/u191324/nltk_data...\n",
      "[nltk_data]   Package stopwords is already up-to-date!\n"
     ]
    },
    {
     "data": {
      "text/plain": [
       "True"
      ]
     },
     "execution_count": 22,
     "metadata": {},
     "output_type": "execute_result"
    }
   ],
   "source": [
    "import nltk\n",
    "nltk.download('stopwords')"
   ]
  },
  {
   "cell_type": "code",
   "execution_count": 23,
   "metadata": {
    "colab": {
     "base_uri": "https://localhost:8080/"
    },
    "id": "qf0mxQ3iE-VJ",
    "outputId": "43d92d2e-19db-42ed-f084-30c6d6cad7c3"
   },
   "outputs": [
    {
     "data": {
      "text/plain": [
       "['i',\n",
       " 'me',\n",
       " 'my',\n",
       " 'myself',\n",
       " 'we',\n",
       " 'our',\n",
       " 'ours',\n",
       " 'ourselves',\n",
       " 'you',\n",
       " \"you're\",\n",
       " \"you've\",\n",
       " \"you'll\",\n",
       " \"you'd\",\n",
       " 'your',\n",
       " 'yours',\n",
       " 'yourself',\n",
       " 'yourselves',\n",
       " 'he',\n",
       " 'him',\n",
       " 'his',\n",
       " 'himself',\n",
       " 'she',\n",
       " \"she's\",\n",
       " 'her',\n",
       " 'hers',\n",
       " 'herself',\n",
       " 'it',\n",
       " \"it's\",\n",
       " 'its',\n",
       " 'itself',\n",
       " 'they',\n",
       " 'them',\n",
       " 'their',\n",
       " 'theirs',\n",
       " 'themselves',\n",
       " 'what',\n",
       " 'which',\n",
       " 'who',\n",
       " 'whom',\n",
       " 'this',\n",
       " 'that',\n",
       " \"that'll\",\n",
       " 'these',\n",
       " 'those',\n",
       " 'am',\n",
       " 'is',\n",
       " 'are',\n",
       " 'was',\n",
       " 'were',\n",
       " 'be',\n",
       " 'been',\n",
       " 'being',\n",
       " 'have',\n",
       " 'has',\n",
       " 'had',\n",
       " 'having',\n",
       " 'do',\n",
       " 'does',\n",
       " 'did',\n",
       " 'doing',\n",
       " 'a',\n",
       " 'an',\n",
       " 'the',\n",
       " 'and',\n",
       " 'but',\n",
       " 'if',\n",
       " 'or',\n",
       " 'because',\n",
       " 'as',\n",
       " 'until',\n",
       " 'while',\n",
       " 'of',\n",
       " 'at',\n",
       " 'by',\n",
       " 'for',\n",
       " 'with',\n",
       " 'about',\n",
       " 'against',\n",
       " 'between',\n",
       " 'into',\n",
       " 'through',\n",
       " 'during',\n",
       " 'before',\n",
       " 'after',\n",
       " 'above',\n",
       " 'below',\n",
       " 'to',\n",
       " 'from',\n",
       " 'up',\n",
       " 'down',\n",
       " 'in',\n",
       " 'out',\n",
       " 'on',\n",
       " 'off',\n",
       " 'over',\n",
       " 'under',\n",
       " 'again',\n",
       " 'further',\n",
       " 'then',\n",
       " 'once',\n",
       " 'here',\n",
       " 'there',\n",
       " 'when',\n",
       " 'where',\n",
       " 'why',\n",
       " 'how',\n",
       " 'all',\n",
       " 'any',\n",
       " 'both',\n",
       " 'each',\n",
       " 'few',\n",
       " 'more',\n",
       " 'most',\n",
       " 'other',\n",
       " 'some',\n",
       " 'such',\n",
       " 'no',\n",
       " 'nor',\n",
       " 'not',\n",
       " 'only',\n",
       " 'own',\n",
       " 'same',\n",
       " 'so',\n",
       " 'than',\n",
       " 'too',\n",
       " 'very',\n",
       " 's',\n",
       " 't',\n",
       " 'can',\n",
       " 'will',\n",
       " 'just',\n",
       " 'don',\n",
       " \"don't\",\n",
       " 'should',\n",
       " \"should've\",\n",
       " 'now',\n",
       " 'd',\n",
       " 'll',\n",
       " 'm',\n",
       " 'o',\n",
       " 're',\n",
       " 've',\n",
       " 'y',\n",
       " 'ain',\n",
       " 'aren',\n",
       " \"aren't\",\n",
       " 'couldn',\n",
       " \"couldn't\",\n",
       " 'didn',\n",
       " \"didn't\",\n",
       " 'doesn',\n",
       " \"doesn't\",\n",
       " 'hadn',\n",
       " \"hadn't\",\n",
       " 'hasn',\n",
       " \"hasn't\",\n",
       " 'haven',\n",
       " \"haven't\",\n",
       " 'isn',\n",
       " \"isn't\",\n",
       " 'ma',\n",
       " 'mightn',\n",
       " \"mightn't\",\n",
       " 'mustn',\n",
       " \"mustn't\",\n",
       " 'needn',\n",
       " \"needn't\",\n",
       " 'shan',\n",
       " \"shan't\",\n",
       " 'shouldn',\n",
       " \"shouldn't\",\n",
       " 'wasn',\n",
       " \"wasn't\",\n",
       " 'weren',\n",
       " \"weren't\",\n",
       " 'won',\n",
       " \"won't\",\n",
       " 'wouldn',\n",
       " \"wouldn't\"]"
      ]
     },
     "execution_count": 23,
     "metadata": {},
     "output_type": "execute_result"
    }
   ],
   "source": [
    "# pip install pyresparser \n",
    "from nltk.corpus import stopwords\n",
    "stopwords.words('english')"
   ]
  },
  {
   "cell_type": "code",
   "execution_count": 24,
   "metadata": {
    "colab": {
     "base_uri": "https://localhost:8080/"
    },
    "id": "44VMCD45FZSc",
    "outputId": "f0a2176a-c455-41a3-bf1a-1045815b283c"
   },
   "outputs": [
    {
     "name": "stdout",
     "output_type": "stream",
     "text": [
      "Defaulting to user installation because normal site-packages is not writeable\n",
      "Requirement already satisfied: spacy==2.3.5 in /home/u191324/.local/lib/python3.9/site-packages (2.3.5)\n",
      "Requirement already satisfied: murmurhash<1.1.0,>=0.28.0 in /home/u191324/.local/lib/python3.9/site-packages (from spacy==2.3.5) (1.0.9)\n",
      "Requirement already satisfied: blis<0.8.0,>=0.4.0 in /home/u191324/.local/lib/python3.9/site-packages (from spacy==2.3.5) (0.7.9)\n",
      "Requirement already satisfied: wasabi<1.1.0,>=0.4.0 in /home/u191324/.local/lib/python3.9/site-packages (from spacy==2.3.5) (0.10.1)\n",
      "Requirement already satisfied: cymem<2.1.0,>=2.0.2 in /home/u191324/.local/lib/python3.9/site-packages (from spacy==2.3.5) (2.0.7)\n",
      "Requirement already satisfied: requests<3.0.0,>=2.13.0 in /glob/development-tools/versions/oneapi/2023.0.1/oneapi/intelpython/python3.9/lib/python3.9/site-packages (from spacy==2.3.5) (2.28.1)\n",
      "Requirement already satisfied: setuptools in /glob/development-tools/versions/oneapi/2023.0.1/oneapi/intelpython/python3.9/lib/python3.9/site-packages (from spacy==2.3.5) (63.4.1)\n",
      "Requirement already satisfied: thinc<7.5.0,>=7.4.1 in /home/u191324/.local/lib/python3.9/site-packages (from spacy==2.3.5) (7.4.6)\n",
      "Requirement already satisfied: srsly<1.1.0,>=1.0.2 in /home/u191324/.local/lib/python3.9/site-packages (from spacy==2.3.5) (1.0.6)\n",
      "Requirement already satisfied: catalogue<1.1.0,>=0.0.7 in /home/u191324/.local/lib/python3.9/site-packages (from spacy==2.3.5) (1.0.2)\n",
      "Requirement already satisfied: tqdm<5.0.0,>=4.38.0 in /glob/development-tools/versions/oneapi/2023.0.1/oneapi/intelpython/python3.9/lib/python3.9/site-packages (from spacy==2.3.5) (4.64.0)\n",
      "Requirement already satisfied: preshed<3.1.0,>=3.0.2 in /home/u191324/.local/lib/python3.9/site-packages (from spacy==2.3.5) (3.0.8)\n",
      "Requirement already satisfied: plac<1.2.0,>=0.9.6 in /home/u191324/.local/lib/python3.9/site-packages (from spacy==2.3.5) (1.1.3)\n",
      "Requirement already satisfied: numpy>=1.15.0 in /glob/development-tools/versions/oneapi/2023.0.1/oneapi/intelpython/python3.9/lib/python3.9/site-packages (from spacy==2.3.5) (1.22.3)\n",
      "Requirement already satisfied: idna<4,>=2.5 in /glob/development-tools/versions/oneapi/2023.0.1/oneapi/intelpython/python3.9/lib/python3.9/site-packages (from requests<3.0.0,>=2.13.0->spacy==2.3.5) (3.4)\n",
      "Requirement already satisfied: charset-normalizer<3,>=2 in /glob/development-tools/versions/oneapi/2023.0.1/oneapi/intelpython/python3.9/lib/python3.9/site-packages (from requests<3.0.0,>=2.13.0->spacy==2.3.5) (2.0.4)\n",
      "Requirement already satisfied: urllib3<1.27,>=1.21.1 in /glob/development-tools/versions/oneapi/2023.0.1/oneapi/intelpython/python3.9/lib/python3.9/site-packages (from requests<3.0.0,>=2.13.0->spacy==2.3.5) (1.26.12)\n",
      "Requirement already satisfied: certifi>=2017.4.17 in /glob/development-tools/versions/oneapi/2023.0.1/oneapi/intelpython/python3.9/lib/python3.9/site-packages (from requests<3.0.0,>=2.13.0->spacy==2.3.5) (2022.9.24)\n"
     ]
    }
   ],
   "source": [
    "! pip install spacy==2.3.5\n",
    "\n",
    "\n",
    "\n"
   ]
  },
  {
   "cell_type": "code",
   "execution_count": 25,
   "metadata": {
    "colab": {
     "base_uri": "https://localhost:8080/"
    },
    "id": "drXz2iy6QZZ2",
    "outputId": "5e531cc9-3cb3-4de2-8069-89845ff07b01"
   },
   "outputs": [
    {
     "name": "stdout",
     "output_type": "stream",
     "text": [
      "Defaulting to user installation because normal site-packages is not writeable\n",
      "Collecting https://github.com/explosion/spacy-models/releases/download/en_core_web_sm-2.3.1/en_core_web_sm-2.3.1.tar.gz\n",
      "  Downloading https://github.com/explosion/spacy-models/releases/download/en_core_web_sm-2.3.1/en_core_web_sm-2.3.1.tar.gz (12.0 MB)\n",
      "\u001b[2K     \u001b[90m━━━━━━━━━━━━━━━━━━━━━━━━━━━━━━━━━━━━━━━━\u001b[0m \u001b[32m12.0/12.0 MB\u001b[0m \u001b[31m3.6 MB/s\u001b[0m eta \u001b[36m0:00:00\u001b[0m00:01\u001b[0m00:01\u001b[0m\n",
      "\u001b[?25h  Preparing metadata (setup.py) ... \u001b[?25ldone\n",
      "\u001b[?25hRequirement already satisfied: spacy<2.4.0,>=2.3.0 in /home/u191324/.local/lib/python3.9/site-packages (from en-core-web-sm==2.3.1) (2.3.5)\n",
      "Requirement already satisfied: tqdm<5.0.0,>=4.38.0 in /glob/development-tools/versions/oneapi/2023.0.1/oneapi/intelpython/python3.9/lib/python3.9/site-packages (from spacy<2.4.0,>=2.3.0->en-core-web-sm==2.3.1) (4.64.0)\n",
      "Requirement already satisfied: setuptools in /glob/development-tools/versions/oneapi/2023.0.1/oneapi/intelpython/python3.9/lib/python3.9/site-packages (from spacy<2.4.0,>=2.3.0->en-core-web-sm==2.3.1) (63.4.1)\n",
      "Requirement already satisfied: preshed<3.1.0,>=3.0.2 in /home/u191324/.local/lib/python3.9/site-packages (from spacy<2.4.0,>=2.3.0->en-core-web-sm==2.3.1) (3.0.8)\n",
      "Requirement already satisfied: murmurhash<1.1.0,>=0.28.0 in /home/u191324/.local/lib/python3.9/site-packages (from spacy<2.4.0,>=2.3.0->en-core-web-sm==2.3.1) (1.0.9)\n",
      "Requirement already satisfied: thinc<7.5.0,>=7.4.1 in /home/u191324/.local/lib/python3.9/site-packages (from spacy<2.4.0,>=2.3.0->en-core-web-sm==2.3.1) (7.4.6)\n",
      "Requirement already satisfied: numpy>=1.15.0 in /glob/development-tools/versions/oneapi/2023.0.1/oneapi/intelpython/python3.9/lib/python3.9/site-packages (from spacy<2.4.0,>=2.3.0->en-core-web-sm==2.3.1) (1.22.3)\n",
      "Requirement already satisfied: srsly<1.1.0,>=1.0.2 in /home/u191324/.local/lib/python3.9/site-packages (from spacy<2.4.0,>=2.3.0->en-core-web-sm==2.3.1) (1.0.6)\n",
      "Requirement already satisfied: blis<0.8.0,>=0.4.0 in /home/u191324/.local/lib/python3.9/site-packages (from spacy<2.4.0,>=2.3.0->en-core-web-sm==2.3.1) (0.7.9)\n",
      "Requirement already satisfied: cymem<2.1.0,>=2.0.2 in /home/u191324/.local/lib/python3.9/site-packages (from spacy<2.4.0,>=2.3.0->en-core-web-sm==2.3.1) (2.0.7)\n",
      "Requirement already satisfied: plac<1.2.0,>=0.9.6 in /home/u191324/.local/lib/python3.9/site-packages (from spacy<2.4.0,>=2.3.0->en-core-web-sm==2.3.1) (1.1.3)\n",
      "Requirement already satisfied: catalogue<1.1.0,>=0.0.7 in /home/u191324/.local/lib/python3.9/site-packages (from spacy<2.4.0,>=2.3.0->en-core-web-sm==2.3.1) (1.0.2)\n",
      "Requirement already satisfied: requests<3.0.0,>=2.13.0 in /glob/development-tools/versions/oneapi/2023.0.1/oneapi/intelpython/python3.9/lib/python3.9/site-packages (from spacy<2.4.0,>=2.3.0->en-core-web-sm==2.3.1) (2.28.1)\n",
      "Requirement already satisfied: wasabi<1.1.0,>=0.4.0 in /home/u191324/.local/lib/python3.9/site-packages (from spacy<2.4.0,>=2.3.0->en-core-web-sm==2.3.1) (0.10.1)\n",
      "Requirement already satisfied: charset-normalizer<3,>=2 in /glob/development-tools/versions/oneapi/2023.0.1/oneapi/intelpython/python3.9/lib/python3.9/site-packages (from requests<3.0.0,>=2.13.0->spacy<2.4.0,>=2.3.0->en-core-web-sm==2.3.1) (2.0.4)\n",
      "Requirement already satisfied: idna<4,>=2.5 in /glob/development-tools/versions/oneapi/2023.0.1/oneapi/intelpython/python3.9/lib/python3.9/site-packages (from requests<3.0.0,>=2.13.0->spacy<2.4.0,>=2.3.0->en-core-web-sm==2.3.1) (3.4)\n",
      "Requirement already satisfied: certifi>=2017.4.17 in /glob/development-tools/versions/oneapi/2023.0.1/oneapi/intelpython/python3.9/lib/python3.9/site-packages (from requests<3.0.0,>=2.13.0->spacy<2.4.0,>=2.3.0->en-core-web-sm==2.3.1) (2022.9.24)\n",
      "Requirement already satisfied: urllib3<1.27,>=1.21.1 in /glob/development-tools/versions/oneapi/2023.0.1/oneapi/intelpython/python3.9/lib/python3.9/site-packages (from requests<3.0.0,>=2.13.0->spacy<2.4.0,>=2.3.0->en-core-web-sm==2.3.1) (1.26.12)\n",
      "Note: you may need to restart the kernel to use updated packages.\n"
     ]
    }
   ],
   "source": [
    "pip install https://github.com/explosion/spacy-models/releases/download/en_core_web_sm-2.3.1/en_core_web_sm-2.3.1.tar.gz"
   ]
  },
  {
   "cell_type": "code",
   "execution_count": 26,
   "metadata": {
    "colab": {
     "base_uri": "https://localhost:8080/"
    },
    "id": "UOLAsRjfGAXL",
    "outputId": "83578528-01e7-480c-a311-8b4994f55cfb"
   },
   "outputs": [
    {
     "name": "stdout",
     "output_type": "stream",
     "text": [
      "Defaulting to user installation because normal site-packages is not writeable\n",
      "Requirement already satisfied: pyresparser in /home/u191324/.local/lib/python3.9/site-packages (1.0.6)\n",
      "Requirement already satisfied: nltk>=3.4.3 in /home/u191324/.local/lib/python3.9/site-packages (from pyresparser) (3.8.1)\n",
      "Requirement already satisfied: spacy>=2.1.4 in /home/u191324/.local/lib/python3.9/site-packages (from pyresparser) (2.3.5)\n",
      "Requirement already satisfied: blis>=0.2.4 in /home/u191324/.local/lib/python3.9/site-packages (from pyresparser) (0.7.9)\n",
      "Requirement already satisfied: tqdm>=4.32.2 in /glob/development-tools/versions/oneapi/2023.0.1/oneapi/intelpython/python3.9/lib/python3.9/site-packages (from pyresparser) (4.64.0)\n",
      "Requirement already satisfied: srsly>=0.0.7 in /home/u191324/.local/lib/python3.9/site-packages (from pyresparser) (1.0.6)\n",
      "Requirement already satisfied: certifi>=2019.6.16 in /glob/development-tools/versions/oneapi/2023.0.1/oneapi/intelpython/python3.9/lib/python3.9/site-packages (from pyresparser) (2022.9.24)\n",
      "Requirement already satisfied: attrs>=19.1.0 in /home/u191324/.local/lib/python3.9/site-packages (from pyresparser) (23.1.0)\n",
      "Requirement already satisfied: thinc>=7.0.4 in /home/u191324/.local/lib/python3.9/site-packages (from pyresparser) (7.4.6)\n",
      "Requirement already satisfied: cymem>=2.0.2 in /home/u191324/.local/lib/python3.9/site-packages (from pyresparser) (2.0.7)\n",
      "Requirement already satisfied: pdfminer.six>=20181108 in /home/u191324/.local/lib/python3.9/site-packages (from pyresparser) (20221105)\n",
      "Requirement already satisfied: numpy>=1.16.4 in /glob/development-tools/versions/oneapi/2023.0.1/oneapi/intelpython/python3.9/lib/python3.9/site-packages (from pyresparser) (1.22.3)\n",
      "Requirement already satisfied: pandas>=0.24.2 in /glob/development-tools/versions/oneapi/2023.0.1/oneapi/intelpython/python3.9/lib/python3.9/site-packages (from pyresparser) (1.5.1)\n",
      "Requirement already satisfied: pytz>=2019.1 in /glob/development-tools/versions/oneapi/2023.0.1/oneapi/intelpython/python3.9/lib/python3.9/site-packages (from pyresparser) (2022.1)\n",
      "Requirement already satisfied: requests>=2.22.0 in /glob/development-tools/versions/oneapi/2023.0.1/oneapi/intelpython/python3.9/lib/python3.9/site-packages (from pyresparser) (2.28.1)\n",
      "Requirement already satisfied: preshed>=2.0.1 in /home/u191324/.local/lib/python3.9/site-packages (from pyresparser) (3.0.8)\n",
      "Requirement already satisfied: jsonschema>=3.0.1 in /home/u191324/.local/lib/python3.9/site-packages (from pyresparser) (4.17.3)\n",
      "Requirement already satisfied: pycryptodome>=3.8.2 in /home/u191324/.local/lib/python3.9/site-packages (from pyresparser) (3.17)\n",
      "Requirement already satisfied: python-dateutil>=2.8.0 in /glob/development-tools/versions/oneapi/2023.0.1/oneapi/intelpython/python3.9/lib/python3.9/site-packages (from pyresparser) (2.8.2)\n",
      "Requirement already satisfied: wasabi>=0.2.2 in /home/u191324/.local/lib/python3.9/site-packages (from pyresparser) (0.10.1)\n",
      "Requirement already satisfied: pyrsistent>=0.15.2 in /home/u191324/.local/lib/python3.9/site-packages (from pyresparser) (0.19.3)\n",
      "Requirement already satisfied: docx2txt>=0.7 in /home/u191324/.local/lib/python3.9/site-packages (from pyresparser) (0.8)\n",
      "Requirement already satisfied: sortedcontainers>=2.1.0 in /home/u191324/.local/lib/python3.9/site-packages (from pyresparser) (2.4.0)\n",
      "Requirement already satisfied: idna>=2.8 in /glob/development-tools/versions/oneapi/2023.0.1/oneapi/intelpython/python3.9/lib/python3.9/site-packages (from pyresparser) (3.4)\n",
      "Requirement already satisfied: six>=1.12.0 in /glob/development-tools/versions/oneapi/2023.0.1/oneapi/intelpython/python3.9/lib/python3.9/site-packages (from pyresparser) (1.16.0)\n",
      "Requirement already satisfied: urllib3>=1.25.3 in /glob/development-tools/versions/oneapi/2023.0.1/oneapi/intelpython/python3.9/lib/python3.9/site-packages (from pyresparser) (1.26.12)\n",
      "Requirement already satisfied: chardet>=3.0.4 in /glob/development-tools/versions/oneapi/2023.0.1/oneapi/intelpython/python3.9/lib/python3.9/site-packages (from pyresparser) (4.0.0)\n",
      "Requirement already satisfied: joblib in /home/u191324/.local/lib/python3.9/site-packages (from nltk>=3.4.3->pyresparser) (1.2.0)\n",
      "Requirement already satisfied: regex>=2021.8.3 in /home/u191324/.local/lib/python3.9/site-packages (from nltk>=3.4.3->pyresparser) (2023.3.23)\n",
      "Requirement already satisfied: click in /home/u191324/.local/lib/python3.9/site-packages (from nltk>=3.4.3->pyresparser) (8.1.3)\n",
      "Requirement already satisfied: charset-normalizer>=2.0.0 in /glob/development-tools/versions/oneapi/2023.0.1/oneapi/intelpython/python3.9/lib/python3.9/site-packages (from pdfminer.six>=20181108->pyresparser) (2.0.4)\n",
      "Requirement already satisfied: cryptography>=36.0.0 in /glob/development-tools/versions/oneapi/2023.0.1/oneapi/intelpython/python3.9/lib/python3.9/site-packages (from pdfminer.six>=20181108->pyresparser) (38.0.1)\n",
      "Requirement already satisfied: murmurhash<1.1.0,>=0.28.0 in /home/u191324/.local/lib/python3.9/site-packages (from preshed>=2.0.1->pyresparser) (1.0.9)\n",
      "Requirement already satisfied: catalogue<1.1.0,>=0.0.7 in /home/u191324/.local/lib/python3.9/site-packages (from spacy>=2.1.4->pyresparser) (1.0.2)\n",
      "Requirement already satisfied: plac<1.2.0,>=0.9.6 in /home/u191324/.local/lib/python3.9/site-packages (from spacy>=2.1.4->pyresparser) (1.1.3)\n",
      "Requirement already satisfied: setuptools in /glob/development-tools/versions/oneapi/2023.0.1/oneapi/intelpython/python3.9/lib/python3.9/site-packages (from spacy>=2.1.4->pyresparser) (63.4.1)\n",
      "Requirement already satisfied: cffi>=1.12 in /glob/development-tools/versions/oneapi/2023.0.1/oneapi/intelpython/python3.9/lib/python3.9/site-packages (from cryptography>=36.0.0->pdfminer.six>=20181108->pyresparser) (1.15.1)\n",
      "Requirement already satisfied: pycparser in /glob/development-tools/versions/oneapi/2023.0.1/oneapi/intelpython/python3.9/lib/python3.9/site-packages (from cffi>=1.12->cryptography>=36.0.0->pdfminer.six>=20181108->pyresparser) (2.21)\n",
      "Note: you may need to restart the kernel to use updated packages.\n"
     ]
    }
   ],
   "source": [
    "pip install pyresparser"
   ]
  },
  {
   "cell_type": "code",
   "execution_count": 27,
   "metadata": {},
   "outputs": [
    {
     "name": "stdout",
     "output_type": "stream",
     "text": [
      "Defaulting to user installation because normal site-packages is not writeable\n",
      "Requirement already satisfied: scikit-learn-intelex in /home/u191324/.local/lib/python3.9/site-packages (2023.1.1)\n",
      "Requirement already satisfied: scikit-learn>=0.22 in /glob/development-tools/versions/oneapi/2023.0.1/oneapi/intelpython/python3.9/lib/python3.9/site-packages (from scikit-learn-intelex) (1.1.1)\n",
      "Requirement already satisfied: daal4py==2023.1.1 in /home/u191324/.local/lib/python3.9/site-packages (from scikit-learn-intelex) (2023.1.1)\n",
      "Requirement already satisfied: daal==2023.1.1 in /home/u191324/.local/lib/python3.9/site-packages (from daal4py==2023.1.1->scikit-learn-intelex) (2023.1.1)\n",
      "Requirement already satisfied: numpy>=1.19 in /glob/development-tools/versions/oneapi/2023.0.1/oneapi/intelpython/python3.9/lib/python3.9/site-packages (from daal4py==2023.1.1->scikit-learn-intelex) (1.22.3)\n",
      "Requirement already satisfied: tbb==2021.* in /home/u191324/.local/lib/python3.9/site-packages (from daal==2023.1.1->daal4py==2023.1.1->scikit-learn-intelex) (2021.9.0)\n",
      "Requirement already satisfied: threadpoolctl>=2.0.0 in /glob/development-tools/versions/oneapi/2023.0.1/oneapi/intelpython/python3.9/lib/python3.9/site-packages (from scikit-learn>=0.22->scikit-learn-intelex) (2.2.0)\n",
      "Requirement already satisfied: scipy>=1.3.2 in /glob/development-tools/versions/oneapi/2023.0.1/oneapi/intelpython/python3.9/lib/python3.9/site-packages (from scikit-learn>=0.22->scikit-learn-intelex) (1.7.3)\n",
      "Requirement already satisfied: joblib>=1.0.0 in /home/u191324/.local/lib/python3.9/site-packages (from scikit-learn>=0.22->scikit-learn-intelex) (1.2.0)\n",
      "Note: you may need to restart the kernel to use updated packages.\n"
     ]
    }
   ],
   "source": [
    "pip install scikit-learn-intelex"
   ]
  },
  {
   "cell_type": "code",
   "execution_count": 28,
   "metadata": {},
   "outputs": [
    {
     "name": "stderr",
     "output_type": "stream",
     "text": [
      "Intel(R) Extension for Scikit-learn* enabled (https://github.com/intel/scikit-learn-intelex)\n"
     ]
    }
   ],
   "source": [
    "\n",
    "from sklearnex import patch_sklearn\n",
    "\n",
    "patch_sklearn()"
   ]
  },
  {
   "cell_type": "markdown",
   "metadata": {
    "id": "Ko8tGRnTjY8I"
   },
   "source": [
    "## ***Tier 1: Resume parsing***"
   ]
  },
  {
   "cell_type": "code",
   "execution_count": 30,
   "metadata": {
    "colab": {
     "base_uri": "https://localhost:8080/"
    },
    "id": "cZzL2wiHBB-Z",
    "outputId": "b1b68114-69e1-4ce2-f3ef-90980b8785d2"
   },
   "outputs": [
    {
     "name": "stderr",
     "output_type": "stream",
     "text": [
      "/home/u191324/.local/lib/python3.9/site-packages/spacy/util.py:275: UserWarning: [W031] Model 'en_training' (0.0.0) requires spaCy v2.1 and is incompatible with the current spaCy version (2.3.5). This may lead to unexpected results or runtime errors. To resolve this, download a newer compatible model or retrain your custom model with the current spaCy version. For more details and available updates, run: python -m spacy validate\n",
      "  warnings.warn(warn_msg)\n"
     ]
    },
    {
     "name": "stdout",
     "output_type": "stream",
     "text": [
      "{'name': 'INDIA +916369206060', 'email': 'ahamedthaiyub27@gmail.com', 'mobile_number': '9163692060', 'skills': ['Cloud', 'Statistics', 'Coding', 'Computer science', 'Mobile', 'C', 'English', 'International', 'C++', 'Engineering', 'Github', 'Python', 'Analysis'], 'college_name': None, 'degree': None, 'designation': None, 'experience': None, 'company_names': None, 'no_of_pages': 1, 'total_experience': 0}\n",
      "Resume results are getting printed into resume.txt.\n",
      "[]\n"
     ]
    }
   ],
   "source": [
    "import string\n",
    "import csv\n",
    "import re\n",
    "import sys\n",
    "import importlib\n",
    "import os\n",
    "\n",
    "# from sklearnex import patch_sklearn\n",
    "\n",
    "# patch_sklearn()\n",
    "import spacy\n",
    "from pyresparser import ResumeParser\n",
    "import pandas as pd\n",
    "import nltk\n",
    "from spacy.matcher import matcher\n",
    "import multiprocessing as mp\n",
    "\n",
    "def main():\n",
    "    data = ResumeParser(\"/home/u191324/inteloneapi hackathon/Untitled Folder/wokforce 360/Profile.pdf\").get_extracted_data()\n",
    "    print(data)\n",
    "\n",
    "    # Added encoding utf-8 to prevent unicode error\n",
    "    with open(\"/home/u191324/inteloneapi hackathon/Untitled Folder/wokforce 360/Profile.pdf\", \"w\", encoding='utf-8') as rf:\n",
    "        rf.truncate()\n",
    "        rf.write(str(data))\n",
    "\n",
    "    print(\"Resume results are getting printed into resume.txt.\")\n",
    "\n",
    "    # Extracting skills\n",
    "    resume_list = []\n",
    "    skill_list = []\n",
    "\n",
    "    data = pd.read_csv(\"/home/u191324/inteloneapi hackathon/Untitled Folder/wokforce 360/skills.csv\")\n",
    "    skills = list(data.columns.values)\n",
    "\n",
    "    resume_file =\"/home/u191324/inteloneapi hackathon/Untitled Folder/wokforce 360/resume2.txt\"\n",
    "    with open(resume_file, 'r',  encoding='utf-8') as f: \n",
    "        for line in f:\n",
    "            resume_list.append(line.strip())\n",
    "            for token  in resume_list:\n",
    "                if token.lower() in skills:\n",
    "                    skill_list.append(token)\n",
    "    print(skill_list)\n",
    "\n",
    "if __name__ == \"__main__\":\n",
    "    main()\n"
   ]
  },
  {
   "cell_type": "markdown",
   "metadata": {
    "id": "bPLqRBUZjpCl"
   },
   "source": [
    "##  -------------------***SUCCESSFULLY COMPLETED TIER***  1...-------------"
   ]
  },
  {
   "cell_type": "code",
   "execution_count": null,
   "metadata": {},
   "outputs": [],
   "source": []
  }
 ],
 "metadata": {
  "colab": {
   "provenance": []
  },
  "kernelspec": {
   "display_name": "Python 3 (Intel® oneAPI 2023.0)",
   "language": "python",
   "name": "c009-intel_distribution_of_python_3_oneapi-beta05-python"
  },
  "language_info": {
   "codemirror_mode": {
    "name": "ipython",
    "version": 3
   },
   "file_extension": ".py",
   "mimetype": "text/x-python",
   "name": "python",
   "nbconvert_exporter": "python",
   "pygments_lexer": "ipython3",
   "version": "3.9.15"
  }
 },
 "nbformat": 4,
 "nbformat_minor": 4
}
