{
 "cells": [
  {
   "cell_type": "markdown",
   "metadata": {
    "id": "c51HihfwkTCp"
   },
   "source": [
    "## ***Importing initializing and installing the requrements as per..!***\n",
    "\n",
    "\n",
    "#### ***requirements to analyze the attendentence and attrition rate of the employees***\n",
    "\n",
    "```\n",
    "\n",
    "\n",
    "\n"
   ]
  },
  {
   "cell_type": "code",
   "execution_count": 1,
   "metadata": {
    "colab": {
     "base_uri": "https://localhost:8080/"
    },
    "id": "QfbYTNLrnAWZ",
    "outputId": "ad4e420d-180e-42c8-f387-cbf2c3558cb5"
   },
   "outputs": [
    {
     "name": "stdout",
     "output_type": "stream",
     "text": [
      "Defaulting to user installation because normal site-packages is not writeable\n",
      "Requirement already satisfied: chart-studio in /home/u191324/.local/lib/python3.9/site-packages (1.1.0)\n",
      "Requirement already satisfied: six in /glob/development-tools/versions/oneapi/2023.0.1/oneapi/intelpython/python3.9/lib/python3.9/site-packages (from chart-studio) (1.16.0)\n",
      "Requirement already satisfied: plotly in /home/u191324/.local/lib/python3.9/site-packages (from chart-studio) (5.14.1)\n",
      "Requirement already satisfied: requests in /glob/development-tools/versions/oneapi/2023.0.1/oneapi/intelpython/python3.9/lib/python3.9/site-packages (from chart-studio) (2.28.1)\n",
      "Requirement already satisfied: retrying>=1.3.3 in /home/u191324/.local/lib/python3.9/site-packages (from chart-studio) (1.3.4)\n",
      "Requirement already satisfied: packaging in /glob/development-tools/versions/oneapi/2023.0.1/oneapi/intelpython/python3.9/lib/python3.9/site-packages (from plotly->chart-studio) (21.3)\n",
      "Requirement already satisfied: tenacity>=6.2.0 in /home/u191324/.local/lib/python3.9/site-packages (from plotly->chart-studio) (8.2.2)\n",
      "Requirement already satisfied: certifi>=2017.4.17 in /glob/development-tools/versions/oneapi/2023.0.1/oneapi/intelpython/python3.9/lib/python3.9/site-packages (from requests->chart-studio) (2022.9.24)\n",
      "Requirement already satisfied: idna<4,>=2.5 in /glob/development-tools/versions/oneapi/2023.0.1/oneapi/intelpython/python3.9/lib/python3.9/site-packages (from requests->chart-studio) (3.4)\n",
      "Requirement already satisfied: urllib3<1.27,>=1.21.1 in /glob/development-tools/versions/oneapi/2023.0.1/oneapi/intelpython/python3.9/lib/python3.9/site-packages (from requests->chart-studio) (1.26.12)\n",
      "Requirement already satisfied: charset-normalizer<3,>=2 in /glob/development-tools/versions/oneapi/2023.0.1/oneapi/intelpython/python3.9/lib/python3.9/site-packages (from requests->chart-studio) (2.0.4)\n",
      "Requirement already satisfied: pyparsing!=3.0.5,>=2.0.2 in /glob/development-tools/versions/oneapi/2023.0.1/oneapi/intelpython/python3.9/lib/python3.9/site-packages (from packaging->plotly->chart-studio) (3.0.9)\n",
      "Note: you may need to restart the kernel to use updated packages.\n"
     ]
    }
   ],
   "source": [
    "pip install chart-studio"
   ]
  },
  {
   "cell_type": "code",
   "execution_count": 4,
   "metadata": {},
   "outputs": [
    {
     "name": "stdout",
     "output_type": "stream",
     "text": [
      "Defaulting to user installation because normal site-packages is not writeable\n",
      "Requirement already satisfied: scikit-learn-intelex in /home/u191324/.local/lib/python3.9/site-packages (2023.1.1)\n",
      "Requirement already satisfied: daal4py==2023.1.1 in /home/u191324/.local/lib/python3.9/site-packages (from scikit-learn-intelex) (2023.1.1)\n",
      "Requirement already satisfied: scikit-learn>=0.22 in /glob/development-tools/versions/oneapi/2023.0.1/oneapi/intelpython/python3.9/lib/python3.9/site-packages (from scikit-learn-intelex) (1.1.1)\n",
      "Requirement already satisfied: numpy>=1.19 in /glob/development-tools/versions/oneapi/2023.0.1/oneapi/intelpython/python3.9/lib/python3.9/site-packages (from daal4py==2023.1.1->scikit-learn-intelex) (1.22.3)\n",
      "Requirement already satisfied: daal==2023.1.1 in /home/u191324/.local/lib/python3.9/site-packages (from daal4py==2023.1.1->scikit-learn-intelex) (2023.1.1)\n",
      "Requirement already satisfied: tbb==2021.* in /home/u191324/.local/lib/python3.9/site-packages (from daal==2023.1.1->daal4py==2023.1.1->scikit-learn-intelex) (2021.9.0)\n",
      "Requirement already satisfied: scipy>=1.3.2 in /glob/development-tools/versions/oneapi/2023.0.1/oneapi/intelpython/python3.9/lib/python3.9/site-packages (from scikit-learn>=0.22->scikit-learn-intelex) (1.7.3)\n",
      "Requirement already satisfied: joblib>=1.0.0 in /home/u191324/.local/lib/python3.9/site-packages (from scikit-learn>=0.22->scikit-learn-intelex) (1.2.0)\n",
      "Requirement already satisfied: threadpoolctl>=2.0.0 in /glob/development-tools/versions/oneapi/2023.0.1/oneapi/intelpython/python3.9/lib/python3.9/site-packages (from scikit-learn>=0.22->scikit-learn-intelex) (2.2.0)\n",
      "Note: you may need to restart the kernel to use updated packages.\n"
     ]
    }
   ],
   "source": [
    "pip install scikit-learn-intelex"
   ]
  },
  {
   "cell_type": "code",
   "execution_count": 6,
   "metadata": {},
   "outputs": [
    {
     "name": "stderr",
     "output_type": "stream",
     "text": [
      "Intel(R) Extension for Scikit-learn* enabled (https://github.com/intel/scikit-learn-intelex)\n"
     ]
    }
   ],
   "source": [
    "import numpy as np\n",
    "from sklearnex import patch_sklearn\n",
    "# from daal4py.oneapi import sycl_context\n",
    "patch_sklearn()"
   ]
  },
  {
   "cell_type": "code",
   "execution_count": 7,
   "metadata": {
    "colab": {
     "base_uri": "https://localhost:8080/"
    },
    "id": "9qKOSS9am9h3",
    "outputId": "fabec18a-ca90-46e9-c517-0451c68f3f40"
   },
   "outputs": [
    {
     "name": "stdout",
     "output_type": "stream",
     "text": [
      "Defaulting to user installation because normal site-packages is not writeable\n",
      "Requirement already satisfied: scikit-learn-intelex in /home/u191324/.local/lib/python3.9/site-packages (2023.1.1)\n",
      "Requirement already satisfied: daal4py==2023.1.1 in /home/u191324/.local/lib/python3.9/site-packages (from scikit-learn-intelex) (2023.1.1)\n",
      "Requirement already satisfied: scikit-learn>=0.22 in /glob/development-tools/versions/oneapi/2023.0.1/oneapi/intelpython/python3.9/lib/python3.9/site-packages (from scikit-learn-intelex) (1.1.1)\n",
      "Requirement already satisfied: numpy>=1.19 in /glob/development-tools/versions/oneapi/2023.0.1/oneapi/intelpython/python3.9/lib/python3.9/site-packages (from daal4py==2023.1.1->scikit-learn-intelex) (1.22.3)\n",
      "Requirement already satisfied: daal==2023.1.1 in /home/u191324/.local/lib/python3.9/site-packages (from daal4py==2023.1.1->scikit-learn-intelex) (2023.1.1)\n",
      "Requirement already satisfied: tbb==2021.* in /home/u191324/.local/lib/python3.9/site-packages (from daal==2023.1.1->daal4py==2023.1.1->scikit-learn-intelex) (2021.9.0)\n",
      "Requirement already satisfied: scipy>=1.3.2 in /glob/development-tools/versions/oneapi/2023.0.1/oneapi/intelpython/python3.9/lib/python3.9/site-packages (from scikit-learn>=0.22->scikit-learn-intelex) (1.7.3)\n",
      "Requirement already satisfied: joblib>=1.0.0 in /home/u191324/.local/lib/python3.9/site-packages (from scikit-learn>=0.22->scikit-learn-intelex) (1.2.0)\n",
      "Requirement already satisfied: threadpoolctl>=2.0.0 in /glob/development-tools/versions/oneapi/2023.0.1/oneapi/intelpython/python3.9/lib/python3.9/site-packages (from scikit-learn>=0.22->scikit-learn-intelex) (2.2.0)\n",
      "Note: you may need to restart the kernel to use updated packages.\n"
     ]
    }
   ],
   "source": [
    "pip install scikit-learn-intelex"
   ]
  },
  {
   "cell_type": "code",
   "execution_count": null,
   "metadata": {},
   "outputs": [
    {
     "name": "stdout",
     "output_type": "stream",
     "text": [
      "Defaulting to user installation because normal site-packages is not writeable\n",
      "Collecting cufflinks\n",
      "  Downloading cufflinks-0.17.3.tar.gz (81 kB)\n",
      "\u001b[2K     \u001b[90m━━━━━━━━━━━━━━━━━━━━━━━━━━━━━━━━━━━━━━━━\u001b[0m \u001b[32m81.7/81.7 kB\u001b[0m \u001b[31m2.9 MB/s\u001b[0m eta \u001b[36m0:00:00\u001b[0m\n",
      "\u001b[?25h  Preparing metadata (setup.py) ... \u001b[?25ldone\n",
      "\u001b[?25hRequirement already satisfied: numpy>=1.9.2 in /glob/development-tools/versions/oneapi/2023.0.1/oneapi/intelpython/python3.9/lib/python3.9/site-packages (from cufflinks) (1.22.3)\n",
      "Requirement already satisfied: pandas>=0.19.2 in /glob/development-tools/versions/oneapi/2023.0.1/oneapi/intelpython/python3.9/lib/python3.9/site-packages (from cufflinks) (1.5.1)\n",
      "Requirement already satisfied: plotly>=4.1.1 in /home/u191324/.local/lib/python3.9/site-packages (from cufflinks) (5.14.1)\n",
      "Requirement already satisfied: six>=1.9.0 in /glob/development-tools/versions/oneapi/2023.0.1/oneapi/intelpython/python3.9/lib/python3.9/site-packages (from cufflinks) (1.16.0)\n",
      "Collecting colorlover>=0.2.1\n",
      "  Downloading colorlover-0.3.0-py3-none-any.whl (8.9 kB)\n",
      "Requirement already satisfied: setuptools>=34.4.1 in /glob/development-tools/versions/oneapi/2023.0.1/oneapi/intelpython/python3.9/lib/python3.9/site-packages (from cufflinks) (63.4.1)\n",
      "Requirement already satisfied: ipython>=5.3.0 in /glob/development-tools/versions/oneapi/2023.0.1/oneapi/intelpython/python3.9/lib/python3.9/site-packages (from cufflinks) (8.9.0)\n",
      "Requirement already satisfied: ipywidgets>=7.0.0 in /glob/development-tools/versions/oneapi/2023.0.1/oneapi/intelpython/python3.9/lib/python3.9/site-packages (from cufflinks) (8.0.4)\n",
      "Requirement already satisfied: stack-data in /glob/development-tools/versions/oneapi/2023.0.1/oneapi/intelpython/python3.9/lib/python3.9/site-packages (from ipython>=5.3.0->cufflinks) (0.6.2)\n",
      "Requirement already satisfied: traitlets>=5 in /glob/development-tools/versions/oneapi/2023.0.1/oneapi/intelpython/python3.9/lib/python3.9/site-packages (from ipython>=5.3.0->cufflinks) (5.9.0)\n",
      "Requirement already satisfied: pexpect>4.3 in /glob/development-tools/versions/oneapi/2023.0.1/oneapi/intelpython/python3.9/lib/python3.9/site-packages (from ipython>=5.3.0->cufflinks) (4.8.0)\n",
      "Requirement already satisfied: pickleshare in /glob/development-tools/versions/oneapi/2023.0.1/oneapi/intelpython/python3.9/lib/python3.9/site-packages (from ipython>=5.3.0->cufflinks) (0.7.5)\n",
      "Requirement already satisfied: pygments>=2.4.0 in /glob/development-tools/versions/oneapi/2023.0.1/oneapi/intelpython/python3.9/lib/python3.9/site-packages (from ipython>=5.3.0->cufflinks) (2.14.0)\n",
      "Requirement already satisfied: decorator in /glob/development-tools/versions/oneapi/2023.0.1/oneapi/intelpython/python3.9/lib/python3.9/site-packages (from ipython>=5.3.0->cufflinks) (5.1.1)\n",
      "Requirement already satisfied: backcall in /glob/development-tools/versions/oneapi/2023.0.1/oneapi/intelpython/python3.9/lib/python3.9/site-packages (from ipython>=5.3.0->cufflinks) (0.2.0)\n",
      "Requirement already satisfied: matplotlib-inline in /glob/development-tools/versions/oneapi/2023.0.1/oneapi/intelpython/python3.9/lib/python3.9/site-packages (from ipython>=5.3.0->cufflinks) (0.1.6)\n",
      "Requirement already satisfied: prompt-toolkit<3.1.0,>=3.0.30 in /glob/development-tools/versions/oneapi/2023.0.1/oneapi/intelpython/python3.9/lib/python3.9/site-packages (from ipython>=5.3.0->cufflinks) (3.0.36)\n",
      "Requirement already satisfied: jedi>=0.16 in /glob/development-tools/versions/oneapi/2023.0.1/oneapi/intelpython/python3.9/lib/python3.9/site-packages (from ipython>=5.3.0->cufflinks) (0.18.2)\n",
      "Requirement already satisfied: jupyterlab-widgets~=3.0 in /glob/development-tools/versions/oneapi/2023.0.1/oneapi/intelpython/python3.9/lib/python3.9/site-packages (from ipywidgets>=7.0.0->cufflinks) (3.0.5)\n",
      "Requirement already satisfied: ipykernel>=4.5.1 in /glob/development-tools/versions/oneapi/2023.0.1/oneapi/intelpython/python3.9/lib/python3.9/site-packages (from ipywidgets>=7.0.0->cufflinks) (6.21.1)\n",
      "Requirement already satisfied: widgetsnbextension~=4.0 in /glob/development-tools/versions/oneapi/2023.0.1/oneapi/intelpython/python3.9/lib/python3.9/site-packages (from ipywidgets>=7.0.0->cufflinks) (4.0.5)\n",
      "Requirement already satisfied: python-dateutil>=2.8.1 in /glob/development-tools/versions/oneapi/2023.0.1/oneapi/intelpython/python3.9/lib/python3.9/site-packages (from pandas>=0.19.2->cufflinks) (2.8.2)\n",
      "Requirement already satisfied: pytz>=2020.1 in /glob/development-tools/versions/oneapi/2023.0.1/oneapi/intelpython/python3.9/lib/python3.9/site-packages (from pandas>=0.19.2->cufflinks) (2022.1)\n",
      "Requirement already satisfied: packaging in /glob/development-tools/versions/oneapi/2023.0.1/oneapi/intelpython/python3.9/lib/python3.9/site-packages (from plotly>=4.1.1->cufflinks) (21.3)\n",
      "Requirement already satisfied: tenacity>=6.2.0 in /home/u191324/.local/lib/python3.9/site-packages (from plotly>=4.1.1->cufflinks) (8.2.2)\n",
      "Requirement already satisfied: psutil in /glob/development-tools/versions/oneapi/2023.0.1/oneapi/intelpython/python3.9/lib/python3.9/site-packages (from ipykernel>=4.5.1->ipywidgets>=7.0.0->cufflinks) (5.9.4)\n",
      "Requirement already satisfied: jupyter-client>=6.1.12 in /glob/development-tools/versions/oneapi/2023.0.1/oneapi/intelpython/python3.9/lib/python3.9/site-packages (from ipykernel>=4.5.1->ipywidgets>=7.0.0->cufflinks) (8.0.2)\n",
      "Requirement already satisfied: debugpy>=1.6.5 in /glob/development-tools/versions/oneapi/2023.0.1/oneapi/intelpython/python3.9/lib/python3.9/site-packages (from ipykernel>=4.5.1->ipywidgets>=7.0.0->cufflinks) (1.6.6)\n",
      "Requirement already satisfied: comm>=0.1.1 in /glob/development-tools/versions/oneapi/2023.0.1/oneapi/intelpython/python3.9/lib/python3.9/site-packages (from ipykernel>=4.5.1->ipywidgets>=7.0.0->cufflinks) (0.1.2)\n",
      "Requirement already satisfied: nest-asyncio in /glob/development-tools/versions/oneapi/2023.0.1/oneapi/intelpython/python3.9/lib/python3.9/site-packages (from ipykernel>=4.5.1->ipywidgets>=7.0.0->cufflinks) (1.5.6)\n",
      "Requirement already satisfied: jupyter-core!=5.0.*,>=4.12 in /glob/development-tools/versions/oneapi/2023.0.1/oneapi/intelpython/python3.9/lib/python3.9/site-packages (from ipykernel>=4.5.1->ipywidgets>=7.0.0->cufflinks) (5.2.0)\n",
      "Requirement already satisfied: tornado>=6.1 in /glob/development-tools/versions/oneapi/2023.0.1/oneapi/intelpython/python3.9/lib/python3.9/site-packages (from ipykernel>=4.5.1->ipywidgets>=7.0.0->cufflinks) (6.2)\n",
      "Requirement already satisfied: pyzmq>=17 in /glob/development-tools/versions/oneapi/2023.0.1/oneapi/intelpython/python3.9/lib/python3.9/site-packages (from ipykernel>=4.5.1->ipywidgets>=7.0.0->cufflinks) (25.0.0)\n",
      "Requirement already satisfied: parso<0.9.0,>=0.8.0 in /glob/development-tools/versions/oneapi/2023.0.1/oneapi/intelpython/python3.9/lib/python3.9/site-packages (from jedi>=0.16->ipython>=5.3.0->cufflinks) (0.8.3)\n",
      "Requirement already satisfied: ptyprocess>=0.5 in /glob/development-tools/versions/oneapi/2023.0.1/oneapi/intelpython/python3.9/lib/python3.9/site-packages (from pexpect>4.3->ipython>=5.3.0->cufflinks) (0.7.0)\n",
      "Requirement already satisfied: wcwidth in /glob/development-tools/versions/oneapi/2023.0.1/oneapi/intelpython/python3.9/lib/python3.9/site-packages (from prompt-toolkit<3.1.0,>=3.0.30->ipython>=5.3.0->cufflinks) (0.2.6)\n",
      "Requirement already satisfied: pyparsing!=3.0.5,>=2.0.2 in /glob/development-tools/versions/oneapi/2023.0.1/oneapi/intelpython/python3.9/lib/python3.9/site-packages (from packaging->plotly>=4.1.1->cufflinks) (3.0.9)\n",
      "Requirement already satisfied: asttokens>=2.1.0 in /glob/development-tools/versions/oneapi/2023.0.1/oneapi/intelpython/python3.9/lib/python3.9/site-packages (from stack-data->ipython>=5.3.0->cufflinks) (2.2.1)\n",
      "Requirement already satisfied: executing>=1.2.0 in /glob/development-tools/versions/oneapi/2023.0.1/oneapi/intelpython/python3.9/lib/python3.9/site-packages (from stack-data->ipython>=5.3.0->cufflinks) (1.2.0)\n",
      "Requirement already satisfied: pure-eval in /glob/development-tools/versions/oneapi/2023.0.1/oneapi/intelpython/python3.9/lib/python3.9/site-packages (from stack-data->ipython>=5.3.0->cufflinks) (0.2.2)\n",
      "Requirement already satisfied: importlib-metadata>=4.8.3 in /glob/development-tools/versions/oneapi/2023.0.1/oneapi/intelpython/python3.9/lib/python3.9/site-packages (from jupyter-client>=6.1.12->ipykernel>=4.5.1->ipywidgets>=7.0.0->cufflinks) (6.0.0)\n",
      "Requirement already satisfied: platformdirs>=2.5 in /glob/development-tools/versions/oneapi/2023.0.1/oneapi/intelpython/python3.9/lib/python3.9/site-packages (from jupyter-core!=5.0.*,>=4.12->ipykernel>=4.5.1->ipywidgets>=7.0.0->cufflinks) (2.6.2)\n",
      "Requirement already satisfied: zipp>=0.5 in /glob/development-tools/versions/oneapi/2023.0.1/oneapi/intelpython/python3.9/lib/python3.9/site-packages (from importlib-metadata>=4.8.3->jupyter-client>=6.1.12->ipykernel>=4.5.1->ipywidgets>=7.0.0->cufflinks) (3.12.0)\n",
      "Building wheels for collected packages: cufflinks\n",
      "  Building wheel for cufflinks (setup.py) ... \u001b[?25ldone\n",
      "\u001b[?25h  Created wheel for cufflinks: filename=cufflinks-0.17.3-py3-none-any.whl size=67903 sha256=f7aef73f2c1a9a1c253c0ea2d5ef90e23bb70167e967cbe0df74341acc3b1efd\n",
      "  Stored in directory: /home/u191324/.cache/pip/wheels/29/b4/f8/2fd2206eeeba6ccad8167e4e8894b8c4ec27bf1342037fd136\n",
      "Successfully built cufflinks\n",
      "Installing collected packages: colorlover, cufflinks\n",
      "Successfully installed colorlover-0.3.0 cufflinks-0.17.3\n",
      "Note: you may need to restart the kernel to use updated packages.\n"
     ]
    }
   ],
   "source": [
    "pip install cufflinks"
   ]
  },
  {
   "cell_type": "markdown",
   "metadata": {},
   "source": [
    "#  observations from the feature engineering csv"
   ]
  },
  {
   "cell_type": "code",
   "execution_count": 10,
   "metadata": {
    "colab": {
     "base_uri": "https://localhost:8080/",
     "height": 35
    },
    "id": "KSdmPMwNkIul",
    "outputId": "7f8e7144-3768-48ff-8dd8-70dff5375dc1"
   },
   "outputs": [
    {
     "name": "stderr",
     "output_type": "stream",
     "text": [
      "Intel(R) Extension for Scikit-learn* enabled (https://github.com/intel/scikit-learn-intelex)\n"
     ]
    },
    {
     "data": {
      "text/html": [
       "        <script type=\"text/javascript\">\n",
       "        window.PlotlyConfig = {MathJaxConfig: 'local'};\n",
       "        if (window.MathJax && window.MathJax.Hub && window.MathJax.Hub.Config) {window.MathJax.Hub.Config({SVG: {font: \"STIX-Web\"}});}\n",
       "        if (typeof require !== 'undefined') {\n",
       "        require.undef(\"plotly\");\n",
       "        requirejs.config({\n",
       "            paths: {\n",
       "                'plotly': ['https://cdn.plot.ly/plotly-2.20.0.min']\n",
       "            }\n",
       "        });\n",
       "        require(['plotly'], function(Plotly) {\n",
       "            window._Plotly = Plotly;\n",
       "        });\n",
       "        }\n",
       "        </script>\n",
       "        "
      ]
     },
     "metadata": {},
     "output_type": "display_data"
    },
    {
     "data": {
      "text/html": [
       "        <script type=\"text/javascript\">\n",
       "        window.PlotlyConfig = {MathJaxConfig: 'local'};\n",
       "        if (window.MathJax && window.MathJax.Hub && window.MathJax.Hub.Config) {window.MathJax.Hub.Config({SVG: {font: \"STIX-Web\"}});}\n",
       "        if (typeof require !== 'undefined') {\n",
       "        require.undef(\"plotly\");\n",
       "        requirejs.config({\n",
       "            paths: {\n",
       "                'plotly': ['https://cdn.plot.ly/plotly-2.20.0.min']\n",
       "            }\n",
       "        });\n",
       "        require(['plotly'], function(Plotly) {\n",
       "            window._Plotly = Plotly;\n",
       "        });\n",
       "        }\n",
       "        </script>\n",
       "        "
      ]
     },
     "metadata": {},
     "output_type": "display_data"
    }
   ],
   "source": [
    "import pandas as pd\n",
    "import numpy as np \n",
    "import matplotlib.pyplot as plt\n",
    "import seaborn as sns\n",
    "from chart_studio import plotly\n",
    "from plotly.offline import download_plotlyjs,plot, iplot, init_notebook_mode\n",
    "from sklearnex import patch_sklearn\n",
    "patch_sklearn()\n",
    "import cufflinks as cf\n",
    "cf.go_offline()\n",
    "import plotly\n",
    "from plotly import graph_objs as go\n",
    "\n",
    "init_notebook_mode(connected=True)\n",
    "%matplotlib inline"
   ]
  },
  {
   "cell_type": "code",
   "execution_count": null,
   "metadata": {
    "id": "s7rZYGtPkIuq"
   },
   "outputs": [],
   "source": [
    "train = pd.read_csv(\"train_data_final.csv\")"
   ]
  },
  {
   "cell_type": "code",
   "execution_count": null,
   "metadata": {
    "id": "RtLvFJNzkIur",
    "outputId": "ce0e0832-2982-4a73-f134-188dc434747f"
   },
   "outputs": [
    {
     "data": {
      "text/html": [
       "<div>\n",
       "<style scoped>\n",
       "    .dataframe tbody tr th:only-of-type {\n",
       "        vertical-align: middle;\n",
       "    }\n",
       "\n",
       "    .dataframe tbody tr th {\n",
       "        vertical-align: top;\n",
       "    }\n",
       "\n",
       "    .dataframe thead th {\n",
       "        text-align: right;\n",
       "    }\n",
       "</style>\n",
       "<table border=\"1\" class=\"dataframe\">\n",
       "  <thead>\n",
       "    <tr style=\"text-align: right;\">\n",
       "      <th></th>\n",
       "      <th>EmployeeID</th>\n",
       "      <th>Left_Company</th>\n",
       "      <th>Job_History</th>\n",
       "      <th>Joining_Date</th>\n",
       "      <th>Designation</th>\n",
       "      <th>Sex</th>\n",
       "      <th>TotalWorkingHours</th>\n",
       "      <th>Billable_Hours</th>\n",
       "      <th>Hours_off_Duty</th>\n",
       "      <th>Touring_Hours</th>\n",
       "      <th>NoOfProjects</th>\n",
       "      <th>ActualTimeSpent</th>\n",
       "    </tr>\n",
       "  </thead>\n",
       "  <tbody>\n",
       "    <tr>\n",
       "      <th>0</th>\n",
       "      <td>emp-1</td>\n",
       "      <td>0.0</td>\n",
       "      <td>Worked at Company - 639 , Company - 212 , Comp...</td>\n",
       "      <td>2011_01</td>\n",
       "      <td>MD</td>\n",
       "      <td>1</td>\n",
       "      <td>205.0</td>\n",
       "      <td>189.0</td>\n",
       "      <td>72.0</td>\n",
       "      <td>189.0</td>\n",
       "      <td>3</td>\n",
       "      <td>231</td>\n",
       "    </tr>\n",
       "    <tr>\n",
       "      <th>1</th>\n",
       "      <td>emp-10</td>\n",
       "      <td>1.0</td>\n",
       "      <td>Worked at Company - 816 , Company - 724 , Comp...</td>\n",
       "      <td>2006_02</td>\n",
       "      <td>VP</td>\n",
       "      <td>0</td>\n",
       "      <td>241.0</td>\n",
       "      <td>233.0</td>\n",
       "      <td>120.0</td>\n",
       "      <td>186.0</td>\n",
       "      <td>2</td>\n",
       "      <td>147</td>\n",
       "    </tr>\n",
       "    <tr>\n",
       "      <th>2</th>\n",
       "      <td>emp-100</td>\n",
       "      <td>0.0</td>\n",
       "      <td>Worked at Company - 562 , Company - 319</td>\n",
       "      <td>2011_12</td>\n",
       "      <td>Senior</td>\n",
       "      <td>1</td>\n",
       "      <td>278.0</td>\n",
       "      <td>264.0</td>\n",
       "      <td>40.0</td>\n",
       "      <td>264.0</td>\n",
       "      <td>3</td>\n",
       "      <td>308</td>\n",
       "    </tr>\n",
       "    <tr>\n",
       "      <th>3</th>\n",
       "      <td>emp-101</td>\n",
       "      <td>0.0</td>\n",
       "      <td>Worked at Company - 212 , Company - 668 , Comp...</td>\n",
       "      <td>2012_01</td>\n",
       "      <td>Senior</td>\n",
       "      <td>1</td>\n",
       "      <td>345.5</td>\n",
       "      <td>233.5</td>\n",
       "      <td>64.0</td>\n",
       "      <td>0.0</td>\n",
       "      <td>2</td>\n",
       "      <td>217</td>\n",
       "    </tr>\n",
       "    <tr>\n",
       "      <th>4</th>\n",
       "      <td>emp-102</td>\n",
       "      <td>0.0</td>\n",
       "      <td>Worked at Company - 234</td>\n",
       "      <td>2011_12</td>\n",
       "      <td>Senior</td>\n",
       "      <td>1</td>\n",
       "      <td>270.0</td>\n",
       "      <td>249.0</td>\n",
       "      <td>88.0</td>\n",
       "      <td>213.0</td>\n",
       "      <td>2</td>\n",
       "      <td>231</td>\n",
       "    </tr>\n",
       "  </tbody>\n",
       "</table>\n",
       "</div>"
      ],
      "text/plain": [
       "  EmployeeID  Left_Company                                        Job_History  \\\n",
       "0      emp-1           0.0  Worked at Company - 639 , Company - 212 , Comp...   \n",
       "1     emp-10           1.0  Worked at Company - 816 , Company - 724 , Comp...   \n",
       "2    emp-100           0.0            Worked at Company - 562 , Company - 319   \n",
       "3    emp-101           0.0  Worked at Company - 212 , Company - 668 , Comp...   \n",
       "4    emp-102           0.0                            Worked at Company - 234   \n",
       "\n",
       "  Joining_Date Designation  Sex  TotalWorkingHours  Billable_Hours  \\\n",
       "0      2011_01          MD    1              205.0           189.0   \n",
       "1      2006_02          VP    0              241.0           233.0   \n",
       "2      2011_12      Senior    1              278.0           264.0   \n",
       "3      2012_01      Senior    1              345.5           233.5   \n",
       "4      2011_12      Senior    1              270.0           249.0   \n",
       "\n",
       "   Hours_off_Duty  Touring_Hours  NoOfProjects  ActualTimeSpent  \n",
       "0            72.0          189.0             3              231  \n",
       "1           120.0          186.0             2              147  \n",
       "2            40.0          264.0             3              308  \n",
       "3            64.0            0.0             2              217  \n",
       "4            88.0          213.0             2              231  "
      ]
     },
     "execution_count": 3,
     "metadata": {},
     "output_type": "execute_result"
    }
   ],
   "source": [
    "train.head()"
   ]
  },
  {
   "cell_type": "code",
   "execution_count": null,
   "metadata": {
    "id": "aQ0oc8b3kIur",
    "outputId": "fa428ca9-6a43-4d1d-ec7a-adbd80754040"
   },
   "outputs": [
    {
     "data": {
      "text/plain": [
       "EmployeeID           0\n",
       "Left_Company         0\n",
       "Job_History          0\n",
       "Joining_Date         0\n",
       "Designation          0\n",
       "Sex                  0\n",
       "TotalWorkingHours    0\n",
       "Billable_Hours       0\n",
       "Hours_off_Duty       0\n",
       "Touring_Hours        0\n",
       "NoOfProjects         0\n",
       "ActualTimeSpent      0\n",
       "dtype: int64"
      ]
     },
     "execution_count": 4,
     "metadata": {},
     "output_type": "execute_result"
    }
   ],
   "source": [
    "train.isnull().sum()"
   ]
  },
  {
   "cell_type": "markdown",
   "metadata": {
    "id": "D-nnnboDkIus"
   },
   "source": [
    "## Uni-Variate Analysis - Independent variables."
   ]
  },
  {
   "cell_type": "code",
   "execution_count": null,
   "metadata": {
    "id": "MusN3P75kIuu",
    "outputId": "4d19262c-466b-4e97-d005-9a4b1be0f477"
   },
   "outputs": [
    {
     "name": "stdout",
     "output_type": "stream",
     "text": [
      "Sex counts in the data: \n",
      "1    216\n",
      "0     29\n",
      "Name: Sex, dtype: int64\n",
      "------------------------------------------------------------------------------------------------------------------------------\n"
     ]
    },
    {
     "data": {
      "application/vnd.plotly.v1+json": {
       "config": {
        "linkText": "Export to plot.ly",
        "plotlyServerURL": "https://plot.ly",
        "showLink": true
       },
       "data": [
        {
         "marker": {
          "color": "rgba(255, 153, 51, 0.6)",
          "line": {
           "color": "rgba(255, 153, 51, 1.0)",
           "width": 1
          }
         },
         "name": "Sex",
         "orientation": "v",
         "text": "",
         "type": "bar",
         "uid": "7709babc-67ef-4e41-bd66-94c1b1235885",
         "x": [
          1,
          0
         ],
         "y": [
          216,
          29
         ]
        }
       ],
       "layout": {
        "height": 400,
        "legend": {
         "bgcolor": "#F5F6F9",
         "font": {
          "color": "#4D5663"
         }
        },
        "paper_bgcolor": "#F5F6F9",
        "plot_bgcolor": "#F5F6F9",
        "title": {
         "font": {
          "color": "#4D5663"
         },
         "text": "No of Males & Females in the data"
        },
        "width": 400,
        "xaxis": {
         "autorange": true,
         "gridcolor": "#E1E5ED",
         "range": [
          -0.5,
          1.5
         ],
         "showgrid": true,
         "tickfont": {
          "color": "#4D5663"
         },
         "title": {
          "font": {
           "color": "#4D5663"
          },
          "text": "Gender"
         },
         "type": "linear",
         "zerolinecolor": "#E1E5ED"
        },
        "yaxis": {
         "autorange": true,
         "gridcolor": "#E1E5ED",
         "range": [
          0,
          227.3684210526316
         ],
         "showgrid": true,
         "tickfont": {
          "color": "#4D5663"
         },
         "title": {
          "font": {
           "color": "#4D5663"
          },
          "text": "Counts of Gender"
         },
         "type": "linear",
         "zerolinecolor": "#E1E5ED"
        }
       }
      },
      "image/png": "[encoded data removed]",
      "text/html": [
       "<div>\n",
       "        \n",
       "        \n",
       "            <div id=\"e960d1e2-3106-4238-9c83-85f5ff67a049\" class=\"plotly-graph-div\" style=\"height:400px; width:400px;\"></div>\n",
       "            <script type=\"text/javascript\">\n",
       "                require([\"plotly\"], function(Plotly) {\n",
       "                    window.PLOTLYENV=window.PLOTLYENV || {};\n",
       "                    window.PLOTLYENV.BASE_URL='https://plot.ly';\n",
       "                    \n",
       "                if (document.getElementById(\"e960d1e2-3106-4238-9c83-85f5ff67a049\")) {\n",
       "                    Plotly.newPlot(\n",
       "                        'e960d1e2-3106-4238-9c83-85f5ff67a049',\n",
       "                        [{\"marker\": {\"color\": \"rgba(255, 153, 51, 0.6)\", \"line\": {\"color\": \"rgba(255, 153, 51, 1.0)\", \"width\": 1}}, \"name\": \"Sex\", \"orientation\": \"v\", \"text\": \"\", \"type\": \"bar\", \"uid\": \"7709babc-67ef-4e41-bd66-94c1b1235885\", \"x\": [1, 0], \"y\": [216, 29]}],\n",
       "                        {\"height\": 400, \"legend\": {\"bgcolor\": \"#F5F6F9\", \"font\": {\"color\": \"#4D5663\"}}, \"paper_bgcolor\": \"#F5F6F9\", \"plot_bgcolor\": \"#F5F6F9\", \"title\": {\"font\": {\"color\": \"#4D5663\"}, \"text\": \"No of Males & Females in the data\"}, \"width\": 400, \"xaxis\": {\"gridcolor\": \"#E1E5ED\", \"showgrid\": true, \"tickfont\": {\"color\": \"#4D5663\"}, \"title\": {\"font\": {\"color\": \"#4D5663\"}, \"text\": \"Gender\"}, \"zerolinecolor\": \"#E1E5ED\"}, \"yaxis\": {\"gridcolor\": \"#E1E5ED\", \"showgrid\": true, \"tickfont\": {\"color\": \"#4D5663\"}, \"title\": {\"font\": {\"color\": \"#4D5663\"}, \"text\": \"Counts of Gender\"}, \"zerolinecolor\": \"#E1E5ED\"}},\n",
       "                        {\"showLink\": true, \"linkText\": \"Export to plot.ly\", \"plotlyServerURL\": \"https://plot.ly\", \"responsive\": true}\n",
       "                    ).then(function(){\n",
       "                            \n",
       "var gd = document.getElementById('e960d1e2-3106-4238-9c83-85f5ff67a049');\n",
       "var x = new MutationObserver(function (mutations, observer) {{\n",
       "        var display = window.getComputedStyle(gd).display;\n",
       "        if (!display || display === 'none') {{\n",
       "            console.log([gd, 'removed!']);\n",
       "            Plotly.purge(gd);\n",
       "            observer.disconnect();\n",
       "        }}\n",
       "}});\n",
       "\n",
       "// Listen for the removal of the full notebook cells\n",
       "var notebookContainer = gd.closest('#notebook-container');\n",
       "if (notebookContainer) {{\n",
       "    x.observe(notebookContainer, {childList: true});\n",
       "}}\n",
       "\n",
       "// Listen for the clearing of the current output cell\n",
       "var outputEl = gd.closest('.output');\n",
       "if (outputEl) {{\n",
       "    x.observe(outputEl, {childList: true});\n",
       "}}\n",
       "\n",
       "                        })\n",
       "                };\n",
       "                });\n",
       "            </script>\n",
       "        </div>"
      ]
     },
     "metadata": {},
     "output_type": "display_data"
    }
   ],
   "source": [
    "#Checking the count's of the gender in the data.\n",
    "\n",
    "print(\"Sex counts in the data: \")\n",
    "print(train['Sex'].value_counts())\n",
    "print(\"------------------------------------------------------------------------------------------------------------------------------\")\n",
    "\n",
    "#visulaize using the graph\n",
    "train['Sex'].value_counts().iplot(kind='bar', yTitle=\"Counts of Gender\", \n",
    "                                  xTitle=\"Gender\", title=\"No of Males & Females in the data\",\n",
    "                                 dimensions=(400,400))\n"
   ]
  },
  {
   "cell_type": "code",
   "execution_count": null,
   "metadata": {
    "id": "WXz6H7JbkIuv"
   },
   "outputs": [],
   "source": []
  },
  {
   "cell_type": "code",
   "execution_count": null,
   "metadata": {
    "id": "XG8IHDeqkIuw",
    "outputId": "4a549ffe-25c7-4cec-b626-05319d5cc814"
   },
   "outputs": [
    {
     "name": "stdout",
     "output_type": "stream",
     "text": [
      "Designation counts in the data: \n",
      "Junior    79\n",
      "Senior    63\n",
      "VP        63\n",
      "EVP       28\n",
      "MD        12\n",
      "Name: Designation, dtype: int64\n",
      "------------------------------------------------------------------------------------------------------------------------------\n"
     ]
    },
    {
     "data": {
      "application/vnd.plotly.v1+json": {
       "config": {
        "linkText": "Export to plot.ly",
        "plotlyServerURL": "https://plot.ly",
        "showLink": true
       },
       "data": [
        {
         "marker": {
          "color": "rgba(255, 153, 51, 0.6)",
          "line": {
           "color": "rgba(255, 153, 51, 1.0)",
           "width": 1
          }
         },
         "name": "Designation",
         "orientation": "v",
         "text": "",
         "type": "bar",
         "uid": "9a8a0030-27d9-45ae-bf5d-c80fb1b4651a",
         "x": [
          "Junior",
          "Senior",
          "VP",
          "EVP",
          "MD"
         ],
         "y": [
          79,
          63,
          63,
          28,
          12
         ]
        }
       ],
       "layout": {
        "height": 500,
        "legend": {
         "bgcolor": "#F5F6F9",
         "font": {
          "color": "#4D5663"
         }
        },
        "paper_bgcolor": "#F5F6F9",
        "plot_bgcolor": "#F5F6F9",
        "title": {
         "font": {
          "color": "#4D5663"
         },
         "text": "Different Designations in the data"
        },
        "width": 600,
        "xaxis": {
         "autorange": true,
         "gridcolor": "#E1E5ED",
         "range": [
          -0.5,
          4.5
         ],
         "showgrid": true,
         "tickfont": {
          "color": "#4D5663"
         },
         "title": {
          "font": {
           "color": "#4D5663"
          },
          "text": "Designations"
         },
         "type": "category",
         "zerolinecolor": "#E1E5ED"
        },
        "yaxis": {
         "autorange": true,
         "gridcolor": "#E1E5ED",
         "range": [
          0,
          83.15789473684211
         ],
         "showgrid": true,
         "tickfont": {
          "color": "#4D5663"
         },
         "title": {
          "font": {
           "color": "#4D5663"
          },
          "text": "Counts of Designation in the company"
         },
         "type": "linear",
         "zerolinecolor": "#E1E5ED"
        }
       }
      },
      "image/png": "[encoded data removed]",
      "text/html": [
       "<div>\n",
       "        \n",
       "        \n",
       "            <div id=\"77b37733-03f4-48f1-ae2a-4439426c4e52\" class=\"plotly-graph-div\" style=\"height:500px; width:600px;\"></div>\n",
       "            <script type=\"text/javascript\">\n",
       "                require([\"plotly\"], function(Plotly) {\n",
       "                    window.PLOTLYENV=window.PLOTLYENV || {};\n",
       "                    window.PLOTLYENV.BASE_URL='https://plot.ly';\n",
       "                    \n",
       "                if (document.getElementById(\"77b37733-03f4-48f1-ae2a-4439426c4e52\")) {\n",
       "                    Plotly.newPlot(\n",
       "                        '77b37733-03f4-48f1-ae2a-4439426c4e52',\n",
       "                        [{\"marker\": {\"color\": \"rgba(255, 153, 51, 0.6)\", \"line\": {\"color\": \"rgba(255, 153, 51, 1.0)\", \"width\": 1}}, \"name\": \"Designation\", \"orientation\": \"v\", \"text\": \"\", \"type\": \"bar\", \"uid\": \"9a8a0030-27d9-45ae-bf5d-c80fb1b4651a\", \"x\": [\"Junior\", \"Senior\", \"VP\", \"EVP\", \"MD\"], \"y\": [79, 63, 63, 28, 12]}],\n",
       "                        {\"height\": 500, \"legend\": {\"bgcolor\": \"#F5F6F9\", \"font\": {\"color\": \"#4D5663\"}}, \"paper_bgcolor\": \"#F5F6F9\", \"plot_bgcolor\": \"#F5F6F9\", \"title\": {\"font\": {\"color\": \"#4D5663\"}, \"text\": \"Different Designations in the data\"}, \"width\": 600, \"xaxis\": {\"gridcolor\": \"#E1E5ED\", \"showgrid\": true, \"tickfont\": {\"color\": \"#4D5663\"}, \"title\": {\"font\": {\"color\": \"#4D5663\"}, \"text\": \"Designations\"}, \"zerolinecolor\": \"#E1E5ED\"}, \"yaxis\": {\"gridcolor\": \"#E1E5ED\", \"showgrid\": true, \"tickfont\": {\"color\": \"#4D5663\"}, \"title\": {\"font\": {\"color\": \"#4D5663\"}, \"text\": \"Counts of Designation in the company\"}, \"zerolinecolor\": \"#E1E5ED\"}},\n",
       "                        {\"showLink\": true, \"linkText\": \"Export to plot.ly\", \"plotlyServerURL\": \"https://plot.ly\", \"responsive\": true}\n",
       "                    ).then(function(){\n",
       "                            \n",
       "var gd = document.getElementById('77b37733-03f4-48f1-ae2a-4439426c4e52');\n",
       "var x = new MutationObserver(function (mutations, observer) {{\n",
       "        var display = window.getComputedStyle(gd).display;\n",
       "        if (!display || display === 'none') {{\n",
       "            console.log([gd, 'removed!']);\n",
       "            Plotly.purge(gd);\n",
       "            observer.disconnect();\n",
       "        }}\n",
       "}});\n",
       "\n",
       "// Listen for the removal of the full notebook cells\n",
       "var notebookContainer = gd.closest('#notebook-container');\n",
       "if (notebookContainer) {{\n",
       "    x.observe(notebookContainer, {childList: true});\n",
       "}}\n",
       "\n",
       "// Listen for the clearing of the current output cell\n",
       "var outputEl = gd.closest('.output');\n",
       "if (outputEl) {{\n",
       "    x.observe(outputEl, {childList: true});\n",
       "}}\n",
       "\n",
       "                        })\n",
       "                };\n",
       "                });\n",
       "            </script>\n",
       "        </div>"
      ]
     },
     "metadata": {},
     "output_type": "display_data"
    }
   ],
   "source": [
    "#Checking the different designations in the data. \n",
    "\n",
    "print(\"Designation counts in the data: \")\n",
    "print(train['Designation'].value_counts())\n",
    "print(\"------------------------------------------------------------------------------------------------------------------------------\")\n",
    "\n",
    "train['Designation'].value_counts().iplot(kind='bar', yTitle=\"Counts of Designation in the company\",\n",
    "                                          xTitle=\"Designations\", title=\"Different Designations in the data\",\n",
    "                                 dimensions=(600,500))\n"
   ]
  },
  {
   "cell_type": "markdown",
   "metadata": {
    "id": "Dc7ZQoqfkIuw"
   },
   "source": [
    "## Observations\n",
    " **In the company most of the designations belong to Junior, Senior & VP** "
   ]
  },
  {
   "cell_type": "code",
   "execution_count": null,
   "metadata": {
    "id": "S_osK2EnkIux",
    "outputId": "ded91d4e-ff3e-43e5-ef96-b11bc927a2a8"
   },
   "outputs": [
    {
     "name": "stdout",
     "output_type": "stream",
     "text": [
      "No of projects that each employess work on most: \n",
      "2    123\n",
      "3     57\n",
      "1     30\n",
      "4     16\n",
      "5      8\n",
      "6      5\n",
      "0      5\n",
      "7      1\n",
      "Name: NoOfProjects, dtype: int64\n",
      "------------------------------------------------------------------------------------------------------------------------------\n"
     ]
    },
    {
     "data": {
      "application/vnd.plotly.v1+json": {
       "config": {
        "linkText": "Export to plot.ly",
        "plotlyServerURL": "https://plot.ly",
        "showLink": true
       },
       "data": [
        {
         "marker": {
          "color": "rgba(255, 153, 51, 0.6)",
          "line": {
           "color": "rgba(255, 153, 51, 1.0)",
           "width": 1
          }
         },
         "name": "NoOfProjects",
         "orientation": "v",
         "text": "",
         "type": "bar",
         "uid": "0ac2c78b-3dbf-4795-9827-167c9d8745ad",
         "x": [
          2,
          3,
          1,
          4,
          5,
          6,
          0,
          7
         ],
         "y": [
          123,
          57,
          30,
          16,
          8,
          5,
          5,
          1
         ]
        }
       ],
       "layout": {
        "height": 500,
        "legend": {
         "bgcolor": "#F5F6F9",
         "font": {
          "color": "#4D5663"
         }
        },
        "paper_bgcolor": "#F5F6F9",
        "plot_bgcolor": "#F5F6F9",
        "title": {
         "font": {
          "color": "#4D5663"
         },
         "text": "No of projects that each employee work."
        },
        "width": 600,
        "xaxis": {
         "autorange": true,
         "gridcolor": "#E1E5ED",
         "range": [
          -0.5,
          7.5
         ],
         "showgrid": true,
         "tickfont": {
          "color": "#4D5663"
         },
         "title": {
          "font": {
           "color": "#4D5663"
          },
          "text": "No of projects"
         },
         "type": "linear",
         "zerolinecolor": "#E1E5ED"
        },
        "yaxis": {
         "autorange": true,
         "gridcolor": "#E1E5ED",
         "range": [
          0,
          129.47368421052633
         ],
         "showgrid": true,
         "tickfont": {
          "color": "#4D5663"
         },
         "title": {
          "font": {
           "color": "#4D5663"
          },
          "text": "Counts of projects in the company"
         },
         "type": "linear",
         "zerolinecolor": "#E1E5ED"
        }
       }
      },
      "image/png": "[encoded data removed]",
      "text/html": [
       "<div>\n",
       "        \n",
       "        \n",
       "            <div id=\"2e8395f4-1933-46f8-a7c8-fbac32ce28d0\" class=\"plotly-graph-div\" style=\"height:500px; width:600px;\"></div>\n",
       "            <script type=\"text/javascript\">\n",
       "                require([\"plotly\"], function(Plotly) {\n",
       "                    window.PLOTLYENV=window.PLOTLYENV || {};\n",
       "                    window.PLOTLYENV.BASE_URL='https://plot.ly';\n",
       "                    \n",
       "                if (document.getElementById(\"2e8395f4-1933-46f8-a7c8-fbac32ce28d0\")) {\n",
       "                    Plotly.newPlot(\n",
       "                        '2e8395f4-1933-46f8-a7c8-fbac32ce28d0',\n",
       "                        [{\"marker\": {\"color\": \"rgba(255, 153, 51, 0.6)\", \"line\": {\"color\": \"rgba(255, 153, 51, 1.0)\", \"width\": 1}}, \"name\": \"NoOfProjects\", \"orientation\": \"v\", \"text\": \"\", \"type\": \"bar\", \"uid\": \"0ac2c78b-3dbf-4795-9827-167c9d8745ad\", \"x\": [2, 3, 1, 4, 5, 6, 0, 7], \"y\": [123, 57, 30, 16, 8, 5, 5, 1]}],\n",
       "                        {\"height\": 500, \"legend\": {\"bgcolor\": \"#F5F6F9\", \"font\": {\"color\": \"#4D5663\"}}, \"paper_bgcolor\": \"#F5F6F9\", \"plot_bgcolor\": \"#F5F6F9\", \"title\": {\"font\": {\"color\": \"#4D5663\"}, \"text\": \"No of projects that each employee work.\"}, \"width\": 600, \"xaxis\": {\"gridcolor\": \"#E1E5ED\", \"showgrid\": true, \"tickfont\": {\"color\": \"#4D5663\"}, \"title\": {\"font\": {\"color\": \"#4D5663\"}, \"text\": \"No of projects\"}, \"zerolinecolor\": \"#E1E5ED\"}, \"yaxis\": {\"gridcolor\": \"#E1E5ED\", \"showgrid\": true, \"tickfont\": {\"color\": \"#4D5663\"}, \"title\": {\"font\": {\"color\": \"#4D5663\"}, \"text\": \"Counts of projects in the company\"}, \"zerolinecolor\": \"#E1E5ED\"}},\n",
       "                        {\"showLink\": true, \"linkText\": \"Export to plot.ly\", \"plotlyServerURL\": \"https://plot.ly\", \"responsive\": true}\n",
       "                    ).then(function(){\n",
       "                            \n",
       "var gd = document.getElementById('2e8395f4-1933-46f8-a7c8-fbac32ce28d0');\n",
       "var x = new MutationObserver(function (mutations, observer) {{\n",
       "        var display = window.getComputedStyle(gd).display;\n",
       "        if (!display || display === 'none') {{\n",
       "            console.log([gd, 'removed!']);\n",
       "            Plotly.purge(gd);\n",
       "            observer.disconnect();\n",
       "        }}\n",
       "}});\n",
       "\n",
       "// Listen for the removal of the full notebook cells\n",
       "var notebookContainer = gd.closest('#notebook-container');\n",
       "if (notebookContainer) {{\n",
       "    x.observe(notebookContainer, {childList: true});\n",
       "}}\n",
       "\n",
       "// Listen for the clearing of the current output cell\n",
       "var outputEl = gd.closest('.output');\n",
       "if (outputEl) {{\n",
       "    x.observe(outputEl, {childList: true});\n",
       "}}\n",
       "\n",
       "                        })\n",
       "                };\n",
       "                });\n",
       "            </script>\n",
       "        </div>"
      ]
     },
     "metadata": {},
     "output_type": "display_data"
    }
   ],
   "source": [
    "\n",
    "print(\"No of projects that each employess work on most: \")\n",
    "print(train['NoOfProjects'].value_counts())\n",
    "print(\"------------------------------------------------------------------------------------------------------------------------------\")\n",
    "\n",
    "train['NoOfProjects'].value_counts().iplot(kind='bar', yTitle=\"Counts of projects in the company\",\n",
    "                                           xTitle=\"No of projects\", title=\"No of projects that each employee work.\",\n",
    "                                 dimensions=(600,500))\n"
   ]
  },
  {
   "cell_type": "markdown",
   "metadata": {
    "id": "J6Rr5RtEkIuy"
   },
   "source": [
    "## Observation:\n",
    " **Mostly employess end up doing 2 or 3 projects in the company.**"
   ]
  },
  {
   "cell_type": "code",
   "execution_count": null,
   "metadata": {
    "id": "T09Uf8m4kIuy",
    "outputId": "a7d9b783-1c9d-4d29-c652-dde90dd687cc"
   },
   "outputs": [
    {
     "name": "stdout",
     "output_type": "stream",
     "text": [
      "Joning dates of the employee's in the company\n",
      "2012_05    17\n",
      "2012_02    15\n",
      "2012_09    13\n",
      "2013_02    10\n",
      "2009_07    10\n",
      "2012_11    10\n",
      "2013_01     9\n",
      "2010_07     8\n",
      "2011_02     8\n",
      "2011_12     7\n",
      "Name: Joining_Date, dtype: int64\n",
      "------------------------------------------------------------------------------------------------------------------------------\n"
     ]
    },
    {
     "data": {
      "application/vnd.plotly.v1+json": {
       "config": {
        "linkText": "Export to plot.ly",
        "plotlyServerURL": "https://plot.ly",
        "showLink": true
       },
       "data": [
        {
         "marker": {
          "color": "rgba(255, 153, 51, 0.6)",
          "line": {
           "color": "rgba(255, 153, 51, 1.0)",
           "width": 1
          }
         },
         "name": "Joining_Date",
         "orientation": "v",
         "text": "",
         "type": "bar",
         "uid": "e27ee1e7-5ab5-4cef-87b9-9edc53d3e704",
         "x": [
          "2012_05",
          "2012_02",
          "2012_09",
          "2013_02",
          "2009_07",
          "2012_11",
          "2013_01",
          "2010_07",
          "2011_02",
          "2011_12",
          "2010_10",
          "2011_06",
          "2012_04",
          "2012_01",
          "2010_04",
          "2011_09",
          "2009_10",
          "2010_12",
          "2012_06",
          "2011_10",
          "2012_10",
          "2010_06",
          "2012_12",
          "2010_09",
          "2011_11",
          "2012_07",
          "2011_07",
          "2012_03",
          "2007_07",
          "2012_08",
          "2011_01",
          "2009_12",
          "2008_07",
          "2013_03",
          "2009_02",
          "2003_06",
          "2009_03",
          "2002_04",
          "2006_02",
          "2008_02",
          "2008_12",
          "2013_04",
          "2010_05",
          "2008_06",
          "2011_05",
          "2008_10",
          "2008_01",
          "2008_09",
          "2011_04",
          "2006_09",
          "2003_12",
          "2008_11",
          "2005_12",
          "2009_08",
          "2007_11"
         ],
         "y": [
          17,
          15,
          13,
          10,
          10,
          10,
          9,
          8,
          8,
          7,
          7,
          7,
          7,
          7,
          6,
          5,
          5,
          5,
          5,
          5,
          5,
          5,
          4,
          4,
          4,
          4,
          3,
          3,
          3,
          3,
          3,
          3,
          3,
          2,
          2,
          2,
          2,
          2,
          2,
          2,
          2,
          2,
          2,
          1,
          1,
          1,
          1,
          1,
          1,
          1,
          1,
          1,
          1,
          1,
          1
         ]
        }
       ],
       "layout": {
        "height": 500,
        "legend": {
         "bgcolor": "#F5F6F9",
         "font": {
          "color": "#4D5663"
         }
        },
        "paper_bgcolor": "#F5F6F9",
        "plot_bgcolor": "#F5F6F9",
        "title": {
         "font": {
          "color": "#4D5663"
         },
         "text": "Different joining in the data"
        },
        "width": 600,
        "xaxis": {
         "autorange": true,
         "gridcolor": "#E1E5ED",
         "range": [
          -0.5,
          54.5
         ],
         "showgrid": true,
         "tickfont": {
          "color": "#4D5663"
         },
         "title": {
          "font": {
           "color": "#4D5663"
          },
          "text": "Joing dates"
         },
         "type": "category",
         "zerolinecolor": "#E1E5ED"
        },
        "yaxis": {
         "autorange": true,
         "gridcolor": "#E1E5ED",
         "range": [
          0,
          17.894736842105264
         ],
         "showgrid": true,
         "tickfont": {
          "color": "#4D5663"
         },
         "title": {
          "font": {
           "color": "#4D5663"
          },
          "text": "Joining dates of employees in the company"
         },
         "type": "linear",
         "zerolinecolor": "#E1E5ED"
        }
       }
      },
      "image/png": "[encoded data removed]",
      "text/html": [
       "<div>\n",
       "        \n",
       "        \n",
       "            <div id=\"acb1b96b-bd17-4b4c-ac3e-e8374c4de57f\" class=\"plotly-graph-div\" style=\"height:500px; width:600px;\"></div>\n",
       "            <script type=\"text/javascript\">\n",
       "                require([\"plotly\"], function(Plotly) {\n",
       "                    window.PLOTLYENV=window.PLOTLYENV || {};\n",
       "                    window.PLOTLYENV.BASE_URL='https://plot.ly';\n",
       "                    \n",
       "                if (document.getElementById(\"acb1b96b-bd17-4b4c-ac3e-e8374c4de57f\")) {\n",
       "                    Plotly.newPlot(\n",
       "                        'acb1b96b-bd17-4b4c-ac3e-e8374c4de57f',\n",
       "                        [{\"marker\": {\"color\": \"rgba(255, 153, 51, 0.6)\", \"line\": {\"color\": \"rgba(255, 153, 51, 1.0)\", \"width\": 1}}, \"name\": \"Joining_Date\", \"orientation\": \"v\", \"text\": \"\", \"type\": \"bar\", \"uid\": \"e27ee1e7-5ab5-4cef-87b9-9edc53d3e704\", \"x\": [\"2012_05\", \"2012_02\", \"2012_09\", \"2013_02\", \"2009_07\", \"2012_11\", \"2013_01\", \"2010_07\", \"2011_02\", \"2011_12\", \"2010_10\", \"2011_06\", \"2012_04\", \"2012_01\", \"2010_04\", \"2011_09\", \"2009_10\", \"2010_12\", \"2012_06\", \"2011_10\", \"2012_10\", \"2010_06\", \"2012_12\", \"2010_09\", \"2011_11\", \"2012_07\", \"2011_07\", \"2012_03\", \"2007_07\", \"2012_08\", \"2011_01\", \"2009_12\", \"2008_07\", \"2013_03\", \"2009_02\", \"2003_06\", \"2009_03\", \"2002_04\", \"2006_02\", \"2008_02\", \"2008_12\", \"2013_04\", \"2010_05\", \"2008_06\", \"2011_05\", \"2008_10\", \"2008_01\", \"2008_09\", \"2011_04\", \"2006_09\", \"2003_12\", \"2008_11\", \"2005_12\", \"2009_08\", \"2007_11\"], \"y\": [17, 15, 13, 10, 10, 10, 9, 8, 8, 7, 7, 7, 7, 7, 6, 5, 5, 5, 5, 5, 5, 5, 4, 4, 4, 4, 3, 3, 3, 3, 3, 3, 3, 2, 2, 2, 2, 2, 2, 2, 2, 2, 2, 1, 1, 1, 1, 1, 1, 1, 1, 1, 1, 1, 1]}],\n",
       "                        {\"height\": 500, \"legend\": {\"bgcolor\": \"#F5F6F9\", \"font\": {\"color\": \"#4D5663\"}}, \"paper_bgcolor\": \"#F5F6F9\", \"plot_bgcolor\": \"#F5F6F9\", \"title\": {\"font\": {\"color\": \"#4D5663\"}, \"text\": \"Different joining in the data\"}, \"width\": 600, \"xaxis\": {\"gridcolor\": \"#E1E5ED\", \"showgrid\": true, \"tickfont\": {\"color\": \"#4D5663\"}, \"title\": {\"font\": {\"color\": \"#4D5663\"}, \"text\": \"Joing dates\"}, \"zerolinecolor\": \"#E1E5ED\"}, \"yaxis\": {\"gridcolor\": \"#E1E5ED\", \"showgrid\": true, \"tickfont\": {\"color\": \"#4D5663\"}, \"title\": {\"font\": {\"color\": \"#4D5663\"}, \"text\": \"Joining dates of employees in the company\"}, \"zerolinecolor\": \"#E1E5ED\"}},\n",
       "                        {\"showLink\": true, \"linkText\": \"Export to plot.ly\", \"plotlyServerURL\": \"https://plot.ly\", \"responsive\": true}\n",
       "                    ).then(function(){\n",
       "                            \n",
       "var gd = document.getElementById('acb1b96b-bd17-4b4c-ac3e-e8374c4de57f');\n",
       "var x = new MutationObserver(function (mutations, observer) {{\n",
       "        var display = window.getComputedStyle(gd).display;\n",
       "        if (!display || display === 'none') {{\n",
       "            console.log([gd, 'removed!']);\n",
       "            Plotly.purge(gd);\n",
       "            observer.disconnect();\n",
       "        }}\n",
       "}});\n",
       "\n",
       "// Listen for the removal of the full notebook cells\n",
       "var notebookContainer = gd.closest('#notebook-container');\n",
       "if (notebookContainer) {{\n",
       "    x.observe(notebookContainer, {childList: true});\n",
       "}}\n",
       "\n",
       "// Listen for the clearing of the current output cell\n",
       "var outputEl = gd.closest('.output');\n",
       "if (outputEl) {{\n",
       "    x.observe(outputEl, {childList: true});\n",
       "}}\n",
       "\n",
       "                        })\n",
       "                };\n",
       "                });\n",
       "            </script>\n",
       "        </div>"
      ]
     },
     "metadata": {},
     "output_type": "display_data"
    }
   ],
   "source": [
    "#Joining dates in the company by year\n",
    "\n",
    "print(\"Joning dates of the employee's in the company\")\n",
    "\n",
    "#Check which year or month when employees hired most\n",
    "print(train['Joining_Date'].value_counts().head(10))\n",
    "print(\"----------------------------------------------------------------------------------\")\n",
    "\n",
    "#visualize the Joning dates \n",
    "train['Joining_Date'].value_counts().iplot(kind='bar', yTitle=\"Joining dates of employees in the company\",\n",
    "                                           xTitle=\"Joing dates\", title=\"Different joining in the data\",\n",
    "                                 dimensions=(600,500))\n"
   ]
  },
  {
   "cell_type": "markdown",
   "metadata": {
    "id": "0Sb2-UcgkIuz"
   },
   "source": [
    "## Observation:\n",
    "- **Most of the employess are hired from the year 2010 to 2013.**\n",
    "- **In 2020 most employees(45) were hired.**"
   ]
  },
  {
   "cell_type": "markdown",
   "metadata": {
    "id": "mNEIlc59kIuz"
   },
   "source": [
    "## Dependent variable distribution."
   ]
  },
  {
   "cell_type": "code",
   "execution_count": null,
   "metadata": {
    "id": "p4gYPRDkkIuz",
    "outputId": "83dd0205-c164-4099-d773-54e9e8d328a3"
   },
   "outputs": [
    {
     "name": "stdout",
     "output_type": "stream",
     "text": [
      "0.0    218\n",
      "1.0     27\n",
      "Name: Left_Company, dtype: int64\n"
     ]
    },
    {
     "data": {
      "application/vnd.plotly.v1+json": {
       "config": {
        "linkText": "Export to plot.ly",
        "plotlyServerURL": "https://plot.ly",
        "showLink": true
       },
       "data": [
        {
         "marker": {
          "color": "rgba(255, 153, 51, 0.6)",
          "line": {
           "color": "rgba(255, 153, 51, 1.0)",
           "width": 1
          }
         },
         "name": "Left_Company",
         "orientation": "v",
         "text": "",
         "type": "bar",
         "uid": "4b1fe05c-eb5f-4ca6-8851-3899cfb5044d",
         "x": [
          0,
          1
         ],
         "y": [
          218,
          27
         ]
        }
       ],
       "layout": {
        "height": 500,
        "legend": {
         "bgcolor": "#F5F6F9",
         "font": {
          "color": "#4D5663"
         }
        },
        "paper_bgcolor": "#F5F6F9",
        "plot_bgcolor": "#F5F6F9",
        "title": {
         "font": {
          "color": "#4D5663"
         },
         "text": "No of employee's stayed or left the company"
        },
        "width": 400,
        "xaxis": {
         "autorange": true,
         "gridcolor": "#E1E5ED",
         "range": [
          -0.5,
          1.5
         ],
         "showgrid": true,
         "tickfont": {
          "color": "#4D5663"
         },
         "title": {
          "font": {
           "color": "#4D5663"
          },
          "text": "Employees- If Left=1, Stayed=0"
         },
         "type": "linear",
         "zerolinecolor": "#E1E5ED"
        },
        "yaxis": {
         "autorange": true,
         "gridcolor": "#E1E5ED",
         "range": [
          0,
          229.4736842105263
         ],
         "showgrid": true,
         "tickfont": {
          "color": "#4D5663"
         },
         "title": {
          "font": {
           "color": "#4D5663"
          },
          "text": "Counts"
         },
         "type": "linear",
         "zerolinecolor": "#E1E5ED"
        }
       }
      },
      "image/png": "[encoded data removed]",
      "text/html": [
       "<div>\n",
       "        \n",
       "        \n",
       "            <div id=\"d243bf58-ad01-4d57-a284-b155e99841b9\" class=\"plotly-graph-div\" style=\"height:500px; width:400px;\"></div>\n",
       "            <script type=\"text/javascript\">\n",
       "                require([\"plotly\"], function(Plotly) {\n",
       "                    window.PLOTLYENV=window.PLOTLYENV || {};\n",
       "                    window.PLOTLYENV.BASE_URL='https://plot.ly';\n",
       "                    \n",
       "                if (document.getElementById(\"d243bf58-ad01-4d57-a284-b155e99841b9\")) {\n",
       "                    Plotly.newPlot(\n",
       "                        'd243bf58-ad01-4d57-a284-b155e99841b9',\n",
       "                        [{\"marker\": {\"color\": \"rgba(255, 153, 51, 0.6)\", \"line\": {\"color\": \"rgba(255, 153, 51, 1.0)\", \"width\": 1}}, \"name\": \"Left_Company\", \"orientation\": \"v\", \"text\": \"\", \"type\": \"bar\", \"uid\": \"4b1fe05c-eb5f-4ca6-8851-3899cfb5044d\", \"x\": [0.0, 1.0], \"y\": [218, 27]}],\n",
       "                        {\"height\": 500, \"legend\": {\"bgcolor\": \"#F5F6F9\", \"font\": {\"color\": \"#4D5663\"}}, \"paper_bgcolor\": \"#F5F6F9\", \"plot_bgcolor\": \"#F5F6F9\", \"title\": {\"font\": {\"color\": \"#4D5663\"}, \"text\": \"No of employee's stayed or left the company\"}, \"width\": 400, \"xaxis\": {\"gridcolor\": \"#E1E5ED\", \"showgrid\": true, \"tickfont\": {\"color\": \"#4D5663\"}, \"title\": {\"font\": {\"color\": \"#4D5663\"}, \"text\": \"Employees- If Left=1, Stayed=0\"}, \"zerolinecolor\": \"#E1E5ED\"}, \"yaxis\": {\"gridcolor\": \"#E1E5ED\", \"showgrid\": true, \"tickfont\": {\"color\": \"#4D5663\"}, \"title\": {\"font\": {\"color\": \"#4D5663\"}, \"text\": \"Counts\"}, \"zerolinecolor\": \"#E1E5ED\"}},\n",
       "                        {\"showLink\": true, \"linkText\": \"Export to plot.ly\", \"plotlyServerURL\": \"https://plot.ly\", \"responsive\": true}\n",
       "                    ).then(function(){\n",
       "                            \n",
       "var gd = document.getElementById('d243bf58-ad01-4d57-a284-b155e99841b9');\n",
       "var x = new MutationObserver(function (mutations, observer) {{\n",
       "        var display = window.getComputedStyle(gd).display;\n",
       "        if (!display || display === 'none') {{\n",
       "            console.log([gd, 'removed!']);\n",
       "            Plotly.purge(gd);\n",
       "            observer.disconnect();\n",
       "        }}\n",
       "}});\n",
       "\n",
       "// Listen for the removal of the full notebook cells\n",
       "var notebookContainer = gd.closest('#notebook-container');\n",
       "if (notebookContainer) {{\n",
       "    x.observe(notebookContainer, {childList: true});\n",
       "}}\n",
       "\n",
       "// Listen for the clearing of the current output cell\n",
       "var outputEl = gd.closest('.output');\n",
       "if (outputEl) {{\n",
       "    x.observe(outputEl, {childList: true});\n",
       "}}\n",
       "\n",
       "                        })\n",
       "                };\n",
       "                });\n",
       "            </script>\n",
       "        </div>"
      ]
     },
     "metadata": {},
     "output_type": "display_data"
    },
    {
     "name": "stdout",
     "output_type": "stream",
     "text": [
      "------------------------------------------------------------------------------------------------------------------------------\n"
     ]
    }
   ],
   "source": [
    "#No of people left the company(Our target column)\n",
    "\n",
    "#Counts of the People left the company\n",
    "print(train['Left_Company'].value_counts().head(10))\n",
    "\n",
    "#Visualizing the same value counts.\n",
    "train['Left_Company'].value_counts().iplot(kind='bar', yTitle=\"Counts\",\n",
    "                                           xTitle=\"Employees- If Left=1, Stayed=0\", title=\"No of employee's stayed or left the company\",\n",
    "                                 dimensions=(400,500))\n",
    "print(\"------------------------------------------------------------------------------------------------------------------------------\")\n"
   ]
  },
  {
   "cell_type": "markdown",
   "metadata": {
    "id": "YCljR7dekIu0"
   },
   "source": [
    "## Obsevations: \n",
    "- **27 Employees left the company**"
   ]
  },
  {
   "cell_type": "markdown",
   "metadata": {
    "id": "BMTI_ebekIu0"
   },
   "source": [
    "### Distributions of the Numerical variables:"
   ]
  },
  {
   "cell_type": "code",
   "execution_count": null,
   "metadata": {
    "id": "n0OsPRUfkIu0",
    "outputId": "b8e874a6-7f94-48d0-9279-8a4ad5e51959"
   },
   "outputs": [
    {
     "data": {
      "application/vnd.plotly.v1+json": {
       "config": {
        "linkText": "Export to plot.ly",
        "plotlyServerURL": "https://plot.ly",
        "showLink": true
       },
       "data": [
        {
         "histfunc": "count",
         "histnorm": "probability",
         "marker": {
          "color": "rgba(255, 153, 51, 1.0)",
          "line": {
           "color": "#4D5663",
           "width": 1.3
          }
         },
         "name": "TotalWorkingHours",
         "nbinsx": 6,
         "opacity": 0.8,
         "orientation": "v",
         "type": "histogram",
         "uid": "7727fef7-2061-4400-a21d-a9e81c2a836f",
         "x": [
          205,
          241,
          278,
          345.5,
          270,
          228,
          349,
          254,
          229,
          215.5,
          256,
          221,
          252,
          246.5,
          213.5,
          213.2999992371,
          200,
          224,
          235,
          214,
          204,
          259,
          227,
          269,
          232,
          254.5,
          363,
          253,
          293,
          224,
          246.5,
          335.5,
          260,
          244,
          241.99999904630002,
          284,
          223,
          289,
          265.5,
          229,
          182,
          271.5999999046,
          244,
          209,
          228,
          200,
          252.5,
          200,
          265,
          200,
          221,
          274.5,
          217,
          230,
          236,
          259,
          252.5,
          200,
          272,
          172,
          244,
          223,
          202,
          225,
          213.5,
          200,
          198,
          307,
          202,
          180,
          200,
          218,
          142,
          50,
          96,
          274,
          245.5,
          247,
          219,
          295,
          289.5,
          294,
          305,
          283,
          234,
          240,
          316,
          275,
          285,
          300,
          220,
          240,
          282,
          402,
          244,
          321,
          269,
          233,
          270,
          246,
          276.5,
          234,
          305,
          254,
          222,
          343.5,
          274,
          177,
          309,
          266.5,
          262,
          232,
          269,
          280,
          267,
          269.5,
          292.5,
          242,
          309.5,
          248,
          252,
          291,
          244,
          245,
          256.5,
          242,
          242,
          279,
          346.5,
          229,
          349,
          256,
          255,
          277.5,
          231,
          252,
          274,
          273,
          199,
          225,
          233,
          212,
          223,
          232,
          229,
          252.5,
          295,
          245.5,
          334.5,
          262,
          239.99999904630002,
          287,
          264.5,
          231,
          240,
          201,
          211,
          251.5,
          199,
          254,
          230.5,
          265,
          276.5,
          237,
          215.5,
          318,
          258,
          254.5,
          200,
          241.5,
          246,
          222.5,
          222,
          202,
          225,
          211.5,
          276,
          188,
          198,
          202,
          191,
          140,
          202,
          235,
          228,
          312.5,
          266,
          258,
          255.5,
          263,
          201,
          214.5,
          211.2999992371,
          245,
          228,
          247.5,
          300,
          233,
          226,
          221,
          258,
          283,
          221,
          188,
          404,
          256,
          323,
          312.5,
          232,
          222,
          295.5,
          270,
          277.5,
          269,
          267,
          285,
          257.5,
          203,
          285.5,
          307,
          233,
          220,
          341.5,
          274,
          176,
          310,
          265.5,
          284.4999997616,
          277,
          234,
          279,
          268.5,
          262,
          256,
          241,
          308.5,
          246,
          250,
          246,
          363,
          246,
          254.5,
          200,
          244,
          244
         ]
        }
       ],
       "layout": {
        "barmode": "overlay",
        "height": 500,
        "legend": {
         "bgcolor": "#F5F6F9",
         "font": {
          "color": "#4D5663"
         }
        },
        "paper_bgcolor": "#F5F6F9",
        "plot_bgcolor": "#F5F6F9",
        "title": {
         "font": {
          "color": "#4D5663"
         },
         "text": "Probability Distribution of the Employee's Total working Hour's"
        },
        "width": 800,
        "xaxis": {
         "autorange": true,
         "gridcolor": "#E1E5ED",
         "range": [
          0,
          500
         ],
         "showgrid": true,
         "tickfont": {
          "color": "#4D5663"
         },
         "title": {
          "font": {
           "color": "#4D5663"
          },
          "text": "Total Working Hour's"
         },
         "type": "linear",
         "zerolinecolor": "#E1E5ED"
        },
        "yaxis": {
         "autorange": true,
         "gridcolor": "#E1E5ED",
         "range": [
          0,
          0.8635875402792695
         ],
         "showgrid": true,
         "tickfont": {
          "color": "#4D5663"
         },
         "title": {
          "font": {
           "color": "#4D5663"
          },
          "text": "Probability"
         },
         "zerolinecolor": "#E1E5ED"
        }
       }
      },
      "image/png": "[encoded data removed]",
      "text/html": [
       "<div>\n",
       "        \n",
       "        \n",
       "            <div id=\"9c793074-1d12-44e0-bba6-d8e20a39f716\" class=\"plotly-graph-div\" style=\"height:500px; width:800px;\"></div>\n",
       "            <script type=\"text/javascript\">\n",
       "                require([\"plotly\"], function(Plotly) {\n",
       "                    window.PLOTLYENV=window.PLOTLYENV || {};\n",
       "                    window.PLOTLYENV.BASE_URL='https://plot.ly';\n",
       "                    \n",
       "                if (document.getElementById(\"9c793074-1d12-44e0-bba6-d8e20a39f716\")) {\n",
       "                    Plotly.newPlot(\n",
       "                        '9c793074-1d12-44e0-bba6-d8e20a39f716',\n",
       "                        [{\"histfunc\": \"count\", \"histnorm\": \"probability\", \"marker\": {\"color\": \"rgba(255, 153, 51, 1.0)\", \"line\": {\"color\": \"#4D5663\", \"width\": 1.3}}, \"name\": \"TotalWorkingHours\", \"nbinsx\": 6, \"opacity\": 0.8, \"orientation\": \"v\", \"type\": \"histogram\", \"uid\": \"7727fef7-2061-4400-a21d-a9e81c2a836f\", \"x\": [205.0, 241.0, 278.0, 345.5, 270.0, 228.0, 349.0, 254.0, 229.0, 215.5, 256.0, 221.0, 252.0, 246.5, 213.5, 213.2999992371, 200.0, 224.0, 235.0, 214.0, 204.0, 259.0, 227.0, 269.0, 232.0, 254.5, 363.0, 253.0, 293.0, 224.0, 246.5, 335.5, 260.0, 244.0, 241.99999904630002, 284.0, 223.0, 289.0, 265.5, 229.0, 182.0, 271.5999999046, 244.0, 209.0, 228.0, 200.0, 252.5, 200.0, 265.0, 200.0, 221.0, 274.5, 217.0, 230.0, 236.0, 259.0, 252.5, 200.0, 272.0, 172.0, 244.0, 223.0, 202.0, 225.0, 213.5, 200.0, 198.0, 307.0, 202.0, 180.0, 200.0, 218.0, 142.0, 50.0, 96.0, 274.0, 245.5, 247.0, 219.0, 295.0, 289.5, 294.0, 305.0, 283.0, 234.0, 240.0, 316.0, 275.0, 285.0, 300.0, 220.0, 240.0, 282.0, 402.0, 244.0, 321.0, 269.0, 233.0, 270.0, 246.0, 276.5, 234.0, 305.0, 254.0, 222.0, 343.5, 274.0, 177.0, 309.0, 266.5, 262.0, 232.0, 269.0, 280.0, 267.0, 269.5, 292.5, 242.0, 309.5, 248.0, 252.0, 291.0, 244.0, 245.0, 256.5, 242.0, 242.0, 279.0, 346.5, 229.0, 349.0, 256.0, 255.0, 277.5, 231.0, 252.0, 274.0, 273.0, 199.0, 225.0, 233.0, 212.0, 223.0, 232.0, 229.0, 252.5, 295.0, 245.5, 334.5, 262.0, 239.99999904630002, 287.0, 264.5, 231.0, 240.0, 201.0, 211.0, 251.5, 199.0, 254.0, 230.5, 265.0, 276.5, 237.0, 215.5, 318.0, 258.0, 254.5, 200.0, 241.5, 246.0, 222.5, 222.0, 202.0, 225.0, 211.5, 276.0, 188.0, 198.0, 202.0, 191.0, 140.0, 202.0, 235.0, 228.0, 312.5, 266.0, 258.0, 255.5, 263.0, 201.0, 214.5, 211.2999992371, 245.0, 228.0, 247.5, 300.0, 233.0, 226.0, 221.0, 258.0, 283.0, 221.0, 188.0, 404.0, 256.0, 323.0, 312.5, 232.0, 222.0, 295.5, 270.0, 277.5, 269.0, 267.0, 285.0, 257.5, 203.0, 285.5, 307.0, 233.0, 220.0, 341.5, 274.0, 176.0, 310.0, 265.5, 284.4999997616, 277.0, 234.0, 279.0, 268.5, 262.0, 256.0, 241.0, 308.5, 246.0, 250.0, 246.0, 363.0, 246.0, 254.5, 200.0, 244.0, 244.0]}],\n",
       "                        {\"barmode\": \"overlay\", \"height\": 500, \"legend\": {\"bgcolor\": \"#F5F6F9\", \"font\": {\"color\": \"#4D5663\"}}, \"paper_bgcolor\": \"#F5F6F9\", \"plot_bgcolor\": \"#F5F6F9\", \"title\": {\"font\": {\"color\": \"#4D5663\"}, \"text\": \"Probability Distribution of the Employee's Total working Hour's\"}, \"width\": 800, \"xaxis\": {\"gridcolor\": \"#E1E5ED\", \"showgrid\": true, \"tickfont\": {\"color\": \"#4D5663\"}, \"title\": {\"font\": {\"color\": \"#4D5663\"}, \"text\": \"Total Working Hour's\"}, \"zerolinecolor\": \"#E1E5ED\"}, \"yaxis\": {\"gridcolor\": \"#E1E5ED\", \"showgrid\": true, \"tickfont\": {\"color\": \"#4D5663\"}, \"title\": {\"font\": {\"color\": \"#4D5663\"}, \"text\": \"Probability\"}, \"zerolinecolor\": \"#E1E5ED\"}},\n",
       "                        {\"showLink\": true, \"linkText\": \"Export to plot.ly\", \"plotlyServerURL\": \"https://plot.ly\", \"responsive\": true}\n",
       "                    ).then(function(){\n",
       "                            \n",
       "var gd = document.getElementById('9c793074-1d12-44e0-bba6-d8e20a39f716');\n",
       "var x = new MutationObserver(function (mutations, observer) {{\n",
       "        var display = window.getComputedStyle(gd).display;\n",
       "        if (!display || display === 'none') {{\n",
       "            console.log([gd, 'removed!']);\n",
       "            Plotly.purge(gd);\n",
       "            observer.disconnect();\n",
       "        }}\n",
       "}});\n",
       "\n",
       "// Listen for the removal of the full notebook cells\n",
       "var notebookContainer = gd.closest('#notebook-container');\n",
       "if (notebookContainer) {{\n",
       "    x.observe(notebookContainer, {childList: true});\n",
       "}}\n",
       "\n",
       "// Listen for the clearing of the current output cell\n",
       "var outputEl = gd.closest('.output');\n",
       "if (outputEl) {{\n",
       "    x.observe(outputEl, {childList: true});\n",
       "}}\n",
       "\n",
       "                        })\n",
       "                };\n",
       "                });\n",
       "            </script>\n",
       "        </div>"
      ]
     },
     "metadata": {},
     "output_type": "display_data"
    }
   ],
   "source": [
    "#checking the distriburion of the Total working hour's column. \n",
    "\n",
    "#Total working hours of the employee's logged: \n",
    "#Let's plot the probability Distribution on the column so  that we can understand the %of employee's working hour's\n",
    "train['TotalWorkingHours'].iplot(kind='histogram', dimensions=(800,500), xTitle=\"Total Working Hour's\", \n",
    "                                 yTitle=\"Probability\", \n",
    "                                 title=\"Probability Distribution of the Employee's Total working Hour's\", \n",
    "                                 histnorm='probability', bins=6)"
   ]
  },
  {
   "cell_type": "markdown",
   "metadata": {
    "id": "ipoim_qzkIu1"
   },
   "source": [
    "## Observation: \n",
    "**Most Employee's Total Working hours are 200-300(i.e- around 80% of the employee's)**\n"
   ]
  },
  {
   "cell_type": "code",
   "execution_count": null,
   "metadata": {
    "id": "LYPqgtlRkIu1",
    "outputId": "f3274a61-4297-4324-b4ad-9d2d657a2198"
   },
   "outputs": [
    {
     "data": {
      "application/vnd.plotly.v1+json": {
       "config": {
        "linkText": "Export to plot.ly",
        "plotlyServerURL": "https://plot.ly",
        "showLink": true
       },
       "data": [
        {
         "histfunc": "count",
         "histnorm": "probability",
         "marker": {
          "color": "rgba(255, 153, 51, 1.0)",
          "line": {
           "color": "#4D5663",
           "width": 1.3
          }
         },
         "name": "ActualTimeSpent",
         "opacity": 0.8,
         "orientation": "v",
         "type": "histogram",
         "uid": "c0b37e76-4932-4182-b621-1359efa1ee25",
         "x": [
          231,
          147,
          308,
          217,
          231,
          287,
          203,
          84,
          70,
          175,
          385,
          133,
          161,
          203,
          168,
          105,
          287,
          189,
          238,
          133,
          140,
          224,
          210,
          217,
          168,
          175,
          161,
          147,
          175,
          217,
          189,
          140,
          196,
          182,
          189,
          175,
          140,
          182,
          161,
          35,
          84,
          196,
          154,
          133,
          154,
          154,
          91,
          49,
          154,
          77,
          126,
          112,
          133,
          175,
          217,
          119,
          126,
          42,
          98,
          287,
          161,
          70,
          42,
          42,
          0,
          84,
          77,
          231,
          56,
          49,
          28,
          77,
          0,
          7,
          0,
          314,
          190,
          238,
          275,
          314,
          280,
          484,
          232,
          252,
          202,
          296,
          279,
          254,
          252,
          232,
          301,
          336,
          191,
          253,
          175,
          572,
          184,
          400,
          433,
          294,
          230,
          205,
          254,
          380,
          161,
          401,
          119,
          436,
          153,
          239,
          420,
          278,
          183,
          117,
          230,
          236,
          181,
          202,
          273,
          197,
          429,
          245,
          135,
          104,
          240,
          383,
          237,
          307,
          217,
          287,
          201,
          83,
          343,
          205,
          71,
          161,
          183,
          154,
          288,
          190,
          238,
          132,
          69,
          203,
          209,
          177,
          177,
          189,
          138,
          194,
          191,
          181,
          162,
          36,
          294,
          203,
          133,
          92,
          51,
          100,
          189,
          152,
          113,
          219,
          160,
          280,
          118,
          128,
          42,
          78,
          163,
          119,
          71,
          43,
          42,
          0,
          252,
          58,
          76,
          57,
          65,
          0,
          343,
          86,
          243,
          307,
          385,
          154,
          181,
          168,
          125,
          175,
          104,
          152,
          155,
          189,
          231,
          84,
          245,
          301,
          238,
          189,
          273,
          308,
          252,
          266,
          574,
          308,
          399,
          245,
          224,
          147,
          287,
          434,
          385,
          224,
          182,
          343,
          294,
          252,
          280,
          161,
          399,
          119,
          434,
          154,
          238,
          175,
          210,
          280,
          119,
          238,
          168,
          259,
          203,
          273,
          238,
          196,
          133,
          196,
          105,
          238,
          126,
          385,
          238
         ]
        }
       ],
       "layout": {
        "barmode": "overlay",
        "height": 500,
        "legend": {
         "bgcolor": "#F5F6F9",
         "font": {
          "color": "#4D5663"
         }
        },
        "paper_bgcolor": "#F5F6F9",
        "plot_bgcolor": "#F5F6F9",
        "title": {
         "font": {
          "color": "#4D5663"
         },
         "text": "Probability Distribution of the Actual Time Spent(Hour's)by the Employee's"
        },
        "width": 800,
        "xaxis": {
         "autorange": true,
         "gridcolor": "#E1E5ED",
         "range": [
          -0.5,
          599.5
         ],
         "showgrid": true,
         "tickfont": {
          "color": "#4D5663"
         },
         "title": {
          "font": {
           "color": "#4D5663"
          },
          "text": "Actual time spent by Employee's"
         },
         "type": "linear",
         "zerolinecolor": "#E1E5ED"
        },
        "yaxis": {
         "autorange": true,
         "gridcolor": "#E1E5ED",
         "range": [
          0,
          0.26208378088077333
         ],
         "showgrid": true,
         "tickfont": {
          "color": "#4D5663"
         },
         "title": {
          "font": {
           "color": "#4D5663"
          },
          "text": "Probability"
         },
         "zerolinecolor": "#E1E5ED"
        }
       }
      },
      "image/png": "[encoded data removed]",
      "text/html": [
       "<div>\n",
       "        \n",
       "        \n",
       "            <div id=\"32366320-adb1-4d57-bab8-6240bc5f938f\" class=\"plotly-graph-div\" style=\"height:500px; width:800px;\"></div>\n",
       "            <script type=\"text/javascript\">\n",
       "                require([\"plotly\"], function(Plotly) {\n",
       "                    window.PLOTLYENV=window.PLOTLYENV || {};\n",
       "                    window.PLOTLYENV.BASE_URL='https://plot.ly';\n",
       "                    \n",
       "                if (document.getElementById(\"32366320-adb1-4d57-bab8-6240bc5f938f\")) {\n",
       "                    Plotly.newPlot(\n",
       "                        '32366320-adb1-4d57-bab8-6240bc5f938f',\n",
       "                        [{\"histfunc\": \"count\", \"histnorm\": \"probability\", \"marker\": {\"color\": \"rgba(255, 153, 51, 1.0)\", \"line\": {\"color\": \"#4D5663\", \"width\": 1.3}}, \"name\": \"ActualTimeSpent\", \"opacity\": 0.8, \"orientation\": \"v\", \"type\": \"histogram\", \"uid\": \"c0b37e76-4932-4182-b621-1359efa1ee25\", \"x\": [231, 147, 308, 217, 231, 287, 203, 84, 70, 175, 385, 133, 161, 203, 168, 105, 287, 189, 238, 133, 140, 224, 210, 217, 168, 175, 161, 147, 175, 217, 189, 140, 196, 182, 189, 175, 140, 182, 161, 35, 84, 196, 154, 133, 154, 154, 91, 49, 154, 77, 126, 112, 133, 175, 217, 119, 126, 42, 98, 287, 161, 70, 42, 42, 0, 84, 77, 231, 56, 49, 28, 77, 0, 7, 0, 314, 190, 238, 275, 314, 280, 484, 232, 252, 202, 296, 279, 254, 252, 232, 301, 336, 191, 253, 175, 572, 184, 400, 433, 294, 230, 205, 254, 380, 161, 401, 119, 436, 153, 239, 420, 278, 183, 117, 230, 236, 181, 202, 273, 197, 429, 245, 135, 104, 240, 383, 237, 307, 217, 287, 201, 83, 343, 205, 71, 161, 183, 154, 288, 190, 238, 132, 69, 203, 209, 177, 177, 189, 138, 194, 191, 181, 162, 36, 294, 203, 133, 92, 51, 100, 189, 152, 113, 219, 160, 280, 118, 128, 42, 78, 163, 119, 71, 43, 42, 0, 252, 58, 76, 57, 65, 0, 343, 86, 243, 307, 385, 154, 181, 168, 125, 175, 104, 152, 155, 189, 231, 84, 245, 301, 238, 189, 273, 308, 252, 266, 574, 308, 399, 245, 224, 147, 287, 434, 385, 224, 182, 343, 294, 252, 280, 161, 399, 119, 434, 154, 238, 175, 210, 280, 119, 238, 168, 259, 203, 273, 238, 196, 133, 196, 105, 238, 126, 385, 238]}],\n",
       "                        {\"barmode\": \"overlay\", \"height\": 500, \"legend\": {\"bgcolor\": \"#F5F6F9\", \"font\": {\"color\": \"#4D5663\"}}, \"paper_bgcolor\": \"#F5F6F9\", \"plot_bgcolor\": \"#F5F6F9\", \"title\": {\"font\": {\"color\": \"#4D5663\"}, \"text\": \"Probability Distribution of the Actual Time Spent(Hour's)by the Employee's\"}, \"width\": 800, \"xaxis\": {\"gridcolor\": \"#E1E5ED\", \"showgrid\": true, \"tickfont\": {\"color\": \"#4D5663\"}, \"title\": {\"font\": {\"color\": \"#4D5663\"}, \"text\": \"Actual time spent by Employee's\"}, \"zerolinecolor\": \"#E1E5ED\"}, \"yaxis\": {\"gridcolor\": \"#E1E5ED\", \"showgrid\": true, \"tickfont\": {\"color\": \"#4D5663\"}, \"title\": {\"font\": {\"color\": \"#4D5663\"}, \"text\": \"Probability\"}, \"zerolinecolor\": \"#E1E5ED\"}},\n",
       "                        {\"showLink\": true, \"linkText\": \"Export to plot.ly\", \"plotlyServerURL\": \"https://plot.ly\", \"responsive\": true}\n",
       "                    ).then(function(){\n",
       "                            \n",
       "var gd = document.getElementById('32366320-adb1-4d57-bab8-6240bc5f938f');\n",
       "var x = new MutationObserver(function (mutations, observer) {{\n",
       "        var display = window.getComputedStyle(gd).display;\n",
       "        if (!display || display === 'none') {{\n",
       "            console.log([gd, 'removed!']);\n",
       "            Plotly.purge(gd);\n",
       "            observer.disconnect();\n",
       "        }}\n",
       "}});\n",
       "\n",
       "// Listen for the removal of the full notebook cells\n",
       "var notebookContainer = gd.closest('#notebook-container');\n",
       "if (notebookContainer) {{\n",
       "    x.observe(notebookContainer, {childList: true});\n",
       "}}\n",
       "\n",
       "// Listen for the clearing of the current output cell\n",
       "var outputEl = gd.closest('.output');\n",
       "if (outputEl) {{\n",
       "    x.observe(outputEl, {childList: true});\n",
       "}}\n",
       "\n",
       "                        })\n",
       "                };\n",
       "                });\n",
       "            </script>\n",
       "        </div>"
      ]
     },
     "metadata": {},
     "output_type": "display_data"
    }
   ],
   "source": [
    "\n",
    "train['ActualTimeSpent'].iplot(kind='histogram', dimensions=(800,500), histnorm='probability', \n",
    "                              xTitle=\"Actual time spent by Employee's\",\n",
    "                              yTitle=\"Probability\",\n",
    "                              title=\"Probability Distribution of the Actual Time Spent(Hour's)by the Employee's\")"
   ]
  },
  {
   "cell_type": "markdown",
   "metadata": {
    "id": "zO8LraMOkIu1"
   },
   "source": [
    "## Observations: \n",
    "Employees logging more hours than they actually work may indicate extra work done, inaccurate time tracking or overestimation. Employers must address discrepancies to ensure fair compensation and optimal efficiency."
   ]
  },
  {
   "cell_type": "code",
   "execution_count": null,
   "metadata": {
    "id": "nvOIQE0WkIu1",
    "outputId": "b0771638-b1d1-4ffa-bb07-2cc7cdde437b"
   },
   "outputs": [
    {
     "data": {
      "application/vnd.plotly.v1+json": {
       "config": {
        "linkText": "Export to plot.ly",
        "plotlyServerURL": "https://plot.ly",
        "showLink": true
       },
       "data": [
        {
         "histfunc": "avg",
         "histnorm": "probability",
         "marker": {
          "color": "rgba(255, 153, 51, 1.0)",
          "line": {
           "color": "#4D5663",
           "width": 1.3
          }
         },
         "name": "Hours_off_Duty",
         "opacity": 0.8,
         "orientation": "v",
         "type": "histogram",
         "uid": "fcd6c24a-7b25-4873-b355-1fbf7adac8ce",
         "x": [
          72,
          120,
          40,
          64,
          88,
          56,
          104,
          70,
          80,
          44,
          88,
          45,
          64,
          41,
          80,
          44,
          64,
          104,
          80,
          72,
          64,
          70,
          40,
          48,
          48,
          68,
          37,
          126,
          80,
          75,
          104,
          48,
          48,
          47,
          41.5,
          40,
          80,
          40,
          24,
          45,
          45,
          96,
          64,
          24,
          40,
          40,
          16,
          56,
          24,
          48,
          24,
          64,
          24,
          40,
          0,
          24,
          48,
          72,
          16,
          48,
          16,
          40,
          16,
          16,
          80,
          16,
          16,
          64,
          16,
          40,
          32,
          40,
          24,
          16,
          15,
          56,
          88,
          96,
          72,
          88,
          104,
          108,
          64,
          146,
          128,
          48,
          80,
          70,
          146,
          96,
          72,
          128,
          80,
          136,
          120,
          64,
          45,
          80,
          160,
          96,
          44,
          88,
          80,
          104,
          120,
          74,
          128,
          58,
          80,
          126,
          80,
          96,
          48,
          128,
          80,
          120,
          56,
          120,
          88,
          76,
          72,
          97,
          106,
          80,
          88,
          80,
          56,
          40,
          64,
          56,
          104,
          70,
          64,
          90,
          80,
          64,
          72,
          48,
          64,
          104,
          80,
          72,
          53,
          128,
          40,
          68,
          80,
          104,
          48,
          48,
          41.5,
          40,
          24,
          45,
          48,
          56,
          24,
          16,
          56,
          40,
          80,
          24,
          64,
          0,
          16,
          80,
          24,
          48,
          72,
          16,
          16,
          16,
          40,
          16,
          16,
          80,
          70,
          48,
          16,
          16,
          32,
          24,
          80,
          104,
          54,
          75,
          80,
          112,
          80,
          80,
          96,
          44,
          44,
          64,
          40,
          88,
          96,
          104,
          54,
          72,
          88,
          80,
          72,
          64,
          136,
          118.5,
          64,
          75,
          80,
          72,
          144,
          112,
          40,
          160,
          80,
          80,
          80,
          80,
          40,
          80,
          104,
          120,
          74,
          128,
          58,
          80,
          126,
          96,
          104,
          96,
          128,
          120,
          80,
          80,
          120,
          88,
          64,
          76,
          106,
          56,
          80,
          88,
          96,
          80,
          56
         ]
        }
       ],
       "layout": {
        "barmode": "overlay",
        "height": 500,
        "legend": {
         "bgcolor": "#F5F6F9",
         "font": {
          "color": "#4D5663"
         }
        },
        "paper_bgcolor": "#F5F6F9",
        "plot_bgcolor": "#F5F6F9",
        "title": {
         "font": {
          "color": "#4D5663"
         },
         "text": "Probability Distribution plot of Employee's Hour's on Leave(Hour's)"
        },
        "width": 800,
        "xaxis": {
         "autorange": true,
         "gridcolor": "#E1E5ED",
         "range": [
          -5,
          165
         ],
         "showgrid": true,
         "tickfont": {
          "color": "#4D5663"
         },
         "title": {
          "font": {
           "color": "#4D5663"
          },
          "text": "Hours off Duty"
         },
         "type": "linear",
         "zerolinecolor": "#E1E5ED"
        },
        "yaxis": {
         "autorange": true,
         "gridcolor": "#E1E5ED",
         "range": [
          0,
          0.18045112781954886
         ],
         "showgrid": true,
         "tickfont": {
          "color": "#4D5663"
         },
         "title": {
          "font": {
           "color": "#4D5663"
          },
          "text": "Probability of the Distribution"
         },
         "zerolinecolor": "#E1E5ED"
        }
       }
      },
      "image/png": "[encoded data removed]",
      "text/html": [
       "<div>\n",
       "        \n",
       "        \n",
       "            <div id=\"7c598531-1f56-4056-ba36-53063d93ace9\" class=\"plotly-graph-div\" style=\"height:500px; width:800px;\"></div>\n",
       "            <script type=\"text/javascript\">\n",
       "                require([\"plotly\"], function(Plotly) {\n",
       "                    window.PLOTLYENV=window.PLOTLYENV || {};\n",
       "                    window.PLOTLYENV.BASE_URL='https://plot.ly';\n",
       "                    \n",
       "                if (document.getElementById(\"7c598531-1f56-4056-ba36-53063d93ace9\")) {\n",
       "                    Plotly.newPlot(\n",
       "                        '7c598531-1f56-4056-ba36-53063d93ace9',\n",
       "                        [{\"histfunc\": \"avg\", \"histnorm\": \"probability\", \"marker\": {\"color\": \"rgba(255, 153, 51, 1.0)\", \"line\": {\"color\": \"#4D5663\", \"width\": 1.3}}, \"name\": \"Hours_off_Duty\", \"opacity\": 0.8, \"orientation\": \"v\", \"type\": \"histogram\", \"uid\": \"fcd6c24a-7b25-4873-b355-1fbf7adac8ce\", \"x\": [72.0, 120.0, 40.0, 64.0, 88.0, 56.0, 104.0, 70.0, 80.0, 44.0, 88.0, 45.0, 64.0, 41.0, 80.0, 44.0, 64.0, 104.0, 80.0, 72.0, 64.0, 70.0, 40.0, 48.0, 48.0, 68.0, 37.0, 126.0, 80.0, 75.0, 104.0, 48.0, 48.0, 47.0, 41.5, 40.0, 80.0, 40.0, 24.0, 45.0, 45.0, 96.0, 64.0, 24.0, 40.0, 40.0, 16.0, 56.0, 24.0, 48.0, 24.0, 64.0, 24.0, 40.0, 0.0, 24.0, 48.0, 72.0, 16.0, 48.0, 16.0, 40.0, 16.0, 16.0, 80.0, 16.0, 16.0, 64.0, 16.0, 40.0, 32.0, 40.0, 24.0, 16.0, 15.0, 56.0, 88.0, 96.0, 72.0, 88.0, 104.0, 108.0, 64.0, 146.0, 128.0, 48.0, 80.0, 70.0, 146.0, 96.0, 72.0, 128.0, 80.0, 136.0, 120.0, 64.0, 45.0, 80.0, 160.0, 96.0, 44.0, 88.0, 80.0, 104.0, 120.0, 74.0, 128.0, 58.0, 80.0, 126.0, 80.0, 96.0, 48.0, 128.0, 80.0, 120.0, 56.0, 120.0, 88.0, 76.0, 72.0, 97.0, 106.0, 80.0, 88.0, 80.0, 56.0, 40.0, 64.0, 56.0, 104.0, 70.0, 64.0, 90.0, 80.0, 64.0, 72.0, 48.0, 64.0, 104.0, 80.0, 72.0, 53.0, 128.0, 40.0, 68.0, 80.0, 104.0, 48.0, 48.0, 41.5, 40.0, 24.0, 45.0, 48.0, 56.0, 24.0, 16.0, 56.0, 40.0, 80.0, 24.0, 64.0, 0.0, 16.0, 80.0, 24.0, 48.0, 72.0, 16.0, 16.0, 16.0, 40.0, 16.0, 16.0, 80.0, 70.0, 48.0, 16.0, 16.0, 32.0, 24.0, 80.0, 104.0, 54.0, 75.0, 80.0, 112.0, 80.0, 80.0, 96.0, 44.0, 44.0, 64.0, 40.0, 88.0, 96.0, 104.0, 54.0, 72.0, 88.0, 80.0, 72.0, 64.0, 136.0, 118.5, 64.0, 75.0, 80.0, 72.0, 144.0, 112.0, 40.0, 160.0, 80.0, 80.0, 80.0, 80.0, 40.0, 80.0, 104.0, 120.0, 74.0, 128.0, 58.0, 80.0, 126.0, 96.0, 104.0, 96.0, 128.0, 120.0, 80.0, 80.0, 120.0, 88.0, 64.0, 76.0, 106.0, 56.0, 80.0, 88.0, 96.0, 80.0, 56.0]}],\n",
       "                        {\"barmode\": \"overlay\", \"height\": 500, \"legend\": {\"bgcolor\": \"#F5F6F9\", \"font\": {\"color\": \"#4D5663\"}}, \"paper_bgcolor\": \"#F5F6F9\", \"plot_bgcolor\": \"#F5F6F9\", \"title\": {\"font\": {\"color\": \"#4D5663\"}, \"text\": \"Probability Distribution plot of Employee's Hour's on Leave(Hour's)\"}, \"width\": 800, \"xaxis\": {\"gridcolor\": \"#E1E5ED\", \"showgrid\": true, \"tickfont\": {\"color\": \"#4D5663\"}, \"title\": {\"font\": {\"color\": \"#4D5663\"}, \"text\": \"Hours off Duty\"}, \"zerolinecolor\": \"#E1E5ED\"}, \"yaxis\": {\"gridcolor\": \"#E1E5ED\", \"showgrid\": true, \"tickfont\": {\"color\": \"#4D5663\"}, \"title\": {\"font\": {\"color\": \"#4D5663\"}, \"text\": \"Probability of the Distribution\"}, \"zerolinecolor\": \"#E1E5ED\"}},\n",
       "                        {\"showLink\": true, \"linkText\": \"Export to plot.ly\", \"plotlyServerURL\": \"https://plot.ly\", \"responsive\": true}\n",
       "                    ).then(function(){\n",
       "                            \n",
       "var gd = document.getElementById('7c598531-1f56-4056-ba36-53063d93ace9');\n",
       "var x = new MutationObserver(function (mutations, observer) {{\n",
       "        var display = window.getComputedStyle(gd).display;\n",
       "        if (!display || display === 'none') {{\n",
       "            console.log([gd, 'removed!']);\n",
       "            Plotly.purge(gd);\n",
       "            observer.disconnect();\n",
       "        }}\n",
       "}});\n",
       "\n",
       "// Listen for the removal of the full notebook cells\n",
       "var notebookContainer = gd.closest('#notebook-container');\n",
       "if (notebookContainer) {{\n",
       "    x.observe(notebookContainer, {childList: true});\n",
       "}}\n",
       "\n",
       "// Listen for the clearing of the current output cell\n",
       "var outputEl = gd.closest('.output');\n",
       "if (outputEl) {{\n",
       "    x.observe(outputEl, {childList: true});\n",
       "}}\n",
       "\n",
       "                        })\n",
       "                };\n",
       "                });\n",
       "            </script>\n",
       "        </div>"
      ]
     },
     "metadata": {},
     "output_type": "display_data"
    }
   ],
   "source": [
    "#Let's check--  Hours_off_Duty : Number of hours the employee took off: \n",
    "\n",
    "train['Hours_off_Duty'].iplot(kind='histogram', dimensions=(800,500), histnorm='probability', histfunc='avg',\n",
    "                             yTitle=\"Probability of the Distribution\",\n",
    "                             xTitle=\"Hours off Duty\", \n",
    "                             title=\"Probability Distribution plot of Employee's Hour's on Leave(Hour's)\")\n"
   ]
  },
  {
   "cell_type": "code",
   "execution_count": null,
   "metadata": {
    "id": "pB5YhjiPkIu1"
   },
   "outputs": [],
   "source": []
  },
  {
   "cell_type": "code",
   "execution_count": null,
   "metadata": {
    "id": "g90BChHKkIu1"
   },
   "outputs": [],
   "source": []
  },
  {
   "cell_type": "markdown",
   "metadata": {
    "id": "poA4A-oPkIu2"
   },
   "source": [
    "## Bi-Variate analysis - With Dependent variable"
   ]
  },
  {
   "cell_type": "code",
   "execution_count": null,
   "metadata": {
    "id": "axNwonUYkIu2",
    "outputId": "5f5a61dc-ef02-412f-8efa-b5e28d289897"
   },
   "outputs": [
    {
     "data": {
      "application/vnd.plotly.v1+json": {
       "config": {
        "linkText": "Export to plot.ly",
        "plotlyServerURL": "https://plot.ly",
        "showLink": true
       },
       "data": [
        {
         "marker": {
          "color": "rgba(255, 153, 51, 0.6)",
          "line": {
           "color": "rgba(255, 153, 51, 1.0)",
           "width": 1
          }
         },
         "name": "Joining_Date",
         "orientation": "v",
         "text": "",
         "type": "bar",
         "uid": "7429ce3f-3752-4f81-aa2e-ab3d5b369ff9",
         "x": [
          "2012_08",
          "2011_10",
          "2009_02",
          "2010_06",
          "2009_03",
          "2012_01",
          "2012_02",
          "2010_07",
          "2012_09",
          "2010_04",
          "2003_06",
          "2011_02",
          "2008_11",
          "2009_07",
          "2006_02"
         ],
         "y": [
          2,
          2,
          2,
          2,
          2,
          2,
          2,
          2,
          2,
          2,
          2,
          2,
          1,
          1,
          1
         ]
        }
       ],
       "layout": {
        "height": 500,
        "legend": {
         "bgcolor": "#F5F6F9",
         "font": {
          "color": "#4D5663"
         }
        },
        "paper_bgcolor": "#F5F6F9",
        "plot_bgcolor": "#F5F6F9",
        "title": {
         "font": {
          "color": "#4D5663"
         },
         "text": "Count of employee's left by joining dates"
        },
        "width": 600,
        "xaxis": {
         "autorange": true,
         "gridcolor": "#E1E5ED",
         "range": [
          -0.5,
          14.5
         ],
         "showgrid": true,
         "tickfont": {
          "color": "#4D5663"
         },
         "title": {
          "font": {
           "color": "#4D5663"
          },
          "text": ""
         },
         "type": "category",
         "zerolinecolor": "#E1E5ED"
        },
        "yaxis": {
         "autorange": true,
         "gridcolor": "#E1E5ED",
         "range": [
          0,
          2.1052631578947367
         ],
         "showgrid": true,
         "tickfont": {
          "color": "#4D5663"
         },
         "title": {
          "font": {
           "color": "#4D5663"
          },
          "text": "Counts of employees Left"
         },
         "type": "linear",
         "zerolinecolor": "#E1E5ED"
        }
       }
      },
      "image/png": "[encoded data removed]",
      "text/html": [
       "<div>\n",
       "        \n",
       "        \n",
       "            <div id=\"98c5cf26-3844-4cbb-841b-96a4fd25431e\" class=\"plotly-graph-div\" style=\"height:500px; width:600px;\"></div>\n",
       "            <script type=\"text/javascript\">\n",
       "                require([\"plotly\"], function(Plotly) {\n",
       "                    window.PLOTLYENV=window.PLOTLYENV || {};\n",
       "                    window.PLOTLYENV.BASE_URL='https://plot.ly';\n",
       "                    \n",
       "                if (document.getElementById(\"98c5cf26-3844-4cbb-841b-96a4fd25431e\")) {\n",
       "                    Plotly.newPlot(\n",
       "                        '98c5cf26-3844-4cbb-841b-96a4fd25431e',\n",
       "                        [{\"marker\": {\"color\": \"rgba(255, 153, 51, 0.6)\", \"line\": {\"color\": \"rgba(255, 153, 51, 1.0)\", \"width\": 1}}, \"name\": \"Joining_Date\", \"orientation\": \"v\", \"text\": \"\", \"type\": \"bar\", \"uid\": \"7429ce3f-3752-4f81-aa2e-ab3d5b369ff9\", \"x\": [\"2012_08\", \"2011_10\", \"2009_02\", \"2010_06\", \"2009_03\", \"2012_01\", \"2012_02\", \"2010_07\", \"2012_09\", \"2010_04\", \"2003_06\", \"2011_02\", \"2008_11\", \"2009_07\", \"2006_02\"], \"y\": [2, 2, 2, 2, 2, 2, 2, 2, 2, 2, 2, 2, 1, 1, 1]}],\n",
       "                        {\"height\": 500, \"legend\": {\"bgcolor\": \"#F5F6F9\", \"font\": {\"color\": \"#4D5663\"}}, \"paper_bgcolor\": \"#F5F6F9\", \"plot_bgcolor\": \"#F5F6F9\", \"title\": {\"font\": {\"color\": \"#4D5663\"}, \"text\": \"Count of employee's left by joining dates\"}, \"width\": 600, \"xaxis\": {\"gridcolor\": \"#E1E5ED\", \"showgrid\": true, \"tickfont\": {\"color\": \"#4D5663\"}, \"title\": {\"font\": {\"color\": \"#4D5663\"}, \"text\": \"\"}, \"zerolinecolor\": \"#E1E5ED\"}, \"yaxis\": {\"gridcolor\": \"#E1E5ED\", \"showgrid\": true, \"tickfont\": {\"color\": \"#4D5663\"}, \"title\": {\"font\": {\"color\": \"#4D5663\"}, \"text\": \"Counts of employees Left\"}, \"zerolinecolor\": \"#E1E5ED\"}},\n",
       "                        {\"showLink\": true, \"linkText\": \"Export to plot.ly\", \"plotlyServerURL\": \"https://plot.ly\", \"responsive\": true}\n",
       "                    ).then(function(){\n",
       "                            \n",
       "var gd = document.getElementById('98c5cf26-3844-4cbb-841b-96a4fd25431e');\n",
       "var x = new MutationObserver(function (mutations, observer) {{\n",
       "        var display = window.getComputedStyle(gd).display;\n",
       "        if (!display || display === 'none') {{\n",
       "            console.log([gd, 'removed!']);\n",
       "            Plotly.purge(gd);\n",
       "            observer.disconnect();\n",
       "        }}\n",
       "}});\n",
       "\n",
       "// Listen for the removal of the full notebook cells\n",
       "var notebookContainer = gd.closest('#notebook-container');\n",
       "if (notebookContainer) {{\n",
       "    x.observe(notebookContainer, {childList: true});\n",
       "}}\n",
       "\n",
       "// Listen for the clearing of the current output cell\n",
       "var outputEl = gd.closest('.output');\n",
       "if (outputEl) {{\n",
       "    x.observe(outputEl, {childList: true});\n",
       "}}\n",
       "\n",
       "                        })\n",
       "                };\n",
       "                });\n",
       "            </script>\n",
       "        </div>"
      ]
     },
     "metadata": {},
     "output_type": "display_data"
    }
   ],
   "source": [
    "#No of people left the comapany when no of employees joined\n",
    "\n",
    "train[train.Left_Company==1.0].Joining_Date.value_counts().iplot(kind='bar', dimensions=(600,500), yTitle=\"Counts of employees Left\", \n",
    "                                                                title=\"Count of employee's left by joining dates\")"
   ]
  },
  {
   "cell_type": "markdown",
   "metadata": {
    "id": "CIAF-rMokIu2"
   },
   "source": [
    "## Observation: \n",
    "- **Most of the people left the company in the year 2012.**"
   ]
  },
  {
   "cell_type": "code",
   "execution_count": null,
   "metadata": {
    "id": "ty2_vidjkIu2",
    "outputId": "1d4b7574-1926-40d3-cb52-20050325f4db"
   },
   "outputs": [
    {
     "data": {
      "application/vnd.plotly.v1+json": {
       "config": {
        "linkText": "Export to plot.ly",
        "plotlyServerURL": "https://plot.ly",
        "showLink": true
       },
       "data": [
        {
         "marker": {
          "color": "rgba(255, 153, 51, 0.6)",
          "line": {
           "color": "rgba(255, 153, 51, 1.0)",
           "width": 1
          }
         },
         "name": "Designation",
         "orientation": "v",
         "text": "",
         "type": "bar",
         "uid": "623bcf82-d97d-4dbb-a974-240682bade4c",
         "x": [
          "Junior",
          "VP",
          "Senior",
          "MD",
          "EVP"
         ],
         "y": [
          10,
          9,
          5,
          2,
          1
         ]
        }
       ],
       "layout": {
        "height": 500,
        "legend": {
         "bgcolor": "#F5F6F9",
         "font": {
          "color": "#4D5663"
         }
        },
        "paper_bgcolor": "#F5F6F9",
        "plot_bgcolor": "#F5F6F9",
        "title": {
         "font": {
          "color": "#4D5663"
         },
         "text": "Counts of employee's left with designation roles"
        },
        "width": 600,
        "xaxis": {
         "autorange": true,
         "gridcolor": "#E1E5ED",
         "range": [
          -0.5,
          4.5
         ],
         "showgrid": true,
         "tickfont": {
          "color": "#4D5663"
         },
         "title": {
          "font": {
           "color": "#4D5663"
          },
          "text": ""
         },
         "type": "category",
         "zerolinecolor": "#E1E5ED"
        },
        "yaxis": {
         "autorange": true,
         "gridcolor": "#E1E5ED",
         "range": [
          0,
          10.526315789473685
         ],
         "showgrid": true,
         "tickfont": {
          "color": "#4D5663"
         },
         "title": {
          "font": {
           "color": "#4D5663"
          },
          "text": "Count of the employee's left"
         },
         "type": "linear",
         "zerolinecolor": "#E1E5ED"
        }
       }
      },
      "image/png": "[encoded data removed]",
      "text/html": [
       "<div>\n",
       "        \n",
       "        \n",
       "            <div id=\"a0b55aac-461b-46fd-9073-0db714378cdc\" class=\"plotly-graph-div\" style=\"height:500px; width:600px;\"></div>\n",
       "            <script type=\"text/javascript\">\n",
       "                require([\"plotly\"], function(Plotly) {\n",
       "                    window.PLOTLYENV=window.PLOTLYENV || {};\n",
       "                    window.PLOTLYENV.BASE_URL='https://plot.ly';\n",
       "                    \n",
       "                if (document.getElementById(\"a0b55aac-461b-46fd-9073-0db714378cdc\")) {\n",
       "                    Plotly.newPlot(\n",
       "                        'a0b55aac-461b-46fd-9073-0db714378cdc',\n",
       "                        [{\"marker\": {\"color\": \"rgba(255, 153, 51, 0.6)\", \"line\": {\"color\": \"rgba(255, 153, 51, 1.0)\", \"width\": 1}}, \"name\": \"Designation\", \"orientation\": \"v\", \"text\": \"\", \"type\": \"bar\", \"uid\": \"623bcf82-d97d-4dbb-a974-240682bade4c\", \"x\": [\"Junior\", \"VP\", \"Senior\", \"MD\", \"EVP\"], \"y\": [10, 9, 5, 2, 1]}],\n",
       "                        {\"height\": 500, \"legend\": {\"bgcolor\": \"#F5F6F9\", \"font\": {\"color\": \"#4D5663\"}}, \"paper_bgcolor\": \"#F5F6F9\", \"plot_bgcolor\": \"#F5F6F9\", \"title\": {\"font\": {\"color\": \"#4D5663\"}, \"text\": \"Counts of employee's left with designation roles\"}, \"width\": 600, \"xaxis\": {\"gridcolor\": \"#E1E5ED\", \"showgrid\": true, \"tickfont\": {\"color\": \"#4D5663\"}, \"title\": {\"font\": {\"color\": \"#4D5663\"}, \"text\": \"\"}, \"zerolinecolor\": \"#E1E5ED\"}, \"yaxis\": {\"gridcolor\": \"#E1E5ED\", \"showgrid\": true, \"tickfont\": {\"color\": \"#4D5663\"}, \"title\": {\"font\": {\"color\": \"#4D5663\"}, \"text\": \"Count of the employee's left\"}, \"zerolinecolor\": \"#E1E5ED\"}},\n",
       "                        {\"showLink\": true, \"linkText\": \"Export to plot.ly\", \"plotlyServerURL\": \"https://plot.ly\", \"responsive\": true}\n",
       "                    ).then(function(){\n",
       "                            \n",
       "var gd = document.getElementById('a0b55aac-461b-46fd-9073-0db714378cdc');\n",
       "var x = new MutationObserver(function (mutations, observer) {{\n",
       "        var display = window.getComputedStyle(gd).display;\n",
       "        if (!display || display === 'none') {{\n",
       "            console.log([gd, 'removed!']);\n",
       "            Plotly.purge(gd);\n",
       "            observer.disconnect();\n",
       "        }}\n",
       "}});\n",
       "\n",
       "// Listen for the removal of the full notebook cells\n",
       "var notebookContainer = gd.closest('#notebook-container');\n",
       "if (notebookContainer) {{\n",
       "    x.observe(notebookContainer, {childList: true});\n",
       "}}\n",
       "\n",
       "// Listen for the clearing of the current output cell\n",
       "var outputEl = gd.closest('.output');\n",
       "if (outputEl) {{\n",
       "    x.observe(outputEl, {childList: true});\n",
       "}}\n",
       "\n",
       "                        })\n",
       "                };\n",
       "                });\n",
       "            </script>\n",
       "        </div>"
      ]
     },
     "metadata": {},
     "output_type": "display_data"
    }
   ],
   "source": [
    "#let's see the designations of the people leaving the company. \n",
    "train[train.Left_Company==1.0].Designation.value_counts().iplot(kind='bar', dimensions=(600,500), \n",
    "                                                                yTitle=\"Count of the employee's left\",\n",
    "                                                               title=\"Counts of employee's left with designation roles\")"
   ]
  },
  {
   "cell_type": "markdown",
   "metadata": {
    "id": "aJYMO0FvkIu2"
   },
   "source": [
    "## Observations:\n",
    "- **Most of the people leaving are of Designation Junior, VP, Senior.**"
   ]
  },
  {
   "cell_type": "code",
   "execution_count": null,
   "metadata": {
    "id": "adYNLpe9kIu2",
    "outputId": "d99e83f4-8d0c-4294-eb37-f783edd0b153"
   },
   "outputs": [
    {
     "name": "stdout",
     "output_type": "stream",
     "text": [
      "Count's of employees leaving by doing no of projects: \n",
      "2    20\n",
      "6     2\n",
      "4     2\n",
      "3     2\n",
      "5     1\n",
      "Name: NoOfProjects, dtype: int64\n",
      "------------------------------------------------------------------------------------------------\n"
     ]
    },
    {
     "data": {
      "application/vnd.plotly.v1+json": {
       "config": {
        "linkText": "Export to plot.ly",
        "plotlyServerURL": "https://plot.ly",
        "showLink": true
       },
       "data": [
        {
         "marker": {
          "color": "rgba(255, 153, 51, 0.6)",
          "line": {
           "color": "rgba(255, 153, 51, 1.0)",
           "width": 1
          }
         },
         "name": "NoOfProjects",
         "orientation": "v",
         "text": "",
         "type": "bar",
         "uid": "d4067852-8228-4a63-9132-fba14ce885dc",
         "x": [
          2,
          6,
          4,
          3,
          5
         ],
         "y": [
          20,
          2,
          2,
          2,
          1
         ]
        }
       ],
       "layout": {
        "height": 500,
        "legend": {
         "bgcolor": "#F5F6F9",
         "font": {
          "color": "#4D5663"
         }
        },
        "paper_bgcolor": "#F5F6F9",
        "plot_bgcolor": "#F5F6F9",
        "title": {
         "font": {
          "color": "#4D5663"
         },
         "text": "Count's of projects done by left Employee's"
        },
        "width": 600,
        "xaxis": {
         "autorange": true,
         "gridcolor": "#E1E5ED",
         "range": [
          1.5,
          6.5
         ],
         "showgrid": true,
         "tickfont": {
          "color": "#4D5663"
         },
         "title": {
          "font": {
           "color": "#4D5663"
          },
          "text": "No of projects"
         },
         "type": "linear",
         "zerolinecolor": "#E1E5ED"
        },
        "yaxis": {
         "autorange": true,
         "gridcolor": "#E1E5ED",
         "range": [
          0,
          21.05263157894737
         ],
         "showgrid": true,
         "tickfont": {
          "color": "#4D5663"
         },
         "title": {
          "font": {
           "color": "#4D5663"
          },
          "text": "Counts of Employee's leaving"
         },
         "type": "linear",
         "zerolinecolor": "#E1E5ED"
        }
       }
      },
      "image/png": "[encoded data removed]",
      "text/html": [
       "<div>\n",
       "        \n",
       "        \n",
       "            <div id=\"e372a71f-c167-4e30-ad5b-5a7691b4c461\" class=\"plotly-graph-div\" style=\"height:500px; width:600px;\"></div>\n",
       "            <script type=\"text/javascript\">\n",
       "                require([\"plotly\"], function(Plotly) {\n",
       "                    window.PLOTLYENV=window.PLOTLYENV || {};\n",
       "                    window.PLOTLYENV.BASE_URL='https://plot.ly';\n",
       "                    \n",
       "                if (document.getElementById(\"e372a71f-c167-4e30-ad5b-5a7691b4c461\")) {\n",
       "                    Plotly.newPlot(\n",
       "                        'e372a71f-c167-4e30-ad5b-5a7691b4c461',\n",
       "                        [{\"marker\": {\"color\": \"rgba(255, 153, 51, 0.6)\", \"line\": {\"color\": \"rgba(255, 153, 51, 1.0)\", \"width\": 1}}, \"name\": \"NoOfProjects\", \"orientation\": \"v\", \"text\": \"\", \"type\": \"bar\", \"uid\": \"d4067852-8228-4a63-9132-fba14ce885dc\", \"x\": [2, 6, 4, 3, 5], \"y\": [20, 2, 2, 2, 1]}],\n",
       "                        {\"height\": 500, \"legend\": {\"bgcolor\": \"#F5F6F9\", \"font\": {\"color\": \"#4D5663\"}}, \"paper_bgcolor\": \"#F5F6F9\", \"plot_bgcolor\": \"#F5F6F9\", \"title\": {\"font\": {\"color\": \"#4D5663\"}, \"text\": \"Count's of projects done by left Employee's\"}, \"width\": 600, \"xaxis\": {\"gridcolor\": \"#E1E5ED\", \"showgrid\": true, \"tickfont\": {\"color\": \"#4D5663\"}, \"title\": {\"font\": {\"color\": \"#4D5663\"}, \"text\": \"No of projects\"}, \"zerolinecolor\": \"#E1E5ED\"}, \"yaxis\": {\"gridcolor\": \"#E1E5ED\", \"showgrid\": true, \"tickfont\": {\"color\": \"#4D5663\"}, \"title\": {\"font\": {\"color\": \"#4D5663\"}, \"text\": \"Counts of Employee's leaving\"}, \"zerolinecolor\": \"#E1E5ED\"}},\n",
       "                        {\"showLink\": true, \"linkText\": \"Export to plot.ly\", \"plotlyServerURL\": \"https://plot.ly\", \"responsive\": true}\n",
       "                    ).then(function(){\n",
       "                            \n",
       "var gd = document.getElementById('e372a71f-c167-4e30-ad5b-5a7691b4c461');\n",
       "var x = new MutationObserver(function (mutations, observer) {{\n",
       "        var display = window.getComputedStyle(gd).display;\n",
       "        if (!display || display === 'none') {{\n",
       "            console.log([gd, 'removed!']);\n",
       "            Plotly.purge(gd);\n",
       "            observer.disconnect();\n",
       "        }}\n",
       "}});\n",
       "\n",
       "// Listen for the removal of the full notebook cells\n",
       "var notebookContainer = gd.closest('#notebook-container');\n",
       "if (notebookContainer) {{\n",
       "    x.observe(notebookContainer, {childList: true});\n",
       "}}\n",
       "\n",
       "// Listen for the clearing of the current output cell\n",
       "var outputEl = gd.closest('.output');\n",
       "if (outputEl) {{\n",
       "    x.observe(outputEl, {childList: true});\n",
       "}}\n",
       "\n",
       "                        })\n",
       "                };\n",
       "                });\n",
       "            </script>\n",
       "        </div>"
      ]
     },
     "metadata": {},
     "output_type": "display_data"
    }
   ],
   "source": [
    "# No Of Projects vs the people left the company \n",
    "#value count's of employees leaving by doing no of projects\n",
    "\n",
    "print(\"Count's of employees leaving by doing no of projects: \")\n",
    "print(train[train.Left_Company==1.0].NoOfProjects.value_counts())\n",
    "print(\"------------------------------------------------------------------------------------------------\")\n",
    "train[train.Left_Company==1.0].NoOfProjects.value_counts().iplot(kind='bar', dimensions=(600,500), \n",
    "                                                                yTitle=\"Counts of Employee's leaving\",\n",
    "                                                                 xTitle=\"No of projects\",\n",
    "                                                               title=\"Count's of projects done by left Employee's\")"
   ]
  },
  {
   "cell_type": "markdown",
   "metadata": {
    "id": "O08VSEFUkIu2"
   },
   "source": [
    "## Onservations:\n",
    "- **Employee's who are leaving have done only two projects**"
   ]
  },
  {
   "cell_type": "code",
   "execution_count": null,
   "metadata": {
    "id": "u64D765dkIu3",
    "outputId": "f6186924-9a45-492f-9ed8-007d313cef23"
   },
   "outputs": [
    {
     "name": "stdout",
     "output_type": "stream",
     "text": [
      "Count's of employees leaving by Gender: \n",
      "1    22\n",
      "0     5\n",
      "Name: Sex, dtype: int64\n",
      "------------------------------------------------------------------------------------------------\n"
     ]
    },
    {
     "data": {
      "application/vnd.plotly.v1+json": {
       "config": {
        "linkText": "Export to plot.ly",
        "plotlyServerURL": "https://plot.ly",
        "showLink": true
       },
       "data": [
        {
         "marker": {
          "color": "rgba(255, 153, 51, 0.6)",
          "line": {
           "color": "rgba(255, 153, 51, 1.0)",
           "width": 1
          }
         },
         "name": "Sex",
         "orientation": "v",
         "text": "",
         "type": "bar",
         "uid": "98b03e9b-0c41-43f1-b520-2c5b81706b51",
         "x": [
          1,
          0
         ],
         "y": [
          22,
          5
         ]
        }
       ],
       "layout": {
        "height": 500,
        "legend": {
         "bgcolor": "#F5F6F9",
         "font": {
          "color": "#4D5663"
         }
        },
        "paper_bgcolor": "#F5F6F9",
        "plot_bgcolor": "#F5F6F9",
        "title": {
         "font": {
          "color": "#4D5663"
         },
         "text": "Count of employee's left by Gender"
        },
        "width": 400,
        "xaxis": {
         "autorange": true,
         "gridcolor": "#E1E5ED",
         "range": [
          -0.5,
          1.5
         ],
         "showgrid": true,
         "tickfont": {
          "color": "#4D5663"
         },
         "title": {
          "font": {
           "color": "#4D5663"
          },
          "text": "Gender of employee - Male=1, Female=0. "
         },
         "type": "linear",
         "zerolinecolor": "#E1E5ED"
        },
        "yaxis": {
         "autorange": true,
         "gridcolor": "#E1E5ED",
         "range": [
          0,
          23.157894736842106
         ],
         "showgrid": true,
         "tickfont": {
          "color": "#4D5663"
         },
         "title": {
          "font": {
           "color": "#4D5663"
          },
          "text": "Counts of Employee's leaving"
         },
         "type": "linear",
         "zerolinecolor": "#E1E5ED"
        }
       }
      },
      "image/png": "[encoded data removed]",
      "text/html": [
       "<div>\n",
       "        \n",
       "        \n",
       "            <div id=\"6e32ced4-500a-4a00-9993-b7c59299f9fc\" class=\"plotly-graph-div\" style=\"height:500px; width:400px;\"></div>\n",
       "            <script type=\"text/javascript\">\n",
       "                require([\"plotly\"], function(Plotly) {\n",
       "                    window.PLOTLYENV=window.PLOTLYENV || {};\n",
       "                    window.PLOTLYENV.BASE_URL='https://plot.ly';\n",
       "                    \n",
       "                if (document.getElementById(\"6e32ced4-500a-4a00-9993-b7c59299f9fc\")) {\n",
       "                    Plotly.newPlot(\n",
       "                        '6e32ced4-500a-4a00-9993-b7c59299f9fc',\n",
       "                        [{\"marker\": {\"color\": \"rgba(255, 153, 51, 0.6)\", \"line\": {\"color\": \"rgba(255, 153, 51, 1.0)\", \"width\": 1}}, \"name\": \"Sex\", \"orientation\": \"v\", \"text\": \"\", \"type\": \"bar\", \"uid\": \"98b03e9b-0c41-43f1-b520-2c5b81706b51\", \"x\": [1, 0], \"y\": [22, 5]}],\n",
       "                        {\"height\": 500, \"legend\": {\"bgcolor\": \"#F5F6F9\", \"font\": {\"color\": \"#4D5663\"}}, \"paper_bgcolor\": \"#F5F6F9\", \"plot_bgcolor\": \"#F5F6F9\", \"title\": {\"font\": {\"color\": \"#4D5663\"}, \"text\": \"Count of employee's left by Gender\"}, \"width\": 400, \"xaxis\": {\"gridcolor\": \"#E1E5ED\", \"showgrid\": true, \"tickfont\": {\"color\": \"#4D5663\"}, \"title\": {\"font\": {\"color\": \"#4D5663\"}, \"text\": \"Gender of employee - Male=1, Female=0. \"}, \"zerolinecolor\": \"#E1E5ED\"}, \"yaxis\": {\"gridcolor\": \"#E1E5ED\", \"showgrid\": true, \"tickfont\": {\"color\": \"#4D5663\"}, \"title\": {\"font\": {\"color\": \"#4D5663\"}, \"text\": \"Counts of Employee's leaving\"}, \"zerolinecolor\": \"#E1E5ED\"}},\n",
       "                        {\"showLink\": true, \"linkText\": \"Export to plot.ly\", \"plotlyServerURL\": \"https://plot.ly\", \"responsive\": true}\n",
       "                    ).then(function(){\n",
       "                            \n",
       "var gd = document.getElementById('6e32ced4-500a-4a00-9993-b7c59299f9fc');\n",
       "var x = new MutationObserver(function (mutations, observer) {{\n",
       "        var display = window.getComputedStyle(gd).display;\n",
       "        if (!display || display === 'none') {{\n",
       "            console.log([gd, 'removed!']);\n",
       "            Plotly.purge(gd);\n",
       "            observer.disconnect();\n",
       "        }}\n",
       "}});\n",
       "\n",
       "// Listen for the removal of the full notebook cells\n",
       "var notebookContainer = gd.closest('#notebook-container');\n",
       "if (notebookContainer) {{\n",
       "    x.observe(notebookContainer, {childList: true});\n",
       "}}\n",
       "\n",
       "// Listen for the clearing of the current output cell\n",
       "var outputEl = gd.closest('.output');\n",
       "if (outputEl) {{\n",
       "    x.observe(outputEl, {childList: true});\n",
       "}}\n",
       "\n",
       "                        })\n",
       "                };\n",
       "                });\n",
       "            </script>\n",
       "        </div>"
      ]
     },
     "metadata": {},
     "output_type": "display_data"
    }
   ],
   "source": [
    "#Employee's left the company on gender \n",
    "\n",
    "#Count's of employees left by Gender: \n",
    "print(\"Count's of employees leaving by Gender: \")\n",
    "print(train[train.Left_Company==1.0].Sex.value_counts())\n",
    "print(\"------------------------------------------------------------------------------------------------\")\n",
    "train[train.Left_Company==1.0].Sex.value_counts().iplot(kind='bar', dimensions=(400,500), \n",
    "                                                                yTitle=\"Counts of Employee's leaving\",\n",
    "                                                                 xTitle=\"Gender of employee - Male=1, Female=0. \",\n",
    "                                                        title=\"Count of employee's left by Gender\")"
   ]
  },
  {
   "cell_type": "markdown",
   "metadata": {
    "id": "pDOiI7LWkIu3"
   },
   "source": [
    "## Observations: \n",
    "- **He must be fit for the company.**"
   ]
  },
  {
   "cell_type": "markdown",
   "metadata": {
    "id": "j6NuNoMBkIu3"
   },
   "source": [
    "##                                                    --------------------Tier(3)successfully completed -----------------------"
   ]
  },
  {
   "cell_type": "code",
   "execution_count": null,
   "metadata": {
    "id": "LHY1F1bWkIu3"
   },
   "outputs": [],
   "source": []
  }
 ],
 "metadata": {
  "colab": {
   "provenance": []
  },
  "kernelspec": {
   "display_name": "Python 3 (Intel® oneAPI 2023.1)",
   "language": "python",
   "name": "c009-intel_distribution_of_python_3_oneapi-beta05-python"
  },
  "language_info": {
   "codemirror_mode": {
    "name": "ipython",
    "version": 3
   },
   "file_extension": ".py",
   "mimetype": "text/x-python",
   "name": "python",
   "nbconvert_exporter": "python",
   "pygments_lexer": "ipython3",
   "version": "3.9.16"
  }
 },
 "nbformat": 4,
 "nbformat_minor": 4
}
