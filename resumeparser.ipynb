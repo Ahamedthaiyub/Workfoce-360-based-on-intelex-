{
 "cells": [
  {
   "cell_type": "code",
   "execution_count": null,
   "id": "46610623-8781-4b02-8abd-2f74d0eba2a4",
   "metadata": {},
   "outputs": [],
   "source": [
    "from typing import *\n",
    "import spacy\n",
    "import PyPDF2\n",
    "import json\n",
    "import os\n",
    "import docx\n",
    "import docx2pdf\n",
    "\n",
    "from core_modules.customNER.EntDet import EntityParse\n",
    "\n",
    "\n",
    "class ResumeParser:\n",
    "    \n",
    "    def __init__(self, path:str):\n",
    "        self.data = None\n",
    "        with open(path, \"r\", encoding='utf-8') as file:\n",
    "            resume_file = open(path, 'rb')\n",
    "\n",
    "            if path.endswith(\".pdf\"):\n",
    "                resume = PyPDF2.PdfReader(resume_file)\n",
    "\n",
    "                text = \"\"\n",
    "                for i in range(len(resume.pages)):\n",
    "                    # print(\"text: \", text, \"i: \", i)\n",
    "                    text += resume.pages[i].extract_text()\n",
    "\n",
    "                self.raw_data = text  \n",
    "                print(\"$$$$$$$$$$$$$$$$text: \", text)\n",
    "\n",
    "\n",
    "\n",
    "            elif (path.endswith(\".docx\") or path.enswith(\".doc\")):\n",
    "                print(\"hi daaaaaaa\")\n",
    "                # doc = docx.Document(path)\n",
    "                # text = \"\"\n",
    "                # for para in doc.paragraphs:\n",
    "                #     text += para.text\n",
    "\n",
    "                # print(\"$$$$$$$$$$$$$$$$text: \", text)\n",
    "\n",
    "                # self.raw_data = text\n",
    "\n",
    "                pdf = docx2pdf.convert(path)\n",
    "\n",
    "                resume = PyPDF2.PdfReader(pdf)\n",
    "\n",
    "                text = \"\"\n",
    "                for i in range(len(resume.pages)):\n",
    "                    # print(\"text: \", text, \"i: \", i)\n",
    "                    text += resume.pages[i].extract_text()\n",
    "                \n",
    "                self.raw_data = text\n",
    "                print(\"$$$$$$$$$$$$$$$$text: \", text)\n",
    "                \n",
    "        # self.nlp = spacy.load(\"en_core_web_lg\")\n",
    "        # self.nlp_ner = spacy.load(\"/home/satish/Documents/Next99/resume-extracter/core_modules/customNER/model-best\")\n",
    "        \n",
    "\n",
    "    def extractInfo(self):\n",
    "        \n",
    "        \n",
    "        # with open(\"result.json\", \"w\") as f:\n",
    "        #     json.dump(self.data, f)\n",
    "        \n",
    "        ner = EntityParse(self.raw_data)\n",
    "        \n",
    "        self.data = ner.parse()\n",
    "        \n",
    "        print(\"########NER RESULTS########\")\n",
    "        print(self.data)\n",
    "        print(\"###########################\")\n",
    "        return self.data\n",
    "\n",
    "# print(ResumeParser(\"G:\\\\Projects and Related\\\\Next99\\\\V1\\\\resume-extracter-main\\\\media\\\\JOHN JOHNSON.pdf\").extractInfo())\n",
    "\n",
    " \n",
    "\n"
   ]
  },
  {
   "cell_type": "code",
   "execution_count": null,
   "id": "78bc0db6-87e2-446f-819f-aef935be4986",
   "metadata": {},
   "outputs": [],
   "source": [
    "pip install PyPDF2"
   ]
  },
  {
   "cell_type": "code",
   "execution_count": 2,
   "id": "e4dc4018-c406-42c2-888a-735a46772226",
   "metadata": {},
   "outputs": [
    {
     "name": "stdout",
     "output_type": "stream",
     "text": [
      "Defaulting to user installation because normal site-packages is not writeable\n",
      "Collecting python-docx\n",
      "  Downloading python-docx-0.8.11.tar.gz (5.6 MB)\n",
      "\u001b[2K     \u001b[90m━━━━━━━━━━━━━━━━━━━━━━━━━━━━━━━━━━━━━━━━\u001b[0m \u001b[32m5.6/5.6 MB\u001b[0m \u001b[31m3.8 MB/s\u001b[0m eta \u001b[36m0:00:00\u001b[0m00:01\u001b[0m00:01\u001b[0m\n",
      "\u001b[?25h  Preparing metadata (setup.py) ... \u001b[?25ldone\n",
      "\u001b[?25hCollecting lxml>=2.3.2\n",
      "  Downloading lxml-4.9.2-cp39-cp39-manylinux_2_17_x86_64.manylinux2014_x86_64.manylinux_2_24_x86_64.whl (7.1 MB)\n",
      "\u001b[2K     \u001b[90m━━━━━━━━━━━━━━━━━━━━━━━━━━━━━━━━━━━━━━━━\u001b[0m \u001b[32m7.1/7.1 MB\u001b[0m \u001b[31m3.8 MB/s\u001b[0m eta \u001b[36m0:00:00\u001b[0m00:01\u001b[0m00:01\u001b[0m\n",
      "\u001b[?25hBuilding wheels for collected packages: python-docx\n",
      "  Building wheel for python-docx (setup.py) ... \u001b[?25ldone\n",
      "\u001b[?25h  Created wheel for python-docx: filename=python_docx-0.8.11-py3-none-any.whl size=184489 sha256=9ac2913b50b28d3ab1654071dd7cb65f8c1edc79accf3a2e71010b404618d714\n",
      "  Stored in directory: /home/u191324/.cache/pip/wheels/83/8b/7c/09ae60c42c7ba4ed2dddaf2b8b9186cb105255856d6ed3dba5\n",
      "Successfully built python-docx\n",
      "Installing collected packages: lxml, python-docx\n",
      "Successfully installed lxml-4.9.2 python-docx-0.8.11\n",
      "Note: you may need to restart the kernel to use updated packages.\n"
     ]
    }
   ],
   "source": [
    "pip install python-docx"
   ]
  },
  {
   "cell_type": "code",
   "execution_count": 4,
   "id": "3c23ed2c-e278-47c8-8c36-105bccd4d517",
   "metadata": {},
   "outputs": [
    {
     "name": "stdout",
     "output_type": "stream",
     "text": [
      "Defaulting to user installation because normal site-packages is not writeable\n",
      "Collecting docx2pdf\n",
      "  Downloading docx2pdf-0.1.8-py3-none-any.whl (6.7 kB)\n",
      "Requirement already satisfied: tqdm>=4.41.0 in /glob/development-tools/versions/oneapi/2023.0.1/oneapi/intelpython/python3.9/lib/python3.9/site-packages (from docx2pdf) (4.64.0)\n",
      "Installing collected packages: docx2pdf\n",
      "Successfully installed docx2pdf-0.1.8\n",
      "Note: you may need to restart the kernel to use updated packages.\n"
     ]
    }
   ],
   "source": [
    "pip install docx2pdf"
   ]
  },
  {
   "cell_type": "markdown",
   "id": "8b2aba51-5419-4341-bdc4-80f13fc68e72",
   "metadata": {},
   "source": [
    "## (ResumeParser(\"G:\\\\Projects and Related\\\\Next99\\\\V1\\\\resume-extracter-main\\\\media\\\\JOHN JOHNSON.pdf\").extractInfo())"
   ]
  },
  {
   "cell_type": "code",
   "execution_count": null,
   "id": "4cd97bbf-3f6e-4295-9d9b-e2affb685822",
   "metadata": {},
   "outputs": [],
   "source": []
  }
 ],
 "metadata": {
  "kernelspec": {
   "display_name": "Python 3 (Intel® oneAPI 2023.0)",
   "language": "python",
   "name": "c009-intel_distribution_of_python_3_oneapi-beta05-python"
  },
  "language_info": {
   "codemirror_mode": {
    "name": "ipython",
    "version": 3
   },
   "file_extension": ".py",
   "mimetype": "text/x-python",
   "name": "python",
   "nbconvert_exporter": "python",
   "pygments_lexer": "ipython3",
   "version": "3.9.15"
  }
 },
 "nbformat": 4,
 "nbformat_minor": 5
}
